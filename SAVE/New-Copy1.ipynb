{
 "cells": [
  {
   "cell_type": "markdown",
   "id": "314482b2",
   "metadata": {},
   "source": [
    "# Import"
   ]
  },
  {
   "cell_type": "raw",
   "id": "6ce129e7",
   "metadata": {},
   "source": [
    "L = list(range(1000000))\n",
    "dfx = pd.DataFrame(L)\n",
    "%%timeit\n",
    "L[100]\n",
    "63.1 ns ± 1.32 ns per loop (mean ± std. dev. of 7 runs, 10000000 loops each)\n",
    "%%timeit\n",
    "dfx.iloc[100]\n",
    "83.3 µs ± 2.19 µs per loop (mean ± std. dev. of 7 runs, 10000 loops each)"
   ]
  },
  {
   "cell_type": "code",
   "execution_count": null,
   "id": "cdb5d5ec",
   "metadata": {},
   "outputs": [],
   "source": [
    "%load_ext autoreload\n",
    "%autoreload 2\n",
    "\n",
    "import importlib\n",
    "import numpy as np\n",
    "import math\n",
    "import itertools \n",
    "import pandas as pd\n",
    "import numpy as np\n",
    "import io\n",
    "import msoffcrypto\n",
    "from sklearn.metrics import r2_score\n",
    "import openpyxl\n",
    "import plotly.express as px\n",
    "from IPython.core.interactiveshell import InteractiveShell\n",
    "InteractiveShell.ast_node_interactivity = \"all\"\n",
    "import plotly\n",
    "import matplotlib.pyplot as plt\n",
    "import plotly.graph_objects as go\n",
    "import streamlit as st\n",
    "import json\n",
    "from math import factorial as fact\n",
    "from IPython.display import Markdown, display\n",
    "import networkx as nx\n",
    "import requests\n",
    "import toml\n",
    "import sys, os\n",
    "import collections\n",
    "from types import SimpleNamespace\n",
    "import copy\n",
    "\n",
    "%matplotlib inline \n",
    "%config Completer.use_jedi = False\n",
    "\n",
    "from IPython.display import display, HTML\n",
    "display(HTML(\"<style>.container { width:70% !important; }</style>\"))\n",
    "\n",
    "from utils import *"
   ]
  },
  {
   "cell_type": "markdown",
   "id": "96ba4560",
   "metadata": {},
   "source": [
    "# eval indiv"
   ]
  },
  {
   "cell_type": "code",
   "execution_count": null,
   "id": "63c6c802",
   "metadata": {},
   "outputs": [],
   "source": [
    "file = {'SheetMapName' : 'map', 'uploaded_file' : None}\n",
    "algo = load_data_brut(file)\n",
    "algo.Group = [0,2]"
   ]
  },
  {
   "cell_type": "code",
   "execution_count": null,
   "id": "28f6932e",
   "metadata": {},
   "outputs": [],
   "source": [
    "algo.dfslot"
   ]
  },
  {
   "cell_type": "code",
   "execution_count": null,
   "id": "c6b67e20",
   "metadata": {},
   "outputs": [],
   "source": [
    "keydrop= [\"confs\", \"dfslot\",\"dfline\",\"indivs\",\"df\",'A0','DataCategorie']\n",
    "d = {k : v for k,v in vars(algo).items() if k not in keydrop}\n",
    "s = pd.Series(d).rename('Val').astype(str)\n",
    "s.index = s.index.astype(str)\n",
    "s"
   ]
  },
  {
   "cell_type": "code",
   "execution_count": null,
   "id": "0167c902",
   "metadata": {},
   "outputs": [],
   "source": [
    "Name = 'E1-C0,E1-C1,E1-C2,E1-C3,P1-E1'\n",
    "# Name  = 'E0-C1,E1-C0,E1-C2,E1-C3,P1-E0,P1-E1'\n",
    "indiv = Indiv_reverse(Name,algo) \n",
    "indiv"
   ]
  },
  {
   "cell_type": "code",
   "execution_count": null,
   "id": "784b1f27",
   "metadata": {},
   "outputs": [],
   "source": [
    "df = pd.read_excel('test.xlsx', sheet_name= 'Sheet{}'.format(5), header=0).set_index('case').T\n",
    "df"
   ]
  },
  {
   "cell_type": "markdown",
   "id": "140a4fc9",
   "metadata": {
    "heading_collapsed": true
   },
   "source": [
    "# Split save"
   ]
  },
  {
   "cell_type": "markdown",
   "id": "37da54e5",
   "metadata": {
    "heading_collapsed": true,
    "hidden": true
   },
   "source": [
    "## Combinatoire"
   ]
  },
  {
   "cell_type": "raw",
   "id": "8bf06ae5",
   "metadata": {
    "hidden": true
   },
   "source": [
    "a = np.array(list(itertools.product([0,1,2], repeat=3)))\n",
    "\n",
    "diff = np.diff(a)\n",
    "mask = ((np.abs(diff) <2).all(1)) & (a[:,0] == 0)\n",
    "mask = ((diff <2).all(1)) & (a[:,0] == 0)\n",
    "a[mask]"
   ]
  },
  {
   "cell_type": "raw",
   "id": "33db4240",
   "metadata": {
    "hidden": true
   },
   "source": [
    "%%time\n",
    "Size = 3\n",
    "List = list(range(Size))\n",
    "List\n",
    "a = np.array(list(itertools.product(List, repeat=Size)))\n",
    "\n",
    "mask = (a[:,0] == 0)\n",
    "for i in range(1,Size) :\n",
    "    mask = mask & (a[:,i] <= a[:,:i].max(1)+1)\n",
    "\n",
    "\n",
    "a = a[mask]\n",
    "len(a)"
   ]
  },
  {
   "cell_type": "code",
   "execution_count": null,
   "id": "c28d6c2e",
   "metadata": {
    "hidden": true
   },
   "outputs": [],
   "source": [
    "SplitDict = {}\n",
    "for Size in range(2,5):\n",
    "    List = list(range(Size))\n",
    "    a = np.array(list(itertools.product(List, repeat=Size)))\n",
    "    \n",
    "    mask = (a[:,0] == 0)\n",
    "    for i in range(1,Size) :\n",
    "        mask = mask & (a[:,i] <= a[:,:i].max(1)+1)\n",
    "    a = a[mask]   \n",
    "    \n",
    "    for i in range(len(a)):\n",
    "        s = a[i]\n",
    "        u, idx, counts = np.unique(s, return_index=True, return_counts  = True, axis = 0)\n",
    "        val = u[counts == 1]\n",
    "        s[np.isin(s,val)] = -1 \n",
    "        a[i] = s\n",
    "    SplitDict[Size] = a"
   ]
  },
  {
   "cell_type": "code",
   "execution_count": null,
   "id": "b7174412",
   "metadata": {
    "hidden": true
   },
   "outputs": [],
   "source": [
    "SplitDict"
   ]
  },
  {
   "cell_type": "code",
   "execution_count": null,
   "id": "8a35ded0",
   "metadata": {
    "hidden": true
   },
   "outputs": [],
   "source": [
    "Group  = [0,1,2,3]\n",
    "Egroup = indiv['Econnect'][1]\n",
    "Egroup = [e for e in Egroup if e in Group ]\n",
    "Size = len(Egroup)\n",
    "Size"
   ]
  },
  {
   "cell_type": "code",
   "execution_count": null,
   "id": "95301434",
   "metadata": {
    "hidden": true
   },
   "outputs": [],
   "source": [
    "ListIndivs = []\n",
    "for s in SplitDict[Size]: \n",
    "    d = collections.defaultdict(list)\n",
    "    for i in range(Size): \n",
    "        d[s[i]].append(Egroup[i])\n",
    "    d = dict(sorted(d.items())) \n",
    "    NewIndiv = copy.deepcopy(indiv)\n",
    "    NewIndiv['Egroup'] = Egroup\n",
    "    NewIndiv['Split'] = d\n",
    "    ListIndivs.append(NewIndiv)"
   ]
  },
  {
   "cell_type": "code",
   "execution_count": null,
   "id": "40330927",
   "metadata": {
    "hidden": true
   },
   "outputs": [],
   "source": [
    "ColSysteme = ['Clist','Name','dist_Connect','List_EtoC','List_PtoE']\n",
    "ColAlgo = ['CtoE','EtoP','Econnect','Elist','Ecount','Pconnect','Plist','Pcount']\n",
    "Col_drop = ColSysteme +ColAlgo\n",
    "pd.DataFrame(ListIndivs).drop(columns= Col_drop)"
   ]
  },
  {
   "cell_type": "markdown",
   "id": "99712e2e",
   "metadata": {
    "hidden": true
   },
   "source": [
    "## Calcul"
   ]
  },
  {
   "cell_type": "markdown",
   "id": "09a76c28",
   "metadata": {
    "heading_collapsed": true,
    "hidden": true
   },
   "source": [
    "### Func"
   ]
  },
  {
   "cell_type": "code",
   "execution_count": null,
   "id": "baed8f84",
   "metadata": {
    "hidden": true
   },
   "outputs": [],
   "source": [
    "def debit_2(algo, d_EtoC_list,d_PtoE,EClist, group = True, split = True):\n",
    "    # d_EtoC = Dict_dist['EtoC']\n",
    "    # d_PtoE = Dict_dist['PtoE']\n",
    "    p = [-5.16e-04, -1.54e-02, 4.87]\n",
    "    p = algo.Pvals\n",
    "    # p = [-6.61e-4,-0.0286,12.1]\n",
    "    E0 = 7.64e-04\n",
    "    coef_E  = np.ones(len(EClist)) * E0\n",
    "    # coef_E  = np.array([E0 if c in [0,3] else 0 for c in Clist])\n",
    "    # print(Clist , coef_E)\n",
    "    coef_C  = 0.036\n",
    "    coef_C  = [algo.Nvals[i] for i in EClist]\n",
    "    coef_C  = np.array(coef_C)\n",
    "    coef_d  = 2.35e-04    \n",
    "    \n",
    "    A = coef_E + d_EtoC_list * coef_d + coef_C \n",
    "    Z = ( A**-0.5).sum() if group else A**-0.5\n",
    "    As , Bs, Cs = p[0] - (coef_d * d_PtoE) - 1/(Z**2), p[1] , p[2]\n",
    "    delta = (Bs**2) - (4 * As * Cs)\n",
    "    Qt  = np.array((- Bs - delta**0.5)/(2*As))\n",
    "    Pt = np.array(Qt**2 / Z**2)\n",
    "    a0 = p[0] * (Qt**2) + p[1] * Qt + p[2] - Pt\n",
    "    Qi = (Pt / A)**0.5\n",
    "    Pi = coef_C * (Qi**2)\n",
    "    key = ['Qt','Pt','Qi','Pi']\n",
    "    val = [Qt, Pt, Qi, Pi]\n",
    "    val = [v.round(2) for v in val]\n",
    "    return dict(zip(key,val))"
   ]
  },
  {
   "cell_type": "code",
   "execution_count": null,
   "id": "b0fd8689",
   "metadata": {
    "hidden": true
   },
   "outputs": [],
   "source": [
    "def Calcul_Debit_2(algo ,indiv, group, split = None):\n",
    "    D = algo.Comb  \n",
    "    Group = algo.Group  \n",
    "    Clist = D['C']\n",
    "    Econnect = indiv['Econnect']\n",
    "    Pconnect = indiv['Pconnect']\n",
    "    EtoP = indiv['EtoP']\n",
    "    Pression = []\n",
    "    Debit = []\n",
    "\n",
    "    Cpression = {}\n",
    "    Cdebit = {}\n",
    "    grouped = False\n",
    "    split =  {0: [0], 1: [1, 2, 3]}\n",
    "    for i, (e,EClist) in enumerate(Econnect.items()):\n",
    "        p = EtoP[i]\n",
    "        name = 'P{}-E{}'.format(p,e)\n",
    "        VerifGroup = np.isin(Group,  EClist)\n",
    "        # EClistTotal = [EClist]\n",
    "        # if VerifGroup.all() & (len(Group) > 0):\n",
    "        EClistTotal = [[i for i in EClist if i in Group], [i for i in EClist if i not in Group]]          \n",
    "        grouped = True\n",
    "        for j,  EClist in enumerate(EClistTotal):\n",
    "            if j > 0 : grouped = False # bascule a No group apres le passage group \n",
    "            if len(EClist)>0: # bug avec calcul array\n",
    "                d_EtoC_list = np.array([algo.dist['E{}-C{}'.format(e,c)] for c in EClist])\n",
    "                d_PtoE = algo.dist['P{}-E{}'.format(p,e)]\n",
    "                res = debit_2(algo, d_EtoC_list,d_PtoE, EClist, grouped)\n",
    "\n",
    "                Debit = Debit + list(res['Qi'])\n",
    "                Pi = list(res['Pi'])\n",
    "                PressionConnect = dict(zip(EClist, Pi))\n",
    "                Cpression.update(PressionConnect)                \n",
    "                Qi = list(res['Qi'])\n",
    "                Cdebit.update(dict(zip(EClist, Qi)))\n",
    "\n",
    "                keys = ['i', 'j' ,'Clist','d_EtoC_list', 'd_PtoE', 'EClist', 'Group','grouped', 'EClistTotal', 'PressionConnect']\n",
    "                vals = [i, j ,Clist , d_EtoC_list, d_PtoE, EClist, Group,grouped, EClistTotal, PressionConnect]\n",
    "                print(str(dict(zip(keys,vals))))\n",
    "    PressionList = [Cpression[i] for i in D['C']]\n",
    "    DebitList    = [Cdebit[i] for i in D['C']]\n",
    "    # print(Cpression)\n",
    "    SumDebit = round(sum(Debit),1)   \n",
    "    keys = ['PressionList','DebitList','Debit']\n",
    "    vals = [PressionList, DebitList, SumDebit] \n",
    "    return dict(zip(keys,vals))"
   ]
  },
  {
   "cell_type": "code",
   "execution_count": null,
   "id": "0b979e54",
   "metadata": {
    "hidden": true
   },
   "outputs": [],
   "source": [
    "split = '0, (1,2) , (3, 4)'\n",
    "\n",
    "def Uncode_split(split):\n",
    "    n = 0\n",
    "    tosplit = False \n",
    "    d = collections.defaultdict(list)\n",
    "    for i in split: \n",
    "        if i == '(':\n",
    "            tosplit =  True\n",
    "            n+= 1\n",
    "        if i == ')': \n",
    "            tosplit =  False\n",
    "        if i.isdigit(): \n",
    "            i = int(i)\n",
    "            if tosplit: d[n].append(i)\n",
    "            else : d[0].append(i)\n",
    "    return d\n",
    "\n",
    "split = '0, (1,2, 3)'\n",
    "split = Uncode_split(split)\n",
    "split =  {0: [0], 1: [1, 2, 3]}"
   ]
  },
  {
   "cell_type": "markdown",
   "id": "60e5bdd4",
   "metadata": {
    "heading_collapsed": true,
    "hidden": true
   },
   "source": [
    "### Run"
   ]
  },
  {
   "cell_type": "code",
   "execution_count": null,
   "id": "8b2a1eee",
   "metadata": {
    "hidden": true
   },
   "outputs": [],
   "source": [
    "split = '0, (1,2, 3)'\n",
    "Uncode_split(split)"
   ]
  },
  {
   "cell_type": "code",
   "execution_count": null,
   "id": "e41ee881",
   "metadata": {
    "hidden": true
   },
   "outputs": [],
   "source": [
    "Nozzles = ['ramp', 'fixed', 'fixed', 'fixed']\n",
    "algo.Nozzles = Nozzles\n",
    "Nvals   = [algo.DataCategorie['Nozzle']['Values'][n]['a'] for n in Nozzles]\n",
    "algo.Nvals = dict(zip(Clist, Nvals))\n",
    "algo.Group  = [1,2]\n",
    "Calcul_Debit_2(algo ,indiv, group)"
   ]
  },
  {
   "cell_type": "code",
   "execution_count": null,
   "id": "9da15611",
   "metadata": {
    "hidden": true
   },
   "outputs": [],
   "source": [
    "indiv"
   ]
  },
  {
   "cell_type": "code",
   "execution_count": null,
   "id": "fb5bca33",
   "metadata": {
    "hidden": true
   },
   "outputs": [],
   "source": [
    "[2.2, 4.4, 4.5, 2.0]\n",
    "[36.3, 11.1, 11.1, 34.5]"
   ]
  },
  {
   "cell_type": "code",
   "execution_count": null,
   "id": "68c0eaae",
   "metadata": {
    "hidden": true
   },
   "outputs": [],
   "source": [
    "dc = {'i': 0, 'j': 0, 'Clist': [0, 1, 2, 3], 'd_EtoC_list': np.array([0.8 , 1.44, 0.48, 2.4 ]),\n",
    "      'd_PtoE': 0.48, 'EClist': [0, 1, 2, 3], 'Group': [0, 1, 2, 3], 'grouped': True,\n",
    "      'EClistTotal': [[0, 1, 2, 3], []], 'PressionConnect': {0: 1.47, 1: 2.22, 2: 2.24, 3: 2.21}}"
   ]
  },
  {
   "cell_type": "code",
   "execution_count": null,
   "id": "2c5c03df",
   "metadata": {
    "hidden": true
   },
   "outputs": [],
   "source": [
    "dc = {'i': 0, 'j': 0, 'Clist': [0, 1, 2, 3],\n",
    "      'd_EtoC_list': np.array([1.44, 0.48]), 'd_PtoE': 0.48, 'EClist': [1, 2], 'Group': [1, 2],\n",
    "      'grouped': True, 'EClistTotal': [[1, 2], [0, 3]], 'PressionConnect': {1: 4.12, 2: 4.15}}"
   ]
  },
  {
   "cell_type": "code",
   "execution_count": null,
   "id": "2f9a1fba",
   "metadata": {
    "hidden": true
   },
   "outputs": [],
   "source": [
    "# d_EtoC = Dict_dist['EtoC']\n",
    "# d_PtoE = Dict_dist['PtoE']\n",
    "\n",
    "d_EtoC_list = dc['d_EtoC_list']\n",
    "d_PtoE = dc['d_PtoE']\n",
    "EClist = dc['EClist']\n",
    "group = True\n",
    "\n",
    "p = [-5.16e-04, -1.54e-02, 4.87]\n",
    "p = algo.Pvals\n",
    "# p = [-6.61e-4,-0.0286,12.1]\n",
    "E0 = 7.64e-04\n",
    "coef_E  = np.ones(len(EClist)) * E0\n",
    "coef_E  = np.array([E0 if c in [0,3] else 0 for c in EClist])\n",
    "coef_E = 0\n",
    "# print(Clist , coef_E)\n",
    "coef_C  = 0.036\n",
    "coef_C  = [algo.Nvals[i] for i in EClist]\n",
    "coef_C  = np.array(coef_C)\n",
    "coef_d  = 2.35e-04    \n",
    "coef_E , coef_C , coef_d\n",
    "\n",
    "A = coef_E + d_EtoC_list * coef_d + coef_C \n",
    "Z = ( A**-0.5).sum() if group else A**-0.5\n",
    "# Z = A**-0.5\n",
    "\n",
    "As = p[0] - (coef_d * d_PtoE) - 1/(Z**2) - E0\n",
    "Bs = p[1]\n",
    "Cs = p[2]\n",
    "\n",
    "delta = (Bs**2) - (4 * As * Cs)\n",
    "Qt  = np.array((- Bs - delta**0.5)/(2*As))\n",
    "Pt = np.array(Qt**2 / Z**2)\n",
    "a0 = p[0] * (Qt**2) + p[1] * Qt + p[2] - Pt\n",
    "Qi = (Pt / A)**0.5\n",
    "Pi = coef_C * (Qi**2)\n",
    "key = ['Qt','Pt','Qi','Pi']\n",
    "val = [Qt, Pt, Qi, Pi]\n",
    "val = [v.round(2) for v in val]\n",
    "dict(zip(key,val))"
   ]
  },
  {
   "cell_type": "markdown",
   "id": "f7a5bb14",
   "metadata": {
    "heading_collapsed": true,
    "hidden": true
   },
   "source": [
    "## Test si multiple E slot "
   ]
  },
  {
   "cell_type": "code",
   "execution_count": null,
   "id": "f836f231",
   "metadata": {
    "hidden": true
   },
   "outputs": [],
   "source": [
    "D = algo.Comb  \n",
    "Group = algo.Group  \n",
    "Clist = D['C']\n",
    "Econnect = indiv['Econnect']\n",
    "\n",
    "Pconnect = indiv['Pconnect']\n",
    "EtoP = indiv['EtoP']\n",
    "Pression = []\n",
    "Debit = []\n",
    "# Data = {}\n",
    "# Pression_C = []\n",
    "# on loop sur chaque EV pour connect to C et faire calcul Pt Qt coté pompe et Pi Qi coté Capteur\n",
    "Cpression = {}\n",
    "Cdebit = {}\n",
    "grouped = False\n",
    "\n",
    "print(Group, Econnect)\n",
    "for i, (e,EClist) in enumerate(Econnect.items()):\n",
    "    p = EtoP[i]\n",
    "    name = 'P{}-E{}'.format(p,e)\n",
    "    VerifGroup = np.isin(Group,  EClist)\n",
    "    # EClistTotal = [EClist]\n",
    "    # if VerifGroup.all() & (len(Group) > 0):\n",
    "    EClistTotal = [[i for i in EClist if i in Group], [i for i in EClist if i not in Group]]          \n",
    "    grouped = True\n",
    "    for j,  EClist in enumerate(EClistTotal):\n",
    "        if j >0 : grouped = False # bascule a No group apres le passage group \n",
    "        if len(EClist)>0: # bug avec calcul array\n",
    "            print(i,j,e,EClist , grouped, EClist)\n",
    "            if grouped : Egroup = EClist"
   ]
  },
  {
   "cell_type": "code",
   "execution_count": null,
   "id": "45c7a0bf",
   "metadata": {
    "hidden": true
   },
   "outputs": [],
   "source": [
    "Esplit = collections.defaultdict(list)"
   ]
  },
  {
   "cell_type": "code",
   "execution_count": null,
   "id": "8783ffde",
   "metadata": {
    "hidden": true
   },
   "outputs": [],
   "source": [
    "Size = len(Egroup)\n",
    "Size\n",
    "s = SplitDict[Size][0]\n",
    "s\n",
    "\n",
    "d = collections.defaultdict(list)\n",
    "for i in range(Size): \n",
    "    d[s[i]].append(Egroup[i])\n",
    "d.keys()\n",
    "d"
   ]
  },
  {
   "cell_type": "markdown",
   "id": "3d69127c",
   "metadata": {
    "heading_collapsed": true
   },
   "source": [
    "# PF ANCIEN"
   ]
  },
  {
   "cell_type": "markdown",
   "id": "8cfa9c1e",
   "metadata": {
    "heading_collapsed": true,
    "hidden": true
   },
   "source": [
    "## func"
   ]
  },
  {
   "cell_type": "code",
   "execution_count": null,
   "id": "7fb89d78",
   "metadata": {
    "hidden": true
   },
   "outputs": [],
   "source": [
    "def Path1(A,start): \n",
    "    N = len(A)\n",
    "    v0 = np.array([-1,1,-N,N])\n",
    "    #     v0 = np.array([-1,1,-N,N, -N-1, -N+1,N+1,N-1])\n",
    "    Dim = len(v0)\n",
    "    e = 2\n",
    "    A[start] = e\n",
    "    a = A.reshape(-1)\n",
    "    v = np.where(a == e)  \n",
    "\n",
    "    while len(v) > 0 :\n",
    "        v = np.tile(v, (Dim, 1)).T + v0\n",
    "        v = v[np.where(a[v]==0)]\n",
    "        v = np.unique(v)        \n",
    "        e+=1\n",
    "        a[v]=e\n",
    "    return a.reshape((N,N))\n",
    "\n",
    "def Path2(A,start,goal):\n",
    "    N = len(A)\n",
    "    v0 = np.array([-1,1,-N,N])\n",
    "    #     v0 = np.array([-1,1,-N,N, -N-1, -N+1,N+1,N-1])\n",
    "    Dim = len(v0)\n",
    "    e1,e2  = A[start] , A[goal]\n",
    "    a = A.reshape(-1)\n",
    "    v = goal[1] + goal[0]*N\n",
    "    L  = [goal]\n",
    "    while e2 > 2:\n",
    "        v = v + v0\n",
    "        v[v > len(a)] = len(a)-1\n",
    "        v = v[np.where((a[v] < e2) & (a[v] >= 2))]\n",
    "        idx = a[v].argmin()\n",
    "        v = v[idx]\n",
    "        e2 = a[v]\n",
    "        pos = (int(np.ceil(v/N)-1),  v%N)\n",
    "        L.insert(0,pos)\n",
    "    return L"
   ]
  },
  {
   "cell_type": "markdown",
   "id": "ffeb35bf",
   "metadata": {
    "heading_collapsed": true,
    "hidden": true
   },
   "source": [
    "## Run"
   ]
  },
  {
   "cell_type": "code",
   "execution_count": null,
   "id": "70449dab",
   "metadata": {
    "hidden": true
   },
   "outputs": [],
   "source": [
    "file = 'VALEO_full.tmj'\n",
    "algo = load_data_brut(file)\n",
    "with open(file, 'r') as f:\n",
    "      data = json.load(f)\n",
    "        \n"
   ]
  },
  {
   "cell_type": "code",
   "execution_count": null,
   "id": "7c261c3f",
   "metadata": {
    "hidden": true
   },
   "outputs": [],
   "source": [
    "dfline  = pd.DataFrame(data['layers'][2]['objects']).drop(columns=['rotation','width','name','height','visible','id']).rename(columns = {'class' : 'Class'})        \n",
    "dfline"
   ]
  },
  {
   "cell_type": "code",
   "execution_count": null,
   "id": "21be17ac",
   "metadata": {
    "hidden": true
   },
   "outputs": [],
   "source": [
    "dfslot = algo.dfslot\n",
    "dfslot"
   ]
  },
  {
   "cell_type": "code",
   "execution_count": null,
   "id": "0e92c035",
   "metadata": {
    "hidden": true
   },
   "outputs": [],
   "source": [
    "DictPos = {}\n",
    "for idx , row in dfslot.iterrows():\n",
    "    x = row.x\n",
    "    y = row.y \n",
    "    ID = row.ID\n",
    "    Class = row.Class\n",
    "    DictPos[ID] = (y,x)\n",
    "DictPos      "
   ]
  },
  {
   "cell_type": "code",
   "execution_count": null,
   "id": "133e4f08",
   "metadata": {
    "hidden": true
   },
   "outputs": [],
   "source": [
    "A0 = algo.A0.copy()+1\n",
    "A0[A0 == 2] = 0\n",
    "for idx, row in algo.dfslot.iterrows():   \n",
    "    A0[row.y, row.x] = row.Color+5\n",
    "Ax = np.ones((10,10))\n",
    "Ax[:A0.shape[0],:A0.shape[1]] = A0"
   ]
  },
  {
   "cell_type": "code",
   "execution_count": null,
   "id": "cd22b4ee",
   "metadata": {
    "hidden": true
   },
   "outputs": [],
   "source": [
    "plt.imshow(Ax)"
   ]
  },
  {
   "cell_type": "code",
   "execution_count": null,
   "id": "79eadf62",
   "metadata": {
    "hidden": true
   },
   "outputs": [],
   "source": [
    "Comb = dfslot.groupby('Class').Name.unique().apply(list).apply(sorted).to_dict()\n",
    "Comb['C'] + Comb['P']"
   ]
  },
  {
   "cell_type": "code",
   "execution_count": null,
   "id": "8c00c5e3",
   "metadata": {
    "hidden": true
   },
   "outputs": [],
   "source": [
    "%%time\n",
    "e = 'E0'\n",
    "Path = []\n",
    "# fig, ax = plt.subplots(figsize = (4,4))\n",
    "# f = ax.imshow(Ax)\n",
    "d = {} \n",
    "for begin in ['E0','E1','E2']:\n",
    "    start = DictPos[begin]\n",
    "    A = Ax.copy()\n",
    "    A1 = Path1(A,start)\n",
    "    for end in ['C0','C1','C2','C3','P0','P1']: \n",
    "\n",
    "        goal = DictPos[end]\n",
    "         \n",
    "        \n",
    "        L = Path2(A1.copy() ,start,  goal)\n",
    "        L = np.array(L)\n",
    "        Path.append(L)\n",
    "\n",
    "        dist = np.abs(np.diff(L.T)).sum()\n",
    "        \n",
    "        if end[0] == 'C' :            ID = begin + '-' + end\n",
    "        else : ID = end + '-' + begin\n",
    "#         print(begin,start, end , goal)\n",
    "        d[ID] = dist\n"
   ]
  },
  {
   "cell_type": "code",
   "execution_count": null,
   "id": "d7c34485",
   "metadata": {
    "hidden": true
   },
   "outputs": [],
   "source": [
    "len(Path)\n",
    "fig, ax = plt.subplots(figsize = (8,8))\n",
    "masked = np.ma.masked_where(A0 <= 1, A0)\n",
    "# f = ax.imshow(A0)\n",
    "offset = np.linspace(-0.3,0.3,18)\n",
    "for i, p in enumerate(Path):\n",
    "        n = offset[i]\n",
    "#         n = 0\n",
    "        \n",
    "        f = ax.plot(p[:,1]+n,p[:,0]+n,'w', linewidth=1)\n",
    "f = ax.imshow(masked,alpha=1,cmap = 'Reds')\n",
    "f = ax.imshow(A0)"
   ]
  },
  {
   "cell_type": "code",
   "execution_count": null,
   "id": "c48a6e3f",
   "metadata": {
    "hidden": true
   },
   "outputs": [],
   "source": [
    "d"
   ]
  },
  {
   "cell_type": "code",
   "execution_count": null,
   "id": "4aba188d",
   "metadata": {
    "hidden": true
   },
   "outputs": [],
   "source": [
    "Save = [DictPos, d]"
   ]
  },
  {
   "cell_type": "code",
   "execution_count": null,
   "id": "c03e7bdb",
   "metadata": {
    "hidden": true
   },
   "outputs": [],
   "source": [
    "dfline = algo.dfline.copy()\n",
    "dfline['distPF'] = dfline.ID.map(d)-0.5\n",
    "dfline['distRatio'] = (dfline.distPF / dfline.dist).round(1)\n",
    "dfline[['dist','distPF']].corr()\n",
    "dfline"
   ]
  },
  {
   "cell_type": "markdown",
   "id": "e0d4c9d6",
   "metadata": {},
   "source": [
    "# PF avec load excel map "
   ]
  },
  {
   "cell_type": "code",
   "execution_count": null,
   "id": "9b70b3b8",
   "metadata": {},
   "outputs": [],
   "source": [
    "import matplotlib.patches as mpatch"
   ]
  },
  {
   "cell_type": "code",
   "execution_count": null,
   "id": "03989505",
   "metadata": {},
   "outputs": [],
   "source": [
    "dfmap = pd.read_excel('input.xlsx', sheet_name= 'map', index_col=0)\n",
    "dfmap"
   ]
  },
  {
   "cell_type": "code",
   "execution_count": null,
   "id": "b803f723",
   "metadata": {},
   "outputs": [],
   "source": [
    "SlotColor = {'C' : 10, 'E': 20, 'P' : 30}\n",
    "A0 = dfmap.values\n",
    "Size = max(A0.shape)\n",
    "Comb = collections.defaultdict(list)\n",
    "DictPos = {}\n",
    "slots = ['C','P','E']\n",
    "slotsN = dict(zip(slots,[0,0,0]))\n",
    "ListBegin = []\n",
    "ListEnd = []\n",
    "ListWall = (np.argwhere(A0[1:-1,1:-1] == 1)+1).tolist()\n",
    "\n",
    "for iy, ix in np.ndindex(A0.shape):\n",
    "    v = A0[iy, ix]\n",
    "    if type(v) == str: \n",
    "        slot = v[0]\n",
    "        n = slotsN[slot]\n",
    "        slotsN[slot] = n+1\n",
    "        v = slot + str(n)\n",
    "        A0[iy,ix] = SlotColor[slot]*20\n",
    "        #Comb[v[0]].append(int(v[1:]))\n",
    "        Comb[v[0]].append(int(n))\n",
    "        DictPos[v] = (iy,ix)\n",
    "        \n",
    "        if slot == \"E\" : ListBegin.append(v)\n",
    "        else : ListEnd.append(v)  \n",
    "            \n",
    "A0 = A0.astype(float)      \n",
    "Comb\n",
    "Ax = np.ones((Size,Size))\n",
    "Ax[:A0.shape[0],:A0.shape[1]] = A0\n",
    "DictPos\n",
    "ListBegin, ListEnd = sorted(ListBegin), sorted(ListEnd)\n",
    "ListBegin, ListEnd \n"
   ]
  },
  {
   "cell_type": "code",
   "execution_count": null,
   "id": "adecf440",
   "metadata": {},
   "outputs": [],
   "source": []
  },
  {
   "cell_type": "code",
   "execution_count": null,
   "id": "d6ac9ae8",
   "metadata": {},
   "outputs": [],
   "source": [
    "ListEnd = ['E1', 'E2','E0', 'E2','E0', 'E1']\n",
    "ListBegin, ListEnd "
   ]
  },
  {
   "cell_type": "code",
   "execution_count": null,
   "id": "0d94add1",
   "metadata": {},
   "outputs": [],
   "source": [
    "fig, ax = plt.subplots()\n",
    "# im = ax.imshow(Aplot, cmap=plt.get_cmap('Accent'))\n",
    "im = ax.imshow(Ax)\n",
    "fig.colorbar(im)"
   ]
  },
  {
   "cell_type": "code",
   "execution_count": null,
   "id": "e3796bc7",
   "metadata": {},
   "outputs": [],
   "source": [
    "%%time\n",
    "# e = 'E0'\n",
    "Path = {}\n",
    "d = {} \n",
    "DictLine = {}\n",
    "\n",
    "for begin in ListBegin:\n",
    "    start = DictPos[begin]\n",
    "    A = Ax.copy()\n",
    "    A1 = Path1(A,start)\n",
    "    for end in ListEnd: \n",
    "        goal = DictPos[end]        \n",
    "        path = Path2(A1.copy() ,start,  goal)\n",
    "        path = np.array(path)       \n",
    "        dist = np.abs(np.diff(path.T)).sum()\n",
    "        \n",
    "        if end[0] == 'C' : ID = begin + '-' + end\n",
    "        else : ID = end + '-' + begin\n",
    "        #print(begin,start, end , goal)\n",
    "#         Path.append(L)\n",
    "        DictLine[ID] = {'path' : path, 'dist' : dist}\n",
    "#         d[ID] = dist"
   ]
  },
  {
   "cell_type": "code",
   "execution_count": null,
   "id": "4a5a378e",
   "metadata": {},
   "outputs": [],
   "source": [
    "DictLine"
   ]
  },
  {
   "cell_type": "code",
   "execution_count": null,
   "id": "008ed38d",
   "metadata": {},
   "outputs": [],
   "source": [
    "DictDistEtoE = pd.DataFrame(DictLine).T.drop(columns = 'path').to_dict()['dist']"
   ]
  },
  {
   "cell_type": "code",
   "execution_count": null,
   "id": "fa141835",
   "metadata": {},
   "outputs": [],
   "source": [
    "LenPath = len(DictLine)\n",
    "Ymax , Xmax = A0.shape\n",
    "PlotColor = {'C' : \"#93c9ee\", 'E': '#a2ee93', 'P' : \"#c593ee\"}\n",
    "fig, ax = plt.subplots(figsize = (8,8))\n",
    "\n",
    "f = ax.add_patch(mpatch.Rectangle((0,0), Xmax-1, Ymax-1, color='#d8d8d8'))\n",
    "# masked = np.ma.masked_where(A0 <= 1, A0)\n",
    "offset = np.linspace(-0.35,0.35,LenPath)\n",
    "for i, (slot,data) in enumerate(DictLine.items()):\n",
    "    n = offset[i]  \n",
    "    p = data['path']\n",
    "    if slot[0] == 'E' : \n",
    "        f = ax.plot(p[:,1]+n,p[:,0]+n,\"#32cdff\", linewidth=1, zorder=1, linestyle ='-')\n",
    "    else : \n",
    "        f = ax.plot(p[:,1]+n,p[:,0]+n,\"#3286ff\", linewidth=2, zorder=1, linestyle ='-')\n",
    "\n",
    "style = dict(size=15, color='black')\n",
    "for slot, pos in DictPos.items(): \n",
    "    x , y = pos\n",
    "    Type = slot[0]\n",
    "    color = PlotColor[Type]\n",
    "    f = ax.add_patch(mpatch.Rectangle((y-0.4,x-0.4), 0.8, 0.8, color=color))\n",
    "    f = ax.add_patch(mpatch.Rectangle((y-0.4,x-0.4), 0.8, 0.8, color='black', fill = None))\n",
    "    f = ax.text(y, x+0.1,slot , **style,  ha='center', weight='bold') \n",
    "#     f = ax.add_patch(mpatch.Rectangle((y-0.5,x-0.5), 1, 1, color='green'))\n",
    "\n",
    "for x,y in ListWall: \n",
    "    f = ax.add_patch(mpatch.Rectangle((y-0.5,x-0.5), 1, 1, color='black'))\n",
    "f = ax.imshow(np.zeros(A0.shape), cmap='gray',vmin=0,vmax=1)\n"
   ]
  },
  {
   "cell_type": "code",
   "execution_count": null,
   "id": "342ef6ea",
   "metadata": {},
   "outputs": [],
   "source": [
    "d"
   ]
  },
  {
   "cell_type": "raw",
   "id": "a9677371",
   "metadata": {
    "collapsed": true
   },
   "source": [
    "dfline = algo.dfline.copy()\n",
    "dfline['distPF'] = dfline.ID.map(d)-0.5\n",
    "dfline['distRatio'] = (dfline.distPF / dfline.dist).round(1)\n",
    "dfline[['dist','distPF']].corr()\n",
    "dfline"
   ]
  },
  {
   "cell_type": "code",
   "execution_count": null,
   "id": "e8b1f734",
   "metadata": {},
   "outputs": [],
   "source": [
    "d"
   ]
  },
  {
   "cell_type": "code",
   "execution_count": null,
   "id": "60e8defd",
   "metadata": {},
   "outputs": [],
   "source": [
    "len(Path)\n",
    "fig, ax = plt.subplots(figsize = (8,8))\n",
    "masked = np.ma.masked_where(A0 <= 1, A0)\n",
    "# f = ax.imshow(A0)\n",
    "offset = np.linspace(-0.3,0.3,18)\n",
    "for i, p in enumerate(Path):\n",
    "        n = offset[i]\n",
    "#         n = 0\n",
    "        \n",
    "        f = ax.plot(p[:,1]+n,p[:,0]+n,'w', linewidth=1)\n",
    "# f = ax.imshow(masked,alpha=1,cmap = 'Reds')\n",
    "f = ax.imshow(A0)"
   ]
  },
  {
   "cell_type": "raw",
   "id": "2bcd2524",
   "metadata": {},
   "source": [
    "fig = px.imshow(A0, aspect='equal')\n",
    "f =  fig.update_layout(coloraxis_showscale=False)\n",
    "offset = np.linspace(-0.3,0.3,18)\n",
    "for i, p in enumerate(Path):\n",
    "        n = offset[i]\n",
    "        f = fig.add_trace(go.Scatter(\n",
    "            mode =\"lines\",\n",
    "            x = p[:,1]+n,y=p[:,0]+n,\n",
    "            line=dict(color='white', width=2),\n",
    "            showlegend=False\n",
    "            ))\n",
    "f = fig.update_layout(margin=dict(l=0,r=0, b=0,t=0, pad = 0))\n",
    "fig"
   ]
  },
  {
   "cell_type": "code",
   "execution_count": null,
   "id": "fba0ead2",
   "metadata": {},
   "outputs": [],
   "source": [
    "import matplotlib.colors as mcolors\n",
    "import matplotlib.patches as mpatch\n",
    "\n",
    "overlap = {name for name in mcolors.CSS4_COLORS\n",
    "           if f'xkcd:{name}' in mcolors.XKCD_COLORS}"
   ]
  },
  {
   "cell_type": "code",
   "execution_count": null,
   "id": "8b12f8b6",
   "metadata": {},
   "outputs": [],
   "source": [
    "overlap"
   ]
  },
  {
   "cell_type": "markdown",
   "id": "23469b29",
   "metadata": {},
   "source": [
    "# Run algo"
   ]
  },
  {
   "cell_type": "code",
   "execution_count": null,
   "id": "f0ee9d37",
   "metadata": {},
   "outputs": [],
   "source": [
    "file = {'SheetMapName' : 'map', 'uploaded_file' : \"input.xlsx\"}\n",
    "\n",
    "algo = load_data_brut(file)\n",
    "algo.df = indiv_init(algo, 10)"
   ]
  },
  {
   "cell_type": "code",
   "execution_count": null,
   "id": "1298f840",
   "metadata": {},
   "outputs": [],
   "source": [
    "algo.dfline"
   ]
  },
  {
   "cell_type": "raw",
   "id": "9c94dcf8",
   "metadata": {},
   "source": [
    "pd.read_excel('data.xlsx', sheet_name= 'confs',index_col=0)"
   ]
  },
  {
   "cell_type": "raw",
   "id": "f896f9a5",
   "metadata": {},
   "source": [
    "pd.read_excel('data.xlsx', sheet_name= 'map (4)',header = None)"
   ]
  },
  {
   "cell_type": "code",
   "execution_count": null,
   "id": "ca2c0536",
   "metadata": {},
   "outputs": [],
   "source": [
    "algo.GroupDict = {0: 1,\n",
    "                  1: 1, \n",
    "                  2: 0,\n",
    "                  3: 2}"
   ]
  },
  {
   "cell_type": "raw",
   "id": "1870de84",
   "metadata": {},
   "source": [
    "ListPompes = algo.DataCategorie['Pompe']['Unique']\n",
    "dict(zip(ListPompes, [10]*len(ListPompes)))"
   ]
  },
  {
   "cell_type": "code",
   "execution_count": null,
   "id": "d1816796",
   "metadata": {},
   "outputs": [],
   "source": [
    "algo.DataCategorie"
   ]
  },
  {
   "cell_type": "raw",
   "id": "12b03137",
   "metadata": {},
   "source": [
    "indiv = algo.indivs[0]\n",
    "indiv"
   ]
  },
  {
   "cell_type": "code",
   "execution_count": null,
   "id": "363648d8",
   "metadata": {},
   "outputs": [],
   "source": [
    "algo.PompesSelect = ['Pa','Pa']"
   ]
  },
  {
   "cell_type": "code",
   "execution_count": null,
   "id": "07747448",
   "metadata": {},
   "outputs": [],
   "source": [
    "Name =  'E0-C1,E1-C2,E2-C0,E2-C3,P0-E1,P1-E0,P1-E2'\n",
    "Name = \"E1-C0,E1-C1,E1-C2,E1-C3,P1-E1\"\n",
    "Name = \"E0-C0,E1-C2,E2-C1,E2-C3,P0-E1,P0-E2,P0-E0\"\n",
    "# Name = \"E0-C0,E0-C2,E1-C1,E1-C3,P0-E1,P0-E0\"\n",
    "indiv = Indiv_reverse(Name,algo) \n",
    "indiv"
   ]
  },
  {
   "cell_type": "code",
   "execution_count": null,
   "id": "bf6b77ed",
   "metadata": {},
   "outputs": [],
   "source": [
    "ElemsList = ['Clist','Elist','Plist']\n",
    "Elems = ['C','E','P']\n",
    "SelectSlot = []\n",
    "List_EtoC = indiv['List_EtoC']\n",
    "List_PtoE = indiv['List_PtoE']\n",
    "for n in range(3):\n",
    "    SelectSlot+= ['{}{}'.format(Elems[n],i) for i in indiv[ElemsList[n]]]\n",
    "SelectLine = indiv['Name']    \n",
    "fig = new_plot(algo, SelectLine, SelectSlot)"
   ]
  },
  {
   "cell_type": "code",
   "execution_count": null,
   "id": "01f2b30e",
   "metadata": {},
   "outputs": [],
   "source": [
    "distPerLine = np.array([algo.dist[line] for line in indiv['List_PtoE'][0]])\n",
    "distPerLine"
   ]
  },
  {
   "cell_type": "code",
   "execution_count": null,
   "id": "61d9dfea",
   "metadata": {},
   "outputs": [],
   "source": [
    "DictDistEtoE\n",
    "np.array([algo.dist[line] for line in indiv['List_PtoE'][0]])"
   ]
  },
  {
   "cell_type": "code",
   "execution_count": null,
   "id": "53a2fb19",
   "metadata": {},
   "outputs": [],
   "source": [
    "SelectLine = algo.DictLine.keys()\n",
    "SelectSlot = algo.DictPos.keys()"
   ]
  },
  {
   "cell_type": "code",
   "execution_count": null,
   "id": "138f6e1f",
   "metadata": {},
   "outputs": [],
   "source": [
    "SelectLine = algo.DictLine.keys()\n",
    "SelectSlot = algo.DictPos.keys()\n",
    "fig = new_plot(algo, SelectLine, SelectSlot)"
   ]
  },
  {
   "cell_type": "markdown",
   "id": "c9abc5ef",
   "metadata": {
    "heading_collapsed": true
   },
   "source": [
    "# P2"
   ]
  },
  {
   "cell_type": "code",
   "execution_count": null,
   "id": "86773359",
   "metadata": {
    "hidden": true
   },
   "outputs": [],
   "source": [
    "algo.GroupDict = {0: 1, 1: 1, 2: 0, 3: 2}"
   ]
  },
  {
   "cell_type": "code",
   "execution_count": null,
   "id": "136aa782",
   "metadata": {
    "hidden": true
   },
   "outputs": [],
   "source": [
    "Econnect = indiv['Econnect']\n",
    "Econnect\n"
   ]
  },
  {
   "cell_type": "markdown",
   "id": "9e511c7b",
   "metadata": {
    "heading_collapsed": true
   },
   "source": [
    "# Group"
   ]
  },
  {
   "cell_type": "code",
   "execution_count": null,
   "id": "5445dadc",
   "metadata": {
    "hidden": true
   },
   "outputs": [],
   "source": [
    "algo.GroupDict = {0: 1, 1: 1, 2: 0, 3: 2}"
   ]
  },
  {
   "cell_type": "code",
   "execution_count": null,
   "id": "e5537bc2",
   "metadata": {
    "hidden": true
   },
   "outputs": [],
   "source": [
    "D = algo.Comb  \n",
    "gr = algo.GroupDict \n",
    "Clist = D['C']\n",
    "Econnect = indiv['Econnect']\n",
    "Pconnect = indiv['Pconnect']\n",
    "EtoP = indiv['EtoP']\n",
    "Ptype = indiv['Ptype']\n",
    "Pression = []\n",
    "Debit = []\n",
    "Cpression = {}\n",
    "Cdebit = {}\n",
    "grouped = False\n",
    "gr"
   ]
  },
  {
   "cell_type": "code",
   "execution_count": null,
   "id": "6b89dcbd",
   "metadata": {
    "hidden": true
   },
   "outputs": [],
   "source": [
    "for i, (e,EClist) in enumerate(Econnect.items()):\n",
    "    p = EtoP[i]\n",
    "    pt = Ptype[i]\n",
    "    name = 'P{}-E{}'.format(p,e)\n",
    "    VerifGroup = np.isin(Group,  EClist)\n",
    "#     print(e,EClist, p,pt, Group)\n",
    "    d = collections.defaultdict(list)\n",
    "    for j, c in enumerate(EClist): \n",
    "        d[gr[c]].append(c)\n",
    "    for g,Clist in d.items():\n",
    "        if g == 0 : grouped = False\n",
    "        else :grouped = True\n",
    "#         print(g,Clist)\n",
    "        d_EtoC_list = np.array([algo.dist['E{}-C{}'.format(e,c)] for c in Clist])\n",
    "        d_PtoE = algo.dist['P{}-E{}'.format(p,e)]\n",
    "        res = debit(algo, d_EtoC_list,d_PtoE, Clist,pt, grouped, split = False)\n",
    "\n",
    "        Debit = Debit + list(res['Qi'])\n",
    "        Pi = list(res['Pi'])\n",
    "        PressionConnect = dict(zip(Clist, Pi))\n",
    "        Cpression.update(PressionConnect)\n",
    "\n",
    "        Qi = list(res['Qi'])\n",
    "        Cdebit.update(dict(zip(Clist, Qi)))\n",
    "\n",
    "        # Data[name] = res        \n",
    "        # Pression = Pression + list(res['Pi'])          \n",
    "        # print(dc,dp,Clist,list(res['Pi']))\n",
    "        # Pression_C = Pression_C + [PressionConnect]\n",
    "        print(i, j , g,Clist, grouped ,EClist,Clist, PressionConnect)\n",
    "    "
   ]
  },
  {
   "cell_type": "markdown",
   "id": "62d08b5f",
   "metadata": {
    "heading_collapsed": true
   },
   "source": [
    "# MAsse cout "
   ]
  },
  {
   "cell_type": "code",
   "execution_count": null,
   "id": "338dda0e",
   "metadata": {
    "hidden": true,
    "scrolled": true
   },
   "outputs": [],
   "source": [
    "indiv['Name']"
   ]
  },
  {
   "cell_type": "raw",
   "id": "d40247f5",
   "metadata": {
    "hidden": true
   },
   "source": [
    "distPerLine\n",
    "MassePerLine"
   ]
  },
  {
   "cell_type": "code",
   "execution_count": null,
   "id": "5a8f2fa0",
   "metadata": {
    "hidden": true
   },
   "outputs": [],
   "source": [
    "dmasse = {}\n",
    "dcout = {}\n",
    "# confs = algo.confs\n",
    "\n",
    "for Categorie in ['Pompe', 'Tuyau','EV']:\n",
    "    v = algo.DataCategorie[Categorie]['Values']\n",
    "    if Categorie == 'Pompe' : \n",
    "        Ptype = indiv['Ptype']\n",
    "        dmasse[Categorie] = int(sum([algo.DataCategorie[Categorie]['Values'][pt]['Masse'] for pt in Ptype]))\n",
    "        dcout[Categorie]  = int(sum([algo.DataCategorie[Categorie]['Values'][pt]['Cout']  for pt in Ptype]))\n",
    "    if Categorie == 'Tuyau' :\n",
    "#         Factor = indiv['dist']\n",
    "#         Name = algo.Tuyau\n",
    "        distPerLine = np.array([algo.dist[line] for line in indiv['Name']])\n",
    "        MassePerLine = np.array([v[algo.duriteType[line]]['Masse'] for line in indiv['Name']])\n",
    "        CoutPerLine  = np.array([v[algo.duriteType[line]]['Cout'] for line in indiv['Name']])\n",
    "        dmasse[Categorie] = (distPerLine * MassePerLine).sum()\n",
    "        dcout[Categorie] = (distPerLine * CoutPerLine).sum()\n",
    "    if Categorie == 'EV' :\n",
    "        Ccount = len(algo.Comb['C'])\n",
    "        Factor = Ccount\n",
    "        Name = algo.EV  \n",
    "        dmasse[Categorie] = int(sum([Factor * v[n]['Masse'] for n in Name]))\n",
    "        dcout[Categorie]  = int(sum([Factor * v[n]['Cout']  for n in Name]))\n",
    "        \n",
    "dmasse['Reservoir'] = 600\n",
    "dcout['Reservoir']  = 30  \n",
    "info = [dmasse, dcout]\n",
    "Masse = round(sum(dmasse.values()),2)\n",
    "Cout = round(sum(dcout.values()),2)\n",
    "info, { 'Masse' : Masse, 'Cout' : Cout}"
   ]
  },
  {
   "cell_type": "markdown",
   "id": "ea1faf1e",
   "metadata": {
    "heading_collapsed": true
   },
   "source": [
    "# Pompes"
   ]
  },
  {
   "cell_type": "code",
   "execution_count": null,
   "id": "70b8324b",
   "metadata": {
    "hidden": true
   },
   "outputs": [],
   "source": [
    "file = {'SheetMapName' : 'map', 'uploaded_file' : None}\n",
    "\n",
    "algo = load_data_brut(file)\n",
    "algo.df = indiv_init(algo, 10)"
   ]
  },
  {
   "cell_type": "code",
   "execution_count": null,
   "id": "5d7cf102",
   "metadata": {
    "hidden": true
   },
   "outputs": [],
   "source": [
    "ListPompes = algo.DataCategorie['Pompe']['Unique']\n",
    "dict(zip(ListPompes, [2]*len(ListPompes)))"
   ]
  },
  {
   "cell_type": "code",
   "execution_count": null,
   "id": "ae022ff5",
   "metadata": {
    "hidden": true
   },
   "outputs": [],
   "source": [
    "algo.DataCategorie"
   ]
  },
  {
   "cell_type": "raw",
   "id": "76a05527",
   "metadata": {
    "hidden": true
   },
   "source": [
    "indiv = algo.indivs[0]\n",
    "indiv"
   ]
  },
  {
   "cell_type": "code",
   "execution_count": null,
   "id": "7024b999",
   "metadata": {
    "hidden": true
   },
   "outputs": [],
   "source": [
    "Name =  'E0-C1,E1-C2,E2-C0,E2-C3,P0-E1,P1-E0,P1-E2'\n",
    "indiv = Indiv_reverse(Name,algo) \n",
    "indiv"
   ]
  },
  {
   "cell_type": "code",
   "execution_count": null,
   "id": "0ab9e6e0",
   "metadata": {
    "hidden": true
   },
   "outputs": [],
   "source": [
    "Plist = indiv['Plist']"
   ]
  },
  {
   "cell_type": "code",
   "execution_count": null,
   "id": "36ac3e2a",
   "metadata": {
    "hidden": true
   },
   "outputs": [],
   "source": [
    "EcMax = 2\n",
    "NewCtoE = np.array([0,1,2,0])\n",
    "NewCtoE\n",
    "Elist = np.unique(NewCtoE)\n",
    "Elist\n",
    "Ecount = len(Elist)\n",
    "Ecount > EcMax\n",
    "n = Ecount -  EcMax \n",
    "Edrop = np.random.choice(Elist,n, replace=False)\n",
    "Edrop\n",
    "Edispo = Elist[~np.isin(Elist, Edrop)]\n",
    "Edispo\n",
    "mask = np.isin(NewCtoE,Edrop)\n",
    "mask\n",
    "NewCtoE[mask] = np.random.choice(Edispo,mask.sum())\n",
    "NewCtoE"
   ]
  },
  {
   "cell_type": "code",
   "execution_count": null,
   "id": "257f68b9",
   "metadata": {
    "hidden": true
   },
   "outputs": [],
   "source": [
    "prime_numbers = [2, 3, 5, 9, 9, 11]\n",
    "prime_numbers.remove(9)\n",
    "prime_numbers"
   ]
  },
  {
   "cell_type": "code",
   "execution_count": null,
   "id": "a86f7e0e",
   "metadata": {
    "hidden": true
   },
   "outputs": [],
   "source": [
    "EcMax = 2\n",
    "NewCtoE = np.array([0,1,2,0])\n",
    "Elist = np.unique(NewCtoE)\n",
    "Ecount = len(Elist)\n",
    "n = Ecount -  EcMax \n",
    "if n > 0:\n",
    "    Edrop = np.random.choice(Elist,n, replace=False)\n",
    "    Edispo = Elist[~np.isin(Elist, Edrop)]\n",
    "    mask = np.isin(NewCtoE,Edrop)\n",
    "    NewCtoE[mask] = np.random.choice(Edispo,mask.sum())\n",
    "NewCtoE"
   ]
  },
  {
   "cell_type": "code",
   "execution_count": null,
   "id": "be9284cc",
   "metadata": {
    "hidden": true
   },
   "outputs": [],
   "source": [
    "mask = np.isin(NewCtoE,Edrop)\n",
    "mask\n",
    "NewCtoE[mask] = np.random.choice(Edispo,mask.sum())\n",
    "NewCtoE"
   ]
  },
  {
   "cell_type": "code",
   "execution_count": null,
   "id": "744d7a02",
   "metadata": {
    "hidden": true
   },
   "outputs": [],
   "source": [
    "idx = 0\n",
    "p = "
   ]
  },
  {
   "cell_type": "code",
   "execution_count": null,
   "id": "e4bfc484",
   "metadata": {
    "hidden": true
   },
   "outputs": [],
   "source": [
    "arr = range(5)\n",
    "arr\n",
    "# numbers below will never contain repeated numbers (replace=False)\n",
    "numbers = np.random.choice(arr, 3, replace=False) \n",
    "numbers"
   ]
  },
  {
   "cell_type": "code",
   "execution_count": null,
   "id": "77aad27f",
   "metadata": {
    "hidden": true
   },
   "outputs": [],
   "source": [
    "Calcul_Debit(algo ,indiv, split = False)"
   ]
  },
  {
   "cell_type": "markdown",
   "id": "c3d9f18b",
   "metadata": {
    "heading_collapsed": true,
    "hidden": true
   },
   "source": [
    "## plot"
   ]
  },
  {
   "cell_type": "code",
   "execution_count": null,
   "id": "e18cfb5c",
   "metadata": {
    "hidden": true
   },
   "outputs": [],
   "source": [
    "# SelectLine = algo.DictLine.keys()\n",
    "# SelectSlot = algo.DictPos.keys()\n",
    "\n",
    "row = algo.df.iloc[0]\n",
    "                        \n",
    "ElemsList = ['Clist','Elist','Plist']\n",
    "Elems = ['C','E','P']\n",
    "SelectSlot = []\n",
    "List_EtoC = row.List_EtoC\n",
    "List_PtoE = row.List_PtoE\n",
    "for n in range(3):\n",
    "    SelectSlot+= ['{}{}'.format(Elems[n],i) for i in row[ElemsList[n]]]\n",
    "SelectLine = row.Name\n",
    "\n",
    "fig = new_plot(algo, SelectLine, SelectSlot)"
   ]
  },
  {
   "cell_type": "code",
   "execution_count": null,
   "id": "61ea7fa0",
   "metadata": {
    "hidden": true
   },
   "outputs": [],
   "source": []
  }
 ],
 "metadata": {
  "kernelspec": {
   "display_name": "Python 3 (ipykernel)",
   "language": "python",
   "name": "python3"
  },
  "language_info": {
   "codemirror_mode": {
    "name": "ipython",
    "version": 3
   },
   "file_extension": ".py",
   "mimetype": "text/x-python",
   "name": "python",
   "nbconvert_exporter": "python",
   "pygments_lexer": "ipython3",
   "version": "3.9.12"
  },
  "toc": {
   "base_numbering": 1,
   "nav_menu": {},
   "number_sections": true,
   "sideBar": true,
   "skip_h1_title": false,
   "title_cell": "Table of Contents",
   "title_sidebar": "Contents",
   "toc_cell": false,
   "toc_position": {
    "height": "calc(100% - 180px)",
    "left": "10px",
    "top": "150px",
    "width": "165px"
   },
   "toc_section_display": true,
   "toc_window_display": true
  }
 },
 "nbformat": 4,
 "nbformat_minor": 5
}
