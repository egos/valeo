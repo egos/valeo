{
 "cells": [
  {
   "cell_type": "markdown",
   "id": "196dcdf1",
   "metadata": {},
   "source": [
    "# Import"
   ]
  },
  {
   "cell_type": "code",
   "execution_count": 24,
   "id": "7444384e",
   "metadata": {},
   "outputs": [
    {
     "name": "stdout",
     "output_type": "stream",
     "text": [
      "The autoreload extension is already loaded. To reload it, use:\n",
      "  %reload_ext autoreload\n"
     ]
    },
    {
     "data": {
      "text/html": [
       "<style>.container { width:80% !important; }</style>"
      ],
      "text/plain": [
       "<IPython.core.display.HTML object>"
      ]
     },
     "metadata": {},
     "output_type": "display_data"
    }
   ],
   "source": [
    "%load_ext autoreload\n",
    "%autoreload 2\n",
    "\n",
    "import importlib\n",
    "import numpy as np\n",
    "import math\n",
    "import itertools \n",
    "import pandas as pd\n",
    "import numpy as np\n",
    "import io\n",
    "import msoffcrypto\n",
    "from sklearn.metrics import r2_score\n",
    "import openpyxl\n",
    "import plotly.express as px\n",
    "from IPython.core.interactiveshell import InteractiveShell\n",
    "InteractiveShell.ast_node_interactivity = \"all\"\n",
    "import plotly\n",
    "import matplotlib.pyplot as plt\n",
    "import plotly.graph_objects as go\n",
    "import streamlit as st\n",
    "import json\n",
    "from math import factorial as fact\n",
    "from IPython.display import Markdown, display\n",
    "import networkx as nx\n",
    "import requests\n",
    "import toml\n",
    "import sys, os\n",
    "import collections\n",
    "from types import SimpleNamespace\n",
    "import copy\n",
    "import matplotlib.patches as mpatch\n",
    "%matplotlib inline \n",
    "%config Completer.use_jedi = False\n",
    "\n",
    "from IPython.display import display, HTML\n",
    "display(HTML(\"<style>.container { width:80% !important; }</style>\"))\n",
    "\n",
    "from utils import *"
   ]
  },
  {
   "cell_type": "markdown",
   "id": "fa267b1b",
   "metadata": {},
   "source": [
    "# Run"
   ]
  },
  {
   "cell_type": "code",
   "execution_count": 19,
   "id": "727baba9",
   "metadata": {},
   "outputs": [
    {
     "name": "stdout",
     "output_type": "stream",
     "text": [
      "Init algo namespace\n",
      "[('E0', 'E1'), ('E0', 'E2'), ('E0', 'E3'), ('E1', 'E2'), ('E1', 'E3'), ('E2', 'E3')]\n",
      "['confs', 'map', 'lines', 'slot']\n",
      "Load line from excel\n"
     ]
    },
    {
     "name": "stderr",
     "output_type": "stream",
     "text": [
      "C:\\Users\\bertrand\\anaconda3\\envs\\base2\\lib\\site-packages\\pandas\\core\\indexes\\base.py:6982: FutureWarning: In a future version, the Index constructor will not infer numeric dtypes when passed object-dtype sequences (matching Series behavior)\n",
      "  return Index(sequences[0], name=names)\n"
     ]
    }
   ],
   "source": [
    "file = {'SheetMapName' : 'map', 'uploaded_file' : \"data.xlsx\"}\n",
    "file = {'SheetMapName' : 'map', 'uploaded_file' : \"input(1).xlsx\", 'DistFactor' : 0.1}\n",
    "algo = load_data_brut(file)"
   ]
  },
  {
   "cell_type": "code",
   "execution_count": 20,
   "id": "4ac5660a",
   "metadata": {},
   "outputs": [],
   "source": [
    "# generation de 10 indivs\n",
    "df = indiv_init(algo, 10)"
   ]
  },
  {
   "cell_type": "code",
   "execution_count": 21,
   "id": "5fecd992",
   "metadata": {},
   "outputs": [],
   "source": [
    "# columns de l'algo genetique\n",
    "col = ['Clist', 'CtoE', 'Econnect', 'Elist', 'Ecount', 'EtoP', 'Pconnect','Plist', 'Pcount']"
   ]
  },
  {
   "cell_type": "code",
   "execution_count": 38,
   "id": "369c2951",
   "metadata": {},
   "outputs": [
    {
     "data": {
      "text/html": [
       "<div>\n",
       "<style scoped>\n",
       "    .dataframe tbody tr th:only-of-type {\n",
       "        vertical-align: middle;\n",
       "    }\n",
       "\n",
       "    .dataframe tbody tr th {\n",
       "        vertical-align: top;\n",
       "    }\n",
       "\n",
       "    .dataframe thead th {\n",
       "        text-align: right;\n",
       "    }\n",
       "</style>\n",
       "<table border=\"1\" class=\"dataframe\">\n",
       "  <thead>\n",
       "    <tr style=\"text-align: right;\">\n",
       "      <th></th>\n",
       "      <th>parent</th>\n",
       "      <th>enfant</th>\n",
       "    </tr>\n",
       "  </thead>\n",
       "  <tbody>\n",
       "    <tr>\n",
       "      <th>Clist</th>\n",
       "      <td>[0, 1, 2, 3]</td>\n",
       "      <td>[0, 1, 2, 3]</td>\n",
       "    </tr>\n",
       "    <tr>\n",
       "      <th>CtoE</th>\n",
       "      <td>[0, 2, 2, 2]</td>\n",
       "      <td>[0, 2, 0, 2]</td>\n",
       "    </tr>\n",
       "    <tr>\n",
       "      <th>Econnect</th>\n",
       "      <td>{0: [0], 2: [1, 2, 3]}</td>\n",
       "      <td>{0: [0, 2], 2: [1, 3]}</td>\n",
       "    </tr>\n",
       "    <tr>\n",
       "      <th>Elist</th>\n",
       "      <td>[0, 2]</td>\n",
       "      <td>[0, 2]</td>\n",
       "    </tr>\n",
       "    <tr>\n",
       "      <th>Ecount</th>\n",
       "      <td>2</td>\n",
       "      <td>2</td>\n",
       "    </tr>\n",
       "    <tr>\n",
       "      <th>EtoP</th>\n",
       "      <td>[0, 1]</td>\n",
       "      <td>[0, 1]</td>\n",
       "    </tr>\n",
       "    <tr>\n",
       "      <th>Pconnect</th>\n",
       "      <td>{0: [0], 1: [2]}</td>\n",
       "      <td>{0: [0], 1: [2]}</td>\n",
       "    </tr>\n",
       "    <tr>\n",
       "      <th>Plist</th>\n",
       "      <td>[0, 1]</td>\n",
       "      <td>[0, 1]</td>\n",
       "    </tr>\n",
       "    <tr>\n",
       "      <th>Pcount</th>\n",
       "      <td>2</td>\n",
       "      <td>2</td>\n",
       "    </tr>\n",
       "  </tbody>\n",
       "</table>\n",
       "</div>"
      ],
      "text/plain": [
       "                          parent                  enfant\n",
       "Clist               [0, 1, 2, 3]            [0, 1, 2, 3]\n",
       "CtoE                [0, 2, 2, 2]            [0, 2, 0, 2]\n",
       "Econnect  {0: [0], 2: [1, 2, 3]}  {0: [0, 2], 2: [1, 3]}\n",
       "Elist                     [0, 2]                  [0, 2]\n",
       "Ecount                         2                       2\n",
       "EtoP                      [0, 1]                  [0, 1]\n",
       "Pconnect        {0: [0], 1: [2]}        {0: [0], 1: [2]}\n",
       "Plist                     [0, 1]                  [0, 1]\n",
       "Pcount                         2                       2"
      ]
     },
     "execution_count": 38,
     "metadata": {},
     "output_type": "execute_result"
    }
   ],
   "source": [
    "# mutation\n",
    "row = df.iloc[0].copy()\n",
    "dfMutation = pd.Series(Mutation(row, algo))[col]\n",
    "dfresults  = pd.concat([row,dfMutation], axis = 1)\n",
    "dfresults.columns = ['parent','enfant']\n",
    "dfresults.loc[col]"
   ]
  },
  {
   "cell_type": "code",
   "execution_count": 41,
   "id": "3f6af955",
   "metadata": {},
   "outputs": [
    {
     "data": {
      "text/html": [
       "<div>\n",
       "<style scoped>\n",
       "    .dataframe tbody tr th:only-of-type {\n",
       "        vertical-align: middle;\n",
       "    }\n",
       "\n",
       "    .dataframe tbody tr th {\n",
       "        vertical-align: top;\n",
       "    }\n",
       "\n",
       "    .dataframe thead th {\n",
       "        text-align: right;\n",
       "    }\n",
       "</style>\n",
       "<table border=\"1\" class=\"dataframe\">\n",
       "  <thead>\n",
       "    <tr style=\"text-align: right;\">\n",
       "      <th></th>\n",
       "      <th>parent1</th>\n",
       "      <th>parent2</th>\n",
       "      <th>enfant1</th>\n",
       "      <th>enfant2</th>\n",
       "    </tr>\n",
       "  </thead>\n",
       "  <tbody>\n",
       "    <tr>\n",
       "      <th>Clist</th>\n",
       "      <td>[0, 1, 2, 3]</td>\n",
       "      <td>[0, 1, 2, 3]</td>\n",
       "      <td>[0, 1, 2, 3]</td>\n",
       "      <td>[0, 1, 2, 3]</td>\n",
       "    </tr>\n",
       "    <tr>\n",
       "      <th>CtoE</th>\n",
       "      <td>[0, 2, 2, 2]</td>\n",
       "      <td>[0, 2, 3, 0]</td>\n",
       "      <td>[0, 2, 3, 2]</td>\n",
       "      <td>[0, 2, 2, 0]</td>\n",
       "    </tr>\n",
       "    <tr>\n",
       "      <th>Econnect</th>\n",
       "      <td>{0: [0], 2: [1, 2, 3]}</td>\n",
       "      <td>{0: [0, 3], 2: [1], 3: [2]}</td>\n",
       "      <td>{0: [0], 2: [1, 3], 3: [2]}</td>\n",
       "      <td>{0: [0, 3], 2: [1, 2]}</td>\n",
       "    </tr>\n",
       "    <tr>\n",
       "      <th>Elist</th>\n",
       "      <td>[0, 2]</td>\n",
       "      <td>[0, 2, 3]</td>\n",
       "      <td>[0, 2, 3]</td>\n",
       "      <td>[0, 2]</td>\n",
       "    </tr>\n",
       "    <tr>\n",
       "      <th>Ecount</th>\n",
       "      <td>2</td>\n",
       "      <td>3</td>\n",
       "      <td>3</td>\n",
       "      <td>2</td>\n",
       "    </tr>\n",
       "    <tr>\n",
       "      <th>EtoP</th>\n",
       "      <td>[0, 1]</td>\n",
       "      <td>[0, 0, 1]</td>\n",
       "      <td>[0, 1, 1]</td>\n",
       "      <td>[0, 0]</td>\n",
       "    </tr>\n",
       "    <tr>\n",
       "      <th>Pconnect</th>\n",
       "      <td>{0: [0], 1: [2]}</td>\n",
       "      <td>{0: [0, 2], 1: [3]}</td>\n",
       "      <td>{0: [0], 1: [2, 3]}</td>\n",
       "      <td>{0: [0, 2]}</td>\n",
       "    </tr>\n",
       "    <tr>\n",
       "      <th>Plist</th>\n",
       "      <td>[0, 1]</td>\n",
       "      <td>[0, 1]</td>\n",
       "      <td>[0, 1]</td>\n",
       "      <td>[0]</td>\n",
       "    </tr>\n",
       "    <tr>\n",
       "      <th>Pcount</th>\n",
       "      <td>2</td>\n",
       "      <td>2</td>\n",
       "      <td>2</td>\n",
       "      <td>1</td>\n",
       "    </tr>\n",
       "  </tbody>\n",
       "</table>\n",
       "</div>"
      ],
      "text/plain": [
       "                         parent1                      parent2  \\\n",
       "Clist               [0, 1, 2, 3]                 [0, 1, 2, 3]   \n",
       "CtoE                [0, 2, 2, 2]                 [0, 2, 3, 0]   \n",
       "Econnect  {0: [0], 2: [1, 2, 3]}  {0: [0, 3], 2: [1], 3: [2]}   \n",
       "Elist                     [0, 2]                    [0, 2, 3]   \n",
       "Ecount                         2                            3   \n",
       "EtoP                      [0, 1]                    [0, 0, 1]   \n",
       "Pconnect        {0: [0], 1: [2]}          {0: [0, 2], 1: [3]}   \n",
       "Plist                     [0, 1]                       [0, 1]   \n",
       "Pcount                         2                            2   \n",
       "\n",
       "                              enfant1                 enfant2  \n",
       "Clist                    [0, 1, 2, 3]            [0, 1, 2, 3]  \n",
       "CtoE                     [0, 2, 3, 2]            [0, 2, 2, 0]  \n",
       "Econnect  {0: [0], 2: [1, 3], 3: [2]}  {0: [0, 3], 2: [1, 2]}  \n",
       "Elist                       [0, 2, 3]                  [0, 2]  \n",
       "Ecount                              3                       2  \n",
       "EtoP                        [0, 1, 1]                  [0, 0]  \n",
       "Pconnect          {0: [0], 1: [2, 3]}             {0: [0, 2]}  \n",
       "Plist                          [0, 1]                     [0]  \n",
       "Pcount                              2                       1  "
      ]
     },
     "execution_count": 41,
     "metadata": {},
     "output_type": "execute_result"
    }
   ],
   "source": [
    "# crossover\n",
    "dfparents = df[:2].copy()\n",
    "dfcrossover = pd.DataFrame(AG_CrossOver(dfparents, algo))\n",
    "dfresults  = pd.concat([dfparents.T,dfcrossover.T ], axis = 1)\n",
    "dfresults.columns = ['parent1','parent2','enfant1','enfant2']\n",
    "dfresults.loc[col]"
   ]
  },
  {
   "cell_type": "code",
   "execution_count": 42,
   "id": "4fd4f2e6",
   "metadata": {},
   "outputs": [
    {
     "name": "stdout",
     "output_type": "stream",
     "text": [
      "(10, 7)\n"
     ]
    },
    {
     "data": {
      "image/png": "[encoded data removed]",
      "text/plain": [
       "<Figure size 800x800 with 1 Axes>"
      ]
     },
     "metadata": {},
     "output_type": "display_data"
    }
   ],
   "source": [
    "# Plot\n",
    "row = dfresults.T.iloc[0]\n",
    "ElemsList = ['Clist','Elist','Plist']\n",
    "Elems = ['C','E','P']\n",
    "SelectSlot = []\n",
    "List_EtoC = row.List_EtoC\n",
    "List_PtoE = row.List_PtoE\n",
    "for n in range(3):\n",
    "    SelectSlot+= ['{}{}'.format(Elems[n],i) for i in row[ElemsList[n]]]\n",
    "SelectLine = row.Name\n",
    "if row.Option == 'Bus' :   SelectLine = row.BusName                \n",
    "fig = new_plot(algo, SelectLine, SelectSlot)"
   ]
  },
  {
   "cell_type": "code",
   "execution_count": null,
   "id": "6800d4c8",
   "metadata": {},
   "outputs": [],
   "source": []
  }
 ],
 "metadata": {
  "kernelspec": {
   "display_name": "Python 3 (ipykernel)",
   "language": "python",
   "name": "python3"
  },
  "language_info": {
   "codemirror_mode": {
    "name": "ipython",
    "version": 3
   },
   "file_extension": ".py",
   "mimetype": "text/x-python",
   "name": "python",
   "nbconvert_exporter": "python",
   "pygments_lexer": "ipython3",
   "version": "3.9.12"
  },
  "toc": {
   "base_numbering": 1,
   "nav_menu": {},
   "number_sections": true,
   "sideBar": true,
   "skip_h1_title": false,
   "title_cell": "Table of Contents",
   "title_sidebar": "Contents",
   "toc_cell": false,
   "toc_position": {},
   "toc_section_display": true,
   "toc_window_display": false
  }
 },
 "nbformat": 4,
 "nbformat_minor": 5
}
