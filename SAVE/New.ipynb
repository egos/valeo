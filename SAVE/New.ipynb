{
 "cells": [
  {
   "cell_type": "markdown",
   "id": "c792a9bf",
   "metadata": {
    "heading_collapsed": true
   },
   "source": [
    "# PERF"
   ]
  },
  {
   "cell_type": "code",
   "execution_count": 22,
   "id": "f4443591",
   "metadata": {
    "hidden": true
   },
   "outputs": [],
   "source": [
    "dfline = algo.dfline"
   ]
  },
  {
   "cell_type": "code",
   "execution_count": 31,
   "id": "d3767bbe",
   "metadata": {
    "hidden": true,
    "scrolled": true
   },
   "outputs": [
    {
     "data": {
      "text/plain": [
       "0.000235"
      ]
     },
     "execution_count": 31,
     "metadata": {},
     "output_type": "execute_result"
    }
   ],
   "source": [
    "dfline  = algo.dfline.set_index('ID')\n",
    "dfline.loc['E3-E2','durite_val']"
   ]
  },
  {
   "cell_type": "code",
   "execution_count": 29,
   "id": "d84af740",
   "metadata": {
    "hidden": true
   },
   "outputs": [
    {
     "name": "stdout",
     "output_type": "stream",
     "text": [
      "12.2 µs ± 136 ns per loop (mean ± std. dev. of 7 runs, 100,000 loops each)\n"
     ]
    }
   ],
   "source": [
    "%%timeit\n",
    "dfline.loc['E3-E2','durite_val']"
   ]
  },
  {
   "cell_type": "code",
   "execution_count": 24,
   "id": "05830921",
   "metadata": {
    "hidden": true
   },
   "outputs": [
    {
     "name": "stdout",
     "output_type": "stream",
     "text": [
      "262 µs ± 2.46 µs per loop (mean ± std. dev. of 7 runs, 1,000 loops each)\n"
     ]
    }
   ],
   "source": [
    "%%timeit\n",
    "dfline.loc[dfline.ID == 'E3-E2','durite_val'].values[0]"
   ]
  },
  {
   "cell_type": "code",
   "execution_count": 25,
   "id": "e4853d7a",
   "metadata": {
    "hidden": true
   },
   "outputs": [
    {
     "name": "stdout",
     "output_type": "stream",
     "text": [
      "106 ns ± 1.22 ns per loop (mean ± std. dev. of 7 runs, 10,000,000 loops each)\n"
     ]
    }
   ],
   "source": [
    "%%timeit\n",
    "algo.durite['E3-E2']"
   ]
  },
  {
   "cell_type": "code",
   "execution_count": 34,
   "id": "b030c2ae",
   "metadata": {
    "hidden": true
   },
   "outputs": [
    {
     "name": "stdout",
     "output_type": "stream",
     "text": [
      "609 µs ± 9.98 µs per loop (mean ± std. dev. of 7 runs, 1,000 loops each)\n"
     ]
    }
   ],
   "source": [
    "%%timeit\n",
    "dfline  = algo.dfline.set_index('ID')['durite_val'].to_dict()\n",
    "dfline['E3-E2']\n",
    "# dfline.loc['E3-E2','durite_val']"
   ]
  },
  {
   "cell_type": "code",
   "execution_count": 16,
   "id": "33d37288",
   "metadata": {
    "collapsed": true,
    "hidden": true
   },
   "outputs": [
    {
     "data": {
      "text/html": [
       "<div>\n",
       "<style scoped>\n",
       "    .dataframe tbody tr th:only-of-type {\n",
       "        vertical-align: middle;\n",
       "    }\n",
       "\n",
       "    .dataframe tbody tr th {\n",
       "        vertical-align: top;\n",
       "    }\n",
       "\n",
       "    .dataframe thead th {\n",
       "        text-align: right;\n",
       "    }\n",
       "</style>\n",
       "<table border=\"1\" class=\"dataframe\">\n",
       "  <thead>\n",
       "    <tr style=\"text-align: right;\">\n",
       "      <th></th>\n",
       "      <th>ID</th>\n",
       "      <th>path</th>\n",
       "      <th>dist</th>\n",
       "      <th>durite</th>\n",
       "      <th>durite_val</th>\n",
       "    </tr>\n",
       "  </thead>\n",
       "  <tbody>\n",
       "    <tr>\n",
       "      <th>0</th>\n",
       "      <td>E0-C0</td>\n",
       "      <td>[[2, 4], [1, 4], [1, 3], [0, 3]]</td>\n",
       "      <td>0.3</td>\n",
       "      <td>4</td>\n",
       "      <td>0.000235</td>\n",
       "    </tr>\n",
       "    <tr>\n",
       "      <th>1</th>\n",
       "      <td>E0-C1</td>\n",
       "      <td>[[2, 4], [1, 4], [1, 3], [1, 2], [1, 1], [2, 1...</td>\n",
       "      <td>0.6</td>\n",
       "      <td>4</td>\n",
       "      <td>0.000235</td>\n",
       "    </tr>\n",
       "    <tr>\n",
       "      <th>2</th>\n",
       "      <td>E0-C2</td>\n",
       "      <td>[[2, 4], [2, 5], [2, 6]]</td>\n",
       "      <td>0.2</td>\n",
       "      <td>4</td>\n",
       "      <td>0.000235</td>\n",
       "    </tr>\n",
       "    <tr>\n",
       "      <th>3</th>\n",
       "      <td>E0-C3</td>\n",
       "      <td>[[2, 4], [3, 4], [4, 4], [4, 3], [5, 3], [6, 3...</td>\n",
       "      <td>0.8</td>\n",
       "      <td>4</td>\n",
       "      <td>0.000235</td>\n",
       "    </tr>\n",
       "    <tr>\n",
       "      <th>4</th>\n",
       "      <td>P0-E0</td>\n",
       "      <td>[[2, 4], [2, 3], [2, 2]]</td>\n",
       "      <td>0.2</td>\n",
       "      <td>4</td>\n",
       "      <td>0.000235</td>\n",
       "    </tr>\n",
       "    <tr>\n",
       "      <th>5</th>\n",
       "      <td>P1-E0</td>\n",
       "      <td>[[2, 4], [3, 4], [4, 4], [4, 3], [5, 3], [6, 3...</td>\n",
       "      <td>0.8</td>\n",
       "      <td>4</td>\n",
       "      <td>0.000235</td>\n",
       "    </tr>\n",
       "    <tr>\n",
       "      <th>6</th>\n",
       "      <td>E1-C0</td>\n",
       "      <td>[[4, 1], [3, 1], [2, 1], [1, 1], [1, 2], [1, 3...</td>\n",
       "      <td>0.6</td>\n",
       "      <td>4</td>\n",
       "      <td>0.000235</td>\n",
       "    </tr>\n",
       "    <tr>\n",
       "      <th>7</th>\n",
       "      <td>E1-C1</td>\n",
       "      <td>[[4, 1], [3, 1], [2, 1], [2, 0]]</td>\n",
       "      <td>0.3</td>\n",
       "      <td>4</td>\n",
       "      <td>0.000235</td>\n",
       "    </tr>\n",
       "    <tr>\n",
       "      <th>8</th>\n",
       "      <td>E1-C2</td>\n",
       "      <td>[[4, 1], [3, 1], [3, 2], [3, 3], [3, 4], [3, 5...</td>\n",
       "      <td>0.7</td>\n",
       "      <td>4</td>\n",
       "      <td>0.000235</td>\n",
       "    </tr>\n",
       "    <tr>\n",
       "      <th>9</th>\n",
       "      <td>E1-C3</td>\n",
       "      <td>[[4, 1], [5, 1], [6, 1], [6, 2], [6, 3], [7, 3...</td>\n",
       "      <td>0.7</td>\n",
       "      <td>4</td>\n",
       "      <td>0.000235</td>\n",
       "    </tr>\n",
       "    <tr>\n",
       "      <th>10</th>\n",
       "      <td>P0-E1</td>\n",
       "      <td>[[4, 1], [3, 1], [2, 1], [2, 2]]</td>\n",
       "      <td>0.3</td>\n",
       "      <td>4</td>\n",
       "      <td>0.000235</td>\n",
       "    </tr>\n",
       "    <tr>\n",
       "      <th>11</th>\n",
       "      <td>P1-E1</td>\n",
       "      <td>[[4, 1], [5, 1], [6, 1], [7, 1]]</td>\n",
       "      <td>0.3</td>\n",
       "      <td>4</td>\n",
       "      <td>0.000235</td>\n",
       "    </tr>\n",
       "    <tr>\n",
       "      <th>12</th>\n",
       "      <td>E2-C0</td>\n",
       "      <td>[[5, 4], [4, 4], [3, 4], [3, 3], [2, 3], [1, 3...</td>\n",
       "      <td>0.6</td>\n",
       "      <td>4</td>\n",
       "      <td>0.000235</td>\n",
       "    </tr>\n",
       "    <tr>\n",
       "      <th>13</th>\n",
       "      <td>E2-C1</td>\n",
       "      <td>[[5, 4], [4, 4], [3, 4], [3, 3], [3, 2], [3, 1...</td>\n",
       "      <td>0.7</td>\n",
       "      <td>4</td>\n",
       "      <td>0.000235</td>\n",
       "    </tr>\n",
       "    <tr>\n",
       "      <th>14</th>\n",
       "      <td>E2-C2</td>\n",
       "      <td>[[5, 4], [4, 4], [3, 4], [3, 5], [2, 5], [2, 6]]</td>\n",
       "      <td>0.5</td>\n",
       "      <td>4</td>\n",
       "      <td>0.000235</td>\n",
       "    </tr>\n",
       "    <tr>\n",
       "      <th>15</th>\n",
       "      <td>E2-C3</td>\n",
       "      <td>[[5, 4], [6, 4], [7, 4], [8, 4], [8, 3], [9, 3]]</td>\n",
       "      <td>0.5</td>\n",
       "      <td>4</td>\n",
       "      <td>0.000235</td>\n",
       "    </tr>\n",
       "    <tr>\n",
       "      <th>16</th>\n",
       "      <td>P0-E2</td>\n",
       "      <td>[[5, 4], [4, 4], [3, 4], [3, 3], [2, 3], [2, 2]]</td>\n",
       "      <td>0.5</td>\n",
       "      <td>4</td>\n",
       "      <td>0.000235</td>\n",
       "    </tr>\n",
       "    <tr>\n",
       "      <th>17</th>\n",
       "      <td>P1-E2</td>\n",
       "      <td>[[5, 4], [6, 4], [6, 3], [6, 2], [6, 1], [7, 1]]</td>\n",
       "      <td>0.5</td>\n",
       "      <td>4</td>\n",
       "      <td>0.000235</td>\n",
       "    </tr>\n",
       "    <tr>\n",
       "      <th>18</th>\n",
       "      <td>E3-C0</td>\n",
       "      <td>[[7, 2], [6, 2], [5, 2], [4, 2], [3, 2], [3, 3...</td>\n",
       "      <td>0.8</td>\n",
       "      <td>4</td>\n",
       "      <td>0.000235</td>\n",
       "    </tr>\n",
       "    <tr>\n",
       "      <th>19</th>\n",
       "      <td>E3-C1</td>\n",
       "      <td>[[7, 2], [6, 2], [5, 2], [4, 2], [3, 2], [3, 1...</td>\n",
       "      <td>0.7</td>\n",
       "      <td>4</td>\n",
       "      <td>0.000235</td>\n",
       "    </tr>\n",
       "    <tr>\n",
       "      <th>20</th>\n",
       "      <td>E3-C2</td>\n",
       "      <td>[[7, 2], [6, 2], [5, 2], [4, 2], [3, 2], [3, 3...</td>\n",
       "      <td>0.9</td>\n",
       "      <td>4</td>\n",
       "      <td>0.000235</td>\n",
       "    </tr>\n",
       "    <tr>\n",
       "      <th>21</th>\n",
       "      <td>E3-C3</td>\n",
       "      <td>[[7, 2], [8, 2], [8, 3], [9, 3]]</td>\n",
       "      <td>0.3</td>\n",
       "      <td>4</td>\n",
       "      <td>0.000235</td>\n",
       "    </tr>\n",
       "    <tr>\n",
       "      <th>22</th>\n",
       "      <td>P0-E3</td>\n",
       "      <td>[[7, 2], [6, 2], [5, 2], [4, 2], [3, 2], [2, 2]]</td>\n",
       "      <td>0.5</td>\n",
       "      <td>4</td>\n",
       "      <td>0.000235</td>\n",
       "    </tr>\n",
       "    <tr>\n",
       "      <th>23</th>\n",
       "      <td>P1-E3</td>\n",
       "      <td>[[7, 2], [7, 1]]</td>\n",
       "      <td>0.1</td>\n",
       "      <td>4</td>\n",
       "      <td>0.000235</td>\n",
       "    </tr>\n",
       "    <tr>\n",
       "      <th>24</th>\n",
       "      <td>E1-E0</td>\n",
       "      <td>[[2, 4], [3, 4], [4, 4], [4, 3], [4, 2], [4, 1]]</td>\n",
       "      <td>0.5</td>\n",
       "      <td>4</td>\n",
       "      <td>0.000235</td>\n",
       "    </tr>\n",
       "    <tr>\n",
       "      <th>25</th>\n",
       "      <td>E2-E0</td>\n",
       "      <td>[[2, 4], [3, 4], [4, 4], [5, 4]]</td>\n",
       "      <td>0.3</td>\n",
       "      <td>4</td>\n",
       "      <td>0.000235</td>\n",
       "    </tr>\n",
       "    <tr>\n",
       "      <th>26</th>\n",
       "      <td>E3-E0</td>\n",
       "      <td>[[2, 4], [3, 4], [4, 4], [4, 3], [5, 3], [6, 3...</td>\n",
       "      <td>0.7</td>\n",
       "      <td>4</td>\n",
       "      <td>0.000235</td>\n",
       "    </tr>\n",
       "    <tr>\n",
       "      <th>27</th>\n",
       "      <td>E2-E1</td>\n",
       "      <td>[[4, 1], [5, 1], [5, 2], [5, 3], [5, 4]]</td>\n",
       "      <td>0.4</td>\n",
       "      <td>4</td>\n",
       "      <td>0.000235</td>\n",
       "    </tr>\n",
       "    <tr>\n",
       "      <th>28</th>\n",
       "      <td>E3-E1</td>\n",
       "      <td>[[4, 1], [5, 1], [6, 1], [6, 2], [7, 2]]</td>\n",
       "      <td>0.4</td>\n",
       "      <td>4</td>\n",
       "      <td>0.000235</td>\n",
       "    </tr>\n",
       "    <tr>\n",
       "      <th>29</th>\n",
       "      <td>E3-E2</td>\n",
       "      <td>[[5, 4], [6, 4], [7, 4], [7, 3], [7, 2]]</td>\n",
       "      <td>0.4</td>\n",
       "      <td>4</td>\n",
       "      <td>0.000235</td>\n",
       "    </tr>\n",
       "  </tbody>\n",
       "</table>\n",
       "</div>"
      ],
      "text/plain": [
       "       ID                                               path dist  durite  \\\n",
       "0   E0-C0                   [[2, 4], [1, 4], [1, 3], [0, 3]]  0.3       4   \n",
       "1   E0-C1  [[2, 4], [1, 4], [1, 3], [1, 2], [1, 1], [2, 1...  0.6       4   \n",
       "2   E0-C2                           [[2, 4], [2, 5], [2, 6]]  0.2       4   \n",
       "3   E0-C3  [[2, 4], [3, 4], [4, 4], [4, 3], [5, 3], [6, 3...  0.8       4   \n",
       "4   P0-E0                           [[2, 4], [2, 3], [2, 2]]  0.2       4   \n",
       "5   P1-E0  [[2, 4], [3, 4], [4, 4], [4, 3], [5, 3], [6, 3...  0.8       4   \n",
       "6   E1-C0  [[4, 1], [3, 1], [2, 1], [1, 1], [1, 2], [1, 3...  0.6       4   \n",
       "7   E1-C1                   [[4, 1], [3, 1], [2, 1], [2, 0]]  0.3       4   \n",
       "8   E1-C2  [[4, 1], [3, 1], [3, 2], [3, 3], [3, 4], [3, 5...  0.7       4   \n",
       "9   E1-C3  [[4, 1], [5, 1], [6, 1], [6, 2], [6, 3], [7, 3...  0.7       4   \n",
       "10  P0-E1                   [[4, 1], [3, 1], [2, 1], [2, 2]]  0.3       4   \n",
       "11  P1-E1                   [[4, 1], [5, 1], [6, 1], [7, 1]]  0.3       4   \n",
       "12  E2-C0  [[5, 4], [4, 4], [3, 4], [3, 3], [2, 3], [1, 3...  0.6       4   \n",
       "13  E2-C1  [[5, 4], [4, 4], [3, 4], [3, 3], [3, 2], [3, 1...  0.7       4   \n",
       "14  E2-C2   [[5, 4], [4, 4], [3, 4], [3, 5], [2, 5], [2, 6]]  0.5       4   \n",
       "15  E2-C3   [[5, 4], [6, 4], [7, 4], [8, 4], [8, 3], [9, 3]]  0.5       4   \n",
       "16  P0-E2   [[5, 4], [4, 4], [3, 4], [3, 3], [2, 3], [2, 2]]  0.5       4   \n",
       "17  P1-E2   [[5, 4], [6, 4], [6, 3], [6, 2], [6, 1], [7, 1]]  0.5       4   \n",
       "18  E3-C0  [[7, 2], [6, 2], [5, 2], [4, 2], [3, 2], [3, 3...  0.8       4   \n",
       "19  E3-C1  [[7, 2], [6, 2], [5, 2], [4, 2], [3, 2], [3, 1...  0.7       4   \n",
       "20  E3-C2  [[7, 2], [6, 2], [5, 2], [4, 2], [3, 2], [3, 3...  0.9       4   \n",
       "21  E3-C3                   [[7, 2], [8, 2], [8, 3], [9, 3]]  0.3       4   \n",
       "22  P0-E3   [[7, 2], [6, 2], [5, 2], [4, 2], [3, 2], [2, 2]]  0.5       4   \n",
       "23  P1-E3                                   [[7, 2], [7, 1]]  0.1       4   \n",
       "24  E1-E0   [[2, 4], [3, 4], [4, 4], [4, 3], [4, 2], [4, 1]]  0.5       4   \n",
       "25  E2-E0                   [[2, 4], [3, 4], [4, 4], [5, 4]]  0.3       4   \n",
       "26  E3-E0  [[2, 4], [3, 4], [4, 4], [4, 3], [5, 3], [6, 3...  0.7       4   \n",
       "27  E2-E1           [[4, 1], [5, 1], [5, 2], [5, 3], [5, 4]]  0.4       4   \n",
       "28  E3-E1           [[4, 1], [5, 1], [6, 1], [6, 2], [7, 2]]  0.4       4   \n",
       "29  E3-E2           [[5, 4], [6, 4], [7, 4], [7, 3], [7, 2]]  0.4       4   \n",
       "\n",
       "    durite_val  \n",
       "0     0.000235  \n",
       "1     0.000235  \n",
       "2     0.000235  \n",
       "3     0.000235  \n",
       "4     0.000235  \n",
       "5     0.000235  \n",
       "6     0.000235  \n",
       "7     0.000235  \n",
       "8     0.000235  \n",
       "9     0.000235  \n",
       "10    0.000235  \n",
       "11    0.000235  \n",
       "12    0.000235  \n",
       "13    0.000235  \n",
       "14    0.000235  \n",
       "15    0.000235  \n",
       "16    0.000235  \n",
       "17    0.000235  \n",
       "18    0.000235  \n",
       "19    0.000235  \n",
       "20    0.000235  \n",
       "21    0.000235  \n",
       "22    0.000235  \n",
       "23    0.000235  \n",
       "24    0.000235  \n",
       "25    0.000235  \n",
       "26    0.000235  \n",
       "27    0.000235  \n",
       "28    0.000235  \n",
       "29    0.000235  "
      ]
     },
     "execution_count": 16,
     "metadata": {},
     "output_type": "execute_result"
    }
   ],
   "source": [
    "dfline"
   ]
  },
  {
   "cell_type": "raw",
   "id": "c8e27f35",
   "metadata": {
    "hidden": true
   },
   "source": [
    "L = list(range(1000000))\n",
    "dfx = pd.DataFrame(L)\n",
    "%%timeit\n",
    "L[100]\n",
    "63.1 ns ± 1.32 ns per loop (mean ± std. dev. of 7 runs, 10000000 loops each)\n",
    "%%timeit\n",
    "dfx.iloc[100]\n",
    "83.3 µs ± 2.19 µs per loop (mean ± std. dev. of 7 runs, 10000 loops each)"
   ]
  },
  {
   "cell_type": "markdown",
   "id": "314482b2",
   "metadata": {},
   "source": [
    "# Import"
   ]
  },
  {
   "cell_type": "code",
   "execution_count": 1,
   "id": "cdb5d5ec",
   "metadata": {},
   "outputs": [
    {
     "data": {
      "text/html": [
       "<style>.container { width:80% !important; }</style>"
      ],
      "text/plain": [
       "<IPython.core.display.HTML object>"
      ]
     },
     "metadata": {},
     "output_type": "display_data"
    }
   ],
   "source": [
    "%load_ext autoreload\n",
    "%autoreload 2\n",
    "\n",
    "import importlib\n",
    "import numpy as np\n",
    "import math\n",
    "import itertools \n",
    "import pandas as pd\n",
    "import numpy as np\n",
    "import io\n",
    "import msoffcrypto\n",
    "from sklearn.metrics import r2_score\n",
    "import openpyxl\n",
    "import plotly.express as px\n",
    "from IPython.core.interactiveshell import InteractiveShell\n",
    "InteractiveShell.ast_node_interactivity = \"all\"\n",
    "import plotly\n",
    "import matplotlib.pyplot as plt\n",
    "import plotly.graph_objects as go\n",
    "import streamlit as st\n",
    "import json\n",
    "from math import factorial as fact\n",
    "from IPython.display import Markdown, display\n",
    "import networkx as nx\n",
    "import requests\n",
    "import toml\n",
    "import sys, os\n",
    "import collections\n",
    "from types import SimpleNamespace\n",
    "import copy\n",
    "import matplotlib.patches as mpatch\n",
    "%matplotlib inline \n",
    "%config Completer.use_jedi = False\n",
    "\n",
    "from IPython.display import display, HTML\n",
    "display(HTML(\"<style>.container { width:80% !important; }</style>\"))\n",
    "\n",
    "from utils import *"
   ]
  },
  {
   "cell_type": "markdown",
   "id": "94db60c4",
   "metadata": {
    "heading_collapsed": true
   },
   "source": [
    "# TEst export image in excel "
   ]
  },
  {
   "cell_type": "code",
   "execution_count": 12,
   "id": "d3e137f4",
   "metadata": {
    "hidden": true
   },
   "outputs": [
    {
     "name": "stderr",
     "output_type": "stream",
     "text": [
      "C:\\Users\\bertrand\\anaconda3\\envs\\base2\\lib\\site-packages\\xlsxwriter\\worksheet.py:1439: UserWarning: Image file 'logo.png' not found.\n",
      "  warn(\"Image file '%s' not found.\" % filename)\n"
     ]
    },
    {
     "data": {
      "text/plain": [
       "-1"
      ]
     },
     "execution_count": 12,
     "metadata": {},
     "output_type": "execute_result"
    }
   ],
   "source": [
    "import pandas as pd\n",
    "\n",
    "\n",
    "# Create a Pandas dataframe from some data.\n",
    "df = pd.DataFrame({'Data': [10, 20, 30, 20, 15, 30, 45]})\n",
    "\n",
    "# Create a Pandas Excel writer using XlsxWriter as the engine.\n",
    "writer = pd.ExcelWriter('pandas_image.xlsx', engine='xlsxwriter')\n",
    "\n",
    "# Convert the dataframe to an XlsxWriter Excel object.\n",
    "df.to_excel(writer, sheet_name='Sheet1')\n",
    "\n",
    "# Get the xlsxwriter workbook and worksheet objects.\n",
    "workbook  = writer.book\n",
    "worksheet = writer.sheets['Sheet1']\n",
    "\n",
    "# Insert an image.\n",
    "worksheet.insert_image('D3', 'logo.png')\n",
    "\n",
    "# Close the Pandas Excel writer and output the Excel file.\n",
    "writer.save()"
   ]
  },
  {
   "cell_type": "code",
   "execution_count": 17,
   "id": "eb3b5859",
   "metadata": {
    "hidden": true
   },
   "outputs": [
    {
     "data": {
      "text/plain": [
       "<_io.BytesIO at 0x19a31359450>"
      ]
     },
     "execution_count": 17,
     "metadata": {},
     "output_type": "execute_result"
    },
    {
     "data": {
      "text/plain": [
       "<_io.BytesIO at 0x19a31498540>"
      ]
     },
     "execution_count": 17,
     "metadata": {},
     "output_type": "execute_result"
    }
   ],
   "source": [
    "output = BytesIO()\n",
    "output\n",
    "imgdata=io.BytesIO()\n",
    "imgdata"
   ]
  },
  {
   "cell_type": "code",
   "execution_count": 13,
   "id": "fa4108d4",
   "metadata": {
    "hidden": true
   },
   "outputs": [
    {
     "data": {
      "text/plain": [
       "[<matplotlib.lines.Line2D at 0x19a31453610>]"
      ]
     },
     "execution_count": 13,
     "metadata": {},
     "output_type": "execute_result"
    },
    {
     "data": {
      "text/plain": [
       "0"
      ]
     },
     "execution_count": 13,
     "metadata": {},
     "output_type": "execute_result"
    },
    {
     "data": {
      "text/plain": [
       "0"
      ]
     },
     "execution_count": 13,
     "metadata": {},
     "output_type": "execute_result"
    },
    {
     "data": {
      "image/png": "[encoded data removed]",
      "text/plain": [
       "<Figure size 640x480 with 1 Axes>"
      ]
     },
     "metadata": {},
     "output_type": "display_data"
    }
   ],
   "source": [
    "import xlsxwriter\n",
    "import numpy as np\n",
    "import matplotlib.pyplot as plt\n",
    "import io\n",
    "\n",
    "x=np.linspace(-10,10,100)\n",
    "y=x**2\n",
    "\n",
    "fig,ax=plt.subplots()\n",
    "ax.plot(x,y)\n",
    "\n",
    "output = BytesIO()\n",
    "writer = pd.ExcelWriter(output, engine='xlsxwriter') \n",
    "\n",
    "workbook = xlsxwriter.Workbook('test chart.xlsx')\n",
    "wks1=workbook.add_worksheet('Test chart')\n",
    "wks1.write(0,0,'test')\n",
    "\n",
    "imgdata=io.BytesIO()\n",
    "fig.savefig(imgdata, format='png')\n",
    "wks1.insert_image(2,2, '', {'image_data': imgdata})\n",
    "\n",
    "workbook.close()"
   ]
  },
  {
   "cell_type": "markdown",
   "id": "96ba4560",
   "metadata": {
    "heading_collapsed": true
   },
   "source": [
    "# eval indiv"
   ]
  },
  {
   "cell_type": "code",
   "execution_count": 5,
   "id": "63c6c802",
   "metadata": {
    "hidden": true
   },
   "outputs": [
    {
     "name": "stdout",
     "output_type": "stream",
     "text": [
      "Init algo namespace\n"
     ]
    }
   ],
   "source": [
    "file = {'SheetMapName' : 'map', 'uploaded_file' : None}\n",
    "algo = load_data_brut(file)\n",
    "algo.Group = [0,2]"
   ]
  },
  {
   "cell_type": "code",
   "execution_count": null,
   "id": "28f6932e",
   "metadata": {
    "hidden": true
   },
   "outputs": [],
   "source": [
    "algo.dfslot"
   ]
  },
  {
   "cell_type": "code",
   "execution_count": 215,
   "id": "c6b67e20",
   "metadata": {
    "collapsed": true,
    "hidden": true
   },
   "outputs": [
    {
     "data": {
      "text/plain": [
       "Group                                                   [0, 2]\n",
       "pop                                                         50\n",
       "fitness                                                   dist\n",
       "crossover                                                  0.4\n",
       "mutation                                                   0.4\n",
       "Nlim                                                       2.0\n",
       "Pmax                                                         3\n",
       "Plot                                                     False\n",
       "epoch                                                        0\n",
       "Nindiv                                                       0\n",
       "Nrepro                                                       0\n",
       "Tuyau                                                   ['Ta']\n",
       "Pompes                                            ['Pa', 'Pa']\n",
       "Pvals                               [-0.000516, -0.0154, 4.87]\n",
       "EV                                                      ['Ea']\n",
       "Nozzles                   ['fixed', 'fixed', 'fixed', 'fixed']\n",
       "Nvals                 {0: 0.036, 1: 0.036, 2: 0.036, 3: 0.036}\n",
       "Clist                                             [0, 1, 2, 3]\n",
       "Comb          {'C': [0, 1, 2, 3], 'E': [0, 1, 2], 'P': [0, 1]}\n",
       "CombAll      ['C3', 'C2', 'C1', 'C0', 'E2', 'E1', 'E0', 'P1...\n",
       "dist         {'E0-C0': 2.24, 'E0-C1': 2.0, 'E0-C2': 2.64, '...\n",
       "height                                                      10\n",
       "Name: Val, dtype: object"
      ]
     },
     "execution_count": 215,
     "metadata": {},
     "output_type": "execute_result"
    }
   ],
   "source": [
    "keydrop= [\"confs\", \"dfslot\",\"dfline\",\"indivs\",\"df\",'A0','DataCategorie']\n",
    "d = {k : v for k,v in vars(algo).items() if k not in keydrop}\n",
    "s = pd.Series(d).rename('Val').astype(str)\n",
    "s.index = s.index.astype(str)\n",
    "s"
   ]
  },
  {
   "cell_type": "code",
   "execution_count": 4,
   "id": "0167c902",
   "metadata": {
    "collapsed": true,
    "hidden": true
   },
   "outputs": [
    {
     "data": {
      "text/plain": [
       "{'Clist': [0, 1, 2, 3],\n",
       " 'CtoE': [1, 1, 1, 1],\n",
       " 'Econnect': {1: [0, 1, 2, 3]},\n",
       " 'Elist': [1],\n",
       " 'Ecount': 1,\n",
       " 'EtoP': [1],\n",
       " 'Pconnect': {1: [1]},\n",
       " 'Plist': [1],\n",
       " 'Pcount': 1,\n",
       " 'List_EtoC': [['E1-C0', 'E1-C1', 'E1-C2', 'E1-C3']],\n",
       " 'List_PtoE': [['P1-E1']],\n",
       " 'dist_Connect': {'E1-C0': 0.8,\n",
       "  'E1-C1': 1.44,\n",
       "  'E1-C2': 0.48,\n",
       "  'E1-C3': 2.4,\n",
       "  'P1-E1': 0.48},\n",
       " 'dist': 5.6,\n",
       " 'Name': ['E1-C0', 'E1-C1', 'E1-C2', 'E1-C3', 'P1-E1'],\n",
       " 'ID': 1,\n",
       " 'Name_txt': 'E1-C0,E1-C1,E1-C2,E1-C3,P1-E1',\n",
       " 'Epoch': 0,\n",
       " 'PressionList': [3.92, 4.48, 3.93, 4.46],\n",
       " 'DebitList': [10.44, 11.16, 10.45, 11.13],\n",
       " 'Debit': 43.2,\n",
       " 'Masse': 1433,\n",
       " 'Cout': 57,\n",
       " 'Alive': True}"
      ]
     },
     "execution_count": 4,
     "metadata": {},
     "output_type": "execute_result"
    }
   ],
   "source": [
    "Name = 'E1-C0,E1-C1,E1-C2,E1-C3,P1-E1'\n",
    "# Name  = 'E0-C1,E1-C0,E1-C2,E1-C3,P1-E0,P1-E1'\n",
    "indiv = Indiv_reverse(Name,algo) \n",
    "indiv"
   ]
  },
  {
   "cell_type": "code",
   "execution_count": 6,
   "id": "784b1f27",
   "metadata": {
    "hidden": true
   },
   "outputs": [
    {
     "data": {
      "text/html": [
       "<div>\n",
       "<style scoped>\n",
       "    .dataframe tbody tr th:only-of-type {\n",
       "        vertical-align: middle;\n",
       "    }\n",
       "\n",
       "    .dataframe tbody tr th {\n",
       "        vertical-align: top;\n",
       "    }\n",
       "\n",
       "    .dataframe thead th {\n",
       "        text-align: right;\n",
       "    }\n",
       "</style>\n",
       "<table border=\"1\" class=\"dataframe\">\n",
       "  <thead>\n",
       "    <tr style=\"text-align: right;\">\n",
       "      <th>case</th>\n",
       "      <th>pompe</th>\n",
       "      <th>Strat</th>\n",
       "      <th>C</th>\n",
       "      <th>group</th>\n",
       "      <th>split</th>\n",
       "      <th>pression</th>\n",
       "      <th>debit</th>\n",
       "      <th>debit total</th>\n",
       "    </tr>\n",
       "  </thead>\n",
       "  <tbody>\n",
       "    <tr>\n",
       "      <th>0</th>\n",
       "      <td>1</td>\n",
       "      <td>Full_s</td>\n",
       "      <td>R, F, F, F</td>\n",
       "      <td>0,1,2,3</td>\n",
       "      <td>0,1,2,3</td>\n",
       "      <td>2.2, 4.4, 4.5, 4.4</td>\n",
       "      <td>36.3, 11.1, 11.1, 11.1</td>\n",
       "      <td>69.7</td>\n",
       "    </tr>\n",
       "    <tr>\n",
       "      <th>1</th>\n",
       "      <td>1</td>\n",
       "      <td>gr E1</td>\n",
       "      <td>R, F, F, F</td>\n",
       "      <td>(0,2),(1,3)</td>\n",
       "      <td>0,1,2,3</td>\n",
       "      <td>NaN</td>\n",
       "      <td>NaN</td>\n",
       "      <td>65.3</td>\n",
       "    </tr>\n",
       "    <tr>\n",
       "      <th>2</th>\n",
       "      <td>1</td>\n",
       "      <td>g3</td>\n",
       "      <td>R, F, F, F</td>\n",
       "      <td>0, (1,2) ,3</td>\n",
       "      <td>0,1,2,3</td>\n",
       "      <td>2.2, 4.1, 4.1, 4.4</td>\n",
       "      <td>36,3, 10.7, 10.7, 11.1</td>\n",
       "      <td>NaN</td>\n",
       "    </tr>\n",
       "    <tr>\n",
       "      <th>3</th>\n",
       "      <td>1</td>\n",
       "      <td>g3p</td>\n",
       "      <td>R, F, F, F</td>\n",
       "      <td>0, (1,2) , 3</td>\n",
       "      <td>0, (1,2) , 3</td>\n",
       "      <td>NaN</td>\n",
       "      <td>NaN</td>\n",
       "      <td>NaN</td>\n",
       "    </tr>\n",
       "    <tr>\n",
       "      <th>4</th>\n",
       "      <td>1</td>\n",
       "      <td>?</td>\n",
       "      <td>R, F, F, F</td>\n",
       "      <td>0, (1,2) , 3</td>\n",
       "      <td>(0,1,2),3</td>\n",
       "      <td>NaN</td>\n",
       "      <td>NaN</td>\n",
       "      <td>NaN</td>\n",
       "    </tr>\n",
       "  </tbody>\n",
       "</table>\n",
       "</div>"
      ],
      "text/plain": [
       "case pompe   Strat           C         group         split  \\\n",
       "0        1  Full_s  R, F, F, F       0,1,2,3       0,1,2,3   \n",
       "1        1   gr E1  R, F, F, F   (0,2),(1,3)       0,1,2,3   \n",
       "2        1      g3  R, F, F, F   0, (1,2) ,3       0,1,2,3   \n",
       "3        1     g3p  R, F, F, F  0, (1,2) , 3  0, (1,2) , 3   \n",
       "4        1       ?  R, F, F, F  0, (1,2) , 3     (0,1,2),3   \n",
       "\n",
       "case            pression                   debit debit total  \n",
       "0     2.2, 4.4, 4.5, 4.4  36.3, 11.1, 11.1, 11.1        69.7  \n",
       "1                    NaN                     NaN        65.3  \n",
       "2     2.2, 4.1, 4.1, 4.4  36,3, 10.7, 10.7, 11.1         NaN  \n",
       "3                    NaN                     NaN         NaN  \n",
       "4                    NaN                     NaN         NaN  "
      ]
     },
     "execution_count": 6,
     "metadata": {},
     "output_type": "execute_result"
    }
   ],
   "source": [
    "df = pd.read_excel('test.xlsx', sheet_name= 'Sheet{}'.format(5), header=0).set_index('case').T\n",
    "df"
   ]
  },
  {
   "cell_type": "markdown",
   "id": "140a4fc9",
   "metadata": {
    "heading_collapsed": true
   },
   "source": [
    "# Split save"
   ]
  },
  {
   "cell_type": "markdown",
   "id": "37da54e5",
   "metadata": {
    "hidden": true
   },
   "source": [
    "## Combinatoire"
   ]
  },
  {
   "cell_type": "raw",
   "id": "8bf06ae5",
   "metadata": {
    "hidden": true
   },
   "source": [
    "a = np.array(list(itertools.product([0,1,2], repeat=3)))\n",
    "\n",
    "diff = np.diff(a)\n",
    "mask = ((np.abs(diff) <2).all(1)) & (a[:,0] == 0)\n",
    "mask = ((diff <2).all(1)) & (a[:,0] == 0)\n",
    "a[mask]"
   ]
  },
  {
   "cell_type": "raw",
   "id": "33db4240",
   "metadata": {
    "hidden": true
   },
   "source": [
    "%%time\n",
    "Size = 3\n",
    "List = list(range(Size))\n",
    "List\n",
    "a = np.array(list(itertools.product(List, repeat=Size)))\n",
    "\n",
    "mask = (a[:,0] == 0)\n",
    "for i in range(1,Size) :\n",
    "    mask = mask & (a[:,i] <= a[:,:i].max(1)+1)\n",
    "\n",
    "\n",
    "a = a[mask]\n",
    "len(a)"
   ]
  },
  {
   "cell_type": "code",
   "execution_count": 6,
   "id": "c28d6c2e",
   "metadata": {
    "hidden": true
   },
   "outputs": [],
   "source": [
    "SplitDict = {}\n",
    "for Size in range(2,5):\n",
    "    List = list(range(Size))\n",
    "    a = np.array(list(itertools.product(List, repeat=Size)))\n",
    "    \n",
    "    mask = (a[:,0] == 0)\n",
    "    for i in range(1,Size) :\n",
    "        mask = mask & (a[:,i] <= a[:,:i].max(1)+1)\n",
    "    a = a[mask]   \n",
    "    \n",
    "    for i in range(len(a)):\n",
    "        s = a[i]\n",
    "        u, idx, counts = np.unique(s, return_index=True, return_counts  = True, axis = 0)\n",
    "        val = u[counts == 1]\n",
    "        s[np.isin(s,val)] = -1 \n",
    "        a[i] = s\n",
    "    SplitDict[Size] = a"
   ]
  },
  {
   "cell_type": "code",
   "execution_count": 7,
   "id": "b7174412",
   "metadata": {
    "hidden": true
   },
   "outputs": [
    {
     "data": {
      "text/plain": [
       "{2: array([[ 0,  0],\n",
       "        [-1, -1]]),\n",
       " 3: array([[ 0,  0,  0],\n",
       "        [ 0,  0, -1],\n",
       "        [ 0, -1,  0],\n",
       "        [-1,  1,  1],\n",
       "        [-1, -1, -1]]),\n",
       " 4: array([[ 0,  0,  0,  0],\n",
       "        [ 0,  0,  0, -1],\n",
       "        [ 0,  0, -1,  0],\n",
       "        [ 0,  0,  1,  1],\n",
       "        [ 0,  0, -1, -1],\n",
       "        [ 0, -1,  0,  0],\n",
       "        [ 0,  1,  0,  1],\n",
       "        [ 0, -1,  0, -1],\n",
       "        [ 0,  1,  1,  0],\n",
       "        [-1,  1,  1,  1],\n",
       "        [-1,  1,  1, -1],\n",
       "        [ 0, -1, -1,  0],\n",
       "        [-1,  1, -1,  1],\n",
       "        [-1, -1,  2,  2],\n",
       "        [-1, -1, -1, -1]])}"
      ]
     },
     "execution_count": 7,
     "metadata": {},
     "output_type": "execute_result"
    }
   ],
   "source": [
    "SplitDict"
   ]
  },
  {
   "cell_type": "code",
   "execution_count": 8,
   "id": "8a35ded0",
   "metadata": {
    "hidden": true
   },
   "outputs": [
    {
     "data": {
      "text/plain": [
       "3"
      ]
     },
     "execution_count": 8,
     "metadata": {},
     "output_type": "execute_result"
    }
   ],
   "source": [
    "Group  = [0,1,2,3]\n",
    "Egroup = indiv['Econnect'][1]\n",
    "Egroup = [e for e in Egroup if e in Group ]\n",
    "Size = len(Egroup)\n",
    "Size"
   ]
  },
  {
   "cell_type": "code",
   "execution_count": 9,
   "id": "95301434",
   "metadata": {
    "hidden": true
   },
   "outputs": [],
   "source": [
    "ListIndivs = []\n",
    "for s in SplitDict[Size]: \n",
    "    d = collections.defaultdict(list)\n",
    "    for i in range(Size): \n",
    "        d[s[i]].append(Egroup[i])\n",
    "    d = dict(sorted(d.items())) \n",
    "    NewIndiv = copy.deepcopy(indiv)\n",
    "    NewIndiv['Egroup'] = Egroup\n",
    "    NewIndiv['Split'] = d\n",
    "    ListIndivs.append(NewIndiv)"
   ]
  },
  {
   "cell_type": "code",
   "execution_count": 10,
   "id": "40330927",
   "metadata": {
    "hidden": true
   },
   "outputs": [
    {
     "data": {
      "text/html": [
       "<div>\n",
       "<style scoped>\n",
       "    .dataframe tbody tr th:only-of-type {\n",
       "        vertical-align: middle;\n",
       "    }\n",
       "\n",
       "    .dataframe tbody tr th {\n",
       "        vertical-align: top;\n",
       "    }\n",
       "\n",
       "    .dataframe thead th {\n",
       "        text-align: right;\n",
       "    }\n",
       "</style>\n",
       "<table border=\"1\" class=\"dataframe\">\n",
       "  <thead>\n",
       "    <tr style=\"text-align: right;\">\n",
       "      <th></th>\n",
       "      <th>dist</th>\n",
       "      <th>ID</th>\n",
       "      <th>Name_txt</th>\n",
       "      <th>Epoch</th>\n",
       "      <th>PressionList</th>\n",
       "      <th>DebitList</th>\n",
       "      <th>Debit</th>\n",
       "      <th>Masse</th>\n",
       "      <th>Cout</th>\n",
       "      <th>Alive</th>\n",
       "      <th>Egroup</th>\n",
       "      <th>Split</th>\n",
       "    </tr>\n",
       "  </thead>\n",
       "  <tbody>\n",
       "    <tr>\n",
       "      <th>0</th>\n",
       "      <td>7.6</td>\n",
       "      <td>2</td>\n",
       "      <td>E0-C1,E1-C0,E1-C2,E1-C3,P1-E0,P1-E1</td>\n",
       "      <td>0</td>\n",
       "      <td>[4.5, 4.44, 4.51, 4.46]</td>\n",
       "      <td>[11.18, 11.11, 11.19, 11.13]</td>\n",
       "      <td>44.6</td>\n",
       "      <td>1661</td>\n",
       "      <td>61</td>\n",
       "      <td>True</td>\n",
       "      <td>[0, 2, 3]</td>\n",
       "      <td>{0: [0, 2, 3]}</td>\n",
       "    </tr>\n",
       "    <tr>\n",
       "      <th>1</th>\n",
       "      <td>7.6</td>\n",
       "      <td>2</td>\n",
       "      <td>E0-C1,E1-C0,E1-C2,E1-C3,P1-E0,P1-E1</td>\n",
       "      <td>0</td>\n",
       "      <td>[4.5, 4.44, 4.51, 4.46]</td>\n",
       "      <td>[11.18, 11.11, 11.19, 11.13]</td>\n",
       "      <td>44.6</td>\n",
       "      <td>1661</td>\n",
       "      <td>61</td>\n",
       "      <td>True</td>\n",
       "      <td>[0, 2, 3]</td>\n",
       "      <td>{-1: [3], 0: [0, 2]}</td>\n",
       "    </tr>\n",
       "    <tr>\n",
       "      <th>2</th>\n",
       "      <td>7.6</td>\n",
       "      <td>2</td>\n",
       "      <td>E0-C1,E1-C0,E1-C2,E1-C3,P1-E0,P1-E1</td>\n",
       "      <td>0</td>\n",
       "      <td>[4.5, 4.44, 4.51, 4.46]</td>\n",
       "      <td>[11.18, 11.11, 11.19, 11.13]</td>\n",
       "      <td>44.6</td>\n",
       "      <td>1661</td>\n",
       "      <td>61</td>\n",
       "      <td>True</td>\n",
       "      <td>[0, 2, 3]</td>\n",
       "      <td>{-1: [2], 0: [0, 3]}</td>\n",
       "    </tr>\n",
       "    <tr>\n",
       "      <th>3</th>\n",
       "      <td>7.6</td>\n",
       "      <td>2</td>\n",
       "      <td>E0-C1,E1-C0,E1-C2,E1-C3,P1-E0,P1-E1</td>\n",
       "      <td>0</td>\n",
       "      <td>[4.5, 4.44, 4.51, 4.46]</td>\n",
       "      <td>[11.18, 11.11, 11.19, 11.13]</td>\n",
       "      <td>44.6</td>\n",
       "      <td>1661</td>\n",
       "      <td>61</td>\n",
       "      <td>True</td>\n",
       "      <td>[0, 2, 3]</td>\n",
       "      <td>{-1: [0], 1: [2, 3]}</td>\n",
       "    </tr>\n",
       "    <tr>\n",
       "      <th>4</th>\n",
       "      <td>7.6</td>\n",
       "      <td>2</td>\n",
       "      <td>E0-C1,E1-C0,E1-C2,E1-C3,P1-E0,P1-E1</td>\n",
       "      <td>0</td>\n",
       "      <td>[4.5, 4.44, 4.51, 4.46]</td>\n",
       "      <td>[11.18, 11.11, 11.19, 11.13]</td>\n",
       "      <td>44.6</td>\n",
       "      <td>1661</td>\n",
       "      <td>61</td>\n",
       "      <td>True</td>\n",
       "      <td>[0, 2, 3]</td>\n",
       "      <td>{-1: [0, 2, 3]}</td>\n",
       "    </tr>\n",
       "  </tbody>\n",
       "</table>\n",
       "</div>"
      ],
      "text/plain": [
       "   dist  ID                             Name_txt  Epoch  \\\n",
       "0   7.6   2  E0-C1,E1-C0,E1-C2,E1-C3,P1-E0,P1-E1      0   \n",
       "1   7.6   2  E0-C1,E1-C0,E1-C2,E1-C3,P1-E0,P1-E1      0   \n",
       "2   7.6   2  E0-C1,E1-C0,E1-C2,E1-C3,P1-E0,P1-E1      0   \n",
       "3   7.6   2  E0-C1,E1-C0,E1-C2,E1-C3,P1-E0,P1-E1      0   \n",
       "4   7.6   2  E0-C1,E1-C0,E1-C2,E1-C3,P1-E0,P1-E1      0   \n",
       "\n",
       "              PressionList                     DebitList  Debit  Masse  Cout  \\\n",
       "0  [4.5, 4.44, 4.51, 4.46]  [11.18, 11.11, 11.19, 11.13]   44.6   1661    61   \n",
       "1  [4.5, 4.44, 4.51, 4.46]  [11.18, 11.11, 11.19, 11.13]   44.6   1661    61   \n",
       "2  [4.5, 4.44, 4.51, 4.46]  [11.18, 11.11, 11.19, 11.13]   44.6   1661    61   \n",
       "3  [4.5, 4.44, 4.51, 4.46]  [11.18, 11.11, 11.19, 11.13]   44.6   1661    61   \n",
       "4  [4.5, 4.44, 4.51, 4.46]  [11.18, 11.11, 11.19, 11.13]   44.6   1661    61   \n",
       "\n",
       "   Alive     Egroup                 Split  \n",
       "0   True  [0, 2, 3]        {0: [0, 2, 3]}  \n",
       "1   True  [0, 2, 3]  {-1: [3], 0: [0, 2]}  \n",
       "2   True  [0, 2, 3]  {-1: [2], 0: [0, 3]}  \n",
       "3   True  [0, 2, 3]  {-1: [0], 1: [2, 3]}  \n",
       "4   True  [0, 2, 3]       {-1: [0, 2, 3]}  "
      ]
     },
     "execution_count": 10,
     "metadata": {},
     "output_type": "execute_result"
    }
   ],
   "source": [
    "ColSysteme = ['Clist','Name','dist_Connect','List_EtoC','List_PtoE']\n",
    "ColAlgo = ['CtoE','EtoP','Econnect','Elist','Ecount','Pconnect','Plist','Pcount']\n",
    "Col_drop = ColSysteme +ColAlgo\n",
    "pd.DataFrame(ListIndivs).drop(columns= Col_drop)"
   ]
  },
  {
   "cell_type": "markdown",
   "id": "99712e2e",
   "metadata": {
    "heading_collapsed": true,
    "hidden": true
   },
   "source": [
    "## Split func reverse"
   ]
  },
  {
   "cell_type": "code",
   "execution_count": 84,
   "id": "0b979e54",
   "metadata": {
    "hidden": true
   },
   "outputs": [
    {
     "data": {
      "text/plain": [
       "defaultdict(list, {0: [0], 1: [1, 2, 3]})"
      ]
     },
     "execution_count": 84,
     "metadata": {},
     "output_type": "execute_result"
    }
   ],
   "source": [
    "split = '0, (1,2) , (3, 4)'\n",
    "\n",
    "def Uncode_split(split):\n",
    "    n = 0\n",
    "    tosplit = False \n",
    "    d = collections.defaultdict(list)\n",
    "    for i in split: \n",
    "        if i == '(':\n",
    "            tosplit =  True\n",
    "            n+= 1\n",
    "        if i == ')': \n",
    "            tosplit =  False\n",
    "        if i.isdigit(): \n",
    "            i = int(i)\n",
    "            if tosplit: d[n].append(i)\n",
    "            else : d[0].append(i)\n",
    "    return d\n",
    "\n",
    "split = '0, (1,2, 3)'\n",
    "split = Uncode_split(split)\n",
    "split =  {0: [0], 1: [1, 2, 3]}"
   ]
  },
  {
   "cell_type": "markdown",
   "id": "60e5bdd4",
   "metadata": {
    "heading_collapsed": true,
    "hidden": true
   },
   "source": [
    "### Run"
   ]
  },
  {
   "cell_type": "code",
   "execution_count": 48,
   "id": "8b2a1eee",
   "metadata": {
    "hidden": true
   },
   "outputs": [
    {
     "data": {
      "text/plain": [
       "defaultdict(list, {0: [0], 1: [1, 2, 3]})"
      ]
     },
     "execution_count": 48,
     "metadata": {},
     "output_type": "execute_result"
    }
   ],
   "source": [
    "split = '0, (1,2, 3)'\n",
    "Uncode_split(split)"
   ]
  },
  {
   "cell_type": "code",
   "execution_count": 79,
   "id": "e41ee881",
   "metadata": {
    "hidden": true
   },
   "outputs": [
    {
     "name": "stdout",
     "output_type": "stream",
     "text": [
      "{'i': 0, 'j': 0, 'Clist': [0, 1, 2, 3], 'd_EtoC_list': array([1.44, 0.48]), 'd_PtoE': 0.48, 'EClist': [1, 2], 'Group': [1, 2], 'grouped': True, 'EClistTotal': [[1, 2], [0, 3]], 'PressionConnect': {1: 4.12, 2: 4.15}}\n",
      "{'i': 0, 'j': 1, 'Clist': [0, 1, 2, 3], 'd_EtoC_list': array([0.8, 2.4]), 'd_PtoE': 0.48, 'EClist': [0, 3], 'Group': [1, 2], 'grouped': False, 'EClistTotal': [[1, 2], [0, 3]], 'PressionConnect': {0: 2.23, 3: 4.46}}\n"
     ]
    },
    {
     "data": {
      "text/plain": [
       "{'PressionList': [2.23, 4.12, 4.15, 4.46],\n",
       " 'DebitList': [36.25, 10.7, 10.74, 11.13],\n",
       " 'Debit': 68.8}"
      ]
     },
     "execution_count": 79,
     "metadata": {},
     "output_type": "execute_result"
    }
   ],
   "source": [
    "Nozzles = ['ramp', 'fixed', 'fixed', 'fixed']\n",
    "algo.Nozzles = Nozzles\n",
    "Nvals   = [algo.DataCategorie['Nozzle']['Values'][n]['a'] for n in Nozzles]\n",
    "algo.Nvals = dict(zip(Clist, Nvals))\n",
    "algo.Group  = [1,2]\n",
    "Calcul_Debit_2(algo ,indiv, group)"
   ]
  },
  {
   "cell_type": "code",
   "execution_count": 57,
   "id": "9da15611",
   "metadata": {
    "collapsed": true,
    "hidden": true
   },
   "outputs": [
    {
     "data": {
      "text/plain": [
       "{'Clist': [0, 1, 2, 3],\n",
       " 'CtoE': [1, 1, 1, 1],\n",
       " 'Econnect': {1: [0, 1, 2, 3]},\n",
       " 'Elist': [1],\n",
       " 'Ecount': 1,\n",
       " 'EtoP': [1],\n",
       " 'Pconnect': {1: [1]},\n",
       " 'Plist': [1],\n",
       " 'Pcount': 1,\n",
       " 'List_EtoC': [['E1-C0', 'E1-C1', 'E1-C2', 'E1-C3']],\n",
       " 'List_PtoE': [['P1-E1']],\n",
       " 'dist_Connect': {'E1-C0': 0.8,\n",
       "  'E1-C1': 1.44,\n",
       "  'E1-C2': 0.48,\n",
       "  'E1-C3': 2.4,\n",
       "  'P1-E1': 0.48},\n",
       " 'dist': 5.6,\n",
       " 'Name': ['E1-C0', 'E1-C1', 'E1-C2', 'E1-C3', 'P1-E1'],\n",
       " 'ID': 4,\n",
       " 'Name_txt': 'E1-C0,E1-C1,E1-C2,E1-C3,P1-E1',\n",
       " 'Epoch': 0,\n",
       " 'PressionList': [4.5, 4.12, 4.15, 4.46],\n",
       " 'DebitList': [11.18, 10.7, 10.74, 11.13],\n",
       " 'Debit': 43.8,\n",
       " 'Masse': 1433,\n",
       " 'Cout': 57,\n",
       " 'Alive': True}"
      ]
     },
     "execution_count": 57,
     "metadata": {},
     "output_type": "execute_result"
    }
   ],
   "source": [
    "indiv"
   ]
  },
  {
   "cell_type": "code",
   "execution_count": null,
   "id": "fb5bca33",
   "metadata": {
    "hidden": true
   },
   "outputs": [],
   "source": [
    "[2.2, 4.4, 4.5, 2.0]\n",
    "[36.3, 11.1, 11.1, 34.5]"
   ]
  },
  {
   "cell_type": "code",
   "execution_count": 71,
   "id": "68c0eaae",
   "metadata": {
    "hidden": true
   },
   "outputs": [],
   "source": [
    "dc = {'i': 0, 'j': 0, 'Clist': [0, 1, 2, 3], 'd_EtoC_list': np.array([0.8 , 1.44, 0.48, 2.4 ]),\n",
    "      'd_PtoE': 0.48, 'EClist': [0, 1, 2, 3], 'Group': [0, 1, 2, 3], 'grouped': True,\n",
    "      'EClistTotal': [[0, 1, 2, 3], []], 'PressionConnect': {0: 1.47, 1: 2.22, 2: 2.24, 3: 2.21}}"
   ]
  },
  {
   "cell_type": "code",
   "execution_count": 81,
   "id": "2c5c03df",
   "metadata": {
    "hidden": true
   },
   "outputs": [],
   "source": [
    "dc = {'i': 0, 'j': 0, 'Clist': [0, 1, 2, 3],\n",
    "      'd_EtoC_list': np.array([1.44, 0.48]), 'd_PtoE': 0.48, 'EClist': [1, 2], 'Group': [1, 2],\n",
    "      'grouped': True, 'EClistTotal': [[1, 2], [0, 3]], 'PressionConnect': {1: 4.12, 2: 4.15}}"
   ]
  },
  {
   "cell_type": "code",
   "execution_count": 82,
   "id": "2f9a1fba",
   "metadata": {
    "hidden": true
   },
   "outputs": [
    {
     "data": {
      "text/plain": [
       "(0, array([0.036, 0.036]), 0.000235)"
      ]
     },
     "execution_count": 82,
     "metadata": {},
     "output_type": "execute_result"
    },
    {
     "data": {
      "text/plain": [
       "{'Qt': 20.86,\n",
       " 'Pt': 3.94,\n",
       " 'Qi': array([10.42, 10.45]),\n",
       " 'Pi': array([3.91, 3.93])}"
      ]
     },
     "execution_count": 82,
     "metadata": {},
     "output_type": "execute_result"
    }
   ],
   "source": [
    "# d_EtoC = Dict_dist['EtoC']\n",
    "# d_PtoE = Dict_dist['PtoE']\n",
    "\n",
    "d_EtoC_list = dc['d_EtoC_list']\n",
    "d_PtoE = dc['d_PtoE']\n",
    "EClist = dc['EClist']\n",
    "group = True\n",
    "\n",
    "p = [-5.16e-04, -1.54e-02, 4.87]\n",
    "p = algo.Pvals\n",
    "# p = [-6.61e-4,-0.0286,12.1]\n",
    "E0 = 7.64e-04\n",
    "coef_E  = np.ones(len(EClist)) * E0\n",
    "coef_E  = np.array([E0 if c in [0,3] else 0 for c in EClist])\n",
    "coef_E = 0\n",
    "# print(Clist , coef_E)\n",
    "coef_C  = 0.036\n",
    "coef_C  = [algo.Nvals[i] for i in EClist]\n",
    "coef_C  = np.array(coef_C)\n",
    "coef_d  = 2.35e-04    \n",
    "coef_E , coef_C , coef_d\n",
    "\n",
    "A = coef_E + d_EtoC_list * coef_d + coef_C \n",
    "Z = ( A**-0.5).sum() if group else A**-0.5\n",
    "# Z = A**-0.5\n",
    "\n",
    "As = p[0] - (coef_d * d_PtoE) - 1/(Z**2) - E0\n",
    "Bs = p[1]\n",
    "Cs = p[2]\n",
    "\n",
    "delta = (Bs**2) - (4 * As * Cs)\n",
    "Qt  = np.array((- Bs - delta**0.5)/(2*As))\n",
    "Pt = np.array(Qt**2 / Z**2)\n",
    "a0 = p[0] * (Qt**2) + p[1] * Qt + p[2] - Pt\n",
    "Qi = (Pt / A)**0.5\n",
    "Pi = coef_C * (Qi**2)\n",
    "key = ['Qt','Pt','Qi','Pi']\n",
    "val = [Qt, Pt, Qi, Pi]\n",
    "val = [v.round(2) for v in val]\n",
    "dict(zip(key,val))"
   ]
  },
  {
   "cell_type": "markdown",
   "id": "f7a5bb14",
   "metadata": {
    "heading_collapsed": true,
    "hidden": true
   },
   "source": [
    "## Test si multiple E slot "
   ]
  },
  {
   "cell_type": "code",
   "execution_count": 54,
   "id": "f836f231",
   "metadata": {
    "hidden": true
   },
   "outputs": [
    {
     "name": "stdout",
     "output_type": "stream",
     "text": [
      "[0, 2] {0: [1], 1: [0, 2, 3]}\n",
      "0 1 0 [1] False [1]\n",
      "1 0 1 [0, 2] True [0, 2]\n",
      "1 1 1 [3] False [3]\n"
     ]
    }
   ],
   "source": [
    "D = algo.Comb  \n",
    "Group = algo.Group  \n",
    "Clist = D['C']\n",
    "Econnect = indiv['Econnect']\n",
    "\n",
    "Pconnect = indiv['Pconnect']\n",
    "EtoP = indiv['EtoP']\n",
    "Pression = []\n",
    "Debit = []\n",
    "# Data = {}\n",
    "# Pression_C = []\n",
    "# on loop sur chaque EV pour connect to C et faire calcul Pt Qt coté pompe et Pi Qi coté Capteur\n",
    "Cpression = {}\n",
    "Cdebit = {}\n",
    "grouped = False\n",
    "\n",
    "print(Group, Econnect)\n",
    "for i, (e,EClist) in enumerate(Econnect.items()):\n",
    "    p = EtoP[i]\n",
    "    name = 'P{}-E{}'.format(p,e)\n",
    "    VerifGroup = np.isin(Group,  EClist)\n",
    "    # EClistTotal = [EClist]\n",
    "    # if VerifGroup.all() & (len(Group) > 0):\n",
    "    EClistTotal = [[i for i in EClist if i in Group], [i for i in EClist if i not in Group]]          \n",
    "    grouped = True\n",
    "    for j,  EClist in enumerate(EClistTotal):\n",
    "        if j >0 : grouped = False # bascule a No group apres le passage group \n",
    "        if len(EClist)>0: # bug avec calcul array\n",
    "            print(i,j,e,EClist , grouped, EClist)\n",
    "            if grouped : Egroup = EClist"
   ]
  },
  {
   "cell_type": "code",
   "execution_count": 66,
   "id": "45c7a0bf",
   "metadata": {
    "hidden": true
   },
   "outputs": [],
   "source": [
    "Esplit = collections.defaultdict(list)"
   ]
  },
  {
   "cell_type": "code",
   "execution_count": 62,
   "id": "8783ffde",
   "metadata": {
    "hidden": true
   },
   "outputs": [
    {
     "data": {
      "text/plain": [
       "2"
      ]
     },
     "execution_count": 62,
     "metadata": {},
     "output_type": "execute_result"
    },
    {
     "data": {
      "text/plain": [
       "array([0, 0])"
      ]
     },
     "execution_count": 62,
     "metadata": {},
     "output_type": "execute_result"
    },
    {
     "data": {
      "text/plain": [
       "dict_keys([0])"
      ]
     },
     "execution_count": 62,
     "metadata": {},
     "output_type": "execute_result"
    },
    {
     "data": {
      "text/plain": [
       "defaultdict(list, {0: [0, 2]})"
      ]
     },
     "execution_count": 62,
     "metadata": {},
     "output_type": "execute_result"
    }
   ],
   "source": [
    "Size = len(Egroup)\n",
    "Size\n",
    "s = SplitDict[Size][0]\n",
    "s\n",
    "\n",
    "d = collections.defaultdict(list)\n",
    "for i in range(Size): \n",
    "    d[s[i]].append(Egroup[i])\n",
    "d.keys()\n",
    "d"
   ]
  },
  {
   "cell_type": "markdown",
   "id": "3d69127c",
   "metadata": {
    "heading_collapsed": true
   },
   "source": [
    "# PF ANCIEN"
   ]
  },
  {
   "cell_type": "markdown",
   "id": "8cfa9c1e",
   "metadata": {
    "heading_collapsed": true,
    "hidden": true
   },
   "source": [
    "## func"
   ]
  },
  {
   "cell_type": "code",
   "execution_count": 6,
   "id": "7fb89d78",
   "metadata": {
    "hidden": true
   },
   "outputs": [],
   "source": [
    "def Path1(A,start): \n",
    "    N = len(A)\n",
    "    v0 = np.array([-1,1,-N,N])\n",
    "    #     v0 = np.array([-1,1,-N,N, -N-1, -N+1,N+1,N-1])\n",
    "    Dim = len(v0)\n",
    "    e = 2\n",
    "    A[start] = e\n",
    "    a = A.reshape(-1)\n",
    "    v = np.where(a == e)  \n",
    "\n",
    "    while len(v) > 0 :\n",
    "        v = np.tile(v, (Dim, 1)).T + v0\n",
    "        v = v[np.where(a[v]==0)]\n",
    "        v = np.unique(v)        \n",
    "        e+=1\n",
    "        a[v]=e\n",
    "    return a.reshape((N,N))\n",
    "\n",
    "def Path2(A,start,goal):\n",
    "    N = len(A)\n",
    "    v0 = np.array([-1,1,-N,N])\n",
    "    #     v0 = np.array([-1,1,-N,N, -N-1, -N+1,N+1,N-1])\n",
    "    Dim = len(v0)\n",
    "    e1,e2  = A[start] , A[goal]\n",
    "    a = A.reshape(-1)\n",
    "    v = goal[1] + goal[0]*N\n",
    "    L  = [goal]\n",
    "    while e2 > 2:\n",
    "        v = v + v0\n",
    "        v[v > len(a)] = len(a)-1\n",
    "        v = v[np.where((a[v] < e2) & (a[v] >= 2))]\n",
    "        idx = a[v].argmin()\n",
    "        v = v[idx]\n",
    "        e2 = a[v]\n",
    "        pos = (int(np.ceil(v/N)-1),  v%N)\n",
    "        L.insert(0,pos)\n",
    "    return L"
   ]
  },
  {
   "cell_type": "markdown",
   "id": "ffeb35bf",
   "metadata": {
    "heading_collapsed": true,
    "hidden": true
   },
   "source": [
    "## Run"
   ]
  },
  {
   "cell_type": "code",
   "execution_count": 158,
   "id": "70449dab",
   "metadata": {
    "hidden": true
   },
   "outputs": [],
   "source": [
    "file = 'VALEO_full.tmj'\n",
    "algo = load_data_brut(file)\n",
    "with open(file, 'r') as f:\n",
    "      data = json.load(f)\n",
    "        \n"
   ]
  },
  {
   "cell_type": "code",
   "execution_count": 159,
   "id": "7c261c3f",
   "metadata": {
    "collapsed": true,
    "hidden": true
   },
   "outputs": [
    {
     "data": {
      "text/html": [
       "<div>\n",
       "<style scoped>\n",
       "    .dataframe tbody tr th:only-of-type {\n",
       "        vertical-align: middle;\n",
       "    }\n",
       "\n",
       "    .dataframe tbody tr th {\n",
       "        vertical-align: top;\n",
       "    }\n",
       "\n",
       "    .dataframe thead th {\n",
       "        text-align: right;\n",
       "    }\n",
       "</style>\n",
       "<table border=\"1\" class=\"dataframe\">\n",
       "  <thead>\n",
       "    <tr style=\"text-align: right;\">\n",
       "      <th></th>\n",
       "      <th>Class</th>\n",
       "      <th>polyline</th>\n",
       "      <th>properties</th>\n",
       "      <th>x</th>\n",
       "      <th>y</th>\n",
       "    </tr>\n",
       "  </thead>\n",
       "  <tbody>\n",
       "    <tr>\n",
       "      <th>0</th>\n",
       "      <td>E-P</td>\n",
       "      <td>[{'x': 8, 'y': 0}, {'x': 0, 'y': 0}]</td>\n",
       "      <td>[{'name': 'end', 'type': 'string', 'value': '0...</td>\n",
       "      <td>28</td>\n",
       "      <td>120</td>\n",
       "    </tr>\n",
       "    <tr>\n",
       "      <th>1</th>\n",
       "      <td>E-P</td>\n",
       "      <td>[{'x': 0, 'y': 72}, {'x': 0, 'y': 0}]</td>\n",
       "      <td>[{'name': 'end', 'type': 'string', 'value': '1...</td>\n",
       "      <td>40</td>\n",
       "      <td>44</td>\n",
       "    </tr>\n",
       "    <tr>\n",
       "      <th>2</th>\n",
       "      <td>E-P</td>\n",
       "      <td>[{'x': 24, 'y': 0}, {'x': 0, 'y': 0}]</td>\n",
       "      <td>[{'name': 'end', 'type': 'string', 'value': '1...</td>\n",
       "      <td>44</td>\n",
       "      <td>40</td>\n",
       "    </tr>\n",
       "    <tr>\n",
       "      <th>3</th>\n",
       "      <td>E-P</td>\n",
       "      <td>[{'x': 40, 'y': -72}, {'x': 40, 'y': -64}, {'x...</td>\n",
       "      <td>[{'name': 'end', 'type': 'string', 'value': '0...</td>\n",
       "      <td>28</td>\n",
       "      <td>116</td>\n",
       "    </tr>\n",
       "    <tr>\n",
       "      <th>4</th>\n",
       "      <td>C-E</td>\n",
       "      <td>[{'x': 0, 'y': -4}, {'x': 0, 'y': 8}, {'x': 16...</td>\n",
       "      <td>[{'name': 'end', 'type': 'string', 'value': '1...</td>\n",
       "      <td>56</td>\n",
       "      <td>16</td>\n",
       "    </tr>\n",
       "    <tr>\n",
       "      <th>5</th>\n",
       "      <td>C-E</td>\n",
       "      <td>[{'x': 0, 'y': 4}, {'x': -12, 'y': 4}, {'x': -...</td>\n",
       "      <td>[{'name': 'end', 'type': 'string', 'value': '0...</td>\n",
       "      <td>100</td>\n",
       "      <td>40</td>\n",
       "    </tr>\n",
       "    <tr>\n",
       "      <th>6</th>\n",
       "      <td>C-E</td>\n",
       "      <td>[{'x': -4, 'y': -8}, {'x': 4, 'y': -8}, {'x': ...</td>\n",
       "      <td>[{'name': 'end', 'type': 'string', 'value': '0...</td>\n",
       "      <td>16</td>\n",
       "      <td>48</td>\n",
       "    </tr>\n",
       "    <tr>\n",
       "      <th>7</th>\n",
       "      <td>C-E</td>\n",
       "      <td>[{'x': 4, 'y': 0}, {'x': -20, 'y': 0}]</td>\n",
       "      <td>[{'name': 'end', 'type': 'string', 'value': '1...</td>\n",
       "      <td>96</td>\n",
       "      <td>36</td>\n",
       "    </tr>\n",
       "    <tr>\n",
       "      <th>8</th>\n",
       "      <td>C-E</td>\n",
       "      <td>[{'x': 0, 'y': 0}, {'x': 0, 'y': 44}, {'x': 0,...</td>\n",
       "      <td>[{'name': 'end', 'type': 'string', 'value': '0...</td>\n",
       "      <td>52</td>\n",
       "      <td>12</td>\n",
       "    </tr>\n",
       "    <tr>\n",
       "      <th>9</th>\n",
       "      <td>C-E</td>\n",
       "      <td>[{'x': 0, 'y': 0}, {'x': 12, 'y': 0}, {'x': 12...</td>\n",
       "      <td>[{'name': 'end', 'type': 'string', 'value': '1...</td>\n",
       "      <td>12</td>\n",
       "      <td>36</td>\n",
       "    </tr>\n",
       "    <tr>\n",
       "      <th>10</th>\n",
       "      <td>C-E</td>\n",
       "      <td>[{'x': 0, 'y': 64}, {'x': 0, 'y': -28}, {'x': ...</td>\n",
       "      <td>[{'name': 'end', 'type': 'string', 'value': '1...</td>\n",
       "      <td>56</td>\n",
       "      <td>84</td>\n",
       "    </tr>\n",
       "    <tr>\n",
       "      <th>11</th>\n",
       "      <td>C-E</td>\n",
       "      <td>[{'x': -4, 'y': 56}, {'x': -4, 'y': 32}, {'x':...</td>\n",
       "      <td>[{'name': 'end', 'type': 'string', 'value': '0...</td>\n",
       "      <td>56</td>\n",
       "      <td>92</td>\n",
       "    </tr>\n",
       "    <tr>\n",
       "      <th>12</th>\n",
       "      <td>C-E</td>\n",
       "      <td>[{'x': -28, 'y': 72}, {'x': -28, 'y': 16}, {'x...</td>\n",
       "      <td>[{'name': 'end', 'type': 'string', 'value': '2...</td>\n",
       "      <td>88</td>\n",
       "      <td>76</td>\n",
       "    </tr>\n",
       "    <tr>\n",
       "      <th>13</th>\n",
       "      <td>C-E</td>\n",
       "      <td>[{'x': 4, 'y': 0}, {'x': -12, 'y': 0}, {'x': -...</td>\n",
       "      <td>[{'name': 'end', 'type': 'string', 'value': '2...</td>\n",
       "      <td>96</td>\n",
       "      <td>40</td>\n",
       "    </tr>\n",
       "    <tr>\n",
       "      <th>14</th>\n",
       "      <td>C-E</td>\n",
       "      <td>[{'x': -4, 'y': -40}, {'x': -4, 'y': 32}, {'x'...</td>\n",
       "      <td>[{'name': 'end', 'type': 'string', 'value': '2...</td>\n",
       "      <td>64</td>\n",
       "      <td>52</td>\n",
       "    </tr>\n",
       "    <tr>\n",
       "      <th>15</th>\n",
       "      <td>C-E</td>\n",
       "      <td>[{'x': -4, 'y': 0}, {'x': 8, 'y': 0}, {'x': 8,...</td>\n",
       "      <td>[{'name': 'end', 'type': 'string', 'value': '2...</td>\n",
       "      <td>16</td>\n",
       "      <td>44</td>\n",
       "    </tr>\n",
       "    <tr>\n",
       "      <th>16</th>\n",
       "      <td>E-P</td>\n",
       "      <td>[{'x': 24, 'y': 36}, {'x': 24, 'y': 28}, {'x':...</td>\n",
       "      <td>[{'name': 'end', 'type': 'string', 'value': '1...</td>\n",
       "      <td>48</td>\n",
       "      <td>48</td>\n",
       "    </tr>\n",
       "    <tr>\n",
       "      <th>17</th>\n",
       "      <td>E-P</td>\n",
       "      <td>[{'x': 36, 'y': -40}, {'x': 36, 'y': 0}, {'x':...</td>\n",
       "      <td>[{'name': 'end', 'type': 'string', 'value': '0...</td>\n",
       "      <td>36</td>\n",
       "      <td>132</td>\n",
       "    </tr>\n",
       "  </tbody>\n",
       "</table>\n",
       "</div>"
      ],
      "text/plain": [
       "   Class                                           polyline  \\\n",
       "0    E-P               [{'x': 8, 'y': 0}, {'x': 0, 'y': 0}]   \n",
       "1    E-P              [{'x': 0, 'y': 72}, {'x': 0, 'y': 0}]   \n",
       "2    E-P              [{'x': 24, 'y': 0}, {'x': 0, 'y': 0}]   \n",
       "3    E-P  [{'x': 40, 'y': -72}, {'x': 40, 'y': -64}, {'x...   \n",
       "4    C-E  [{'x': 0, 'y': -4}, {'x': 0, 'y': 8}, {'x': 16...   \n",
       "5    C-E  [{'x': 0, 'y': 4}, {'x': -12, 'y': 4}, {'x': -...   \n",
       "6    C-E  [{'x': -4, 'y': -8}, {'x': 4, 'y': -8}, {'x': ...   \n",
       "7    C-E             [{'x': 4, 'y': 0}, {'x': -20, 'y': 0}]   \n",
       "8    C-E  [{'x': 0, 'y': 0}, {'x': 0, 'y': 44}, {'x': 0,...   \n",
       "9    C-E  [{'x': 0, 'y': 0}, {'x': 12, 'y': 0}, {'x': 12...   \n",
       "10   C-E  [{'x': 0, 'y': 64}, {'x': 0, 'y': -28}, {'x': ...   \n",
       "11   C-E  [{'x': -4, 'y': 56}, {'x': -4, 'y': 32}, {'x':...   \n",
       "12   C-E  [{'x': -28, 'y': 72}, {'x': -28, 'y': 16}, {'x...   \n",
       "13   C-E  [{'x': 4, 'y': 0}, {'x': -12, 'y': 0}, {'x': -...   \n",
       "14   C-E  [{'x': -4, 'y': -40}, {'x': -4, 'y': 32}, {'x'...   \n",
       "15   C-E  [{'x': -4, 'y': 0}, {'x': 8, 'y': 0}, {'x': 8,...   \n",
       "16   E-P  [{'x': 24, 'y': 36}, {'x': 24, 'y': 28}, {'x':...   \n",
       "17   E-P  [{'x': 36, 'y': -40}, {'x': 36, 'y': 0}, {'x':...   \n",
       "\n",
       "                                           properties    x    y  \n",
       "0   [{'name': 'end', 'type': 'string', 'value': '0...   28  120  \n",
       "1   [{'name': 'end', 'type': 'string', 'value': '1...   40   44  \n",
       "2   [{'name': 'end', 'type': 'string', 'value': '1...   44   40  \n",
       "3   [{'name': 'end', 'type': 'string', 'value': '0...   28  116  \n",
       "4   [{'name': 'end', 'type': 'string', 'value': '1...   56   16  \n",
       "5   [{'name': 'end', 'type': 'string', 'value': '0...  100   40  \n",
       "6   [{'name': 'end', 'type': 'string', 'value': '0...   16   48  \n",
       "7   [{'name': 'end', 'type': 'string', 'value': '1...   96   36  \n",
       "8   [{'name': 'end', 'type': 'string', 'value': '0...   52   12  \n",
       "9   [{'name': 'end', 'type': 'string', 'value': '1...   12   36  \n",
       "10  [{'name': 'end', 'type': 'string', 'value': '1...   56   84  \n",
       "11  [{'name': 'end', 'type': 'string', 'value': '0...   56   92  \n",
       "12  [{'name': 'end', 'type': 'string', 'value': '2...   88   76  \n",
       "13  [{'name': 'end', 'type': 'string', 'value': '2...   96   40  \n",
       "14  [{'name': 'end', 'type': 'string', 'value': '2...   64   52  \n",
       "15  [{'name': 'end', 'type': 'string', 'value': '2...   16   44  \n",
       "16  [{'name': 'end', 'type': 'string', 'value': '1...   48   48  \n",
       "17  [{'name': 'end', 'type': 'string', 'value': '0...   36  132  "
      ]
     },
     "execution_count": 159,
     "metadata": {},
     "output_type": "execute_result"
    }
   ],
   "source": [
    "dfline  = pd.DataFrame(data['layers'][2]['objects']).drop(columns=['rotation','width','name','height','visible','id']).rename(columns = {'class' : 'Class'})        \n",
    "dfline"
   ]
  },
  {
   "cell_type": "code",
   "execution_count": 160,
   "id": "21be17ac",
   "metadata": {
    "hidden": true
   },
   "outputs": [
    {
     "data": {
      "text/html": [
       "<div>\n",
       "<style scoped>\n",
       "    .dataframe tbody tr th:only-of-type {\n",
       "        vertical-align: middle;\n",
       "    }\n",
       "\n",
       "    .dataframe tbody tr th {\n",
       "        vertical-align: top;\n",
       "    }\n",
       "\n",
       "    .dataframe thead th {\n",
       "        text-align: right;\n",
       "    }\n",
       "</style>\n",
       "<table border=\"1\" class=\"dataframe\">\n",
       "  <thead>\n",
       "    <tr style=\"text-align: right;\">\n",
       "      <th></th>\n",
       "      <th>Class</th>\n",
       "      <th>id</th>\n",
       "      <th>Name</th>\n",
       "      <th>x</th>\n",
       "      <th>y</th>\n",
       "      <th>ID</th>\n",
       "      <th>Color</th>\n",
       "    </tr>\n",
       "  </thead>\n",
       "  <tbody>\n",
       "    <tr>\n",
       "      <th>0</th>\n",
       "      <td>C</td>\n",
       "      <td>41</td>\n",
       "      <td>3</td>\n",
       "      <td>3</td>\n",
       "      <td>9</td>\n",
       "      <td>C3</td>\n",
       "      <td>10</td>\n",
       "    </tr>\n",
       "    <tr>\n",
       "      <th>1</th>\n",
       "      <td>C</td>\n",
       "      <td>38</td>\n",
       "      <td>2</td>\n",
       "      <td>6</td>\n",
       "      <td>2</td>\n",
       "      <td>C2</td>\n",
       "      <td>10</td>\n",
       "    </tr>\n",
       "    <tr>\n",
       "      <th>2</th>\n",
       "      <td>C</td>\n",
       "      <td>40</td>\n",
       "      <td>1</td>\n",
       "      <td>0</td>\n",
       "      <td>2</td>\n",
       "      <td>C1</td>\n",
       "      <td>10</td>\n",
       "    </tr>\n",
       "    <tr>\n",
       "      <th>3</th>\n",
       "      <td>C</td>\n",
       "      <td>39</td>\n",
       "      <td>0</td>\n",
       "      <td>3</td>\n",
       "      <td>0</td>\n",
       "      <td>C0</td>\n",
       "      <td>10</td>\n",
       "    </tr>\n",
       "    <tr>\n",
       "      <th>4</th>\n",
       "      <td>E</td>\n",
       "      <td>50</td>\n",
       "      <td>2</td>\n",
       "      <td>4</td>\n",
       "      <td>5</td>\n",
       "      <td>E2</td>\n",
       "      <td>20</td>\n",
       "    </tr>\n",
       "    <tr>\n",
       "      <th>5</th>\n",
       "      <td>E</td>\n",
       "      <td>42</td>\n",
       "      <td>1</td>\n",
       "      <td>4</td>\n",
       "      <td>2</td>\n",
       "      <td>E1</td>\n",
       "      <td>20</td>\n",
       "    </tr>\n",
       "    <tr>\n",
       "      <th>6</th>\n",
       "      <td>E</td>\n",
       "      <td>43</td>\n",
       "      <td>0</td>\n",
       "      <td>2</td>\n",
       "      <td>7</td>\n",
       "      <td>E0</td>\n",
       "      <td>20</td>\n",
       "    </tr>\n",
       "    <tr>\n",
       "      <th>7</th>\n",
       "      <td>P</td>\n",
       "      <td>44</td>\n",
       "      <td>1</td>\n",
       "      <td>2</td>\n",
       "      <td>2</td>\n",
       "      <td>P1</td>\n",
       "      <td>30</td>\n",
       "    </tr>\n",
       "    <tr>\n",
       "      <th>8</th>\n",
       "      <td>P</td>\n",
       "      <td>45</td>\n",
       "      <td>0</td>\n",
       "      <td>1</td>\n",
       "      <td>7</td>\n",
       "      <td>P0</td>\n",
       "      <td>30</td>\n",
       "    </tr>\n",
       "  </tbody>\n",
       "</table>\n",
       "</div>"
      ],
      "text/plain": [
       "  Class  id  Name  x  y  ID  Color\n",
       "0     C  41     3  3  9  C3     10\n",
       "1     C  38     2  6  2  C2     10\n",
       "2     C  40     1  0  2  C1     10\n",
       "3     C  39     0  3  0  C0     10\n",
       "4     E  50     2  4  5  E2     20\n",
       "5     E  42     1  4  2  E1     20\n",
       "6     E  43     0  2  7  E0     20\n",
       "7     P  44     1  2  2  P1     30\n",
       "8     P  45     0  1  7  P0     30"
      ]
     },
     "execution_count": 160,
     "metadata": {},
     "output_type": "execute_result"
    }
   ],
   "source": [
    "dfslot = algo.dfslot\n",
    "dfslot"
   ]
  },
  {
   "cell_type": "code",
   "execution_count": 161,
   "id": "0e92c035",
   "metadata": {
    "hidden": true
   },
   "outputs": [
    {
     "data": {
      "text/plain": [
       "{'C3': (9, 3),\n",
       " 'C2': (2, 6),\n",
       " 'C1': (2, 0),\n",
       " 'C0': (0, 3),\n",
       " 'E2': (5, 4),\n",
       " 'E1': (2, 4),\n",
       " 'E0': (7, 2),\n",
       " 'P1': (2, 2),\n",
       " 'P0': (7, 1)}"
      ]
     },
     "execution_count": 161,
     "metadata": {},
     "output_type": "execute_result"
    }
   ],
   "source": [
    "DictPos = {}\n",
    "for idx , row in dfslot.iterrows():\n",
    "    x = row.x\n",
    "    y = row.y \n",
    "    ID = row.ID\n",
    "    Class = row.Class\n",
    "    DictPos[ID] = (y,x)\n",
    "DictPos      "
   ]
  },
  {
   "cell_type": "code",
   "execution_count": 162,
   "id": "133e4f08",
   "metadata": {
    "hidden": true
   },
   "outputs": [],
   "source": [
    "A0 = algo.A0.copy()+1\n",
    "A0[A0 == 2] = 0\n",
    "for idx, row in algo.dfslot.iterrows():   \n",
    "    A0[row.y, row.x] = row.Color+5\n",
    "Ax = np.ones((10,10))\n",
    "Ax[:A0.shape[0],:A0.shape[1]] = A0"
   ]
  },
  {
   "cell_type": "code",
   "execution_count": 163,
   "id": "cd22b4ee",
   "metadata": {
    "hidden": true
   },
   "outputs": [
    {
     "data": {
      "text/plain": [
       "<matplotlib.image.AxesImage at 0x1dbc04610d0>"
      ]
     },
     "execution_count": 163,
     "metadata": {},
     "output_type": "execute_result"
    },
    {
     "data": {
      "image/png": "[encoded data removed]",
      "text/plain": [
       "<Figure size 640x480 with 1 Axes>"
      ]
     },
     "metadata": {},
     "output_type": "display_data"
    }
   ],
   "source": [
    "plt.imshow(Ax)"
   ]
  },
  {
   "cell_type": "code",
   "execution_count": 164,
   "id": "79eadf62",
   "metadata": {
    "hidden": true
   },
   "outputs": [
    {
     "data": {
      "text/plain": [
       "[0, 1, 2, 3, 0, 1]"
      ]
     },
     "execution_count": 164,
     "metadata": {},
     "output_type": "execute_result"
    }
   ],
   "source": [
    "Comb = dfslot.groupby('Class').Name.unique().apply(list).apply(sorted).to_dict()\n",
    "Comb['C'] + Comb['P']"
   ]
  },
  {
   "cell_type": "code",
   "execution_count": 165,
   "id": "8c00c5e3",
   "metadata": {
    "hidden": true
   },
   "outputs": [
    {
     "name": "stdout",
     "output_type": "stream",
     "text": [
      "CPU times: total: 15.6 ms\n",
      "Wall time: 4.96 ms\n"
     ]
    }
   ],
   "source": [
    "%%time\n",
    "e = 'E0'\n",
    "Path = []\n",
    "# fig, ax = plt.subplots(figsize = (4,4))\n",
    "# f = ax.imshow(Ax)\n",
    "d = {} \n",
    "for begin in ['E0','E1','E2']:\n",
    "    start = DictPos[begin]\n",
    "    A = Ax.copy()\n",
    "    A1 = Path1(A,start)\n",
    "    for end in ['C0','C1','C2','C3','P0','P1']: \n",
    "\n",
    "        goal = DictPos[end]\n",
    "         \n",
    "        \n",
    "        L = Path2(A1.copy() ,start,  goal)\n",
    "        L = np.array(L)\n",
    "        Path.append(L)\n",
    "\n",
    "        dist = np.abs(np.diff(L.T)).sum()\n",
    "        \n",
    "        if end[0] == 'C' :            ID = begin + '-' + end\n",
    "        else : ID = end + '-' + begin\n",
    "#         print(begin,start, end , goal)\n",
    "        d[ID] = dist\n"
   ]
  },
  {
   "cell_type": "code",
   "execution_count": 166,
   "id": "d7c34485",
   "metadata": {
    "hidden": true
   },
   "outputs": [
    {
     "data": {
      "text/plain": [
       "18"
      ]
     },
     "execution_count": 166,
     "metadata": {},
     "output_type": "execute_result"
    },
    {
     "data": {
      "image/png": "[encoded data removed]",
      "text/plain": [
       "<Figure size 800x800 with 1 Axes>"
      ]
     },
     "metadata": {},
     "output_type": "display_data"
    }
   ],
   "source": [
    "len(Path)\n",
    "fig, ax = plt.subplots(figsize = (8,8))\n",
    "masked = np.ma.masked_where(A0 <= 1, A0)\n",
    "# f = ax.imshow(A0)\n",
    "offset = np.linspace(-0.3,0.3,18)\n",
    "for i, p in enumerate(Path):\n",
    "        n = offset[i]\n",
    "#         n = 0\n",
    "        \n",
    "        f = ax.plot(p[:,1]+n,p[:,0]+n,'w', linewidth=1)\n",
    "f = ax.imshow(masked,alpha=1,cmap = 'Reds')\n",
    "f = ax.imshow(A0)"
   ]
  },
  {
   "cell_type": "code",
   "execution_count": 167,
   "id": "c48a6e3f",
   "metadata": {
    "hidden": true
   },
   "outputs": [
    {
     "data": {
      "text/plain": [
       "{'E0-C0': 8,\n",
       " 'E0-C1': 7,\n",
       " 'E0-C2': 9,\n",
       " 'E0-C3': 3,\n",
       " 'P0-E0': 1,\n",
       " 'P1-E0': 5,\n",
       " 'E1-C0': 3,\n",
       " 'E1-C1': 6,\n",
       " 'E1-C2': 2,\n",
       " 'E1-C3': 8,\n",
       " 'P0-E1': 8,\n",
       " 'P1-E1': 2,\n",
       " 'E2-C0': 6,\n",
       " 'E2-C1': 7,\n",
       " 'E2-C2': 5,\n",
       " 'E2-C3': 5,\n",
       " 'P0-E2': 5,\n",
       " 'P1-E2': 5}"
      ]
     },
     "execution_count": 167,
     "metadata": {},
     "output_type": "execute_result"
    }
   ],
   "source": [
    "d"
   ]
  },
  {
   "cell_type": "code",
   "execution_count": 168,
   "id": "4aba188d",
   "metadata": {
    "hidden": true
   },
   "outputs": [],
   "source": [
    "Save = [DictPos, d]"
   ]
  },
  {
   "cell_type": "code",
   "execution_count": 169,
   "id": "c03e7bdb",
   "metadata": {
    "hidden": true
   },
   "outputs": [
    {
     "data": {
      "text/html": [
       "<div>\n",
       "<style scoped>\n",
       "    .dataframe tbody tr th:only-of-type {\n",
       "        vertical-align: middle;\n",
       "    }\n",
       "\n",
       "    .dataframe tbody tr th {\n",
       "        vertical-align: top;\n",
       "    }\n",
       "\n",
       "    .dataframe thead th {\n",
       "        text-align: right;\n",
       "    }\n",
       "</style>\n",
       "<table border=\"1\" class=\"dataframe\">\n",
       "  <thead>\n",
       "    <tr style=\"text-align: right;\">\n",
       "      <th></th>\n",
       "      <th>dist</th>\n",
       "      <th>distPF</th>\n",
       "    </tr>\n",
       "  </thead>\n",
       "  <tbody>\n",
       "    <tr>\n",
       "      <th>dist</th>\n",
       "      <td>1.000000</td>\n",
       "      <td>0.981503</td>\n",
       "    </tr>\n",
       "    <tr>\n",
       "      <th>distPF</th>\n",
       "      <td>0.981503</td>\n",
       "      <td>1.000000</td>\n",
       "    </tr>\n",
       "  </tbody>\n",
       "</table>\n",
       "</div>"
      ],
      "text/plain": [
       "            dist    distPF\n",
       "dist    1.000000  0.981503\n",
       "distPF  0.981503  1.000000"
      ]
     },
     "execution_count": 169,
     "metadata": {},
     "output_type": "execute_result"
    },
    {
     "data": {
      "text/html": [
       "<div>\n",
       "<style scoped>\n",
       "    .dataframe tbody tr th:only-of-type {\n",
       "        vertical-align: middle;\n",
       "    }\n",
       "\n",
       "    .dataframe tbody tr th {\n",
       "        vertical-align: top;\n",
       "    }\n",
       "\n",
       "    .dataframe thead th {\n",
       "        text-align: right;\n",
       "    }\n",
       "</style>\n",
       "<table border=\"1\" class=\"dataframe\">\n",
       "  <thead>\n",
       "    <tr style=\"text-align: right;\">\n",
       "      <th></th>\n",
       "      <th>Class</th>\n",
       "      <th>polyline</th>\n",
       "      <th>end</th>\n",
       "      <th>long</th>\n",
       "      <th>start</th>\n",
       "      <th>dist</th>\n",
       "      <th>ID</th>\n",
       "      <th>distPF</th>\n",
       "      <th>distRatio</th>\n",
       "    </tr>\n",
       "  </thead>\n",
       "  <tbody>\n",
       "    <tr>\n",
       "      <th>0</th>\n",
       "      <td>C-E</td>\n",
       "      <td>[[52, 12], [52, 56], [52, 116], [44, 116]]</td>\n",
       "      <td>0</td>\n",
       "      <td>4.0</td>\n",
       "      <td>0</td>\n",
       "      <td>2.24</td>\n",
       "      <td>E0-C0</td>\n",
       "      <td>7.5</td>\n",
       "      <td>3.3</td>\n",
       "    </tr>\n",
       "    <tr>\n",
       "      <th>1</th>\n",
       "      <td>C-E</td>\n",
       "      <td>[[12, 40], [20, 40], [20, 104], [36, 104], [36...</td>\n",
       "      <td>0</td>\n",
       "      <td>3.0</td>\n",
       "      <td>1</td>\n",
       "      <td>2.00</td>\n",
       "      <td>E0-C1</td>\n",
       "      <td>6.5</td>\n",
       "      <td>3.2</td>\n",
       "    </tr>\n",
       "    <tr>\n",
       "      <th>2</th>\n",
       "      <td>C-E</td>\n",
       "      <td>[[100, 44], [88, 44], [88, 120], [44, 120]]</td>\n",
       "      <td>0</td>\n",
       "      <td>3.0</td>\n",
       "      <td>2</td>\n",
       "      <td>2.64</td>\n",
       "      <td>E0-C2</td>\n",
       "      <td>8.5</td>\n",
       "      <td>3.2</td>\n",
       "    </tr>\n",
       "    <tr>\n",
       "      <th>3</th>\n",
       "      <td>C-E</td>\n",
       "      <td>[[52, 148], [52, 124], [44, 124]]</td>\n",
       "      <td>0</td>\n",
       "      <td>2.0</td>\n",
       "      <td>3</td>\n",
       "      <td>0.64</td>\n",
       "      <td>E0-C3</td>\n",
       "      <td>2.5</td>\n",
       "      <td>3.9</td>\n",
       "    </tr>\n",
       "    <tr>\n",
       "      <th>4</th>\n",
       "      <td>C-E</td>\n",
       "      <td>[[56, 12], [56, 24], [72, 24], [72, 36]]</td>\n",
       "      <td>1</td>\n",
       "      <td>1.0</td>\n",
       "      <td>0</td>\n",
       "      <td>0.80</td>\n",
       "      <td>E1-C0</td>\n",
       "      <td>2.5</td>\n",
       "      <td>3.1</td>\n",
       "    </tr>\n",
       "    <tr>\n",
       "      <th>5</th>\n",
       "      <td>C-E</td>\n",
       "      <td>[[12, 36], [24, 36], [24, 28], [68, 28], [68, ...</td>\n",
       "      <td>1</td>\n",
       "      <td>2.0</td>\n",
       "      <td>1</td>\n",
       "      <td>1.44</td>\n",
       "      <td>E1-C1</td>\n",
       "      <td>5.5</td>\n",
       "      <td>3.8</td>\n",
       "    </tr>\n",
       "    <tr>\n",
       "      <th>6</th>\n",
       "      <td>C-E</td>\n",
       "      <td>[[100, 36], [76, 36]]</td>\n",
       "      <td>1</td>\n",
       "      <td>1.0</td>\n",
       "      <td>2</td>\n",
       "      <td>0.48</td>\n",
       "      <td>E1-C2</td>\n",
       "      <td>1.5</td>\n",
       "      <td>3.1</td>\n",
       "    </tr>\n",
       "    <tr>\n",
       "      <th>7</th>\n",
       "      <td>C-E</td>\n",
       "      <td>[[56, 148], [56, 56], [72, 56], [72, 44]]</td>\n",
       "      <td>1</td>\n",
       "      <td>2.0</td>\n",
       "      <td>3</td>\n",
       "      <td>2.40</td>\n",
       "      <td>E1-C3</td>\n",
       "      <td>7.5</td>\n",
       "      <td>3.1</td>\n",
       "    </tr>\n",
       "    <tr>\n",
       "      <th>8</th>\n",
       "      <td>C-E</td>\n",
       "      <td>[[60, 12], [60, 84], [68, 84]]</td>\n",
       "      <td>2</td>\n",
       "      <td>0.0</td>\n",
       "      <td>0</td>\n",
       "      <td>1.60</td>\n",
       "      <td>E2-C0</td>\n",
       "      <td>5.5</td>\n",
       "      <td>3.4</td>\n",
       "    </tr>\n",
       "    <tr>\n",
       "      <th>9</th>\n",
       "      <td>C-E</td>\n",
       "      <td>[[12, 44], [24, 44], [24, 88], [68, 88]]</td>\n",
       "      <td>2</td>\n",
       "      <td>3.0</td>\n",
       "      <td>1</td>\n",
       "      <td>2.00</td>\n",
       "      <td>E2-C1</td>\n",
       "      <td>6.5</td>\n",
       "      <td>3.2</td>\n",
       "    </tr>\n",
       "    <tr>\n",
       "      <th>10</th>\n",
       "      <td>C-E</td>\n",
       "      <td>[[100, 40], [84, 40], [84, 84], [76, 84]]</td>\n",
       "      <td>2</td>\n",
       "      <td>0.0</td>\n",
       "      <td>2</td>\n",
       "      <td>1.36</td>\n",
       "      <td>E2-C2</td>\n",
       "      <td>4.5</td>\n",
       "      <td>3.3</td>\n",
       "    </tr>\n",
       "    <tr>\n",
       "      <th>11</th>\n",
       "      <td>C-E</td>\n",
       "      <td>[[60, 148], [60, 92], [68, 92]]</td>\n",
       "      <td>2</td>\n",
       "      <td>0.0</td>\n",
       "      <td>3</td>\n",
       "      <td>1.28</td>\n",
       "      <td>E2-C3</td>\n",
       "      <td>4.5</td>\n",
       "      <td>3.5</td>\n",
       "    </tr>\n",
       "    <tr>\n",
       "      <th>12</th>\n",
       "      <td>E-P</td>\n",
       "      <td>[[36, 120], [28, 120]]</td>\n",
       "      <td>0</td>\n",
       "      <td>1.0</td>\n",
       "      <td>0</td>\n",
       "      <td>0.16</td>\n",
       "      <td>P0-E0</td>\n",
       "      <td>0.5</td>\n",
       "      <td>3.1</td>\n",
       "    </tr>\n",
       "    <tr>\n",
       "      <th>13</th>\n",
       "      <td>E-P</td>\n",
       "      <td>[[68, 44], [68, 52], [28, 52], [28, 116]]</td>\n",
       "      <td>0</td>\n",
       "      <td>3.0</td>\n",
       "      <td>1</td>\n",
       "      <td>2.24</td>\n",
       "      <td>P0-E1</td>\n",
       "      <td>7.5</td>\n",
       "      <td>3.3</td>\n",
       "    </tr>\n",
       "    <tr>\n",
       "      <th>14</th>\n",
       "      <td>E-P</td>\n",
       "      <td>[[72, 92], [72, 132], [28, 132], [28, 124]]</td>\n",
       "      <td>0</td>\n",
       "      <td>1.0</td>\n",
       "      <td>2</td>\n",
       "      <td>1.84</td>\n",
       "      <td>P0-E2</td>\n",
       "      <td>4.5</td>\n",
       "      <td>2.4</td>\n",
       "    </tr>\n",
       "    <tr>\n",
       "      <th>15</th>\n",
       "      <td>E-P</td>\n",
       "      <td>[[40, 116], [40, 44]]</td>\n",
       "      <td>1</td>\n",
       "      <td>2.0</td>\n",
       "      <td>0</td>\n",
       "      <td>1.44</td>\n",
       "      <td>P1-E0</td>\n",
       "      <td>4.5</td>\n",
       "      <td>3.1</td>\n",
       "    </tr>\n",
       "    <tr>\n",
       "      <th>16</th>\n",
       "      <td>E-P</td>\n",
       "      <td>[[68, 40], [44, 40]]</td>\n",
       "      <td>1</td>\n",
       "      <td>1.0</td>\n",
       "      <td>1</td>\n",
       "      <td>0.48</td>\n",
       "      <td>P1-E1</td>\n",
       "      <td>1.5</td>\n",
       "      <td>3.1</td>\n",
       "    </tr>\n",
       "    <tr>\n",
       "      <th>17</th>\n",
       "      <td>E-P</td>\n",
       "      <td>[[72, 84], [72, 76], [44, 76], [44, 44]]</td>\n",
       "      <td>1</td>\n",
       "      <td>1.0</td>\n",
       "      <td>2</td>\n",
       "      <td>1.36</td>\n",
       "      <td>P1-E2</td>\n",
       "      <td>4.5</td>\n",
       "      <td>3.3</td>\n",
       "    </tr>\n",
       "  </tbody>\n",
       "</table>\n",
       "</div>"
      ],
      "text/plain": [
       "   Class                                           polyline  end  long  start  \\\n",
       "0    C-E         [[52, 12], [52, 56], [52, 116], [44, 116]]    0   4.0      0   \n",
       "1    C-E  [[12, 40], [20, 40], [20, 104], [36, 104], [36...    0   3.0      1   \n",
       "2    C-E        [[100, 44], [88, 44], [88, 120], [44, 120]]    0   3.0      2   \n",
       "3    C-E                  [[52, 148], [52, 124], [44, 124]]    0   2.0      3   \n",
       "4    C-E           [[56, 12], [56, 24], [72, 24], [72, 36]]    1   1.0      0   \n",
       "5    C-E  [[12, 36], [24, 36], [24, 28], [68, 28], [68, ...    1   2.0      1   \n",
       "6    C-E                              [[100, 36], [76, 36]]    1   1.0      2   \n",
       "7    C-E          [[56, 148], [56, 56], [72, 56], [72, 44]]    1   2.0      3   \n",
       "8    C-E                     [[60, 12], [60, 84], [68, 84]]    2   0.0      0   \n",
       "9    C-E           [[12, 44], [24, 44], [24, 88], [68, 88]]    2   3.0      1   \n",
       "10   C-E          [[100, 40], [84, 40], [84, 84], [76, 84]]    2   0.0      2   \n",
       "11   C-E                    [[60, 148], [60, 92], [68, 92]]    2   0.0      3   \n",
       "12   E-P                             [[36, 120], [28, 120]]    0   1.0      0   \n",
       "13   E-P          [[68, 44], [68, 52], [28, 52], [28, 116]]    0   3.0      1   \n",
       "14   E-P        [[72, 92], [72, 132], [28, 132], [28, 124]]    0   1.0      2   \n",
       "15   E-P                              [[40, 116], [40, 44]]    1   2.0      0   \n",
       "16   E-P                               [[68, 40], [44, 40]]    1   1.0      1   \n",
       "17   E-P           [[72, 84], [72, 76], [44, 76], [44, 44]]    1   1.0      2   \n",
       "\n",
       "    dist     ID  distPF  distRatio  \n",
       "0   2.24  E0-C0     7.5        3.3  \n",
       "1   2.00  E0-C1     6.5        3.2  \n",
       "2   2.64  E0-C2     8.5        3.2  \n",
       "3   0.64  E0-C3     2.5        3.9  \n",
       "4   0.80  E1-C0     2.5        3.1  \n",
       "5   1.44  E1-C1     5.5        3.8  \n",
       "6   0.48  E1-C2     1.5        3.1  \n",
       "7   2.40  E1-C3     7.5        3.1  \n",
       "8   1.60  E2-C0     5.5        3.4  \n",
       "9   2.00  E2-C1     6.5        3.2  \n",
       "10  1.36  E2-C2     4.5        3.3  \n",
       "11  1.28  E2-C3     4.5        3.5  \n",
       "12  0.16  P0-E0     0.5        3.1  \n",
       "13  2.24  P0-E1     7.5        3.3  \n",
       "14  1.84  P0-E2     4.5        2.4  \n",
       "15  1.44  P1-E0     4.5        3.1  \n",
       "16  0.48  P1-E1     1.5        3.1  \n",
       "17  1.36  P1-E2     4.5        3.3  "
      ]
     },
     "execution_count": 169,
     "metadata": {},
     "output_type": "execute_result"
    }
   ],
   "source": [
    "dfline = algo.dfline.copy()\n",
    "dfline['distPF'] = dfline.ID.map(d)-0.5\n",
    "dfline['distRatio'] = (dfline.distPF / dfline.dist).round(1)\n",
    "dfline[['dist','distPF']].corr()\n",
    "dfline"
   ]
  },
  {
   "cell_type": "markdown",
   "id": "e0d4c9d6",
   "metadata": {
    "heading_collapsed": true
   },
   "source": [
    "# PF avec load excel map "
   ]
  },
  {
   "cell_type": "code",
   "execution_count": 3,
   "id": "9b70b3b8",
   "metadata": {
    "hidden": true
   },
   "outputs": [],
   "source": [
    "import matplotlib.patches as mpatch"
   ]
  },
  {
   "cell_type": "code",
   "execution_count": 134,
   "id": "03989505",
   "metadata": {
    "hidden": true
   },
   "outputs": [
    {
     "data": {
      "text/html": [
       "<div>\n",
       "<style scoped>\n",
       "    .dataframe tbody tr th:only-of-type {\n",
       "        vertical-align: middle;\n",
       "    }\n",
       "\n",
       "    .dataframe tbody tr th {\n",
       "        vertical-align: top;\n",
       "    }\n",
       "\n",
       "    .dataframe thead th {\n",
       "        text-align: right;\n",
       "    }\n",
       "</style>\n",
       "<table border=\"1\" class=\"dataframe\">\n",
       "  <thead>\n",
       "    <tr style=\"text-align: right;\">\n",
       "      <th></th>\n",
       "      <th>0</th>\n",
       "      <th>1</th>\n",
       "      <th>2</th>\n",
       "      <th>3</th>\n",
       "      <th>4</th>\n",
       "      <th>5</th>\n",
       "      <th>6</th>\n",
       "    </tr>\n",
       "  </thead>\n",
       "  <tbody>\n",
       "    <tr>\n",
       "      <th>0</th>\n",
       "      <td>1</td>\n",
       "      <td>1</td>\n",
       "      <td>1</td>\n",
       "      <td>C</td>\n",
       "      <td>1</td>\n",
       "      <td>1</td>\n",
       "      <td>1</td>\n",
       "    </tr>\n",
       "    <tr>\n",
       "      <th>1</th>\n",
       "      <td>1</td>\n",
       "      <td>0</td>\n",
       "      <td>0</td>\n",
       "      <td>0</td>\n",
       "      <td>0</td>\n",
       "      <td>0</td>\n",
       "      <td>1</td>\n",
       "    </tr>\n",
       "    <tr>\n",
       "      <th>2</th>\n",
       "      <td>C</td>\n",
       "      <td>0</td>\n",
       "      <td>P</td>\n",
       "      <td>0</td>\n",
       "      <td>E</td>\n",
       "      <td>0</td>\n",
       "      <td>C</td>\n",
       "    </tr>\n",
       "    <tr>\n",
       "      <th>3</th>\n",
       "      <td>1</td>\n",
       "      <td>0</td>\n",
       "      <td>0</td>\n",
       "      <td>0</td>\n",
       "      <td>0</td>\n",
       "      <td>0</td>\n",
       "      <td>1</td>\n",
       "    </tr>\n",
       "    <tr>\n",
       "      <th>4</th>\n",
       "      <td>1</td>\n",
       "      <td>0</td>\n",
       "      <td>0</td>\n",
       "      <td>0</td>\n",
       "      <td>0</td>\n",
       "      <td>0</td>\n",
       "      <td>1</td>\n",
       "    </tr>\n",
       "    <tr>\n",
       "      <th>5</th>\n",
       "      <td>1</td>\n",
       "      <td>0</td>\n",
       "      <td>0</td>\n",
       "      <td>0</td>\n",
       "      <td>E</td>\n",
       "      <td>0</td>\n",
       "      <td>1</td>\n",
       "    </tr>\n",
       "    <tr>\n",
       "      <th>6</th>\n",
       "      <td>1</td>\n",
       "      <td>0</td>\n",
       "      <td>0</td>\n",
       "      <td>0</td>\n",
       "      <td>0</td>\n",
       "      <td>0</td>\n",
       "      <td>1</td>\n",
       "    </tr>\n",
       "    <tr>\n",
       "      <th>7</th>\n",
       "      <td>1</td>\n",
       "      <td>PX</td>\n",
       "      <td>EX</td>\n",
       "      <td>0</td>\n",
       "      <td>0</td>\n",
       "      <td>0</td>\n",
       "      <td>1</td>\n",
       "    </tr>\n",
       "    <tr>\n",
       "      <th>8</th>\n",
       "      <td>1</td>\n",
       "      <td>0</td>\n",
       "      <td>0</td>\n",
       "      <td>0</td>\n",
       "      <td>0</td>\n",
       "      <td>0</td>\n",
       "      <td>1</td>\n",
       "    </tr>\n",
       "    <tr>\n",
       "      <th>9</th>\n",
       "      <td>1</td>\n",
       "      <td>1</td>\n",
       "      <td>1</td>\n",
       "      <td>C</td>\n",
       "      <td>1</td>\n",
       "      <td>1</td>\n",
       "      <td>1</td>\n",
       "    </tr>\n",
       "  </tbody>\n",
       "</table>\n",
       "</div>"
      ],
      "text/plain": [
       "   0   1   2  3  4  5  6\n",
       "0  1   1   1  C  1  1  1\n",
       "1  1   0   0  0  0  0  1\n",
       "2  C   0   P  0  E  0  C\n",
       "3  1   0   0  0  0  0  1\n",
       "4  1   0   0  0  0  0  1\n",
       "5  1   0   0  0  E  0  1\n",
       "6  1   0   0  0  0  0  1\n",
       "7  1  PX  EX  0  0  0  1\n",
       "8  1   0   0  0  0  0  1\n",
       "9  1   1   1  C  1  1  1"
      ]
     },
     "execution_count": 134,
     "metadata": {},
     "output_type": "execute_result"
    }
   ],
   "source": [
    "dfmap = pd.read_excel('input.xlsx', sheet_name= 'map', index_col=0)\n",
    "dfmap"
   ]
  },
  {
   "cell_type": "code",
   "execution_count": 79,
   "id": "b803f723",
   "metadata": {
    "hidden": true
   },
   "outputs": [
    {
     "data": {
      "text/plain": [
       "defaultdict(list, {'C': [0, 1, 2, 3], 'P': [0, 1], 'E': [0, 1, 2]})"
      ]
     },
     "execution_count": 79,
     "metadata": {},
     "output_type": "execute_result"
    },
    {
     "data": {
      "text/plain": [
       "{'C0': (0, 3),\n",
       " 'C1': (2, 0),\n",
       " 'P0': (2, 2),\n",
       " 'E0': (2, 4),\n",
       " 'C2': (2, 6),\n",
       " 'E1': (5, 4),\n",
       " 'P1': (7, 1),\n",
       " 'E2': (7, 2),\n",
       " 'C3': (9, 3)}"
      ]
     },
     "execution_count": 79,
     "metadata": {},
     "output_type": "execute_result"
    },
    {
     "data": {
      "text/plain": [
       "(['E0', 'E1', 'E2'], ['C0', 'C1', 'C2', 'C3', 'P0', 'P1'])"
      ]
     },
     "execution_count": 79,
     "metadata": {},
     "output_type": "execute_result"
    }
   ],
   "source": [
    "SlotColor = {'C' : 10, 'E': 20, 'P' : 30}\n",
    "A0 = dfmap.values\n",
    "Size = max(A0.shape)\n",
    "Comb = collections.defaultdict(list)\n",
    "DictPos = {}\n",
    "slots = ['C','P','E']\n",
    "slotsN = dict(zip(slots,[0,0,0]))\n",
    "ListBegin = []\n",
    "ListEnd = []\n",
    "ListWall = (np.argwhere(A0[1:-1,1:-1] == 1)+1).tolist()\n",
    "\n",
    "for iy, ix in np.ndindex(A0.shape):\n",
    "    v = A0[iy, ix]\n",
    "    if type(v) == str: \n",
    "        slot = v[0]\n",
    "        n = slotsN[slot]\n",
    "        slotsN[slot] = n+1\n",
    "        v = slot + str(n)\n",
    "        A0[iy,ix] = SlotColor[slot]*20\n",
    "        #Comb[v[0]].append(int(v[1:]))\n",
    "        Comb[v[0]].append(int(n))\n",
    "        DictPos[v] = (iy,ix)\n",
    "        \n",
    "        if slot == \"E\" : ListBegin.append(v)\n",
    "        else : ListEnd.append(v)  \n",
    "            \n",
    "A0 = A0.astype(float)      \n",
    "Comb\n",
    "Ax = np.ones((Size,Size))\n",
    "Ax[:A0.shape[0],:A0.shape[1]] = A0\n",
    "DictPos\n",
    "ListBegin, ListEnd = sorted(ListBegin), sorted(ListEnd)\n",
    "ListBegin, ListEnd \n"
   ]
  },
  {
   "cell_type": "code",
   "execution_count": 87,
   "id": "b0f09e43",
   "metadata": {
    "hidden": true
   },
   "outputs": [
    {
     "data": {
      "text/plain": [
       "[('E0', 'E1'), ('E0', 'E2'), ('E1', 'E2')]"
      ]
     },
     "execution_count": 87,
     "metadata": {},
     "output_type": "execute_result"
    }
   ],
   "source": [
    "ListEv =  ['E' + str(n) for n in Comb['E']]\n",
    "it = itertools.combinations(ListEv, 2)\n",
    "ListEtoE = list(it)\n",
    "ListEtoE"
   ]
  },
  {
   "cell_type": "code",
   "execution_count": 8,
   "id": "0d94add1",
   "metadata": {
    "hidden": true
   },
   "outputs": [
    {
     "data": {
      "text/plain": [
       "<matplotlib.colorbar.Colorbar at 0x1c199c63bb0>"
      ]
     },
     "execution_count": 8,
     "metadata": {},
     "output_type": "execute_result"
    },
    {
     "data": {
      "image/png": "[encoded data removed]",
      "text/plain": [
       "<Figure size 640x480 with 2 Axes>"
      ]
     },
     "metadata": {},
     "output_type": "display_data"
    }
   ],
   "source": [
    "fig, ax = plt.subplots()\n",
    "# im = ax.imshow(Aplot, cmap=plt.get_cmap('Accent'))\n",
    "im = ax.imshow(Ax)\n",
    "fig.colorbar(im)"
   ]
  },
  {
   "cell_type": "code",
   "execution_count": 89,
   "id": "e3796bc7",
   "metadata": {
    "hidden": true
   },
   "outputs": [
    {
     "name": "stdout",
     "output_type": "stream",
     "text": [
      "CPU times: total: 15.6 ms\n",
      "Wall time: 7 ms\n"
     ]
    }
   ],
   "source": [
    "%%time\n",
    "# e = 'E0'\n",
    "Path = {}\n",
    "d = {} \n",
    "DictLine = {}\n",
    "\n",
    "for begin in ListBegin:\n",
    "    start = DictPos[begin]\n",
    "    A = Ax.copy()\n",
    "    A1 = Path1(A,start)\n",
    "    for end in ListEnd: \n",
    "        goal = DictPos[end]        \n",
    "        path = Path2(A1.copy() ,start,  goal)\n",
    "        path = np.array(path)       \n",
    "        dist = np.abs(np.diff(path.T)).sum()\n",
    "        \n",
    "        if end[0] == 'C' : ID = begin + '-' + end\n",
    "        else : ID = end + '-' + begin\n",
    "        #print(begin,start, end , goal)\n",
    "#         Path.append(L)\n",
    "        DictLine[ID] = {'path' : path, 'dist' : dist}\n",
    "#         d[ID] = dist\n",
    "\n",
    "ListEv =  ['E' + str(n) for n in Comb['E']]\n",
    "it = itertools.combinations(ListEv, 2)\n",
    "ListEtoE = list(it)\n",
    "ListEtoE\n",
    "\n",
    "DictEtoE = {}\n",
    "for begin, end in ListEtoE:\n",
    "    start = DictPos[begin]\n",
    "    A = Ax.copy()\n",
    "    A1 = Path1(A,start)\n",
    "    goal = DictPos[end]        \n",
    "    path = Path2(A1.copy() ,start,  goal)\n",
    "    path = np.array(path)       \n",
    "    dist = np.abs(np.diff(path.T)).sum()\n",
    "\n",
    "    if end[0] == 'C' : ID = begin + '-' + end\n",
    "    elif begin[0] == 'P' : ID = begin + '-' + end    \n",
    "    else : ID = end + '-' + begin\n",
    "    DictEtoE[ID] = {'path' : path, 'dist' : dist}\n",
    "\n",
    "DictLine.update(DictEtoE)"
   ]
  },
  {
   "cell_type": "code",
   "execution_count": 35,
   "id": "bb77a1b5",
   "metadata": {
    "hidden": true
   },
   "outputs": [],
   "source": [
    "Path = {}\n",
    "d = {} \n",
    "DictLine = {}\n",
    "\n",
    "for begin, end in ListEndEv:\n",
    "    start = DictPos[begin]\n",
    "    A = Ax.copy()\n",
    "    A1 = Path1(A,start)\n",
    "    goal = DictPos[end]        \n",
    "    path = Path2(A1.copy() ,start,  goal)\n",
    "    path = np.array(path)       \n",
    "    dist = np.abs(np.diff(path.T)).sum()\n",
    "\n",
    "    if end[0] == 'C' : ID = begin + '-' + end\n",
    "    elif begin[0] == 'P' : ID = begin + '-' + end    \n",
    "    else : ID = end + '-' + begin\n",
    "    DictLine[ID] = {'path' : path, 'dist' : dist}"
   ]
  },
  {
   "cell_type": "code",
   "execution_count": 90,
   "id": "4a5a378e",
   "metadata": {
    "hidden": true
   },
   "outputs": [
    {
     "data": {
      "text/html": [
       "<div>\n",
       "<style scoped>\n",
       "    .dataframe tbody tr th:only-of-type {\n",
       "        vertical-align: middle;\n",
       "    }\n",
       "\n",
       "    .dataframe tbody tr th {\n",
       "        vertical-align: top;\n",
       "    }\n",
       "\n",
       "    .dataframe thead th {\n",
       "        text-align: right;\n",
       "    }\n",
       "</style>\n",
       "<table border=\"1\" class=\"dataframe\">\n",
       "  <thead>\n",
       "    <tr style=\"text-align: right;\">\n",
       "      <th></th>\n",
       "      <th>path</th>\n",
       "      <th>dist</th>\n",
       "    </tr>\n",
       "  </thead>\n",
       "  <tbody>\n",
       "    <tr>\n",
       "      <th>E0-C0</th>\n",
       "      <td>[[2, 4], [1, 4], [1, 3], [0, 3]]</td>\n",
       "      <td>3</td>\n",
       "    </tr>\n",
       "    <tr>\n",
       "      <th>E0-C1</th>\n",
       "      <td>[[2, 4], [1, 4], [1, 3], [1, 2], [1, 1], [2, 1...</td>\n",
       "      <td>6</td>\n",
       "    </tr>\n",
       "    <tr>\n",
       "      <th>E0-C2</th>\n",
       "      <td>[[2, 4], [2, 5], [2, 6]]</td>\n",
       "      <td>2</td>\n",
       "    </tr>\n",
       "    <tr>\n",
       "      <th>E0-C3</th>\n",
       "      <td>[[2, 4], [3, 4], [4, 4], [4, 3], [5, 3], [6, 3...</td>\n",
       "      <td>8</td>\n",
       "    </tr>\n",
       "    <tr>\n",
       "      <th>P0-E0</th>\n",
       "      <td>[[2, 4], [2, 3], [2, 2]]</td>\n",
       "      <td>2</td>\n",
       "    </tr>\n",
       "    <tr>\n",
       "      <th>P1-E0</th>\n",
       "      <td>[[2, 4], [3, 4], [4, 4], [4, 3], [5, 3], [6, 3...</td>\n",
       "      <td>8</td>\n",
       "    </tr>\n",
       "    <tr>\n",
       "      <th>E1-C0</th>\n",
       "      <td>[[5, 4], [4, 4], [3, 4], [3, 3], [2, 3], [1, 3...</td>\n",
       "      <td>6</td>\n",
       "    </tr>\n",
       "    <tr>\n",
       "      <th>E1-C1</th>\n",
       "      <td>[[5, 4], [4, 4], [3, 4], [3, 3], [3, 2], [3, 1...</td>\n",
       "      <td>7</td>\n",
       "    </tr>\n",
       "    <tr>\n",
       "      <th>E1-C2</th>\n",
       "      <td>[[5, 4], [4, 4], [3, 4], [3, 5], [2, 5], [2, 6]]</td>\n",
       "      <td>5</td>\n",
       "    </tr>\n",
       "    <tr>\n",
       "      <th>E1-C3</th>\n",
       "      <td>[[5, 4], [6, 4], [7, 4], [8, 4], [8, 3], [9, 3]]</td>\n",
       "      <td>5</td>\n",
       "    </tr>\n",
       "    <tr>\n",
       "      <th>P0-E1</th>\n",
       "      <td>[[5, 4], [4, 4], [3, 4], [3, 3], [2, 3], [2, 2]]</td>\n",
       "      <td>5</td>\n",
       "    </tr>\n",
       "    <tr>\n",
       "      <th>P1-E1</th>\n",
       "      <td>[[5, 4], [6, 4], [6, 3], [6, 2], [6, 1], [7, 1]]</td>\n",
       "      <td>5</td>\n",
       "    </tr>\n",
       "    <tr>\n",
       "      <th>E2-C0</th>\n",
       "      <td>[[7, 2], [6, 2], [5, 2], [4, 2], [3, 2], [3, 3...</td>\n",
       "      <td>8</td>\n",
       "    </tr>\n",
       "    <tr>\n",
       "      <th>E2-C1</th>\n",
       "      <td>[[7, 2], [6, 2], [5, 2], [4, 2], [3, 2], [3, 1...</td>\n",
       "      <td>7</td>\n",
       "    </tr>\n",
       "    <tr>\n",
       "      <th>E2-C2</th>\n",
       "      <td>[[7, 2], [6, 2], [5, 2], [4, 2], [3, 2], [3, 3...</td>\n",
       "      <td>9</td>\n",
       "    </tr>\n",
       "    <tr>\n",
       "      <th>E2-C3</th>\n",
       "      <td>[[7, 2], [8, 2], [8, 3], [9, 3]]</td>\n",
       "      <td>3</td>\n",
       "    </tr>\n",
       "    <tr>\n",
       "      <th>P0-E2</th>\n",
       "      <td>[[7, 2], [6, 2], [5, 2], [4, 2], [3, 2], [2, 2]]</td>\n",
       "      <td>5</td>\n",
       "    </tr>\n",
       "    <tr>\n",
       "      <th>P1-E2</th>\n",
       "      <td>[[7, 2], [7, 1]]</td>\n",
       "      <td>1</td>\n",
       "    </tr>\n",
       "    <tr>\n",
       "      <th>E1-E0</th>\n",
       "      <td>[[2, 4], [3, 4], [4, 4], [5, 4]]</td>\n",
       "      <td>3</td>\n",
       "    </tr>\n",
       "    <tr>\n",
       "      <th>E2-E0</th>\n",
       "      <td>[[2, 4], [3, 4], [4, 4], [4, 3], [5, 3], [6, 3...</td>\n",
       "      <td>7</td>\n",
       "    </tr>\n",
       "    <tr>\n",
       "      <th>E2-E1</th>\n",
       "      <td>[[5, 4], [6, 4], [7, 4], [7, 3], [7, 2]]</td>\n",
       "      <td>4</td>\n",
       "    </tr>\n",
       "  </tbody>\n",
       "</table>\n",
       "</div>"
      ],
      "text/plain": [
       "                                                    path dist\n",
       "E0-C0                   [[2, 4], [1, 4], [1, 3], [0, 3]]    3\n",
       "E0-C1  [[2, 4], [1, 4], [1, 3], [1, 2], [1, 1], [2, 1...    6\n",
       "E0-C2                           [[2, 4], [2, 5], [2, 6]]    2\n",
       "E0-C3  [[2, 4], [3, 4], [4, 4], [4, 3], [5, 3], [6, 3...    8\n",
       "P0-E0                           [[2, 4], [2, 3], [2, 2]]    2\n",
       "P1-E0  [[2, 4], [3, 4], [4, 4], [4, 3], [5, 3], [6, 3...    8\n",
       "E1-C0  [[5, 4], [4, 4], [3, 4], [3, 3], [2, 3], [1, 3...    6\n",
       "E1-C1  [[5, 4], [4, 4], [3, 4], [3, 3], [3, 2], [3, 1...    7\n",
       "E1-C2   [[5, 4], [4, 4], [3, 4], [3, 5], [2, 5], [2, 6]]    5\n",
       "E1-C3   [[5, 4], [6, 4], [7, 4], [8, 4], [8, 3], [9, 3]]    5\n",
       "P0-E1   [[5, 4], [4, 4], [3, 4], [3, 3], [2, 3], [2, 2]]    5\n",
       "P1-E1   [[5, 4], [6, 4], [6, 3], [6, 2], [6, 1], [7, 1]]    5\n",
       "E2-C0  [[7, 2], [6, 2], [5, 2], [4, 2], [3, 2], [3, 3...    8\n",
       "E2-C1  [[7, 2], [6, 2], [5, 2], [4, 2], [3, 2], [3, 1...    7\n",
       "E2-C2  [[7, 2], [6, 2], [5, 2], [4, 2], [3, 2], [3, 3...    9\n",
       "E2-C3                   [[7, 2], [8, 2], [8, 3], [9, 3]]    3\n",
       "P0-E2   [[7, 2], [6, 2], [5, 2], [4, 2], [3, 2], [2, 2]]    5\n",
       "P1-E2                                   [[7, 2], [7, 1]]    1\n",
       "E1-E0                   [[2, 4], [3, 4], [4, 4], [5, 4]]    3\n",
       "E2-E0  [[2, 4], [3, 4], [4, 4], [4, 3], [5, 3], [6, 3...    7\n",
       "E2-E1           [[5, 4], [6, 4], [7, 4], [7, 3], [7, 2]]    4"
      ]
     },
     "execution_count": 90,
     "metadata": {},
     "output_type": "execute_result"
    }
   ],
   "source": [
    "pd.DataFrame(DictLine).T"
   ]
  },
  {
   "cell_type": "code",
   "execution_count": 12,
   "id": "008ed38d",
   "metadata": {
    "hidden": true
   },
   "outputs": [],
   "source": [
    "DictDistEtoE = pd.DataFrame(DictLine).T.drop(columns = 'path').to_dict()['dist']"
   ]
  },
  {
   "cell_type": "code",
   "execution_count": 93,
   "id": "cb521200",
   "metadata": {
    "hidden": true
   },
   "outputs": [
    {
     "data": {
      "text/plain": [
       "'C3'"
      ]
     },
     "execution_count": 93,
     "metadata": {},
     "output_type": "execute_result"
    }
   ],
   "source": [
    "slot"
   ]
  },
  {
   "cell_type": "code",
   "execution_count": 94,
   "id": "fa141835",
   "metadata": {
    "collapsed": true,
    "hidden": true
   },
   "outputs": [
    {
     "data": {
      "image/png": "[encoded data removed]",
      "text/plain": [
       "<Figure size 800x800 with 1 Axes>"
      ]
     },
     "metadata": {},
     "output_type": "display_data"
    }
   ],
   "source": [
    "LenPath = len(DictLine)\n",
    "Ymax , Xmax = A0.shape\n",
    "PlotColor = {'C' : \"#93c9ee\", 'E': '#a2ee93', 'P' : \"#c593ee\"}\n",
    "fig, ax = plt.subplots(figsize = (8,8))\n",
    "\n",
    "f = ax.add_patch(mpatch.Rectangle((0,0), Xmax-1, Ymax-1, color='#d8d8d8'))\n",
    "# masked = np.ma.masked_where(A0 <= 1, A0)\n",
    "offset = np.linspace(-0.35,0.35,LenPath)\n",
    "for i, (slot,data) in enumerate(DictLine.items()):\n",
    "    n = offset[i]  \n",
    "    p = data['path']\n",
    "    if slot[0] == 'E' : \n",
    "        f = ax.plot(p[:,1]+n,p[:,0]+n,\"#32cdff\", linewidth=1, zorder=1, linestyle ='-')\n",
    "    else : \n",
    "        f = ax.plot(p[:,1]+n,p[:,0]+n,\"#3286ff\", linewidth=2, zorder=1, linestyle ='-')\n",
    "\n",
    "style = dict(size=15, color='black')\n",
    "for slot, pos in DictPos.items(): \n",
    "    x , y = pos\n",
    "    Type = slot[0]\n",
    "    color = PlotColor[Type]\n",
    "    f = ax.add_patch(mpatch.Rectangle((y-0.4,x-0.4), 0.8, 0.8, color=color))\n",
    "    f = ax.add_patch(mpatch.Rectangle((y-0.4,x-0.4), 0.8, 0.8, color='black', fill = None))\n",
    "    f = ax.text(y, x+0.1,slot , **style,  ha='center', weight='bold') \n",
    "#     f = ax.add_patch(mpatch.Rectangle((y-0.5,x-0.5), 1, 1, color='green'))\n",
    "\n",
    "for x,y in ListWall: \n",
    "    f = ax.add_patch(mpatch.Rectangle((y-0.5,x-0.5), 1, 1, color='black'))\n",
    "f = ax.imshow(np.zeros(A0.shape), cmap='gray',vmin=0,vmax=1)\n"
   ]
  },
  {
   "cell_type": "raw",
   "id": "a9677371",
   "metadata": {
    "collapsed": true,
    "hidden": true
   },
   "source": [
    "dfline = algo.dfline.copy()\n",
    "dfline['distPF'] = dfline.ID.map(d)-0.5\n",
    "dfline['distRatio'] = (dfline.distPF / dfline.dist).round(1)\n",
    "dfline[['dist','distPF']].corr()\n",
    "dfline"
   ]
  },
  {
   "cell_type": "markdown",
   "id": "23469b29",
   "metadata": {},
   "source": [
    "# Run algo"
   ]
  },
  {
   "cell_type": "markdown",
   "id": "459a3bf9",
   "metadata": {},
   "source": [
    "## Init"
   ]
  },
  {
   "cell_type": "code",
   "execution_count": 3,
   "id": "f0ee9d37",
   "metadata": {},
   "outputs": [
    {
     "name": "stdout",
     "output_type": "stream",
     "text": [
      "Init algo namespace\n",
      "[('E0', 'E1'), ('E0', 'E2'), ('E0', 'E3'), ('E1', 'E2'), ('E1', 'E3'), ('E2', 'E3')]\n",
      "['confs', 'map', 'lines', 'slot']\n",
      "Load line from excel\n"
     ]
    },
    {
     "name": "stderr",
     "output_type": "stream",
     "text": [
      "C:\\Users\\bertrand\\anaconda3\\envs\\base2\\lib\\site-packages\\pandas\\core\\indexes\\base.py:6982: FutureWarning: In a future version, the Index constructor will not infer numeric dtypes when passed object-dtype sequences (matching Series behavior)\n",
      "  return Index(sequences[0], name=names)\n"
     ]
    }
   ],
   "source": [
    "file = {'SheetMapName' : 'map', 'uploaded_file' : \"data.xlsx\"}\n",
    "file = {'SheetMapName' : 'map', 'uploaded_file' : \"input(1).xlsx\", 'DistFactor' : 0.1}\n",
    "algo = load_data_brut(file)\n",
    "algo.df = indiv_init(algo, 10)"
   ]
  },
  {
   "cell_type": "code",
   "execution_count": 4,
   "id": "1298f840",
   "metadata": {
    "collapsed": true
   },
   "outputs": [
    {
     "data": {
      "text/html": [
       "<div>\n",
       "<style scoped>\n",
       "    .dataframe tbody tr th:only-of-type {\n",
       "        vertical-align: middle;\n",
       "    }\n",
       "\n",
       "    .dataframe tbody tr th {\n",
       "        vertical-align: top;\n",
       "    }\n",
       "\n",
       "    .dataframe thead th {\n",
       "        text-align: right;\n",
       "    }\n",
       "</style>\n",
       "<table border=\"1\" class=\"dataframe\">\n",
       "  <thead>\n",
       "    <tr style=\"text-align: right;\">\n",
       "      <th></th>\n",
       "      <th>ID</th>\n",
       "      <th>path</th>\n",
       "      <th>dist</th>\n",
       "      <th>duriteType</th>\n",
       "      <th>duriteVal</th>\n",
       "    </tr>\n",
       "  </thead>\n",
       "  <tbody>\n",
       "    <tr>\n",
       "      <th>0</th>\n",
       "      <td>E0-C0</td>\n",
       "      <td>[[2, 4], [1, 4], [1, 3], [0, 3]]</td>\n",
       "      <td>0.3</td>\n",
       "      <td>4</td>\n",
       "      <td>0.000235</td>\n",
       "    </tr>\n",
       "    <tr>\n",
       "      <th>1</th>\n",
       "      <td>E0-C1</td>\n",
       "      <td>[[2, 4], [1, 4], [1, 3], [1, 2], [1, 1], [2, 1...</td>\n",
       "      <td>0.6</td>\n",
       "      <td>4</td>\n",
       "      <td>0.000235</td>\n",
       "    </tr>\n",
       "    <tr>\n",
       "      <th>2</th>\n",
       "      <td>E0-C2</td>\n",
       "      <td>[[2, 4], [2, 5], [2, 6]]</td>\n",
       "      <td>0.2</td>\n",
       "      <td>4</td>\n",
       "      <td>0.000235</td>\n",
       "    </tr>\n",
       "    <tr>\n",
       "      <th>3</th>\n",
       "      <td>E0-C3</td>\n",
       "      <td>[[2, 4], [3, 4], [4, 4], [4, 3], [5, 3], [6, 3...</td>\n",
       "      <td>0.8</td>\n",
       "      <td>4</td>\n",
       "      <td>0.000235</td>\n",
       "    </tr>\n",
       "    <tr>\n",
       "      <th>4</th>\n",
       "      <td>P0-E0</td>\n",
       "      <td>[[2, 4], [2, 3], [2, 2]]</td>\n",
       "      <td>0.2</td>\n",
       "      <td>4</td>\n",
       "      <td>0.000235</td>\n",
       "    </tr>\n",
       "    <tr>\n",
       "      <th>5</th>\n",
       "      <td>P1-E0</td>\n",
       "      <td>[[2, 4], [3, 4], [4, 4], [4, 3], [5, 3], [6, 3...</td>\n",
       "      <td>0.8</td>\n",
       "      <td>4</td>\n",
       "      <td>0.000235</td>\n",
       "    </tr>\n",
       "    <tr>\n",
       "      <th>6</th>\n",
       "      <td>E1-C0</td>\n",
       "      <td>[[4, 1], [3, 1], [2, 1], [1, 1], [1, 2], [1, 3...</td>\n",
       "      <td>0.6</td>\n",
       "      <td>4</td>\n",
       "      <td>0.000235</td>\n",
       "    </tr>\n",
       "    <tr>\n",
       "      <th>7</th>\n",
       "      <td>E1-C1</td>\n",
       "      <td>[[4, 1], [3, 1], [2, 1], [2, 0]]</td>\n",
       "      <td>0.3</td>\n",
       "      <td>4</td>\n",
       "      <td>0.000235</td>\n",
       "    </tr>\n",
       "    <tr>\n",
       "      <th>8</th>\n",
       "      <td>E1-C2</td>\n",
       "      <td>[[4, 1], [3, 1], [3, 2], [3, 3], [3, 4], [3, 5...</td>\n",
       "      <td>0.7</td>\n",
       "      <td>4</td>\n",
       "      <td>0.000235</td>\n",
       "    </tr>\n",
       "    <tr>\n",
       "      <th>9</th>\n",
       "      <td>E1-C3</td>\n",
       "      <td>[[4, 1], [5, 1], [6, 1], [6, 2], [6, 3], [7, 3...</td>\n",
       "      <td>0.7</td>\n",
       "      <td>4</td>\n",
       "      <td>0.000235</td>\n",
       "    </tr>\n",
       "    <tr>\n",
       "      <th>10</th>\n",
       "      <td>P0-E1</td>\n",
       "      <td>[[4, 1], [3, 1], [2, 1], [2, 2]]</td>\n",
       "      <td>0.3</td>\n",
       "      <td>4</td>\n",
       "      <td>0.000235</td>\n",
       "    </tr>\n",
       "    <tr>\n",
       "      <th>11</th>\n",
       "      <td>P1-E1</td>\n",
       "      <td>[[4, 1], [5, 1], [6, 1], [7, 1]]</td>\n",
       "      <td>0.3</td>\n",
       "      <td>4</td>\n",
       "      <td>0.000235</td>\n",
       "    </tr>\n",
       "    <tr>\n",
       "      <th>12</th>\n",
       "      <td>E2-C0</td>\n",
       "      <td>[[5, 4], [4, 4], [3, 4], [3, 3], [2, 3], [1, 3...</td>\n",
       "      <td>0.6</td>\n",
       "      <td>4</td>\n",
       "      <td>0.000235</td>\n",
       "    </tr>\n",
       "    <tr>\n",
       "      <th>13</th>\n",
       "      <td>E2-C1</td>\n",
       "      <td>[[5, 4], [4, 4], [3, 4], [3, 3], [3, 2], [3, 1...</td>\n",
       "      <td>0.7</td>\n",
       "      <td>4</td>\n",
       "      <td>0.000235</td>\n",
       "    </tr>\n",
       "    <tr>\n",
       "      <th>14</th>\n",
       "      <td>E2-C2</td>\n",
       "      <td>[[5, 4], [4, 4], [3, 4], [3, 5], [2, 5], [2, 6]]</td>\n",
       "      <td>0.5</td>\n",
       "      <td>4</td>\n",
       "      <td>0.000235</td>\n",
       "    </tr>\n",
       "    <tr>\n",
       "      <th>15</th>\n",
       "      <td>E2-C3</td>\n",
       "      <td>[[5, 4], [6, 4], [7, 4], [8, 4], [8, 3], [9, 3]]</td>\n",
       "      <td>0.5</td>\n",
       "      <td>4</td>\n",
       "      <td>0.000235</td>\n",
       "    </tr>\n",
       "    <tr>\n",
       "      <th>16</th>\n",
       "      <td>P0-E2</td>\n",
       "      <td>[[5, 4], [4, 4], [3, 4], [3, 3], [2, 3], [2, 2]]</td>\n",
       "      <td>0.5</td>\n",
       "      <td>4</td>\n",
       "      <td>0.000235</td>\n",
       "    </tr>\n",
       "    <tr>\n",
       "      <th>17</th>\n",
       "      <td>P1-E2</td>\n",
       "      <td>[[5, 4], [6, 4], [6, 3], [6, 2], [6, 1], [7, 1]]</td>\n",
       "      <td>0.5</td>\n",
       "      <td>4</td>\n",
       "      <td>0.000235</td>\n",
       "    </tr>\n",
       "    <tr>\n",
       "      <th>18</th>\n",
       "      <td>E3-C0</td>\n",
       "      <td>[[7, 2], [6, 2], [5, 2], [4, 2], [3, 2], [3, 3...</td>\n",
       "      <td>0.8</td>\n",
       "      <td>4</td>\n",
       "      <td>0.000235</td>\n",
       "    </tr>\n",
       "    <tr>\n",
       "      <th>19</th>\n",
       "      <td>E3-C1</td>\n",
       "      <td>[[7, 2], [6, 2], [5, 2], [4, 2], [3, 2], [3, 1...</td>\n",
       "      <td>0.7</td>\n",
       "      <td>4</td>\n",
       "      <td>0.000235</td>\n",
       "    </tr>\n",
       "    <tr>\n",
       "      <th>20</th>\n",
       "      <td>E3-C2</td>\n",
       "      <td>[[7, 2], [6, 2], [5, 2], [4, 2], [3, 2], [3, 3...</td>\n",
       "      <td>0.9</td>\n",
       "      <td>4</td>\n",
       "      <td>0.000235</td>\n",
       "    </tr>\n",
       "    <tr>\n",
       "      <th>21</th>\n",
       "      <td>E3-C3</td>\n",
       "      <td>[[7, 2], [8, 2], [8, 3], [9, 3]]</td>\n",
       "      <td>0.3</td>\n",
       "      <td>4</td>\n",
       "      <td>0.000235</td>\n",
       "    </tr>\n",
       "    <tr>\n",
       "      <th>22</th>\n",
       "      <td>P0-E3</td>\n",
       "      <td>[[7, 2], [6, 2], [5, 2], [4, 2], [3, 2], [2, 2]]</td>\n",
       "      <td>0.5</td>\n",
       "      <td>4</td>\n",
       "      <td>0.000235</td>\n",
       "    </tr>\n",
       "    <tr>\n",
       "      <th>23</th>\n",
       "      <td>P1-E3</td>\n",
       "      <td>[[7, 2], [7, 1]]</td>\n",
       "      <td>0.1</td>\n",
       "      <td>4</td>\n",
       "      <td>0.000235</td>\n",
       "    </tr>\n",
       "    <tr>\n",
       "      <th>24</th>\n",
       "      <td>E1-E0</td>\n",
       "      <td>[[2, 4], [3, 4], [4, 4], [4, 3], [4, 2], [4, 1]]</td>\n",
       "      <td>0.5</td>\n",
       "      <td>8</td>\n",
       "      <td>0.000720</td>\n",
       "    </tr>\n",
       "    <tr>\n",
       "      <th>25</th>\n",
       "      <td>E2-E0</td>\n",
       "      <td>[[2, 4], [3, 4], [4, 4], [5, 4]]</td>\n",
       "      <td>0.3</td>\n",
       "      <td>8</td>\n",
       "      <td>0.000720</td>\n",
       "    </tr>\n",
       "    <tr>\n",
       "      <th>26</th>\n",
       "      <td>E3-E0</td>\n",
       "      <td>[[2, 4], [3, 4], [4, 4], [4, 3], [5, 3], [6, 3...</td>\n",
       "      <td>0.7</td>\n",
       "      <td>8</td>\n",
       "      <td>0.000720</td>\n",
       "    </tr>\n",
       "    <tr>\n",
       "      <th>27</th>\n",
       "      <td>E2-E1</td>\n",
       "      <td>[[4, 1], [5, 1], [5, 2], [5, 3], [5, 4]]</td>\n",
       "      <td>0.4</td>\n",
       "      <td>8</td>\n",
       "      <td>0.000720</td>\n",
       "    </tr>\n",
       "    <tr>\n",
       "      <th>28</th>\n",
       "      <td>E3-E1</td>\n",
       "      <td>[[4, 1], [5, 1], [6, 1], [6, 2], [7, 2]]</td>\n",
       "      <td>0.4</td>\n",
       "      <td>8</td>\n",
       "      <td>0.000720</td>\n",
       "    </tr>\n",
       "    <tr>\n",
       "      <th>29</th>\n",
       "      <td>E3-E2</td>\n",
       "      <td>[[5, 4], [6, 4], [7, 4], [7, 3], [7, 2]]</td>\n",
       "      <td>0.4</td>\n",
       "      <td>8</td>\n",
       "      <td>0.000720</td>\n",
       "    </tr>\n",
       "  </tbody>\n",
       "</table>\n",
       "</div>"
      ],
      "text/plain": [
       "       ID                                               path  dist  \\\n",
       "0   E0-C0                   [[2, 4], [1, 4], [1, 3], [0, 3]]   0.3   \n",
       "1   E0-C1  [[2, 4], [1, 4], [1, 3], [1, 2], [1, 1], [2, 1...   0.6   \n",
       "2   E0-C2                           [[2, 4], [2, 5], [2, 6]]   0.2   \n",
       "3   E0-C3  [[2, 4], [3, 4], [4, 4], [4, 3], [5, 3], [6, 3...   0.8   \n",
       "4   P0-E0                           [[2, 4], [2, 3], [2, 2]]   0.2   \n",
       "5   P1-E0  [[2, 4], [3, 4], [4, 4], [4, 3], [5, 3], [6, 3...   0.8   \n",
       "6   E1-C0  [[4, 1], [3, 1], [2, 1], [1, 1], [1, 2], [1, 3...   0.6   \n",
       "7   E1-C1                   [[4, 1], [3, 1], [2, 1], [2, 0]]   0.3   \n",
       "8   E1-C2  [[4, 1], [3, 1], [3, 2], [3, 3], [3, 4], [3, 5...   0.7   \n",
       "9   E1-C3  [[4, 1], [5, 1], [6, 1], [6, 2], [6, 3], [7, 3...   0.7   \n",
       "10  P0-E1                   [[4, 1], [3, 1], [2, 1], [2, 2]]   0.3   \n",
       "11  P1-E1                   [[4, 1], [5, 1], [6, 1], [7, 1]]   0.3   \n",
       "12  E2-C0  [[5, 4], [4, 4], [3, 4], [3, 3], [2, 3], [1, 3...   0.6   \n",
       "13  E2-C1  [[5, 4], [4, 4], [3, 4], [3, 3], [3, 2], [3, 1...   0.7   \n",
       "14  E2-C2   [[5, 4], [4, 4], [3, 4], [3, 5], [2, 5], [2, 6]]   0.5   \n",
       "15  E2-C3   [[5, 4], [6, 4], [7, 4], [8, 4], [8, 3], [9, 3]]   0.5   \n",
       "16  P0-E2   [[5, 4], [4, 4], [3, 4], [3, 3], [2, 3], [2, 2]]   0.5   \n",
       "17  P1-E2   [[5, 4], [6, 4], [6, 3], [6, 2], [6, 1], [7, 1]]   0.5   \n",
       "18  E3-C0  [[7, 2], [6, 2], [5, 2], [4, 2], [3, 2], [3, 3...   0.8   \n",
       "19  E3-C1  [[7, 2], [6, 2], [5, 2], [4, 2], [3, 2], [3, 1...   0.7   \n",
       "20  E3-C2  [[7, 2], [6, 2], [5, 2], [4, 2], [3, 2], [3, 3...   0.9   \n",
       "21  E3-C3                   [[7, 2], [8, 2], [8, 3], [9, 3]]   0.3   \n",
       "22  P0-E3   [[7, 2], [6, 2], [5, 2], [4, 2], [3, 2], [2, 2]]   0.5   \n",
       "23  P1-E3                                   [[7, 2], [7, 1]]   0.1   \n",
       "24  E1-E0   [[2, 4], [3, 4], [4, 4], [4, 3], [4, 2], [4, 1]]   0.5   \n",
       "25  E2-E0                   [[2, 4], [3, 4], [4, 4], [5, 4]]   0.3   \n",
       "26  E3-E0  [[2, 4], [3, 4], [4, 4], [4, 3], [5, 3], [6, 3...   0.7   \n",
       "27  E2-E1           [[4, 1], [5, 1], [5, 2], [5, 3], [5, 4]]   0.4   \n",
       "28  E3-E1           [[4, 1], [5, 1], [6, 1], [6, 2], [7, 2]]   0.4   \n",
       "29  E3-E2           [[5, 4], [6, 4], [7, 4], [7, 3], [7, 2]]   0.4   \n",
       "\n",
       "    duriteType  duriteVal  \n",
       "0            4   0.000235  \n",
       "1            4   0.000235  \n",
       "2            4   0.000235  \n",
       "3            4   0.000235  \n",
       "4            4   0.000235  \n",
       "5            4   0.000235  \n",
       "6            4   0.000235  \n",
       "7            4   0.000235  \n",
       "8            4   0.000235  \n",
       "9            4   0.000235  \n",
       "10           4   0.000235  \n",
       "11           4   0.000235  \n",
       "12           4   0.000235  \n",
       "13           4   0.000235  \n",
       "14           4   0.000235  \n",
       "15           4   0.000235  \n",
       "16           4   0.000235  \n",
       "17           4   0.000235  \n",
       "18           4   0.000235  \n",
       "19           4   0.000235  \n",
       "20           4   0.000235  \n",
       "21           4   0.000235  \n",
       "22           4   0.000235  \n",
       "23           4   0.000235  \n",
       "24           8   0.000720  \n",
       "25           8   0.000720  \n",
       "26           8   0.000720  \n",
       "27           8   0.000720  \n",
       "28           8   0.000720  \n",
       "29           8   0.000720  "
      ]
     },
     "execution_count": 4,
     "metadata": {},
     "output_type": "execute_result"
    }
   ],
   "source": [
    "algo.dfline"
   ]
  },
  {
   "cell_type": "code",
   "execution_count": 5,
   "id": "23c49ac1",
   "metadata": {},
   "outputs": [],
   "source": [
    "df = indiv_init(algo, algo.pop)"
   ]
  },
  {
   "cell_type": "code",
   "execution_count": 6,
   "id": "a9fc9fa4",
   "metadata": {},
   "outputs": [
    {
     "data": {
      "text/html": [
       "<div>\n",
       "<style scoped>\n",
       "    .dataframe tbody tr th:only-of-type {\n",
       "        vertical-align: middle;\n",
       "    }\n",
       "\n",
       "    .dataframe tbody tr th {\n",
       "        vertical-align: top;\n",
       "    }\n",
       "\n",
       "    .dataframe thead th {\n",
       "        text-align: right;\n",
       "    }\n",
       "</style>\n",
       "<table border=\"1\" class=\"dataframe\">\n",
       "  <thead>\n",
       "    <tr style=\"text-align: right;\">\n",
       "      <th></th>\n",
       "      <th>Clist</th>\n",
       "      <th>CtoE</th>\n",
       "      <th>Econnect</th>\n",
       "      <th>Elist</th>\n",
       "      <th>Ecount</th>\n",
       "      <th>EtoP</th>\n",
       "      <th>Pconnect</th>\n",
       "      <th>Plist</th>\n",
       "      <th>Pcount</th>\n",
       "      <th>Ptype0</th>\n",
       "      <th>...</th>\n",
       "      <th>Esplit</th>\n",
       "      <th>Debit</th>\n",
       "      <th>EvCount</th>\n",
       "      <th>EvSum</th>\n",
       "      <th>Masse</th>\n",
       "      <th>Cout</th>\n",
       "      <th>DetailsMasse</th>\n",
       "      <th>DetailsCout</th>\n",
       "      <th>fitness</th>\n",
       "      <th>Alive</th>\n",
       "    </tr>\n",
       "  </thead>\n",
       "  <tbody>\n",
       "    <tr>\n",
       "      <th>0</th>\n",
       "      <td>[0, 1, 2, 3]</td>\n",
       "      <td>[1, 0, 3, 3]</td>\n",
       "      <td>{0: [1], 1: [0], 3: [2, 3]}</td>\n",
       "      <td>[0, 1, 3]</td>\n",
       "      <td>3</td>\n",
       "      <td>[0, 1, 1]</td>\n",
       "      <td>{0: [0], 1: [1, 3]}</td>\n",
       "      <td>[0, 1]</td>\n",
       "      <td>2</td>\n",
       "      <td>[Pa, Pa, Pc]</td>\n",
       "      <td>...</td>\n",
       "      <td>{0: [1], 1: [0], 3: [2, 3]}</td>\n",
       "      <td>57.5</td>\n",
       "      <td>{'E0': 1, 'E1': 1, 'E3': 2}</td>\n",
       "      <td>4</td>\n",
       "      <td>1780</td>\n",
       "      <td>84</td>\n",
       "      <td>{'Pompe': 602.0, 'Tuyau': 138.0, 'EV': 440.0, ...</td>\n",
       "      <td>{'Pompe': 29.0, 'Tuyau': 1.0, 'EV': 24.0, 'Res...</td>\n",
       "      <td>300</td>\n",
       "      <td>True</td>\n",
       "    </tr>\n",
       "    <tr>\n",
       "      <th>1</th>\n",
       "      <td>[0, 1, 2, 3]</td>\n",
       "      <td>[3, 0, 3, 2]</td>\n",
       "      <td>{0: [1], 2: [3], 3: [0, 2]}</td>\n",
       "      <td>[0, 2, 3]</td>\n",
       "      <td>3</td>\n",
       "      <td>[1, 0, 1]</td>\n",
       "      <td>{0: [2], 1: [0, 3]}</td>\n",
       "      <td>[0, 1]</td>\n",
       "      <td>2</td>\n",
       "      <td>[Pa, Pa, Pc]</td>\n",
       "      <td>...</td>\n",
       "      <td>{0: [1], 2: [3], 3: [0, 2]}</td>\n",
       "      <td>57.5</td>\n",
       "      <td>{'E0': 1, 'E2': 1, 'E3': 2}</td>\n",
       "      <td>4</td>\n",
       "      <td>1835</td>\n",
       "      <td>84</td>\n",
       "      <td>{'Pompe': 602.0, 'Tuyau': 193.2, 'EV': 440.0, ...</td>\n",
       "      <td>{'Pompe': 29.0, 'Tuyau': 1.5, 'EV': 24.0, 'Res...</td>\n",
       "      <td>420</td>\n",
       "      <td>True</td>\n",
       "    </tr>\n",
       "    <tr>\n",
       "      <th>2</th>\n",
       "      <td>[0, 1, 2, 3]</td>\n",
       "      <td>[0, 0, 0, 0]</td>\n",
       "      <td>{0: [0, 1, 2, 3]}</td>\n",
       "      <td>[0]</td>\n",
       "      <td>1</td>\n",
       "      <td>[0]</td>\n",
       "      <td>{0: [0]}</td>\n",
       "      <td>[0]</td>\n",
       "      <td>1</td>\n",
       "      <td>[Pa]</td>\n",
       "      <td>...</td>\n",
       "      <td>{0: [0, 1, 2, 3]}</td>\n",
       "      <td>44.8</td>\n",
       "      <td>{'E0': 4}</td>\n",
       "      <td>4</td>\n",
       "      <td>1272</td>\n",
       "      <td>57</td>\n",
       "      <td>{'Pompe': 136.0, 'Tuyau': 96.6, 'EV': 440.0, '...</td>\n",
       "      <td>{'Pompe': 2.5, 'Tuyau': 0.7, 'EV': 24.0, 'Rese...</td>\n",
       "      <td>210</td>\n",
       "      <td>True</td>\n",
       "    </tr>\n",
       "    <tr>\n",
       "      <th>3</th>\n",
       "      <td>[0, 1, 2, 3]</td>\n",
       "      <td>[2, 3, 1, 3]</td>\n",
       "      <td>{1: [2], 2: [0], 3: [1, 3]}</td>\n",
       "      <td>[1, 2, 3]</td>\n",
       "      <td>3</td>\n",
       "      <td>[0, 1, 1]</td>\n",
       "      <td>{0: [1], 1: [2, 3]}</td>\n",
       "      <td>[0, 1]</td>\n",
       "      <td>2</td>\n",
       "      <td>[Pc, Pc, Pc]</td>\n",
       "      <td>...</td>\n",
       "      <td>{1: [2], 2: [0], 3: [1, 3]}</td>\n",
       "      <td>70.2</td>\n",
       "      <td>{'E1': 1, 'E2': 1, 'E3': 2}</td>\n",
       "      <td>4</td>\n",
       "      <td>2177</td>\n",
       "      <td>127</td>\n",
       "      <td>{'Pompe': 990.0, 'Tuyau': 147.2, 'EV': 440.0, ...</td>\n",
       "      <td>{'Pompe': 72.0, 'Tuyau': 1.1, 'EV': 24.0, 'Res...</td>\n",
       "      <td>320</td>\n",
       "      <td>True</td>\n",
       "    </tr>\n",
       "    <tr>\n",
       "      <th>4</th>\n",
       "      <td>[0, 1, 2, 3]</td>\n",
       "      <td>[3, 1, 1, 1]</td>\n",
       "      <td>{1: [1, 2, 3], 3: [0]}</td>\n",
       "      <td>[1, 3]</td>\n",
       "      <td>2</td>\n",
       "      <td>[1, 0]</td>\n",
       "      <td>{0: [3], 1: [1]}</td>\n",
       "      <td>[0, 1]</td>\n",
       "      <td>2</td>\n",
       "      <td>[Pa, Pc]</td>\n",
       "      <td>...</td>\n",
       "      <td>{1: [1, 2, 3], 3: [0]}</td>\n",
       "      <td>51.1</td>\n",
       "      <td>{'E1': 3, 'E3': 1}</td>\n",
       "      <td>4</td>\n",
       "      <td>1657</td>\n",
       "      <td>81</td>\n",
       "      <td>{'Pompe': 466.0, 'Tuyau': 151.8, 'EV': 440.0, ...</td>\n",
       "      <td>{'Pompe': 26.5, 'Tuyau': 1.2, 'EV': 24.0, 'Res...</td>\n",
       "      <td>330</td>\n",
       "      <td>True</td>\n",
       "    </tr>\n",
       "    <tr>\n",
       "      <th>5</th>\n",
       "      <td>[0, 1, 2, 3]</td>\n",
       "      <td>[0, 2, 0, 3]</td>\n",
       "      <td>{0: [0, 2], 2: [1], 3: [3]}</td>\n",
       "      <td>[0, 2, 3]</td>\n",
       "      <td>3</td>\n",
       "      <td>[1, 0, 0]</td>\n",
       "      <td>{0: [2, 3], 1: [0]}</td>\n",
       "      <td>[0, 1]</td>\n",
       "      <td>2</td>\n",
       "      <td>[Pa, Pa, Pc]</td>\n",
       "      <td>...</td>\n",
       "      <td>{0: [0, 2], 2: [1], 3: [3]}</td>\n",
       "      <td>51.1</td>\n",
       "      <td>{'E0': 2, 'E2': 1, 'E3': 1}</td>\n",
       "      <td>4</td>\n",
       "      <td>1793</td>\n",
       "      <td>84</td>\n",
       "      <td>{'Pompe': 602.0, 'Tuyau': 151.8, 'EV': 440.0, ...</td>\n",
       "      <td>{'Pompe': 29.0, 'Tuyau': 1.2, 'EV': 24.0, 'Res...</td>\n",
       "      <td>330</td>\n",
       "      <td>True</td>\n",
       "    </tr>\n",
       "    <tr>\n",
       "      <th>6</th>\n",
       "      <td>[0, 1, 2, 3]</td>\n",
       "      <td>[0, 2, 3, 0]</td>\n",
       "      <td>{0: [0, 3], 2: [1], 3: [2]}</td>\n",
       "      <td>[0, 2, 3]</td>\n",
       "      <td>3</td>\n",
       "      <td>[1, 0, 1]</td>\n",
       "      <td>{0: [2], 1: [0, 3]}</td>\n",
       "      <td>[0, 1]</td>\n",
       "      <td>2</td>\n",
       "      <td>[Pa, Pa, Pc]</td>\n",
       "      <td>...</td>\n",
       "      <td>{0: [0, 3], 2: [1], 3: [2]}</td>\n",
       "      <td>51.1</td>\n",
       "      <td>{'E0': 2, 'E2': 1, 'E3': 1}</td>\n",
       "      <td>4</td>\n",
       "      <td>1830</td>\n",
       "      <td>84</td>\n",
       "      <td>{'Pompe': 602.0, 'Tuyau': 188.6, 'EV': 440.0, ...</td>\n",
       "      <td>{'Pompe': 29.0, 'Tuyau': 1.4, 'EV': 24.0, 'Res...</td>\n",
       "      <td>409</td>\n",
       "      <td>True</td>\n",
       "    </tr>\n",
       "    <tr>\n",
       "      <th>7</th>\n",
       "      <td>[0, 1, 2, 3]</td>\n",
       "      <td>[1, 1, 3, 2]</td>\n",
       "      <td>{1: [0, 1], 2: [3], 3: [2]}</td>\n",
       "      <td>[1, 2, 3]</td>\n",
       "      <td>3</td>\n",
       "      <td>[0, 1, 0]</td>\n",
       "      <td>{0: [1, 3], 1: [2]}</td>\n",
       "      <td>[0, 1]</td>\n",
       "      <td>2</td>\n",
       "      <td>[Pc, Pc, Pa]</td>\n",
       "      <td>...</td>\n",
       "      <td>{1: [0, 1], 2: [3], 3: [2]}</td>\n",
       "      <td>63.8</td>\n",
       "      <td>{'E1': 2, 'E2': 1, 'E3': 1}</td>\n",
       "      <td>4</td>\n",
       "      <td>2001</td>\n",
       "      <td>105</td>\n",
       "      <td>{'Pompe': 796.0, 'Tuyau': 165.6, 'EV': 440.0, ...</td>\n",
       "      <td>{'Pompe': 50.5, 'Tuyau': 1.3, 'EV': 24.0, 'Res...</td>\n",
       "      <td>359</td>\n",
       "      <td>True</td>\n",
       "    </tr>\n",
       "    <tr>\n",
       "      <th>8</th>\n",
       "      <td>[0, 1, 2, 3]</td>\n",
       "      <td>[2, 0, 2, 3]</td>\n",
       "      <td>{0: [1], 2: [0, 2], 3: [3]}</td>\n",
       "      <td>[0, 2, 3]</td>\n",
       "      <td>3</td>\n",
       "      <td>[0, 0, 1]</td>\n",
       "      <td>{0: [0, 2], 1: [3]}</td>\n",
       "      <td>[0, 1]</td>\n",
       "      <td>2</td>\n",
       "      <td>[Pa, Pc, Pa]</td>\n",
       "      <td>...</td>\n",
       "      <td>{0: [1], 2: [0, 2], 3: [3]}</td>\n",
       "      <td>57.5</td>\n",
       "      <td>{'E0': 1, 'E2': 2, 'E3': 1}</td>\n",
       "      <td>4</td>\n",
       "      <td>1770</td>\n",
       "      <td>84</td>\n",
       "      <td>{'Pompe': 602.0, 'Tuyau': 128.8, 'EV': 440.0, ...</td>\n",
       "      <td>{'Pompe': 29.0, 'Tuyau': 1.0, 'EV': 24.0, 'Res...</td>\n",
       "      <td>280</td>\n",
       "      <td>True</td>\n",
       "    </tr>\n",
       "    <tr>\n",
       "      <th>9</th>\n",
       "      <td>[0, 1, 2, 3]</td>\n",
       "      <td>[1, 1, 2, 3]</td>\n",
       "      <td>{1: [0, 1], 2: [2], 3: [3]}</td>\n",
       "      <td>[1, 2, 3]</td>\n",
       "      <td>3</td>\n",
       "      <td>[1, 0, 1]</td>\n",
       "      <td>{0: [2], 1: [1, 3]}</td>\n",
       "      <td>[0, 1]</td>\n",
       "      <td>2</td>\n",
       "      <td>[Pa, Pc, Pa]</td>\n",
       "      <td>...</td>\n",
       "      <td>{1: [0, 1], 2: [2], 3: [3]}</td>\n",
       "      <td>51.2</td>\n",
       "      <td>{'E1': 2, 'E2': 1, 'E3': 1}</td>\n",
       "      <td>4</td>\n",
       "      <td>1761</td>\n",
       "      <td>83</td>\n",
       "      <td>{'Pompe': 602.0, 'Tuyau': 119.6, 'EV': 440.0, ...</td>\n",
       "      <td>{'Pompe': 29.0, 'Tuyau': 0.9, 'EV': 24.0, 'Res...</td>\n",
       "      <td>260</td>\n",
       "      <td>True</td>\n",
       "    </tr>\n",
       "  </tbody>\n",
       "</table>\n",
       "<p>10 rows × 40 columns</p>\n",
       "</div>"
      ],
      "text/plain": [
       "          Clist          CtoE                     Econnect      Elist  Ecount  \\\n",
       "0  [0, 1, 2, 3]  [1, 0, 3, 3]  {0: [1], 1: [0], 3: [2, 3]}  [0, 1, 3]       3   \n",
       "1  [0, 1, 2, 3]  [3, 0, 3, 2]  {0: [1], 2: [3], 3: [0, 2]}  [0, 2, 3]       3   \n",
       "2  [0, 1, 2, 3]  [0, 0, 0, 0]            {0: [0, 1, 2, 3]}        [0]       1   \n",
       "3  [0, 1, 2, 3]  [2, 3, 1, 3]  {1: [2], 2: [0], 3: [1, 3]}  [1, 2, 3]       3   \n",
       "4  [0, 1, 2, 3]  [3, 1, 1, 1]       {1: [1, 2, 3], 3: [0]}     [1, 3]       2   \n",
       "5  [0, 1, 2, 3]  [0, 2, 0, 3]  {0: [0, 2], 2: [1], 3: [3]}  [0, 2, 3]       3   \n",
       "6  [0, 1, 2, 3]  [0, 2, 3, 0]  {0: [0, 3], 2: [1], 3: [2]}  [0, 2, 3]       3   \n",
       "7  [0, 1, 2, 3]  [1, 1, 3, 2]  {1: [0, 1], 2: [3], 3: [2]}  [1, 2, 3]       3   \n",
       "8  [0, 1, 2, 3]  [2, 0, 2, 3]  {0: [1], 2: [0, 2], 3: [3]}  [0, 2, 3]       3   \n",
       "9  [0, 1, 2, 3]  [1, 1, 2, 3]  {1: [0, 1], 2: [2], 3: [3]}  [1, 2, 3]       3   \n",
       "\n",
       "        EtoP             Pconnect   Plist  Pcount        Ptype0  ...  \\\n",
       "0  [0, 1, 1]  {0: [0], 1: [1, 3]}  [0, 1]       2  [Pa, Pa, Pc]  ...   \n",
       "1  [1, 0, 1]  {0: [2], 1: [0, 3]}  [0, 1]       2  [Pa, Pa, Pc]  ...   \n",
       "2        [0]             {0: [0]}     [0]       1          [Pa]  ...   \n",
       "3  [0, 1, 1]  {0: [1], 1: [2, 3]}  [0, 1]       2  [Pc, Pc, Pc]  ...   \n",
       "4     [1, 0]     {0: [3], 1: [1]}  [0, 1]       2      [Pa, Pc]  ...   \n",
       "5  [1, 0, 0]  {0: [2, 3], 1: [0]}  [0, 1]       2  [Pa, Pa, Pc]  ...   \n",
       "6  [1, 0, 1]  {0: [2], 1: [0, 3]}  [0, 1]       2  [Pa, Pa, Pc]  ...   \n",
       "7  [0, 1, 0]  {0: [1, 3], 1: [2]}  [0, 1]       2  [Pc, Pc, Pa]  ...   \n",
       "8  [0, 0, 1]  {0: [0, 2], 1: [3]}  [0, 1]       2  [Pa, Pc, Pa]  ...   \n",
       "9  [1, 0, 1]  {0: [2], 1: [1, 3]}  [0, 1]       2  [Pa, Pc, Pa]  ...   \n",
       "\n",
       "                        Esplit Debit                      EvCount  EvSum  \\\n",
       "0  {0: [1], 1: [0], 3: [2, 3]}  57.5  {'E0': 1, 'E1': 1, 'E3': 2}      4   \n",
       "1  {0: [1], 2: [3], 3: [0, 2]}  57.5  {'E0': 1, 'E2': 1, 'E3': 2}      4   \n",
       "2            {0: [0, 1, 2, 3]}  44.8                    {'E0': 4}      4   \n",
       "3  {1: [2], 2: [0], 3: [1, 3]}  70.2  {'E1': 1, 'E2': 1, 'E3': 2}      4   \n",
       "4       {1: [1, 2, 3], 3: [0]}  51.1           {'E1': 3, 'E3': 1}      4   \n",
       "5  {0: [0, 2], 2: [1], 3: [3]}  51.1  {'E0': 2, 'E2': 1, 'E3': 1}      4   \n",
       "6  {0: [0, 3], 2: [1], 3: [2]}  51.1  {'E0': 2, 'E2': 1, 'E3': 1}      4   \n",
       "7  {1: [0, 1], 2: [3], 3: [2]}  63.8  {'E1': 2, 'E2': 1, 'E3': 1}      4   \n",
       "8  {0: [1], 2: [0, 2], 3: [3]}  57.5  {'E0': 1, 'E2': 2, 'E3': 1}      4   \n",
       "9  {1: [0, 1], 2: [2], 3: [3]}  51.2  {'E1': 2, 'E2': 1, 'E3': 1}      4   \n",
       "\n",
       "  Masse Cout                                       DetailsMasse  \\\n",
       "0  1780   84  {'Pompe': 602.0, 'Tuyau': 138.0, 'EV': 440.0, ...   \n",
       "1  1835   84  {'Pompe': 602.0, 'Tuyau': 193.2, 'EV': 440.0, ...   \n",
       "2  1272   57  {'Pompe': 136.0, 'Tuyau': 96.6, 'EV': 440.0, '...   \n",
       "3  2177  127  {'Pompe': 990.0, 'Tuyau': 147.2, 'EV': 440.0, ...   \n",
       "4  1657   81  {'Pompe': 466.0, 'Tuyau': 151.8, 'EV': 440.0, ...   \n",
       "5  1793   84  {'Pompe': 602.0, 'Tuyau': 151.8, 'EV': 440.0, ...   \n",
       "6  1830   84  {'Pompe': 602.0, 'Tuyau': 188.6, 'EV': 440.0, ...   \n",
       "7  2001  105  {'Pompe': 796.0, 'Tuyau': 165.6, 'EV': 440.0, ...   \n",
       "8  1770   84  {'Pompe': 602.0, 'Tuyau': 128.8, 'EV': 440.0, ...   \n",
       "9  1761   83  {'Pompe': 602.0, 'Tuyau': 119.6, 'EV': 440.0, ...   \n",
       "\n",
       "                                         DetailsCout fitness Alive  \n",
       "0  {'Pompe': 29.0, 'Tuyau': 1.0, 'EV': 24.0, 'Res...     300  True  \n",
       "1  {'Pompe': 29.0, 'Tuyau': 1.5, 'EV': 24.0, 'Res...     420  True  \n",
       "2  {'Pompe': 2.5, 'Tuyau': 0.7, 'EV': 24.0, 'Rese...     210  True  \n",
       "3  {'Pompe': 72.0, 'Tuyau': 1.1, 'EV': 24.0, 'Res...     320  True  \n",
       "4  {'Pompe': 26.5, 'Tuyau': 1.2, 'EV': 24.0, 'Res...     330  True  \n",
       "5  {'Pompe': 29.0, 'Tuyau': 1.2, 'EV': 24.0, 'Res...     330  True  \n",
       "6  {'Pompe': 29.0, 'Tuyau': 1.4, 'EV': 24.0, 'Res...     409  True  \n",
       "7  {'Pompe': 50.5, 'Tuyau': 1.3, 'EV': 24.0, 'Res...     359  True  \n",
       "8  {'Pompe': 29.0, 'Tuyau': 1.0, 'EV': 24.0, 'Res...     280  True  \n",
       "9  {'Pompe': 29.0, 'Tuyau': 0.9, 'EV': 24.0, 'Res...     260  True  \n",
       "\n",
       "[10 rows x 40 columns]"
      ]
     },
     "execution_count": 6,
     "metadata": {},
     "output_type": "execute_result"
    }
   ],
   "source": [
    "df"
   ]
  },
  {
   "cell_type": "code",
   "execution_count": 21,
   "id": "18528aa4",
   "metadata": {},
   "outputs": [
    {
     "data": {
      "text/plain": [
       "Clist                      [0, 1, 2, 3]\n",
       "CtoE                       [1, 0, 3, 3]\n",
       "Econnect    {0: [1], 1: [0], 3: [2, 3]}\n",
       "Elist                         [0, 1, 3]\n",
       "Ecount                                3\n",
       "EtoP                          [0, 1, 1]\n",
       "Pconnect            {0: [0], 1: [1, 3]}\n",
       "Plist                            [0, 1]\n",
       "Pcount                                2\n",
       "Name: 0, dtype: object"
      ]
     },
     "execution_count": 21,
     "metadata": {},
     "output_type": "execute_result"
    },
    {
     "data": {
      "text/plain": [
       "Clist                 [0, 1, 2, 3]\n",
       "CtoE                  [1, 3, 3, 3]\n",
       "Econnect    {1: [0], 3: [1, 2, 3]}\n",
       "Elist                       [1, 3]\n",
       "Ecount                           2\n",
       "EtoP                        [1, 1]\n",
       "Pconnect               {1: [1, 3]}\n",
       "Plist                          [1]\n",
       "Pcount                           1\n",
       "dtype: object"
      ]
     },
     "execution_count": 21,
     "metadata": {},
     "output_type": "execute_result"
    }
   ],
   "source": [
    "row = df.iloc[0]\n",
    "NewrowMutation = pd.Series(Mutation(row, algo))\n",
    "NewrowCrosser = pd.Series(Mutation(row, algo))\n",
    "row[col]\n",
    "Newrow[col]"
   ]
  },
  {
   "cell_type": "code",
   "execution_count": 23,
   "id": "9b30f781",
   "metadata": {},
   "outputs": [
    {
     "data": {
      "text/html": [
       "<div>\n",
       "<style scoped>\n",
       "    .dataframe tbody tr th:only-of-type {\n",
       "        vertical-align: middle;\n",
       "    }\n",
       "\n",
       "    .dataframe tbody tr th {\n",
       "        vertical-align: top;\n",
       "    }\n",
       "\n",
       "    .dataframe thead th {\n",
       "        text-align: right;\n",
       "    }\n",
       "</style>\n",
       "<table border=\"1\" class=\"dataframe\">\n",
       "  <thead>\n",
       "    <tr style=\"text-align: right;\">\n",
       "      <th></th>\n",
       "      <th>Clist</th>\n",
       "      <th>CtoE</th>\n",
       "      <th>Econnect</th>\n",
       "      <th>Elist</th>\n",
       "      <th>Ecount</th>\n",
       "      <th>EtoP</th>\n",
       "      <th>Pconnect</th>\n",
       "      <th>Plist</th>\n",
       "      <th>Pcount</th>\n",
       "    </tr>\n",
       "  </thead>\n",
       "  <tbody>\n",
       "    <tr>\n",
       "      <th>0</th>\n",
       "      <td>[0, 1, 2, 3]</td>\n",
       "      <td>[1, 0, 3, 3]</td>\n",
       "      <td>{0: [1], 1: [0], 3: [2, 3]}</td>\n",
       "      <td>[0, 1, 3]</td>\n",
       "      <td>3</td>\n",
       "      <td>[0, 1, 1]</td>\n",
       "      <td>{0: [0], 1: [1, 3]}</td>\n",
       "      <td>[0, 1]</td>\n",
       "      <td>2</td>\n",
       "    </tr>\n",
       "    <tr>\n",
       "      <th>1</th>\n",
       "      <td>[0, 1, 2, 3]</td>\n",
       "      <td>[3, 0, 3, 2]</td>\n",
       "      <td>{0: [1], 2: [3], 3: [0, 2]}</td>\n",
       "      <td>[0, 2, 3]</td>\n",
       "      <td>3</td>\n",
       "      <td>[1, 0, 1]</td>\n",
       "      <td>{0: [2], 1: [0, 3]}</td>\n",
       "      <td>[0, 1]</td>\n",
       "      <td>2</td>\n",
       "    </tr>\n",
       "  </tbody>\n",
       "</table>\n",
       "</div>"
      ],
      "text/plain": [
       "          Clist          CtoE                     Econnect      Elist  Ecount  \\\n",
       "0  [0, 1, 2, 3]  [1, 0, 3, 3]  {0: [1], 1: [0], 3: [2, 3]}  [0, 1, 3]       3   \n",
       "1  [0, 1, 2, 3]  [3, 0, 3, 2]  {0: [1], 2: [3], 3: [0, 2]}  [0, 2, 3]       3   \n",
       "\n",
       "        EtoP             Pconnect   Plist  Pcount  \n",
       "0  [0, 1, 1]  {0: [0], 1: [1, 3]}  [0, 1]       2  \n",
       "1  [1, 0, 1]  {0: [2], 1: [0, 3]}  [0, 1]       2  "
      ]
     },
     "execution_count": 23,
     "metadata": {},
     "output_type": "execute_result"
    },
    {
     "data": {
      "text/html": [
       "<div>\n",
       "<style scoped>\n",
       "    .dataframe tbody tr th:only-of-type {\n",
       "        vertical-align: middle;\n",
       "    }\n",
       "\n",
       "    .dataframe tbody tr th {\n",
       "        vertical-align: top;\n",
       "    }\n",
       "\n",
       "    .dataframe thead th {\n",
       "        text-align: right;\n",
       "    }\n",
       "</style>\n",
       "<table border=\"1\" class=\"dataframe\">\n",
       "  <thead>\n",
       "    <tr style=\"text-align: right;\">\n",
       "      <th></th>\n",
       "      <th>Clist</th>\n",
       "      <th>CtoE</th>\n",
       "      <th>Econnect</th>\n",
       "      <th>Elist</th>\n",
       "      <th>Ecount</th>\n",
       "      <th>EtoP</th>\n",
       "      <th>Pconnect</th>\n",
       "      <th>Plist</th>\n",
       "      <th>Pcount</th>\n",
       "    </tr>\n",
       "  </thead>\n",
       "  <tbody>\n",
       "    <tr>\n",
       "      <th>0</th>\n",
       "      <td>[0, 1, 2, 3]</td>\n",
       "      <td>[3, 0, 3, 3]</td>\n",
       "      <td>{0: [1], 3: [0, 2, 3]}</td>\n",
       "      <td>[0, 3]</td>\n",
       "      <td>2</td>\n",
       "      <td>[0, 1]</td>\n",
       "      <td>{0: [0], 1: [3]}</td>\n",
       "      <td>[0, 1]</td>\n",
       "      <td>2</td>\n",
       "    </tr>\n",
       "    <tr>\n",
       "      <th>1</th>\n",
       "      <td>[0, 1, 2, 3]</td>\n",
       "      <td>[1, 0, 3, 2]</td>\n",
       "      <td>{0: [1], 1: [0], 2: [3], 3: [2]}</td>\n",
       "      <td>[0, 1, 2, 3]</td>\n",
       "      <td>4</td>\n",
       "      <td>[1, 0, 1, 1]</td>\n",
       "      <td>{0: [1], 1: [0, 2, 3]}</td>\n",
       "      <td>[0, 1]</td>\n",
       "      <td>2</td>\n",
       "    </tr>\n",
       "  </tbody>\n",
       "</table>\n",
       "</div>"
      ],
      "text/plain": [
       "          Clist          CtoE                          Econnect         Elist  \\\n",
       "0  [0, 1, 2, 3]  [3, 0, 3, 3]            {0: [1], 3: [0, 2, 3]}        [0, 3]   \n",
       "1  [0, 1, 2, 3]  [1, 0, 3, 2]  {0: [1], 1: [0], 2: [3], 3: [2]}  [0, 1, 2, 3]   \n",
       "\n",
       "   Ecount          EtoP                Pconnect   Plist  Pcount  \n",
       "0       2        [0, 1]        {0: [0], 1: [3]}  [0, 1]       2  \n",
       "1       4  [1, 0, 1, 1]  {0: [1], 1: [0, 2, 3]}  [0, 1]       2  "
      ]
     },
     "execution_count": 23,
     "metadata": {},
     "output_type": "execute_result"
    }
   ],
   "source": [
    "NewdfCrossOver = pd.DataFrame(AG_CrossOver(df[:2], algo))\n",
    "df[:2][col]\n",
    "NewdfCrossOver[col]"
   ]
  },
  {
   "cell_type": "code",
   "execution_count": 9,
   "id": "23937f78",
   "metadata": {},
   "outputs": [
    {
     "data": {
      "text/plain": [
       "Index(['Clist', 'CtoE', 'Econnect', 'Elist', 'Ecount', 'EtoP', 'Pconnect',\n",
       "       'Plist', 'Pcount', 'Ptype0', 'List_EtoC', 'List_PtoE', 'Name', 'ID',\n",
       "       'parent', 'Name_txt', 'Epoch', 'Option', 'Ptype', 'dist_Connect',\n",
       "       'dist', 'BusName', 'BusDist', 'PtypeCo', 'PompesCo', 'PompeCount',\n",
       "       'PompeSum', 'duriteVal', 'PressionList', 'DebitList', 'Esplit', 'Debit',\n",
       "       'EvCount', 'EvSum', 'Masse', 'Cout', 'DetailsMasse', 'DetailsCout',\n",
       "       'fitness', 'Alive'],\n",
       "      dtype='object')"
      ]
     },
     "execution_count": 9,
     "metadata": {},
     "output_type": "execute_result"
    }
   ],
   "source": [
    "row.index"
   ]
  },
  {
   "cell_type": "code",
   "execution_count": 10,
   "id": "19dd7ef5",
   "metadata": {},
   "outputs": [],
   "source": [
    "col = ['Clist', 'CtoE', 'Econnect', 'Elist', 'Ecount', 'EtoP', 'Pconnect',\n",
    "       'Plist', 'Pcount']"
   ]
  },
  {
   "cell_type": "code",
   "execution_count": 16,
   "id": "3e81a8ab",
   "metadata": {},
   "outputs": [
    {
     "data": {
      "text/plain": [
       "Clist                      [0, 1, 2, 3]\n",
       "CtoE                       [1, 0, 3, 3]\n",
       "Econnect    {0: [1], 1: [0], 3: [2, 3]}\n",
       "Elist                         [0, 1, 3]\n",
       "Ecount                                3\n",
       "EtoP                          [0, 1, 1]\n",
       "Pconnect            {0: [0], 1: [1, 3]}\n",
       "Plist                            [0, 1]\n",
       "Pcount                                2\n",
       "Name: 0, dtype: object"
      ]
     },
     "execution_count": 16,
     "metadata": {},
     "output_type": "execute_result"
    },
    {
     "data": {
      "text/plain": [
       "Clist                 [0, 1, 2, 3]\n",
       "CtoE                  [1, 3, 3, 3]\n",
       "Econnect    {1: [0], 3: [1, 2, 3]}\n",
       "Elist                       [1, 3]\n",
       "Ecount                           2\n",
       "EtoP                        [1, 1]\n",
       "Pconnect               {1: [1, 3]}\n",
       "Plist                          [1]\n",
       "Pcount                           1\n",
       "dtype: object"
      ]
     },
     "execution_count": 16,
     "metadata": {},
     "output_type": "execute_result"
    }
   ],
   "source": [
    "row[col]\n",
    "Newrow[col]"
   ]
  },
  {
   "cell_type": "code",
   "execution_count": 13,
   "id": "c0b00d5c",
   "metadata": {},
   "outputs": [],
   "source": []
  },
  {
   "cell_type": "code",
   "execution_count": 6,
   "id": "62ac06ba",
   "metadata": {},
   "outputs": [],
   "source": [
    "df = indiv_init(algo, algo.pop)\n",
    "algo.df = df.drop_duplicates(subset='Name_txt')"
   ]
  },
  {
   "cell_type": "code",
   "execution_count": 7,
   "id": "f867ea23",
   "metadata": {},
   "outputs": [],
   "source": [
    "df1 = algo.df.copy()\n",
    "df1 = df1.sort_values(['fitness']).reset_index(drop = True)"
   ]
  },
  {
   "cell_type": "code",
   "execution_count": 25,
   "id": "ade791b2",
   "metadata": {
    "scrolled": false
   },
   "outputs": [
    {
     "name": "stdout",
     "output_type": "stream",
     "text": [
      "(10, 7)\n"
     ]
    },
    {
     "data": {
      "image/png": "[encoded data removed]",
      "text/plain": [
       "<Figure size 800x800 with 1 Axes>"
      ]
     },
     "metadata": {},
     "output_type": "display_data"
    }
   ],
   "source": [
    "# row = df1.loc[0]\n",
    "row = Newrow\n",
    "ElemsList = ['Clist','Elist','Plist']\n",
    "Elems = ['C','E','P']\n",
    "SelectSlot = []\n",
    "List_EtoC = row.List_EtoC\n",
    "List_PtoE = row.List_PtoE\n",
    "for n in range(3):\n",
    "    SelectSlot+= ['{}{}'.format(Elems[n],i) for i in row[ElemsList[n]]]\n",
    "SelectLine = row.Name\n",
    "if row.Option == 'Bus' :   SelectLine = row.BusName\n",
    "\n",
    "# fig = plot_(algo,dflineSelect, dfsSelect, str(row.name) + ' : ' + row.Name_txt + ' / '+ str(row.dist))     \n",
    "# col[i].dataframe(row.drop(labels= Col_drop).astype('str'),  use_container_width  =True)                    \n",
    "fig = new_plot(algo, SelectLine, SelectSlot)"
   ]
  },
  {
   "cell_type": "code",
   "execution_count": 27,
   "id": "6772261a",
   "metadata": {},
   "outputs": [
    {
     "name": "stdout",
     "output_type": "stream",
     "text": [
      "(10, 7)\n"
     ]
    },
    {
     "data": {
      "image/png": "[encoded data removed]",
      "text/plain": [
       "<Figure size 800x800 with 1 Axes>"
      ]
     },
     "metadata": {},
     "output_type": "display_data"
    }
   ],
   "source": [
    "# row = df1.loc[0]\n",
    "row = df.iloc[0].copy()\n",
    "ElemsList = ['Clist','Elist','Plist']\n",
    "Elems = ['C','E','P']\n",
    "SelectSlot = []\n",
    "List_EtoC = row.List_EtoC\n",
    "List_PtoE = row.List_PtoE\n",
    "for n in range(3):\n",
    "    SelectSlot+= ['{}{}'.format(Elems[n],i) for i in row[ElemsList[n]]]\n",
    "SelectLine = row.Name\n",
    "if row.Option == 'Bus' :   SelectLine = row.BusName\n",
    "\n",
    "# fig = plot_(algo,dflineSelect, dfsSelect, str(row.name) + ' : ' + row.Name_txt + ' / '+ str(row.dist))     \n",
    "# col[i].dataframe(row.drop(labels= Col_drop).astype('str'),  use_container_width  =True)                    \n",
    "fig = new_plot(algo, SelectLine, SelectSlot)"
   ]
  },
  {
   "cell_type": "code",
   "execution_count": 29,
   "id": "4d5f1cf0",
   "metadata": {},
   "outputs": [],
   "source": [
    "generation = 2"
   ]
  },
  {
   "cell_type": "code",
   "execution_count": 30,
   "id": "9be14a5d",
   "metadata": {},
   "outputs": [
    {
     "data": {
      "text/plain": [
       "'\\nPermet le choix aléatoire de meilleurs individus de la génération.\\n\\n@parameters:\\n    generation: une liste de tuples (individu, fitnessValue)\\n    Ntour: un entier (integer)\\n\\n@return:\\n    populationSelection: une liste\\n'"
      ]
     },
     "execution_count": 30,
     "metadata": {},
     "output_type": "execute_result"
    },
    {
     "ename": "TypeError",
     "evalue": "object of type 'int' has no len()",
     "output_type": "error",
     "traceback": [
      "\u001b[1;31m---------------------------------------------------------------------------\u001b[0m",
      "\u001b[1;31mTypeError\u001b[0m                                 Traceback (most recent call last)",
      "Input \u001b[1;32mIn [30]\u001b[0m, in \u001b[0;36m<cell line: 14>\u001b[1;34m()\u001b[0m\n\u001b[0;32m      1\u001b[0m \u001b[38;5;124;03m\"\"\"\u001b[39;00m\n\u001b[0;32m      2\u001b[0m \u001b[38;5;124;03mPermet le choix aléatoire de meilleurs individus de la génération.\u001b[39;00m\n\u001b[0;32m      3\u001b[0m \n\u001b[1;32m   (...)\u001b[0m\n\u001b[0;32m      9\u001b[0m \u001b[38;5;124;03m    populationSelection: une liste\u001b[39;00m\n\u001b[0;32m     10\u001b[0m \u001b[38;5;124;03m\"\"\"\u001b[39;00m\n\u001b[0;32m     12\u001b[0m populationSelection \u001b[38;5;241m=\u001b[39m [] \u001b[38;5;66;03m# Création de notre variable de sortie\u001b[39;00m\n\u001b[1;32m---> 14\u001b[0m \u001b[38;5;28;01mfor\u001b[39;00m i \u001b[38;5;129;01min\u001b[39;00m \u001b[38;5;28mrange\u001b[39m(\u001b[38;5;28;43mlen\u001b[39;49m\u001b[43m(\u001b[49m\u001b[43mgeneration\u001b[49m\u001b[43m)\u001b[49m):\n\u001b[0;32m     15\u001b[0m     populationRandom \u001b[38;5;241m=\u001b[39m [] \u001b[38;5;66;03m# Création de notre liste de sélection aléatoire\u001b[39;00m\n\u001b[0;32m     17\u001b[0m     \u001b[38;5;28;01mfor\u001b[39;00m j \u001b[38;5;129;01min\u001b[39;00m \u001b[38;5;28mrange\u001b[39m(Ntour):\n",
      "\u001b[1;31mTypeError\u001b[0m: object of type 'int' has no len()"
     ]
    }
   ],
   "source": [
    "\"\"\"\n",
    "Permet le choix aléatoire de meilleurs individus de la génération.\n",
    "\n",
    "@parameters:\n",
    "    generation: une liste de tuples (individu, fitnessValue)\n",
    "    Ntour: un entier (integer)\n",
    "\n",
    "@return:\n",
    "    populationSelection: une liste\n",
    "\"\"\"\n",
    "\n",
    "populationSelection = [] # Création de notre variable de sortie\n",
    "\n",
    "for i in range(len(generation)):\n",
    "    populationRandom = [] # Création de notre liste de sélection aléatoire\n",
    "\n",
    "    for j in range(Ntour):\n",
    "        populationRandom.append(generation[random.randrange(len(generation))]) # On choisit aléatoirement des \n",
    "# individus de la génération\n",
    "\n",
    "    populationRandom = sorted(populationRandom, key=lambda x: x[1]) # Trier en fonction de la valeur du fitness\n",
    "    populationSelection.append(populationRandom[0]) # Ajouter à notre variable de sortie l'individu ayant le \n",
    "# meilleur fitness\n",
    "\n",
    "populationSelection = sorted(populationSelection, key=lambda x: x[1]) # Trier en fonction du fitness\n",
    "a = populationSelection[:] # Faire une copie de la variable de sortie\n",
    "for i in range(len(a)):\n",
    "    populationSelection[i] = a[i][0] # On choisit l'individu sans le fitness\n",
    "\n",
    "return populationSelection"
   ]
  },
  {
   "cell_type": "code",
   "execution_count": 11,
   "id": "4f174e83",
   "metadata": {},
   "outputs": [
    {
     "data": {
      "text/plain": [
       "0"
      ]
     },
     "execution_count": 11,
     "metadata": {},
     "output_type": "execute_result"
    }
   ],
   "source": [
    "output = BytesIO()\n",
    "writer = pd.ExcelWriter(output, engine='xlsxwriter') \n",
    "row.to_excel(writer, sheet_name='Sheet1') \n",
    "worksheet = writer.sheets['Sheet1']\n",
    "imgdata = BytesIO()\n",
    "fig.savefig(imgdata, format='png')\n",
    "worksheet.insert_image(2,2, '', {'image_data': imgdata})\n",
    "writer.save()\n"
   ]
  },
  {
   "cell_type": "code",
   "execution_count": null,
   "id": "bd3b56af",
   "metadata": {},
   "outputs": [],
   "source": [
    "row = df1.loc[0]\n",
    "ElemsList = ['Clist','Elist','Plist']\n",
    "Elems = ['C','E','P']\n",
    "SelectSlot = []\n",
    "List_EtoC = row.List_EtoC\n",
    "List_PtoE = row.List_PtoE\n",
    "for n in range(3):\n",
    "    SelectSlot+= ['{}{}'.format(Elems[n],i) for i in row[ElemsList[n]]]\n",
    "SelectLine = row.Name\n",
    "if row.Option == 'Bus' :   SelectLine = row.BusName"
   ]
  },
  {
   "cell_type": "raw",
   "id": "1870de84",
   "metadata": {},
   "source": [
    "ListPompes = algo.DataCategorie['Pompe']['Unique']\n",
    "dict(zip(ListPompes, [10]*len(ListPompes)))"
   ]
  },
  {
   "cell_type": "code",
   "execution_count": 3,
   "id": "d1816796",
   "metadata": {
    "collapsed": true
   },
   "outputs": [
    {
     "data": {
      "text/plain": [
       "{'Pompe': {'Unique': ['Pa', 'Pc'],\n",
       "  'Values': {'Pa': {'Categorie': 'Pompe',\n",
       "    'Composants': 'Pompe 1',\n",
       "    'Type': 'Single',\n",
       "    'Masse': 136.0,\n",
       "    'Cout': 2.5,\n",
       "    'Actif': 1.0,\n",
       "    'a': -0.000516,\n",
       "    'b': -0.0154,\n",
       "    'c': 4.87},\n",
       "   'Pc': {'Categorie': 'Pompe',\n",
       "    'Composants': 'Pompe 3',\n",
       "    'Type': 'Brushless',\n",
       "    'Masse': 330.0,\n",
       "    'Cout': 24.0,\n",
       "    'Actif': 1.0,\n",
       "    'a': -0.000661,\n",
       "    'b': -0.0286,\n",
       "    'c': 12.1}}},\n",
       " 'EV': {'Unique': ['Ea'],\n",
       "  'Values': {'Ea': {'Categorie': 'EV',\n",
       "    'Composants': 'EV_A',\n",
       "    'Type': 'Electrovanne',\n",
       "    'Masse': 110.0,\n",
       "    'Cout': 6.0,\n",
       "    'Actif': 1.0,\n",
       "    'a': 0.00764}}},\n",
       " 'Tuyau': {'Unique': ['Ta'],\n",
       "  'Values': {'Ta': {'Categorie': 'Tuyau',\n",
       "    'Composants': 'Tuyau 1',\n",
       "    'Type': '4 mm',\n",
       "    'Masse': 46.0,\n",
       "    'Cout': 0.35,\n",
       "    'Actif': 1.0,\n",
       "    'a': 0.000235}}},\n",
       " 'Reservoir': {'Unique': ['Ra'],\n",
       "  'Values': {'Ra': {'Categorie': 'Reservoir',\n",
       "    'Composants': '1 Réservoir',\n",
       "    'Masse': 600.0,\n",
       "    'Cout': 25.0,\n",
       "    'Actif': 1.0,\n",
       "    'a': 0.0}}},\n",
       " 'Nozzle': {'Unique': ['F', 'R'],\n",
       "  'Values': {'F': {'Categorie': 'Nozzle',\n",
       "    'Composants': 'Fixed',\n",
       "    'Actif': 1.0,\n",
       "    'a': 0.036,\n",
       "    'Pmin': 2.0},\n",
       "   'R': {'Categorie': 'Nozzle',\n",
       "    'Composants': 'Ramp',\n",
       "    'Actif': 1.0,\n",
       "    'a': 0.0017,\n",
       "    'Pmin': 2.0}}}}"
      ]
     },
     "execution_count": 3,
     "metadata": {},
     "output_type": "execute_result"
    }
   ],
   "source": [
    "algo.DataCategorie"
   ]
  },
  {
   "cell_type": "raw",
   "id": "12b03137",
   "metadata": {},
   "source": [
    "indiv = algo.indivs[0]\n",
    "indiv"
   ]
  },
  {
   "cell_type": "code",
   "execution_count": 17,
   "id": "363648d8",
   "metadata": {},
   "outputs": [],
   "source": [
    "algo.PompesSelect = ['Pa','Pa']"
   ]
  },
  {
   "cell_type": "code",
   "execution_count": 60,
   "id": "07747448",
   "metadata": {},
   "outputs": [
    {
     "name": "stdout",
     "output_type": "stream",
     "text": [
      "[0, 1, 2, 3] [0, 1, 2, 3] [0, 0, 1, 1]\n"
     ]
    },
    {
     "data": {
      "text/plain": [
       "{'Clist': [0, 1, 2, 3],\n",
       " 'CtoE': [0, 1, 2, 3],\n",
       " 'Econnect': {0: [0], 1: [1], 2: [2], 3: [3]},\n",
       " 'Elist': [0, 1, 2, 3],\n",
       " 'Ecount': 4,\n",
       " 'EtoP': [0, 0, 1, 1],\n",
       " 'Pconnect': {0: [0, 1], 1: [2, 3]},\n",
       " 'Plist': [0, 1],\n",
       " 'Pcount': 2,\n",
       " 'Ptype': array(['Pa', 'Pa', 'Pa', 'Pa'], dtype='<U2'),\n",
       " 'PtypeCo': {0: ['Pa', 'Pa'], 1: ['Pa', 'Pa']},\n",
       " 'List_EtoC': [['E0-C0'], ['E1-C1'], ['E2-C2'], ['E3-C3']],\n",
       " 'List_PtoE': [['P0-E0', 'P0-E1'], ['P1-E2', 'P1-E3']],\n",
       " 'dist_Connect': {'E0-C0': 0.3,\n",
       "  'E1-C1': 0.3,\n",
       "  'E2-C2': 0.5,\n",
       "  'E3-C3': 0.3,\n",
       "  'P0-E0': 0.2,\n",
       "  'P0-E1': 0.7,\n",
       "  'P1-E2': 0.5,\n",
       "  'P1-E3': 0.1},\n",
       " 'dist': 2.5,\n",
       " 'Name': ['E0-C0',\n",
       "  'E1-C1',\n",
       "  'E2-C2',\n",
       "  'E3-C3',\n",
       "  'P0-E0',\n",
       "  'P0-E1',\n",
       "  'P1-E2',\n",
       "  'P1-E3'],\n",
       " 'ID': 11,\n",
       " 'Name_txt': 'E0-C0,E1-C1,E2-C2,E3-C3,P0-E0,P0-E1,P1-E2,P1-E3',\n",
       " 'Epoch': 0,\n",
       " 'BusName': ['E0-C0',\n",
       "  'E1-C1',\n",
       "  'E2-C2',\n",
       "  'E3-C3',\n",
       "  'P0-E0',\n",
       "  'E1-E0',\n",
       "  'E3-E2',\n",
       "  'P1-E3'],\n",
       " 'duriteVal': {'E0-C0': 0.000235,\n",
       "  'E1-C1': 0.000235,\n",
       "  'E2-C2': 0.000235,\n",
       "  'E3-C3': 0.000235,\n",
       "  'P0-E0': 0.000235,\n",
       "  'P0-E1': 0.00072,\n",
       "  'P1-E2': 0.00072,\n",
       "  'P1-E3': 0.000235},\n",
       " 'BusDist': {'E0-C0': 0.3,\n",
       "  'E1-C1': 0.3,\n",
       "  'E2-C2': 0.5,\n",
       "  'E3-C3': 0.3,\n",
       "  'P0-E0': 0.2,\n",
       "  'P0-E1': 0.5,\n",
       "  'P1-E2': 0.4,\n",
       "  'P1-E3': 0.1},\n",
       " 'PressionList': [4.52, 4.52, 4.51, 4.52],\n",
       " 'DebitList': [11.21, 11.2, 11.19, 11.21],\n",
       " 'Esplit': {0: [0], 1: [1], 2: [2], 3: [3]},\n",
       " 'Debit': 44.8,\n",
       " 'Masse': 1717,\n",
       " 'Cout': 65,\n",
       " 'fitness': 2.5,\n",
       " 'Alive': True}"
      ]
     },
     "execution_count": 60,
     "metadata": {},
     "output_type": "execute_result"
    }
   ],
   "source": [
    "# Name = 'E0-C1,E1-C2,E2-C0,E2-C3,P0-E1,P1-E0,P1-E2'\n",
    "# Name = \"E1-C0,E1-C1,E1-C2,E1-C3,P1-E1\"\n",
    "Name = \"E0-C0,E1-C1,E2-C2,E3-C3,P0-E0,P0-E1,P1-E2,P1-E3\"\n",
    "# Name = \"E0-C0,E0-C2,E1-C1,E1-C3,P0-E1,P0-E0\"\n",
    "indiv = Indiv_reverse(Name,algo) \n",
    "indiv"
   ]
  },
  {
   "cell_type": "markdown",
   "id": "a3ac6912",
   "metadata": {
    "heading_collapsed": true
   },
   "source": [
    "## test BUS"
   ]
  },
  {
   "cell_type": "raw",
   "id": "067d6f1a",
   "metadata": {
    "collapsed": true,
    "hidden": true
   },
   "source": [
    "# dfx0 = pd.DataFrame(DictLine).T\n",
    "dfx0 = algo.dfline.copy()\n",
    "dfx0['a'] = dfx0.ID.str.split('-').str[0]\n",
    "dfx0['b'] = dfx0.ID.str.split('-').str[1]\n",
    "# dfx0['dist']/=algo.A0.shape[0]\n",
    "dfx0"
   ]
  },
  {
   "cell_type": "code",
   "execution_count": null,
   "id": "6fc255c1",
   "metadata": {
    "hidden": true
   },
   "outputs": [],
   "source": [
    "pts = ['a','b','b']\n",
    "\n"
   ]
  },
  {
   "cell_type": "code",
   "execution_count": 56,
   "id": "2b0e0fa9",
   "metadata": {
    "hidden": true
   },
   "outputs": [
    {
     "name": "stdout",
     "output_type": "stream",
     "text": [
      "0 0 [2, 3] P0 ['E0', 'E1'] ['P0', 'E0', 'E1']\n",
      "['P0', 'E0', 'E1'] ['P0-E0', 'E1-E0'] [0.2, 0.5] [0.2 0.7] ['P0-E0', 'P0-E1']\n",
      "1 1 [2, 3] P1 ['E2', 'E3'] ['P1', 'E2', 'E3']\n",
      "['P1', 'E3', 'E2'] ['P1-E3', 'E3-E2'] [0.1, 0.4] [0.1 0.5] ['P1-E3', 'P1-E2']\n"
     ]
    },
    {
     "data": {
      "text/plain": [
       "{'E0-C0': 0.3,\n",
       " 'E1-C1': 0.3,\n",
       " 'E2-C2': 0.5,\n",
       " 'E3-C3': 0.3,\n",
       " 'P0-E0': 0.2,\n",
       " 'P0-E1': 0.7,\n",
       " 'P1-E2': 0.5,\n",
       " 'P1-E3': 0.1}"
      ]
     },
     "execution_count": 56,
     "metadata": {},
     "output_type": "execute_result"
    }
   ],
   "source": [
    "Bus_Connection(algo, indiv)"
   ]
  },
  {
   "cell_type": "code",
   "execution_count": 8,
   "id": "f6bb7406",
   "metadata": {
    "collapsed": true,
    "hidden": true
   },
   "outputs": [
    {
     "data": {
      "text/plain": [
       "{'E0-C0': 4,\n",
       " 'E0-C1': 4,\n",
       " 'E0-C2': 4,\n",
       " 'E0-C3': 4,\n",
       " 'P0-E0': 4,\n",
       " 'P1-E0': 4,\n",
       " 'E1-C0': 4,\n",
       " 'E1-C1': 4,\n",
       " 'E1-C2': 4,\n",
       " 'E1-C3': 4,\n",
       " 'P0-E1': 4,\n",
       " 'P1-E1': 4,\n",
       " 'E2-C0': 4,\n",
       " 'E2-C1': 4,\n",
       " 'E2-C2': 4,\n",
       " 'E2-C3': 4,\n",
       " 'P0-E2': 4,\n",
       " 'P1-E2': 4,\n",
       " 'E3-C0': 4,\n",
       " 'E3-C1': 4,\n",
       " 'E3-C2': 4,\n",
       " 'E3-C3': 4,\n",
       " 'P0-E3': 4,\n",
       " 'P1-E3': 4,\n",
       " 'E1-E0': 4,\n",
       " 'E2-E0': 4,\n",
       " 'E3-E0': 4,\n",
       " 'E2-E1': 4,\n",
       " 'E3-E1': 4,\n",
       " 'E3-E2': 4}"
      ]
     },
     "execution_count": 8,
     "metadata": {},
     "output_type": "execute_result"
    }
   ],
   "source": [
    "algo.duriteType"
   ]
  },
  {
   "cell_type": "code",
   "execution_count": 70,
   "id": "fe75b167",
   "metadata": {
    "hidden": true
   },
   "outputs": [
    {
     "data": {
      "text/plain": [
       "{0: [0, 1], 1: [2, 3]}"
      ]
     },
     "execution_count": 70,
     "metadata": {},
     "output_type": "execute_result"
    },
    {
     "data": {
      "text/plain": [
       "{0: ['Pa', 'Pa'], 1: ['Pa', 'Pa']}"
      ]
     },
     "execution_count": 70,
     "metadata": {},
     "output_type": "execute_result"
    }
   ],
   "source": [
    "indiv['Pconnect']\n",
    "indiv['PtypeCo']"
   ]
  },
  {
   "cell_type": "code",
   "execution_count": 73,
   "id": "d95aa6bb",
   "metadata": {
    "hidden": true
   },
   "outputs": [
    {
     "data": {
      "text/plain": [
       "'Pa'"
      ]
     },
     "execution_count": 73,
     "metadata": {},
     "output_type": "execute_result"
    }
   ],
   "source": [
    "np.random.choice(['Pa'])"
   ]
  },
  {
   "cell_type": "code",
   "execution_count": 75,
   "id": "04a8fa15",
   "metadata": {
    "hidden": true
   },
   "outputs": [
    {
     "data": {
      "text/plain": [
       "['Pa', 'Pa', 'Pa', 'Pa']"
      ]
     },
     "execution_count": 75,
     "metadata": {},
     "output_type": "execute_result"
    }
   ],
   "source": [
    "NewPtype = []\n",
    "for p , ptList in indiv['PtypeCo'].items():\n",
    "    pt = np.random.choice(ptList)\n",
    "    NewPtype += [pt] * len(ptList)\n",
    "NewPtype"
   ]
  },
  {
   "cell_type": "code",
   "execution_count": 68,
   "id": "5acc3b33",
   "metadata": {
    "hidden": true
   },
   "outputs": [
    {
     "name": "stdout",
     "output_type": "stream",
     "text": [
      "['P0', 'E0', 'E1'] ['P0-E0', 'E1-E0'] [0.2, 0.5] [0.2 0.7] ['P0-E0', 'P0-E1']\n",
      "['P1', 'E3', 'E2'] ['P1-E3', 'E3-E2'] [0.1, 0.4] [0.1 0.5] ['P1-E3', 'P1-E2']\n"
     ]
    },
    {
     "data": {
      "text/plain": [
       "({'E0-C0': 0.3,\n",
       "  'E1-C1': 0.3,\n",
       "  'E2-C2': 0.5,\n",
       "  'E3-C3': 0.3,\n",
       "  'P0-E0': 0.2,\n",
       "  'P0-E1': 0.7,\n",
       "  'P1-E2': 0.5,\n",
       "  'P1-E3': 0.1},\n",
       " ['E0-C0', 'E1-C1', 'E2-C2', 'E3-C3', 'P0-E0', 'E1-E0', 'E3-E2', 'P1-E3'])"
      ]
     },
     "execution_count": 68,
     "metadata": {},
     "output_type": "execute_result"
    }
   ],
   "source": [
    "Bus_Connection(algo, indiv)"
   ]
  },
  {
   "cell_type": "code",
   "execution_count": 10,
   "id": "431130c3",
   "metadata": {
    "hidden": true
   },
   "outputs": [
    {
     "data": {
      "text/plain": [
       "[0.000235,\n",
       " 0.000235,\n",
       " 0.000235,\n",
       " 0.000235,\n",
       " 0.000235,\n",
       " 0.000235,\n",
       " 0.000235,\n",
       " 0.000235]"
      ]
     },
     "execution_count": 10,
     "metadata": {},
     "output_type": "execute_result"
    }
   ],
   "source": [
    "Name = indiv['Name']\n",
    "[algo.duriteVal[line] for line in Name]"
   ]
  },
  {
   "cell_type": "code",
   "execution_count": null,
   "id": "130c8d75",
   "metadata": {
    "hidden": true
   },
   "outputs": [],
   "source": [
    "algo."
   ]
  },
  {
   "cell_type": "code",
   "execution_count": 49,
   "id": "98f81383",
   "metadata": {
    "hidden": true
   },
   "outputs": [
    {
     "data": {
      "text/plain": [
       "{'E0-C0': 0.3,\n",
       " 'E1-C1': 0.3,\n",
       " 'E2-C2': 0.5,\n",
       " 'E3-C3': 0.3,\n",
       " 'P0-E0': 0.2,\n",
       " 'P0-E1': 0.7,\n",
       " 'P1-E2': 0.5,\n",
       " 'P1-E3': 0.1}"
      ]
     },
     "execution_count": 49,
     "metadata": {},
     "output_type": "execute_result"
    },
    {
     "data": {
      "text/plain": [
       "['E0-C0', 'E1-C1', 'E2-C2', 'E3-C3', 'P0-E0', 'E1-E0', 'E3-E2', 'P1-E3']"
      ]
     },
     "execution_count": 49,
     "metadata": {},
     "output_type": "execute_result"
    }
   ],
   "source": [
    "Name = indiv['Name']\n",
    "dist_Connect , BusName = Bus_Connection(algo, indiv)\n",
    "dist_Connect\n",
    "NameBus"
   ]
  },
  {
   "cell_type": "code",
   "execution_count": 66,
   "id": "5be55999",
   "metadata": {
    "hidden": true
   },
   "outputs": [],
   "source": [
    "dfline = algo.dfline"
   ]
  },
  {
   "cell_type": "code",
   "execution_count": 67,
   "id": "86a05340",
   "metadata": {
    "hidden": true
   },
   "outputs": [
    {
     "data": {
      "text/plain": [
       "{'E0-C0': 0.3,\n",
       " 'E0-C1': 0.6,\n",
       " 'E0-C2': 0.2,\n",
       " 'E0-C3': 0.8,\n",
       " 'P0-E0': 0.2,\n",
       " 'P1-E0': 0.8,\n",
       " 'E1-C0': 0.6,\n",
       " 'E1-C1': 0.3,\n",
       " 'E1-C2': 0.7,\n",
       " 'E1-C3': 0.7,\n",
       " 'P0-E1': 0.3,\n",
       " 'P1-E1': 0.3,\n",
       " 'E2-C0': 0.6,\n",
       " 'E2-C1': 0.7,\n",
       " 'E2-C2': 0.5,\n",
       " 'E2-C3': 0.5,\n",
       " 'P0-E2': 0.5,\n",
       " 'P1-E2': 0.5,\n",
       " 'E3-C0': 0.8,\n",
       " 'E3-C1': 0.7,\n",
       " 'E3-C2': 0.9,\n",
       " 'E3-C3': 0.3,\n",
       " 'P0-E3': 0.5,\n",
       " 'P1-E3': 0.1,\n",
       " 'E1-E0': 0.5,\n",
       " 'E2-E0': 0.3,\n",
       " 'E3-E0': 0.7,\n",
       " 'E2-E1': 0.4,\n",
       " 'E3-E1': 0.4,\n",
       " 'E3-E2': 0.4}"
      ]
     },
     "execution_count": 67,
     "metadata": {},
     "output_type": "execute_result"
    }
   ],
   "source": [
    "(dfline.set_index('ID').dist.round(2)).to_dict()"
   ]
  },
  {
   "cell_type": "code",
   "execution_count": 50,
   "id": "5fdbc5d5",
   "metadata": {
    "hidden": true
   },
   "outputs": [
    {
     "data": {
      "text/plain": [
       "{'E0-C0': 0.000235,\n",
       " 'E1-C1': 0.000235,\n",
       " 'E2-C2': 0.000235,\n",
       " 'E3-C3': 0.000235,\n",
       " 'P0-E0': 0.000235,\n",
       " 'P0-E1': 0.000235,\n",
       " 'P1-E2': 0.000235,\n",
       " 'P1-E3': 0.000235}"
      ]
     },
     "execution_count": 50,
     "metadata": {},
     "output_type": "execute_result"
    }
   ],
   "source": [
    "dict(zip(Name, [algo.duriteVal[line] for line in BusName]))"
   ]
  },
  {
   "cell_type": "raw",
   "id": "d1a6d8d9",
   "metadata": {
    "hidden": true
   },
   "source": [
    "def Bus_Connection_t(algo, indiv):\n",
    "    New_dist_Connect = copy.deepcopy(indiv['dist_Connect'])\n",
    "    Name_Bus = copy.deepcopy(indiv['Name'])\n",
    "    dfx0 = algo.dfline.copy()\n",
    "    dfx0['a'] = dfx0.ID.str.split('-').str[0]\n",
    "    dfx0['b'] = dfx0.ID.str.split('-').str[1]\n",
    "    Pconnect = indiv['Pconnect']\n",
    "    NameListNew  = []\n",
    "    DictMapName = {}\n",
    "    for i, (p,Elist) in enumerate(Pconnect.items()):\n",
    "\n",
    "        s = 'P{}'.format(p)\n",
    "        ElistName = ['E{}'.format(e) for e in Elist]\n",
    "        ListMask = [s] + ElistName\n",
    "        print(i, p,Elist, s, ElistName, ListMask)\n",
    "        mask0 = dfx0.a.isin(ListMask) & dfx0.b.isin(ListMask)\n",
    "        dfx = dfx0[mask0].copy()\n",
    "        path,dist,lines = [s] ,[], []\n",
    "\n",
    "        while len(dfx)>0:\n",
    "            mask = dfx.ID.str.contains(s)\n",
    "            x  = dfx[mask].dist.values.argmin()    \n",
    "            cx = dfx[mask][['a','b']].iloc[x].values\n",
    "            line = dfx[mask].iloc[x].ID\n",
    "            lines.append(line)\n",
    "            NameListNew.append(line)\n",
    "            dist.append(dfx[mask].dist.values.min())    \n",
    "            dfx = dfx[~mask]\n",
    "            s = cx[cx!=s][0]\n",
    "            path.append(s)\n",
    "        distCumsum = np.array(dist).cumsum()\n",
    "        PxConnect = ['{}-{}'.format(path[0],s) for s in path[1:]]\n",
    "        DictMapName.update(dict(zip(PxConnect,lines)))\n",
    "        d = dict(zip(PxConnect,distCumsum))\n",
    "        New_dist_Connect.update(d)\n",
    "        print(path,lines,dist, distCumsum, PxConnect)\n",
    "\n",
    "    Name_Bus = pd.Series(Name_Bus).replace(DictMapName).tolist()\n",
    "#     print(Name_Bus)\n",
    "    return New_dist_Connect, Name_Bus\n",
    "        \n",
    "dist_Connect,Name_Bus =  Bus_Connection_t(algo, indiv)\n",
    "indiv['dist_Connect'] \n",
    "indiv['Name'] "
   ]
  },
  {
   "cell_type": "code",
   "execution_count": 53,
   "id": "b9347b2a",
   "metadata": {
    "hidden": true
   },
   "outputs": [
    {
     "data": {
      "text/plain": [
       "['E0-C0', 'E1-C1', 'E2-C2', 'E3-C3', 'P0-E0', 'P0-E1', 'P1-E2', 'P1-E3']"
      ]
     },
     "execution_count": 53,
     "metadata": {},
     "output_type": "execute_result"
    },
    {
     "data": {
      "text/plain": [
       "['C0', 'C1', 'C2', 'C3', 'E0', 'E1', 'E2', 'E3', 'P0', 'P1']"
      ]
     },
     "execution_count": 53,
     "metadata": {},
     "output_type": "execute_result"
    },
    {
     "data": {
      "image/png": "[encoded data removed]",
      "text/plain": [
       "<Figure size 800x800 with 1 Axes>"
      ]
     },
     "metadata": {},
     "output_type": "display_data"
    }
   ],
   "source": [
    "ElemsList = ['Clist','Elist','Plist']\n",
    "Elems = ['C','E','P']\n",
    "SelectSlot = []\n",
    "List_EtoC = indiv['List_EtoC']\n",
    "List_PtoE = indiv['List_PtoE']\n",
    "for n in range(3):\n",
    "    SelectSlot+= ['{}{}'.format(Elems[n],i) for i in indiv[ElemsList[n]]]\n",
    "SelectLine = indiv['Name']    \n",
    "SelectLine\n",
    "SelectSlot\n",
    "fig = new_plot(algo, BusName, SelectSlot)"
   ]
  },
  {
   "cell_type": "markdown",
   "id": "8c6a5139",
   "metadata": {},
   "source": [
    "## SAVE"
   ]
  },
  {
   "cell_type": "code",
   "execution_count": 94,
   "id": "845f2ae2",
   "metadata": {},
   "outputs": [
    {
     "data": {
      "text/plain": [
       "{'E0-C0': {'path': array([[2, 4],\n",
       "         [1, 4],\n",
       "         [1, 3],\n",
       "         [0, 3]]),\n",
       "  'dist': 0.3,\n",
       "  'durite': 4},\n",
       " 'P0-E0': {'path': array([[2, 4],\n",
       "         [2, 3],\n",
       "         [2, 2]]),\n",
       "  'dist': 0.2,\n",
       "  'durite': 4},\n",
       " 'E1-C1': {'path': array([[4, 1],\n",
       "         [3, 1],\n",
       "         [2, 1],\n",
       "         [2, 0]]),\n",
       "  'dist': 0.3,\n",
       "  'durite': 4},\n",
       " 'P0-E1': {'path': array([[4, 1],\n",
       "         [3, 1],\n",
       "         [2, 1],\n",
       "         [2, 2]]),\n",
       "  'dist': 0.3,\n",
       "  'durite': 4},\n",
       " 'E2-C2': {'path': array([[5, 4],\n",
       "         [4, 4],\n",
       "         [3, 4],\n",
       "         [3, 5],\n",
       "         [2, 5],\n",
       "         [2, 6]]),\n",
       "  'dist': 0.5,\n",
       "  'durite': 4},\n",
       " 'P1-E2': {'path': array([[5, 4],\n",
       "         [6, 4],\n",
       "         [6, 3],\n",
       "         [6, 2],\n",
       "         [6, 1],\n",
       "         [7, 1]]),\n",
       "  'dist': 0.5,\n",
       "  'durite': 4},\n",
       " 'E3-C3': {'path': array([[7, 2],\n",
       "         [8, 2],\n",
       "         [8, 3],\n",
       "         [9, 3]]),\n",
       "  'dist': 0.3,\n",
       "  'durite': 4},\n",
       " 'P1-E3': {'path': array([[7, 2],\n",
       "         [7, 1]]),\n",
       "  'dist': 0.1,\n",
       "  'durite': 4}}"
      ]
     },
     "execution_count": 94,
     "metadata": {},
     "output_type": "execute_result"
    }
   ],
   "source": [
    "{k:v for k,v in algo.DictLine.items() if k in SelectLine}"
   ]
  },
  {
   "cell_type": "code",
   "execution_count": 76,
   "id": "18776a07",
   "metadata": {},
   "outputs": [
    {
     "data": {
      "text/plain": [
       "['E0-C0', 'E1-C1', 'E2-C2', 'E3-C3', 'P0-E0', 'P0-E1', 'P1-E2', 'P1-E3']"
      ]
     },
     "execution_count": 76,
     "metadata": {},
     "output_type": "execute_result"
    },
    {
     "data": {
      "text/plain": [
       "{'P1-E3': 'P1-E3', 'P1-E2': 'E3-E2'}"
      ]
     },
     "execution_count": 76,
     "metadata": {},
     "output_type": "execute_result"
    }
   ],
   "source": [
    "Name_Bus = copy.deepcopy(indiv['Name'])\n",
    "Name_Bus\n",
    "lines = ['P1-E3', 'E3-E2']\n",
    "d = dict(zip(['P1-E3', 'P1-E2'] ,['P1-E3', 'E3-E2'] ))\n",
    "d\n",
    "# [dictionary.get(a) if v else a for v in Name_Bus]"
   ]
  },
  {
   "cell_type": "code",
   "execution_count": 71,
   "id": "7bd069c4",
   "metadata": {},
   "outputs": [
    {
     "data": {
      "text/plain": [
       "['E0-C0', 'E1-C1', 'E2-C2', 'E3-C3', 'P0-E0', 'P0-E1', 'E3-E2', 'P1-E3']"
      ]
     },
     "execution_count": 71,
     "metadata": {},
     "output_type": "execute_result"
    }
   ],
   "source": [
    "s = pd.Series(Name_Bus)\n",
    "s.replace(d).tolist()"
   ]
  },
  {
   "cell_type": "raw",
   "id": "7c62a54c",
   "metadata": {},
   "source": [
    "s = 'P0'\n",
    "Elist = ['E0', 'E1', 'E2']\n",
    "ListMask = [s] + Elist\n",
    "ListMask\n",
    "\n",
    "mask0 = dfx0.a.isin(ListMask) & dfx0.b.isin(ListMask)\n",
    "dfx = dfx0[mask0].copy()\n",
    "path,dist,lines = [s] ,[], []\n",
    "\n",
    "while len(dfx)>0:\n",
    "    mask = dfx.ID.str.contains(s)\n",
    "    x  = dfx[mask].dist.values.argmin()    \n",
    "    cx = dfx[mask][['a','b']].iloc[x].values\n",
    "    lines.append(dfx[mask].iloc[x].ID)\n",
    "    dist.append(dfx[mask].dist.values.min())    \n",
    "    dfx = dfx[~mask]\n",
    "    s = cx[cx!=s][0]\n",
    "    path.append(s)\n",
    "distCumsum = np.array(dist).cumsum()\n",
    "path,lines,dist, distCumsum\n"
   ]
  },
  {
   "cell_type": "code",
   "execution_count": 43,
   "id": "722bba5f",
   "metadata": {},
   "outputs": [
    {
     "data": {
      "text/plain": [
       "['P1-E3', 'P1-E2']"
      ]
     },
     "execution_count": 43,
     "metadata": {},
     "output_type": "execute_result"
    }
   ],
   "source": [
    "['{}-{}'.format(path[0],s) for s in path[1:]]"
   ]
  },
  {
   "cell_type": "code",
   "execution_count": 150,
   "id": "2e9e7a68",
   "metadata": {},
   "outputs": [
    {
     "data": {
      "text/plain": [
       "{'P0-E0': 0.2, 'P0-E1': 0.5, 'P0-E2': 0.9}"
      ]
     },
     "execution_count": 150,
     "metadata": {},
     "output_type": "execute_result"
    }
   ],
   "source": [
    "p = path[0]\n",
    "PtoE = [p + '-' + e for e in path[1:]]\n",
    "d = dict(zip(PtoE, dist2))\n",
    "d\n",
    "# distPerLineDictBusPtoE = dict(zip(PtoE, dist))"
   ]
  },
  {
   "cell_type": "code",
   "execution_count": 151,
   "id": "445347a7",
   "metadata": {},
   "outputs": [
    {
     "data": {
      "text/plain": [
       "['E0-C0', 'E1-C2', 'E2-C1', 'E2-C3', 'P0-E0', 'P0-E1', 'P0-E2']"
      ]
     },
     "execution_count": 151,
     "metadata": {},
     "output_type": "execute_result"
    },
    {
     "data": {
      "text/plain": [
       "{'E0-C0': 0.3,\n",
       " 'E1-C2': 0.5,\n",
       " 'E2-C1': 0.7,\n",
       " 'E2-C3': 0.3,\n",
       " 'P0-E0': 0.2,\n",
       " 'P0-E1': 0.5,\n",
       " 'P0-E2': 0.9}"
      ]
     },
     "execution_count": 151,
     "metadata": {},
     "output_type": "execute_result"
    }
   ],
   "source": [
    "indiv['Name']\n",
    "distPerLineDictBus = copy.deepcopy(indiv['distPerLineDict'])\n",
    "distPerLineDictBus.update(d)\n",
    "distPerLineDictBus"
   ]
  },
  {
   "cell_type": "code",
   "execution_count": 90,
   "id": "c9d460ad",
   "metadata": {},
   "outputs": [
    {
     "data": {
      "image/png": "[encoded data removed]",
      "text/plain": [
       "<Figure size 800x800 with 1 Axes>"
      ]
     },
     "metadata": {},
     "output_type": "display_data"
    }
   ],
   "source": [
    "ElemsList = ['Clist','Elist','Plist']\n",
    "Elems = ['C','E','P']\n",
    "SelectSlot = []\n",
    "List_EtoC = indiv['List_EtoC']\n",
    "List_PtoE = indiv['List_PtoE']\n",
    "for n in range(3):\n",
    "    SelectSlot+= ['{}{}'.format(Elems[n],i) for i in indiv[ElemsList[n]]]\n",
    "SelectLine = indiv['Name']    \n",
    "fig = new_plot(algo, lines, SelectSlot)"
   ]
  },
  {
   "cell_type": "markdown",
   "id": "e86e6cae",
   "metadata": {
    "heading_collapsed": true
   },
   "source": [
    "## networkx"
   ]
  },
  {
   "cell_type": "code",
   "execution_count": 139,
   "id": "920b79f8",
   "metadata": {
    "hidden": true
   },
   "outputs": [
    {
     "data": {
      "text/plain": [
       "EdgeDataView([('P1', 'E0', {'dist': 8}), ('P1', 'E1', {'dist': 5}), ('P1', 'E2', {'dist': 1}), ('E0', 'E1', {'dist': 3}), ('E0', 'E2', {'dist': 7}), ('E1', 'E2', {'dist': 4})])"
      ]
     },
     "execution_count": 139,
     "metadata": {},
     "output_type": "execute_result"
    },
    {
     "data": {
      "text/plain": [
       "{'P1': {'P1': ['P1'],\n",
       "  'E0': ['P1', 'E0'],\n",
       "  'E1': ['P1', 'E1'],\n",
       "  'E2': ['P1', 'E2']},\n",
       " 'E0': {'E0': ['E0'],\n",
       "  'P1': ['E0', 'P1'],\n",
       "  'E1': ['E0', 'E1'],\n",
       "  'E2': ['E0', 'E2']},\n",
       " 'E1': {'E1': ['E1'],\n",
       "  'P1': ['E1', 'P1'],\n",
       "  'E0': ['E1', 'E0'],\n",
       "  'E2': ['E1', 'E2']},\n",
       " 'E2': {'E2': ['E2'],\n",
       "  'P1': ['E2', 'P1'],\n",
       "  'E0': ['E2', 'E0'],\n",
       "  'E1': ['E2', 'E1']}}"
      ]
     },
     "execution_count": 139,
     "metadata": {},
     "output_type": "execute_result"
    },
    {
     "name": "stdout",
     "output_type": "stream",
     "text": [
      "{'P1': ['P1'], 'E0': ['P1', 'E0'], 'E1': ['P1', 'E1'], 'E2': ['P1', 'E2']}\n",
      "('P1', 'E0') {'dist': 8}\n",
      "('E0', 'E1') {'dist': 3}\n",
      "('E1', 'E2') {'dist': 4}\n"
     ]
    }
   ],
   "source": [
    "G = nx.Graph()\n",
    "for i  in range(len(dfx)): \n",
    "    e = ListEndEv[i]\n",
    "    dist = dfx.dist.iloc[i]\n",
    "    G.add_edge(e[0],e[1], dist =dist)\n",
    "G.edges.data()\n",
    "# G = nx.path_graph(4,create_using=G)\n",
    "# G.edges.data()\n",
    "path = dict(nx.all_pairs_shortest_path(G))\n",
    "path\n",
    "sp = nx.shortest_path(G, source='P1', weight='dist')\n",
    "print(sp)\n",
    "# Create a graph from 'sp'\n",
    "pathGraph = nx.path_graph(sp)  # does not pass edges attributes\n",
    "\n",
    "# Read attributes from each edge\n",
    "for ea in pathGraph.edges():\n",
    "    #print from_node, to_node, edge's attributes\n",
    "    print(ea, G.edges[ea[0], ea[1]])"
   ]
  },
  {
   "cell_type": "code",
   "execution_count": 50,
   "id": "01f2b30e",
   "metadata": {
    "hidden": true
   },
   "outputs": [
    {
     "data": {
      "text/plain": [
       "[0, 1, 2]"
      ]
     },
     "execution_count": 50,
     "metadata": {},
     "output_type": "execute_result"
    },
    {
     "data": {
      "text/plain": [
       "array([0.2, 0.5, 0.5])"
      ]
     },
     "execution_count": 50,
     "metadata": {},
     "output_type": "execute_result"
    },
    {
     "data": {
      "text/plain": [
       "0"
      ]
     },
     "execution_count": 50,
     "metadata": {},
     "output_type": "execute_result"
    },
    {
     "data": {
      "text/plain": [
       "[1, 2]"
      ]
     },
     "execution_count": 50,
     "metadata": {},
     "output_type": "execute_result"
    },
    {
     "data": {
      "text/plain": [
       "E1-E0    3\n",
       "E2-E0    7\n",
       "Name: dist, dtype: object"
      ]
     },
     "execution_count": 50,
     "metadata": {},
     "output_type": "execute_result"
    }
   ],
   "source": [
    "ListEV = indiv['Pconnect'][0].copy()\n",
    "ListEV\n",
    "distPerLine = np.array([algo.dist[line] for line in indiv['List_PtoE'][0]])\n",
    "distPerLine\n",
    "idx0 = distPerLine.argmin()\n",
    "ListEV[idx0]\n",
    "begin = ListEV[idx0]\n",
    "del ListEV[idx0]\n",
    "ListEV\n",
    "\n",
    "mask = dfx.index.str.contains(str(begin))\n",
    "dfx[mask].dist"
   ]
  },
  {
   "cell_type": "code",
   "execution_count": 127,
   "id": "aefa2adf",
   "metadata": {
    "hidden": true
   },
   "outputs": [],
   "source": [
    "import numpy as np\n",
    "# import matplotlib.pyplot as plt\n",
    "import networkx as nx\n",
    "\n",
    "# Create a random graph with 8 nodes, with degree=3\n",
    "G = nx.random_regular_graph(3, 8, seed=None)\n",
    "\n",
    "# Add 'cost' attributes to the edges\n",
    "for (start, end) in G.edges:\n",
    "    G.edges[start, end]['cost'] = np.random.randint(1,10)\n"
   ]
  },
  {
   "cell_type": "code",
   "execution_count": 122,
   "id": "1688b775",
   "metadata": {
    "hidden": true
   },
   "outputs": [
    {
     "data": {
      "text/plain": [
       "EdgeDataView([(1, 2, {'cost': 1}), (1, 5, {'cost': 1}), (1, 4, {'cost': 5}), (2, 3, {'cost': 5}), (2, 0, {'cost': 2}), (0, 4, {'cost': 2}), (0, 6, {'cost': 9}), (4, 3, {'cost': 8}), (3, 7, {'cost': 2}), (5, 7, {'cost': 6}), (5, 6, {'cost': 8}), (7, 6, {'cost': 7})])"
      ]
     },
     "execution_count": 122,
     "metadata": {},
     "output_type": "execute_result"
    }
   ],
   "source": [
    "G.edges.data()"
   ]
  },
  {
   "cell_type": "code",
   "execution_count": 128,
   "id": "418ffbc6",
   "metadata": {
    "hidden": true
   },
   "outputs": [
    {
     "name": "stdout",
     "output_type": "stream",
     "text": [
      "Shortest path:  {0: [0], 4: [0, 4], 2: [0, 2], 5: [0, 5], 7: [0, 2, 7], 6: [0, 4, 6], 1: [0, 4, 1], 3: [0, 5, 3]}\n",
      "(0, 4) {'cost': 6}\n"
     ]
    },
    {
     "ename": "KeyError",
     "evalue": "2",
     "output_type": "error",
     "traceback": [
      "\u001b[1;31m---------------------------------------------------------------------------\u001b[0m",
      "\u001b[1;31mKeyError\u001b[0m                                  Traceback (most recent call last)",
      "Input \u001b[1;32mIn [128]\u001b[0m, in \u001b[0;36m<cell line: 9>\u001b[1;34m()\u001b[0m\n\u001b[0;32m      8\u001b[0m \u001b[38;5;66;03m# Read attributes from each edge\u001b[39;00m\n\u001b[0;32m      9\u001b[0m \u001b[38;5;28;01mfor\u001b[39;00m ea \u001b[38;5;129;01min\u001b[39;00m pathGraph\u001b[38;5;241m.\u001b[39medges():\n\u001b[0;32m     10\u001b[0m     \u001b[38;5;66;03m#print from_node, to_node, edge's attributes\u001b[39;00m\n\u001b[1;32m---> 11\u001b[0m     \u001b[38;5;28mprint\u001b[39m(ea, \u001b[43mG\u001b[49m\u001b[38;5;241;43m.\u001b[39;49m\u001b[43medges\u001b[49m\u001b[43m[\u001b[49m\u001b[43mea\u001b[49m\u001b[43m[\u001b[49m\u001b[38;5;241;43m0\u001b[39;49m\u001b[43m]\u001b[49m\u001b[43m,\u001b[49m\u001b[43m \u001b[49m\u001b[43mea\u001b[49m\u001b[43m[\u001b[49m\u001b[38;5;241;43m1\u001b[39;49m\u001b[43m]\u001b[49m\u001b[43m]\u001b[49m)\n",
      "File \u001b[1;32m~\\anaconda3\\envs\\base2\\lib\\site-packages\\networkx\\classes\\reportviews.py:1094\u001b[0m, in \u001b[0;36mOutEdgeView.__getitem__\u001b[1;34m(self, e)\u001b[0m\n\u001b[0;32m   1089\u001b[0m     \u001b[38;5;28;01mraise\u001b[39;00m nx\u001b[38;5;241m.\u001b[39mNetworkXError(\n\u001b[0;32m   1090\u001b[0m         \u001b[38;5;124mf\u001b[39m\u001b[38;5;124m\"\u001b[39m\u001b[38;5;132;01m{\u001b[39;00m\u001b[38;5;28mtype\u001b[39m(\u001b[38;5;28mself\u001b[39m)\u001b[38;5;241m.\u001b[39m\u001b[38;5;18m__name__\u001b[39m\u001b[38;5;132;01m}\u001b[39;00m\u001b[38;5;124m does not support slicing, \u001b[39m\u001b[38;5;124m\"\u001b[39m\n\u001b[0;32m   1091\u001b[0m         \u001b[38;5;124mf\u001b[39m\u001b[38;5;124m\"\u001b[39m\u001b[38;5;124mtry list(G.edges)[\u001b[39m\u001b[38;5;132;01m{\u001b[39;00me\u001b[38;5;241m.\u001b[39mstart\u001b[38;5;132;01m}\u001b[39;00m\u001b[38;5;124m:\u001b[39m\u001b[38;5;132;01m{\u001b[39;00me\u001b[38;5;241m.\u001b[39mstop\u001b[38;5;132;01m}\u001b[39;00m\u001b[38;5;124m:\u001b[39m\u001b[38;5;132;01m{\u001b[39;00me\u001b[38;5;241m.\u001b[39mstep\u001b[38;5;132;01m}\u001b[39;00m\u001b[38;5;124m]\u001b[39m\u001b[38;5;124m\"\u001b[39m\n\u001b[0;32m   1092\u001b[0m     )\n\u001b[0;32m   1093\u001b[0m u, v \u001b[38;5;241m=\u001b[39m e\n\u001b[1;32m-> 1094\u001b[0m \u001b[38;5;28;01mreturn\u001b[39;00m \u001b[38;5;28;43mself\u001b[39;49m\u001b[38;5;241;43m.\u001b[39;49m\u001b[43m_adjdict\u001b[49m\u001b[43m[\u001b[49m\u001b[43mu\u001b[49m\u001b[43m]\u001b[49m\u001b[43m[\u001b[49m\u001b[43mv\u001b[49m\u001b[43m]\u001b[49m\n",
      "\u001b[1;31mKeyError\u001b[0m: 2"
     ]
    }
   ],
   "source": [
    "\n",
    "# Find the shortest path from 0 to 7, use 'cost' as weight\n",
    "sp = nx.shortest_path(G, source=0, weight='cost')\n",
    "print(\"Shortest path: \", sp)\n",
    "\n",
    "# Create a graph from 'sp'\n",
    "pathGraph = nx.path_graph(sp)  # does not pass edges attributes\n",
    "\n",
    "# Read attributes from each edge\n",
    "for ea in pathGraph.edges():\n",
    "    #print from_node, to_node, edge's attributes\n",
    "    print(ea, G.edges[ea[0], ea[1]])"
   ]
  },
  {
   "cell_type": "code",
   "execution_count": 131,
   "id": "e748f556",
   "metadata": {
    "hidden": true
   },
   "outputs": [
    {
     "data": {
      "image/png": "[encoded data removed]",
      "text/plain": [
       "<Figure size 640x480 with 1 Axes>"
      ]
     },
     "metadata": {},
     "output_type": "display_data"
    }
   ],
   "source": [
    "import networkx as nx\n",
    "import matplotlib.pyplot as plt\n",
    "g = nx.Graph()\n",
    "g.add_edge(131,673,weight=673)\n",
    "g.add_edge(131,201,weight=201)\n",
    "g.add_edge(673,96,weight=96)\n",
    "g.add_edge(201,96,weight=96)\n",
    "nx.draw(g,with_labels=True)\n",
    "plt.show()"
   ]
  },
  {
   "cell_type": "code",
   "execution_count": 133,
   "id": "85637f0a",
   "metadata": {
    "hidden": true
   },
   "outputs": [
    {
     "name": "stdout",
     "output_type": "stream",
     "text": [
      "{131: [131], 673: [131, 201, 96, 673], 201: [131, 201], 96: [131, 201, 96]}\n"
     ]
    }
   ],
   "source": [
    "print(nx.shortest_path(g,source=131, weight='weight'))"
   ]
  },
  {
   "cell_type": "code",
   "execution_count": 118,
   "id": "61d9dfea",
   "metadata": {
    "hidden": true
   },
   "outputs": [
    {
     "data": {
      "text/plain": [
       "{'E1-E0': 3,\n",
       " 'E2-E0': 7,\n",
       " 'E0-E0': 0,\n",
       " 'E1-E1': 0,\n",
       " 'E2-E1': 4,\n",
       " 'E0-E1': 3,\n",
       " 'E1-E2': 4,\n",
       " 'E2-E2': 0,\n",
       " 'E0-E2': 7}"
      ]
     },
     "execution_count": 118,
     "metadata": {},
     "output_type": "execute_result"
    }
   ],
   "source": [
    "DictDistEtoE\n",
    "np.array([algo.dist[line] for line in indiv['List_PtoE'][0]])"
   ]
  },
  {
   "cell_type": "code",
   "execution_count": 30,
   "id": "138f6e1f",
   "metadata": {
    "hidden": true
   },
   "outputs": [
    {
     "data": {
      "image/png": "[encoded data removed]",
      "text/plain": [
       "<Figure size 800x800 with 1 Axes>"
      ]
     },
     "metadata": {},
     "output_type": "display_data"
    }
   ],
   "source": [
    "SelectLine = algo.DictLine.keys()\n",
    "SelectSlot = algo.DictPos.keys()\n",
    "fig = new_plot(algo, SelectLine, SelectSlot)"
   ]
  },
  {
   "cell_type": "markdown",
   "id": "c9abc5ef",
   "metadata": {
    "heading_collapsed": true
   },
   "source": [
    "# P2"
   ]
  },
  {
   "cell_type": "code",
   "execution_count": 78,
   "id": "86773359",
   "metadata": {
    "hidden": true
   },
   "outputs": [],
   "source": [
    "algo.GroupDict = {0: 1, 1: 1, 2: 0, 3: 2}"
   ]
  },
  {
   "cell_type": "code",
   "execution_count": 80,
   "id": "136aa782",
   "metadata": {
    "hidden": true
   },
   "outputs": [
    {
     "data": {
      "text/plain": [
       "{0: [0, 2], 1: [1, 3]}"
      ]
     },
     "execution_count": 80,
     "metadata": {},
     "output_type": "execute_result"
    }
   ],
   "source": [
    "Econnect = indiv['Econnect']\n",
    "Econnect\n"
   ]
  },
  {
   "cell_type": "markdown",
   "id": "9e511c7b",
   "metadata": {
    "heading_collapsed": true
   },
   "source": [
    "# Group"
   ]
  },
  {
   "cell_type": "code",
   "execution_count": 46,
   "id": "5445dadc",
   "metadata": {
    "hidden": true
   },
   "outputs": [],
   "source": [
    "algo.GroupDict = {0: 1, 1: 1, 2: 0, 3: 2}"
   ]
  },
  {
   "cell_type": "code",
   "execution_count": 64,
   "id": "e5537bc2",
   "metadata": {
    "hidden": true
   },
   "outputs": [
    {
     "data": {
      "text/plain": [
       "{0: 1, 1: 1, 2: 0, 3: 2}"
      ]
     },
     "execution_count": 64,
     "metadata": {},
     "output_type": "execute_result"
    }
   ],
   "source": [
    "D = algo.Comb  \n",
    "gr = algo.GroupDict \n",
    "Clist = D['C']\n",
    "Econnect = indiv['Econnect']\n",
    "Pconnect = indiv['Pconnect']\n",
    "EtoP = indiv['EtoP']\n",
    "Ptype = indiv['Ptype']\n",
    "Pression = []\n",
    "Debit = []\n",
    "Cpression = {}\n",
    "Cdebit = {}\n",
    "grouped = False\n",
    "gr"
   ]
  },
  {
   "cell_type": "code",
   "execution_count": 70,
   "id": "6b89dcbd",
   "metadata": {
    "hidden": true
   },
   "outputs": [
    {
     "name": "stdout",
     "output_type": "stream",
     "text": [
      "0 1 1 [0] True [0, 2] [0] {0: 4.51}\n",
      "0 1 0 [2] False [0, 2] [2] {2: 4.51}\n",
      "1 1 1 [1] True [1, 3] [1] {1: 11.07}\n",
      "1 1 2 [3] True [1, 3] [3] {3: 11.09}\n"
     ]
    }
   ],
   "source": [
    "for i, (e,EClist) in enumerate(Econnect.items()):\n",
    "    p = EtoP[i]\n",
    "    pt = Ptype[i]\n",
    "    name = 'P{}-E{}'.format(p,e)\n",
    "    VerifGroup = np.isin(Group,  EClist)\n",
    "#     print(e,EClist, p,pt, Group)\n",
    "    d = collections.defaultdict(list)\n",
    "    for j, c in enumerate(EClist): \n",
    "        d[gr[c]].append(c)\n",
    "    for g,Clist in d.items():\n",
    "        if g == 0 : grouped = False\n",
    "        else :grouped = True\n",
    "#         print(g,Clist)\n",
    "        d_EtoC_list = np.array([algo.dist['E{}-C{}'.format(e,c)] for c in Clist])\n",
    "        d_PtoE = algo.dist['P{}-E{}'.format(p,e)]\n",
    "        res = debit(algo, d_EtoC_list,d_PtoE, Clist,pt, grouped, split = False)\n",
    "\n",
    "        Debit = Debit + list(res['Qi'])\n",
    "        Pi = list(res['Pi'])\n",
    "        PressionConnect = dict(zip(Clist, Pi))\n",
    "        Cpression.update(PressionConnect)\n",
    "\n",
    "        Qi = list(res['Qi'])\n",
    "        Cdebit.update(dict(zip(Clist, Qi)))\n",
    "\n",
    "        # Data[name] = res        \n",
    "        # Pression = Pression + list(res['Pi'])          \n",
    "        # print(dc,dp,Clist,list(res['Pi']))\n",
    "        # Pression_C = Pression_C + [PressionConnect]\n",
    "        print(i, j , g,Clist, grouped ,EClist,Clist, PressionConnect)\n",
    "    "
   ]
  },
  {
   "cell_type": "markdown",
   "id": "62d08b5f",
   "metadata": {
    "heading_collapsed": true
   },
   "source": [
    "# MAsse cout "
   ]
  },
  {
   "cell_type": "code",
   "execution_count": 24,
   "id": "338dda0e",
   "metadata": {
    "hidden": true,
    "scrolled": true
   },
   "outputs": [
    {
     "data": {
      "text/plain": [
       "['E1-C0', 'E1-C1', 'E1-C2', 'E1-C3', 'P1-E1']"
      ]
     },
     "execution_count": 24,
     "metadata": {},
     "output_type": "execute_result"
    }
   ],
   "source": [
    "indiv['Name']"
   ]
  },
  {
   "cell_type": "raw",
   "id": "d40247f5",
   "metadata": {
    "hidden": true
   },
   "source": [
    "distPerLine\n",
    "MassePerLine"
   ]
  },
  {
   "cell_type": "code",
   "execution_count": 47,
   "id": "5a8f2fa0",
   "metadata": {
    "hidden": true
   },
   "outputs": [
    {
     "data": {
      "text/plain": [
       "([{'Pompe': 136, 'Tuyau': 147.3, 'EV': 440, 'Reservoir': 600},\n",
       "  {'Pompe': 2, 'Tuyau': 1.105, 'EV': 24, 'Reservoir': 30}],\n",
       " {'Masse': 1323.3, 'Cout': 57.1})"
      ]
     },
     "execution_count": 47,
     "metadata": {},
     "output_type": "execute_result"
    }
   ],
   "source": [
    "dmasse = {}\n",
    "dcout = {}\n",
    "# confs = algo.confs\n",
    "\n",
    "for Categorie in ['Pompe', 'Tuyau','EV']:\n",
    "    v = algo.DataCategorie[Categorie]['Values']\n",
    "    if Categorie == 'Pompe' : \n",
    "        Ptype = indiv['Ptype']\n",
    "        dmasse[Categorie] = int(sum([algo.DataCategorie[Categorie]['Values'][pt]['Masse'] for pt in Ptype]))\n",
    "        dcout[Categorie]  = int(sum([algo.DataCategorie[Categorie]['Values'][pt]['Cout']  for pt in Ptype]))\n",
    "    if Categorie == 'Tuyau' :\n",
    "#         Factor = indiv['dist']\n",
    "#         Name = algo.Tuyau\n",
    "        distPerLine = np.array([algo.dist[line] for line in indiv['Name']])\n",
    "        MassePerLine = np.array([v[algo.duriteType[line]]['Masse'] for line in indiv['Name']])\n",
    "        CoutPerLine  = np.array([v[algo.duriteType[line]]['Cout'] for line in indiv['Name']])\n",
    "        dmasse[Categorie] = (distPerLine * MassePerLine).sum()\n",
    "        dcout[Categorie] = (distPerLine * CoutPerLine).sum()\n",
    "    if Categorie == 'EV' :\n",
    "        Ccount = len(algo.Comb['C'])\n",
    "        Factor = Ccount\n",
    "        Name = algo.EV  \n",
    "        dmasse[Categorie] = int(sum([Factor * v[n]['Masse'] for n in Name]))\n",
    "        dcout[Categorie]  = int(sum([Factor * v[n]['Cout']  for n in Name]))\n",
    "        \n",
    "dmasse['Reservoir'] = 600\n",
    "dcout['Reservoir']  = 30  \n",
    "info = [dmasse, dcout]\n",
    "Masse = round(sum(dmasse.values()),2)\n",
    "Cout = round(sum(dcout.values()),2)\n",
    "info, { 'Masse' : Masse, 'Cout' : Cout}"
   ]
  },
  {
   "cell_type": "markdown",
   "id": "ea1faf1e",
   "metadata": {
    "heading_collapsed": true
   },
   "source": [
    "# Pompes"
   ]
  },
  {
   "cell_type": "code",
   "execution_count": 30,
   "id": "70b8324b",
   "metadata": {
    "hidden": true
   },
   "outputs": [
    {
     "name": "stdout",
     "output_type": "stream",
     "text": [
      "Init algo namespace\n"
     ]
    }
   ],
   "source": [
    "file = {'SheetMapName' : 'map', 'uploaded_file' : None}\n",
    "\n",
    "algo = load_data_brut(file)\n",
    "algo.df = indiv_init(algo, 10)"
   ]
  },
  {
   "cell_type": "code",
   "execution_count": 25,
   "id": "5d7cf102",
   "metadata": {
    "hidden": true
   },
   "outputs": [
    {
     "data": {
      "text/plain": [
       "{'Pa': 2, 'Pc': 2}"
      ]
     },
     "execution_count": 25,
     "metadata": {},
     "output_type": "execute_result"
    }
   ],
   "source": [
    "ListPompes = algo.DataCategorie['Pompe']['Unique']\n",
    "dict(zip(ListPompes, [2]*len(ListPompes)))"
   ]
  },
  {
   "cell_type": "code",
   "execution_count": 4,
   "id": "ae022ff5",
   "metadata": {
    "collapsed": true,
    "hidden": true
   },
   "outputs": [
    {
     "data": {
      "text/plain": [
       "{'Pompe': {'Unique': ['Pa', 'Pc'],\n",
       "  'Values': {'Pa': {'Categorie': 'Pompe',\n",
       "    'Composants': 'Pompe 1',\n",
       "    'Type': 'Single',\n",
       "    'Masse': 136.0,\n",
       "    'Cout': 2.5,\n",
       "    'Actif': 1.0,\n",
       "    'a': -0.000516,\n",
       "    'b': -0.0154,\n",
       "    'c': 4.87},\n",
       "   'Pc': {'Categorie': 'Pompe',\n",
       "    'Composants': 'Pompe 3',\n",
       "    'Type': 'Brushless',\n",
       "    'Masse': 330.0,\n",
       "    'Cout': 24.0,\n",
       "    'Actif': 1.0,\n",
       "    'a': -0.000661,\n",
       "    'b': -0.0286,\n",
       "    'c': 12.1}}},\n",
       " 'EV': {'Unique': ['Ea'],\n",
       "  'Values': {'Ea': {'Categorie': 'EV',\n",
       "    'Composants': 'EV_A',\n",
       "    'Type': 'Electrovanne',\n",
       "    'Masse': 110.0,\n",
       "    'Cout': 6.0,\n",
       "    'Actif': 1.0,\n",
       "    'a': 0.00764}}},\n",
       " 'Tuyau': {'Unique': ['Ta'],\n",
       "  'Values': {'Ta': {'Categorie': 'Tuyau',\n",
       "    'Composants': 'Tuyau 1',\n",
       "    'Type': '4 mm',\n",
       "    'Masse': 46.0,\n",
       "    'Cout': 0.35,\n",
       "    'Actif': 1.0,\n",
       "    'a': 0.000235}}},\n",
       " 'Reservoir': {'Unique': ['Ra'],\n",
       "  'Values': {'Ra': {'Categorie': 'Reservoir',\n",
       "    'Composants': '1 Réservoir',\n",
       "    'Masse': 600.0,\n",
       "    'Cout': 25.0,\n",
       "    'Actif': 1.0,\n",
       "    'a': 0.0}}},\n",
       " 'Nozzle': {'Unique': ['F', 'R'],\n",
       "  'Values': {'F': {'Categorie': 'Nozzle',\n",
       "    'Composants': 'Fixed',\n",
       "    'Actif': 1.0,\n",
       "    'a': 0.036,\n",
       "    'Pmin': 2.0},\n",
       "   'R': {'Categorie': 'Nozzle',\n",
       "    'Composants': 'Ramp',\n",
       "    'Actif': 1.0,\n",
       "    'a': 0.0017,\n",
       "    'Pmin': 2.0}}}}"
      ]
     },
     "execution_count": 4,
     "metadata": {},
     "output_type": "execute_result"
    }
   ],
   "source": [
    "algo.DataCategorie"
   ]
  },
  {
   "cell_type": "raw",
   "id": "76a05527",
   "metadata": {
    "hidden": true
   },
   "source": [
    "indiv = algo.indivs[0]\n",
    "indiv"
   ]
  },
  {
   "cell_type": "code",
   "execution_count": 31,
   "id": "7024b999",
   "metadata": {
    "hidden": true
   },
   "outputs": [
    {
     "data": {
      "text/plain": [
       "{'Clist': [0, 1, 2, 3],\n",
       " 'CtoE': [2, 0, 1, 2],\n",
       " 'Econnect': {0: [1], 1: [2], 2: [0, 3]},\n",
       " 'Elist': [0, 1, 2],\n",
       " 'Ecount': 3,\n",
       " 'EtoP': [1, 0, 1],\n",
       " 'Pconnect': {0: [1], 1: [0, 2]},\n",
       " 'Plist': [0, 1],\n",
       " 'Pcount': 2,\n",
       " 'Ptype': array(['Pc', 'Pa', 'Pa'], dtype='<U2'),\n",
       " 'List_EtoC': [['E0-C1'], ['E1-C2'], ['E2-C0', 'E2-C3']],\n",
       " 'List_PtoE': [['P0-E1'], ['P1-E0', 'P1-E2']],\n",
       " 'dist_Connect': {'E0-C1': 0.6,\n",
       "  'P1-E0': 0.8,\n",
       "  'E1-C2': 0.5,\n",
       "  'P0-E1': 0.5,\n",
       "  'E2-C0': 0.8,\n",
       "  'E2-C3': 0.3,\n",
       "  'P1-E2': 0.1},\n",
       " 'dist': 3.6,\n",
       " 'Name': ['E0-C1', 'E1-C2', 'E2-C0', 'E2-C3', 'P0-E1', 'P1-E0', 'P1-E2'],\n",
       " 'ID': 11,\n",
       " 'Name_txt': 'E0-C1,E1-C2,E2-C0,E2-C3,P0-E1,P1-E0,P1-E2',\n",
       " 'Epoch': 0,\n",
       " 'PressionList': [4.51, 4.5, 4.51, 4.52],\n",
       " 'DebitList': [11.19, 11.18, 11.19, 11.21],\n",
       " 'Debit': 44.8,\n",
       " 'Masse': 1613,\n",
       " 'Cout': 62,\n",
       " 'Alive': True}"
      ]
     },
     "execution_count": 31,
     "metadata": {},
     "output_type": "execute_result"
    }
   ],
   "source": [
    "Name =  'E0-C1,E1-C2,E2-C0,E2-C3,P0-E1,P1-E0,P1-E2'\n",
    "indiv = Indiv_reverse(Name,algo) \n",
    "indiv"
   ]
  },
  {
   "cell_type": "code",
   "execution_count": 26,
   "id": "0ab9e6e0",
   "metadata": {
    "hidden": true
   },
   "outputs": [],
   "source": [
    "Plist = indiv['Plist']"
   ]
  },
  {
   "cell_type": "code",
   "execution_count": 65,
   "id": "36ac3e2a",
   "metadata": {
    "hidden": true
   },
   "outputs": [
    {
     "data": {
      "text/plain": [
       "array([0, 1, 2, 0])"
      ]
     },
     "execution_count": 65,
     "metadata": {},
     "output_type": "execute_result"
    },
    {
     "data": {
      "text/plain": [
       "array([0, 1, 2])"
      ]
     },
     "execution_count": 65,
     "metadata": {},
     "output_type": "execute_result"
    },
    {
     "data": {
      "text/plain": [
       "True"
      ]
     },
     "execution_count": 65,
     "metadata": {},
     "output_type": "execute_result"
    },
    {
     "data": {
      "text/plain": [
       "array([2])"
      ]
     },
     "execution_count": 65,
     "metadata": {},
     "output_type": "execute_result"
    },
    {
     "data": {
      "text/plain": [
       "array([0, 1])"
      ]
     },
     "execution_count": 65,
     "metadata": {},
     "output_type": "execute_result"
    },
    {
     "data": {
      "text/plain": [
       "array([False, False,  True, False])"
      ]
     },
     "execution_count": 65,
     "metadata": {},
     "output_type": "execute_result"
    },
    {
     "data": {
      "text/plain": [
       "array([0, 1, 1, 0])"
      ]
     },
     "execution_count": 65,
     "metadata": {},
     "output_type": "execute_result"
    }
   ],
   "source": [
    "EcMax = 2\n",
    "NewCtoE = np.array([0,1,2,0])\n",
    "NewCtoE\n",
    "Elist = np.unique(NewCtoE)\n",
    "Elist\n",
    "Ecount = len(Elist)\n",
    "Ecount > EcMax\n",
    "n = Ecount -  EcMax \n",
    "Edrop = np.random.choice(Elist,n, replace=False)\n",
    "Edrop\n",
    "Edispo = Elist[~np.isin(Elist, Edrop)]\n",
    "Edispo\n",
    "mask = np.isin(NewCtoE,Edrop)\n",
    "mask\n",
    "NewCtoE[mask] = np.random.choice(Edispo,mask.sum())\n",
    "NewCtoE"
   ]
  },
  {
   "cell_type": "code",
   "execution_count": 71,
   "id": "257f68b9",
   "metadata": {
    "hidden": true
   },
   "outputs": [
    {
     "data": {
      "text/plain": [
       "[2, 3, 5, 9, 11]"
      ]
     },
     "execution_count": 71,
     "metadata": {},
     "output_type": "execute_result"
    }
   ],
   "source": [
    "prime_numbers = [2, 3, 5, 9, 9, 11]\n",
    "prime_numbers.remove(9)\n",
    "prime_numbers"
   ]
  },
  {
   "cell_type": "code",
   "execution_count": 70,
   "id": "a86f7e0e",
   "metadata": {
    "hidden": true
   },
   "outputs": [
    {
     "data": {
      "text/plain": [
       "array([2, 1, 2, 2])"
      ]
     },
     "execution_count": 70,
     "metadata": {},
     "output_type": "execute_result"
    }
   ],
   "source": [
    "EcMax = 2\n",
    "NewCtoE = np.array([0,1,2,0])\n",
    "Elist = np.unique(NewCtoE)\n",
    "Ecount = len(Elist)\n",
    "n = Ecount -  EcMax \n",
    "if n > 0:\n",
    "    Edrop = np.random.choice(Elist,n, replace=False)\n",
    "    Edispo = Elist[~np.isin(Elist, Edrop)]\n",
    "    mask = np.isin(NewCtoE,Edrop)\n",
    "    NewCtoE[mask] = np.random.choice(Edispo,mask.sum())\n",
    "NewCtoE"
   ]
  },
  {
   "cell_type": "code",
   "execution_count": 48,
   "id": "be9284cc",
   "metadata": {
    "hidden": true
   },
   "outputs": [
    {
     "data": {
      "text/plain": [
       "array([False,  True, False, False])"
      ]
     },
     "execution_count": 48,
     "metadata": {},
     "output_type": "execute_result"
    },
    {
     "data": {
      "text/plain": [
       "array([1])"
      ]
     },
     "execution_count": 48,
     "metadata": {},
     "output_type": "execute_result"
    },
    {
     "data": {
      "text/plain": [
       "array([2])"
      ]
     },
     "execution_count": 48,
     "metadata": {},
     "output_type": "execute_result"
    }
   ],
   "source": [
    "mask = np.isin(NewCtoE,Edrop)\n",
    "mask\n",
    "NewCtoE[mask] = np.random.choice(Edispo,mask.sum())\n",
    "NewCtoE"
   ]
  },
  {
   "cell_type": "code",
   "execution_count": null,
   "id": "744d7a02",
   "metadata": {
    "hidden": true
   },
   "outputs": [],
   "source": [
    "idx = 0\n",
    "p = "
   ]
  },
  {
   "cell_type": "code",
   "execution_count": 29,
   "id": "e4bfc484",
   "metadata": {
    "hidden": true
   },
   "outputs": [
    {
     "data": {
      "text/plain": [
       "range(0, 5)"
      ]
     },
     "execution_count": 29,
     "metadata": {},
     "output_type": "execute_result"
    },
    {
     "data": {
      "text/plain": [
       "array([0, 4, 1])"
      ]
     },
     "execution_count": 29,
     "metadata": {},
     "output_type": "execute_result"
    }
   ],
   "source": [
    "arr = range(5)\n",
    "arr\n",
    "# numbers below will never contain repeated numbers (replace=False)\n",
    "numbers = np.random.choice(arr, 3, replace=False) \n",
    "numbers"
   ]
  },
  {
   "cell_type": "code",
   "execution_count": 27,
   "id": "77aad27f",
   "metadata": {
    "hidden": true
   },
   "outputs": [
    {
     "data": {
      "text/plain": [
       "{'PressionList': [4.51, 4.5, 4.51, 4.52],\n",
       " 'DebitList': [11.19, 11.18, 11.19, 11.21],\n",
       " 'Debit': 44.8}"
      ]
     },
     "execution_count": 27,
     "metadata": {},
     "output_type": "execute_result"
    }
   ],
   "source": [
    "Calcul_Debit(algo ,indiv, split = False)"
   ]
  },
  {
   "cell_type": "markdown",
   "id": "c3d9f18b",
   "metadata": {
    "heading_collapsed": true,
    "hidden": true
   },
   "source": [
    "## plot"
   ]
  },
  {
   "cell_type": "code",
   "execution_count": 24,
   "id": "e18cfb5c",
   "metadata": {
    "hidden": true
   },
   "outputs": [
    {
     "data": {
      "image/png": "[encoded data removed]",
      "text/plain": [
       "<Figure size 800x800 with 1 Axes>"
      ]
     },
     "metadata": {},
     "output_type": "display_data"
    }
   ],
   "source": [
    "# SelectLine = algo.DictLine.keys()\n",
    "# SelectSlot = algo.DictPos.keys()\n",
    "\n",
    "row = algo.df.iloc[0]\n",
    "                        \n",
    "ElemsList = ['Clist','Elist','Plist']\n",
    "Elems = ['C','E','P']\n",
    "SelectSlot = []\n",
    "List_EtoC = row.List_EtoC\n",
    "List_PtoE = row.List_PtoE\n",
    "for n in range(3):\n",
    "    SelectSlot+= ['{}{}'.format(Elems[n],i) for i in row[ElemsList[n]]]\n",
    "SelectLine = row.Name\n",
    "\n",
    "fig = new_plot(algo, SelectLine, SelectSlot)"
   ]
  },
  {
   "cell_type": "code",
   "execution_count": null,
   "id": "61ea7fa0",
   "metadata": {
    "hidden": true
   },
   "outputs": [],
   "source": []
  }
 ],
 "metadata": {
  "kernelspec": {
   "display_name": "Python 3 (ipykernel)",
   "language": "python",
   "name": "python3"
  },
  "language_info": {
   "codemirror_mode": {
    "name": "ipython",
    "version": 3
   },
   "file_extension": ".py",
   "mimetype": "text/x-python",
   "name": "python",
   "nbconvert_exporter": "python",
   "pygments_lexer": "ipython3",
   "version": "3.9.12"
  },
  "toc": {
   "base_numbering": 1,
   "nav_menu": {},
   "number_sections": true,
   "sideBar": true,
   "skip_h1_title": false,
   "title_cell": "Table of Contents",
   "title_sidebar": "Contents",
   "toc_cell": false,
   "toc_position": {
    "height": "calc(100% - 180px)",
    "left": "10px",
    "top": "150px",
    "width": "181.2px"
   },
   "toc_section_display": true,
   "toc_window_display": true
  }
 },
 "nbformat": 4,
 "nbformat_minor": 5
}
