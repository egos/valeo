{
 "cells": [
  {
   "cell_type": "markdown",
   "id": "196dcdf1",
   "metadata": {
    "heading_collapsed": true
   },
   "source": [
    "# Import"
   ]
  },
  {
   "cell_type": "code",
   "execution_count": 286,
   "id": "7444384e",
   "metadata": {
    "hidden": true
   },
   "outputs": [
    {
     "name": "stdout",
     "output_type": "stream",
     "text": [
      "The autoreload extension is already loaded. To reload it, use:\n",
      "  %reload_ext autoreload\n"
     ]
    },
    {
     "data": {
      "text/html": [
       "<style>.container { width:80% !important; }</style>"
      ],
      "text/plain": [
       "<IPython.core.display.HTML object>"
      ]
     },
     "metadata": {},
     "output_type": "display_data"
    }
   ],
   "source": [
    "%load_ext autoreload\n",
    "%autoreload 2\n",
    "\n",
    "import importlib\n",
    "import numpy as np\n",
    "import math\n",
    "import itertools \n",
    "import pandas as pd\n",
    "import numpy as np\n",
    "import io\n",
    "import msoffcrypto\n",
    "from sklearn.metrics import r2_score\n",
    "import openpyxl\n",
    "import plotly.express as px\n",
    "from IPython.core.interactiveshell import InteractiveShell\n",
    "InteractiveShell.ast_node_interactivity = \"all\"\n",
    "import plotly\n",
    "import matplotlib.pyplot as plt\n",
    "import plotly.graph_objects as go\n",
    "import streamlit as st\n",
    "import json\n",
    "from math import factorial as fact\n",
    "from IPython.display import Markdown, display\n",
    "import toml\n",
    "import sys, os\n",
    "import collections\n",
    "from types import SimpleNamespace\n",
    "import copy\n",
    "import matplotlib.patches as mpatch\n",
    "%matplotlib inline \n",
    "%config Completer.use_jedi = True\n",
    "\n",
    "from IPython.display import display, HTML\n",
    "display(HTML(\"<style>.container { width:80% !important; }</style>\"))\n",
    "\n",
    "from utils import *"
   ]
  },
  {
   "cell_type": "code",
   "execution_count": 2,
   "id": "5f34efbe",
   "metadata": {
    "hidden": true
   },
   "outputs": [],
   "source": [
    "from sklearn.cluster import KMeans\n",
    "import numpy as np"
   ]
  },
  {
   "cell_type": "markdown",
   "id": "bfd1d41b",
   "metadata": {},
   "source": [
    "# T new &"
   ]
  },
  {
   "cell_type": "code",
   "execution_count": 296,
   "id": "c2f6db4d",
   "metadata": {},
   "outputs": [
    {
     "name": "stdout",
     "output_type": "stream",
     "text": [
      "Init algo namespace\n",
      "['E0', 'E1', 'E2', 'E3', 'E4'] [('E0', 'E1'), ('E0', 'E2'), ('E0', 'E3'), ('E0', 'E4'), ('E1', 'E0'), ('E1', 'E2'), ('E1', 'E3'), ('E1', 'E4'), ('E2', 'E0'), ('E2', 'E1'), ('E2', 'E3'), ('E2', 'E4'), ('E3', 'E0'), ('E3', 'E1'), ('E3', 'E2'), ('E3', 'E4'), ('E4', 'E0'), ('E4', 'E1'), ('E4', 'E2'), ('E4', 'E3')]\n",
      "['T0', 'T1', 'T2', 'T3', 'P0', 'P1'] [('T0', 'T1'), ('T0', 'T2'), ('T0', 'T3'), ('T0', 'P0'), ('T0', 'P1'), ('T1', 'T0'), ('T1', 'T2'), ('T1', 'T3'), ('T1', 'P0'), ('T1', 'P1'), ('T2', 'T0'), ('T2', 'T1'), ('T2', 'T3'), ('T2', 'P0'), ('T2', 'P1'), ('T3', 'T0'), ('T3', 'T1'), ('T3', 'T2'), ('T3', 'P0'), ('T3', 'P1'), ('P0', 'T0'), ('P0', 'T1'), ('P0', 'T2'), ('P0', 'T3'), ('P0', 'P1'), ('P1', 'T0'), ('P1', 'T1'), ('P1', 'T2'), ('P1', 'T3'), ('P1', 'P0')]\n",
      "['confs', 'map', 'map bis', 'map s2', 'map (2)', 'map (3)', 'map T', 'map T2', 'map T3']\n"
     ]
    },
    {
     "data": {
      "text/plain": [
       "{'C': [0, 1, 2, 3, 4, 5, 6, 7],\n",
       " 'E': [0, 1, 2, 3, 4],\n",
       " 'T': [0, 1, 2, 3],\n",
       " 'P': [0, 1]}"
      ]
     },
     "execution_count": 296,
     "metadata": {},
     "output_type": "execute_result"
    }
   ],
   "source": [
    "file = {'SheetMapName' : 'map T3', 'uploaded_file' : \"data.xlsx\",'DistFactor' : 0.1}\n",
    "algo = load_data_brut(file)\n",
    "dfline = algo.dfline.copy()\n",
    "Comb = algo.Comb\n",
    "Comb\n",
    "algo.ListBusPactif = [False,False]\n",
    "df = indiv_init(algo, 40)\n",
    "\n",
    "Ne = len(algo.Comb['E'])\n",
    "idx = df[(df.Pcount==1)].sort_values(ascending=False,by = 'Ecount').index[0]\n",
    "indiv = algo.indivs[idx]"
   ]
  },
  {
   "cell_type": "code",
   "execution_count": 318,
   "id": "d3dcd955",
   "metadata": {},
   "outputs": [
    {
     "name": "stdout",
     "output_type": "stream",
     "text": [
      "P0 ['T2', 'T1'] ['P0-T2', 'T2-T1'] {'T1': ['E1'], 'T2': ['E2']}\n",
      "P1 ['T3'] ['P1-T3', 'T3-T0'] {'T3': ['E3']}\n"
     ]
    },
    {
     "data": {
      "text/plain": [
       "['P0-T2',\n",
       " 'T2-E2',\n",
       " 'E2-C1',\n",
       " 'E2-C4',\n",
       " 'T2-T1',\n",
       " 'T1-E1',\n",
       " 'E1-C0',\n",
       " 'E1-C2',\n",
       " 'E1-C6',\n",
       " 'P1-T3',\n",
       " 'T3-E3',\n",
       " 'E3-C3',\n",
       " 'E3-C5',\n",
       " 'E3-C7']"
      ]
     },
     "execution_count": 318,
     "metadata": {},
     "output_type": "execute_result"
    }
   ],
   "source": [
    "BusTNames = []\n",
    "for p in indiv['Plist']:\n",
    "    L = Tconnection_v4(algo, indiv,p)\n",
    "    BusTNames = BusTNames + L\n",
    "BusTNames"
   ]
  },
  {
   "cell_type": "code",
   "execution_count": 317,
   "id": "351321ef",
   "metadata": {},
   "outputs": [
    {
     "name": "stdout",
     "output_type": "stream",
     "text": [
      "Indiv_reverse [0, 1, 2, 3, 4, 5, 6, 7] [1, 2, 1, 3, 2, 3, 1, 3] [0, 0, 1]\n"
     ]
    }
   ],
   "source": [
    "Name =\"E1-C0,E1-C2,E1-C6,E2-C1,E2-C4,E3-C3,E3-C5,E3-C7,P0-E1,P0-E2,P1-E3\"\n",
    "# Name = \"E0-C3,E0-C5,E0-C6,E1-C0,E2-C1,E2-C2,E2-C4,E2-C7,P0-E1,P0-E2,P1-E0\"\n",
    "indiv  = Indiv_reverse(Name,algo)\n"
   ]
  },
  {
   "cell_type": "code",
   "execution_count": 319,
   "id": "b11b368b",
   "metadata": {},
   "outputs": [
    {
     "name": "stdout",
     "output_type": "stream",
     "text": [
      "(11, 9)\n"
     ]
    },
    {
     "data": {
      "image/png": "[encoded data removed]",
      "text/plain": [
       "<Figure size 500x500 with 1 Axes>"
      ]
     },
     "metadata": {},
     "output_type": "display_data"
    }
   ],
   "source": [
    "# Plot\n",
    "row = pd.Series(indiv)\n",
    "ElemsList = ['Clist','Elist','Plist']\n",
    "Elems = ['C','E','P']\n",
    "SelectSlot = []\n",
    "List_EtoC = row.List_EtoC\n",
    "List_PtoE = row.List_PtoE\n",
    "for n in range(3):\n",
    "    SelectSlot+= ['{}{}'.format(Elems[n],i) for i in row[ElemsList[n]]]\n",
    "SelectSlot+= ['T0','T1','T2','T3']\n",
    "SelectLine = BusTNames\n",
    "# SelectLine = indiv['BusName']\n",
    "fig = new_plot(algo, SelectLine, SelectSlot,True)\n",
    "fig.set_size_inches(5,5)"
   ]
  },
  {
   "cell_type": "code",
   "execution_count": null,
   "id": "1e15f3a2",
   "metadata": {},
   "outputs": [],
   "source": []
  },
  {
   "cell_type": "markdown",
   "id": "0bff4477",
   "metadata": {},
   "source": [
    "## verif"
   ]
  },
  {
   "cell_type": "code",
   "execution_count": null,
   "id": "8d0892d2",
   "metadata": {},
   "outputs": [],
   "source": []
  },
  {
   "cell_type": "code",
   "execution_count": null,
   "id": "7b3e6de2",
   "metadata": {},
   "outputs": [],
   "source": []
  },
  {
   "cell_type": "code",
   "execution_count": null,
   "id": "c8da5461",
   "metadata": {},
   "outputs": [],
   "source": []
  },
  {
   "cell_type": "code",
   "execution_count": 271,
   "id": "f2bd5eef",
   "metadata": {},
   "outputs": [
    {
     "name": "stdout",
     "output_type": "stream",
     "text": [
      "Init algo namespace\n",
      "['E0', 'E1', 'E2', 'E3', 'E4'] [('E0', 'E1'), ('E0', 'E2'), ('E0', 'E3'), ('E0', 'E4'), ('E1', 'E0'), ('E1', 'E2'), ('E1', 'E3'), ('E1', 'E4'), ('E2', 'E0'), ('E2', 'E1'), ('E2', 'E3'), ('E2', 'E4'), ('E3', 'E0'), ('E3', 'E1'), ('E3', 'E2'), ('E3', 'E4'), ('E4', 'E0'), ('E4', 'E1'), ('E4', 'E2'), ('E4', 'E3')]\n",
      "['T0', 'T1', 'T2', 'P0'] [('T0', 'T1'), ('T0', 'T2'), ('T0', 'P0'), ('T1', 'T0'), ('T1', 'T2'), ('T1', 'P0'), ('T2', 'T0'), ('T2', 'T1'), ('T2', 'P0'), ('P0', 'T0'), ('P0', 'T1'), ('P0', 'T2')]\n",
      "['confs', 'map', 'map bis', 'map s2', 'map (2)', 'map (3)', 'map T', 'map T2', 'map T3']\n"
     ]
    },
    {
     "data": {
      "text/plain": [
       "{'C': [0, 1, 2, 3, 4, 5, 6, 7], 'E': [0, 1, 2, 3, 4], 'T': [0, 1, 2], 'P': [0]}"
      ]
     },
     "execution_count": 271,
     "metadata": {},
     "output_type": "execute_result"
    }
   ],
   "source": [
    "file = {'SheetMapName' : 'map T2', 'uploaded_file' : \"data.xlsx\",'DistFactor' : 0.1}\n",
    "algo = load_data_brut(file)\n",
    "dfline = algo.dfline.copy()\n",
    "Comb = algo.Comb\n",
    "Comb"
   ]
  },
  {
   "cell_type": "code",
   "execution_count": null,
   "id": "6112a832",
   "metadata": {},
   "outputs": [],
   "source": []
  },
  {
   "cell_type": "code",
   "execution_count": 255,
   "id": "e9820abf",
   "metadata": {},
   "outputs": [
    {
     "name": "stdout",
     "output_type": "stream",
     "text": [
      "Indiv_reverse [0, 1, 2, 3, 4, 5] [0, 2, 0, 2, 2, 1] [0, 0, 0]\n"
     ]
    }
   ],
   "source": [
    "Name = \"E0-C0,E0-C2,E1-C5,E2-C1,E2-C3,E2-C4,P0-E0,P0-E1,P0-E2\"\n",
    "indiv  = Indiv_reverse(Name,algo)"
   ]
  },
  {
   "cell_type": "code",
   "execution_count": 256,
   "id": "95970965",
   "metadata": {},
   "outputs": [
    {
     "name": "stdout",
     "output_type": "stream",
     "text": [
      "P0 ['T1', 'T0'] ['P0-T1', 'T1-T0']\n",
      "{'T1': [('E0', 'E1'), ('E1', 'T1'), ('E2', 'T1')], 'T0': [('E1', 'E0'), ('E0', 'T0')]} ['P0-T1', 'T1-T0']\n",
      "T1 {'E0', 'E1'}\n",
      "T1 {'E2'}\n",
      "T0 {'E0', 'E1'}\n"
     ]
    },
    {
     "data": {
      "text/plain": [
       "['P0-T1',\n",
       " 'T1-E0',\n",
       " 'E0-E1',\n",
       " 'E0-C0',\n",
       " 'E0-C2',\n",
       " 'E1-C5',\n",
       " 'T1-E2',\n",
       " 'E2-C1',\n",
       " 'E2-C3',\n",
       " 'E2-C4',\n",
       " 'T1-T0',\n",
       " 'T0-E0',\n",
       " 'E0-E1',\n",
       " 'E0-C0',\n",
       " 'E0-C2',\n",
       " 'E1-C5']"
      ]
     },
     "execution_count": 256,
     "metadata": {},
     "output_type": "execute_result"
    }
   ],
   "source": [
    "BusTNames = Tconnection_v3(algo, indiv,0)\n",
    "BusTNames"
   ]
  },
  {
   "cell_type": "code",
   "execution_count": 257,
   "id": "2a4e97e0",
   "metadata": {},
   "outputs": [
    {
     "name": "stdout",
     "output_type": "stream",
     "text": [
      "(10, 7)\n"
     ]
    },
    {
     "data": {
      "image/png": "[encoded data removed]",
      "text/plain": [
       "<Figure size 500x500 with 1 Axes>"
      ]
     },
     "metadata": {},
     "output_type": "display_data"
    }
   ],
   "source": [
    "# Plot\n",
    "row = pd.Series(indiv)\n",
    "ElemsList = ['Clist','Elist','Plist']\n",
    "Elems = ['C','E','P']\n",
    "SelectSlot = []\n",
    "List_EtoC = row.List_EtoC\n",
    "List_PtoE = row.List_PtoE\n",
    "for n in range(3):\n",
    "    SelectSlot+= ['{}{}'.format(Elems[n],i) for i in row[ElemsList[n]]]\n",
    "SelectSlot+= ['T0','T1']\n",
    "SelectLine = BusTNames\n",
    "# SelectLine = indiv['BusName']\n",
    "fig = new_plot(algo, SelectLine, SelectSlot)\n",
    "fig.set_size_inches(5,5)"
   ]
  },
  {
   "cell_type": "code",
   "execution_count": 258,
   "id": "d8844263",
   "metadata": {},
   "outputs": [
    {
     "name": "stdout",
     "output_type": "stream",
     "text": [
      "P0 ['T1', 'T0'] ['P0-T1', 'T1-T0']\n"
     ]
    }
   ],
   "source": [
    "pn = 0\n",
    "p = 'P{}'.format(pn)\n",
    "PtoTConnect = algo.PtoTConnect[p]\n",
    "Tconnect = PtoTConnect\n",
    "TconnectPath = Line_Name([p] + Tconnect)\n",
    "Tlist = Tconnect\n",
    "print(p , Tconnect,TconnectPath)\n",
    "\n",
    "G0 = algo.G0.copy()\n",
    "\n",
    "p = 'P{}'.format(p)\n",
    "Elist = indiv['Pconnect'][pn]\n",
    "ElistName = ['E{}'.format(e) for e in Elist]\n",
    "Elist = ElistName.copy()\n",
    "\n",
    "SlotName = ElistName + Tlist\n",
    "L = []\n",
    "# backward sur chaque E pour "
   ]
  },
  {
   "cell_type": "code",
   "execution_count": 269,
   "id": "7c38647a",
   "metadata": {},
   "outputs": [
    {
     "data": {
      "text/plain": [
       "{'T0': ['E0'], 'T1': ['E1', 'E2']}"
      ]
     },
     "execution_count": 269,
     "metadata": {},
     "output_type": "execute_result"
    },
    {
     "data": {
      "text/plain": [
       "['T1', 'E2', 'E1']"
      ]
     },
     "execution_count": 269,
     "metadata": {},
     "output_type": "execute_result"
    },
    {
     "data": {
      "text/plain": [
       "['T0', 'E0']"
      ]
     },
     "execution_count": 269,
     "metadata": {},
     "output_type": "execute_result"
    },
    {
     "data": {
      "text/plain": [
       "['P0-T1',\n",
       " 'T1-E2',\n",
       " 'E2-E1',\n",
       " 'E1-C5',\n",
       " 'E2-C1',\n",
       " 'E2-C3',\n",
       " 'E2-C4',\n",
       " 'T1-T0',\n",
       " 'T0-E0',\n",
       " 'E0-C0',\n",
       " 'E0-C2']"
      ]
     },
     "execution_count": 269,
     "metadata": {},
     "output_type": "execute_result"
    },
    {
     "data": {
      "text/plain": [
       "{}"
      ]
     },
     "execution_count": 269,
     "metadata": {},
     "output_type": "execute_result"
    }
   ],
   "source": [
    "G0 = algo.G0\n",
    "Start  = Tconnect\n",
    "Target = Elist\n",
    "SlotNames =Start + Target\n",
    "L = []\n",
    "# backward sur chaque E pour connaitre le bus le plus court vers le plus proche T\n",
    "DictPath = collections.defaultdict(list)\n",
    "G = G0.subgraph(SlotNames).copy()\n",
    "for i, t in enumerate(Target):  \n",
    "    NodesDist = [G[t][p]['dist'] for p in Start]\n",
    "    n = Start[np.array(NodesDist).argmin()]\n",
    "    DictPath[n].append(t)\n",
    "DictTpath = dict(DictPath)\n",
    "\n",
    "DictTpath\n",
    "BusTNames = []\n",
    "DictPath2 = collections.defaultdict(list)\n",
    "\n",
    "for i in range(len(Tconnect)):\n",
    "        t = Tconnect[i]  \n",
    "        BusTNames.append(TconnectPath[i])\n",
    "        if t in DictTpath.keys():\n",
    "            e_list = DictTpath[t]\n",
    "            Glist = [t] + list(e_list)\n",
    "            G = G0.subgraph(Glist).copy()\n",
    "            n = t\n",
    "            FinalPath  = [n]  \n",
    "            i+=1  \n",
    "            while G.size()>0 :\n",
    "                NodesAdj  = [x[0] for x in G.adj[n].items()]\n",
    "                NodesDist = [x[1]['dist'] for x in G.adj[n].items()]\n",
    "                ns = n\n",
    "                G.remove_node(n)\n",
    "                n = NodesAdj[np.array(NodesDist).argmin()]\n",
    "                FinalPath.append(n)\n",
    "                BusTNames.append(\"{}-{}\".format(ns,n))\n",
    "            for e in e_list:\n",
    "                Clist = indiv['Econnect'][int(e[1:])]\n",
    "                for c in Clist:\n",
    "                    BusTNames.append(\"{}-C{}\".format(e,c))\n",
    "            FinalPath  \n",
    "BusTNames           \n",
    "\n",
    "\n",
    "# for k, e_list in DictPath.items():\n",
    "#     G = G0.subgraph([k] + Slist).copy()\n",
    "#     # print([p] + Tlist)\n",
    "#     n = k\n",
    "#     Sconnect = [] \n",
    "#     SconnectPath = []\n",
    "#     while G.size()>0 :\n",
    "#         NodesAdj  = [x[0] for x in G.adj[n].items()]\n",
    "#         NodesDist = [x[1]['dist'] for x in G.adj[n].items()]\n",
    "#         ns = n\n",
    "#         G.remove_node(n)\n",
    "#         n = NodesAdj[np.array(NodesDist).argmin()]\n",
    "#         print(k,ns ,n)\n",
    "# #         Sconnect.append(n)\n",
    "# #         SconnectPath.append(\"{}-{}\".format(ns,n))\n",
    "#         DictPath2[k].append(n)\n",
    "    \n",
    "DictPath2 = dict(DictPath2)\n",
    "\n",
    "DictPath2"
   ]
  },
  {
   "cell_type": "code",
   "execution_count": 270,
   "id": "ba36b4fb",
   "metadata": {},
   "outputs": [
    {
     "name": "stdout",
     "output_type": "stream",
     "text": [
      "(10, 7)\n"
     ]
    },
    {
     "data": {
      "image/png": "[encoded data removed]",
      "text/plain": [
       "<Figure size 500x500 with 1 Axes>"
      ]
     },
     "metadata": {},
     "output_type": "display_data"
    }
   ],
   "source": [
    "# Plot\n",
    "row = pd.Series(indiv)\n",
    "ElemsList = ['Clist','Elist','Plist']\n",
    "Elems = ['C','E','P']\n",
    "SelectSlot = []\n",
    "List_EtoC = row.List_EtoC\n",
    "List_PtoE = row.List_PtoE\n",
    "for n in range(3):\n",
    "    SelectSlot+= ['{}{}'.format(Elems[n],i) for i in row[ElemsList[n]]]\n",
    "SelectSlot+= ['T0','T1']\n",
    "SelectLine = BusTNames\n",
    "# SelectLine = indiv['BusName']\n",
    "fig = new_plot(algo, SelectLine, SelectSlot)\n",
    "fig.set_size_inches(5,5)"
   ]
  },
  {
   "cell_type": "code",
   "execution_count": null,
   "id": "7d44dcc6",
   "metadata": {},
   "outputs": [],
   "source": []
  },
  {
   "cell_type": "markdown",
   "id": "bdfe58d8",
   "metadata": {},
   "source": [
    "## Run"
   ]
  },
  {
   "cell_type": "raw",
   "id": "4170ec71",
   "metadata": {},
   "source": [
    "el = ['E0', 'E1', 'E2', 'E3']\n",
    "list(itertools.permutations(el, 2))"
   ]
  },
  {
   "cell_type": "code",
   "execution_count": 272,
   "id": "9b4614b2",
   "metadata": {},
   "outputs": [
    {
     "name": "stdout",
     "output_type": "stream",
     "text": [
      "Init algo namespace\n",
      "['E0', 'E1', 'E2', 'E3', 'E4'] [('E0', 'E1'), ('E0', 'E2'), ('E0', 'E3'), ('E0', 'E4'), ('E1', 'E0'), ('E1', 'E2'), ('E1', 'E3'), ('E1', 'E4'), ('E2', 'E0'), ('E2', 'E1'), ('E2', 'E3'), ('E2', 'E4'), ('E3', 'E0'), ('E3', 'E1'), ('E3', 'E2'), ('E3', 'E4'), ('E4', 'E0'), ('E4', 'E1'), ('E4', 'E2'), ('E4', 'E3')]\n",
      "['T0', 'T1', 'T2', 'P0'] [('T0', 'T1'), ('T0', 'T2'), ('T0', 'P0'), ('T1', 'T0'), ('T1', 'T2'), ('T1', 'P0'), ('T2', 'T0'), ('T2', 'T1'), ('T2', 'P0'), ('P0', 'T0'), ('P0', 'T1'), ('P0', 'T2')]\n",
      "['confs', 'map', 'map bis', 'map s2', 'map (2)', 'map (3)', 'map T', 'map T2', 'map T3']\n"
     ]
    },
    {
     "data": {
      "text/plain": [
       "{'C': [0, 1, 2, 3, 4, 5, 6, 7], 'E': [0, 1, 2, 3, 4], 'T': [0, 1, 2], 'P': [0]}"
      ]
     },
     "execution_count": 272,
     "metadata": {},
     "output_type": "execute_result"
    }
   ],
   "source": [
    "file = {'SheetMapName' : 'map T2', 'uploaded_file' : \"data.xlsx\",'DistFactor' : 0.1}\n",
    "algo = load_data_brut(file)\n",
    "dfline = algo.dfline.copy()\n",
    "Comb = algo.Comb\n",
    "Comb\n",
    "# algo.A0"
   ]
  },
  {
   "cell_type": "code",
   "execution_count": 251,
   "id": "f97bb074",
   "metadata": {},
   "outputs": [
    {
     "name": "stdout",
     "output_type": "stream",
     "text": [
      "P0 ['T1', 'T0'] ['P0-T1', 'T1-T0']\n",
      "{'T1': [('E0', 'E1'), ('E1', 'E2'), ('E2', 'T1'), ('E2', 'T1')], 'T0': [('E1', 'E0'), ('E0', 'T0')]} ['P0-T1', 'T1-T0']\n",
      "T1 {'E0', 'E2', 'E1'}\n",
      "T0 {'E0', 'E1'}\n"
     ]
    },
    {
     "data": {
      "text/plain": [
       "['P0-T1',\n",
       " 'T1-E2',\n",
       " 'E2-E1',\n",
       " 'E1-E0',\n",
       " 'E0-C0',\n",
       " 'E0-C2',\n",
       " 'E2-C1',\n",
       " 'E2-C3',\n",
       " 'E2-C4',\n",
       " 'E1-C5',\n",
       " 'T1-T0',\n",
       " 'T0-E0',\n",
       " 'E0-E1',\n",
       " 'E0-C0',\n",
       " 'E0-C2',\n",
       " 'E1-C5']"
      ]
     },
     "execution_count": 251,
     "metadata": {},
     "output_type": "execute_result"
    }
   ],
   "source": [
    " BusTNames = Tconnection_v3(algo, indiv,0)"
   ]
  },
  {
   "cell_type": "raw",
   "id": "42c7f0ea",
   "metadata": {},
   "source": [
    "algo.A0"
   ]
  },
  {
   "cell_type": "code",
   "execution_count": 273,
   "id": "745c2591",
   "metadata": {},
   "outputs": [],
   "source": [
    "algo.ListBusPactif = [False]"
   ]
  },
  {
   "cell_type": "raw",
   "id": "3817c138",
   "metadata": {},
   "source": [
    "# algo.GroupDict = [1,1,0]\n",
    "Name = 'E0-C3,E1-C1,E1-C2,E1-C4,E2-C0,E2-C5,P0-E0,P0-E1,P0-E2'\n",
    "indiv  = Indiv_reverse(Name,algo)"
   ]
  },
  {
   "cell_type": "raw",
   "id": "90fe99e9",
   "metadata": {
    "collapsed": true
   },
   "source": [
    "# algo.GroupDict = [1,1,0]\n",
    "Name = 'E0-C3,E1-C1,E3-C2,E3-C4,E3-C0,E2-C5,P0-E0,P0-E1,P0-E2'\n",
    "indiv  = Indiv_reverse(Name,algo)"
   ]
  },
  {
   "cell_type": "code",
   "execution_count": 274,
   "id": "be482682",
   "metadata": {},
   "outputs": [],
   "source": [
    "# generation de 10 indivs\n",
    "df = indiv_init(algo, 40)\n",
    "# df.columns\n",
    "indiv = algo.indivs[1]"
   ]
  },
  {
   "cell_type": "code",
   "execution_count": 86,
   "id": "f33e6d0b",
   "metadata": {},
   "outputs": [
    {
     "data": {
      "text/html": [
       "<div>\n",
       "<style scoped>\n",
       "    .dataframe tbody tr th:only-of-type {\n",
       "        vertical-align: middle;\n",
       "    }\n",
       "\n",
       "    .dataframe tbody tr th {\n",
       "        vertical-align: top;\n",
       "    }\n",
       "\n",
       "    .dataframe thead th {\n",
       "        text-align: right;\n",
       "    }\n",
       "</style>\n",
       "<table border=\"1\" class=\"dataframe\">\n",
       "  <thead>\n",
       "    <tr style=\"text-align: right;\">\n",
       "      <th></th>\n",
       "      <th>Clist</th>\n",
       "      <th>CtoE</th>\n",
       "      <th>Econnect</th>\n",
       "      <th>Elist</th>\n",
       "      <th>Ecount</th>\n",
       "      <th>EtoP</th>\n",
       "      <th>Pconnect</th>\n",
       "      <th>Plist</th>\n",
       "      <th>Pcount</th>\n",
       "      <th>Ptype0</th>\n",
       "      <th>...</th>\n",
       "      <th>Esplit</th>\n",
       "      <th>Debit</th>\n",
       "      <th>EvCount</th>\n",
       "      <th>EvSum</th>\n",
       "      <th>Masse</th>\n",
       "      <th>Cout</th>\n",
       "      <th>DetailsMasse</th>\n",
       "      <th>DetailsCout</th>\n",
       "      <th>fitness</th>\n",
       "      <th>Alive</th>\n",
       "    </tr>\n",
       "  </thead>\n",
       "  <tbody>\n",
       "    <tr>\n",
       "      <th>33</th>\n",
       "      <td>[0, 1, 2, 3, 4, 5, 6, 7]</td>\n",
       "      <td>[0, 2, 5, 2, 3, 3, 1, 4]</td>\n",
       "      <td>{0: [0], 1: [6], 2: [1, 3], 3: [4, 5], 4: [7],...</td>\n",
       "      <td>[0, 1, 2, 3, 4, 5]</td>\n",
       "      <td>6</td>\n",
       "      <td>[0, 0, 0, 0, 0, 0]</td>\n",
       "      <td>{0: [0, 1, 2, 3, 4, 5]}</td>\n",
       "      <td>[0]</td>\n",
       "      <td>1</td>\n",
       "      <td>[Pc, Pc, Pa, Pc, Pa, Pa]</td>\n",
       "      <td>...</td>\n",
       "      <td>{}</td>\n",
       "      <td>87.7</td>\n",
       "      <td>{}</td>\n",
       "      <td>0</td>\n",
       "      <td>1099</td>\n",
       "      <td>35</td>\n",
       "      <td>{'Pompe': 136.0, 'Tuyau': 363.4, 'EV': 0.0, 'R...</td>\n",
       "      <td>{'Pompe': 2.5, 'Tuyau': 2.8, 'EV': 0.0, 'Reser...</td>\n",
       "      <td>790</td>\n",
       "      <td>True</td>\n",
       "    </tr>\n",
       "    <tr>\n",
       "      <th>35</th>\n",
       "      <td>[0, 1, 2, 3, 4, 5, 6, 7]</td>\n",
       "      <td>[3, 1, 5, 4, 2, 5, 0, 2]</td>\n",
       "      <td>{0: [6], 1: [1], 2: [4, 7], 3: [0], 4: [3], 5:...</td>\n",
       "      <td>[0, 1, 2, 3, 4, 5]</td>\n",
       "      <td>6</td>\n",
       "      <td>[0, 0, 0, 0, 0, 0]</td>\n",
       "      <td>{0: [0, 1, 2, 3, 4, 5]}</td>\n",
       "      <td>[0]</td>\n",
       "      <td>1</td>\n",
       "      <td>[Pa, Pa, Pa, Pc, Pa, Pa]</td>\n",
       "      <td>...</td>\n",
       "      <td>{}</td>\n",
       "      <td>87.6</td>\n",
       "      <td>{}</td>\n",
       "      <td>0</td>\n",
       "      <td>1214</td>\n",
       "      <td>36</td>\n",
       "      <td>{'Pompe': 136.0, 'Tuyau': 478.4, 'EV': 0.0, 'R...</td>\n",
       "      <td>{'Pompe': 2.5, 'Tuyau': 3.6, 'EV': 0.0, 'Reser...</td>\n",
       "      <td>1040</td>\n",
       "      <td>True</td>\n",
       "    </tr>\n",
       "  </tbody>\n",
       "</table>\n",
       "<p>2 rows × 43 columns</p>\n",
       "</div>"
      ],
      "text/plain": [
       "                       Clist                      CtoE  \\\n",
       "33  [0, 1, 2, 3, 4, 5, 6, 7]  [0, 2, 5, 2, 3, 3, 1, 4]   \n",
       "35  [0, 1, 2, 3, 4, 5, 6, 7]  [3, 1, 5, 4, 2, 5, 0, 2]   \n",
       "\n",
       "                                             Econnect               Elist  \\\n",
       "33  {0: [0], 1: [6], 2: [1, 3], 3: [4, 5], 4: [7],...  [0, 1, 2, 3, 4, 5]   \n",
       "35  {0: [6], 1: [1], 2: [4, 7], 3: [0], 4: [3], 5:...  [0, 1, 2, 3, 4, 5]   \n",
       "\n",
       "    Ecount                EtoP                 Pconnect Plist  Pcount  \\\n",
       "33       6  [0, 0, 0, 0, 0, 0]  {0: [0, 1, 2, 3, 4, 5]}   [0]       1   \n",
       "35       6  [0, 0, 0, 0, 0, 0]  {0: [0, 1, 2, 3, 4, 5]}   [0]       1   \n",
       "\n",
       "                      Ptype0  ... Esplit Debit EvCount  EvSum Masse Cout  \\\n",
       "33  [Pc, Pc, Pa, Pc, Pa, Pa]  ...     {}  87.7      {}      0  1099   35   \n",
       "35  [Pa, Pa, Pa, Pc, Pa, Pa]  ...     {}  87.6      {}      0  1214   36   \n",
       "\n",
       "                                         DetailsMasse  \\\n",
       "33  {'Pompe': 136.0, 'Tuyau': 363.4, 'EV': 0.0, 'R...   \n",
       "35  {'Pompe': 136.0, 'Tuyau': 478.4, 'EV': 0.0, 'R...   \n",
       "\n",
       "                                          DetailsCout fitness Alive  \n",
       "33  {'Pompe': 2.5, 'Tuyau': 2.8, 'EV': 0.0, 'Reser...     790  True  \n",
       "35  {'Pompe': 2.5, 'Tuyau': 3.6, 'EV': 0.0, 'Reser...    1040  True  \n",
       "\n",
       "[2 rows x 43 columns]"
      ]
     },
     "execution_count": 86,
     "metadata": {},
     "output_type": "execute_result"
    }
   ],
   "source": [
    "df[df.Ecount==6]"
   ]
  },
  {
   "cell_type": "code",
   "execution_count": 275,
   "id": "d0ccb9a4",
   "metadata": {},
   "outputs": [
    {
     "data": {
      "text/plain": [
       "5"
      ]
     },
     "execution_count": 275,
     "metadata": {},
     "output_type": "execute_result"
    }
   ],
   "source": [
    "Ne = len(algo.Comb['E'])\n",
    "idx = df[df.Ecount==Ne].index[0]\n",
    "Ne\n",
    "indiv = algo.indivs[idx]"
   ]
  },
  {
   "cell_type": "code",
   "execution_count": 93,
   "id": "f3c0c7df",
   "metadata": {},
   "outputs": [
    {
     "name": "stdout",
     "output_type": "stream",
     "text": [
      "['T2', 'T0', 'T1'] ['P0-T2', 'T2-T0', 'T0-T1']\n"
     ]
    }
   ],
   "source": [
    "BusTNames = Tconnection_v2(algo, indiv)"
   ]
  },
  {
   "cell_type": "code",
   "execution_count": 90,
   "id": "7ab4d8fa",
   "metadata": {},
   "outputs": [
    {
     "name": "stdout",
     "output_type": "stream",
     "text": [
      "(11, 9)\n"
     ]
    },
    {
     "data": {
      "image/png": "[encoded data removed]",
      "text/plain": [
       "<Figure size 500x500 with 1 Axes>"
      ]
     },
     "metadata": {},
     "output_type": "display_data"
    }
   ],
   "source": [
    "# Plot\n",
    "row = pd.Series(indiv)\n",
    "ElemsList = ['Clist','Elist','Plist']\n",
    "Elems = ['C','E','P']\n",
    "SelectSlot = []\n",
    "List_EtoC = row.List_EtoC\n",
    "List_PtoE = row.List_PtoE\n",
    "for n in range(3):\n",
    "    SelectSlot+= ['{}{}'.format(Elems[n],i) for i in row[ElemsList[n]]]\n",
    "SelectSlot+= ['T0','T1','T2']\n",
    "SelectLine = BusTNames\n",
    "# SelectLine = indiv['BusName']\n",
    "fig = new_plot(algo, SelectLine, SelectSlot)\n",
    "fig.set_size_inches(5,5)"
   ]
  },
  {
   "cell_type": "code",
   "execution_count": 64,
   "id": "c3724aec",
   "metadata": {},
   "outputs": [
    {
     "name": "stdout",
     "output_type": "stream",
     "text": [
      "Indiv_reverse [0, 1, 2, 3] [0, 1, 2, 3] [0, 0, 0, 0]\n"
     ]
    }
   ],
   "source": [
    "# algo.GroupDict = [1,1,0]\n",
    "Name = \"E0-C0,E1-C1,E2-C2,E3-C3,P0-E0,P0-E1,P0-E2,P0-E3\"\n",
    "indiv  = Indiv_reverse(Name,algo)"
   ]
  },
  {
   "cell_type": "code",
   "execution_count": 64,
   "id": "fe43fdee",
   "metadata": {},
   "outputs": [
    {
     "name": "stdout",
     "output_type": "stream",
     "text": [
      "Indiv_reverse [0, 1, 2, 3] [0, 1, 2, 3] [0, 0, 0, 0]\n"
     ]
    }
   ],
   "source": [
    "# algo.GroupDict = [1,1,0]\n",
    "Name = \"E0-C0,E1-C1,E2-C2,E3-C3,P0-E0,P0-E1,P0-E2,P0-E3\"\n",
    "indiv  = Indiv_reverse(Name,algo)"
   ]
  },
  {
   "cell_type": "code",
   "execution_count": 256,
   "id": "05ef1b97",
   "metadata": {},
   "outputs": [
    {
     "name": "stdout",
     "output_type": "stream",
     "text": [
      "7.76 ms ± 78.7 µs per loop (mean ± std. dev. of 7 runs, 100 loops each)\n"
     ]
    }
   ],
   "source": [
    "%%timeit\n",
    "BusTNames, distT = T_connection(algo, indiv)"
   ]
  },
  {
   "cell_type": "markdown",
   "id": "84ee6d4f",
   "metadata": {},
   "source": [
    "## Ini P to T"
   ]
  },
  {
   "cell_type": "code",
   "execution_count": 246,
   "id": "4788590b",
   "metadata": {},
   "outputs": [
    {
     "name": "stdout",
     "output_type": "stream",
     "text": [
      "Init algo namespace\n",
      "['E0', 'E1', 'E2', 'E3'] [('E0', 'E1'), ('E0', 'E2'), ('E0', 'E3'), ('E1', 'E0'), ('E1', 'E2'), ('E1', 'E3'), ('E2', 'E0'), ('E2', 'E1'), ('E2', 'E3'), ('E3', 'E0'), ('E3', 'E1'), ('E3', 'E2')]\n",
      "['confs', 'map', 'map bis', 'map s2', 'map (2)', 'map (3)', 'map T', 'map T2', 'map T3']\n"
     ]
    },
    {
     "data": {
      "text/plain": [
       "{'C': [0, 1, 2, 3, 4], 'E': [0, 1, 2, 3], 'P': [0, 1]}"
      ]
     },
     "execution_count": 246,
     "metadata": {},
     "output_type": "execute_result"
    }
   ],
   "source": [
    "file = {'SheetMapName' : 'map bis', 'uploaded_file' : \"data.xlsx\",'DistFactor' : 0.1}\n",
    "algo = load_data_brut(file)\n",
    "dfline = algo.dfline.copy()\n",
    "Comb = algo.Comb\n",
    "Comb\n",
    "# algo.A0"
   ]
  },
  {
   "cell_type": "code",
   "execution_count": 236,
   "id": "51e73f81",
   "metadata": {},
   "outputs": [
    {
     "data": {
      "text/plain": [
       "{'P0': ['T2', 'T0', 'T1']}"
      ]
     },
     "execution_count": 236,
     "metadata": {},
     "output_type": "execute_result"
    }
   ],
   "source": [
    "PToT_path(algo)"
   ]
  },
  {
   "cell_type": "code",
   "execution_count": 232,
   "id": "e8bd00aa",
   "metadata": {},
   "outputs": [
    {
     "data": {
      "text/plain": [
       "{'P1': ['T3', 'T0'], 'P0': ['T2', 'T1']}"
      ]
     },
     "execution_count": 232,
     "metadata": {},
     "output_type": "execute_result"
    }
   ],
   "source": [
    "G0 = algo.G0\n",
    "Start  = ['P{}'.format(t) for t in algo.Comb['P']]\n",
    "Target = ['T{}'.format(t) for t in algo.Comb['T']]\n",
    "SlotNames =Start + Target\n",
    "L = []\n",
    "# backward sur chaque E pour connaitre le bus le plus court vers le plus proche T\n",
    "DictPath = collections.defaultdict(list)\n",
    "G = G0.subgraph(SlotNames).copy()\n",
    "for i, t in enumerate(Target):  \n",
    "    NodesDist = [G[t][p]['dist'] for p in Start]\n",
    "    n = Start[np.array(NodesDist).argmin()]\n",
    "    DictPath[n].append(t)\n",
    "\n",
    "DictPath2 = collections.defaultdict(list)\n",
    "for k, Slist in dict(DictPath).items():\n",
    "    G = G0.subgraph([k] + Slist).copy()\n",
    "    # print([p] + Tlist)\n",
    "    n = k\n",
    "    Sconnect = [] \n",
    "    SconnectPath = []\n",
    "    while G.size()>0 :\n",
    "        NodesAdj  = [x[0] for x in G.adj[n].items()]\n",
    "        NodesDist = [x[1]['dist'] for x in G.adj[n].items()]\n",
    "        ns = n\n",
    "        G.remove_node(n)\n",
    "        n = NodesAdj[np.array(NodesDist).argmin()]\n",
    "#         Sconnect.append(n)\n",
    "#         SconnectPath.append(\"{}-{}\".format(ns,n))\n",
    "        DictPath2[k].append(n)\n",
    "DictPath2 = dict(DictPath2)\n",
    "DictPath2"
   ]
  },
  {
   "cell_type": "code",
   "execution_count": null,
   "id": "ea72ec55",
   "metadata": {},
   "outputs": [],
   "source": [
    "G = G0.subgraph([p] + Tlist).copy()\n",
    "# print([p] + Tlist)\n",
    "n = p\n",
    "Tconnect = [] \n",
    "TconnectPath = []\n",
    "while G.size()>0 :\n",
    "    NodesAdj  = [x[0] for x in G.adj[n].items()]\n",
    "    NodesDist = [x[1]['dist'] for x in G.adj[n].items()]\n",
    "    ns = n\n",
    "    G.remove_node(n)\n",
    "    n = NodesAdj[np.array(NodesDist).argmin()]\n",
    "    TconnectPath.append(\"{}-{}\".format(ns,n))\n",
    "    Tconnect.append(n)\n",
    "print(Tconnect,TconnectPath)"
   ]
  },
  {
   "cell_type": "code",
   "execution_count": 238,
   "id": "74ff48a6",
   "metadata": {},
   "outputs": [],
   "source": [
    "# generation de 10 indivs\n",
    "algo.ListBusPactif = [False,False]\n",
    "df = indiv_init(algo, 30)\n",
    "# df.columns\n",
    "indiv = algo.indivs[1]"
   ]
  },
  {
   "cell_type": "code",
   "execution_count": 239,
   "id": "b6180cc3",
   "metadata": {},
   "outputs": [],
   "source": [
    "Ne = len(algo.Comb['E'])\n",
    "idx = df[(df.Pcount==2)].sort_values(ascending=False,by = 'Ecount').index[0]\n",
    "indiv = algo.indivs[idx]"
   ]
  },
  {
   "cell_type": "code",
   "execution_count": 240,
   "id": "1335db7e",
   "metadata": {},
   "outputs": [
    {
     "name": "stdout",
     "output_type": "stream",
     "text": [
      "(11, 9)\n"
     ]
    },
    {
     "data": {
      "image/png": "[encoded data removed]",
      "text/plain": [
       "<Figure size 500x500 with 1 Axes>"
      ]
     },
     "metadata": {},
     "output_type": "display_data"
    }
   ],
   "source": [
    "# Plot\n",
    "row = pd.Series(indiv)\n",
    "ElemsList = ['Clist','Elist','Plist']\n",
    "Elems = ['C','E','P']\n",
    "SelectSlot = []\n",
    "List_EtoC = row.List_EtoC\n",
    "List_PtoE = row.List_PtoE\n",
    "for n in range(3):\n",
    "    SelectSlot+= ['{}{}'.format(Elems[n],i) for i in row[ElemsList[n]]]\n",
    "SelectSlot+= ['T0','T1','T2']\n",
    "# SelectLine = BusTNames\n",
    "SelectLine = indiv['BusName']\n",
    "fig = new_plot(algo, SelectLine, SelectSlot)\n",
    "fig.set_size_inches(5,5)"
   ]
  },
  {
   "cell_type": "code",
   "execution_count": 228,
   "id": "5986e5b5",
   "metadata": {
    "collapsed": true
   },
   "outputs": [
    {
     "name": "stdout",
     "output_type": "stream",
     "text": [
      "(11, 9)\n"
     ]
    },
    {
     "data": {
      "image/png": "[encoded data removed]",
      "text/plain": [
       "<Figure size 800x800 with 1 Axes>"
      ]
     },
     "metadata": {},
     "output_type": "display_data"
    }
   ],
   "source": [
    "SelectLine = algo.DictLine.keys()\n",
    "SelectSlot = algo.DictPos.keys()\n",
    "\n",
    "fig = new_plot(algo, SelectLine, SelectSlot)"
   ]
  },
  {
   "cell_type": "code",
   "execution_count": 213,
   "id": "db8c6f4d",
   "metadata": {},
   "outputs": [
    {
     "data": {
      "text/plain": [
       "defaultdict(list, {'P1': ['T0', 'T3'], 'P0': ['T1', 'T2']})"
      ]
     },
     "execution_count": 213,
     "metadata": {},
     "output_type": "execute_result"
    },
    {
     "data": {
      "text/plain": [
       "{0: [2, 3, 4], 1: [0, 1]}"
      ]
     },
     "execution_count": 213,
     "metadata": {},
     "output_type": "execute_result"
    }
   ],
   "source": [
    "algo.PtoTConnect\n",
    "indiv['Pconnect']"
   ]
  },
  {
   "cell_type": "code",
   "execution_count": 241,
   "id": "77ffa54b",
   "metadata": {
    "collapsed": true
   },
   "outputs": [
    {
     "name": "stdout",
     "output_type": "stream",
     "text": [
      "P0 ['T2', 'T1'] ['P0-T2', 'T2-T1']\n",
      "{'T1': [('E1', 'T1')], 'T2': [('E3', 'E4'), ('E4', 'T2'), ('E4', 'E3'), ('E3', 'T2')]} ['P0-T2', 'T2-T1']\n",
      "T2 {'E4', 'E3'}\n",
      "T1 {'E1'}\n",
      "P1 ['T3', 'T0'] ['P1-T3', 'T3-T0']\n",
      "{'T0': [('E0', 'T0'), ('E2', 'T0')]} ['P1-T3', 'T3-T0']\n",
      "T0 {'E0'}\n",
      "T0 {'E2'}\n"
     ]
    },
    {
     "data": {
      "text/plain": [
       "['P0-T2',\n",
       " 'T2-E4',\n",
       " 'E4-E3',\n",
       " 'E4-C0',\n",
       " 'E4-C7',\n",
       " 'E3-C6',\n",
       " 'T2-T1',\n",
       " 'T1-E1',\n",
       " 'E1-C1',\n",
       " 'E1-C4',\n",
       " 'P1-T3',\n",
       " 'T3-T0',\n",
       " 'T0-E0',\n",
       " 'E0-C3',\n",
       " 'E0-C5',\n",
       " 'T0-E2',\n",
       " 'E2-C2']"
      ]
     },
     "execution_count": 241,
     "metadata": {},
     "output_type": "execute_result"
    }
   ],
   "source": [
    "BusTNames = []\n",
    "for p in indiv['Plist']:\n",
    "    L = Tconnection_v3(algo, indiv,p)\n",
    "    BusTNames = BusTNames + L\n",
    "BusTNames"
   ]
  },
  {
   "cell_type": "code",
   "execution_count": 141,
   "id": "802af904",
   "metadata": {},
   "outputs": [
    {
     "data": {
      "text/plain": [
       "[0, 1, 2]"
      ]
     },
     "execution_count": 141,
     "metadata": {},
     "output_type": "execute_result"
    }
   ],
   "source": [
    "algo.Comb['T']"
   ]
  },
  {
   "cell_type": "code",
   "execution_count": 242,
   "id": "6f3105bc",
   "metadata": {},
   "outputs": [
    {
     "name": "stdout",
     "output_type": "stream",
     "text": [
      "(11, 9)\n"
     ]
    },
    {
     "data": {
      "image/png": "[encoded data removed]",
      "text/plain": [
       "<Figure size 500x500 with 1 Axes>"
      ]
     },
     "metadata": {},
     "output_type": "display_data"
    }
   ],
   "source": [
    "# Plot\n",
    "row = pd.Series(indiv)\n",
    "ElemsList = ['Clist','Elist','Plist']\n",
    "Elems = ['C','E','P']\n",
    "SelectSlot = []\n",
    "List_EtoC = row.List_EtoC\n",
    "List_PtoE = row.List_PtoE\n",
    "for n in range(3):\n",
    "    SelectSlot+= ['{}{}'.format(Elems[n],i) for i in row[ElemsList[n]]]\n",
    "SelectSlot+= ['T0','T1','T2','T3']\n",
    "SelectLine = \n",
    "\n",
    "# SelectLine = indiv['BusName']\n",
    "fig = new_plot(algo, SelectLine, SelectSlot)\n",
    "fig.set_size_inches(5,5)"
   ]
  },
  {
   "cell_type": "markdown",
   "id": "7f4cd985",
   "metadata": {
    "heading_collapsed": true
   },
   "source": [
    "## refacto cluster V2"
   ]
  },
  {
   "cell_type": "code",
   "execution_count": 263,
   "id": "6b264495",
   "metadata": {
    "hidden": true
   },
   "outputs": [
    {
     "name": "stdout",
     "output_type": "stream",
     "text": [
      "CPU times: total: 0 ns\n",
      "Wall time: 2.01 ms\n"
     ]
    }
   ],
   "source": [
    "%%time\n",
    "BusTNames = Tconnection_v2(algo, indiv)\n",
    "# BusTNames"
   ]
  },
  {
   "cell_type": "code",
   "execution_count": 18,
   "id": "06b1f4be",
   "metadata": {
    "hidden": true
   },
   "outputs": [
    {
     "name": "stdout",
     "output_type": "stream",
     "text": [
      "(11, 9)\n"
     ]
    },
    {
     "data": {
      "image/png": "[encoded data removed]",
      "text/plain": [
       "<Figure size 500x500 with 1 Axes>"
      ]
     },
     "metadata": {},
     "output_type": "display_data"
    }
   ],
   "source": [
    "# Plot\n",
    "row = pd.Series(indiv)\n",
    "ElemsList = ['Clist','Elist','Plist']\n",
    "Elems = ['C','E','P']\n",
    "SelectSlot = []\n",
    "List_EtoC = row.List_EtoC\n",
    "List_PtoE = row.List_PtoE\n",
    "for n in range(3):\n",
    "    SelectSlot+= ['{}{}'.format(Elems[n],i) for i in row[ElemsList[n]]]\n",
    "SelectSlot+= ['T0','T1']\n",
    "SelectLine = BusTNames\n",
    "# SelectLine = indiv['BusName']\n",
    "fig = new_plot(algo, SelectLine, SelectSlot)\n",
    "fig.set_size_inches(5,5)"
   ]
  },
  {
   "cell_type": "code",
   "execution_count": 235,
   "id": "3f53960f",
   "metadata": {
    "hidden": true
   },
   "outputs": [
    {
     "data": {
      "text/plain": [
       "['T0', 'T1']"
      ]
     },
     "execution_count": 235,
     "metadata": {},
     "output_type": "execute_result"
    },
    {
     "data": {
      "text/plain": [
       "['P0-T0', 'T0-T1']"
      ]
     },
     "execution_count": 235,
     "metadata": {},
     "output_type": "execute_result"
    }
   ],
   "source": [
    "DictLine = algo.DictLine\n",
    "Tlist = ['T{}'.format(t) for t in algo.Comb['T']]\n",
    "G0 = nx.from_pandas_edgelist(algo.dfline, 's', 't', ['dist'])\n",
    "for i, (p,Elist) in enumerate(indiv['Pconnect'].items()): \n",
    "    pass\n",
    "p = 'P{}'.format(p)\n",
    "ElistName = ['E{}'.format(e) for e in Elist]\n",
    "Elist = ElistName.copy()\n",
    "\n",
    "\n",
    "G = G0.subgraph([p] + Tlist).copy()\n",
    "n = p\n",
    "Tconnect = [] \n",
    "TconnectPath = []\n",
    "while G.size()>0 :\n",
    "    NodesAdj  = [x[0] for x in G.adj[n].items()]\n",
    "    NodesDist = [x[1]['dist'] for x in G.adj[n].items()]\n",
    "    ns = n\n",
    "    G.remove_node(n)\n",
    "    n = NodesAdj[np.array(NodesDist).argmin()]\n",
    "    TconnectPath.append(\"{}-{}\".format(ns,n))\n",
    "    Tconnect.append(n)\n",
    "Tconnect\n",
    "TconnectPath"
   ]
  },
  {
   "cell_type": "code",
   "execution_count": 205,
   "id": "4f224127",
   "metadata": {
    "hidden": true
   },
   "outputs": [
    {
     "data": {
      "text/plain": [
       "['E0', 'E1', 'E2', 'E3', 'E4', 'E5', 'T0', 'T1']"
      ]
     },
     "execution_count": 205,
     "metadata": {},
     "output_type": "execute_result"
    },
    {
     "name": "stdout",
     "output_type": "stream",
     "text": [
      "E0 E0 E2\n",
      "E0 E2 T0\n",
      "E1 E1 T0\n",
      "E2 E2 E0\n",
      "E2 E0 E1\n",
      "E2 E1 T0\n",
      "E3 E3 T1\n",
      "E4 E4 T1\n",
      "E5 E5 E3\n",
      "E5 E3 T1\n"
     ]
    }
   ],
   "source": [
    "SlotName = ElistName + Tlist\n",
    "SlotName    \n",
    "L = []\n",
    "\n",
    "DictTpath = collections.defaultdict(list)\n",
    "for i, e0 in enumerate(Elist):\n",
    "    G = G0.subgraph(SlotName).copy()\n",
    "    n = e0\n",
    "    l = []\n",
    "    path = []\n",
    "    while n[0]!='T':\n",
    "        NodesAdj  = [x[0] for x in G.adj[n].items()]\n",
    "        NodesDist = [x[1]['dist'] for x in G.adj[n].items()]\n",
    "        ns = n\n",
    "        l.append(ns)\n",
    "        G.remove_node(n)\n",
    "        n = NodesAdj[np.array(NodesDist).argmin()]\n",
    "        print(e0,ns,n)\n",
    "        path.append((ns,n))\n",
    "    DictTpath[n] = DictTpath[n] + path\n",
    "    L.append(l)\n",
    "    # print(n,e0,l , path, np.argmax(A == e0, axis=1)) \n",
    "# passage hotvectors pour clustering => regrouper les lignes avec des E communs"
   ]
  },
  {
   "cell_type": "raw",
   "id": "9a01a79b",
   "metadata": {
    "hidden": true
   },
   "source": [
    "#4.62 ms ± 54.2 µs per loop (mean ± std. dev. of 7 runs, 100 loops each)\n",
    "X =pd.get_dummies(pd.Series(L).explode()).groupby(level=0).sum().values\n",
    "kmeans = KMeans(n_clusters=2, random_state=0, n_init=\"auto\").fit(X)\n",
    "group = kmeans.labels_\n",
    "group\n",
    "gr = collections.defaultdict(list)\n",
    "for i, g in enumerate(group):\n",
    "    gr[g].append(Elist[i])\n",
    "dict(gr)"
   ]
  },
  {
   "cell_type": "code",
   "execution_count": 216,
   "id": "4bf41ea1",
   "metadata": {
    "hidden": true
   },
   "outputs": [
    {
     "data": {
      "text/plain": [
       "['P0-T0', 'T0-T1']"
      ]
     },
     "execution_count": 216,
     "metadata": {},
     "output_type": "execute_result"
    }
   ],
   "source": [
    "TconnectPath"
   ]
  },
  {
   "cell_type": "code",
   "execution_count": 221,
   "id": "4058ed42",
   "metadata": {
    "hidden": true
   },
   "outputs": [
    {
     "data": {
      "text/plain": [
       "['T0', 'E1', 'E0', 'E2']"
      ]
     },
     "execution_count": 221,
     "metadata": {},
     "output_type": "execute_result"
    },
    {
     "data": {
      "text/plain": [
       "['T1', 'E3', 'E5']"
      ]
     },
     "execution_count": 221,
     "metadata": {},
     "output_type": "execute_result"
    },
    {
     "data": {
      "text/plain": [
       "['T1', 'E4']"
      ]
     },
     "execution_count": 221,
     "metadata": {},
     "output_type": "execute_result"
    },
    {
     "data": {
      "text/plain": [
       "['P0-T0',\n",
       " 'T0-E1',\n",
       " 'E1-E0',\n",
       " 'E0-E2',\n",
       " 'E2-C1',\n",
       " 'E0-C6',\n",
       " 'E1-C0',\n",
       " 'E1-C4',\n",
       " 'T0-T1',\n",
       " 'T1-E3',\n",
       " 'E3-E5',\n",
       " 'E5-C7',\n",
       " 'E3-C5',\n",
       " 'T1-E4',\n",
       " 'E4-C2',\n",
       " 'E4-C3']"
      ]
     },
     "execution_count": 221,
     "metadata": {},
     "output_type": "execute_result"
    }
   ],
   "source": [
    "#16.6 µs ± 55 ns per loop (mean ± std. dev. of 7 runs, 100,000 loops each)\n",
    "Lgroup = []\n",
    "G0 = nx.from_pandas_edgelist(algo.dfline, 's', 't', ['dist'])\n",
    "BusTNames = []\n",
    "for i in range(len(Tconnect)):\n",
    "    t = Tconnect[i]    \n",
    "    path = dict(DictTpath)[t]\n",
    "    BusTNames.append(TconnectPath[i])\n",
    "    Gg = nx.Graph(path)\n",
    "    Gg.remove_node(t)\n",
    "    List_sub_G = nx.connected_components(Gg)\n",
    "    for e_list in List_sub_G:        \n",
    "        Glist = [t] + list(e_list)\n",
    "        G = G0.subgraph(Glist).copy()\n",
    "        n = t\n",
    "        FinalPath  = [n]    \n",
    "        while G.size()>0 :\n",
    "            NodesAdj  = [x[0] for x in G.adj[n].items()]\n",
    "            NodesDist = [x[1]['dist'] for x in G.adj[n].items()]\n",
    "            ns = n\n",
    "            G.remove_node(n)\n",
    "            n = NodesAdj[np.array(NodesDist).argmin()]\n",
    "            FinalPath.append(n)\n",
    "            BusTNames.append(\"{}-{}\".format(ns,n))\n",
    "        for e in e_list:\n",
    "            Clist = indiv['Econnect'][int(e[1:])]\n",
    "            for c in Clist:\n",
    "                BusTNames.append(\"{}-C{}\".format(e,c))\n",
    "        FinalPath\n",
    "BusTNames\n"
   ]
  },
  {
   "cell_type": "code",
   "execution_count": 234,
   "id": "6cbfc135",
   "metadata": {
    "hidden": true
   },
   "outputs": [
    {
     "name": "stdout",
     "output_type": "stream",
     "text": [
      "(11, 9)\n"
     ]
    },
    {
     "data": {
      "image/png": "[encoded data removed]",
      "text/plain": [
       "<Figure size 500x500 with 1 Axes>"
      ]
     },
     "metadata": {},
     "output_type": "display_data"
    }
   ],
   "source": [
    "# Plot\n",
    "row = pd.Series(indiv)\n",
    "ElemsList = ['Clist','Elist','Plist']\n",
    "Elems = ['C','E','P']\n",
    "SelectSlot = []\n",
    "List_EtoC = row.List_EtoC\n",
    "List_PtoE = row.List_PtoE\n",
    "for n in range(3):\n",
    "    SelectSlot+= ['{}{}'.format(Elems[n],i) for i in row[ElemsList[n]]]\n",
    "SelectSlot+= ['T0','T1']\n",
    "SelectLine = BusTNames\n",
    "# SelectLine = indiv['BusName']\n",
    "fig = new_plot(algo, SelectLine, SelectSlot)\n",
    "fig.set_size_inches(5,5)"
   ]
  },
  {
   "cell_type": "code",
   "execution_count": 224,
   "id": "c2cecc15",
   "metadata": {
    "hidden": true
   },
   "outputs": [
    {
     "data": {
      "text/html": [
       "<div>\n",
       "<style scoped>\n",
       "    .dataframe tbody tr th:only-of-type {\n",
       "        vertical-align: middle;\n",
       "    }\n",
       "\n",
       "    .dataframe tbody tr th {\n",
       "        vertical-align: top;\n",
       "    }\n",
       "\n",
       "    .dataframe thead th {\n",
       "        text-align: right;\n",
       "    }\n",
       "</style>\n",
       "<table border=\"1\" class=\"dataframe\">\n",
       "  <thead>\n",
       "    <tr style=\"text-align: right;\">\n",
       "      <th></th>\n",
       "      <th>ID</th>\n",
       "      <th>path</th>\n",
       "      <th>dist</th>\n",
       "      <th>duriteType</th>\n",
       "      <th>s</th>\n",
       "      <th>t</th>\n",
       "      <th>Connect</th>\n",
       "      <th>duriteVal</th>\n",
       "    </tr>\n",
       "  </thead>\n",
       "  <tbody>\n",
       "  </tbody>\n",
       "</table>\n",
       "</div>"
      ],
      "text/plain": [
       "Empty DataFrame\n",
       "Columns: [ID, path, dist, duriteType, s, t, Connect, duriteVal]\n",
       "Index: []"
      ]
     },
     "execution_count": 224,
     "metadata": {},
     "output_type": "execute_result"
    }
   ],
   "source": [
    "dfline[dfline.Connect == 'TT']"
   ]
  },
  {
   "cell_type": "raw",
   "id": "50bdef6b",
   "metadata": {
    "hidden": true
   },
   "source": [
    "DG = nx.Graph(path)\n",
    "list(nx.edge_dfs(DG))\n",
    "\n",
    "nx.draw(nx.Graph(list(nx.edge_dfs(DG))), with_labels = True)\n",
    "# nx.draw(DG, with_labels = True)"
   ]
  },
  {
   "cell_type": "raw",
   "id": "3fe75f04",
   "metadata": {
    "hidden": true
   },
   "source": [
    "SlotName\n",
    "G = G0.subgraph(SlotName).copy()\n",
    "list(nx.bfs_edges(G, \"T0\"))\n",
    "nx.draw(G, with_labels = True)\n",
    "list(nx.connected_components(G))"
   ]
  },
  {
   "cell_type": "code",
   "execution_count": 198,
   "id": "b02a9300",
   "metadata": {
    "collapsed": true,
    "hidden": true
   },
   "outputs": [
    {
     "ename": "NetworkXError",
     "evalue": "The node T0 is not in the graph.",
     "output_type": "error",
     "traceback": [
      "\u001b[1;31m---------------------------------------------------------------------------\u001b[0m",
      "\u001b[1;31mKeyError\u001b[0m                                  Traceback (most recent call last)",
      "File \u001b[1;32m~\\anaconda3\\envs\\base2\\lib\\site-packages\\networkx\\classes\\graph.py:1354\u001b[0m, in \u001b[0;36mGraph.neighbors\u001b[1;34m(self, n)\u001b[0m\n\u001b[0;32m   1353\u001b[0m \u001b[38;5;28;01mtry\u001b[39;00m:\n\u001b[1;32m-> 1354\u001b[0m     \u001b[38;5;28;01mreturn\u001b[39;00m \u001b[38;5;28miter\u001b[39m(\u001b[38;5;28;43mself\u001b[39;49m\u001b[38;5;241;43m.\u001b[39;49m\u001b[43m_adj\u001b[49m\u001b[43m[\u001b[49m\u001b[43mn\u001b[49m\u001b[43m]\u001b[49m)\n\u001b[0;32m   1355\u001b[0m \u001b[38;5;28;01mexcept\u001b[39;00m \u001b[38;5;167;01mKeyError\u001b[39;00m \u001b[38;5;28;01mas\u001b[39;00m err:\n",
      "\u001b[1;31mKeyError\u001b[0m: 'T0'",
      "\nThe above exception was the direct cause of the following exception:\n",
      "\u001b[1;31mNetworkXError\u001b[0m                             Traceback (most recent call last)",
      "Cell \u001b[1;32mIn[198], line 2\u001b[0m\n\u001b[0;32m      1\u001b[0m G \u001b[38;5;241m=\u001b[39m nx\u001b[38;5;241m.\u001b[39mGraph(path)\n\u001b[1;32m----> 2\u001b[0m \u001b[38;5;28;43mlist\u001b[39;49m\u001b[43m(\u001b[49m\u001b[43mnx\u001b[49m\u001b[38;5;241;43m.\u001b[39;49m\u001b[43mbfs_edges\u001b[49m\u001b[43m(\u001b[49m\u001b[43mG\u001b[49m\u001b[43m,\u001b[49m\u001b[43m \u001b[49m\u001b[38;5;124;43m\"\u001b[39;49m\u001b[38;5;124;43mT0\u001b[39;49m\u001b[38;5;124;43m\"\u001b[39;49m\u001b[43m)\u001b[49m\u001b[43m)\u001b[49m\n\u001b[0;32m      3\u001b[0m G\u001b[38;5;241m.\u001b[39mremove_node(\u001b[38;5;124m'\u001b[39m\u001b[38;5;124mT0\u001b[39m\u001b[38;5;124m'\u001b[39m)\n\u001b[0;32m      4\u001b[0m \u001b[38;5;66;03m# isolates = list(nx.isolates(G))\u001b[39;00m\n\u001b[0;32m      5\u001b[0m \u001b[38;5;66;03m# isolates\u001b[39;00m\n\u001b[0;32m      6\u001b[0m \u001b[38;5;66;03m# G.remove_node(isolates)\u001b[39;00m\n\u001b[0;32m      7\u001b[0m \u001b[38;5;66;03m# nx.draw(G, with_labels = True)\u001b[39;00m\n",
      "File \u001b[1;32m~\\anaconda3\\envs\\base2\\lib\\site-packages\\networkx\\algorithms\\traversal\\breadth_first_search.py:170\u001b[0m, in \u001b[0;36mbfs_edges\u001b[1;34m(G, source, reverse, depth_limit, sort_neighbors)\u001b[0m\n\u001b[0;32m    168\u001b[0m \u001b[38;5;28;01melse\u001b[39;00m:\n\u001b[0;32m    169\u001b[0m     successors \u001b[38;5;241m=\u001b[39m G\u001b[38;5;241m.\u001b[39mneighbors\n\u001b[1;32m--> 170\u001b[0m \u001b[38;5;28;01myield from\u001b[39;00m generic_bfs_edges(G, source, successors, depth_limit, sort_neighbors)\n",
      "File \u001b[1;32m~\\anaconda3\\envs\\base2\\lib\\site-packages\\networkx\\algorithms\\traversal\\breadth_first_search.py:77\u001b[0m, in \u001b[0;36mgeneric_bfs_edges\u001b[1;34m(G, source, neighbors, depth_limit, sort_neighbors)\u001b[0m\n\u001b[0;32m     75\u001b[0m \u001b[38;5;28;01mif\u001b[39;00m depth_limit \u001b[38;5;129;01mis\u001b[39;00m \u001b[38;5;28;01mNone\u001b[39;00m:\n\u001b[0;32m     76\u001b[0m     depth_limit \u001b[38;5;241m=\u001b[39m \u001b[38;5;28mlen\u001b[39m(G)\n\u001b[1;32m---> 77\u001b[0m queue \u001b[38;5;241m=\u001b[39m deque([(source, depth_limit, \u001b[43mneighbors\u001b[49m\u001b[43m(\u001b[49m\u001b[43msource\u001b[49m\u001b[43m)\u001b[49m)])\n\u001b[0;32m     78\u001b[0m \u001b[38;5;28;01mwhile\u001b[39;00m queue:\n\u001b[0;32m     79\u001b[0m     parent, depth_now, children \u001b[38;5;241m=\u001b[39m queue[\u001b[38;5;241m0\u001b[39m]\n",
      "File \u001b[1;32m~\\anaconda3\\envs\\base2\\lib\\site-packages\\networkx\\classes\\graph.py:1356\u001b[0m, in \u001b[0;36mGraph.neighbors\u001b[1;34m(self, n)\u001b[0m\n\u001b[0;32m   1354\u001b[0m     \u001b[38;5;28;01mreturn\u001b[39;00m \u001b[38;5;28miter\u001b[39m(\u001b[38;5;28mself\u001b[39m\u001b[38;5;241m.\u001b[39m_adj[n])\n\u001b[0;32m   1355\u001b[0m \u001b[38;5;28;01mexcept\u001b[39;00m \u001b[38;5;167;01mKeyError\u001b[39;00m \u001b[38;5;28;01mas\u001b[39;00m err:\n\u001b[1;32m-> 1356\u001b[0m     \u001b[38;5;28;01mraise\u001b[39;00m NetworkXError(\u001b[38;5;124mf\u001b[39m\u001b[38;5;124m\"\u001b[39m\u001b[38;5;124mThe node \u001b[39m\u001b[38;5;132;01m{\u001b[39;00mn\u001b[38;5;132;01m}\u001b[39;00m\u001b[38;5;124m is not in the graph.\u001b[39m\u001b[38;5;124m\"\u001b[39m) \u001b[38;5;28;01mfrom\u001b[39;00m \u001b[38;5;21;01merr\u001b[39;00m\n",
      "\u001b[1;31mNetworkXError\u001b[0m: The node T0 is not in the graph."
     ]
    }
   ],
   "source": [
    "G = nx.Graph(path)\n",
    "list(nx.bfs_edges(G, \"T0\"))\n",
    "G.remove_node('T0')\n",
    "# isolates = list(nx.isolates(G))\n",
    "# isolates\n",
    "# G.remove_node(isolates)\n",
    "# nx.draw(G, with_labels = True)\n",
    "sub_graphs = nx.connected_components(G)\n",
    "sub_graphs = list(sub_graphs)\n",
    "list(sub_graphs[0])\n",
    "sub_graphs\n",
    "# list(sub_graphs)\n",
    "# list(sub_graphs)\n",
    "# G = sub_graphs[0]\n",
    "# nx.draw(G, with_labels = True)"
   ]
  },
  {
   "cell_type": "code",
   "execution_count": null,
   "id": "f586dc78",
   "metadata": {
    "hidden": true
   },
   "outputs": [],
   "source": [
    "G0 = nx.Graph(path)\n",
    "\n",
    "for T in Tlist:\n",
    "    G = G.copy()\n",
    "    "
   ]
  },
  {
   "cell_type": "code",
   "execution_count": null,
   "id": "597ee04c",
   "metadata": {
    "hidden": true
   },
   "outputs": [],
   "source": [
    "G = G0.subgraph(SlotName).copy()"
   ]
  },
  {
   "cell_type": "code",
   "execution_count": null,
   "id": "f01cbe3c",
   "metadata": {
    "hidden": true
   },
   "outputs": [],
   "source": []
  },
  {
   "cell_type": "markdown",
   "id": "68c31008",
   "metadata": {
    "heading_collapsed": true
   },
   "source": [
    "## save perf graph create copy"
   ]
  },
  {
   "cell_type": "code",
   "execution_count": 16,
   "id": "8c321d87",
   "metadata": {
    "hidden": true
   },
   "outputs": [
    {
     "name": "stdout",
     "output_type": "stream",
     "text": [
      "CPU times: total: 0 ns\n",
      "Wall time: 6.95 ms\n"
     ]
    }
   ],
   "source": [
    "%%time\n",
    "BusTNames, distT = T_connection(algo, indiv)\n",
    "# BusTNames"
   ]
  },
  {
   "cell_type": "code",
   "execution_count": 17,
   "id": "4bd42ef9",
   "metadata": {
    "hidden": true
   },
   "outputs": [
    {
     "name": "stdout",
     "output_type": "stream",
     "text": [
      "CPU times: total: 0 ns\n",
      "Wall time: 2.53 ms\n"
     ]
    }
   ],
   "source": [
    "%%time\n",
    "BusTNames = Tconnection_v2(algo, indiv)\n",
    "# BusTNames"
   ]
  },
  {
   "cell_type": "code",
   "execution_count": 20,
   "id": "20b351dc",
   "metadata": {
    "hidden": true
   },
   "outputs": [
    {
     "name": "stdout",
     "output_type": "stream",
     "text": [
      "CPU times: total: 0 ns\n",
      "Wall time: 1.39 ms\n"
     ]
    }
   ],
   "source": [
    "%%time\n",
    "BusTNames = Tconnection_v2(algo, indiv)"
   ]
  },
  {
   "cell_type": "code",
   "execution_count": 21,
   "id": "72108f62",
   "metadata": {
    "hidden": true
   },
   "outputs": [
    {
     "name": "stdout",
     "output_type": "stream",
     "text": [
      "CPU times: total: 0 ns\n",
      "Wall time: 993 µs\n"
     ]
    }
   ],
   "source": [
    "%%time\n",
    "BusTNames = Tconnection_v2(algo, indiv)"
   ]
  },
  {
   "cell_type": "code",
   "execution_count": 25,
   "id": "ab0c2100",
   "metadata": {
    "hidden": true
   },
   "outputs": [
    {
     "name": "stdout",
     "output_type": "stream",
     "text": [
      "CPU times: total: 0 ns\n",
      "Wall time: 498 µs\n"
     ]
    }
   ],
   "source": [
    "%%time\n",
    "BusTNames = Tconnection_v2(algo, indiv)"
   ]
  },
  {
   "cell_type": "code",
   "execution_count": 37,
   "id": "1a2d41de",
   "metadata": {
    "hidden": true
   },
   "outputs": [
    {
     "name": "stdout",
     "output_type": "stream",
     "text": [
      "289 µs ± 5.88 µs per loop (mean ± std. dev. of 7 runs, 1,000 loops each)\n"
     ]
    }
   ],
   "source": [
    "%%timeit\n",
    "BusTNames = Tconnection_v2(algo, indiv)"
   ]
  },
  {
   "cell_type": "code",
   "execution_count": 76,
   "id": "a5507bf0",
   "metadata": {
    "hidden": true
   },
   "outputs": [
    {
     "name": "stdout",
     "output_type": "stream",
     "text": [
      "946 µs ± 29.6 µs per loop (mean ± std. dev. of 7 runs, 1,000 loops each)\n"
     ]
    }
   ],
   "source": [
    "%%timeit\n",
    "BusTNames = Tconnection_v2(algo, indiv)"
   ]
  },
  {
   "cell_type": "code",
   "execution_count": 77,
   "id": "504498a5",
   "metadata": {
    "hidden": true
   },
   "outputs": [
    {
     "name": "stdout",
     "output_type": "stream",
     "text": [
      "1.26 ms ± 22.9 µs per loop (mean ± std. dev. of 7 runs, 1,000 loops each)\n"
     ]
    }
   ],
   "source": [
    "%%timeit\n",
    "BusTNames = Tconnection_v2(algo, indiv)"
   ]
  },
  {
   "cell_type": "code",
   "execution_count": 79,
   "id": "eb77007a",
   "metadata": {
    "hidden": true
   },
   "outputs": [],
   "source": [
    "BusTNames = Tconnection_v2(algo, indiv)"
   ]
  },
  {
   "cell_type": "code",
   "execution_count": 53,
   "id": "78b8b125",
   "metadata": {
    "hidden": true
   },
   "outputs": [
    {
     "name": "stdout",
     "output_type": "stream",
     "text": [
      "193 µs ± 11 µs per loop (mean ± std. dev. of 7 runs, 1,000 loops each)\n"
     ]
    }
   ],
   "source": [
    "%%timeit\n",
    "G0 = nx.from_pandas_edgelist(algo.dfline, 's', 't', ['dist'])"
   ]
  },
  {
   "cell_type": "code",
   "execution_count": 55,
   "id": "fd680415",
   "metadata": {
    "hidden": true
   },
   "outputs": [
    {
     "name": "stdout",
     "output_type": "stream",
     "text": [
      "201 µs ± 3.97 µs per loop (mean ± std. dev. of 7 runs, 1,000 loops each)\n"
     ]
    }
   ],
   "source": [
    "%%timeit\n",
    "G0 = nx.from_pandas_edgelist(algo.dfline, 's', 't', ['dist'])\n",
    "G0.remove_node('E4')"
   ]
  },
  {
   "cell_type": "code",
   "execution_count": 57,
   "id": "5d380151",
   "metadata": {
    "hidden": true
   },
   "outputs": [
    {
     "name": "stdout",
     "output_type": "stream",
     "text": [
      "368 µs ± 5.97 µs per loop (mean ± std. dev. of 7 runs, 1,000 loops each)\n"
     ]
    }
   ],
   "source": [
    "%%timeit\n",
    "G0 = nx.from_pandas_edgelist(algo.dfline, 's', 't', ['dist'])\n",
    "G = G0.copy()"
   ]
  },
  {
   "cell_type": "code",
   "execution_count": 60,
   "id": "3c9f5150",
   "metadata": {
    "hidden": true
   },
   "outputs": [
    {
     "name": "stdout",
     "output_type": "stream",
     "text": [
      "470 µs ± 8.94 µs per loop (mean ± std. dev. of 7 runs, 1,000 loops each)\n"
     ]
    }
   ],
   "source": [
    "%%timeit\n",
    "# G0 = nx.from_pandas_edgelist(algo.dfline, 's', 't', ['dist'])\n",
    "G = copy.deepcopy(G0)"
   ]
  },
  {
   "cell_type": "code",
   "execution_count": 61,
   "id": "a70ad7fc",
   "metadata": {
    "hidden": true
   },
   "outputs": [
    {
     "name": "stdout",
     "output_type": "stream",
     "text": [
      "173 µs ± 687 ns per loop (mean ± std. dev. of 7 runs, 10,000 loops each)\n"
     ]
    }
   ],
   "source": [
    "%%timeit\n",
    "G = G0.copy()"
   ]
  },
  {
   "cell_type": "code",
   "execution_count": 58,
   "id": "03db3c33",
   "metadata": {
    "hidden": true
   },
   "outputs": [
    {
     "name": "stdout",
     "output_type": "stream",
     "text": [
      "30.6 µs ± 884 ns per loop (mean ± std. dev. of 7 runs, 10,000 loops each)\n"
     ]
    }
   ],
   "source": [
    "%%timeit\n",
    "dfx = dfline.copy()"
   ]
  },
  {
   "cell_type": "code",
   "execution_count": 39,
   "id": "4fd1bd14",
   "metadata": {
    "hidden": true
   },
   "outputs": [
    {
     "name": "stdout",
     "output_type": "stream",
     "text": [
      "115 µs ± 1.25 µs per loop (mean ± std. dev. of 7 runs, 10,000 loops each)\n"
     ]
    }
   ],
   "source": [
    "%%timeit\n",
    "G = G0.subgraph(['E0', 'E1', 'E2', 'E3', 'E4', 'E5']).copy()"
   ]
  },
  {
   "cell_type": "code",
   "execution_count": 57,
   "id": "d14d7b30",
   "metadata": {
    "hidden": true
   },
   "outputs": [
    {
     "name": "stdout",
     "output_type": "stream",
     "text": [
      "368 µs ± 5.97 µs per loop (mean ± std. dev. of 7 runs, 1,000 loops each)\n"
     ]
    }
   ],
   "source": [
    "%%timeit\n",
    "G0 = nx.from_pandas_edgelist(algo.dfline, 's', 't', ['dist'])\n",
    "G = G0.copy()"
   ]
  },
  {
   "cell_type": "code",
   "execution_count": null,
   "id": "22613793",
   "metadata": {
    "hidden": true
   },
   "outputs": [],
   "source": []
  },
  {
   "cell_type": "markdown",
   "id": "daa27243",
   "metadata": {
    "heading_collapsed": true
   },
   "source": [
    "## refacto cluster "
   ]
  },
  {
   "cell_type": "code",
   "execution_count": 39,
   "id": "00e53c15",
   "metadata": {
    "hidden": true
   },
   "outputs": [
    {
     "data": {
      "text/plain": [
       "array([[0, 1, 0, 0, 1, 0],\n",
       "       [1, 1, 0, 0, 0, 0],\n",
       "       [1, 1, 0, 0, 1, 1],\n",
       "       [0, 1, 0, 0, 1, 0],\n",
       "       [1, 0, 0, 1, 0, 1],\n",
       "       [0, 0, 1, 0, 0, 0]])"
      ]
     },
     "execution_count": 39,
     "metadata": {},
     "output_type": "execute_result"
    }
   ],
   "source": [
    "A = np.random.randint(0,2,(6,6))\n",
    "A"
   ]
  },
  {
   "cell_type": "code",
   "execution_count": 40,
   "id": "40b50722",
   "metadata": {
    "hidden": true
   },
   "outputs": [],
   "source": [
    "def Path_N(A,start): \n",
    "    N = len(A)\n",
    "    v0 = np.array([-1,1,-N,N])\n",
    "    #     v0 = np.array([-1,1,-N,N, -N-1, -N+1,N+1,N-1])\n",
    "    Dim = len(v0)\n",
    "    e = 2\n",
    "    A[start] = e\n",
    "    a = A.reshape(-1)\n",
    "    v = np.where(a == e)  \n",
    "\n",
    "    while len(v) > 0 :\n",
    "        v = np.tile(v, (Dim, 1)).T + v0\n",
    "        v = v[np.where(a[v]==1)]\n",
    "        v = np.unique(v)        \n",
    "        e+=1\n",
    "        a[v]=e\n",
    "    return a.reshape((N,N))"
   ]
  },
  {
   "cell_type": "code",
   "execution_count": 42,
   "id": "1693a096",
   "metadata": {
    "hidden": true
   },
   "outputs": [
    {
     "data": {
      "text/plain": [
       "array([1, 1, 1, 1, 0, 1])"
      ]
     },
     "execution_count": 42,
     "metadata": {},
     "output_type": "execute_result"
    }
   ],
   "source": [
    "kmeans = KMeans(n_clusters=2, random_state=0, n_init=\"auto\").fit(A)\n",
    "kmeans.labels_"
   ]
  },
  {
   "cell_type": "code",
   "execution_count": 37,
   "id": "8ed6e40d",
   "metadata": {
    "hidden": true
   },
   "outputs": [
    {
     "data": {
      "text/plain": [
       "array([[0, 1, 0, 1, 0, 1],\n",
       "       [1, 0, 1, 0, 0, 0],\n",
       "       [1, 1, 0, 0, 1, 0],\n",
       "       [0, 1, 1, 0, 1, 1],\n",
       "       [0, 1, 0, 1, 0, 1],\n",
       "       [0, 0, 1, 0, 0, 1]])"
      ]
     },
     "execution_count": 37,
     "metadata": {},
     "output_type": "execute_result"
    }
   ],
   "source": [
    "A"
   ]
  },
  {
   "cell_type": "code",
   "execution_count": 43,
   "id": "80100ffe",
   "metadata": {
    "hidden": true
   },
   "outputs": [
    {
     "data": {
      "text/plain": [
       "array([[2, 0, 4],\n",
       "       [0, 5, 4],\n",
       "       [0, 4, 3]])"
      ]
     },
     "execution_count": 43,
     "metadata": {},
     "output_type": "execute_result"
    }
   ],
   "source": [
    "Path_N(A.copy(),(0,0))"
   ]
  },
  {
   "cell_type": "code",
   "execution_count": 38,
   "id": "881fce91",
   "metadata": {
    "hidden": true
   },
   "outputs": [],
   "source": [
    "height , width = A.shape\n",
    "Zlen = height * width\n",
    "z0 = np.zeros((height+2,width+2,) , dtype= int)\n",
    "cross  = np.array([(-1,0),(0,-1),(1,0),(0,1)])\n",
    "Z = np.full((Zlen,Zlen), False)\n",
    "\n",
    "for i, pos in enumerate(np.ndindex(z0[1:-1,1:-1].shape)): \n",
    "    z = z0.copy()\n",
    "    mask = np.array(pos)+1 + cross\n",
    "    z[mask[:,0], mask[:,1]] = 1\n",
    "    Z[i,: ] = z[1:-1,1:-1].reshape(-1)\n",
    "# plt.imshow(Z)"
   ]
  },
  {
   "cell_type": "code",
   "execution_count": 149,
   "id": "bece9493",
   "metadata": {
    "hidden": true
   },
   "outputs": [
    {
     "data": {
      "text/plain": [
       "array([[0, 0, 0],\n",
       "       [0, 0, 0],\n",
       "       [0, 0, 0]])"
      ]
     },
     "execution_count": 149,
     "metadata": {},
     "output_type": "execute_result"
    }
   ],
   "source": [
    "A"
   ]
  },
  {
   "cell_type": "code",
   "execution_count": 129,
   "id": "dd408235",
   "metadata": {
    "hidden": true,
    "scrolled": true
   },
   "outputs": [
    {
     "data": {
      "text/plain": [
       "array([], dtype=int32)"
      ]
     },
     "execution_count": 129,
     "metadata": {},
     "output_type": "execute_result"
    }
   ],
   "source": [
    "import numpy as np\n",
    "import numpy.lib.arraysetops as aso\n",
    "\n",
    "a=np.array([2, 1, 3, 3, 3])\n",
    "b=np.array([1, 2, 3, 3, 3])\n",
    "\n",
    "aso.setdiff1d(a, b)"
   ]
  },
  {
   "cell_type": "code",
   "execution_count": null,
   "id": "c8624b3a",
   "metadata": {
    "hidden": true
   },
   "outputs": [],
   "source": []
  },
  {
   "cell_type": "code",
   "execution_count": 159,
   "id": "6f1e86f5",
   "metadata": {
    "hidden": true
   },
   "outputs": [
    {
     "data": {
      "text/plain": [
       "array([[0, 1, 1],\n",
       "       [1, 0, 1],\n",
       "       [0, 0, 1]])"
      ]
     },
     "execution_count": 159,
     "metadata": {},
     "output_type": "execute_result"
    }
   ],
   "source": [
    "A = np.random.randint(0,2,(3,3))\n",
    "A"
   ]
  },
  {
   "cell_type": "code",
   "execution_count": 254,
   "id": "73b484fa",
   "metadata": {
    "hidden": true
   },
   "outputs": [
    {
     "data": {
      "text/plain": [
       "array([2, 2, 1])"
      ]
     },
     "execution_count": 254,
     "metadata": {},
     "output_type": "execute_result"
    },
    {
     "data": {
      "text/plain": [
       "array([1, 1, 3])"
      ]
     },
     "execution_count": 254,
     "metadata": {},
     "output_type": "execute_result"
    }
   ],
   "source": [
    "A.sum(1)\n",
    "A.sum(0)"
   ]
  },
  {
   "cell_type": "code",
   "execution_count": 256,
   "id": "8019f8ea",
   "metadata": {
    "hidden": true
   },
   "outputs": [
    {
     "data": {
      "text/plain": [
       "array([[ 0.,  1., -1.],\n",
       "       [ 1.,  0., -1.],\n",
       "       [ 0.,  0.,  1.]])"
      ]
     },
     "execution_count": 256,
     "metadata": {},
     "output_type": "execute_result"
    }
   ],
   "source": [
    "np.linalg.inv(A)"
   ]
  },
  {
   "cell_type": "code",
   "execution_count": 243,
   "id": "751b570b",
   "metadata": {
    "hidden": true
   },
   "outputs": [
    {
     "data": {
      "text/plain": [
       "array([[False,  True, False,  True, False, False, False, False, False],\n",
       "       [ True, False,  True, False,  True, False, False, False, False],\n",
       "       [False,  True, False, False, False,  True, False, False, False],\n",
       "       [ True, False, False, False,  True, False,  True, False, False],\n",
       "       [False,  True, False,  True, False,  True, False,  True, False],\n",
       "       [False, False,  True, False,  True, False, False, False,  True],\n",
       "       [False, False, False,  True, False, False, False,  True, False],\n",
       "       [False, False, False, False,  True, False,  True, False,  True],\n",
       "       [False, False, False, False, False,  True, False,  True, False]])"
      ]
     },
     "execution_count": 243,
     "metadata": {},
     "output_type": "execute_result"
    }
   ],
   "source": [
    "Z"
   ]
  },
  {
   "cell_type": "code",
   "execution_count": 212,
   "id": "71d4f7d2",
   "metadata": {
    "hidden": true
   },
   "outputs": [
    {
     "data": {
      "text/plain": [
       "array([ True,  True])"
      ]
     },
     "execution_count": 212,
     "metadata": {},
     "output_type": "execute_result"
    }
   ],
   "source": [
    "np.array([False,True]) | np.array([True,True])"
   ]
  },
  {
   "cell_type": "code",
   "execution_count": 231,
   "id": "2300f990",
   "metadata": {
    "hidden": true
   },
   "outputs": [],
   "source": [
    "def Pos_(x,width): \n",
    "    return  (x/width).astype(int)"
   ]
  },
  {
   "cell_type": "code",
   "execution_count": null,
   "id": "1b01a0e7",
   "metadata": {
    "hidden": true
   },
   "outputs": [],
   "source": [
    "G0 = nx.from_pandas_edgelist(dfline, 's', 't', ['dist'])"
   ]
  },
  {
   "cell_type": "code",
   "execution_count": 66,
   "id": "85c36fb8",
   "metadata": {
    "hidden": true
   },
   "outputs": [
    {
     "ename": "NameError",
     "evalue": "name 'G' is not defined",
     "output_type": "error",
     "traceback": [
      "\u001b[1;31m---------------------------------------------------------------------------\u001b[0m",
      "\u001b[1;31mNameError\u001b[0m                                 Traceback (most recent call last)",
      "Cell \u001b[1;32mIn[66], line 1\u001b[0m\n\u001b[1;32m----> 1\u001b[0m (G\u001b[38;5;241m.\u001b[39msubgraph(c)\u001b[38;5;241m.\u001b[39mcopy() \u001b[38;5;28;01mfor\u001b[39;00m c \u001b[38;5;129;01min\u001b[39;00m nx\u001b[38;5;241m.\u001b[39mconnected_components(\u001b[43mG\u001b[49m))\n",
      "\u001b[1;31mNameError\u001b[0m: name 'G' is not defined"
     ]
    }
   ],
   "source": [
    "(G.subgraph(c).copy() for c in nx.connected_components(G))"
   ]
  },
  {
   "cell_type": "code",
   "execution_count": 59,
   "id": "0d07b193",
   "metadata": {
    "hidden": true
   },
   "outputs": [
    {
     "name": "stdout",
     "output_type": "stream",
     "text": [
      "290 µs ± 5.15 µs per loop (mean ± std. dev. of 7 runs, 1,000 loops each)\n"
     ]
    }
   ],
   "source": [
    "%%timeit\n",
    "A0 = A.copy()\n",
    "a0 = A0.ravel()\n",
    "# a0.reshape(A.shape)*1\n",
    "L = []\n",
    "while (a0!=0).any():\n",
    "    start = np.argmax(a0==1)\n",
    "    x = np.zeros(len(a0) , dtype=bool)\n",
    "    xs = x.copy()\n",
    "    x[start] = True\n",
    "#     start ,x.reshape(A.shape)*1\n",
    "    cond = (a0>0)\n",
    "    while (xs!=x).any():\n",
    "        xs = x.copy()\n",
    "        x = ((Z[:,:]*(x)).any(1)) | x\n",
    "        x=x*cond\n",
    "#     set(np.where(x.reshape(A.shape))[1])\n",
    "    List  = list(set(np.where(x.reshape(A.shape))[1]))\n",
    "#     List\n",
    "    a0[x] = 0\n",
    "#     x.reshape(A.shape).any(0)\n",
    "#     # \n",
    "#     'a0[x]',a0.reshape(A.shape)*1\n",
    "    L.append((List))\n",
    "# L\n",
    "\n"
   ]
  },
  {
   "cell_type": "code",
   "execution_count": 56,
   "id": "b21f8c9c",
   "metadata": {
    "hidden": true
   },
   "outputs": [
    {
     "data": {
      "text/plain": [
       "array([[0, 1, 0, 0, 1, 0],\n",
       "       [1, 1, 0, 0, 0, 0],\n",
       "       [1, 1, 0, 0, 1, 1],\n",
       "       [0, 1, 0, 0, 1, 0],\n",
       "       [1, 0, 0, 1, 0, 1],\n",
       "       [0, 0, 1, 0, 0, 0]])"
      ]
     },
     "execution_count": 56,
     "metadata": {},
     "output_type": "execute_result"
    }
   ],
   "source": [
    "A"
   ]
  },
  {
   "cell_type": "code",
   "execution_count": 57,
   "id": "5cf0d629",
   "metadata": {
    "hidden": true
   },
   "outputs": [
    {
     "data": {
      "text/plain": [
       "[[0, 1], [4], [4, 5], [0], [3], [5], [2]]"
      ]
     },
     "execution_count": 57,
     "metadata": {},
     "output_type": "execute_result"
    }
   ],
   "source": [
    "L"
   ]
  },
  {
   "cell_type": "code",
   "execution_count": 60,
   "id": "ac831ef2",
   "metadata": {
    "hidden": true
   },
   "outputs": [
    {
     "name": "stdout",
     "output_type": "stream",
     "text": [
      "5.03 ms ± 34.2 µs per loop (mean ± std. dev. of 7 runs, 100 loops each)\n"
     ]
    }
   ],
   "source": [
    "%%timeit\n",
    "kmeans = KMeans(n_clusters=2, random_state=1, n_init=\"auto\").fit(A)"
   ]
  },
  {
   "cell_type": "code",
   "execution_count": 273,
   "id": "0db734c3",
   "metadata": {
    "hidden": true
   },
   "outputs": [
    {
     "data": {
      "text/plain": [
       "[0]"
      ]
     },
     "execution_count": 273,
     "metadata": {},
     "output_type": "execute_result"
    }
   ],
   "source": [
    "list(List)"
   ]
  },
  {
   "cell_type": "code",
   "execution_count": 63,
   "id": "cc70c104",
   "metadata": {
    "hidden": true
   },
   "outputs": [
    {
     "data": {
      "text/plain": [
       "array([1, 1, 1, 1, 0, 1])"
      ]
     },
     "execution_count": 63,
     "metadata": {},
     "output_type": "execute_result"
    }
   ],
   "source": [
    "kmeans = KMeans(n_clusters=2, random_state=0, n_init=\"auto\").fit(A)\n",
    "kmeans.labels_"
   ]
  },
  {
   "cell_type": "code",
   "execution_count": 189,
   "id": "0a35b3f1",
   "metadata": {
    "hidden": true
   },
   "outputs": [
    {
     "data": {
      "text/plain": [
       "array([False, False,  True, False, False, False, False, False, False])"
      ]
     },
     "execution_count": 189,
     "metadata": {},
     "output_type": "execute_result"
    }
   ],
   "source": [
    "(xs!=x)"
   ]
  },
  {
   "cell_type": "code",
   "execution_count": null,
   "id": "21aa0dd9",
   "metadata": {
    "hidden": true
   },
   "outputs": [],
   "source": []
  },
  {
   "cell_type": "code",
   "execution_count": 108,
   "id": "312d31a8",
   "metadata": {
    "hidden": true
   },
   "outputs": [
    {
     "data": {
      "text/plain": [
       "array([[0, 0, 0],\n",
       "       [0, 0, 1],\n",
       "       [0, 1, 1]])"
      ]
     },
     "execution_count": 108,
     "metadata": {},
     "output_type": "execute_result"
    },
    {
     "data": {
      "text/plain": [
       "array([0, 0, 3, 0, 6, 8, 0, 6, 7])"
      ]
     },
     "execution_count": 108,
     "metadata": {},
     "output_type": "execute_result"
    },
    {
     "data": {
      "text/plain": [
       "array([[0, 0, 3],\n",
       "       [0, 6, 8],\n",
       "       [0, 6, 7]])"
      ]
     },
     "execution_count": 108,
     "metadata": {},
     "output_type": "execute_result"
    }
   ],
   "source": [
    "Range = len(A)\n",
    "a0 = (A.copy()).ravel()\n",
    "a = (A.copy()).ravel()\n",
    "a[-1] = 2\n",
    "a = (a==2)\n",
    "cond = (a0>0)\n",
    "x = (Z[:,:]*(a)).sum(1) + a\n",
    "x.reshape(A.shape)\n",
    "# x+=(a==2)\n",
    "x=x*cond\n",
    "# x.reshape(A.shape)\n",
    "# x = x.astype(float)\n",
    "for i in range(Range) :\n",
    "#     x.reshape(A.shape)\n",
    "    x = (Z[:,:]*(x>0)).sum(1)+x\n",
    "    x=x*cond\n",
    "x\n",
    "x.reshape(A.shape)"
   ]
  },
  {
   "cell_type": "code",
   "execution_count": null,
   "id": "af504292",
   "metadata": {
    "hidden": true
   },
   "outputs": [],
   "source": []
  },
  {
   "cell_type": "code",
   "execution_count": null,
   "id": "8b3500d6",
   "metadata": {
    "hidden": true
   },
   "outputs": [],
   "source": [
    "def Dense(Z,a,start):\n",
    "    Range = len(A)\n",
    "    A0[start]\n",
    "    a0 = A.copy().ravel()\n",
    "    a  = A.copy().ravel()\n",
    "    a[-1] = 2\n",
    "    a = (a==2)\n",
    "    cond = (a0>0)\n",
    "    x = (Z[:,:]*(a)).sum(1) + a\n",
    "    x.reshape(A.shape)\n",
    "    x=x*cond\n",
    "    for i in range(Range) :\n",
    "        x = (Z[:,:]*(x>0)).sum(1)+x\n",
    "        x=x*cond\n",
    "    x\n",
    "    x.reshape(A.shape)\n",
    "    "
   ]
  },
  {
   "cell_type": "code",
   "execution_count": 101,
   "id": "d5a88fd0",
   "metadata": {
    "hidden": true
   },
   "outputs": [
    {
     "data": {
      "text/plain": [
       "array([[0, 0, 0],\n",
       "       [0, 0, 1],\n",
       "       [0, 1, 1]])"
      ]
     },
     "execution_count": 101,
     "metadata": {},
     "output_type": "execute_result"
    },
    {
     "data": {
      "text/plain": [
       "array([[0, 0, 0],\n",
       "       [0, 0, 1],\n",
       "       [0, 1, 1]])"
      ]
     },
     "execution_count": 101,
     "metadata": {},
     "output_type": "execute_result"
    },
    {
     "data": {
      "text/plain": [
       "array([[0, 0, 1],\n",
       "       [0, 2, 2],\n",
       "       [0, 2, 3]])"
      ]
     },
     "execution_count": 101,
     "metadata": {},
     "output_type": "execute_result"
    },
    {
     "data": {
      "text/plain": [
       "array([[0, 0, 2],\n",
       "       [0, 4, 5],\n",
       "       [0, 4, 5]])"
      ]
     },
     "execution_count": 101,
     "metadata": {},
     "output_type": "execute_result"
    },
    {
     "data": {
      "text/plain": [
       "array([0, 0, 3, 0, 6, 8, 0, 6, 7])"
      ]
     },
     "execution_count": 101,
     "metadata": {},
     "output_type": "execute_result"
    },
    {
     "data": {
      "text/plain": [
       "array([[0, 0, 3],\n",
       "       [0, 6, 8],\n",
       "       [0, 6, 7]])"
      ]
     },
     "execution_count": 101,
     "metadata": {},
     "output_type": "execute_result"
    }
   ],
   "source": [
    "Range = len(A)\n",
    "a0 = (A.copy()).ravel()\n",
    "a = (A.copy()).ravel()\n",
    "a[-1] = 2\n",
    "a = (a==2)\n",
    "cond = (a0>0)\n",
    "x = (Z[:,:]*(a)).sum(1) + a\n",
    "x.reshape(A.shape)\n",
    "# x+=(a==2)\n",
    "x=x*cond\n",
    "# x.reshape(A.shape)\n",
    "# x = x.astype(float)\n",
    "for i in range(Range) :\n",
    "    x.reshape(A.shape)\n",
    "    x = (Z[:,:]*(x>0)).sum(1)+x\n",
    "    x=x*cond\n",
    "x\n",
    "x.reshape(A.shape)"
   ]
  },
  {
   "cell_type": "code",
   "execution_count": 105,
   "id": "c8230391",
   "metadata": {
    "hidden": true
   },
   "outputs": [
    {
     "data": {
      "text/plain": [
       "array([[ True, False, False],\n",
       "       [False, False, False],\n",
       "       [False, False, False]])"
      ]
     },
     "execution_count": 105,
     "metadata": {},
     "output_type": "execute_result"
    }
   ],
   "source": [
    "Ar = x.copy()\n",
    "Ar = (Ar==0) * (A>0)\n"
   ]
  },
  {
   "cell_type": "code",
   "execution_count": 25,
   "id": "180423b8",
   "metadata": {
    "hidden": true
   },
   "outputs": [
    {
     "data": {
      "text/plain": [
       "array([[ 7., 10.,  6.],\n",
       "       [10., 14., 11.],\n",
       "       [ 8., 11.,  7.]])"
      ]
     },
     "execution_count": 25,
     "metadata": {},
     "output_type": "execute_result"
    }
   ],
   "source": [
    "x.reshape(A.shape)"
   ]
  },
  {
   "cell_type": "code",
   "execution_count": 56,
   "id": "8c3682d8",
   "metadata": {
    "hidden": true
   },
   "outputs": [
    {
     "data": {
      "text/plain": [
       "array([[0, 1, 0, 0, 0, 0, 0, 0, 0],\n",
       "       [1, 0, 0, 0, 1, 0, 0, 0, 0],\n",
       "       [0, 1, 0, 0, 0, 1, 0, 0, 0],\n",
       "       [1, 0, 0, 0, 1, 0, 0, 0, 0],\n",
       "       [0, 1, 0, 0, 0, 1, 0, 0, 0],\n",
       "       [0, 0, 0, 0, 1, 0, 0, 0, 1],\n",
       "       [0, 0, 0, 0, 0, 0, 0, 0, 0],\n",
       "       [0, 0, 0, 0, 1, 0, 0, 0, 1],\n",
       "       [0, 0, 0, 0, 0, 1, 0, 0, 0]])"
      ]
     },
     "execution_count": 56,
     "metadata": {},
     "output_type": "execute_result"
    }
   ],
   "source": [
    "Z[:,:]*A.ravel()"
   ]
  },
  {
   "cell_type": "code",
   "execution_count": 59,
   "id": "ed782bf3",
   "metadata": {
    "hidden": true
   },
   "outputs": [
    {
     "ename": "ValueError",
     "evalue": "operands could not be broadcast together with shapes (3,3) (9,) ",
     "output_type": "error",
     "traceback": [
      "\u001b[1;31m---------------------------------------------------------------------------\u001b[0m",
      "\u001b[1;31mValueError\u001b[0m                                Traceback (most recent call last)",
      "Cell \u001b[1;32mIn[59], line 9\u001b[0m\n\u001b[0;32m      7\u001b[0m         x \u001b[38;5;241m=\u001b[39m x \u001b[38;5;241m*\u001b[39mcond\n\u001b[0;32m      8\u001b[0m     \u001b[38;5;28;01mreturn\u001b[39;00m x\n\u001b[1;32m----> 9\u001b[0m \u001b[43mDense\u001b[49m\u001b[43m(\u001b[49m\u001b[43m(\u001b[49m\u001b[43mA\u001b[49m\u001b[38;5;241;43m==\u001b[39;49m\u001b[38;5;241;43m1\u001b[39;49m\u001b[43m)\u001b[49m\u001b[38;5;241;43m.\u001b[39;49m\u001b[43mravel\u001b[49m\u001b[43m(\u001b[49m\u001b[43m)\u001b[49m\u001b[43m,\u001b[49m\u001b[43m \u001b[49m\u001b[38;5;241;43m1\u001b[39;49m\u001b[43m,\u001b[49m\u001b[43m \u001b[49m\u001b[38;5;241;43m10\u001b[39;49m\u001b[43m,\u001b[49m\u001b[43m \u001b[49m\u001b[43m(\u001b[49m\u001b[43mA\u001b[49m\u001b[38;5;241;43m==\u001b[39;49m\u001b[38;5;241;43m1\u001b[39;49m\u001b[43m)\u001b[49m\u001b[38;5;241;43m.\u001b[39;49m\u001b[43mravel\u001b[49m\u001b[43m(\u001b[49m\u001b[43m)\u001b[49m\u001b[43m,\u001b[49m\u001b[43m \u001b[49m\u001b[43mA\u001b[49m\u001b[43m)\u001b[49m\n",
      "Cell \u001b[1;32mIn[59], line 2\u001b[0m, in \u001b[0;36mDense\u001b[1;34m(a, beta, Range, cond, Z)\u001b[0m\n\u001b[0;32m      1\u001b[0m \u001b[38;5;28;01mdef\u001b[39;00m \u001b[38;5;21mDense\u001b[39m(a, beta, Range, cond, Z): \n\u001b[1;32m----> 2\u001b[0m     x \u001b[38;5;241m=\u001b[39m (\u001b[43mZ\u001b[49m\u001b[43m[\u001b[49m\u001b[43m:\u001b[49m\u001b[43m,\u001b[49m\u001b[43m:\u001b[49m\u001b[43m]\u001b[49m\u001b[38;5;241;43m*\u001b[39;49m\u001b[43ma\u001b[49m)\u001b[38;5;241m.\u001b[39msum(\u001b[38;5;241m1\u001b[39m) \u001b[38;5;241m+\u001b[39m a\n\u001b[0;32m      3\u001b[0m     x \u001b[38;5;241m=\u001b[39m x \u001b[38;5;241m*\u001b[39mcond\n\u001b[0;32m      4\u001b[0m     x \u001b[38;5;241m=\u001b[39m x\u001b[38;5;241m.\u001b[39mastype(\u001b[38;5;28mfloat\u001b[39m)\n",
      "\u001b[1;31mValueError\u001b[0m: operands could not be broadcast together with shapes (3,3) (9,) "
     ]
    }
   ],
   "source": [
    "def Dense(a, beta, Range, cond, Z): \n",
    "    x = (Z[:,:]*a).sum(1) + a\n",
    "    x = x *cond\n",
    "    x = x.astype(float)\n",
    "    for i in range(Range) :\n",
    "        x = (Z[:,:]*(x>0)).sum(1)*beta + x\n",
    "        x = x *cond\n",
    "    return x\n",
    "Dense((A==1).ravel(), 1, 10, (A==1).ravel(), A)"
   ]
  },
  {
   "cell_type": "code",
   "execution_count": 38,
   "id": "d46e5400",
   "metadata": {
    "hidden": true
   },
   "outputs": [],
   "source": [
    "def Dense(a, beta, Range, cond, Z): \n",
    "    x = (Z[:,:]*a).sum(1) + a\n",
    "    x = x *cond\n",
    "    x = x.astype(float)\n",
    "    for i in range(Range) :\n",
    "        x = (Z[:,:]*(x>0)).sum(1)*beta + x\n",
    "        x = x *cond\n",
    "    return x"
   ]
  },
  {
   "cell_type": "markdown",
   "id": "e4e608df",
   "metadata": {
    "heading_collapsed": true
   },
   "source": [
    "## Test unitaire"
   ]
  },
  {
   "cell_type": "code",
   "execution_count": 11,
   "id": "760ce788",
   "metadata": {
    "hidden": true
   },
   "outputs": [
    {
     "data": {
      "text/plain": [
       "{'C': [0, 1, 2, 3, 4, 5], 'E': [0, 1, 2, 3], 'P': [0], 'T': [0, 1]}"
      ]
     },
     "execution_count": 11,
     "metadata": {},
     "output_type": "execute_result"
    }
   ],
   "source": [
    "Comb"
   ]
  },
  {
   "cell_type": "code",
   "execution_count": 12,
   "id": "5e0eb76d",
   "metadata": {
    "hidden": true
   },
   "outputs": [
    {
     "data": {
      "text/plain": [
       "['E0', 'E1', 'E2', 'E3', 'T0']"
      ]
     },
     "execution_count": 12,
     "metadata": {},
     "output_type": "execute_result"
    },
    {
     "ename": "NameError",
     "evalue": "name 'G0' is not defined",
     "output_type": "error",
     "traceback": [
      "\u001b[1;31m---------------------------------------------------------------------------\u001b[0m",
      "\u001b[1;31mNameError\u001b[0m                                 Traceback (most recent call last)",
      "Cell \u001b[1;32mIn[12], line 7\u001b[0m\n\u001b[0;32m      5\u001b[0m SlotName \u001b[38;5;241m=\u001b[39m ElistName \u001b[38;5;241m+\u001b[39m [\u001b[38;5;124m'\u001b[39m\u001b[38;5;124mT0\u001b[39m\u001b[38;5;124m'\u001b[39m]\n\u001b[0;32m      6\u001b[0m SlotName\n\u001b[1;32m----> 7\u001b[0m G \u001b[38;5;241m=\u001b[39m \u001b[43mG0\u001b[49m\u001b[38;5;241m.\u001b[39msubgraph(SlotName)\u001b[38;5;241m.\u001b[39mcopy()\n",
      "\u001b[1;31mNameError\u001b[0m: name 'G0' is not defined"
     ]
    }
   ],
   "source": [
    "for i, (p,Elist) in enumerate(indiv['Pconnect'].items()): \n",
    "    pass\n",
    "p = 'P{}'.format(p)\n",
    "ElistName = ['E{}'.format(e) for e in Elist]\n",
    "SlotName = ElistName + ['T0']\n",
    "SlotName\n",
    "G = G0.subgraph(SlotName).copy()"
   ]
  },
  {
   "cell_type": "code",
   "execution_count": 40,
   "id": "0ac405e0",
   "metadata": {
    "hidden": true
   },
   "outputs": [
    {
     "name": "stdout",
     "output_type": "stream",
     "text": [
      "T0 E0 ['E0', 'E1'] ['E0-E1', 'E1-T0'] [0 0 0 0]\n",
      "T0 E1 ['E1', 'E0'] ['E1-E0', 'E0-T0'] [1 0 0 0]\n",
      "T0 E2 ['E2'] ['E2-T0'] [0 0 0 0]\n",
      "T0 E3 ['E3', 'E2'] ['E3-E2', 'E2-T0'] [0 0 0 0]\n"
     ]
    },
    {
     "data": {
      "text/plain": [
       "[['E0', 'E1'], ['E1', 'E0'], ['E2'], ['E3', 'E2']]"
      ]
     },
     "execution_count": 40,
     "metadata": {},
     "output_type": "execute_result"
    },
    {
     "data": {
      "text/plain": [
       "array([0, 0, 1, 1])"
      ]
     },
     "execution_count": 40,
     "metadata": {},
     "output_type": "execute_result"
    }
   ],
   "source": [
    "\n",
    "# %%timeit\n",
    "# G = G0.subgraph(SlotName).copy()\n",
    "Elist = ElistName.copy()\n",
    "L = []\n",
    "Len = len(Elist)\n",
    "A = np.full((Len,Len),np.NAN,dtype=object)\n",
    "L2 = []\n",
    "for i, e0 in enumerate(Elist):\n",
    "    G = G0.subgraph(SlotName).copy()\n",
    "    n = e0\n",
    "    path = []\n",
    "    l = []\n",
    "    j = 0\n",
    "    while n!='T0':\n",
    "        NodesAdj  = [x[0] for x in G.adj[n].items()]\n",
    "        NodesDist = [x[1]['dist'] for x in G.adj[n].items()]\n",
    "        ns = n\n",
    "        l.append(ns)\n",
    "        G.remove_node(n)\n",
    "        n = NodesAdj[np.array(NodesDist).argmin()]\n",
    "        path.append('{}-{}'.format(ns,n))\n",
    "        A[i,j] = ns\n",
    "        j+=1\n",
    "    L.append(l)\n",
    "    print(n,e0,l , path, np.argmax(A == e0, axis=1))\n",
    "L    \n",
    "X =pd.get_dummies(pd.Series(L).explode()).groupby(level=0).sum().values\n",
    "kmeans = KMeans(n_clusters=2, random_state=0, n_init=\"auto\").fit(X)\n",
    "group = kmeans.labels_\n",
    "group"
   ]
  },
  {
   "cell_type": "code",
   "execution_count": 41,
   "id": "4cd8dd83",
   "metadata": {
    "hidden": true
   },
   "outputs": [
    {
     "data": {
      "text/plain": [
       "defaultdict(list, {0: ['E0', 'E1'], 1: ['E2', 'E3']})"
      ]
     },
     "execution_count": 41,
     "metadata": {},
     "output_type": "execute_result"
    }
   ],
   "source": [
    "X =pd.get_dummies(pd.Series(L).explode()).groupby(level=0).sum().values\n",
    "kmeans = KMeans(n_clusters=2, random_state=0, n_init=\"auto\").fit(X)\n",
    "group = kmeans.labels_\n",
    "gr = collections.defaultdict(list)\n",
    "for i, g in enumerate(group):\n",
    "    gr[g].append(Elist[i])\n",
    "gr"
   ]
  },
  {
   "cell_type": "code",
   "execution_count": 42,
   "id": "6482a05b",
   "metadata": {
    "hidden": true
   },
   "outputs": [
    {
     "data": {
      "text/plain": [
       "0.3"
      ]
     },
     "execution_count": 42,
     "metadata": {},
     "output_type": "execute_result"
    }
   ],
   "source": [
    "DictLine = algo.DictLine\n",
    "DictLine['P0-T0']['dist']"
   ]
  },
  {
   "cell_type": "code",
   "execution_count": 53,
   "id": "dff197fd",
   "metadata": {
    "hidden": true
   },
   "outputs": [
    {
     "data": {
      "text/plain": [
       "(0, ['E0', 'E1'], ['T0', 'E1', 'E0'], ['P0-T0', 'T0-E1', 'E1-E0'])"
      ]
     },
     "execution_count": 53,
     "metadata": {},
     "output_type": "execute_result"
    },
    {
     "data": {
      "text/plain": [
       "(1, ['E2', 'E3'], ['T0', 'E2', 'E3'], ['P0-T0', 'T0-E2', 'E2-E3'])"
      ]
     },
     "execution_count": 53,
     "metadata": {},
     "output_type": "execute_result"
    },
    {
     "data": {
      "text/plain": [
       "{'E0-C0': 0.5,\n",
       " 'E1-C1': 0.5,\n",
       " 'E2-C2': 0.8,\n",
       " 'E3-C3': 0.4,\n",
       " 'P0-E0': 1.1,\n",
       " 'P0-E1': 0.7,\n",
       " 'P0-E2': 0.5,\n",
       " 'P0-E3': 0.7}"
      ]
     },
     "execution_count": 53,
     "metadata": {},
     "output_type": "execute_result"
    },
    {
     "data": {
      "text/plain": [
       "['P0-T0', 'T0-E1', 'E1-E0', 'T0-E2', 'E2-E3']"
      ]
     },
     "execution_count": 53,
     "metadata": {},
     "output_type": "execute_result"
    },
    {
     "data": {
      "text/plain": [
       "['P0-T0',\n",
       " 'T0-E1',\n",
       " 'E1-E0',\n",
       " 'T0-E2',\n",
       " 'E2-E3',\n",
       " 'E0-C0',\n",
       " 'E1-C1',\n",
       " 'E2-C2',\n",
       " 'E3-C3']"
      ]
     },
     "execution_count": 53,
     "metadata": {},
     "output_type": "execute_result"
    }
   ],
   "source": [
    "distT = copy.deepcopy(indiv['dist_Connect'])\n",
    "BusTNames = ['P0-T0']\n",
    "for g , Egroup in gr.items():\n",
    "    SlotName = Egroup + ['T0']\n",
    "    G = G0.subgraph(SlotName).copy()\n",
    "    n = \"T0\"\n",
    "    L = [n]\n",
    "    path = [\"P0-T0\"]\n",
    "    dist = DictLine['P0-T0']['dist']\n",
    "    while G.size()>0 :\n",
    "        NodesAdj  = [x[0] for x in G.adj[n].items()]\n",
    "        NodesDist = [x[1]['dist'] for x in G.adj[n].items()]\n",
    "        ns = n\n",
    "        G.remove_node(n)\n",
    "        n = NodesAdj[np.array(NodesDist).argmin()]\n",
    "        L.append(n)\n",
    "        #ajouter calcul duritval ect .... \n",
    "        line = '{}-{}'.format(ns,n)\n",
    "        path.append(line)\n",
    "        BusTNames.append(line)\n",
    "        dist += DictLine['{}-{}'.format(ns,n)]['dist']\n",
    "        distT['P0-{}'.format(n)] = dist\n",
    "    \n",
    "    g, Egroup , L    , path\n",
    "distT\n",
    "BusTNames    \n",
    "for e in Elist:\n",
    "    Clist = indiv['Econnect'][int(e[1:])]\n",
    "    for c in Clist:\n",
    "        BusTNames.append(\"{}-C{}\".format(e,c))\n",
    "BusTNames"
   ]
  },
  {
   "cell_type": "code",
   "execution_count": 80,
   "id": "64eab4c5",
   "metadata": {
    "hidden": true
   },
   "outputs": [
    {
     "name": "stdout",
     "output_type": "stream",
     "text": [
      "(10, 7)\n"
     ]
    },
    {
     "data": {
      "image/png": "[encoded data removed]",
      "text/plain": [
       "<Figure size 500x500 with 1 Axes>"
      ]
     },
     "metadata": {},
     "output_type": "display_data"
    }
   ],
   "source": [
    "# Plot\n",
    "row = pd.Series(indiv)\n",
    "ElemsList = ['Clist','Elist','Plist']\n",
    "Elems = ['C','E','P']\n",
    "SelectSlot = []\n",
    "List_EtoC = row.List_EtoC\n",
    "List_PtoE = row.List_PtoE\n",
    "for n in range(3):\n",
    "    SelectSlot+= ['{}{}'.format(Elems[n],i) for i in row[ElemsList[n]]]\n",
    "SelectSlot+= ['T0']\n",
    "SelectLine = row.Name\n",
    "if row.Option == 'Bus' :   SelectLine = BusTNames               \n",
    "fig = new_plot(algo, SelectLine, SelectSlot)\n",
    "fig.set_size_inches(5,5)"
   ]
  },
  {
   "cell_type": "code",
   "execution_count": 50,
   "id": "dbed51fe",
   "metadata": {
    "hidden": true
   },
   "outputs": [
    {
     "data": {
      "text/plain": [
       "{0: [0], 1: [1], 2: [2], 3: [3]}"
      ]
     },
     "execution_count": 50,
     "metadata": {},
     "output_type": "execute_result"
    }
   ],
   "source": [
    "indiv['Econnect']"
   ]
  },
  {
   "cell_type": "code",
   "execution_count": 52,
   "id": "c8d77e67",
   "metadata": {
    "collapsed": true,
    "hidden": true
   },
   "outputs": [
    {
     "data": {
      "text/plain": [
       "{'Clist': [0, 1, 2, 3],\n",
       " 'CtoE': [0, 1, 2, 3],\n",
       " 'Econnect': {0: [0], 1: [1], 2: [2], 3: [3]},\n",
       " 'Elist': [0, 1, 2, 3],\n",
       " 'Ecount': 4,\n",
       " 'EtoP': [0, 0, 0, 0],\n",
       " 'Pconnect': {0: [0, 1, 2, 3]},\n",
       " 'Plist': [0],\n",
       " 'Pcount': 1,\n",
       " 'Ptype0': array(['Pc', 'Pc', 'Pa', 'Pa'], dtype='<U2'),\n",
       " 'List_EtoC': [['E0-C0'], ['E1-C1'], ['E2-C2'], ['E3-C3']],\n",
       " 'List_PtoE': [['P0-E0', 'P0-E1', 'P0-E2', 'P0-E3']],\n",
       " 'Name': ['E0-C0',\n",
       "  'E1-C1',\n",
       "  'E2-C2',\n",
       "  'E3-C3',\n",
       "  'P0-E0',\n",
       "  'P0-E1',\n",
       "  'P0-E2',\n",
       "  'P0-E3'],\n",
       " 'ID': 0,\n",
       " 'parent': [],\n",
       " 'Name_txt': 'E0-C0,E1-C1,E2-C2,E3-C3,P0-E0,P0-E1,P0-E2,P0-E3',\n",
       " 'Epoch': 0,\n",
       " 'ListBusActif': [False],\n",
       " 'Option': 'Bus',\n",
       " 'Ptype': ['Pc', 'Pc', 'Pc', 'Pc'],\n",
       " 'dist_Connect': {'E0-C0': 0.5,\n",
       "  'E1-C1': 0.5,\n",
       "  'E2-C2': 0.8,\n",
       "  'E3-C3': 0.4,\n",
       "  'P0-E0': 0.3,\n",
       "  'P0-E1': 0.3,\n",
       "  'P0-E2': 0.5,\n",
       "  'P0-E3': 0.3},\n",
       " 'dist': 359,\n",
       " 'BusName': ['E0-C0',\n",
       "  'E1-C1',\n",
       "  'E2-C2',\n",
       "  'E3-C3',\n",
       "  'P0-E0',\n",
       "  'P0-E1',\n",
       "  'P0-E2',\n",
       "  'P0-E3'],\n",
       " 'BusDist': {'E0-C0': 0.5,\n",
       "  'E1-C1': 0.5,\n",
       "  'E2-C2': 0.8,\n",
       "  'E3-C3': 0.4,\n",
       "  'P0-E0': 0.3,\n",
       "  'P0-E1': 0.3,\n",
       "  'P0-E2': 0.5,\n",
       "  'P0-E3': 0.3},\n",
       " 'PtypeCo': {0: ['Pc', 'Pc', 'Pc', 'Pc']},\n",
       " 'PompesCo': {0: ['Pc']},\n",
       " 'PompeCount': {'P0': {'Pc': 1}},\n",
       " 'PompeSum': {'Pc': 1},\n",
       " 'duriteVal': {'E0-C0': 0.000235,\n",
       "  'E1-C1': 0.000235,\n",
       "  'E2-C2': 0.000235,\n",
       "  'E3-C3': 0.000235,\n",
       "  'P0-E0': 0.000235,\n",
       "  'P0-E1': 0.000235,\n",
       "  'P0-E2': 0.000235,\n",
       "  'P0-E3': 0.000235},\n",
       " 'BusConnectDict': [(0, [0]), (0, [1]), (0, [2]), (0, [3])],\n",
       " 'IndivLine': [{'p': 0,\n",
       "   'e': [0],\n",
       "   'gr': {0: [0]},\n",
       "   'pt': 'Pc',\n",
       "   'Gconnect': {0: {0: [0]}}},\n",
       "  {'p': 0, 'e': [1], 'gr': {0: [1]}, 'pt': 'Pc', 'Gconnect': {0: {1: [1]}}},\n",
       "  {'p': 0, 'e': [2], 'gr': {0: [2]}, 'pt': 'Pc', 'Gconnect': {0: {2: [2]}}},\n",
       "  {'p': 0, 'e': [3], 'gr': {0: [3]}, 'pt': 'Pc', 'Gconnect': {0: {3: [3]}}}],\n",
       " 'PressionList': [11.412, 11.412, 11.375, 11.419],\n",
       " 'DebitList': [17.562, 17.562, 17.534, 17.568],\n",
       " 'Esplit': {},\n",
       " 'Debit': 70.2,\n",
       " 'EvCount': {},\n",
       " 'EvSum': 0,\n",
       " 'Masse': 1095,\n",
       " 'Cout': 55,\n",
       " 'DetailsMasse': {'Pompe': 330.0, 'Tuyau': 165.6, 'EV': 0.0, 'Reservoir': 600},\n",
       " 'DetailsCout': {'Pompe': 24.0, 'Tuyau': 1.3, 'EV': 0.0, 'Reservoir': 30},\n",
       " 'fitness': 359,\n",
       " 'Alive': True}"
      ]
     },
     "execution_count": 52,
     "metadata": {},
     "output_type": "execute_result"
    }
   ],
   "source": [
    "indiv"
   ]
  },
  {
   "cell_type": "code",
   "execution_count": 49,
   "id": "1f3da607",
   "metadata": {
    "hidden": true
   },
   "outputs": [
    {
     "data": {
      "text/plain": [
       "['E0', 'E1', 'E2', 'E3']"
      ]
     },
     "execution_count": 49,
     "metadata": {},
     "output_type": "execute_result"
    }
   ],
   "source": [
    "Elist"
   ]
  },
  {
   "cell_type": "code",
   "execution_count": 46,
   "id": "e41b7b27",
   "metadata": {
    "hidden": true
   },
   "outputs": [
    {
     "data": {
      "text/plain": [
       "{'E0-C0': 0.5,\n",
       " 'E1-C1': 0.5,\n",
       " 'E2-C2': 0.8,\n",
       " 'E3-C3': 0.4,\n",
       " 'P0-E0': 0.3,\n",
       " 'P0-E1': 0.3,\n",
       " 'P0-E2': 0.5,\n",
       " 'P0-E3': 0.3}"
      ]
     },
     "execution_count": 46,
     "metadata": {},
     "output_type": "execute_result"
    }
   ],
   "source": [
    "indiv['dist_Connect']"
   ]
  },
  {
   "cell_type": "raw",
   "id": "cc9dd2b6",
   "metadata": {
    "hidden": true
   },
   "source": [
    "G0.subgraph(['P0'] + ['T0', 'E1', 'E0']).size('dist')"
   ]
  },
  {
   "cell_type": "code",
   "execution_count": 34,
   "id": "eccdd36b",
   "metadata": {
    "collapsed": true,
    "hidden": true
   },
   "outputs": [
    {
     "data": {
      "text/plain": [
       "[(0, [0]), (0, [1]), (0, [2]), (0, [3])]"
      ]
     },
     "execution_count": 34,
     "metadata": {},
     "output_type": "execute_result"
    },
    {
     "data": {
      "text/plain": [
       "['E0-C0', 'E1-C1', 'E2-C2', 'E3-C3', 'P0-E0', 'P0-E1', 'P0-E2', 'P0-E3']"
      ]
     },
     "execution_count": 34,
     "metadata": {},
     "output_type": "execute_result"
    },
    {
     "data": {
      "text/plain": [
       "{'E0-C0': 0.5,\n",
       " 'E1-C1': 0.5,\n",
       " 'E2-C2': 0.8,\n",
       " 'E3-C3': 0.4,\n",
       " 'P0-E0': 0.3,\n",
       " 'P0-E1': 0.3,\n",
       " 'P0-E2': 0.5,\n",
       " 'P0-E3': 0.3}"
      ]
     },
     "execution_count": 34,
     "metadata": {},
     "output_type": "execute_result"
    },
    {
     "data": {
      "text/plain": [
       "{'E0-C0': 0.5,\n",
       " 'E1-C1': 0.5,\n",
       " 'E2-C2': 0.8,\n",
       " 'E3-C3': 0.4,\n",
       " 'P0-E0': 0.3,\n",
       " 'P0-E1': 0.3,\n",
       " 'P0-E2': 0.5,\n",
       " 'P0-E3': 0.3}"
      ]
     },
     "execution_count": 34,
     "metadata": {},
     "output_type": "execute_result"
    },
    {
     "data": {
      "text/plain": [
       "{0: [0], 1: [1], 2: [2], 3: [3]}"
      ]
     },
     "execution_count": 34,
     "metadata": {},
     "output_type": "execute_result"
    },
    {
     "data": {
      "text/plain": [
       "{0: 0, 1: 1, 2: 2, 3: 3}"
      ]
     },
     "execution_count": 34,
     "metadata": {},
     "output_type": "execute_result"
    },
    {
     "data": {
      "text/plain": [
       "['E0-C0', 'E1-C1', 'E2-C2', 'E3-C3', 'P0-E0', 'P0-E1', 'P0-E2', 'P0-E3']"
      ]
     },
     "execution_count": 34,
     "metadata": {},
     "output_type": "execute_result"
    },
    {
     "data": {
      "text/plain": [
       "[0.5, 0.5, 0.8, 0.4, 0.3, 0.3, 0.5, 0.3]"
      ]
     },
     "execution_count": 34,
     "metadata": {},
     "output_type": "execute_result"
    },
    {
     "data": {
      "text/plain": [
       "{'E0-C0': 0.5,\n",
       " 'E1-C1': 0.5,\n",
       " 'E2-C2': 0.8,\n",
       " 'E3-C3': 0.4,\n",
       " 'P0-E0': 0.3,\n",
       " 'P0-E1': 0.3,\n",
       " 'P0-E2': 0.5,\n",
       " 'P0-E3': 0.3}"
      ]
     },
     "execution_count": 34,
     "metadata": {},
     "output_type": "execute_result"
    }
   ],
   "source": [
    "indiv['BusConnectDict']\n",
    "Econnect = indiv['Econnect']\n",
    "Ptype = indiv['Ptype']\n",
    "GroupDict = algo.GroupDict\n",
    "indiv['BusName']\n",
    "indiv['dist_Connect']\n",
    "indiv['BusDist']\n",
    "Econnect\n",
    "\n",
    "Cconnect =  { v: k for k, l in indiv['Econnect'].items() for v in l }\n",
    "Cconnect\n",
    "\n",
    "Name = indiv['Name']\n",
    "Name\n",
    "distList = [algo.dist[line] for line in Name] \n",
    "distList\n",
    "dist_Connect = dict(zip(Name,distList)) \n",
    "dist_Connect\n"
   ]
  },
  {
   "cell_type": "markdown",
   "id": "d0c6cea7",
   "metadata": {
    "heading_collapsed": true,
    "hidden": true
   },
   "source": [
    "### plot"
   ]
  },
  {
   "cell_type": "code",
   "execution_count": 18,
   "id": "cfa18355",
   "metadata": {
    "hidden": true
   },
   "outputs": [
    {
     "name": "stdout",
     "output_type": "stream",
     "text": [
      "(10, 7)\n"
     ]
    },
    {
     "data": {
      "image/png": "[encoded data removed]",
      "text/plain": [
       "<Figure size 500x500 with 1 Axes>"
      ]
     },
     "metadata": {},
     "output_type": "display_data"
    }
   ],
   "source": [
    "# Plot\n",
    "row = pd.Series(indiv)\n",
    "ElemsList = ['Clist','Elist','Plist']\n",
    "Elems = ['C','E','P']\n",
    "SelectSlot = []\n",
    "List_EtoC = row.List_EtoC\n",
    "List_PtoE = row.List_PtoE\n",
    "for n in range(3):\n",
    "    SelectSlot+= ['{}{}'.format(Elems[n],i) for i in row[ElemsList[n]]]\n",
    "SelectLine = row.Name\n",
    "if row.Option == 'Bus' :   SelectLine = row.BusName                \n",
    "fig = new_plot(algo, SelectLine, SelectSlot)\n",
    "fig.set_size_inches(5,5)"
   ]
  },
  {
   "cell_type": "markdown",
   "id": "1b611f38",
   "metadata": {
    "heading_collapsed": true,
    "hidden": true
   },
   "source": [
    "### test save"
   ]
  },
  {
   "cell_type": "raw",
   "id": "8e2c10a8",
   "metadata": {
    "hidden": true
   },
   "source": [
    "L2 = []\n",
    "a = np.array()\n",
    "for i, e0 in enumerate(Elist):\n",
    "    if np.argmax(A == e0, axis=1)\n",
    "    e0,np.argmax(A == e0, axis=1)\n",
    "    "
   ]
  },
  {
   "cell_type": "code",
   "execution_count": 241,
   "id": "ef3829c7",
   "metadata": {
    "hidden": true
   },
   "outputs": [
    {
     "data": {
      "text/plain": [
       "array([array(['E0', 'E1', 'E2'], dtype='<U2'),\n",
       "       array(['E1', 'E0'], dtype='<U2'),\n",
       "       array(['E2', 'E1', 'E0'], dtype='<U2'), array(['E3'], dtype='<U2')],\n",
       "      dtype=object)"
      ]
     },
     "execution_count": 241,
     "metadata": {},
     "output_type": "execute_result"
    },
    {
     "name": "stderr",
     "output_type": "stream",
     "text": [
      "C:\\Users\\egos\\anaconda3\\envs\\base2\\lib\\site-packages\\numpy\\lib\\arraysetops.py:733: FutureWarning: elementwise comparison failed; returning scalar instead, but in the future will perform elementwise comparison\n",
      "  mask |= (ar1 == a)\n"
     ]
    },
    {
     "data": {
      "text/plain": [
       "array([False, False, False, False])"
      ]
     },
     "execution_count": 241,
     "metadata": {},
     "output_type": "execute_result"
    }
   ],
   "source": [
    "A = np.array(L, dtype=object)\n",
    "A\n",
    "np.isin(A, 'E1')"
   ]
  },
  {
   "cell_type": "code",
   "execution_count": 256,
   "id": "a7fa94d9",
   "metadata": {
    "hidden": true
   },
   "outputs": [
    {
     "data": {
      "text/html": [
       "<div>\n",
       "<style scoped>\n",
       "    .dataframe tbody tr th:only-of-type {\n",
       "        vertical-align: middle;\n",
       "    }\n",
       "\n",
       "    .dataframe tbody tr th {\n",
       "        vertical-align: top;\n",
       "    }\n",
       "\n",
       "    .dataframe thead th {\n",
       "        text-align: right;\n",
       "    }\n",
       "</style>\n",
       "<table border=\"1\" class=\"dataframe\">\n",
       "  <thead>\n",
       "    <tr style=\"text-align: right;\">\n",
       "      <th></th>\n",
       "      <th>E0</th>\n",
       "      <th>E1</th>\n",
       "      <th>E2</th>\n",
       "      <th>E3</th>\n",
       "    </tr>\n",
       "  </thead>\n",
       "  <tbody>\n",
       "    <tr>\n",
       "      <th>0</th>\n",
       "      <td>1</td>\n",
       "      <td>1</td>\n",
       "      <td>1</td>\n",
       "      <td>0</td>\n",
       "    </tr>\n",
       "    <tr>\n",
       "      <th>1</th>\n",
       "      <td>1</td>\n",
       "      <td>1</td>\n",
       "      <td>0</td>\n",
       "      <td>0</td>\n",
       "    </tr>\n",
       "    <tr>\n",
       "      <th>2</th>\n",
       "      <td>1</td>\n",
       "      <td>1</td>\n",
       "      <td>1</td>\n",
       "      <td>0</td>\n",
       "    </tr>\n",
       "    <tr>\n",
       "      <th>3</th>\n",
       "      <td>0</td>\n",
       "      <td>0</td>\n",
       "      <td>0</td>\n",
       "      <td>1</td>\n",
       "    </tr>\n",
       "  </tbody>\n",
       "</table>\n",
       "</div>"
      ],
      "text/plain": [
       "   E0  E1  E2  E3\n",
       "0   1   1   1   0\n",
       "1   1   1   0   0\n",
       "2   1   1   1   0\n",
       "3   0   0   0   1"
      ]
     },
     "execution_count": 256,
     "metadata": {},
     "output_type": "execute_result"
    }
   ],
   "source": [
    "pd.get_dummies(pd.Series(L).explode()).groupby(level=0).sum()"
   ]
  },
  {
   "cell_type": "code",
   "execution_count": 158,
   "id": "88028545",
   "metadata": {
    "hidden": true
   },
   "outputs": [
    {
     "data": {
      "text/plain": [
       "0.6"
      ]
     },
     "execution_count": 158,
     "metadata": {},
     "output_type": "execute_result"
    }
   ],
   "source": [
    "nx.shortest_path_length(G, source='T0', target='E1', weight='dist')"
   ]
  },
  {
   "cell_type": "code",
   "execution_count": 160,
   "id": "ae25b5cd",
   "metadata": {
    "hidden": true
   },
   "outputs": [
    {
     "data": {
      "text/plain": [
       "[['T0', 'E0', 'E1'],\n",
       " ['T0', 'E0', 'E2', 'E1'],\n",
       " ['T0', 'E1'],\n",
       " ['T0', 'E2', 'E0', 'E1'],\n",
       " ['T0', 'E2', 'E1']]"
      ]
     },
     "execution_count": 160,
     "metadata": {},
     "output_type": "execute_result"
    }
   ],
   "source": [
    "list(nx.all_simple_paths(G, source='T0', target='E1'))"
   ]
  },
  {
   "cell_type": "code",
   "execution_count": 163,
   "id": "f9d7fb39",
   "metadata": {
    "hidden": true
   },
   "outputs": [
    {
     "data": {
      "text/plain": [
       "{'T0': ['T0'], 'E0': ['T0', 'E0'], 'E1': ['T0', 'E1'], 'E2': ['T0', 'E2']}"
      ]
     },
     "execution_count": 163,
     "metadata": {},
     "output_type": "execute_result"
    }
   ],
   "source": [
    "p = dict(nx.all_pairs_bellman_ford_path(G), weight='dist' )\n",
    "p['T0']"
   ]
  },
  {
   "cell_type": "code",
   "execution_count": 157,
   "id": "79bc7121",
   "metadata": {
    "hidden": true
   },
   "outputs": [
    {
     "name": "stdout",
     "output_type": "stream",
     "text": [
      "['T0', 'E1']\n"
     ]
    }
   ],
   "source": [
    "print(nx.dijkstra_path(G, \"T0\", \"E1\"))"
   ]
  },
  {
   "cell_type": "code",
   "execution_count": 145,
   "id": "88a7fcde",
   "metadata": {
    "hidden": true
   },
   "outputs": [],
   "source": [
    "G = G0.subgraph(SlotName).copy()"
   ]
  },
  {
   "cell_type": "code",
   "execution_count": 146,
   "id": "38b51d33",
   "metadata": {
    "hidden": true
   },
   "outputs": [
    {
     "name": "stdout",
     "output_type": "stream",
     "text": [
      "3.12 µs ± 62.8 ns per loop (mean ± std. dev. of 7 runs, 100,000 loops each)\n"
     ]
    }
   ],
   "source": [
    "%%timeit\n",
    "p = nx.shortest_path(G, source='T0',target = \"E1\")\n"
   ]
  },
  {
   "cell_type": "code",
   "execution_count": 147,
   "id": "f86ffd71",
   "metadata": {
    "hidden": true
   },
   "outputs": [
    {
     "data": {
      "text/plain": [
       "{'E0': {'E0': 0, 'T0': 1, 'E1': 1, 'E2': 1},\n",
       " 'T0': {'T0': 0, 'E0': 1, 'E1': 1, 'E2': 1},\n",
       " 'E1': {'E1': 0, 'E0': 1, 'T0': 1, 'E2': 1},\n",
       " 'E2': {'E2': 0, 'E0': 1, 'T0': 1, 'E1': 1}}"
      ]
     },
     "execution_count": 147,
     "metadata": {},
     "output_type": "execute_result"
    }
   ],
   "source": [
    "dict(nx.all_pairs_shortest_path_length(G))"
   ]
  },
  {
   "cell_type": "code",
   "execution_count": 150,
   "id": "d3810ad0",
   "metadata": {
    "hidden": true
   },
   "outputs": [
    {
     "name": "stdout",
     "output_type": "stream",
     "text": [
      "1 - 0: 1\n",
      "1 - 1: 0\n",
      "1 - 2: 1\n",
      "1 - 3: 2\n",
      "1 - 4: 3\n"
     ]
    }
   ],
   "source": [
    "G = nx.path_graph(5)\n",
    "length = dict(nx.all_pairs_shortest_path_length(G))\n",
    "for node in [0, 1, 2, 3, 4]:\n",
    "    print(f\"1 - {node}: {length[1][node]}\")"
   ]
  },
  {
   "cell_type": "code",
   "execution_count": 149,
   "id": "795acc03",
   "metadata": {
    "hidden": true
   },
   "outputs": [
    {
     "ename": "KeyError",
     "evalue": "1",
     "output_type": "error",
     "traceback": [
      "\u001b[1;31m---------------------------------------------------------------------------\u001b[0m",
      "\u001b[1;31mKeyError\u001b[0m                                  Traceback (most recent call last)",
      "Cell \u001b[1;32mIn[149], line 3\u001b[0m\n\u001b[0;32m      1\u001b[0m length \u001b[38;5;241m=\u001b[39m \u001b[38;5;28mdict\u001b[39m(nx\u001b[38;5;241m.\u001b[39mall_pairs_shortest_path_length(G))\n\u001b[0;32m      2\u001b[0m \u001b[38;5;28;01mfor\u001b[39;00m node \u001b[38;5;129;01min\u001b[39;00m [\u001b[38;5;241m0\u001b[39m, \u001b[38;5;241m1\u001b[39m, \u001b[38;5;241m2\u001b[39m, \u001b[38;5;241m3\u001b[39m, \u001b[38;5;241m4\u001b[39m]:\n\u001b[1;32m----> 3\u001b[0m     \u001b[38;5;28mprint\u001b[39m(\u001b[38;5;124mf\u001b[39m\u001b[38;5;124m\"\u001b[39m\u001b[38;5;124m1 - \u001b[39m\u001b[38;5;132;01m{\u001b[39;00mnode\u001b[38;5;132;01m}\u001b[39;00m\u001b[38;5;124m: \u001b[39m\u001b[38;5;132;01m{\u001b[39;00mlength[\u001b[38;5;241m1\u001b[39m][node]\u001b[38;5;132;01m}\u001b[39;00m\u001b[38;5;124m\"\u001b[39m)\n",
      "\u001b[1;31mKeyError\u001b[0m: 1"
     ]
    }
   ],
   "source": [
    "length = dict(nx.all_pairs_shortest_path_length(G))\n",
    "for node in [0, 1, 2, 3, 4]:\n",
    "    print(f\"1 - {node}: {length[1][node]}\")"
   ]
  },
  {
   "cell_type": "code",
   "execution_count": null,
   "id": "5afe831e",
   "metadata": {
    "hidden": true
   },
   "outputs": [],
   "source": [
    "%%time\n",
    "G = nx.from_pandas_edgelist(dfl, 's', 't', ['dist'])\n",
    "n = \"P0\"\n",
    "L = [n]\n",
    "while G.size()>0 :\n",
    "    adj  = [x[0] for x in G.adj[n].items()]\n",
    "    dist = [x[1]['dist'] for x in G.adj[n].items()]\n",
    "    G.remove_node(n)\n",
    "    n = adj[np.array(dist).argmin()]\n",
    "    L.append(n)\n",
    "L"
   ]
  },
  {
   "cell_type": "markdown",
   "id": "a95ae332",
   "metadata": {
    "heading_collapsed": true,
    "hidden": true
   },
   "source": [
    "### save"
   ]
  },
  {
   "cell_type": "raw",
   "id": "55bbb37c",
   "metadata": {
    "hidden": true
   },
   "source": [
    "G0 = nx.from_pandas_edgelist(dfline, 's', 't', ['dist'])\n",
    "for i, (p,Elist) in enumerate(indiv['Pconnect'].items()): \n",
    "    pass\n",
    "\n",
    "p = 'P{}'.format(p)\n",
    "ElistName = ['E{}'.format(e) for e in Elist]\n",
    "SlotName = ElistName + ['T0']\n",
    "SlotName\n",
    "G = G0.subgraph(SlotName).copy()\n",
    "\n",
    "# dfl = dfline[dfline.index.isin(indiv['Name'])]\n",
    "# G = G0.subgraph(SlotName).copy()\n",
    "# dfl = dfline[dfline.ID.isin(indiv['Name'])]\n",
    "# G = nx.from_pandas_edgelist(dfl, 's', 't', ['dist'])\n",
    "n = p\n",
    "n = \"T0\"\n",
    "L = [n]\n",
    "path = []\n",
    "while G.size()>0 :    \n",
    "    NodesAdj  = [x[0] for x in G.adj[n].items()]\n",
    "    NodesDist = [x[1]['dist'] for x in G.adj[n].items()]\n",
    "    ns = n\n",
    "    G.remove_node(n)\n",
    "    n = NodesAdj[np.array(NodesDist).argmin()]\n",
    "    L.append(n)\n",
    "    path.append('{}-{}'.format(ns,n))\n",
    "L\n",
    "path"
   ]
  },
  {
   "cell_type": "markdown",
   "id": "02f739af",
   "metadata": {
    "heading_collapsed": true
   },
   "source": [
    "# Test new debit error ol / new"
   ]
  },
  {
   "cell_type": "code",
   "execution_count": 69,
   "id": "dd65d81d",
   "metadata": {
    "hidden": true
   },
   "outputs": [
    {
     "name": "stdout",
     "output_type": "stream",
     "text": [
      "Init algo namespace\n",
      "['E0', 'E1', 'E2'] [('E0', 'E1'), ('E0', 'E2'), ('E1', 'E2')]\n",
      "['confs', 'map', 'map bis', 'map s2', 'map (2)', 'map (3)']\n"
     ]
    },
    {
     "data": {
      "text/plain": [
       "[True, True]"
      ]
     },
     "execution_count": 69,
     "metadata": {},
     "output_type": "execute_result"
    }
   ],
   "source": [
    "file = {'SheetMapName' : 'map', 'uploaded_file' : \"data.xlsx\",'DistFactor' : 0.1}\n",
    "# file = {'SheetMapName' : 'map', 'uploaded_file' : None, 'DistFactor' : 0.1}\n",
    "# file = {'SheetMapName' : 'map bis', 'uploaded_file' : None, 'DistFactor' : 0.1}\n",
    "algo = load_data_brut(file)\n",
    "algo.ListBusPactif\n",
    "algo.DebitCalculationNew = False\n",
    "algo.Npc = 0\n",
    "# algo.dfmap"
   ]
  },
  {
   "cell_type": "code",
   "execution_count": 56,
   "id": "6decf55c",
   "metadata": {
    "hidden": true
   },
   "outputs": [],
   "source": [
    "algo.GroupDict = [1,1,0]\n",
    "Name = \"E0-C0,E0-C1,E0-C2,P0-E0\""
   ]
  },
  {
   "cell_type": "code",
   "execution_count": 70,
   "id": "af7eb390",
   "metadata": {
    "hidden": true
   },
   "outputs": [
    {
     "name": "stdout",
     "output_type": "stream",
     "text": [
      "Indiv_reverse [0, 1, 2] [0, 0, 0] [0]\n",
      "{'p': 0, 'e': 0, 'ClistG': [0, 1, 2], 'pt': 'Pa'} 0.000235 [0.3 0.5 0.8] [0.000235 0.000235 0.000235] [0.036 0.036 0.036] 9.400000000000001e-05\n"
     ]
    },
    {
     "data": {
      "text/plain": [
       "([4.52, 4.51, 4.5], [11.2, 11.19, 11.18])"
      ]
     },
     "execution_count": 70,
     "metadata": {},
     "output_type": "execute_result"
    },
    {
     "data": {
      "text/plain": [
       "{'E0-C0': 0.3, 'E0-C1': 0.5, 'E0-C2': 0.8, 'P0-E0': 0.4}"
      ]
     },
     "execution_count": 70,
     "metadata": {},
     "output_type": "execute_result"
    },
    {
     "data": {
      "text/plain": [
       "{'E0-C0': 0.3, 'E0-C1': 0.5, 'E0-C2': 0.8, 'P0-E0': 0.4}"
      ]
     },
     "execution_count": 70,
     "metadata": {},
     "output_type": "execute_result"
    },
    {
     "data": {
      "text/plain": [
       "[(0, [0])]"
      ]
     },
     "execution_count": 70,
     "metadata": {},
     "output_type": "execute_result"
    }
   ],
   "source": [
    "algo.DebitCalculationNew = False\n",
    "algo.Split = False\n",
    "indiv  = Indiv_reverse(Name,algo)\n",
    "indiv['PressionList'] , indiv['DebitList']\n",
    "indiv['dist_Connect']\n",
    "indiv['BusDist']\n",
    "indiv['BusConnectDict']\n",
    "# A = coef_E + d_EtoC_list * coef_d_EtoC + coef_C"
   ]
  },
  {
   "cell_type": "code",
   "execution_count": null,
   "id": "e18ffa03",
   "metadata": {
    "hidden": true
   },
   "outputs": [],
   "source": [
    "# print(debitinput, coef_d_PtoE, d_EtoC_list, coef_d_EtoC, coef_C, coef_d_PtoE * d_PtoE)"
   ]
  },
  {
   "cell_type": "code",
   "execution_count": 67,
   "id": "413f6f98",
   "metadata": {
    "hidden": true
   },
   "outputs": [
    {
     "data": {
      "text/plain": [
       "['Pc']"
      ]
     },
     "execution_count": 67,
     "metadata": {},
     "output_type": "execute_result"
    }
   ],
   "source": [
    "indiv['Ptype']"
   ]
  },
  {
   "cell_type": "code",
   "execution_count": 71,
   "id": "cdd7cc0a",
   "metadata": {
    "hidden": true
   },
   "outputs": [
    {
     "name": "stdout",
     "output_type": "stream",
     "text": [
      "Indiv_reverse [0, 1, 2] [0, 0, 0] [0]\n",
      "Pa\n",
      "0.000764 [0.3 0.5 0.8] [0.000235 0.000235 0.000235] [0.036 0.036 0.036]\n"
     ]
    },
    {
     "data": {
      "text/plain": [
       "([3.85, 3.845, 3.838], [10.201, 10.194, 10.185])"
      ]
     },
     "execution_count": 71,
     "metadata": {},
     "output_type": "execute_result"
    },
    {
     "data": {
      "text/plain": [
       "{'E0-C0': 0.3, 'E0-C1': 0.5, 'E0-C2': 0.8, 'P0-E0': 0.4}"
      ]
     },
     "execution_count": 71,
     "metadata": {},
     "output_type": "execute_result"
    },
    {
     "data": {
      "text/plain": [
       "{'E0-C0': 0.3, 'E0-C1': 0.5, 'E0-C2': 0.8, 'P0-E0': 0.4}"
      ]
     },
     "execution_count": 71,
     "metadata": {},
     "output_type": "execute_result"
    },
    {
     "data": {
      "text/plain": [
       "[(0, [0])]"
      ]
     },
     "execution_count": 71,
     "metadata": {},
     "output_type": "execute_result"
    }
   ],
   "source": [
    "algo.DebitCalculationNew = True\n",
    "indiv  = Indiv_reverse(Name,algo)\n",
    "indiv['PressionList'] , indiv['DebitList']\n",
    "indiv['dist_Connect']\n",
    "indiv['BusDist']\n",
    "indiv['BusConnectDict']\n",
    "# A = coef_E + d_EtoC_list * coef_d_EtoC + coef_C"
   ]
  },
  {
   "cell_type": "code",
   "execution_count": 39,
   "id": "1f55512c",
   "metadata": {
    "hidden": true
   },
   "outputs": [
    {
     "data": {
      "text/html": [
       "<div>\n",
       "<style scoped>\n",
       "    .dataframe tbody tr th:only-of-type {\n",
       "        vertical-align: middle;\n",
       "    }\n",
       "\n",
       "    .dataframe tbody tr th {\n",
       "        vertical-align: top;\n",
       "    }\n",
       "\n",
       "    .dataframe thead th {\n",
       "        text-align: right;\n",
       "    }\n",
       "</style>\n",
       "<table border=\"1\" class=\"dataframe\">\n",
       "  <thead>\n",
       "    <tr style=\"text-align: right;\">\n",
       "      <th></th>\n",
       "      <th>p</th>\n",
       "      <th>e</th>\n",
       "      <th>gr</th>\n",
       "      <th>pt</th>\n",
       "      <th>Gconnect</th>\n",
       "    </tr>\n",
       "  </thead>\n",
       "  <tbody>\n",
       "    <tr>\n",
       "      <th>0</th>\n",
       "      <td>0</td>\n",
       "      <td>[0]</td>\n",
       "      <td>{1: [0, 1], 0: [2]}</td>\n",
       "      <td>Pa</td>\n",
       "      <td>{0: {0: [2]}, 1: {0: [0, 1]}}</td>\n",
       "    </tr>\n",
       "  </tbody>\n",
       "</table>\n",
       "</div>"
      ],
      "text/plain": [
       "   p    e                   gr  pt                       Gconnect\n",
       "0  0  [0]  {1: [0, 1], 0: [2]}  Pa  {0: {0: [2]}, 1: {0: [0, 1]}}"
      ]
     },
     "execution_count": 39,
     "metadata": {},
     "output_type": "execute_result"
    }
   ],
   "source": [
    "IndivLine = indiv_lines_conf(algo, indiv)\n",
    "indiv['IndivLine'] = IndivLine\n",
    "pd.DataFrame(IndivLine)\n",
    "# print(json.dumps(d, sort_keys=True, indent=3))"
   ]
  },
  {
   "cell_type": "code",
   "execution_count": 40,
   "id": "24aa4252",
   "metadata": {
    "hidden": true
   },
   "outputs": [
    {
     "data": {
      "text/plain": [
       "{'E0-C0': 0.3, 'E0-C1': 0.5, 'E0-C2': 0.8, 'P0-E0': 0.4}"
      ]
     },
     "execution_count": 40,
     "metadata": {},
     "output_type": "execute_result"
    },
    {
     "data": {
      "text/plain": [
       "{'E0-C0': 0.3, 'E0-C1': 0.5, 'E0-C2': 0.8, 'P0-E0': 0.4}"
      ]
     },
     "execution_count": 40,
     "metadata": {},
     "output_type": "execute_result"
    }
   ],
   "source": [
    "indiv['dist_Connect']\n",
    "indiv['BusDist']"
   ]
  },
  {
   "cell_type": "code",
   "execution_count": 43,
   "id": "951e71c4",
   "metadata": {
    "hidden": true
   },
   "outputs": [
    {
     "name": "stdout",
     "output_type": "stream",
     "text": [
      "0.000764 [0.8] [0.000235] [0.036]\n",
      "0.000764 [0.3 0.5] [0.000235 0.000235] [0.036 0.036]\n"
     ]
    },
    {
     "data": {
      "text/html": [
       "<div>\n",
       "<style scoped>\n",
       "    .dataframe tbody tr th:only-of-type {\n",
       "        vertical-align: middle;\n",
       "    }\n",
       "\n",
       "    .dataframe tbody tr th {\n",
       "        vertical-align: top;\n",
       "    }\n",
       "\n",
       "    .dataframe thead th {\n",
       "        text-align: right;\n",
       "    }\n",
       "</style>\n",
       "<table border=\"1\" class=\"dataframe\">\n",
       "  <thead>\n",
       "    <tr style=\"text-align: right;\">\n",
       "      <th></th>\n",
       "      <th>g</th>\n",
       "      <th>ClistDict</th>\n",
       "      <th>PtoElist</th>\n",
       "      <th>coef_PtoE</th>\n",
       "      <th>Qi</th>\n",
       "      <th>Pi</th>\n",
       "      <th>Alist</th>\n",
       "    </tr>\n",
       "  </thead>\n",
       "  <tbody>\n",
       "    <tr>\n",
       "      <th>0</th>\n",
       "      <td>0</td>\n",
       "      <td>{0: [2]}</td>\n",
       "      <td>[P0-E0]</td>\n",
       "      <td>[9.4e-05]</td>\n",
       "      <td>[11.214]</td>\n",
       "      <td>[4.653]</td>\n",
       "      <td>[[0.037]]</td>\n",
       "    </tr>\n",
       "    <tr>\n",
       "      <th>1</th>\n",
       "      <td>1</td>\n",
       "      <td>{0: [0, 1]}</td>\n",
       "      <td>[P0-E0]</td>\n",
       "      <td>[9.4e-05]</td>\n",
       "      <td>[10.797, 10.79]</td>\n",
       "      <td>[4.313, 4.308]</td>\n",
       "      <td>[[0.037, 0.037]]</td>\n",
       "    </tr>\n",
       "  </tbody>\n",
       "</table>\n",
       "</div>"
      ],
      "text/plain": [
       "   g    ClistDict PtoElist  coef_PtoE               Qi              Pi  \\\n",
       "0  0     {0: [2]}  [P0-E0]  [9.4e-05]         [11.214]         [4.653]   \n",
       "1  1  {0: [0, 1]}  [P0-E0]  [9.4e-05]  [10.797, 10.79]  [4.313, 4.308]   \n",
       "\n",
       "              Alist  \n",
       "0         [[0.037]]  \n",
       "1  [[0.037, 0.037]]  "
      ]
     },
     "execution_count": 43,
     "metadata": {},
     "output_type": "execute_result"
    },
    {
     "data": {
      "text/plain": [
       "{'PressionList': [4.313, 4.308, 4.653],\n",
       " 'DebitList': [10.797, 10.79, 11.214],\n",
       " 'Esplit': {},\n",
       " 'Debit': 32.8}"
      ]
     },
     "execution_count": 43,
     "metadata": {},
     "output_type": "execute_result"
    }
   ],
   "source": [
    "res,d = New_debit(algo,indiv)\n",
    "dfres = pd.DataFrame(res)\n",
    "dfres\n",
    "d"
   ]
  },
  {
   "cell_type": "code",
   "execution_count": 61,
   "id": "2b7c6c38",
   "metadata": {
    "hidden": true
   },
   "outputs": [
    {
     "name": "stdout",
     "output_type": "stream",
     "text": [
      "0.000235 [0.3 0.5] [0.000235 0.000235] [0.036 0.036] 9.400000000000001e-05\n"
     ]
    },
    {
     "data": {
      "text/plain": [
       "{'Qt': 32.55,\n",
       " 'Pt': 9.56,\n",
       " 'Qi': array([16.28, 16.27]),\n",
       " 'Pi': array([9.54, 9.53])}"
      ]
     },
     "execution_count": 61,
     "metadata": {},
     "output_type": "execute_result"
    }
   ],
   "source": [
    "def debit(algo,indiv,debitinput, grouped = True, split = True):\n",
    "    # print(d_EtoC_list,d_PtoE,Clist)\n",
    "    pompe,ev,ClistG,pt = debitinput.values()\n",
    "    d_EtoC_list = np.array([algo.dist['E{}-C{}'.format(ev,c)] for c in ClistG])\n",
    "    d_PtoE      = indiv['dist_Connect']['P{}-E{}'.format(pompe,ev)]\n",
    "    # print(d_EtoC_list,d_PtoE,ClistG)\n",
    "    \n",
    "    if not grouped : split = False\n",
    "    PompeType = pt\n",
    "\n",
    "    p = [-5.16e-04, -1.54e-02, 4.87]\n",
    "    p = [algo.DataCategorie['Pompe']['Values'][pt][i] for i in ['a','b','c']]\n",
    "\n",
    "    cE0 = 7.64e-04\n",
    "    coef_E = 0 if split else cE0\n",
    "    \n",
    "    coef_C  = 0.036\n",
    "    coef_C  = [algo.Nvals[i] for i in ClistG]\n",
    "    coef_C  = np.array(coef_C)\n",
    "    coef_d_EtoC  = 2.35e-04\n",
    "    coef_d_EtoC = np.array([algo.duriteVal['E{}-C{}'.format(ev,c)] for c in ClistG])\n",
    "    # coef_d_PtoE = algo.duriteVal['P{}-E{}'.format(pompe,ev)] \n",
    "    coef_d_PtoE = indiv['duriteVal']['P{}-E{}'.format(pompe,ev)]     \n",
    "    \n",
    "    print(coef_d_PtoE, d_EtoC_list, coef_d_EtoC, coef_C, coef_d_PtoE * d_PtoE)\n",
    "    A = coef_E + d_EtoC_list * coef_d_EtoC + coef_C \n",
    "    # print(A)\n",
    "    Z = ( A**-0.5).sum() if grouped else A**-0.5\n",
    "    coef_E = cE0 if split else 0\n",
    "    As = p[0] - (coef_d_PtoE * d_PtoE) - 1/(Z**2) - coef_E\n",
    "    Bs = p[1]\n",
    "    Cs = p[2]\n",
    "    delta = (Bs**2) - (4 * As * Cs)\n",
    "    Qt  = np.array((- Bs - delta**0.5)/(2*As))\n",
    "    \n",
    "    Pt = np.array(Qt**2 / Z**2)\n",
    "    # print(Pt)\n",
    "    # if (PompeType == 'Pc') &  (Pt >=  algo.Nozzlelimits[ClistG]).all():\n",
    "    #     Pt = algo.Nozzlelimits[ClistG]*1.1 #* Pt/Pt\n",
    "\n",
    "    a0 = p[0] * (Qt**2) + p[1] * Qt + p[2] - Pt\n",
    "    Qi = (Pt / A)**0.5\n",
    "    Pi = coef_C * (Qi**2)\n",
    "    key = ['Qt','Pt','Qi','Pi']\n",
    "    val = [Qt, Pt, Qi, Pi]\n",
    "    val = [v.round(2) for v in val]\n",
    "    \n",
    "    return dict(zip(key,val))\n",
    "\n",
    "\n",
    "debitinput = {'p': 0, 'e': 0, 'ClistG': [0, 1], 'pt': 'Pc'}\n",
    "debit(algo,indiv,debitinput, grouped = True, split = True)"
   ]
  },
  {
   "cell_type": "markdown",
   "id": "fa267b1b",
   "metadata": {
    "heading_collapsed": true
   },
   "source": [
    "# Run"
   ]
  },
  {
   "cell_type": "markdown",
   "id": "5456dcf9",
   "metadata": {
    "hidden": true
   },
   "source": [
    "## Algo"
   ]
  },
  {
   "cell_type": "code",
   "execution_count": 35,
   "id": "727baba9",
   "metadata": {
    "hidden": true,
    "scrolled": true
   },
   "outputs": [
    {
     "name": "stdout",
     "output_type": "stream",
     "text": [
      "Init algo namespace\n",
      "[('E0', 'E1'), ('E0', 'E2'), ('E0', 'E3'), ('E1', 'E2'), ('E1', 'E3'), ('E2', 'E3')]\n",
      "['confs', 'map', 'map bis', 'map (2)', 'map (3)']\n"
     ]
    }
   ],
   "source": [
    "file = {'SheetMapName' : 'map', 'uploaded_file' : \"data.xlsx\"}\n",
    "# file = {'SheetMapName' : 'map', 'uploaded_file' : None, 'DistFactor' : 0.1}\n",
    "file = {'SheetMapName' : 'map bis', 'uploaded_file' : None, 'DistFactor' : 0.1}\n",
    "algo = load_data_brut(file)\n",
    "# algo.dfmap"
   ]
  },
  {
   "cell_type": "raw",
   "id": "95daec54",
   "metadata": {
    "hidden": true
   },
   "source": [
    "algo.BusActif = True\n",
    "algo.Npc = 0"
   ]
  },
  {
   "cell_type": "raw",
   "id": "af2499af",
   "metadata": {
    "hidden": true
   },
   "source": [
    "keydrop= ['Nvals',\"confs\",\"dfcapteur\", \"dfslot\",\"dfline\",\"indivs\",\n",
    "          \"df\",'dfmap','A0','DataCategorie', 'DictLine','DictPos','dist','durite',\n",
    "        'duriteType','duriteVal','CombAll','Comb']\n",
    "d = {k : v for k,v in vars(algo).items() if k not in keydrop}\n",
    "s = pd.Series(d).rename('Val').astype(str)\n",
    "s.index= s.index.astype(str)\n",
    "s"
   ]
  },
  {
   "cell_type": "code",
   "execution_count": 26,
   "id": "8b670d8e",
   "metadata": {
    "hidden": true
   },
   "outputs": [
    {
     "data": {
      "text/plain": [
       "Index(['Clist', 'CtoE', 'Econnect', 'Elist', 'Ecount', 'EtoP', 'Pconnect',\n",
       "       'Plist', 'Pcount', 'Ptype0', 'List_EtoC', 'List_PtoE', 'Name', 'ID',\n",
       "       'parent', 'Name_txt', 'Epoch', 'Option', 'Ptype', 'dist_Connect',\n",
       "       'dist', 'BusName', 'BusDist', 'PtypeCo', 'PompesCo', 'PompeCount',\n",
       "       'PompeSum', 'duriteVal', 'BusConnectDict', 'PressionList', 'DebitList',\n",
       "       'Esplit', 'Debit', 'EvCount', 'EvSum', 'Masse', 'Cout', 'DetailsMasse',\n",
       "       'DetailsCout', 'fitness', 'Alive'],\n",
       "      dtype='object')"
      ]
     },
     "execution_count": 26,
     "metadata": {},
     "output_type": "execute_result"
    }
   ],
   "source": [
    "# generation de 10 indivs\n",
    "df = indiv_init(algo, 10)\n",
    "\n",
    "df.columns\n",
    "indiv = algo.indivs[0]"
   ]
  },
  {
   "cell_type": "markdown",
   "id": "2251573b",
   "metadata": {
    "heading_collapsed": true,
    "hidden": true
   },
   "source": [
    "## Plot"
   ]
  },
  {
   "cell_type": "code",
   "execution_count": 27,
   "id": "1c067001",
   "metadata": {
    "hidden": true
   },
   "outputs": [
    {
     "name": "stdout",
     "output_type": "stream",
     "text": [
      "(10, 7)\n"
     ]
    },
    {
     "data": {
      "image/png": "[encoded data removed]",
      "text/plain": [
       "<Figure size 800x800 with 1 Axes>"
      ]
     },
     "metadata": {},
     "output_type": "display_data"
    }
   ],
   "source": [
    "# Plot\n",
    "row = df.iloc[0]\n",
    "ElemsList = ['Clist','Elist','Plist']\n",
    "Elems = ['C','E','P']\n",
    "SelectSlot = []\n",
    "List_EtoC = row.List_EtoC\n",
    "List_PtoE = row.List_PtoE\n",
    "for n in range(3):\n",
    "    SelectSlot+= ['{}{}'.format(Elems[n],i) for i in row[ElemsList[n]]]\n",
    "SelectLine = row.Name\n",
    "if row.Option == 'Bus' :   SelectLine = row.BusName                \n",
    "fig = new_plot(algo, SelectLine, SelectSlot)"
   ]
  },
  {
   "cell_type": "markdown",
   "id": "f278d2e6",
   "metadata": {
    "hidden": true
   },
   "source": [
    "## ALL"
   ]
  },
  {
   "cell_type": "code",
   "execution_count": 25,
   "id": "a0a866f8",
   "metadata": {
    "hidden": true
   },
   "outputs": [
    {
     "name": "stdout",
     "output_type": "stream",
     "text": [
      "(10, 7)\n"
     ]
    },
    {
     "data": {
      "image/png": "[encoded data removed]",
      "text/plain": [
       "<Figure size 800x800 with 1 Axes>"
      ]
     },
     "metadata": {},
     "output_type": "display_data"
    }
   ],
   "source": [
    "# Plot all\n",
    "SelectLine = algo.DictLine.keys()\n",
    "SelectSlot = algo.DictPos.keys()\n",
    "\n",
    "fig = new_plot(algo, SelectLine, SelectSlot)"
   ]
  },
  {
   "cell_type": "markdown",
   "id": "804c68bb",
   "metadata": {
    "heading_collapsed": true
   },
   "source": [
    "# NewBus"
   ]
  },
  {
   "cell_type": "markdown",
   "id": "adc70e60",
   "metadata": {
    "heading_collapsed": true,
    "hidden": true
   },
   "source": [
    "## func"
   ]
  },
  {
   "cell_type": "code",
   "execution_count": null,
   "id": "760f3a7e",
   "metadata": {
    "hidden": true
   },
   "outputs": [],
   "source": [
    "def indiv_lines_conf(algo, indiv):\n",
    "    GroupDict = algo.GroupDict\n",
    "    Econnect = indiv['Econnect']\n",
    "    Ptype    = indiv['Ptype']\n",
    "    Pconnect = indiv['Pconnect']\n",
    "    GroupDict = algo.GroupDict\n",
    "    Ptype = indiv['Ptype']\n",
    "    Cconnect =  { v: k for k, l in indiv['Econnect'].items() for v in l } # a bouger de place \n",
    "\n",
    "    Pline = indiv['BusConnectDict']\n",
    "    IndivLine = []\n",
    "    Gconnect = {}\n",
    "    # loop sur BusConnectDict generer via func bus_connection qui doit prendre en compte le remove des PtoE \n",
    "    # list les mutiple connection au meme slot de pompe = remove ou autre solution \n",
    "    \n",
    "    for i, (p, Elist) in enumerate(Pline):\n",
    "        pt = Ptype[i]    \n",
    "        gr = collections.defaultdict(list)\n",
    "        Gconnect = {}\n",
    "\n",
    "        # gr dict pour une line\n",
    "        for e in Elist: \n",
    "            # on fait 1 le dict des group par {gr : c}  \n",
    "            Clist = indiv['Econnect'][e]\n",
    "            for c in Clist:\n",
    "                gr[GroupDict[c]].append(c) \n",
    "        gr = dict(gr)\n",
    "        print(p, Elist, gr, sorted(gr))\n",
    "\n",
    "        # etape la plus bizarre on utile le nouveau Connect pour organiser les ev dans l'ordre et par groupe pour juste lister ensuite dans calcul debit\n",
    "        for e in Elist:\n",
    "            for n in sorted(gr): # pas sur quie le sorted serve a quelque chose \n",
    "                g = gr[n]\n",
    "                d = collections.defaultdict(list)\n",
    "                for c in g :\n",
    "                    e = Cconnect[c]\n",
    "                    d[e].append(c)\n",
    "                Gconnect[n] = dict(d)       \n",
    "\n",
    "        LineConf = dict(\n",
    "            p = p,        \n",
    "            e = Elist,\n",
    "            gr = gr,\n",
    "            pt = 'Pa',\n",
    "            Gconnect = Gconnect\n",
    "        )\n",
    "        \n",
    "        IndivLine.append(LineConf)\n",
    "    return IndivLine"
   ]
  },
  {
   "cell_type": "code",
   "execution_count": 71,
   "id": "29c88f13",
   "metadata": {
    "hidden": true
   },
   "outputs": [
    {
     "data": {
      "text/html": [
       "<div>\n",
       "<style scoped>\n",
       "    .dataframe tbody tr th:only-of-type {\n",
       "        vertical-align: middle;\n",
       "    }\n",
       "\n",
       "    .dataframe tbody tr th {\n",
       "        vertical-align: top;\n",
       "    }\n",
       "\n",
       "    .dataframe thead th {\n",
       "        text-align: right;\n",
       "    }\n",
       "</style>\n",
       "<table border=\"1\" class=\"dataframe\">\n",
       "  <thead>\n",
       "    <tr style=\"text-align: right;\">\n",
       "      <th></th>\n",
       "      <th>g</th>\n",
       "      <th>ClistDict</th>\n",
       "      <th>PtoElist</th>\n",
       "      <th>coef_PtoE</th>\n",
       "      <th>Qi</th>\n",
       "      <th>Pi</th>\n",
       "      <th>Alist</th>\n",
       "    </tr>\n",
       "  </thead>\n",
       "  <tbody>\n",
       "    <tr>\n",
       "      <th>0</th>\n",
       "      <td>1</td>\n",
       "      <td>{0: [0, 2]}</td>\n",
       "      <td>[P0-E0]</td>\n",
       "      <td>[9.4e-05]</td>\n",
       "      <td>[10.797, 10.8]</td>\n",
       "      <td>[4.313, 4.316]</td>\n",
       "      <td>[[0.037, 0.037]]</td>\n",
       "    </tr>\n",
       "    <tr>\n",
       "      <th>1</th>\n",
       "      <td>0</td>\n",
       "      <td>{1: [1]}</td>\n",
       "      <td>[P0-E1]</td>\n",
       "      <td>[0.000141]</td>\n",
       "      <td>[11.226]</td>\n",
       "      <td>[4.663]</td>\n",
       "      <td>[[0.037]]</td>\n",
       "    </tr>\n",
       "    <tr>\n",
       "      <th>2</th>\n",
       "      <td>1</td>\n",
       "      <td>{1: [3]}</td>\n",
       "      <td>[P0-E1]</td>\n",
       "      <td>[0.000141]</td>\n",
       "      <td>[11.229]</td>\n",
       "      <td>[4.665]</td>\n",
       "      <td>[[0.037]]</td>\n",
       "    </tr>\n",
       "    <tr>\n",
       "      <th>3</th>\n",
       "      <td>0</td>\n",
       "      <td>{2: [4]}</td>\n",
       "      <td>[P1-E2]</td>\n",
       "      <td>[4.7e-05]</td>\n",
       "      <td>[11.227]</td>\n",
       "      <td>[4.664]</td>\n",
       "      <td>[[0.037]]</td>\n",
       "    </tr>\n",
       "  </tbody>\n",
       "</table>\n",
       "</div>"
      ],
      "text/plain": [
       "   g    ClistDict PtoElist   coef_PtoE              Qi              Pi  \\\n",
       "0  1  {0: [0, 2]}  [P0-E0]   [9.4e-05]  [10.797, 10.8]  [4.313, 4.316]   \n",
       "1  0     {1: [1]}  [P0-E1]  [0.000141]        [11.226]         [4.663]   \n",
       "2  1     {1: [3]}  [P0-E1]  [0.000141]        [11.229]         [4.665]   \n",
       "3  0     {2: [4]}  [P1-E2]   [4.7e-05]        [11.227]         [4.664]   \n",
       "\n",
       "              Alist  \n",
       "0  [[0.037, 0.037]]  \n",
       "1         [[0.037]]  \n",
       "2         [[0.037]]  \n",
       "3         [[0.037]]  "
      ]
     },
     "execution_count": 71,
     "metadata": {},
     "output_type": "execute_result"
    }
   ],
   "source": [
    "def New_debit(algo,indiv):\n",
    "    res = []\n",
    "    for line in IndivLine:\n",
    "        pt = line['pt']\n",
    "        p = line['p']\n",
    "        Q0 = np.arange(0.1,80,0.1)\n",
    "        for g , ClistDict in line['Gconnect'].items():\n",
    "            g , ClistDict\n",
    "            Elist = ClistDict.keys()\n",
    "            # ClistDict = line['Gconnect']\n",
    "            PtoElist  = ['P{}-E{}'.format(p,e) for e in Elist]\n",
    "             # tres important puisque ordre de calucl a respecter \n",
    "            coef_PtoE = [DictLine[line]['duriteVal'] * indiv['BusDist'][line] for line in PtoElist]\n",
    "            coef_PtoE = np.round(coef_PtoE,6)\n",
    "            a,b,c = [algo.DataCategorie['Pompe']['Values'][pt][i] for i in ['a','b','c']]\n",
    "            G = a * Q0**2 + b*Q0 +c\n",
    "            Qx = 0\n",
    "\n",
    "            Qlist, Alist = [] , []\n",
    "\n",
    "            for i, (e,Clist) in enumerate(ClistDict.items()): # changer en list pour avoir l'ordre !!\n",
    "    #             print(i, e,EClist)\n",
    "                # calcul des coef comme avant \n",
    "                coef_C      = np.array([algo.Nvals[i] for i in Clist])\n",
    "                d_EtoC      = np.array([algo.dist['E{}-C{}'.format(e,c)] for c in Clist])\n",
    "                coef_d_EtoC = np.array([algo.duriteVal['E{}-C{}'.format(e,c)] for c in Clist])\n",
    "                coef_E = 7.64e-04  \n",
    "\n",
    "                # new si pas de capteur on a juste le coef de droite = 0 normalement \n",
    "                # le truc c'est quil faudra faire cette loop dans le cas de group ou le premier Ev dn'est pas activer \n",
    "                # donc prendre en compte pour le calcul de coef_PtoE\n",
    "                G = G - coef_PtoE[i]*(Q0-Qx)**2\n",
    "                G[G<0] = 0\n",
    "                A = coef_E + d_EtoC * coef_d_EtoC + coef_C \n",
    "    #             print(coef_E ,d_EtoC , coef_d_EtoC ,coef_C,  A)\n",
    "                Alist.append(A.round(3))\n",
    "                # magie on tile la mtrice sur A step correspond au tableau excel etendu sur la droite\n",
    "                Qlist.append(np.sqrt(G / A[:,np.newaxis]))\n",
    "                Qi = np.vstack(Qlist)  # a essayer de passer en append coté numpy \n",
    "                Qx = Qi.sum(0)\n",
    "\n",
    "            # le offset de -1 pour retrouver la plus proche valeur de Q0 -Qx facile \n",
    "            idx = np.searchsorted(Q0 - Qx, -1)\n",
    "            # idx\n",
    "            Qi = np.vstack(Qlist)[:,idx].round(3)\n",
    "            Pi = (np.concatenate(Alist)* (Qi**2)).round(3)\n",
    "            r = dict(\n",
    "                g = g,\n",
    "                ClistDict = ClistDict,\n",
    "                PtoElist = PtoElist,\n",
    "                coef_PtoE = coef_PtoE,\n",
    "                Qi = Qi, \n",
    "                Pi = Pi,\n",
    "                Alist = Alist,\n",
    "            )\n",
    "            res.append(r)\n",
    "    return res\n",
    "\n",
    "    "
   ]
  },
  {
   "cell_type": "code",
   "execution_count": null,
   "id": "fcac12ce",
   "metadata": {
    "hidden": true
   },
   "outputs": [],
   "source": [
    "c1, c2, c3\n",
    "Z = 1/(c1+c2+c3)\n",
    "coeff = 1/Z"
   ]
  },
  {
   "cell_type": "markdown",
   "id": "3288a163",
   "metadata": {
    "hidden": true
   },
   "source": [
    "## load"
   ]
  },
  {
   "cell_type": "code",
   "execution_count": 20,
   "id": "f84ffdd8",
   "metadata": {
    "hidden": true
   },
   "outputs": [
    {
     "name": "stdout",
     "output_type": "stream",
     "text": [
      "Init algo namespace\n",
      "['E0', 'E1', 'E2'] [('E0', 'E1'), ('E0', 'E2'), ('E1', 'E2')]\n",
      "['confs', 'map', 'map bis', 'map s2', 'map (2)', 'map (3)']\n"
     ]
    },
    {
     "data": {
      "text/plain": [
       "[True, True]"
      ]
     },
     "execution_count": 20,
     "metadata": {},
     "output_type": "execute_result"
    }
   ],
   "source": [
    "file = {'SheetMapName' : 'map', 'uploaded_file' : \"data.xlsx\",'DistFactor' : 0.1}\n",
    "# file = {'SheetMapName' : 'map', 'uploaded_file' : None, 'DistFactor' : 0.1}\n",
    "# file = {'SheetMapName' : 'map bis', 'uploaded_file' : None, 'DistFactor' : 0.1}\n",
    "algo = load_data_brut(file)\n",
    "algo.ListBusPactif\n",
    "algo.BusPactif = [True, True]\n",
    "# algo.dfmap"
   ]
  },
  {
   "cell_type": "code",
   "execution_count": 19,
   "id": "6a520468",
   "metadata": {
    "hidden": true
   },
   "outputs": [
    {
     "name": "stdout",
     "output_type": "stream",
     "text": [
      "Indiv_reverse [0, 1, 2] [1, 1, 1] [1]\n",
      "bus\n",
      "{'PressionList': [4.16, 4.16, 4.5], 'DebitList': [10.74, 10.75, 11.18], 'Esplit': {1: [0, 1, 2]}, 'Debit': 32.7}\n",
      "[1, 1, 0]\n",
      "[(1, [1])]\n",
      "[{'p': 1, 'e': [1], 'gr': {1: [0, 1], 0: [2]}, 'pt': 'Pa', 'Gconnect': {0: {1: [2]}, 1: {1: [0, 1]}}}]\n",
      "[{'g': 0, 'ClistDict': {1: [2]}, 'PtoElist': ['P1-E1'], 'coef_PtoE': array([9.4e-05]), 'Qi': array([11.214]), 'Pi': array([4.653]), 'Alist': [array([0.037])]}, {'g': 1, 'ClistDict': {1: [0, 1]}, 'PtoElist': ['P1-E1'], 'coef_PtoE': array([9.4e-05]), 'Qi': array([10.79 , 10.797]), 'Pi': array([4.308, 4.313]), 'Alist': [array([0.037, 0.037])]}]\n",
      "[4.308, 4.313, 4.653]\n"
     ]
    }
   ],
   "source": [
    "algo.GroupDict = [1,1,0]\n",
    "Name = \"E1-C0,E1-C1,E1-C2,P1-E1\"\n",
    "indiv  = Indiv_reverse(Name,algo)"
   ]
  },
  {
   "cell_type": "code",
   "execution_count": 17,
   "id": "c188c9f8",
   "metadata": {
    "hidden": true
   },
   "outputs": [
    {
     "data": {
      "text/plain": [
       "False"
      ]
     },
     "execution_count": 17,
     "metadata": {},
     "output_type": "execute_result"
    }
   ],
   "source": [
    "algo.BusActif"
   ]
  },
  {
   "cell_type": "code",
   "execution_count": 12,
   "id": "e54a210c",
   "metadata": {
    "hidden": true
   },
   "outputs": [
    {
     "ename": "NameError",
     "evalue": "name 'indiv' is not defined",
     "output_type": "error",
     "traceback": [
      "\u001b[1;31m---------------------------------------------------------------------------\u001b[0m",
      "\u001b[1;31mNameError\u001b[0m                                 Traceback (most recent call last)",
      "Cell \u001b[1;32mIn[12], line 1\u001b[0m\n\u001b[1;32m----> 1\u001b[0m IndivLine \u001b[38;5;241m=\u001b[39m indiv_lines_conf(algo, \u001b[43mindiv\u001b[49m)\n",
      "\u001b[1;31mNameError\u001b[0m: name 'indiv' is not defined"
     ]
    }
   ],
   "source": [
    "IndivLine = indiv_lines_conf(algo, indiv)"
   ]
  },
  {
   "cell_type": "raw",
   "id": "7f3c1495",
   "metadata": {
    "collapsed": true,
    "hidden": true
   },
   "source": [
    "algo.DataCategorie"
   ]
  },
  {
   "cell_type": "code",
   "execution_count": 13,
   "id": "6747461a",
   "metadata": {
    "hidden": true
   },
   "outputs": [],
   "source": [
    "algo.Group = True\n",
    "algo.GroupDict = [1,0,1,2,2]\n",
    "algo.GroupDict = [1,0,1,1,0]\n",
    "algo.GroupDict = [1,0,1,0,0]\n",
    "algo.GroupDict = [0,1,2,3,4]\n",
    "# algo.GroupDict = [1,1,1,1,1]\n",
    "# algo.GroupDict = [1,0,1,2,2]"
   ]
  },
  {
   "cell_type": "code",
   "execution_count": 43,
   "id": "84a632f8",
   "metadata": {
    "hidden": true
   },
   "outputs": [
    {
     "data": {
      "text/plain": [
       "[True, True]"
      ]
     },
     "execution_count": 43,
     "metadata": {},
     "output_type": "execute_result"
    }
   ],
   "source": [
    "[algo.BusPactif[p] for p in indiv['Plist']]"
   ]
  },
  {
   "cell_type": "code",
   "execution_count": 14,
   "id": "6514c389",
   "metadata": {
    "hidden": true
   },
   "outputs": [
    {
     "name": "stdout",
     "output_type": "stream",
     "text": [
      "Indiv_reverse [0, 1, 2, 3, 4] [0, 1, 0, 1, 2] [0, 0, 0]\n"
     ]
    },
    {
     "data": {
      "text/plain": [
       "{0: [0, 1, 2]}"
      ]
     },
     "execution_count": 14,
     "metadata": {},
     "output_type": "execute_result"
    },
    {
     "data": {
      "text/plain": [
       "[(0, [2, 0, 1])]"
      ]
     },
     "execution_count": 14,
     "metadata": {},
     "output_type": "execute_result"
    }
   ],
   "source": [
    "# algo.BusActif = False\n",
    "algo.BusActif  = True\n",
    "algo.BusPactif = [True, True]\n",
    "algo.Npc = 0\n",
    "# indiv  = Indiv_reverse('E0-C0,E0-C1,E2-C2,P0-E0,P0-E1,P0-E2',algo)\n",
    "indiv  = Indiv_reverse('E0-C0,E1-C1,E1-C3,E2-C4,E0-C2,P0-E0,P0-E1,P0-E2',algo)\n",
    "indiv['Pconnect']\n",
    "indiv['BusConnectDict']"
   ]
  },
  {
   "cell_type": "code",
   "execution_count": 15,
   "id": "b32efb34",
   "metadata": {
    "hidden": true
   },
   "outputs": [
    {
     "data": {
      "text/html": [
       "<div>\n",
       "<style scoped>\n",
       "    .dataframe tbody tr th:only-of-type {\n",
       "        vertical-align: middle;\n",
       "    }\n",
       "\n",
       "    .dataframe tbody tr th {\n",
       "        vertical-align: top;\n",
       "    }\n",
       "\n",
       "    .dataframe thead th {\n",
       "        text-align: right;\n",
       "    }\n",
       "</style>\n",
       "<table border=\"1\" class=\"dataframe\">\n",
       "  <thead>\n",
       "    <tr style=\"text-align: right;\">\n",
       "      <th></th>\n",
       "      <th>p</th>\n",
       "      <th>e</th>\n",
       "      <th>gr</th>\n",
       "      <th>pt</th>\n",
       "      <th>Gconnect</th>\n",
       "    </tr>\n",
       "  </thead>\n",
       "  <tbody>\n",
       "    <tr>\n",
       "      <th>0</th>\n",
       "      <td>0</td>\n",
       "      <td>[2, 0, 1]</td>\n",
       "      <td>{4: [4], 0: [0], 2: [2], 1: [1], 3: [3]}</td>\n",
       "      <td>Pa</td>\n",
       "      <td>{0: {0: [0]}, 1: {1: [1]}, 2: {0: [2]}, 3: {1:...</td>\n",
       "    </tr>\n",
       "  </tbody>\n",
       "</table>\n",
       "</div>"
      ],
      "text/plain": [
       "   p          e                                        gr  pt  \\\n",
       "0  0  [2, 0, 1]  {4: [4], 0: [0], 2: [2], 1: [1], 3: [3]}  Pa   \n",
       "\n",
       "                                            Gconnect  \n",
       "0  {0: {0: [0]}, 1: {1: [1]}, 2: {0: [2]}, 3: {1:...  "
      ]
     },
     "execution_count": 15,
     "metadata": {},
     "output_type": "execute_result"
    }
   ],
   "source": [
    "IndivLine = indiv_lines_conf(algo, indiv)\n",
    "indiv['IndivLine'] = IndivLine\n",
    "pd.DataFrame(IndivLine)\n",
    "# print(json.dumps(d, sort_keys=True, indent=3))"
   ]
  },
  {
   "cell_type": "code",
   "execution_count": 16,
   "id": "53c08ba3",
   "metadata": {
    "hidden": true
   },
   "outputs": [
    {
     "data": {
      "text/html": [
       "<div>\n",
       "<style scoped>\n",
       "    .dataframe tbody tr th:only-of-type {\n",
       "        vertical-align: middle;\n",
       "    }\n",
       "\n",
       "    .dataframe tbody tr th {\n",
       "        vertical-align: top;\n",
       "    }\n",
       "\n",
       "    .dataframe thead th {\n",
       "        text-align: right;\n",
       "    }\n",
       "</style>\n",
       "<table border=\"1\" class=\"dataframe\">\n",
       "  <thead>\n",
       "    <tr style=\"text-align: right;\">\n",
       "      <th></th>\n",
       "      <th>g</th>\n",
       "      <th>ClistDict</th>\n",
       "      <th>PtoElist</th>\n",
       "      <th>coef_PtoE</th>\n",
       "      <th>Qi</th>\n",
       "      <th>Pi</th>\n",
       "      <th>Alist</th>\n",
       "    </tr>\n",
       "  </thead>\n",
       "  <tbody>\n",
       "    <tr>\n",
       "      <th>0</th>\n",
       "      <td>0</td>\n",
       "      <td>{0: [0]}</td>\n",
       "      <td>[P0-E0]</td>\n",
       "      <td>[9.4e-05]</td>\n",
       "      <td>[11.232]</td>\n",
       "      <td>[4.668]</td>\n",
       "      <td>[[0.037]]</td>\n",
       "    </tr>\n",
       "    <tr>\n",
       "      <th>1</th>\n",
       "      <td>1</td>\n",
       "      <td>{1: [1]}</td>\n",
       "      <td>[P0-E1]</td>\n",
       "      <td>[4.7e-05]</td>\n",
       "      <td>[11.238]</td>\n",
       "      <td>[4.673]</td>\n",
       "      <td>[[0.037]]</td>\n",
       "    </tr>\n",
       "    <tr>\n",
       "      <th>2</th>\n",
       "      <td>2</td>\n",
       "      <td>{0: [2]}</td>\n",
       "      <td>[P0-E0]</td>\n",
       "      <td>[9.4e-05]</td>\n",
       "      <td>[11.235]</td>\n",
       "      <td>[4.67]</td>\n",
       "      <td>[[0.037]]</td>\n",
       "    </tr>\n",
       "    <tr>\n",
       "      <th>3</th>\n",
       "      <td>3</td>\n",
       "      <td>{1: [3]}</td>\n",
       "      <td>[P0-E1]</td>\n",
       "      <td>[4.7e-05]</td>\n",
       "      <td>[11.241]</td>\n",
       "      <td>[4.675]</td>\n",
       "      <td>[[0.037]]</td>\n",
       "    </tr>\n",
       "    <tr>\n",
       "      <th>4</th>\n",
       "      <td>4</td>\n",
       "      <td>{2: [4]}</td>\n",
       "      <td>[P0-E2]</td>\n",
       "      <td>[4.7e-05]</td>\n",
       "      <td>[11.227]</td>\n",
       "      <td>[4.664]</td>\n",
       "      <td>[[0.037]]</td>\n",
       "    </tr>\n",
       "  </tbody>\n",
       "</table>\n",
       "</div>"
      ],
      "text/plain": [
       "   g ClistDict PtoElist  coef_PtoE        Qi       Pi      Alist\n",
       "0  0  {0: [0]}  [P0-E0]  [9.4e-05]  [11.232]  [4.668]  [[0.037]]\n",
       "1  1  {1: [1]}  [P0-E1]  [4.7e-05]  [11.238]  [4.673]  [[0.037]]\n",
       "2  2  {0: [2]}  [P0-E0]  [9.4e-05]  [11.235]   [4.67]  [[0.037]]\n",
       "3  3  {1: [3]}  [P0-E1]  [4.7e-05]  [11.241]  [4.675]  [[0.037]]\n",
       "4  4  {2: [4]}  [P0-E2]  [4.7e-05]  [11.227]  [4.664]  [[0.037]]"
      ]
     },
     "execution_count": 16,
     "metadata": {},
     "output_type": "execute_result"
    },
    {
     "data": {
      "text/plain": [
       "{'PressionList': [4.668, 4.673, 4.67, 4.675, 4.664],\n",
       " 'DebitList': [11.232, 11.238, 11.235, 11.241, 11.227],\n",
       " 'Esplit': {},\n",
       " 'Debit': 10}"
      ]
     },
     "execution_count": 16,
     "metadata": {},
     "output_type": "execute_result"
    }
   ],
   "source": [
    "res,d = New_debit(algo,indiv)\n",
    "dfres = pd.DataFrame(res)\n",
    "dfres\n",
    "d"
   ]
  },
  {
   "cell_type": "code",
   "execution_count": 8,
   "id": "7d9b3414",
   "metadata": {
    "hidden": true
   },
   "outputs": [
    {
     "name": "stdout",
     "output_type": "stream",
     "text": [
      "139 µs ± 1.31 µs per loop (mean ± std. dev. of 7 runs, 10,000 loops each)\n"
     ]
    }
   ],
   "source": [
    "%%timeit\n",
    "IndivLine = indiv_lines_conf(algo, indiv)\n",
    "indiv['IndivLine'] = IndivLine\n",
    "res,d = New_debit(algo,indiv)"
   ]
  },
  {
   "cell_type": "code",
   "execution_count": 11,
   "id": "49f7cd6f",
   "metadata": {
    "hidden": true
   },
   "outputs": [
    {
     "name": "stdout",
     "output_type": "stream",
     "text": [
      "113 µs ± 744 ns per loop (mean ± std. dev. of 7 runs, 10,000 loops each)\n"
     ]
    }
   ],
   "source": [
    "%%timeit\n",
    "d = Calcul_Debit(algo ,indiv, True)"
   ]
  },
  {
   "cell_type": "code",
   "execution_count": 17,
   "id": "85263e6c",
   "metadata": {
    "hidden": true
   },
   "outputs": [
    {
     "data": {
      "text/plain": [
       "[11.232, 11.238, 11.235, 11.241, 11.227]"
      ]
     },
     "execution_count": 17,
     "metadata": {},
     "output_type": "execute_result"
    },
    {
     "data": {
      "text/plain": [
       "[4.668, 4.673, 4.67, 4.675, 4.664]"
      ]
     },
     "execution_count": 17,
     "metadata": {},
     "output_type": "execute_result"
    }
   ],
   "source": [
    "indiv['DebitList']\n",
    "indiv['PressionList']"
   ]
  },
  {
   "cell_type": "code",
   "execution_count": 82,
   "id": "a497a0b8",
   "metadata": {
    "hidden": true
   },
   "outputs": [
    {
     "data": {
      "text/plain": [
       "[10.797, 10.772, 10.8, 10.775, 11.227]"
      ]
     },
     "execution_count": 82,
     "metadata": {},
     "output_type": "execute_result"
    },
    {
     "data": {
      "text/plain": [
       "[4.313, 4.293, 4.316, 4.296, 4.664]"
      ]
     },
     "execution_count": 82,
     "metadata": {},
     "output_type": "execute_result"
    }
   ],
   "source": [
    "indiv['DebitList']\n",
    "indiv['PressionList']"
   ]
  },
  {
   "cell_type": "code",
   "execution_count": 72,
   "id": "19ac162f",
   "metadata": {
    "hidden": true
   },
   "outputs": [
    {
     "data": {
      "text/plain": [
       "([0, 2], array([10.797, 10.8  ]))"
      ]
     },
     "execution_count": 72,
     "metadata": {},
     "output_type": "execute_result"
    },
    {
     "data": {
      "text/plain": [
       "([1, 3], array([10.772, 10.775]))"
      ]
     },
     "execution_count": 72,
     "metadata": {},
     "output_type": "execute_result"
    },
    {
     "data": {
      "text/plain": [
       "([4], array([11.227]))"
      ]
     },
     "execution_count": 72,
     "metadata": {},
     "output_type": "execute_result"
    }
   ],
   "source": [
    "Debit = {}\n",
    "Pression = {}\n",
    "for v in res:\n",
    "    Clist = list(itertools.chain.from_iterable(v['ClistDict'].values()))\n",
    "    Clist ,v['Qi']\n",
    "    for i , c in enumerate(Clist):\n",
    "        Debit[c]    = v['Qi'][i]\n",
    "        Pression[c] = v['Pi'][i]"
   ]
  },
  {
   "cell_type": "code",
   "execution_count": 76,
   "id": "4d8eabc4",
   "metadata": {
    "hidden": true
   },
   "outputs": [
    {
     "data": {
      "text/plain": [
       "[10.797, 10.772, 10.8, 10.775, 11.227]"
      ]
     },
     "execution_count": 76,
     "metadata": {},
     "output_type": "execute_result"
    }
   ],
   "source": [
    "list((dict(collections.OrderedDict(sorted(Debit.items()))).values()))"
   ]
  },
  {
   "cell_type": "code",
   "execution_count": 73,
   "id": "3d63ae77",
   "metadata": {
    "hidden": true
   },
   "outputs": [
    {
     "data": {
      "text/plain": [
       "{0: 10.797, 2: 10.8, 1: 10.772, 3: 10.775, 4: 11.227}"
      ]
     },
     "execution_count": 73,
     "metadata": {},
     "output_type": "execute_result"
    }
   ],
   "source": [
    "Debit"
   ]
  },
  {
   "cell_type": "code",
   "execution_count": 71,
   "id": "92030de2",
   "metadata": {
    "hidden": true
   },
   "outputs": [
    {
     "data": {
      "text/plain": [
       "{'PressionList': [4.16, 4.14, 4.16, 4.14, 4.51],\n",
       " 'DebitList': [10.75, 10.73, 10.75, 10.73, 11.2],\n",
       " 'Esplit': {0: [0, 2], 1: [1, 3], 2: [4]},\n",
       " 'Debit': 54.2}"
      ]
     },
     "execution_count": 71,
     "metadata": {},
     "output_type": "execute_result"
    }
   ],
   "source": [
    "Calcul_Debit(algo ,indiv, Split = algo.Split)"
   ]
  },
  {
   "cell_type": "code",
   "execution_count": 55,
   "id": "a3e82cb6",
   "metadata": {
    "hidden": true
   },
   "outputs": [
    {
     "data": {
      "text/plain": [
       "[4, 0, 2, 1, 3]"
      ]
     },
     "execution_count": 55,
     "metadata": {},
     "output_type": "execute_result"
    }
   ],
   "source": [
    "list(itertools.chain.from_iterable(v['ClistDict'].values()))"
   ]
  },
  {
   "cell_type": "code",
   "execution_count": null,
   "id": "839c3407",
   "metadata": {
    "hidden": true
   },
   "outputs": [],
   "source": [
    "collections.OrderedDict(sorted(d.items()))"
   ]
  },
  {
   "cell_type": "code",
   "execution_count": 52,
   "id": "bb358a68",
   "metadata": {
    "hidden": true
   },
   "outputs": [],
   "source": [
    "dfline = algo.dfline.copy()\n",
    "dfline['s'] = dfline.ID.str.split('-').str[0]\n",
    "dfline['t'] = dfline.ID.str.split('-').str[1]\n",
    "dfline['Connect'] = dfline['s'].str[0] + dfline['t'].str[0]\n",
    "dfline = dfline.set_index('ID')"
   ]
  },
  {
   "cell_type": "code",
   "execution_count": 53,
   "id": "4e2ec587",
   "metadata": {
    "hidden": true
   },
   "outputs": [
    {
     "data": {
      "text/html": [
       "<div>\n",
       "<style scoped>\n",
       "    .dataframe tbody tr th:only-of-type {\n",
       "        vertical-align: middle;\n",
       "    }\n",
       "\n",
       "    .dataframe tbody tr th {\n",
       "        vertical-align: top;\n",
       "    }\n",
       "\n",
       "    .dataframe thead th {\n",
       "        text-align: right;\n",
       "    }\n",
       "</style>\n",
       "<table border=\"1\" class=\"dataframe\">\n",
       "  <thead>\n",
       "    <tr style=\"text-align: right;\">\n",
       "      <th></th>\n",
       "      <th>path</th>\n",
       "      <th>dist</th>\n",
       "      <th>duriteType</th>\n",
       "      <th>duriteVal</th>\n",
       "      <th>s</th>\n",
       "      <th>t</th>\n",
       "      <th>Connect</th>\n",
       "    </tr>\n",
       "    <tr>\n",
       "      <th>ID</th>\n",
       "      <th></th>\n",
       "      <th></th>\n",
       "      <th></th>\n",
       "      <th></th>\n",
       "      <th></th>\n",
       "      <th></th>\n",
       "      <th></th>\n",
       "    </tr>\n",
       "  </thead>\n",
       "  <tbody>\n",
       "    <tr>\n",
       "      <th>E1-E0</th>\n",
       "      <td>[[2, 2], [2, 3], [2, 4]]</td>\n",
       "      <td>0.2</td>\n",
       "      <td>4</td>\n",
       "      <td>0.000235</td>\n",
       "      <td>E1</td>\n",
       "      <td>E0</td>\n",
       "      <td>EE</td>\n",
       "    </tr>\n",
       "    <tr>\n",
       "      <th>E2-E0</th>\n",
       "      <td>[[2, 2], [3, 2], [4, 2], [5, 2], [5, 3]]</td>\n",
       "      <td>0.4</td>\n",
       "      <td>4</td>\n",
       "      <td>0.000235</td>\n",
       "      <td>E2</td>\n",
       "      <td>E0</td>\n",
       "      <td>EE</td>\n",
       "    </tr>\n",
       "    <tr>\n",
       "      <th>E3-E0</th>\n",
       "      <td>[[2, 2], [3, 2], [4, 2], [5, 2], [6, 2], [7, 2...</td>\n",
       "      <td>0.6</td>\n",
       "      <td>4</td>\n",
       "      <td>0.000235</td>\n",
       "      <td>E3</td>\n",
       "      <td>E0</td>\n",
       "      <td>EE</td>\n",
       "    </tr>\n",
       "    <tr>\n",
       "      <th>E2-E1</th>\n",
       "      <td>[[2, 4], [3, 4], [4, 4], [5, 4], [5, 3]]</td>\n",
       "      <td>0.4</td>\n",
       "      <td>4</td>\n",
       "      <td>0.000235</td>\n",
       "      <td>E2</td>\n",
       "      <td>E1</td>\n",
       "      <td>EE</td>\n",
       "    </tr>\n",
       "    <tr>\n",
       "      <th>E3-E1</th>\n",
       "      <td>[[2, 4], [3, 4], [4, 4], [5, 4], [6, 4], [7, 4...</td>\n",
       "      <td>0.6</td>\n",
       "      <td>4</td>\n",
       "      <td>0.000235</td>\n",
       "      <td>E3</td>\n",
       "      <td>E1</td>\n",
       "      <td>EE</td>\n",
       "    </tr>\n",
       "    <tr>\n",
       "      <th>E3-E2</th>\n",
       "      <td>[[5, 3], [6, 3], [7, 3]]</td>\n",
       "      <td>0.2</td>\n",
       "      <td>4</td>\n",
       "      <td>0.000235</td>\n",
       "      <td>E3</td>\n",
       "      <td>E2</td>\n",
       "      <td>EE</td>\n",
       "    </tr>\n",
       "  </tbody>\n",
       "</table>\n",
       "</div>"
      ],
      "text/plain": [
       "                                                    path dist  duriteType  \\\n",
       "ID                                                                          \n",
       "E1-E0                           [[2, 2], [2, 3], [2, 4]]  0.2           4   \n",
       "E2-E0           [[2, 2], [3, 2], [4, 2], [5, 2], [5, 3]]  0.4           4   \n",
       "E3-E0  [[2, 2], [3, 2], [4, 2], [5, 2], [6, 2], [7, 2...  0.6           4   \n",
       "E2-E1           [[2, 4], [3, 4], [4, 4], [5, 4], [5, 3]]  0.4           4   \n",
       "E3-E1  [[2, 4], [3, 4], [4, 4], [5, 4], [6, 4], [7, 4...  0.6           4   \n",
       "E3-E2                           [[5, 3], [6, 3], [7, 3]]  0.2           4   \n",
       "\n",
       "       duriteVal   s   t Connect  \n",
       "ID                                \n",
       "E1-E0   0.000235  E1  E0      EE  \n",
       "E2-E0   0.000235  E2  E0      EE  \n",
       "E3-E0   0.000235  E3  E0      EE  \n",
       "E2-E1   0.000235  E2  E1      EE  \n",
       "E3-E1   0.000235  E3  E1      EE  \n",
       "E3-E2   0.000235  E3  E2      EE  "
      ]
     },
     "execution_count": 53,
     "metadata": {},
     "output_type": "execute_result"
    }
   ],
   "source": [
    "dfline[dfline.Connect == 'EE']"
   ]
  },
  {
   "cell_type": "code",
   "execution_count": 17,
   "id": "cba656c8",
   "metadata": {
    "hidden": true
   },
   "outputs": [],
   "source": [
    "lineDict= dfline.to_dict()"
   ]
  },
  {
   "cell_type": "code",
   "execution_count": 29,
   "id": "8329b013",
   "metadata": {
    "collapsed": true,
    "hidden": true
   },
   "outputs": [
    {
     "data": {
      "text/plain": [
       "{'E0-C0': {'path': array([[2, 2],\n",
       "         [1, 2],\n",
       "         [1, 1],\n",
       "         [0, 1]]),\n",
       "  'dist': 0.3,\n",
       "  'duriteType': 4,\n",
       "  'duriteVal': 0.000235},\n",
       " 'E0-C1': {'path': array([[2, 2],\n",
       "         [1, 2],\n",
       "         [1, 3],\n",
       "         [1, 4],\n",
       "         [1, 5],\n",
       "         [0, 5]]),\n",
       "  'dist': 0.5,\n",
       "  'duriteType': 4,\n",
       "  'duriteVal': 0.000235},\n",
       " 'E0-C2': {'path': array([[2, 2],\n",
       "         [2, 1],\n",
       "         [2, 0]]),\n",
       "  'dist': 0.2,\n",
       "  'duriteType': 4,\n",
       "  'duriteVal': 0.000235},\n",
       " 'E0-C3': {'path': array([[2, 2],\n",
       "         [1, 2],\n",
       "         [1, 3],\n",
       "         [1, 4],\n",
       "         [1, 5],\n",
       "         [2, 5],\n",
       "         [2, 6]]),\n",
       "  'dist': 0.6,\n",
       "  'duriteType': 4,\n",
       "  'duriteVal': 0.000235},\n",
       " 'E0-C4': {'path': array([[2, 2],\n",
       "         [3, 2],\n",
       "         [4, 2],\n",
       "         [5, 2],\n",
       "         [6, 2],\n",
       "         [7, 2],\n",
       "         [8, 2],\n",
       "         [8, 3],\n",
       "         [9, 3]]),\n",
       "  'dist': 0.8,\n",
       "  'duriteType': 4,\n",
       "  'duriteVal': 0.000235},\n",
       " 'P0-E0': {'path': array([[2, 2],\n",
       "         [3, 2],\n",
       "         [4, 2],\n",
       "         [5, 2],\n",
       "         [5, 1]]),\n",
       "  'dist': 0.4,\n",
       "  'duriteType': 4,\n",
       "  'duriteVal': 0.000235},\n",
       " 'P1-E0': {'path': array([[2, 2],\n",
       "         [3, 2],\n",
       "         [4, 2],\n",
       "         [4, 3],\n",
       "         [4, 4],\n",
       "         [5, 4],\n",
       "         [5, 5]]),\n",
       "  'dist': 0.6,\n",
       "  'duriteType': 4,\n",
       "  'duriteVal': 0.000235},\n",
       " 'E1-C0': {'path': array([[2, 4],\n",
       "         [1, 4],\n",
       "         [1, 3],\n",
       "         [1, 2],\n",
       "         [1, 1],\n",
       "         [0, 1]]),\n",
       "  'dist': 0.5,\n",
       "  'duriteType': 4,\n",
       "  'duriteVal': 0.000235},\n",
       " 'E1-C1': {'path': array([[2, 4],\n",
       "         [1, 4],\n",
       "         [1, 5],\n",
       "         [0, 5]]),\n",
       "  'dist': 0.3,\n",
       "  'duriteType': 4,\n",
       "  'duriteVal': 0.000235},\n",
       " 'E1-C2': {'path': array([[2, 4],\n",
       "         [1, 4],\n",
       "         [1, 3],\n",
       "         [1, 2],\n",
       "         [1, 1],\n",
       "         [2, 1],\n",
       "         [2, 0]]),\n",
       "  'dist': 0.6,\n",
       "  'duriteType': 4,\n",
       "  'duriteVal': 0.000235},\n",
       " 'E1-C3': {'path': array([[2, 4],\n",
       "         [2, 5],\n",
       "         [2, 6]]),\n",
       "  'dist': 0.2,\n",
       "  'duriteType': 4,\n",
       "  'duriteVal': 0.000235},\n",
       " 'E1-C4': {'path': array([[2, 4],\n",
       "         [3, 4],\n",
       "         [4, 4],\n",
       "         [5, 4],\n",
       "         [6, 4],\n",
       "         [7, 4],\n",
       "         [8, 4],\n",
       "         [8, 3],\n",
       "         [9, 3]]),\n",
       "  'dist': 0.8,\n",
       "  'duriteType': 4,\n",
       "  'duriteVal': 0.000235},\n",
       " 'P0-E1': {'path': array([[2, 4],\n",
       "         [3, 4],\n",
       "         [4, 4],\n",
       "         [4, 3],\n",
       "         [4, 2],\n",
       "         [5, 2],\n",
       "         [5, 1]]),\n",
       "  'dist': 0.6,\n",
       "  'duriteType': 4,\n",
       "  'duriteVal': 0.000235},\n",
       " 'P1-E1': {'path': array([[2, 4],\n",
       "         [3, 4],\n",
       "         [4, 4],\n",
       "         [5, 4],\n",
       "         [5, 5]]),\n",
       "  'dist': 0.4,\n",
       "  'duriteType': 4,\n",
       "  'duriteVal': 0.000235},\n",
       " 'E2-C0': {'path': array([[5, 3],\n",
       "         [4, 3],\n",
       "         [3, 3],\n",
       "         [2, 3],\n",
       "         [1, 3],\n",
       "         [1, 2],\n",
       "         [1, 1],\n",
       "         [0, 1]]),\n",
       "  'dist': 0.7,\n",
       "  'duriteType': 4,\n",
       "  'duriteVal': 0.000235},\n",
       " 'E2-C1': {'path': array([[5, 3],\n",
       "         [4, 3],\n",
       "         [3, 3],\n",
       "         [2, 3],\n",
       "         [1, 3],\n",
       "         [1, 4],\n",
       "         [1, 5],\n",
       "         [0, 5]]),\n",
       "  'dist': 0.7,\n",
       "  'duriteType': 4,\n",
       "  'duriteVal': 0.000235},\n",
       " 'E2-C2': {'path': array([[5, 3],\n",
       "         [4, 3],\n",
       "         [3, 3],\n",
       "         [3, 2],\n",
       "         [3, 1],\n",
       "         [2, 1],\n",
       "         [2, 0]]),\n",
       "  'dist': 0.6,\n",
       "  'duriteType': 4,\n",
       "  'duriteVal': 0.000235},\n",
       " 'E2-C3': {'path': array([[5, 3],\n",
       "         [4, 3],\n",
       "         [3, 3],\n",
       "         [3, 4],\n",
       "         [3, 5],\n",
       "         [2, 5],\n",
       "         [2, 6]]),\n",
       "  'dist': 0.6,\n",
       "  'duriteType': 4,\n",
       "  'duriteVal': 0.000235},\n",
       " 'E2-C4': {'path': array([[5, 3],\n",
       "         [6, 3],\n",
       "         [6, 2],\n",
       "         [7, 2],\n",
       "         [8, 2],\n",
       "         [8, 3],\n",
       "         [9, 3]]),\n",
       "  'dist': 0.6,\n",
       "  'duriteType': 4,\n",
       "  'duriteVal': 0.000235},\n",
       " 'P0-E2': {'path': array([[5, 3],\n",
       "         [5, 2],\n",
       "         [5, 1]]),\n",
       "  'dist': 0.2,\n",
       "  'duriteType': 4,\n",
       "  'duriteVal': 0.000235},\n",
       " 'P1-E2': {'path': array([[5, 3],\n",
       "         [5, 4],\n",
       "         [5, 5]]),\n",
       "  'dist': 0.2,\n",
       "  'duriteType': 4,\n",
       "  'duriteVal': 0.000235},\n",
       " 'E3-C0': {'path': array([[7, 3],\n",
       "         [6, 3],\n",
       "         [6, 2],\n",
       "         [5, 2],\n",
       "         [4, 2],\n",
       "         [3, 2],\n",
       "         [3, 1],\n",
       "         [2, 1],\n",
       "         [1, 1],\n",
       "         [0, 1]]),\n",
       "  'dist': 0.9,\n",
       "  'duriteType': 4,\n",
       "  'duriteVal': 0.000235},\n",
       " 'E3-C1': {'path': array([[7, 3],\n",
       "         [6, 3],\n",
       "         [6, 4],\n",
       "         [5, 4],\n",
       "         [4, 4],\n",
       "         [3, 4],\n",
       "         [3, 5],\n",
       "         [2, 5],\n",
       "         [1, 5],\n",
       "         [0, 5]]),\n",
       "  'dist': 0.9,\n",
       "  'duriteType': 4,\n",
       "  'duriteVal': 0.000235},\n",
       " 'E3-C2': {'path': array([[7, 3],\n",
       "         [6, 3],\n",
       "         [6, 2],\n",
       "         [5, 2],\n",
       "         [4, 2],\n",
       "         [3, 2],\n",
       "         [3, 1],\n",
       "         [2, 1],\n",
       "         [2, 0]]),\n",
       "  'dist': 0.8,\n",
       "  'duriteType': 4,\n",
       "  'duriteVal': 0.000235},\n",
       " 'E3-C3': {'path': array([[7, 3],\n",
       "         [6, 3],\n",
       "         [6, 4],\n",
       "         [5, 4],\n",
       "         [4, 4],\n",
       "         [3, 4],\n",
       "         [3, 5],\n",
       "         [2, 5],\n",
       "         [2, 6]]),\n",
       "  'dist': 0.8,\n",
       "  'duriteType': 4,\n",
       "  'duriteVal': 0.000235},\n",
       " 'E3-C4': {'path': array([[7, 3],\n",
       "         [8, 3],\n",
       "         [9, 3]]),\n",
       "  'dist': 0.2,\n",
       "  'duriteType': 4,\n",
       "  'duriteVal': 0.000235},\n",
       " 'P0-E3': {'path': array([[7, 3],\n",
       "         [6, 3],\n",
       "         [6, 2],\n",
       "         [5, 2],\n",
       "         [5, 1]]),\n",
       "  'dist': 0.4,\n",
       "  'duriteType': 4,\n",
       "  'duriteVal': 0.000235},\n",
       " 'P1-E3': {'path': array([[7, 3],\n",
       "         [6, 3],\n",
       "         [6, 4],\n",
       "         [5, 4],\n",
       "         [5, 5]]),\n",
       "  'dist': 0.4,\n",
       "  'duriteType': 4,\n",
       "  'duriteVal': 0.000235},\n",
       " 'E1-E0': {'path': array([[2, 2],\n",
       "         [2, 3],\n",
       "         [2, 4]]),\n",
       "  'dist': 0.2,\n",
       "  'duriteType': 4,\n",
       "  'duriteVal': 0.000235},\n",
       " 'E2-E0': {'path': array([[2, 2],\n",
       "         [3, 2],\n",
       "         [4, 2],\n",
       "         [5, 2],\n",
       "         [5, 3]]),\n",
       "  'dist': 0.4,\n",
       "  'duriteType': 4,\n",
       "  'duriteVal': 0.000235},\n",
       " 'E3-E0': {'path': array([[2, 2],\n",
       "         [3, 2],\n",
       "         [4, 2],\n",
       "         [5, 2],\n",
       "         [6, 2],\n",
       "         [7, 2],\n",
       "         [7, 3]]),\n",
       "  'dist': 0.6,\n",
       "  'duriteType': 4,\n",
       "  'duriteVal': 0.000235},\n",
       " 'E0-E1': {'path': array([[2, 4],\n",
       "         [2, 3],\n",
       "         [2, 2]]),\n",
       "  'dist': 0.2,\n",
       "  'duriteType': 4,\n",
       "  'duriteVal': 0.000235},\n",
       " 'E2-E1': {'path': array([[2, 4],\n",
       "         [3, 4],\n",
       "         [4, 4],\n",
       "         [5, 4],\n",
       "         [5, 3]]),\n",
       "  'dist': 0.4,\n",
       "  'duriteType': 4,\n",
       "  'duriteVal': 0.000235},\n",
       " 'E3-E1': {'path': array([[2, 4],\n",
       "         [3, 4],\n",
       "         [4, 4],\n",
       "         [5, 4],\n",
       "         [6, 4],\n",
       "         [7, 4],\n",
       "         [7, 3]]),\n",
       "  'dist': 0.6,\n",
       "  'duriteType': 4,\n",
       "  'duriteVal': 0.000235},\n",
       " 'E0-E2': {'path': array([[5, 3],\n",
       "         [4, 3],\n",
       "         [3, 3],\n",
       "         [2, 3],\n",
       "         [2, 2]]),\n",
       "  'dist': 0.4,\n",
       "  'duriteType': 4,\n",
       "  'duriteVal': 0.000235},\n",
       " 'E1-E2': {'path': array([[5, 3],\n",
       "         [4, 3],\n",
       "         [3, 3],\n",
       "         [2, 3],\n",
       "         [2, 4]]),\n",
       "  'dist': 0.4,\n",
       "  'duriteType': 4,\n",
       "  'duriteVal': 0.000235},\n",
       " 'E3-E2': {'path': array([[5, 3],\n",
       "         [6, 3],\n",
       "         [7, 3]]),\n",
       "  'dist': 0.2,\n",
       "  'duriteType': 4,\n",
       "  'duriteVal': 0.000235},\n",
       " 'E0-E3': {'path': array([[7, 3],\n",
       "         [6, 3],\n",
       "         [6, 2],\n",
       "         [5, 2],\n",
       "         [4, 2],\n",
       "         [3, 2],\n",
       "         [2, 2]]),\n",
       "  'dist': 0.6,\n",
       "  'duriteType': 4,\n",
       "  'duriteVal': 0.000235},\n",
       " 'E1-E3': {'path': array([[7, 3],\n",
       "         [6, 3],\n",
       "         [6, 4],\n",
       "         [5, 4],\n",
       "         [4, 4],\n",
       "         [3, 4],\n",
       "         [2, 4]]),\n",
       "  'dist': 0.6,\n",
       "  'duriteType': 4,\n",
       "  'duriteVal': 0.000235},\n",
       " 'E2-E3': {'path': array([[7, 3],\n",
       "         [6, 3],\n",
       "         [5, 3]]),\n",
       "  'dist': 0.2,\n",
       "  'duriteType': 4,\n",
       "  'duriteVal': 0.000235}}"
      ]
     },
     "execution_count": 29,
     "metadata": {},
     "output_type": "execute_result"
    }
   ],
   "source": [
    "DictLine = algo.DictLine\n",
    "DictLine"
   ]
  },
  {
   "cell_type": "code",
   "execution_count": 59,
   "id": "c47e3f93",
   "metadata": {
    "collapsed": true,
    "hidden": true
   },
   "outputs": [
    {
     "data": {
      "text/plain": [
       "{'Clist': [0, 1, 2, 3, 4],\n",
       " 'CtoE': [0, 1, 0, 1, 2],\n",
       " 'Econnect': {0: [0, 2], 1: [1, 3], 2: [4]},\n",
       " 'Elist': [0, 1, 2],\n",
       " 'Ecount': 3,\n",
       " 'EtoP': [0, 0, 1],\n",
       " 'Pconnect': {0: [0, 1], 1: [2]},\n",
       " 'Plist': [0, 1],\n",
       " 'Pcount': 2,\n",
       " 'Ptype0': array(['Pa', 'Pa', 'Pa'], dtype='<U2'),\n",
       " 'List_EtoC': [['E0-C0', 'E0-C2'], ['E1-C1', 'E1-C3'], ['E2-C4']],\n",
       " 'List_PtoE': [['P0-E0', 'P0-E1'], ['P1-E2']],\n",
       " 'Name': ['E0-C0',\n",
       "  'E0-C2',\n",
       "  'E1-C1',\n",
       "  'E1-C3',\n",
       "  'E2-C4',\n",
       "  'P0-E0',\n",
       "  'P0-E1',\n",
       "  'P1-E2'],\n",
       " 'ID': 2,\n",
       " 'parent': [],\n",
       " 'Name_txt': 'E0-C0,E0-C2,E1-C1,E1-C3,E2-C4,P0-E0,P0-E1,P1-E2',\n",
       " 'Epoch': 0,\n",
       " 'ListBusActif': [False, False, False],\n",
       " 'Option': 'Bus',\n",
       " 'Ptype': ['Pa', 'Pa', 'Pa'],\n",
       " 'dist_Connect': {'E0-C0': 0.3,\n",
       "  'E0-C2': 0.2,\n",
       "  'E1-C1': 0.3,\n",
       "  'E1-C3': 0.2,\n",
       "  'E2-C4': 0.6,\n",
       "  'P0-E0': 0.4,\n",
       "  'P0-E1': 0.6,\n",
       "  'P1-E2': 0.2},\n",
       " 'dist': 280,\n",
       " 'BusName': ['E0-C0',\n",
       "  'E0-C2',\n",
       "  'E1-C1',\n",
       "  'E1-C3',\n",
       "  'E2-C4',\n",
       "  'P0-E0',\n",
       "  'P0-E1',\n",
       "  'P1-E2'],\n",
       " 'BusDist': {'E0-C0': 0.3,\n",
       "  'E0-C2': 0.2,\n",
       "  'E1-C1': 0.3,\n",
       "  'E1-C3': 0.2,\n",
       "  'E2-C4': 0.6,\n",
       "  'P0-E0': 0.4,\n",
       "  'P0-E1': 0.6,\n",
       "  'P1-E2': 0.2},\n",
       " 'PtypeCo': {0: ['Pa', 'Pa'], 1: ['Pa']},\n",
       " 'PompesCo': {0: ['Pa'], 1: ['Pa']},\n",
       " 'PompeCount': {'P0': {'Pa': 1}, 'P1': {'Pa': 1}},\n",
       " 'PompeSum': {'Pa': 2},\n",
       " 'duriteVal': {'E0-C0': 0.000235,\n",
       "  'E0-C2': 0.000235,\n",
       "  'E1-C1': 0.000235,\n",
       "  'E1-C3': 0.000235,\n",
       "  'E2-C4': 0.000235,\n",
       "  'P0-E0': 0.000235,\n",
       "  'P0-E1': 0.000235,\n",
       "  'P1-E2': 0.000235},\n",
       " 'BusConnectDict': [],\n",
       " 'PressionList': [4.16, 4.51, 4.16, 4.51, 4.51],\n",
       " 'DebitList': [10.75, 11.19, 10.75, 11.2, 11.2],\n",
       " 'Esplit': {0: [0, 2], 1: [1, 3], 2: [4]},\n",
       " 'Debit': 55.1,\n",
       " 'EvCount': {'E0': 2, 'E1': 2, 'E2': 1},\n",
       " 'EvSum': 5,\n",
       " 'Masse': 1550,\n",
       " 'Cout': 66,\n",
       " 'DetailsMasse': {'Pompe': 272.0,\n",
       "  'Tuyau': 128.8,\n",
       "  'EV': 550.0,\n",
       "  'Reservoir': 600},\n",
       " 'DetailsCout': {'Pompe': 5.0, 'Tuyau': 1.0, 'EV': 30.0, 'Reservoir': 30},\n",
       " 'fitness': 280,\n",
       " 'Alive': True}"
      ]
     },
     "execution_count": 59,
     "metadata": {},
     "output_type": "execute_result"
    }
   ],
   "source": [
    "indiv"
   ]
  },
  {
   "cell_type": "markdown",
   "id": "571976aa",
   "metadata": {
    "heading_collapsed": true,
    "hidden": true
   },
   "source": [
    "### plot"
   ]
  },
  {
   "cell_type": "code",
   "execution_count": 193,
   "id": "8cab2e5a",
   "metadata": {
    "hidden": true
   },
   "outputs": [
    {
     "name": "stdout",
     "output_type": "stream",
     "text": [
      "(10, 7)\n"
     ]
    },
    {
     "data": {
      "image/png": "[encoded data removed]",
      "text/plain": [
       "<Figure size 500x500 with 1 Axes>"
      ]
     },
     "metadata": {},
     "output_type": "display_data"
    }
   ],
   "source": [
    "# Plot\n",
    "row = pd.Series(indiv)\n",
    "ElemsList = ['Clist','Elist','Plist']\n",
    "Elems = ['C','E','P']\n",
    "SelectSlot = []\n",
    "List_EtoC = row.List_EtoC\n",
    "List_PtoE = row.List_PtoE\n",
    "for n in range(3):\n",
    "    SelectSlot+= ['{}{}'.format(Elems[n],i) for i in row[ElemsList[n]]]\n",
    "SelectLine = row.Name\n",
    "if row.Option == 'Bus' :   SelectLine = row.BusName                \n",
    "fig = new_plot(algo, SelectLine, SelectSlot)\n",
    "fig.set_size_inches(5,5)"
   ]
  },
  {
   "cell_type": "markdown",
   "id": "ceb4ff1a",
   "metadata": {
    "heading_collapsed": true,
    "hidden": true
   },
   "source": [
    "## df refacto"
   ]
  },
  {
   "cell_type": "code",
   "execution_count": 94,
   "id": "088e6d22",
   "metadata": {
    "hidden": true
   },
   "outputs": [
    {
     "data": {
      "text/html": [
       "<div>\n",
       "<style scoped>\n",
       "    .dataframe tbody tr th:only-of-type {\n",
       "        vertical-align: middle;\n",
       "    }\n",
       "\n",
       "    .dataframe tbody tr th {\n",
       "        vertical-align: top;\n",
       "    }\n",
       "\n",
       "    .dataframe thead th {\n",
       "        text-align: right;\n",
       "    }\n",
       "</style>\n",
       "<table border=\"1\" class=\"dataframe\">\n",
       "  <thead>\n",
       "    <tr style=\"text-align: right;\">\n",
       "      <th></th>\n",
       "      <th>C0</th>\n",
       "      <th>C1</th>\n",
       "      <th>C2</th>\n",
       "      <th>C3</th>\n",
       "      <th>C4</th>\n",
       "      <th>E0</th>\n",
       "      <th>E1</th>\n",
       "      <th>E2</th>\n",
       "      <th>E3</th>\n",
       "      <th>P0</th>\n",
       "      <th>P1</th>\n",
       "    </tr>\n",
       "  </thead>\n",
       "  <tbody>\n",
       "    <tr>\n",
       "      <th>y</th>\n",
       "      <td>0</td>\n",
       "      <td>0</td>\n",
       "      <td>2</td>\n",
       "      <td>2</td>\n",
       "      <td>9</td>\n",
       "      <td>2</td>\n",
       "      <td>2</td>\n",
       "      <td>5</td>\n",
       "      <td>7</td>\n",
       "      <td>5</td>\n",
       "      <td>5</td>\n",
       "    </tr>\n",
       "    <tr>\n",
       "      <th>x</th>\n",
       "      <td>1</td>\n",
       "      <td>5</td>\n",
       "      <td>0</td>\n",
       "      <td>6</td>\n",
       "      <td>3</td>\n",
       "      <td>2</td>\n",
       "      <td>4</td>\n",
       "      <td>3</td>\n",
       "      <td>3</td>\n",
       "      <td>1</td>\n",
       "      <td>5</td>\n",
       "    </tr>\n",
       "  </tbody>\n",
       "</table>\n",
       "</div>"
      ],
      "text/plain": [
       "   C0  C1  C2  C3  C4  E0  E1  E2  E3  P0  P1\n",
       "y   0   0   2   2   9   2   2   5   7   5   5\n",
       "x   1   5   0   6   3   2   4   3   3   1   5"
      ]
     },
     "execution_count": 94,
     "metadata": {},
     "output_type": "execute_result"
    }
   ],
   "source": [
    "dfslot = pd.DataFrame(algo.DictPos).T.sort_index()\n",
    "dfslot.columns = ('y','x')\n",
    "dfslot.T"
   ]
  },
  {
   "cell_type": "code",
   "execution_count": 29,
   "id": "380c8995",
   "metadata": {
    "collapsed": true,
    "hidden": true
   },
   "outputs": [
    {
     "data": {
      "text/html": [
       "<div>\n",
       "<style scoped>\n",
       "    .dataframe tbody tr th:only-of-type {\n",
       "        vertical-align: middle;\n",
       "    }\n",
       "\n",
       "    .dataframe tbody tr th {\n",
       "        vertical-align: top;\n",
       "    }\n",
       "\n",
       "    .dataframe thead th {\n",
       "        text-align: right;\n",
       "    }\n",
       "</style>\n",
       "<table border=\"1\" class=\"dataframe\">\n",
       "  <thead>\n",
       "    <tr style=\"text-align: right;\">\n",
       "      <th></th>\n",
       "      <th>ID</th>\n",
       "      <th>path</th>\n",
       "      <th>dist</th>\n",
       "      <th>duriteType</th>\n",
       "      <th>duriteVal</th>\n",
       "      <th>s</th>\n",
       "      <th>t</th>\n",
       "    </tr>\n",
       "  </thead>\n",
       "  <tbody>\n",
       "    <tr>\n",
       "      <th>0</th>\n",
       "      <td>E0-C0</td>\n",
       "      <td>[[2, 2], [1, 2], [1, 1], [0, 1]]</td>\n",
       "      <td>0.3</td>\n",
       "      <td>4</td>\n",
       "      <td>0.000235</td>\n",
       "      <td>E0</td>\n",
       "      <td>C0</td>\n",
       "    </tr>\n",
       "    <tr>\n",
       "      <th>1</th>\n",
       "      <td>E0-C1</td>\n",
       "      <td>[[2, 2], [1, 2], [1, 3], [1, 4], [1, 5], [0, 5]]</td>\n",
       "      <td>0.5</td>\n",
       "      <td>4</td>\n",
       "      <td>0.000235</td>\n",
       "      <td>E0</td>\n",
       "      <td>C1</td>\n",
       "    </tr>\n",
       "    <tr>\n",
       "      <th>2</th>\n",
       "      <td>E0-C2</td>\n",
       "      <td>[[2, 2], [2, 1], [2, 0]]</td>\n",
       "      <td>0.2</td>\n",
       "      <td>4</td>\n",
       "      <td>0.000235</td>\n",
       "      <td>E0</td>\n",
       "      <td>C2</td>\n",
       "    </tr>\n",
       "    <tr>\n",
       "      <th>3</th>\n",
       "      <td>E0-C3</td>\n",
       "      <td>[[2, 2], [1, 2], [1, 3], [1, 4], [1, 5], [2, 5...</td>\n",
       "      <td>0.6</td>\n",
       "      <td>4</td>\n",
       "      <td>0.000235</td>\n",
       "      <td>E0</td>\n",
       "      <td>C3</td>\n",
       "    </tr>\n",
       "    <tr>\n",
       "      <th>4</th>\n",
       "      <td>E0-C4</td>\n",
       "      <td>[[2, 2], [3, 2], [4, 2], [5, 2], [6, 2], [7, 2...</td>\n",
       "      <td>0.8</td>\n",
       "      <td>4</td>\n",
       "      <td>0.000235</td>\n",
       "      <td>E0</td>\n",
       "      <td>C4</td>\n",
       "    </tr>\n",
       "    <tr>\n",
       "      <th>5</th>\n",
       "      <td>P0-E0</td>\n",
       "      <td>[[2, 2], [3, 2], [4, 2], [5, 2], [5, 1]]</td>\n",
       "      <td>0.4</td>\n",
       "      <td>4</td>\n",
       "      <td>0.000235</td>\n",
       "      <td>P0</td>\n",
       "      <td>E0</td>\n",
       "    </tr>\n",
       "    <tr>\n",
       "      <th>6</th>\n",
       "      <td>P1-E0</td>\n",
       "      <td>[[2, 2], [3, 2], [4, 2], [4, 3], [4, 4], [5, 4...</td>\n",
       "      <td>0.6</td>\n",
       "      <td>4</td>\n",
       "      <td>0.000235</td>\n",
       "      <td>P1</td>\n",
       "      <td>E0</td>\n",
       "    </tr>\n",
       "    <tr>\n",
       "      <th>7</th>\n",
       "      <td>E1-C0</td>\n",
       "      <td>[[2, 4], [1, 4], [1, 3], [1, 2], [1, 1], [0, 1]]</td>\n",
       "      <td>0.5</td>\n",
       "      <td>4</td>\n",
       "      <td>0.000235</td>\n",
       "      <td>E1</td>\n",
       "      <td>C0</td>\n",
       "    </tr>\n",
       "    <tr>\n",
       "      <th>8</th>\n",
       "      <td>E1-C1</td>\n",
       "      <td>[[2, 4], [1, 4], [1, 5], [0, 5]]</td>\n",
       "      <td>0.3</td>\n",
       "      <td>4</td>\n",
       "      <td>0.000235</td>\n",
       "      <td>E1</td>\n",
       "      <td>C1</td>\n",
       "    </tr>\n",
       "    <tr>\n",
       "      <th>9</th>\n",
       "      <td>E1-C2</td>\n",
       "      <td>[[2, 4], [1, 4], [1, 3], [1, 2], [1, 1], [2, 1...</td>\n",
       "      <td>0.6</td>\n",
       "      <td>4</td>\n",
       "      <td>0.000235</td>\n",
       "      <td>E1</td>\n",
       "      <td>C2</td>\n",
       "    </tr>\n",
       "    <tr>\n",
       "      <th>10</th>\n",
       "      <td>E1-C3</td>\n",
       "      <td>[[2, 4], [2, 5], [2, 6]]</td>\n",
       "      <td>0.2</td>\n",
       "      <td>4</td>\n",
       "      <td>0.000235</td>\n",
       "      <td>E1</td>\n",
       "      <td>C3</td>\n",
       "    </tr>\n",
       "    <tr>\n",
       "      <th>11</th>\n",
       "      <td>E1-C4</td>\n",
       "      <td>[[2, 4], [3, 4], [4, 4], [5, 4], [6, 4], [7, 4...</td>\n",
       "      <td>0.8</td>\n",
       "      <td>4</td>\n",
       "      <td>0.000235</td>\n",
       "      <td>E1</td>\n",
       "      <td>C4</td>\n",
       "    </tr>\n",
       "    <tr>\n",
       "      <th>12</th>\n",
       "      <td>P0-E1</td>\n",
       "      <td>[[2, 4], [3, 4], [4, 4], [4, 3], [4, 2], [5, 2...</td>\n",
       "      <td>0.6</td>\n",
       "      <td>4</td>\n",
       "      <td>0.000235</td>\n",
       "      <td>P0</td>\n",
       "      <td>E1</td>\n",
       "    </tr>\n",
       "    <tr>\n",
       "      <th>13</th>\n",
       "      <td>P1-E1</td>\n",
       "      <td>[[2, 4], [3, 4], [4, 4], [5, 4], [5, 5]]</td>\n",
       "      <td>0.4</td>\n",
       "      <td>4</td>\n",
       "      <td>0.000235</td>\n",
       "      <td>P1</td>\n",
       "      <td>E1</td>\n",
       "    </tr>\n",
       "    <tr>\n",
       "      <th>14</th>\n",
       "      <td>E2-C0</td>\n",
       "      <td>[[5, 3], [4, 3], [3, 3], [2, 3], [1, 3], [1, 2...</td>\n",
       "      <td>0.7</td>\n",
       "      <td>4</td>\n",
       "      <td>0.000235</td>\n",
       "      <td>E2</td>\n",
       "      <td>C0</td>\n",
       "    </tr>\n",
       "    <tr>\n",
       "      <th>15</th>\n",
       "      <td>E2-C1</td>\n",
       "      <td>[[5, 3], [4, 3], [3, 3], [2, 3], [1, 3], [1, 4...</td>\n",
       "      <td>0.7</td>\n",
       "      <td>4</td>\n",
       "      <td>0.000235</td>\n",
       "      <td>E2</td>\n",
       "      <td>C1</td>\n",
       "    </tr>\n",
       "    <tr>\n",
       "      <th>16</th>\n",
       "      <td>E2-C2</td>\n",
       "      <td>[[5, 3], [4, 3], [3, 3], [3, 2], [3, 1], [2, 1...</td>\n",
       "      <td>0.6</td>\n",
       "      <td>4</td>\n",
       "      <td>0.000235</td>\n",
       "      <td>E2</td>\n",
       "      <td>C2</td>\n",
       "    </tr>\n",
       "    <tr>\n",
       "      <th>17</th>\n",
       "      <td>E2-C3</td>\n",
       "      <td>[[5, 3], [4, 3], [3, 3], [3, 4], [3, 5], [2, 5...</td>\n",
       "      <td>0.6</td>\n",
       "      <td>4</td>\n",
       "      <td>0.000235</td>\n",
       "      <td>E2</td>\n",
       "      <td>C3</td>\n",
       "    </tr>\n",
       "    <tr>\n",
       "      <th>18</th>\n",
       "      <td>E2-C4</td>\n",
       "      <td>[[5, 3], [6, 3], [6, 2], [7, 2], [8, 2], [8, 3...</td>\n",
       "      <td>0.6</td>\n",
       "      <td>4</td>\n",
       "      <td>0.000235</td>\n",
       "      <td>E2</td>\n",
       "      <td>C4</td>\n",
       "    </tr>\n",
       "    <tr>\n",
       "      <th>19</th>\n",
       "      <td>P0-E2</td>\n",
       "      <td>[[5, 3], [5, 2], [5, 1]]</td>\n",
       "      <td>0.2</td>\n",
       "      <td>4</td>\n",
       "      <td>0.000235</td>\n",
       "      <td>P0</td>\n",
       "      <td>E2</td>\n",
       "    </tr>\n",
       "    <tr>\n",
       "      <th>20</th>\n",
       "      <td>P1-E2</td>\n",
       "      <td>[[5, 3], [5, 4], [5, 5]]</td>\n",
       "      <td>0.2</td>\n",
       "      <td>4</td>\n",
       "      <td>0.000235</td>\n",
       "      <td>P1</td>\n",
       "      <td>E2</td>\n",
       "    </tr>\n",
       "    <tr>\n",
       "      <th>21</th>\n",
       "      <td>E3-C0</td>\n",
       "      <td>[[7, 3], [6, 3], [6, 2], [5, 2], [4, 2], [3, 2...</td>\n",
       "      <td>0.9</td>\n",
       "      <td>4</td>\n",
       "      <td>0.000235</td>\n",
       "      <td>E3</td>\n",
       "      <td>C0</td>\n",
       "    </tr>\n",
       "    <tr>\n",
       "      <th>22</th>\n",
       "      <td>E3-C1</td>\n",
       "      <td>[[7, 3], [6, 3], [6, 4], [5, 4], [4, 4], [3, 4...</td>\n",
       "      <td>0.9</td>\n",
       "      <td>4</td>\n",
       "      <td>0.000235</td>\n",
       "      <td>E3</td>\n",
       "      <td>C1</td>\n",
       "    </tr>\n",
       "    <tr>\n",
       "      <th>23</th>\n",
       "      <td>E3-C2</td>\n",
       "      <td>[[7, 3], [6, 3], [6, 2], [5, 2], [4, 2], [3, 2...</td>\n",
       "      <td>0.8</td>\n",
       "      <td>4</td>\n",
       "      <td>0.000235</td>\n",
       "      <td>E3</td>\n",
       "      <td>C2</td>\n",
       "    </tr>\n",
       "    <tr>\n",
       "      <th>24</th>\n",
       "      <td>E3-C3</td>\n",
       "      <td>[[7, 3], [6, 3], [6, 4], [5, 4], [4, 4], [3, 4...</td>\n",
       "      <td>0.8</td>\n",
       "      <td>4</td>\n",
       "      <td>0.000235</td>\n",
       "      <td>E3</td>\n",
       "      <td>C3</td>\n",
       "    </tr>\n",
       "    <tr>\n",
       "      <th>25</th>\n",
       "      <td>E3-C4</td>\n",
       "      <td>[[7, 3], [8, 3], [9, 3]]</td>\n",
       "      <td>0.2</td>\n",
       "      <td>4</td>\n",
       "      <td>0.000235</td>\n",
       "      <td>E3</td>\n",
       "      <td>C4</td>\n",
       "    </tr>\n",
       "    <tr>\n",
       "      <th>26</th>\n",
       "      <td>P0-E3</td>\n",
       "      <td>[[7, 3], [6, 3], [6, 2], [5, 2], [5, 1]]</td>\n",
       "      <td>0.4</td>\n",
       "      <td>4</td>\n",
       "      <td>0.000235</td>\n",
       "      <td>P0</td>\n",
       "      <td>E3</td>\n",
       "    </tr>\n",
       "    <tr>\n",
       "      <th>27</th>\n",
       "      <td>P1-E3</td>\n",
       "      <td>[[7, 3], [6, 3], [6, 4], [5, 4], [5, 5]]</td>\n",
       "      <td>0.4</td>\n",
       "      <td>4</td>\n",
       "      <td>0.000235</td>\n",
       "      <td>P1</td>\n",
       "      <td>E3</td>\n",
       "    </tr>\n",
       "    <tr>\n",
       "      <th>28</th>\n",
       "      <td>E1-E0</td>\n",
       "      <td>[[2, 2], [2, 3], [2, 4]]</td>\n",
       "      <td>0.2</td>\n",
       "      <td>4</td>\n",
       "      <td>0.000235</td>\n",
       "      <td>E1</td>\n",
       "      <td>E0</td>\n",
       "    </tr>\n",
       "    <tr>\n",
       "      <th>29</th>\n",
       "      <td>E2-E0</td>\n",
       "      <td>[[2, 2], [3, 2], [4, 2], [5, 2], [5, 3]]</td>\n",
       "      <td>0.4</td>\n",
       "      <td>4</td>\n",
       "      <td>0.000235</td>\n",
       "      <td>E2</td>\n",
       "      <td>E0</td>\n",
       "    </tr>\n",
       "    <tr>\n",
       "      <th>30</th>\n",
       "      <td>E3-E0</td>\n",
       "      <td>[[2, 2], [3, 2], [4, 2], [5, 2], [6, 2], [7, 2...</td>\n",
       "      <td>0.6</td>\n",
       "      <td>4</td>\n",
       "      <td>0.000235</td>\n",
       "      <td>E3</td>\n",
       "      <td>E0</td>\n",
       "    </tr>\n",
       "    <tr>\n",
       "      <th>31</th>\n",
       "      <td>E2-E1</td>\n",
       "      <td>[[2, 4], [3, 4], [4, 4], [5, 4], [5, 3]]</td>\n",
       "      <td>0.4</td>\n",
       "      <td>4</td>\n",
       "      <td>0.000235</td>\n",
       "      <td>E2</td>\n",
       "      <td>E1</td>\n",
       "    </tr>\n",
       "    <tr>\n",
       "      <th>32</th>\n",
       "      <td>E3-E1</td>\n",
       "      <td>[[2, 4], [3, 4], [4, 4], [5, 4], [6, 4], [7, 4...</td>\n",
       "      <td>0.6</td>\n",
       "      <td>4</td>\n",
       "      <td>0.000235</td>\n",
       "      <td>E3</td>\n",
       "      <td>E1</td>\n",
       "    </tr>\n",
       "    <tr>\n",
       "      <th>33</th>\n",
       "      <td>E3-E2</td>\n",
       "      <td>[[5, 3], [6, 3], [7, 3]]</td>\n",
       "      <td>0.2</td>\n",
       "      <td>4</td>\n",
       "      <td>0.000235</td>\n",
       "      <td>E3</td>\n",
       "      <td>E2</td>\n",
       "    </tr>\n",
       "  </tbody>\n",
       "</table>\n",
       "</div>"
      ],
      "text/plain": [
       "       ID                                               path dist  duriteType  \\\n",
       "0   E0-C0                   [[2, 2], [1, 2], [1, 1], [0, 1]]  0.3           4   \n",
       "1   E0-C1   [[2, 2], [1, 2], [1, 3], [1, 4], [1, 5], [0, 5]]  0.5           4   \n",
       "2   E0-C2                           [[2, 2], [2, 1], [2, 0]]  0.2           4   \n",
       "3   E0-C3  [[2, 2], [1, 2], [1, 3], [1, 4], [1, 5], [2, 5...  0.6           4   \n",
       "4   E0-C4  [[2, 2], [3, 2], [4, 2], [5, 2], [6, 2], [7, 2...  0.8           4   \n",
       "5   P0-E0           [[2, 2], [3, 2], [4, 2], [5, 2], [5, 1]]  0.4           4   \n",
       "6   P1-E0  [[2, 2], [3, 2], [4, 2], [4, 3], [4, 4], [5, 4...  0.6           4   \n",
       "7   E1-C0   [[2, 4], [1, 4], [1, 3], [1, 2], [1, 1], [0, 1]]  0.5           4   \n",
       "8   E1-C1                   [[2, 4], [1, 4], [1, 5], [0, 5]]  0.3           4   \n",
       "9   E1-C2  [[2, 4], [1, 4], [1, 3], [1, 2], [1, 1], [2, 1...  0.6           4   \n",
       "10  E1-C3                           [[2, 4], [2, 5], [2, 6]]  0.2           4   \n",
       "11  E1-C4  [[2, 4], [3, 4], [4, 4], [5, 4], [6, 4], [7, 4...  0.8           4   \n",
       "12  P0-E1  [[2, 4], [3, 4], [4, 4], [4, 3], [4, 2], [5, 2...  0.6           4   \n",
       "13  P1-E1           [[2, 4], [3, 4], [4, 4], [5, 4], [5, 5]]  0.4           4   \n",
       "14  E2-C0  [[5, 3], [4, 3], [3, 3], [2, 3], [1, 3], [1, 2...  0.7           4   \n",
       "15  E2-C1  [[5, 3], [4, 3], [3, 3], [2, 3], [1, 3], [1, 4...  0.7           4   \n",
       "16  E2-C2  [[5, 3], [4, 3], [3, 3], [3, 2], [3, 1], [2, 1...  0.6           4   \n",
       "17  E2-C3  [[5, 3], [4, 3], [3, 3], [3, 4], [3, 5], [2, 5...  0.6           4   \n",
       "18  E2-C4  [[5, 3], [6, 3], [6, 2], [7, 2], [8, 2], [8, 3...  0.6           4   \n",
       "19  P0-E2                           [[5, 3], [5, 2], [5, 1]]  0.2           4   \n",
       "20  P1-E2                           [[5, 3], [5, 4], [5, 5]]  0.2           4   \n",
       "21  E3-C0  [[7, 3], [6, 3], [6, 2], [5, 2], [4, 2], [3, 2...  0.9           4   \n",
       "22  E3-C1  [[7, 3], [6, 3], [6, 4], [5, 4], [4, 4], [3, 4...  0.9           4   \n",
       "23  E3-C2  [[7, 3], [6, 3], [6, 2], [5, 2], [4, 2], [3, 2...  0.8           4   \n",
       "24  E3-C3  [[7, 3], [6, 3], [6, 4], [5, 4], [4, 4], [3, 4...  0.8           4   \n",
       "25  E3-C4                           [[7, 3], [8, 3], [9, 3]]  0.2           4   \n",
       "26  P0-E3           [[7, 3], [6, 3], [6, 2], [5, 2], [5, 1]]  0.4           4   \n",
       "27  P1-E3           [[7, 3], [6, 3], [6, 4], [5, 4], [5, 5]]  0.4           4   \n",
       "28  E1-E0                           [[2, 2], [2, 3], [2, 4]]  0.2           4   \n",
       "29  E2-E0           [[2, 2], [3, 2], [4, 2], [5, 2], [5, 3]]  0.4           4   \n",
       "30  E3-E0  [[2, 2], [3, 2], [4, 2], [5, 2], [6, 2], [7, 2...  0.6           4   \n",
       "31  E2-E1           [[2, 4], [3, 4], [4, 4], [5, 4], [5, 3]]  0.4           4   \n",
       "32  E3-E1  [[2, 4], [3, 4], [4, 4], [5, 4], [6, 4], [7, 4...  0.6           4   \n",
       "33  E3-E2                           [[5, 3], [6, 3], [7, 3]]  0.2           4   \n",
       "\n",
       "    duriteVal   s   t  \n",
       "0    0.000235  E0  C0  \n",
       "1    0.000235  E0  C1  \n",
       "2    0.000235  E0  C2  \n",
       "3    0.000235  E0  C3  \n",
       "4    0.000235  E0  C4  \n",
       "5    0.000235  P0  E0  \n",
       "6    0.000235  P1  E0  \n",
       "7    0.000235  E1  C0  \n",
       "8    0.000235  E1  C1  \n",
       "9    0.000235  E1  C2  \n",
       "10   0.000235  E1  C3  \n",
       "11   0.000235  E1  C4  \n",
       "12   0.000235  P0  E1  \n",
       "13   0.000235  P1  E1  \n",
       "14   0.000235  E2  C0  \n",
       "15   0.000235  E2  C1  \n",
       "16   0.000235  E2  C2  \n",
       "17   0.000235  E2  C3  \n",
       "18   0.000235  E2  C4  \n",
       "19   0.000235  P0  E2  \n",
       "20   0.000235  P1  E2  \n",
       "21   0.000235  E3  C0  \n",
       "22   0.000235  E3  C1  \n",
       "23   0.000235  E3  C2  \n",
       "24   0.000235  E3  C3  \n",
       "25   0.000235  E3  C4  \n",
       "26   0.000235  P0  E3  \n",
       "27   0.000235  P1  E3  \n",
       "28   0.000235  E1  E0  \n",
       "29   0.000235  E2  E0  \n",
       "30   0.000235  E3  E0  \n",
       "31   0.000235  E2  E1  \n",
       "32   0.000235  E3  E1  \n",
       "33   0.000235  E3  E2  "
      ]
     },
     "execution_count": 29,
     "metadata": {},
     "output_type": "execute_result"
    }
   ],
   "source": [
    "dfline = algo.dfline.copy()\n",
    "dfline['s'] = dfline.ID.str.split('-').str[0]\n",
    "dfline['t'] = dfline.ID.str.split('-').str[1]\n",
    "dfline"
   ]
  },
  {
   "cell_type": "code",
   "execution_count": 100,
   "id": "27e375d7",
   "metadata": {
    "hidden": true
   },
   "outputs": [
    {
     "data": {
      "text/plain": [
       "['E0-C0', 'E0-C2', 'E1-C1', 'E1-C3', 'E2-C4', 'P0-E0', 'E1-E0', 'P0-E2']"
      ]
     },
     "execution_count": 100,
     "metadata": {},
     "output_type": "execute_result"
    },
    {
     "data": {
      "text/plain": [
       "{0: [0, 2], 1: [1, 3], 2: [4]}"
      ]
     },
     "execution_count": 100,
     "metadata": {},
     "output_type": "execute_result"
    },
    {
     "data": {
      "text/plain": [
       "[1, 0, 1, 1, 0]"
      ]
     },
     "execution_count": 100,
     "metadata": {},
     "output_type": "execute_result"
    }
   ],
   "source": [
    "Econnect = indiv['Econnect']\n",
    "Ptype = indiv['Ptype']\n",
    "GroupDict = algo.GroupDict\n",
    "indiv['BusName']\n",
    "Econnect\n",
    "GroupDict"
   ]
  },
  {
   "cell_type": "code",
   "execution_count": 101,
   "id": "e408b9bf",
   "metadata": {
    "collapsed": true,
    "hidden": true
   },
   "outputs": [
    {
     "data": {
      "text/plain": [
       "{'Clist': [0, 1, 2, 3, 4],\n",
       " 'CtoE': [0, 1, 0, 1, 2],\n",
       " 'Econnect': {0: [0, 2], 1: [1, 3], 2: [4]},\n",
       " 'Elist': [0, 1, 2],\n",
       " 'Ecount': 3,\n",
       " 'EtoP': [0, 0, 0],\n",
       " 'Pconnect': {0: [0, 1]},\n",
       " 'Plist': [0],\n",
       " 'Pcount': 1,\n",
       " 'Ptype0': array(['Pa', 'Pa', 'Pa'], dtype='<U2'),\n",
       " 'List_EtoC': [['E0-C0', 'E0-C2'], ['E1-C1', 'E1-C3'], ['E2-C4']],\n",
       " 'List_PtoE': [['P0-E0', 'P0-E1', 'P0-E2']],\n",
       " 'Name': ['E0-C0',\n",
       "  'E0-C2',\n",
       "  'E1-C1',\n",
       "  'E1-C3',\n",
       "  'E2-C4',\n",
       "  'P0-E0',\n",
       "  'P0-E1',\n",
       "  'P0-E2'],\n",
       " 'ID': 0,\n",
       " 'parent': [],\n",
       " 'Name_txt': 'E0-C0,E0-C2,E1-C1,E1-C3,E2-C4,P0-E0,P0-E1,P0-E2',\n",
       " 'Epoch': 0,\n",
       " 'Option': 'Bus',\n",
       " 'Ptype': ['Pa', 'Pa', 'Pa'],\n",
       " 'dist_Connect': {'E0-C0': 0.3,\n",
       "  'E0-C2': 0.2,\n",
       "  'E1-C1': 0.3,\n",
       "  'E1-C3': 0.2,\n",
       "  'E2-C4': 0.6,\n",
       "  'P0-E0': 0.4,\n",
       "  'P0-E1': 0.6000000000000001,\n",
       "  'P0-E2': 0.2},\n",
       " 'dist': 240,\n",
       " 'BusName': ['E0-C0',\n",
       "  'E0-C2',\n",
       "  'E1-C1',\n",
       "  'E1-C3',\n",
       "  'E2-C4',\n",
       "  'P0-E0',\n",
       "  'E1-E0',\n",
       "  'P0-E2'],\n",
       " 'BusDist': {'E0-C0': 0.3,\n",
       "  'E0-C2': 0.2,\n",
       "  'E1-C1': 0.3,\n",
       "  'E1-C3': 0.2,\n",
       "  'E2-C4': 0.6,\n",
       "  'P0-E0': 0.4,\n",
       "  'P0-E1': 0.2,\n",
       "  'P0-E2': 0.2},\n",
       " 'PtypeCo': {0: ['Pa', 'Pa', 'Pa']},\n",
       " 'PompesCo': {0: ['Pa']},\n",
       " 'PompeCount': {'P0': {'Pa': 1}},\n",
       " 'PompeSum': {'Pa': 1},\n",
       " 'duriteVal': {'E0-C0': 0.000235,\n",
       "  'E0-C2': 0.000235,\n",
       "  'E1-C1': 0.000235,\n",
       "  'E1-C3': 0.000235,\n",
       "  'E2-C4': 0.000235,\n",
       "  'P0-E0': 0.000235,\n",
       "  'P0-E1': 0.000235,\n",
       "  'P0-E2': 0.000235},\n",
       " 'BusConnectDict': [{'p': 0, 'e': [0, 1]}],\n",
       " 'PressionList': [4.16, 4.51, 4.16, 4.51, 4.51],\n",
       " 'DebitList': [10.75, 11.19, 10.75, 11.2, 11.2],\n",
       " 'Esplit': {0: [0, 2], 1: [1, 3], 2: [4]},\n",
       " 'Debit': 55.1,\n",
       " 'EvCount': {'E0': 2, 'E1': 2, 'E2': 1},\n",
       " 'EvSum': 5,\n",
       " 'Masse': 1396,\n",
       " 'Cout': 63,\n",
       " 'DetailsMasse': {'Pompe': 136.0,\n",
       "  'Tuyau': 110.4,\n",
       "  'EV': 550.0,\n",
       "  'Reservoir': 600},\n",
       " 'DetailsCout': {'Pompe': 2.5, 'Tuyau': 0.8, 'EV': 30.0, 'Reservoir': 30},\n",
       " 'fitness': 240,\n",
       " 'Alive': True}"
      ]
     },
     "execution_count": 101,
     "metadata": {},
     "output_type": "execute_result"
    }
   ],
   "source": []
  },
  {
   "cell_type": "code",
   "execution_count": 103,
   "id": "63dada3b",
   "metadata": {
    "hidden": true
   },
   "outputs": [
    {
     "data": {
      "text/html": [
       "<div>\n",
       "<style scoped>\n",
       "    .dataframe tbody tr th:only-of-type {\n",
       "        vertical-align: middle;\n",
       "    }\n",
       "\n",
       "    .dataframe tbody tr th {\n",
       "        vertical-align: top;\n",
       "    }\n",
       "\n",
       "    .dataframe thead th {\n",
       "        text-align: right;\n",
       "    }\n",
       "</style>\n",
       "<table border=\"1\" class=\"dataframe\">\n",
       "  <thead>\n",
       "    <tr style=\"text-align: right;\">\n",
       "      <th></th>\n",
       "      <th>ID</th>\n",
       "      <th>path</th>\n",
       "      <th>dist</th>\n",
       "      <th>duriteType</th>\n",
       "      <th>duriteVal</th>\n",
       "      <th>s</th>\n",
       "      <th>t</th>\n",
       "    </tr>\n",
       "  </thead>\n",
       "  <tbody>\n",
       "    <tr>\n",
       "      <th>0</th>\n",
       "      <td>E0-C0</td>\n",
       "      <td>[[2, 2], [1, 2], [1, 1], [0, 1]]</td>\n",
       "      <td>0.3</td>\n",
       "      <td>4</td>\n",
       "      <td>0.000235</td>\n",
       "      <td>E0</td>\n",
       "      <td>C0</td>\n",
       "    </tr>\n",
       "    <tr>\n",
       "      <th>2</th>\n",
       "      <td>E0-C2</td>\n",
       "      <td>[[2, 2], [2, 1], [2, 0]]</td>\n",
       "      <td>0.2</td>\n",
       "      <td>4</td>\n",
       "      <td>0.000235</td>\n",
       "      <td>E0</td>\n",
       "      <td>C2</td>\n",
       "    </tr>\n",
       "    <tr>\n",
       "      <th>5</th>\n",
       "      <td>P0-E0</td>\n",
       "      <td>[[2, 2], [3, 2], [4, 2], [5, 2], [5, 1]]</td>\n",
       "      <td>0.4</td>\n",
       "      <td>4</td>\n",
       "      <td>0.000235</td>\n",
       "      <td>P0</td>\n",
       "      <td>E0</td>\n",
       "    </tr>\n",
       "    <tr>\n",
       "      <th>8</th>\n",
       "      <td>E1-C1</td>\n",
       "      <td>[[2, 4], [1, 4], [1, 5], [0, 5]]</td>\n",
       "      <td>0.3</td>\n",
       "      <td>4</td>\n",
       "      <td>0.000235</td>\n",
       "      <td>E1</td>\n",
       "      <td>C1</td>\n",
       "    </tr>\n",
       "    <tr>\n",
       "      <th>10</th>\n",
       "      <td>E1-C3</td>\n",
       "      <td>[[2, 4], [2, 5], [2, 6]]</td>\n",
       "      <td>0.2</td>\n",
       "      <td>4</td>\n",
       "      <td>0.000235</td>\n",
       "      <td>E1</td>\n",
       "      <td>C3</td>\n",
       "    </tr>\n",
       "    <tr>\n",
       "      <th>12</th>\n",
       "      <td>P0-E1</td>\n",
       "      <td>[[2, 4], [3, 4], [4, 4], [4, 3], [4, 2], [5, 2...</td>\n",
       "      <td>0.6</td>\n",
       "      <td>4</td>\n",
       "      <td>0.000235</td>\n",
       "      <td>P0</td>\n",
       "      <td>E1</td>\n",
       "    </tr>\n",
       "    <tr>\n",
       "      <th>18</th>\n",
       "      <td>E2-C4</td>\n",
       "      <td>[[5, 3], [6, 3], [6, 2], [7, 2], [8, 2], [8, 3...</td>\n",
       "      <td>0.6</td>\n",
       "      <td>4</td>\n",
       "      <td>0.000235</td>\n",
       "      <td>E2</td>\n",
       "      <td>C4</td>\n",
       "    </tr>\n",
       "    <tr>\n",
       "      <th>19</th>\n",
       "      <td>P0-E2</td>\n",
       "      <td>[[5, 3], [5, 2], [5, 1]]</td>\n",
       "      <td>0.2</td>\n",
       "      <td>4</td>\n",
       "      <td>0.000235</td>\n",
       "      <td>P0</td>\n",
       "      <td>E2</td>\n",
       "    </tr>\n",
       "  </tbody>\n",
       "</table>\n",
       "</div>"
      ],
      "text/plain": [
       "       ID                                               path dist  duriteType  \\\n",
       "0   E0-C0                   [[2, 2], [1, 2], [1, 1], [0, 1]]  0.3           4   \n",
       "2   E0-C2                           [[2, 2], [2, 1], [2, 0]]  0.2           4   \n",
       "5   P0-E0           [[2, 2], [3, 2], [4, 2], [5, 2], [5, 1]]  0.4           4   \n",
       "8   E1-C1                   [[2, 4], [1, 4], [1, 5], [0, 5]]  0.3           4   \n",
       "10  E1-C3                           [[2, 4], [2, 5], [2, 6]]  0.2           4   \n",
       "12  P0-E1  [[2, 4], [3, 4], [4, 4], [4, 3], [4, 2], [5, 2...  0.6           4   \n",
       "18  E2-C4  [[5, 3], [6, 3], [6, 2], [7, 2], [8, 2], [8, 3...  0.6           4   \n",
       "19  P0-E2                           [[5, 3], [5, 2], [5, 1]]  0.2           4   \n",
       "\n",
       "    duriteVal   s   t  \n",
       "0    0.000235  E0  C0  \n",
       "2    0.000235  E0  C2  \n",
       "5    0.000235  P0  E0  \n",
       "8    0.000235  E1  C1  \n",
       "10   0.000235  E1  C3  \n",
       "12   0.000235  P0  E1  \n",
       "18   0.000235  E2  C4  \n",
       "19   0.000235  P0  E2  "
      ]
     },
     "execution_count": 103,
     "metadata": {},
     "output_type": "execute_result"
    }
   ],
   "source": [
    "dfl = dfline[dfline.ID.isin(indiv['Name'])]\n",
    "dfl"
   ]
  },
  {
   "cell_type": "markdown",
   "id": "078a7565",
   "metadata": {
    "heading_collapsed": true,
    "hidden": true
   },
   "source": [
    "## New busconnection"
   ]
  },
  {
   "cell_type": "code",
   "execution_count": 29,
   "id": "f3b27704",
   "metadata": {
    "hidden": true
   },
   "outputs": [
    {
     "data": {
      "text/html": [
       "<div>\n",
       "<style scoped>\n",
       "    .dataframe tbody tr th:only-of-type {\n",
       "        vertical-align: middle;\n",
       "    }\n",
       "\n",
       "    .dataframe tbody tr th {\n",
       "        vertical-align: top;\n",
       "    }\n",
       "\n",
       "    .dataframe thead th {\n",
       "        text-align: right;\n",
       "    }\n",
       "</style>\n",
       "<table border=\"1\" class=\"dataframe\">\n",
       "  <thead>\n",
       "    <tr style=\"text-align: right;\">\n",
       "      <th></th>\n",
       "      <th>ID</th>\n",
       "      <th>path</th>\n",
       "      <th>dist</th>\n",
       "      <th>duriteType</th>\n",
       "      <th>s</th>\n",
       "      <th>t</th>\n",
       "      <th>Connect</th>\n",
       "      <th>duriteVal</th>\n",
       "    </tr>\n",
       "  </thead>\n",
       "  <tbody>\n",
       "    <tr>\n",
       "      <th>24</th>\n",
       "      <td>E1-E0</td>\n",
       "      <td>[[2, 4], [3, 4], [4, 4], [5, 4], [5, 5]]</td>\n",
       "      <td>0.4</td>\n",
       "      <td>4</td>\n",
       "      <td>E1</td>\n",
       "      <td>E0</td>\n",
       "      <td>EE</td>\n",
       "      <td>0.000235</td>\n",
       "    </tr>\n",
       "    <tr>\n",
       "      <th>25</th>\n",
       "      <td>E2-E0</td>\n",
       "      <td>[[2, 4], [3, 4], [4, 4], [5, 4], [6, 4], [6, 3...</td>\n",
       "      <td>0.8</td>\n",
       "      <td>4</td>\n",
       "      <td>E2</td>\n",
       "      <td>E0</td>\n",
       "      <td>EE</td>\n",
       "      <td>0.000235</td>\n",
       "    </tr>\n",
       "    <tr>\n",
       "      <th>26</th>\n",
       "      <td>E3-E0</td>\n",
       "      <td>[[2, 4], [3, 4], [4, 4], [5, 4], [6, 4], [7, 4...</td>\n",
       "      <td>0.6</td>\n",
       "      <td>4</td>\n",
       "      <td>E3</td>\n",
       "      <td>E0</td>\n",
       "      <td>EE</td>\n",
       "      <td>0.000235</td>\n",
       "    </tr>\n",
       "    <tr>\n",
       "      <th>27</th>\n",
       "      <td>E2-E1</td>\n",
       "      <td>[[5, 5], [6, 5], [6, 4], [6, 3], [6, 2], [7, 2...</td>\n",
       "      <td>0.6</td>\n",
       "      <td>4</td>\n",
       "      <td>E2</td>\n",
       "      <td>E1</td>\n",
       "      <td>EE</td>\n",
       "      <td>0.000235</td>\n",
       "    </tr>\n",
       "    <tr>\n",
       "      <th>28</th>\n",
       "      <td>E3-E1</td>\n",
       "      <td>[[5, 5], [6, 5], [7, 5], [7, 4], [7, 3]]</td>\n",
       "      <td>0.4</td>\n",
       "      <td>4</td>\n",
       "      <td>E3</td>\n",
       "      <td>E1</td>\n",
       "      <td>EE</td>\n",
       "      <td>0.000235</td>\n",
       "    </tr>\n",
       "    <tr>\n",
       "      <th>29</th>\n",
       "      <td>E3-E2</td>\n",
       "      <td>[[7, 1], [7, 2], [7, 3]]</td>\n",
       "      <td>0.2</td>\n",
       "      <td>4</td>\n",
       "      <td>E3</td>\n",
       "      <td>E2</td>\n",
       "      <td>EE</td>\n",
       "      <td>0.000235</td>\n",
       "    </tr>\n",
       "  </tbody>\n",
       "</table>\n",
       "</div>"
      ],
      "text/plain": [
       "       ID                                               path dist  duriteType  \\\n",
       "24  E1-E0           [[2, 4], [3, 4], [4, 4], [5, 4], [5, 5]]  0.4           4   \n",
       "25  E2-E0  [[2, 4], [3, 4], [4, 4], [5, 4], [6, 4], [6, 3...  0.8           4   \n",
       "26  E3-E0  [[2, 4], [3, 4], [4, 4], [5, 4], [6, 4], [7, 4...  0.6           4   \n",
       "27  E2-E1  [[5, 5], [6, 5], [6, 4], [6, 3], [6, 2], [7, 2...  0.6           4   \n",
       "28  E3-E1           [[5, 5], [6, 5], [7, 5], [7, 4], [7, 3]]  0.4           4   \n",
       "29  E3-E2                           [[7, 1], [7, 2], [7, 3]]  0.2           4   \n",
       "\n",
       "     s   t Connect  duriteVal  \n",
       "24  E1  E0      EE   0.000235  \n",
       "25  E2  E0      EE   0.000235  \n",
       "26  E3  E0      EE   0.000235  \n",
       "27  E2  E1      EE   0.000235  \n",
       "28  E3  E1      EE   0.000235  \n",
       "29  E3  E2      EE   0.000235  "
      ]
     },
     "execution_count": 29,
     "metadata": {},
     "output_type": "execute_result"
    }
   ],
   "source": [
    "dfline[dfline.Connect=='EE']"
   ]
  },
  {
   "cell_type": "raw",
   "id": "0567d6c7",
   "metadata": {
    "hidden": true
   },
   "source": [
    "Pdist = dfline.loc[~dfline.ID.str.contains('C'),['s','t','dist']].set_index(['s','t']).unstack().fillna(np.inf).values\n",
    "Pdist = dfline.loc[~dfline.ID.str.contains('C'),['s','t','dist']].set_index(['s','t']).unstack().fillna(np.inf).values"
   ]
  },
  {
   "cell_type": "raw",
   "id": "b31703f4",
   "metadata": {
    "hidden": true
   },
   "source": [
    "x = dfline.loc[~dfline.ID.str.contains('C'),['s','t','dist']].set_index(['s','t']).unstack().fillna(np.inf)\n",
    "px = x[x.index.str.contains('P0')].values\n",
    "ex = x[x.index.str.contains('E')].values\n",
    "x"
   ]
  },
  {
   "cell_type": "code",
   "execution_count": null,
   "id": "f919be2d",
   "metadata": {
    "hidden": true
   },
   "outputs": [],
   "source": [
    "dfline"
   ]
  },
  {
   "cell_type": "code",
   "execution_count": 95,
   "id": "cbe9c669",
   "metadata": {
    "hidden": true
   },
   "outputs": [
    {
     "data": {
      "text/plain": [
       "2"
      ]
     },
     "execution_count": 95,
     "metadata": {},
     "output_type": "execute_result"
    }
   ],
   "source": [
    "e = px[0].argmin()\n",
    "ex = x[x.index.str.contains('E')].values\n",
    "ex.drop()\n",
    "while len(ex) > 0:\n",
    "    e = ex[e]"
   ]
  },
  {
   "cell_type": "code",
   "execution_count": 79,
   "id": "f2c744c1",
   "metadata": {
    "hidden": true
   },
   "outputs": [
    {
     "data": {
      "text/plain": [
       "(0, 0)"
      ]
     },
     "execution_count": 79,
     "metadata": {},
     "output_type": "execute_result"
    }
   ],
   "source": [
    "pos = np.where(x == np.min(x)\n",
    "pos = pos[0][0], pos[1][0]\n",
    "pos"
   ]
  },
  {
   "cell_type": "code",
   "execution_count": 109,
   "id": "99f205cf",
   "metadata": {
    "hidden": true
   },
   "outputs": [],
   "source": [
    "G=nx.from_pandas_edgelist(dfline, 's', 't', ['dist'])"
   ]
  },
  {
   "cell_type": "code",
   "execution_count": 150,
   "id": "39997fd7",
   "metadata": {
    "hidden": true
   },
   "outputs": [],
   "source": [
    "ListMask = ['P0', 'E0','E1','E2','E3']\n",
    "mask = dfline.s.isin(ListMask) & dfline.t.isin(ListMask)\n",
    "dfl = dfline[mask]"
   ]
  },
  {
   "cell_type": "code",
   "execution_count": 168,
   "id": "72931f47",
   "metadata": {
    "hidden": true
   },
   "outputs": [],
   "source": [
    "# New_dist_Connect = copy.deepcopy(dist_Connect)\n",
    "BusName = copy.deepcopy(indiv['Name'])\n",
    "Pconnect = indiv['Pconnect']\n",
    "\n",
    "dfx0 = algo.dfline.copy()\n",
    "dfx0['a'] = dfx0.ID.str.split('-').str[0]\n",
    "dfx0['b'] = dfx0.ID.str.split('-').str[1]\n",
    "\n",
    "NameListNew  = []\n",
    "DictMapName = {}\n",
    "BusConnectDict = []"
   ]
  },
  {
   "cell_type": "code",
   "execution_count": 155,
   "id": "87a6bfa8",
   "metadata": {
    "hidden": true
   },
   "outputs": [
    {
     "data": {
      "text/plain": [
       "{0: [0, 1, 2]}"
      ]
     },
     "execution_count": 155,
     "metadata": {},
     "output_type": "execute_result"
    }
   ],
   "source": [
    "Pconnect"
   ]
  },
  {
   "cell_type": "code",
   "execution_count": 165,
   "id": "18a030cf",
   "metadata": {
    "hidden": true
   },
   "outputs": [
    {
     "data": {
      "text/plain": [
       "NodeView(('E1',))"
      ]
     },
     "execution_count": 165,
     "metadata": {},
     "output_type": "execute_result"
    }
   ],
   "source": [
    "G.nodes"
   ]
  },
  {
   "cell_type": "code",
   "execution_count": 171,
   "id": "439d2389",
   "metadata": {
    "hidden": true
   },
   "outputs": [
    {
     "name": "stdout",
     "output_type": "stream",
     "text": [
      "19.6 µs ± 51.2 ns per loop (mean ± std. dev. of 7 runs, 100,000 loops each)\n"
     ]
    }
   ],
   "source": [
    "%%timeit\n",
    "G = nx.from_pandas_edgelist(dfl, 's', 't', ['dist'])"
   ]
  },
  {
   "cell_type": "code",
   "execution_count": 172,
   "id": "b409269b",
   "metadata": {
    "hidden": true
   },
   "outputs": [
    {
     "data": {
      "text/plain": [
       "4.0"
      ]
     },
     "execution_count": 172,
     "metadata": {},
     "output_type": "execute_result"
    }
   ],
   "source": [
    "G = nx.from_pandas_edgelist(dfl, 's', 't', ['dist'])\n",
    "G.size(weight=\"dist\")"
   ]
  },
  {
   "cell_type": "code",
   "execution_count": 173,
   "id": "61490d39",
   "metadata": {
    "hidden": true
   },
   "outputs": [
    {
     "data": {
      "text/plain": [
       "[0, 0, 2]"
      ]
     },
     "execution_count": 173,
     "metadata": {},
     "output_type": "execute_result"
    },
    {
     "ename": "TypeError",
     "evalue": "Graph.subgraph() missing 1 required positional argument: 'nodes'",
     "output_type": "error",
     "traceback": [
      "\u001b[1;31m---------------------------------------------------------------------------\u001b[0m",
      "\u001b[1;31mTypeError\u001b[0m                                 Traceback (most recent call last)",
      "Cell \u001b[1;32mIn[173], line 2\u001b[0m\n\u001b[0;32m      1\u001b[0m Elist\n\u001b[1;32m----> 2\u001b[0m \u001b[43mG\u001b[49m\u001b[38;5;241;43m.\u001b[39;49m\u001b[43msubgraph\u001b[49m\u001b[43m(\u001b[49m\u001b[43m)\u001b[49m\n",
      "\u001b[1;31mTypeError\u001b[0m: Graph.subgraph() missing 1 required positional argument: 'nodes'"
     ]
    }
   ],
   "source": [
    "Elist\n",
    "G.subgraph()"
   ]
  },
  {
   "cell_type": "code",
   "execution_count": 175,
   "id": "a4641aae",
   "metadata": {
    "hidden": true
   },
   "outputs": [
    {
     "data": {
      "text/plain": [
       "ItemsView(AtlasView({'E0': {'dist': 0.4}, 'E1': {'dist': 0.6}, 'E2': {'dist': 0.2}, 'E3': {'dist': 0.4}}))"
      ]
     },
     "execution_count": 175,
     "metadata": {},
     "output_type": "execute_result"
    }
   ],
   "source": [
    "G['P0']"
   ]
  },
  {
   "cell_type": "code",
   "execution_count": 206,
   "id": "e59ff252",
   "metadata": {
    "hidden": true
   },
   "outputs": [
    {
     "ename": "ValueError",
     "evalue": "attempt to get argmin of an empty sequence",
     "output_type": "error",
     "traceback": [
      "\u001b[1;31m---------------------------------------------------------------------------\u001b[0m",
      "\u001b[1;31mValueError\u001b[0m                                Traceback (most recent call last)",
      "File \u001b[1;32m<timed exec>:8\u001b[0m\n",
      "\u001b[1;31mValueError\u001b[0m: attempt to get argmin of an empty sequence"
     ]
    }
   ],
   "source": [
    "%%time\n",
    "G = nx.from_pandas_edgelist(dfl, 's', 't', ['dist'])\n",
    "n = \"P0\"\n",
    "L = [n]\n",
    "while G.size()>0 :\n",
    "    adj  = [x[0] for x in G.adj[n].items()]\n",
    "    dist = [x[1]['dist'] for x in G.adj[n].items()]\n",
    "    G.remove_node(n)\n",
    "    n = adj[np.array(dist).argmin()]\n",
    "    L.append(n)\n",
    "L"
   ]
  },
  {
   "cell_type": "code",
   "execution_count": 114,
   "id": "5ed1bb2a",
   "metadata": {
    "hidden": true
   },
   "outputs": [
    {
     "name": "stdout",
     "output_type": "stream",
     "text": [
      "2.54 µs ± 21.5 ns per loop (mean ± std. dev. of 7 runs, 100,000 loops each)\n"
     ]
    }
   ],
   "source": [
    "%%timeit\n",
    "nx.single_source_shortest_path_length(G ,source='P0')"
   ]
  },
  {
   "cell_type": "code",
   "execution_count": 189,
   "id": "1d28b1d8",
   "metadata": {
    "collapsed": true,
    "hidden": true
   },
   "outputs": [
    {
     "data": {
      "text/plain": [
       "[('E0', 'C0', {'dist': 0.3}),\n",
       " ('E0', 'C1', {'dist': 0.5}),\n",
       " ('E0', 'C2', {'dist': 0.2}),\n",
       " ('E0', 'C3', {'dist': 0.6}),\n",
       " ('E0', 'C4', {'dist': 0.8}),\n",
       " ('E0', 'P0', {'dist': 0.4}),\n",
       " ('E0', 'P1', {'dist': 0.6}),\n",
       " ('E0', 'E1', {'dist': 0.2}),\n",
       " ('E0', 'E2', {'dist': 0.4}),\n",
       " ('E0', 'E3', {'dist': 0.6}),\n",
       " ('C0', 'E1', {'dist': 0.5}),\n",
       " ('C0', 'E2', {'dist': 0.7}),\n",
       " ('C0', 'E3', {'dist': 0.9}),\n",
       " ('C1', 'E1', {'dist': 0.3}),\n",
       " ('C1', 'E2', {'dist': 0.7}),\n",
       " ('C1', 'E3', {'dist': 0.9}),\n",
       " ('C2', 'E1', {'dist': 0.6}),\n",
       " ('C2', 'E2', {'dist': 0.6}),\n",
       " ('C2', 'E3', {'dist': 0.8}),\n",
       " ('C3', 'E1', {'dist': 0.2}),\n",
       " ('C3', 'E2', {'dist': 0.6}),\n",
       " ('C3', 'E3', {'dist': 0.8}),\n",
       " ('C4', 'E1', {'dist': 0.8}),\n",
       " ('C4', 'E2', {'dist': 0.6}),\n",
       " ('C4', 'E3', {'dist': 0.2}),\n",
       " ('P0', 'E1', {'dist': 0.6}),\n",
       " ('P0', 'E2', {'dist': 0.2}),\n",
       " ('P0', 'E3', {'dist': 0.4}),\n",
       " ('P1', 'E1', {'dist': 0.4}),\n",
       " ('P1', 'E2', {'dist': 0.2}),\n",
       " ('P1', 'E3', {'dist': 0.4}),\n",
       " ('E1', 'E2', {'dist': 0.4}),\n",
       " ('E1', 'E3', {'dist': 0.6}),\n",
       " ('E2', 'E3', {'dist': 0.2})]"
      ]
     },
     "execution_count": 189,
     "metadata": {},
     "output_type": "execute_result"
    }
   ],
   "source": [
    "G = nx.from_pandas_edgelist(dfline, 's', 't', ['dist'])\n",
    "list(G.edges.data(data = True))"
   ]
  },
  {
   "cell_type": "code",
   "execution_count": 188,
   "id": "9827988d",
   "metadata": {
    "hidden": true
   },
   "outputs": [
    {
     "data": {
      "text/plain": [
       "['E0-C0', 'E0-C2', 'E1-C1', 'E1-C3', 'E2-C4', 'P0-E0', 'P0-E1', 'P0-E2']"
      ]
     },
     "execution_count": 188,
     "metadata": {},
     "output_type": "execute_result"
    }
   ],
   "source": [
    "indiv['Name']"
   ]
  },
  {
   "cell_type": "code",
   "execution_count": 192,
   "id": "18035b7e",
   "metadata": {
    "hidden": true
   },
   "outputs": [],
   "source": [
    "dfslot = pd.DataFrame(algo.DictPos).T\n",
    "dfslot.columns = ('y','x')\n",
    "node_attr = dfslot.to_dict('index')\n",
    "nx.set_node_attributes(G, node_attr)"
   ]
  },
  {
   "cell_type": "code",
   "execution_count": 191,
   "id": "a4049ef3",
   "metadata": {
    "collapsed": true,
    "hidden": true
   },
   "outputs": [
    {
     "ename": "NameError",
     "evalue": "name 'dfslot' is not defined",
     "output_type": "error",
     "traceback": [
      "\u001b[1;31m---------------------------------------------------------------------------\u001b[0m",
      "\u001b[1;31mNameError\u001b[0m                                 Traceback (most recent call last)",
      "Cell \u001b[1;32mIn[191], line 1\u001b[0m\n\u001b[1;32m----> 1\u001b[0m node_attr \u001b[38;5;241m=\u001b[39m \u001b[43mdfslot\u001b[49m\u001b[38;5;241m.\u001b[39mto_dict(\u001b[38;5;124m'\u001b[39m\u001b[38;5;124mindex\u001b[39m\u001b[38;5;124m'\u001b[39m)\n\u001b[0;32m      2\u001b[0m nx\u001b[38;5;241m.\u001b[39mset_node_attributes(G, node_attr)\n",
      "\u001b[1;31mNameError\u001b[0m: name 'dfslot' is not defined"
     ]
    }
   ],
   "source": [
    "H = G.\n",
    "G.remove_nodes_from(list(nx.isolates(G)))"
   ]
  },
  {
   "cell_type": "code",
   "execution_count": 207,
   "id": "ed28d575",
   "metadata": {
    "collapsed": true,
    "hidden": true
   },
   "outputs": [
    {
     "data": {
      "text/html": [
       "<div>\n",
       "<style scoped>\n",
       "    .dataframe tbody tr th:only-of-type {\n",
       "        vertical-align: middle;\n",
       "    }\n",
       "\n",
       "    .dataframe tbody tr th {\n",
       "        vertical-align: top;\n",
       "    }\n",
       "\n",
       "    .dataframe thead th {\n",
       "        text-align: right;\n",
       "    }\n",
       "</style>\n",
       "<table border=\"1\" class=\"dataframe\">\n",
       "  <thead>\n",
       "    <tr style=\"text-align: right;\">\n",
       "      <th></th>\n",
       "      <th>ID</th>\n",
       "      <th>path</th>\n",
       "      <th>dist</th>\n",
       "      <th>duriteType</th>\n",
       "      <th>duriteVal</th>\n",
       "      <th>s</th>\n",
       "      <th>t</th>\n",
       "      <th>Connect</th>\n",
       "    </tr>\n",
       "  </thead>\n",
       "  <tbody>\n",
       "    <tr>\n",
       "      <th>0</th>\n",
       "      <td>E0-C0</td>\n",
       "      <td>[[2, 2], [1, 2], [1, 1], [0, 1]]</td>\n",
       "      <td>0.3</td>\n",
       "      <td>4</td>\n",
       "      <td>0.000235</td>\n",
       "      <td>E0</td>\n",
       "      <td>C0</td>\n",
       "      <td>EC</td>\n",
       "    </tr>\n",
       "    <tr>\n",
       "      <th>2</th>\n",
       "      <td>E0-C2</td>\n",
       "      <td>[[2, 2], [2, 1], [2, 0]]</td>\n",
       "      <td>0.2</td>\n",
       "      <td>4</td>\n",
       "      <td>0.000235</td>\n",
       "      <td>E0</td>\n",
       "      <td>C2</td>\n",
       "      <td>EC</td>\n",
       "    </tr>\n",
       "    <tr>\n",
       "      <th>5</th>\n",
       "      <td>P0-E0</td>\n",
       "      <td>[[2, 2], [3, 2], [4, 2], [5, 2], [5, 1]]</td>\n",
       "      <td>0.4</td>\n",
       "      <td>4</td>\n",
       "      <td>0.000235</td>\n",
       "      <td>P0</td>\n",
       "      <td>E0</td>\n",
       "      <td>PE</td>\n",
       "    </tr>\n",
       "    <tr>\n",
       "      <th>8</th>\n",
       "      <td>E1-C1</td>\n",
       "      <td>[[2, 4], [1, 4], [1, 5], [0, 5]]</td>\n",
       "      <td>0.3</td>\n",
       "      <td>4</td>\n",
       "      <td>0.000235</td>\n",
       "      <td>E1</td>\n",
       "      <td>C1</td>\n",
       "      <td>EC</td>\n",
       "    </tr>\n",
       "    <tr>\n",
       "      <th>10</th>\n",
       "      <td>E1-C3</td>\n",
       "      <td>[[2, 4], [2, 5], [2, 6]]</td>\n",
       "      <td>0.2</td>\n",
       "      <td>4</td>\n",
       "      <td>0.000235</td>\n",
       "      <td>E1</td>\n",
       "      <td>C3</td>\n",
       "      <td>EC</td>\n",
       "    </tr>\n",
       "    <tr>\n",
       "      <th>12</th>\n",
       "      <td>P0-E1</td>\n",
       "      <td>[[2, 4], [3, 4], [4, 4], [4, 3], [4, 2], [5, 2...</td>\n",
       "      <td>0.6</td>\n",
       "      <td>4</td>\n",
       "      <td>0.000235</td>\n",
       "      <td>P0</td>\n",
       "      <td>E1</td>\n",
       "      <td>PE</td>\n",
       "    </tr>\n",
       "    <tr>\n",
       "      <th>18</th>\n",
       "      <td>E2-C4</td>\n",
       "      <td>[[5, 3], [6, 3], [6, 2], [7, 2], [8, 2], [8, 3...</td>\n",
       "      <td>0.6</td>\n",
       "      <td>4</td>\n",
       "      <td>0.000235</td>\n",
       "      <td>E2</td>\n",
       "      <td>C4</td>\n",
       "      <td>EC</td>\n",
       "    </tr>\n",
       "    <tr>\n",
       "      <th>19</th>\n",
       "      <td>P0-E2</td>\n",
       "      <td>[[5, 3], [5, 2], [5, 1]]</td>\n",
       "      <td>0.2</td>\n",
       "      <td>4</td>\n",
       "      <td>0.000235</td>\n",
       "      <td>P0</td>\n",
       "      <td>E2</td>\n",
       "      <td>PE</td>\n",
       "    </tr>\n",
       "  </tbody>\n",
       "</table>\n",
       "</div>"
      ],
      "text/plain": [
       "       ID                                               path dist  duriteType  \\\n",
       "0   E0-C0                   [[2, 2], [1, 2], [1, 1], [0, 1]]  0.3           4   \n",
       "2   E0-C2                           [[2, 2], [2, 1], [2, 0]]  0.2           4   \n",
       "5   P0-E0           [[2, 2], [3, 2], [4, 2], [5, 2], [5, 1]]  0.4           4   \n",
       "8   E1-C1                   [[2, 4], [1, 4], [1, 5], [0, 5]]  0.3           4   \n",
       "10  E1-C3                           [[2, 4], [2, 5], [2, 6]]  0.2           4   \n",
       "12  P0-E1  [[2, 4], [3, 4], [4, 4], [4, 3], [4, 2], [5, 2...  0.6           4   \n",
       "18  E2-C4  [[5, 3], [6, 3], [6, 2], [7, 2], [8, 2], [8, 3...  0.6           4   \n",
       "19  P0-E2                           [[5, 3], [5, 2], [5, 1]]  0.2           4   \n",
       "\n",
       "    duriteVal   s   t Connect  \n",
       "0    0.000235  E0  C0      EC  \n",
       "2    0.000235  E0  C2      EC  \n",
       "5    0.000235  P0  E0      PE  \n",
       "8    0.000235  E1  C1      EC  \n",
       "10   0.000235  E1  C3      EC  \n",
       "12   0.000235  P0  E1      PE  \n",
       "18   0.000235  E2  C4      EC  \n",
       "19   0.000235  P0  E2      PE  "
      ]
     },
     "execution_count": 207,
     "metadata": {},
     "output_type": "execute_result"
    }
   ],
   "source": [
    "dfl = dfline[dfline.ID.isin(indiv['Name'])]\n",
    "dfl\n",
    "G = nx.from_pandas_edgelist(dfl, 's', 't', ['dist'])"
   ]
  },
  {
   "cell_type": "code",
   "execution_count": 210,
   "id": "fc43b838",
   "metadata": {
    "hidden": true
   },
   "outputs": [
    {
     "data": {
      "text/plain": [
       "0.8"
      ]
     },
     "execution_count": 210,
     "metadata": {},
     "output_type": "execute_result"
    }
   ],
   "source": [
    "H = G.subgraph(['P0','E2','C4'])\n",
    "H.size(weight=\"dist\")"
   ]
  },
  {
   "cell_type": "code",
   "execution_count": 204,
   "id": "cf7bdda6",
   "metadata": {
    "hidden": true
   },
   "outputs": [],
   "source": [
    "NodesList = pd.concat([dfline['s'] , dfline['t']]).unique()"
   ]
  },
  {
   "cell_type": "code",
   "execution_count": 211,
   "id": "82f9bd51",
   "metadata": {
    "collapsed": true,
    "hidden": true
   },
   "outputs": [
    {
     "data": {
      "text/plain": [
       "{'Clist': [0, 1, 2, 3, 4],\n",
       " 'CtoE': [0, 1, 0, 1, 2],\n",
       " 'Econnect': {0: [0, 2], 1: [1, 3], 2: [4]},\n",
       " 'Elist': [0, 1, 2],\n",
       " 'Ecount': 3,\n",
       " 'EtoP': [0, 0, 0],\n",
       " 'Pconnect': {0: [0, 1, 2]},\n",
       " 'Plist': [0],\n",
       " 'Pcount': 1,\n",
       " 'Ptype0': array(['Pa', 'Pa', 'Pa'], dtype='<U2'),\n",
       " 'List_EtoC': [['E0-C0', 'E0-C2'], ['E1-C1', 'E1-C3'], ['E2-C4']],\n",
       " 'List_PtoE': [['P0-E0', 'P0-E1', 'P0-E2']],\n",
       " 'Name': ['E0-C0',\n",
       "  'E0-C2',\n",
       "  'E1-C1',\n",
       "  'E1-C3',\n",
       "  'E2-C4',\n",
       "  'P0-E0',\n",
       "  'P0-E1',\n",
       "  'P0-E2'],\n",
       " 'ID': 2,\n",
       " 'parent': [],\n",
       " 'Name_txt': 'E0-C0,E0-C2,E1-C1,E1-C3,E2-C4,P0-E0,P0-E1,P0-E2',\n",
       " 'Epoch': 0,\n",
       " 'Option': 'Bus',\n",
       " 'Ptype': ['Pa', 'Pa', 'Pa'],\n",
       " 'dist_Connect': {'E0-C0': 0.3,\n",
       "  'E0-C2': 0.2,\n",
       "  'E1-C1': 0.3,\n",
       "  'E1-C3': 0.2,\n",
       "  'E2-C4': 0.6,\n",
       "  'P0-E0': 0.6000000000000001,\n",
       "  'P0-E1': 0.8,\n",
       "  'P0-E2': 0.2},\n",
       " 'dist': 240,\n",
       " 'BusName': ['E0-C0',\n",
       "  'E0-C2',\n",
       "  'E1-C1',\n",
       "  'E1-C3',\n",
       "  'E2-C4',\n",
       "  'E2-E0',\n",
       "  'E1-E0',\n",
       "  'P0-E2'],\n",
       " 'BusDist': {'E0-C0': 0.3,\n",
       "  'E0-C2': 0.2,\n",
       "  'E1-C1': 0.3,\n",
       "  'E1-C3': 0.2,\n",
       "  'E2-C4': 0.6,\n",
       "  'P0-E0': 0.4,\n",
       "  'P0-E1': 0.2,\n",
       "  'P0-E2': 0.2},\n",
       " 'PtypeCo': {0: ['Pa', 'Pa', 'Pa']},\n",
       " 'PompesCo': {0: ['Pa']},\n",
       " 'PompeCount': {'P0': {'Pa': 1}},\n",
       " 'PompeSum': {'Pa': 1},\n",
       " 'duriteVal': {'E0-C0': 0.000235,\n",
       "  'E0-C2': 0.000235,\n",
       "  'E1-C1': 0.000235,\n",
       "  'E1-C3': 0.000235,\n",
       "  'E2-C4': 0.000235,\n",
       "  'P0-E0': 0.000235,\n",
       "  'P0-E1': 0.000235,\n",
       "  'P0-E2': 0.000235},\n",
       " 'BusConnectDict': [{0: [2, 0, 1]}],\n",
       " 'PressionList': [4.51, 4.51, 4.51, 4.51, 4.51],\n",
       " 'DebitList': [11.19, 11.19, 11.2, 11.19, 11.2],\n",
       " 'Esplit': {0: [0, 2], 1: [1, 3], 2: [4]},\n",
       " 'Debit': 56.0,\n",
       " 'EvCount': {'E0': 2, 'E1': 2, 'E2': 1},\n",
       " 'EvSum': 5,\n",
       " 'Masse': 1396,\n",
       " 'Cout': 63,\n",
       " 'DetailsMasse': {'Pompe': 136.0,\n",
       "  'Tuyau': 110.4,\n",
       "  'EV': 550.0,\n",
       "  'Reservoir': 600},\n",
       " 'DetailsCout': {'Pompe': 2.5, 'Tuyau': 0.8, 'EV': 30.0, 'Reservoir': 30},\n",
       " 'fitness': 240,\n",
       " 'Alive': True}"
      ]
     },
     "execution_count": 211,
     "metadata": {},
     "output_type": "execute_result"
    }
   ],
   "source": [
    "indiv"
   ]
  },
  {
   "cell_type": "code",
   "execution_count": 348,
   "id": "0fe31419",
   "metadata": {
    "hidden": true
   },
   "outputs": [
    {
     "name": "stdout",
     "output_type": "stream",
     "text": [
      "CPU times: total: 0 ns\n",
      "Wall time: 1 ms\n"
     ]
    },
    {
     "data": {
      "text/plain": [
       "['P0-E2', 'E2-E0', 'E0-E1']"
      ]
     },
     "execution_count": 348,
     "metadata": {},
     "output_type": "execute_result"
    }
   ],
   "source": [
    "%%time\n",
    "G0 = nx.from_pandas_edgelist(dfline, 's', 't', ['dist'])\n",
    "for i, (p,Elist) in enumerate(Pconnect.items()): \n",
    "    pass\n",
    "\n",
    "p = 'P{}'.format(p)\n",
    "ElistName = ['E{}'.format(e) for e in Elist]\n",
    "SlotName = [p] + ElistName\n",
    "SlotName\n",
    "G = G0.subgraph(SlotName).copy()\n",
    "\n",
    "dfl = dfline[dfline.index.isin(indiv['Name'])]\n",
    "G = G0.subgraph(SlotName).copy()\n",
    "# dfl = dfline[dfline.ID.isin(indiv['Name'])]\n",
    "# G = nx.from_pandas_edgelist(dfl, 's', 't', ['dist'])\n",
    "n = p\n",
    "L = [n]\n",
    "path = []\n",
    "while G.size()>0 :\n",
    "    \n",
    "    NodesAdj  = [x[0] for x in G.adj[n].items()]\n",
    "    NodesDist = [x[1]['dist'] for x in G.adj[n].items()]\n",
    "    ns = n\n",
    "    G.remove_node(n)\n",
    "    n = NodesAdj[np.array(NodesDist).argmin()]\n",
    "    L.append(n)\n",
    "    path.append('{}-{}'.format(ns,n))\n",
    "L\n",
    "path"
   ]
  },
  {
   "cell_type": "markdown",
   "id": "c8683101",
   "metadata": {
    "heading_collapsed": true,
    "hidden": true
   },
   "source": [
    "## test conf"
   ]
  },
  {
   "cell_type": "code",
   "execution_count": 18,
   "id": "b239ba05",
   "metadata": {
    "collapsed": true,
    "hidden": true
   },
   "outputs": [
    {
     "data": {
      "text/html": [
       "<div>\n",
       "<style scoped>\n",
       "    .dataframe tbody tr th:only-of-type {\n",
       "        vertical-align: middle;\n",
       "    }\n",
       "\n",
       "    .dataframe tbody tr th {\n",
       "        vertical-align: top;\n",
       "    }\n",
       "\n",
       "    .dataframe thead th {\n",
       "        text-align: right;\n",
       "    }\n",
       "</style>\n",
       "<table border=\"1\" class=\"dataframe\">\n",
       "  <thead>\n",
       "    <tr style=\"text-align: right;\">\n",
       "      <th></th>\n",
       "      <th>ID</th>\n",
       "      <th>path</th>\n",
       "      <th>dist</th>\n",
       "      <th>duriteType</th>\n",
       "      <th>duriteVal</th>\n",
       "    </tr>\n",
       "  </thead>\n",
       "  <tbody>\n",
       "    <tr>\n",
       "      <th>0</th>\n",
       "      <td>E0-C0</td>\n",
       "      <td>[[2, 2], [1, 2], [1, 1], [0, 1]]</td>\n",
       "      <td>0.3</td>\n",
       "      <td>4</td>\n",
       "      <td>0.000235</td>\n",
       "    </tr>\n",
       "    <tr>\n",
       "      <th>1</th>\n",
       "      <td>E0-C1</td>\n",
       "      <td>[[2, 2], [1, 2], [1, 3], [1, 4], [1, 5], [0, 5]]</td>\n",
       "      <td>0.5</td>\n",
       "      <td>4</td>\n",
       "      <td>0.000235</td>\n",
       "    </tr>\n",
       "    <tr>\n",
       "      <th>2</th>\n",
       "      <td>E0-C2</td>\n",
       "      <td>[[2, 2], [2, 1], [2, 0]]</td>\n",
       "      <td>0.2</td>\n",
       "      <td>4</td>\n",
       "      <td>0.000235</td>\n",
       "    </tr>\n",
       "    <tr>\n",
       "      <th>3</th>\n",
       "      <td>E0-C3</td>\n",
       "      <td>[[2, 2], [1, 2], [1, 3], [1, 4], [1, 5], [2, 5...</td>\n",
       "      <td>0.6</td>\n",
       "      <td>4</td>\n",
       "      <td>0.000235</td>\n",
       "    </tr>\n",
       "    <tr>\n",
       "      <th>4</th>\n",
       "      <td>E0-C4</td>\n",
       "      <td>[[2, 2], [3, 2], [4, 2], [5, 2], [6, 2], [7, 2...</td>\n",
       "      <td>0.8</td>\n",
       "      <td>4</td>\n",
       "      <td>0.000235</td>\n",
       "    </tr>\n",
       "    <tr>\n",
       "      <th>5</th>\n",
       "      <td>P0-E0</td>\n",
       "      <td>[[2, 2], [3, 2], [4, 2], [5, 2], [5, 1]]</td>\n",
       "      <td>0.4</td>\n",
       "      <td>4</td>\n",
       "      <td>0.000235</td>\n",
       "    </tr>\n",
       "    <tr>\n",
       "      <th>6</th>\n",
       "      <td>P1-E0</td>\n",
       "      <td>[[2, 2], [3, 2], [4, 2], [4, 3], [4, 4], [5, 4...</td>\n",
       "      <td>0.6</td>\n",
       "      <td>4</td>\n",
       "      <td>0.000235</td>\n",
       "    </tr>\n",
       "    <tr>\n",
       "      <th>7</th>\n",
       "      <td>E1-C0</td>\n",
       "      <td>[[2, 4], [1, 4], [1, 3], [1, 2], [1, 1], [0, 1]]</td>\n",
       "      <td>0.5</td>\n",
       "      <td>4</td>\n",
       "      <td>0.000235</td>\n",
       "    </tr>\n",
       "    <tr>\n",
       "      <th>8</th>\n",
       "      <td>E1-C1</td>\n",
       "      <td>[[2, 4], [1, 4], [1, 5], [0, 5]]</td>\n",
       "      <td>0.3</td>\n",
       "      <td>4</td>\n",
       "      <td>0.000235</td>\n",
       "    </tr>\n",
       "    <tr>\n",
       "      <th>9</th>\n",
       "      <td>E1-C2</td>\n",
       "      <td>[[2, 4], [1, 4], [1, 3], [1, 2], [1, 1], [2, 1...</td>\n",
       "      <td>0.6</td>\n",
       "      <td>4</td>\n",
       "      <td>0.000235</td>\n",
       "    </tr>\n",
       "    <tr>\n",
       "      <th>10</th>\n",
       "      <td>E1-C3</td>\n",
       "      <td>[[2, 4], [2, 5], [2, 6]]</td>\n",
       "      <td>0.2</td>\n",
       "      <td>4</td>\n",
       "      <td>0.000235</td>\n",
       "    </tr>\n",
       "    <tr>\n",
       "      <th>11</th>\n",
       "      <td>E1-C4</td>\n",
       "      <td>[[2, 4], [3, 4], [4, 4], [5, 4], [6, 4], [7, 4...</td>\n",
       "      <td>0.8</td>\n",
       "      <td>4</td>\n",
       "      <td>0.000235</td>\n",
       "    </tr>\n",
       "    <tr>\n",
       "      <th>12</th>\n",
       "      <td>P0-E1</td>\n",
       "      <td>[[2, 4], [3, 4], [4, 4], [4, 3], [4, 2], [5, 2...</td>\n",
       "      <td>0.6</td>\n",
       "      <td>4</td>\n",
       "      <td>0.000235</td>\n",
       "    </tr>\n",
       "    <tr>\n",
       "      <th>13</th>\n",
       "      <td>P1-E1</td>\n",
       "      <td>[[2, 4], [3, 4], [4, 4], [5, 4], [5, 5]]</td>\n",
       "      <td>0.4</td>\n",
       "      <td>4</td>\n",
       "      <td>0.000235</td>\n",
       "    </tr>\n",
       "    <tr>\n",
       "      <th>14</th>\n",
       "      <td>E2-C0</td>\n",
       "      <td>[[5, 3], [4, 3], [3, 3], [2, 3], [1, 3], [1, 2...</td>\n",
       "      <td>0.7</td>\n",
       "      <td>4</td>\n",
       "      <td>0.000235</td>\n",
       "    </tr>\n",
       "    <tr>\n",
       "      <th>15</th>\n",
       "      <td>E2-C1</td>\n",
       "      <td>[[5, 3], [4, 3], [3, 3], [2, 3], [1, 3], [1, 4...</td>\n",
       "      <td>0.7</td>\n",
       "      <td>4</td>\n",
       "      <td>0.000235</td>\n",
       "    </tr>\n",
       "    <tr>\n",
       "      <th>16</th>\n",
       "      <td>E2-C2</td>\n",
       "      <td>[[5, 3], [4, 3], [3, 3], [3, 2], [3, 1], [2, 1...</td>\n",
       "      <td>0.6</td>\n",
       "      <td>4</td>\n",
       "      <td>0.000235</td>\n",
       "    </tr>\n",
       "    <tr>\n",
       "      <th>17</th>\n",
       "      <td>E2-C3</td>\n",
       "      <td>[[5, 3], [4, 3], [3, 3], [3, 4], [3, 5], [2, 5...</td>\n",
       "      <td>0.6</td>\n",
       "      <td>4</td>\n",
       "      <td>0.000235</td>\n",
       "    </tr>\n",
       "    <tr>\n",
       "      <th>18</th>\n",
       "      <td>E2-C4</td>\n",
       "      <td>[[5, 3], [6, 3], [6, 2], [7, 2], [8, 2], [8, 3...</td>\n",
       "      <td>0.6</td>\n",
       "      <td>4</td>\n",
       "      <td>0.000235</td>\n",
       "    </tr>\n",
       "    <tr>\n",
       "      <th>19</th>\n",
       "      <td>P0-E2</td>\n",
       "      <td>[[5, 3], [5, 2], [5, 1]]</td>\n",
       "      <td>0.2</td>\n",
       "      <td>4</td>\n",
       "      <td>0.000235</td>\n",
       "    </tr>\n",
       "    <tr>\n",
       "      <th>20</th>\n",
       "      <td>P1-E2</td>\n",
       "      <td>[[5, 3], [5, 4], [5, 5]]</td>\n",
       "      <td>0.2</td>\n",
       "      <td>4</td>\n",
       "      <td>0.000235</td>\n",
       "    </tr>\n",
       "    <tr>\n",
       "      <th>21</th>\n",
       "      <td>E3-C0</td>\n",
       "      <td>[[7, 3], [6, 3], [6, 2], [5, 2], [4, 2], [3, 2...</td>\n",
       "      <td>0.9</td>\n",
       "      <td>4</td>\n",
       "      <td>0.000235</td>\n",
       "    </tr>\n",
       "    <tr>\n",
       "      <th>22</th>\n",
       "      <td>E3-C1</td>\n",
       "      <td>[[7, 3], [6, 3], [6, 4], [5, 4], [4, 4], [3, 4...</td>\n",
       "      <td>0.9</td>\n",
       "      <td>4</td>\n",
       "      <td>0.000235</td>\n",
       "    </tr>\n",
       "    <tr>\n",
       "      <th>23</th>\n",
       "      <td>E3-C2</td>\n",
       "      <td>[[7, 3], [6, 3], [6, 2], [5, 2], [4, 2], [3, 2...</td>\n",
       "      <td>0.8</td>\n",
       "      <td>4</td>\n",
       "      <td>0.000235</td>\n",
       "    </tr>\n",
       "    <tr>\n",
       "      <th>24</th>\n",
       "      <td>E3-C3</td>\n",
       "      <td>[[7, 3], [6, 3], [6, 4], [5, 4], [4, 4], [3, 4...</td>\n",
       "      <td>0.8</td>\n",
       "      <td>4</td>\n",
       "      <td>0.000235</td>\n",
       "    </tr>\n",
       "    <tr>\n",
       "      <th>25</th>\n",
       "      <td>E3-C4</td>\n",
       "      <td>[[7, 3], [8, 3], [9, 3]]</td>\n",
       "      <td>0.2</td>\n",
       "      <td>4</td>\n",
       "      <td>0.000235</td>\n",
       "    </tr>\n",
       "    <tr>\n",
       "      <th>26</th>\n",
       "      <td>P0-E3</td>\n",
       "      <td>[[7, 3], [6, 3], [6, 2], [5, 2], [5, 1]]</td>\n",
       "      <td>0.4</td>\n",
       "      <td>4</td>\n",
       "      <td>0.000235</td>\n",
       "    </tr>\n",
       "    <tr>\n",
       "      <th>27</th>\n",
       "      <td>P1-E3</td>\n",
       "      <td>[[7, 3], [6, 3], [6, 4], [5, 4], [5, 5]]</td>\n",
       "      <td>0.4</td>\n",
       "      <td>4</td>\n",
       "      <td>0.000235</td>\n",
       "    </tr>\n",
       "    <tr>\n",
       "      <th>28</th>\n",
       "      <td>E1-E0</td>\n",
       "      <td>[[2, 2], [2, 3], [2, 4]]</td>\n",
       "      <td>0.2</td>\n",
       "      <td>4</td>\n",
       "      <td>0.000235</td>\n",
       "    </tr>\n",
       "    <tr>\n",
       "      <th>29</th>\n",
       "      <td>E2-E0</td>\n",
       "      <td>[[2, 2], [3, 2], [4, 2], [5, 2], [5, 3]]</td>\n",
       "      <td>0.4</td>\n",
       "      <td>4</td>\n",
       "      <td>0.000235</td>\n",
       "    </tr>\n",
       "    <tr>\n",
       "      <th>30</th>\n",
       "      <td>E3-E0</td>\n",
       "      <td>[[2, 2], [3, 2], [4, 2], [5, 2], [6, 2], [7, 2...</td>\n",
       "      <td>0.6</td>\n",
       "      <td>4</td>\n",
       "      <td>0.000235</td>\n",
       "    </tr>\n",
       "    <tr>\n",
       "      <th>31</th>\n",
       "      <td>E2-E1</td>\n",
       "      <td>[[2, 4], [3, 4], [4, 4], [5, 4], [5, 3]]</td>\n",
       "      <td>0.4</td>\n",
       "      <td>4</td>\n",
       "      <td>0.000235</td>\n",
       "    </tr>\n",
       "    <tr>\n",
       "      <th>32</th>\n",
       "      <td>E3-E1</td>\n",
       "      <td>[[2, 4], [3, 4], [4, 4], [5, 4], [6, 4], [7, 4...</td>\n",
       "      <td>0.6</td>\n",
       "      <td>4</td>\n",
       "      <td>0.000235</td>\n",
       "    </tr>\n",
       "    <tr>\n",
       "      <th>33</th>\n",
       "      <td>E3-E2</td>\n",
       "      <td>[[5, 3], [6, 3], [7, 3]]</td>\n",
       "      <td>0.2</td>\n",
       "      <td>4</td>\n",
       "      <td>0.000235</td>\n",
       "    </tr>\n",
       "  </tbody>\n",
       "</table>\n",
       "</div>"
      ],
      "text/plain": [
       "       ID                                               path dist  duriteType  \\\n",
       "0   E0-C0                   [[2, 2], [1, 2], [1, 1], [0, 1]]  0.3           4   \n",
       "1   E0-C1   [[2, 2], [1, 2], [1, 3], [1, 4], [1, 5], [0, 5]]  0.5           4   \n",
       "2   E0-C2                           [[2, 2], [2, 1], [2, 0]]  0.2           4   \n",
       "3   E0-C3  [[2, 2], [1, 2], [1, 3], [1, 4], [1, 5], [2, 5...  0.6           4   \n",
       "4   E0-C4  [[2, 2], [3, 2], [4, 2], [5, 2], [6, 2], [7, 2...  0.8           4   \n",
       "5   P0-E0           [[2, 2], [3, 2], [4, 2], [5, 2], [5, 1]]  0.4           4   \n",
       "6   P1-E0  [[2, 2], [3, 2], [4, 2], [4, 3], [4, 4], [5, 4...  0.6           4   \n",
       "7   E1-C0   [[2, 4], [1, 4], [1, 3], [1, 2], [1, 1], [0, 1]]  0.5           4   \n",
       "8   E1-C1                   [[2, 4], [1, 4], [1, 5], [0, 5]]  0.3           4   \n",
       "9   E1-C2  [[2, 4], [1, 4], [1, 3], [1, 2], [1, 1], [2, 1...  0.6           4   \n",
       "10  E1-C3                           [[2, 4], [2, 5], [2, 6]]  0.2           4   \n",
       "11  E1-C4  [[2, 4], [3, 4], [4, 4], [5, 4], [6, 4], [7, 4...  0.8           4   \n",
       "12  P0-E1  [[2, 4], [3, 4], [4, 4], [4, 3], [4, 2], [5, 2...  0.6           4   \n",
       "13  P1-E1           [[2, 4], [3, 4], [4, 4], [5, 4], [5, 5]]  0.4           4   \n",
       "14  E2-C0  [[5, 3], [4, 3], [3, 3], [2, 3], [1, 3], [1, 2...  0.7           4   \n",
       "15  E2-C1  [[5, 3], [4, 3], [3, 3], [2, 3], [1, 3], [1, 4...  0.7           4   \n",
       "16  E2-C2  [[5, 3], [4, 3], [3, 3], [3, 2], [3, 1], [2, 1...  0.6           4   \n",
       "17  E2-C3  [[5, 3], [4, 3], [3, 3], [3, 4], [3, 5], [2, 5...  0.6           4   \n",
       "18  E2-C4  [[5, 3], [6, 3], [6, 2], [7, 2], [8, 2], [8, 3...  0.6           4   \n",
       "19  P0-E2                           [[5, 3], [5, 2], [5, 1]]  0.2           4   \n",
       "20  P1-E2                           [[5, 3], [5, 4], [5, 5]]  0.2           4   \n",
       "21  E3-C0  [[7, 3], [6, 3], [6, 2], [5, 2], [4, 2], [3, 2...  0.9           4   \n",
       "22  E3-C1  [[7, 3], [6, 3], [6, 4], [5, 4], [4, 4], [3, 4...  0.9           4   \n",
       "23  E3-C2  [[7, 3], [6, 3], [6, 2], [5, 2], [4, 2], [3, 2...  0.8           4   \n",
       "24  E3-C3  [[7, 3], [6, 3], [6, 4], [5, 4], [4, 4], [3, 4...  0.8           4   \n",
       "25  E3-C4                           [[7, 3], [8, 3], [9, 3]]  0.2           4   \n",
       "26  P0-E3           [[7, 3], [6, 3], [6, 2], [5, 2], [5, 1]]  0.4           4   \n",
       "27  P1-E3           [[7, 3], [6, 3], [6, 4], [5, 4], [5, 5]]  0.4           4   \n",
       "28  E1-E0                           [[2, 2], [2, 3], [2, 4]]  0.2           4   \n",
       "29  E2-E0           [[2, 2], [3, 2], [4, 2], [5, 2], [5, 3]]  0.4           4   \n",
       "30  E3-E0  [[2, 2], [3, 2], [4, 2], [5, 2], [6, 2], [7, 2...  0.6           4   \n",
       "31  E2-E1           [[2, 4], [3, 4], [4, 4], [5, 4], [5, 3]]  0.4           4   \n",
       "32  E3-E1  [[2, 4], [3, 4], [4, 4], [5, 4], [6, 4], [7, 4...  0.6           4   \n",
       "33  E3-E2                           [[5, 3], [6, 3], [7, 3]]  0.2           4   \n",
       "\n",
       "    duriteVal  \n",
       "0    0.000235  \n",
       "1    0.000235  \n",
       "2    0.000235  \n",
       "3    0.000235  \n",
       "4    0.000235  \n",
       "5    0.000235  \n",
       "6    0.000235  \n",
       "7    0.000235  \n",
       "8    0.000235  \n",
       "9    0.000235  \n",
       "10   0.000235  \n",
       "11   0.000235  \n",
       "12   0.000235  \n",
       "13   0.000235  \n",
       "14   0.000235  \n",
       "15   0.000235  \n",
       "16   0.000235  \n",
       "17   0.000235  \n",
       "18   0.000235  \n",
       "19   0.000235  \n",
       "20   0.000235  \n",
       "21   0.000235  \n",
       "22   0.000235  \n",
       "23   0.000235  \n",
       "24   0.000235  \n",
       "25   0.000235  \n",
       "26   0.000235  \n",
       "27   0.000235  \n",
       "28   0.000235  \n",
       "29   0.000235  \n",
       "30   0.000235  \n",
       "31   0.000235  \n",
       "32   0.000235  \n",
       "33   0.000235  "
      ]
     },
     "execution_count": 18,
     "metadata": {},
     "output_type": "execute_result"
    }
   ],
   "source": [
    "algo.dfline"
   ]
  },
  {
   "cell_type": "code",
   "execution_count": 21,
   "id": "95c7c145",
   "metadata": {
    "collapsed": true,
    "hidden": true
   },
   "outputs": [
    {
     "data": {
      "text/plain": [
       "Clist                                               [0, 1, 2, 3, 4]\n",
       "CtoE                                                [0, 1, 0, 1, 2]\n",
       "Econnect                             {0: [0, 2], 1: [1, 3], 2: [4]}\n",
       "Elist                                                     [0, 1, 2]\n",
       "Ecount                                                            3\n",
       "EtoP                                                      [0, 0, 0]\n",
       "Pconnect                                                {0: [0, 1]}\n",
       "Plist                                                           [0]\n",
       "Pcount                                                            1\n",
       "Ptype0                                                 [Pa, Pa, Pa]\n",
       "List_EtoC                 [[E0-C0, E0-C2], [E1-C1, E1-C3], [E2-C4]]\n",
       "List_PtoE                                   [[P0-E0, P0-E1, P0-E2]]\n",
       "Name              [E0-C0, E0-C2, E1-C1, E1-C3, E2-C4, P0-E0, P0-...\n",
       "ID                                                                0\n",
       "parent                                                           []\n",
       "Name_txt            E0-C0,E0-C2,E1-C1,E1-C3,E2-C4,P0-E0,P0-E1,P0-E2\n",
       "Epoch                                                             0\n",
       "Option                                                          Bus\n",
       "Ptype                                                  [Pa, Pa, Pa]\n",
       "dist_Connect      {'E0-C0': 0.3, 'E0-C2': 0.2, 'E1-C1': 0.3, 'E1...\n",
       "dist                                                            240\n",
       "BusName           [E0-C0, E0-C2, E1-C1, E1-C3, E2-C4, P0-E0, E1-...\n",
       "BusDist           {'E0-C0': 0.3, 'E0-C2': 0.2, 'E1-C1': 0.3, 'E1...\n",
       "PtypeCo                                     {0: ['Pa', 'Pa', 'Pa']}\n",
       "PompesCo                                                {0: ['Pa']}\n",
       "PompeCount                                        {'P0': {'Pa': 1}}\n",
       "PompeSum                                                  {'Pa': 1}\n",
       "duriteVal         {'E0-C0': 0.000235, 'E0-C2': 0.000235, 'E1-C1'...\n",
       "BusConnectDict                              [{'p': 0, 'e': [0, 1]}]\n",
       "PressionList                         [4.16, 4.51, 4.16, 4.51, 4.51]\n",
       "DebitList                         [10.75, 11.19, 10.75, 11.2, 11.2]\n",
       "Esplit                               {0: [0, 2], 1: [1, 3], 2: [4]}\n",
       "Debit                                                          55.1\n",
       "EvCount                                 {'E0': 2, 'E1': 2, 'E2': 1}\n",
       "EvSum                                                             5\n",
       "Masse                                                          1396\n",
       "Cout                                                             63\n",
       "DetailsMasse      {'Pompe': 136.0, 'Tuyau': 110.4, 'EV': 550.0, ...\n",
       "DetailsCout       {'Pompe': 2.5, 'Tuyau': 0.8, 'EV': 30.0, 'Rese...\n",
       "fitness                                                         240\n",
       "Alive                                                          True\n",
       "dtype: object"
      ]
     },
     "execution_count": 21,
     "metadata": {},
     "output_type": "execute_result"
    }
   ],
   "source": [
    "pd.Series(indiv)"
   ]
  },
  {
   "cell_type": "code",
   "execution_count": 8,
   "id": "49918e03",
   "metadata": {
    "hidden": true
   },
   "outputs": [
    {
     "data": {
      "text/plain": [
       "['E0-C0', 'E0-C2', 'E1-C1', 'E1-C3', 'E2-C4', 'E2-E0', 'E1-E0', 'P0-E2']"
      ]
     },
     "execution_count": 8,
     "metadata": {},
     "output_type": "execute_result"
    },
    {
     "data": {
      "text/plain": [
       "{0: [0, 2], 1: [1, 3], 2: [4]}"
      ]
     },
     "execution_count": 8,
     "metadata": {},
     "output_type": "execute_result"
    },
    {
     "data": {
      "text/plain": [
       "{0: 0, 2: 0, 1: 1, 3: 1, 4: 2}"
      ]
     },
     "execution_count": 8,
     "metadata": {},
     "output_type": "execute_result"
    },
    {
     "data": {
      "text/plain": [
       "['E0-C0', 'E0-C2', 'E1-C1', 'E1-C3', 'E2-C4', 'P0-E0', 'P0-E1', 'P0-E2']"
      ]
     },
     "execution_count": 8,
     "metadata": {},
     "output_type": "execute_result"
    },
    {
     "data": {
      "text/plain": [
       "[0.3, 0.2, 0.3, 0.2, 0.6, 0.4, 0.6, 0.2]"
      ]
     },
     "execution_count": 8,
     "metadata": {},
     "output_type": "execute_result"
    },
    {
     "data": {
      "text/plain": [
       "{'E0-C0': 0.3,\n",
       " 'E0-C2': 0.2,\n",
       " 'E1-C1': 0.3,\n",
       " 'E1-C3': 0.2,\n",
       " 'E2-C4': 0.6,\n",
       " 'P0-E0': 0.4,\n",
       " 'P0-E1': 0.6,\n",
       " 'P0-E2': 0.2}"
      ]
     },
     "execution_count": 8,
     "metadata": {},
     "output_type": "execute_result"
    },
    {
     "name": "stdout",
     "output_type": "stream",
     "text": [
      "0 (0, [0, 1, 2])\n",
      "bus P0 0 [0, 1, 2] ['P0-E2', 'P0-E0', 'P0-E1'] ['P0', 'E2', 'E0', 'E1'] ['P0-E2', 'E2-E0', 'E1-E0'] [0.2, 0.4, 0.2] [0.2 0.6 0.8] ['P0-E2', 'P0-E0', 'P0-E1']\n"
     ]
    },
    {
     "data": {
      "text/plain": [
       "({'E0-C0': 0.3,\n",
       "  'E0-C2': 0.2,\n",
       "  'E1-C1': 0.3,\n",
       "  'E1-C3': 0.2,\n",
       "  'E2-C4': 0.6,\n",
       "  'P0-E0': 0.6000000000000001,\n",
       "  'P0-E1': 0.8,\n",
       "  'P0-E2': 0.2},\n",
       " ['E0-C0', 'E0-C2', 'E1-C1', 'E1-C3', 'E2-C4', 'E2-E0', 'E1-E0', 'P0-E2'],\n",
       " [{'p': 0, 'e': [2, 0, 1]}])"
      ]
     },
     "execution_count": 8,
     "metadata": {},
     "output_type": "execute_result"
    }
   ],
   "source": [
    "Econnect = indiv['Econnect']\n",
    "Ptype = indiv['Ptype']\n",
    "GroupDict = algo.GroupDict\n",
    "indiv['BusName']\n",
    "Econnect\n",
    "\n",
    "Cconnect =  { v: k for k, l in indiv['Econnect'].items() for v in l }\n",
    "Cconnect\n",
    "\n",
    "Name = indiv['Name']\n",
    "Name\n",
    "distList = [algo.dist[line] for line in Name] \n",
    "distList\n",
    "dist_Connect = dict(zip(Name,distList)) \n",
    "dist_Connect\n",
    "Bus_Connection(algo, indiv, dist_Connect)"
   ]
  },
  {
   "cell_type": "code",
   "execution_count": null,
   "id": "9b7d3099",
   "metadata": {
    "hidden": true
   },
   "outputs": [],
   "source": [
    "Bus_Connection_v2(algo, indiv, dist_Connect)"
   ]
  },
  {
   "cell_type": "code",
   "execution_count": 9,
   "id": "7a9c386e",
   "metadata": {
    "hidden": true
   },
   "outputs": [
    {
     "data": {
      "text/plain": [
       "defaultdict(list, {1: [0, 2, 3], 0: [1, 4]})"
      ]
     },
     "execution_count": 9,
     "metadata": {},
     "output_type": "execute_result"
    },
    {
     "data": {
      "text/plain": [
       "{1: {0: [0, 2], 1: [3]}, 0: {1: [1], 2: [4]}}"
      ]
     },
     "execution_count": 9,
     "metadata": {},
     "output_type": "execute_result"
    }
   ],
   "source": [
    "gr = collections.defaultdict(list)\n",
    "# on fait 1 le dict des group par {gr : c}  \n",
    "for e, clist in Econnect.items():\n",
    "    for c in clist:\n",
    "        gr[GroupDict[c]].append(c) \n",
    "gr\n",
    "DictX = {}\n",
    "for g, clist in gr.items(): # pas sur quie le sorted serve a quelque chose \n",
    "        d = collections.defaultdict(list)\n",
    "        for c in clist :\n",
    "            e = Cconnect[c]\n",
    "            if e in [0,1,2]:\n",
    "                d[e].append(c)\n",
    "                DictX[g] = dict(d) \n",
    "DictX  "
   ]
  },
  {
   "cell_type": "code",
   "execution_count": 25,
   "id": "21069958",
   "metadata": {
    "hidden": true
   },
   "outputs": [
    {
     "data": {
      "text/plain": [
       "{0: [0, 2], 1: [1, 3], 2: [4]}"
      ]
     },
     "execution_count": 25,
     "metadata": {},
     "output_type": "execute_result"
    },
    {
     "data": {
      "text/plain": [
       "[1, 0, 1, 1, 0]"
      ]
     },
     "execution_count": 25,
     "metadata": {},
     "output_type": "execute_result"
    },
    {
     "data": {
      "text/plain": [
       "[{'p': 0, 'e': [0, 1]}]"
      ]
     },
     "execution_count": 25,
     "metadata": {},
     "output_type": "execute_result"
    }
   ],
   "source": [
    "Econnect\n",
    "GroupDict\n",
    "indiv['BusConnectDict']"
   ]
  },
  {
   "cell_type": "code",
   "execution_count": 134,
   "id": "49302473",
   "metadata": {
    "hidden": true
   },
   "outputs": [
    {
     "data": {
      "text/plain": [
       "{0, 1}"
      ]
     },
     "execution_count": 134,
     "metadata": {},
     "output_type": "execute_result"
    }
   ],
   "source": [
    "set(GroupDict)"
   ]
  },
  {
   "cell_type": "code",
   "execution_count": 135,
   "id": "6077ee18",
   "metadata": {
    "hidden": true,
    "scrolled": true
   },
   "outputs": [
    {
     "data": {
      "text/plain": [
       "{1: None, 0: None}"
      ]
     },
     "execution_count": 135,
     "metadata": {},
     "output_type": "execute_result"
    }
   ],
   "source": [
    "dict.fromkeys(GroupDict)"
   ]
  },
  {
   "cell_type": "code",
   "execution_count": 110,
   "id": "f7f5c5cb",
   "metadata": {
    "hidden": true
   },
   "outputs": [
    {
     "data": {
      "text/plain": [
       "(array([0, 1, 2]),\n",
       " array([1, 0, 3], dtype=int64),\n",
       " array([1, 0, 1, 2, 2], dtype=int64),\n",
       " array([1, 2, 2], dtype=int64))"
      ]
     },
     "execution_count": 110,
     "metadata": {},
     "output_type": "execute_result"
    }
   ],
   "source": [
    "np.unique([1,0,1,2,2],return_index=True,\n",
    "    return_inverse=True,\n",
    "    return_counts=True,)"
   ]
  },
  {
   "cell_type": "code",
   "execution_count": 104,
   "id": "c343c60f",
   "metadata": {
    "hidden": true
   },
   "outputs": [
    {
     "data": {
      "text/plain": [
       "array([0, 2, 3], dtype=int64)"
      ]
     },
     "execution_count": 104,
     "metadata": {},
     "output_type": "execute_result"
    }
   ],
   "source": [
    "np.where(np.array(GroupDict) == 1)[0]"
   ]
  },
  {
   "cell_type": "code",
   "execution_count": 23,
   "id": "1b8cc81e",
   "metadata": {
    "hidden": true
   },
   "outputs": [
    {
     "data": {
      "text/plain": [
       "{0: [0, 2], 1: [1, 3], 2: [4]}"
      ]
     },
     "execution_count": 23,
     "metadata": {},
     "output_type": "execute_result"
    },
    {
     "data": {
      "text/plain": [
       "{0: {1: [1], 2: [4]}, 1: {0: [0, 2], 1: [3]}}"
      ]
     },
     "execution_count": 23,
     "metadata": {},
     "output_type": "execute_result"
    },
    {
     "data": {
      "text/plain": [
       "{0: [1, 4], 1: [0, 2, 3]}"
      ]
     },
     "execution_count": 23,
     "metadata": {},
     "output_type": "execute_result"
    }
   ],
   "source": [
    "dx = {}\n",
    "Econnect\n",
    "gr = {}\n",
    "for n in [0,1]:\n",
    "    d = collections.defaultdict(list)\n",
    "    glist = np.where(np.array(GroupDict) == n)[0]\n",
    "    for e, clist in Econnect.items():\n",
    "        for c in clist :\n",
    "            if c in glist:\n",
    "                d[e].append(c)\n",
    "#     print(g , dict(d))\n",
    "    dx[n] = dict(d)\n",
    "    gr[n] = list(glist)\n",
    "dx\n",
    "gr"
   ]
  },
  {
   "cell_type": "raw",
   "id": "2e5f9949",
   "metadata": {
    "collapsed": true,
    "hidden": true
   },
   "source": [
    "dx2 = copy.deepcopy(dx)\n",
    "for g, edict in dx.items():\n",
    "    e = edict.keys()\n",
    "    for e in edict.keys():\n",
    "        if e not in [0,1]:\n",
    "            del edict[e]\n",
    "        "
   ]
  },
  {
   "cell_type": "raw",
   "id": "98307424",
   "metadata": {
    "hidden": true
   },
   "source": [
    "Econnect = indiv['Econnect']\n",
    "GroupDict = algo.GroupDict\n",
    "gr = collections.defaultdict(list)\n",
    "gr2 = collections.defaultdict(list)\n",
    "dx = {}\n",
    "for e, clist in Econnect.items():\n",
    "    for c in clist:\n",
    "        g = GroupDict[c]\n",
    "        gr[GroupDict[c]].append(c) \n",
    "\n",
    "gr"
   ]
  },
  {
   "cell_type": "raw",
   "id": "bbe279aa",
   "metadata": {
    "hidden": true
   },
   "source": [
    "DictX = {}\n",
    "gr\n",
    "Cconnect\n",
    "for n in sorted(gr): # pas sur quie le sorted serve a quelque chose \n",
    "    g = gr[n]\n",
    "    d = collections.defaultdict(list)\n",
    "    for c in g :\n",
    "        e = Cconnect[c]\n",
    "        d[e].append(c)\n",
    "    DictX[n] = dict(d) \n",
    "DictX"
   ]
  },
  {
   "cell_type": "code",
   "execution_count": 96,
   "id": "4f56df34",
   "metadata": {
    "hidden": true
   },
   "outputs": [
    {
     "data": {
      "text/plain": [
       "{0: 0, 2: 0, 1: 1, 3: 1, 4: 2}"
      ]
     },
     "execution_count": 96,
     "metadata": {},
     "output_type": "execute_result"
    }
   ],
   "source": [
    "Cconnect"
   ]
  },
  {
   "cell_type": "markdown",
   "id": "be41d475",
   "metadata": {
    "heading_collapsed": true,
    "hidden": true
   },
   "source": [
    "## Conf"
   ]
  },
  {
   "cell_type": "code",
   "execution_count": 31,
   "id": "70d46ccb",
   "metadata": {
    "hidden": true
   },
   "outputs": [
    {
     "data": {
      "text/html": [
       "<div>\n",
       "<style scoped>\n",
       "    .dataframe tbody tr th:only-of-type {\n",
       "        vertical-align: middle;\n",
       "    }\n",
       "\n",
       "    .dataframe tbody tr th {\n",
       "        vertical-align: top;\n",
       "    }\n",
       "\n",
       "    .dataframe thead th {\n",
       "        text-align: right;\n",
       "    }\n",
       "</style>\n",
       "<table border=\"1\" class=\"dataframe\">\n",
       "  <thead>\n",
       "    <tr style=\"text-align: right;\">\n",
       "      <th></th>\n",
       "      <th>path</th>\n",
       "      <th>dist</th>\n",
       "      <th>duriteType</th>\n",
       "      <th>duriteVal</th>\n",
       "      <th>s</th>\n",
       "      <th>t</th>\n",
       "      <th>Connect</th>\n",
       "    </tr>\n",
       "    <tr>\n",
       "      <th>ID</th>\n",
       "      <th></th>\n",
       "      <th></th>\n",
       "      <th></th>\n",
       "      <th></th>\n",
       "      <th></th>\n",
       "      <th></th>\n",
       "      <th></th>\n",
       "    </tr>\n",
       "  </thead>\n",
       "  <tbody>\n",
       "    <tr>\n",
       "      <th>E0-C0</th>\n",
       "      <td>[[2, 2], [1, 2], [1, 1], [0, 1]]</td>\n",
       "      <td>0.3</td>\n",
       "      <td>4</td>\n",
       "      <td>0.000235</td>\n",
       "      <td>E0</td>\n",
       "      <td>C0</td>\n",
       "      <td>EC</td>\n",
       "    </tr>\n",
       "    <tr>\n",
       "      <th>E0-C2</th>\n",
       "      <td>[[2, 2], [2, 1], [2, 0]]</td>\n",
       "      <td>0.2</td>\n",
       "      <td>4</td>\n",
       "      <td>0.000235</td>\n",
       "      <td>E0</td>\n",
       "      <td>C2</td>\n",
       "      <td>EC</td>\n",
       "    </tr>\n",
       "    <tr>\n",
       "      <th>P0-E0</th>\n",
       "      <td>[[2, 2], [3, 2], [4, 2], [5, 2], [5, 1]]</td>\n",
       "      <td>0.4</td>\n",
       "      <td>4</td>\n",
       "      <td>0.000235</td>\n",
       "      <td>P0</td>\n",
       "      <td>E0</td>\n",
       "      <td>PE</td>\n",
       "    </tr>\n",
       "    <tr>\n",
       "      <th>E1-C1</th>\n",
       "      <td>[[2, 4], [1, 4], [1, 5], [0, 5]]</td>\n",
       "      <td>0.3</td>\n",
       "      <td>4</td>\n",
       "      <td>0.000235</td>\n",
       "      <td>E1</td>\n",
       "      <td>C1</td>\n",
       "      <td>EC</td>\n",
       "    </tr>\n",
       "    <tr>\n",
       "      <th>E1-C3</th>\n",
       "      <td>[[2, 4], [2, 5], [2, 6]]</td>\n",
       "      <td>0.2</td>\n",
       "      <td>4</td>\n",
       "      <td>0.000235</td>\n",
       "      <td>E1</td>\n",
       "      <td>C3</td>\n",
       "      <td>EC</td>\n",
       "    </tr>\n",
       "    <tr>\n",
       "      <th>P0-E1</th>\n",
       "      <td>[[2, 4], [3, 4], [4, 4], [4, 3], [4, 2], [5, 2...</td>\n",
       "      <td>0.6</td>\n",
       "      <td>4</td>\n",
       "      <td>0.000235</td>\n",
       "      <td>P0</td>\n",
       "      <td>E1</td>\n",
       "      <td>PE</td>\n",
       "    </tr>\n",
       "    <tr>\n",
       "      <th>E2-C4</th>\n",
       "      <td>[[5, 3], [6, 3], [6, 2], [7, 2], [8, 2], [8, 3...</td>\n",
       "      <td>0.6</td>\n",
       "      <td>4</td>\n",
       "      <td>0.000235</td>\n",
       "      <td>E2</td>\n",
       "      <td>C4</td>\n",
       "      <td>EC</td>\n",
       "    </tr>\n",
       "    <tr>\n",
       "      <th>P1-E2</th>\n",
       "      <td>[[5, 3], [5, 4], [5, 5]]</td>\n",
       "      <td>0.2</td>\n",
       "      <td>4</td>\n",
       "      <td>0.000235</td>\n",
       "      <td>P1</td>\n",
       "      <td>E2</td>\n",
       "      <td>PE</td>\n",
       "    </tr>\n",
       "  </tbody>\n",
       "</table>\n",
       "</div>"
      ],
      "text/plain": [
       "                                                    path dist  duriteType  \\\n",
       "ID                                                                          \n",
       "E0-C0                   [[2, 2], [1, 2], [1, 1], [0, 1]]  0.3           4   \n",
       "E0-C2                           [[2, 2], [2, 1], [2, 0]]  0.2           4   \n",
       "P0-E0           [[2, 2], [3, 2], [4, 2], [5, 2], [5, 1]]  0.4           4   \n",
       "E1-C1                   [[2, 4], [1, 4], [1, 5], [0, 5]]  0.3           4   \n",
       "E1-C3                           [[2, 4], [2, 5], [2, 6]]  0.2           4   \n",
       "P0-E1  [[2, 4], [3, 4], [4, 4], [4, 3], [4, 2], [5, 2...  0.6           4   \n",
       "E2-C4  [[5, 3], [6, 3], [6, 2], [7, 2], [8, 2], [8, 3...  0.6           4   \n",
       "P1-E2                           [[5, 3], [5, 4], [5, 5]]  0.2           4   \n",
       "\n",
       "       duriteVal   s   t Connect  \n",
       "ID                                \n",
       "E0-C0   0.000235  E0  C0      EC  \n",
       "E0-C2   0.000235  E0  C2      EC  \n",
       "P0-E0   0.000235  P0  E0      PE  \n",
       "E1-C1   0.000235  E1  C1      EC  \n",
       "E1-C3   0.000235  E1  C3      EC  \n",
       "P0-E1   0.000235  P0  E1      PE  \n",
       "E2-C4   0.000235  E2  C4      EC  \n",
       "P1-E2   0.000235  P1  E2      PE  "
      ]
     },
     "execution_count": 31,
     "metadata": {},
     "output_type": "execute_result"
    }
   ],
   "source": [
    "dfl = dfline[dfline.index.isin(indiv['Name'])]\n",
    "dfl"
   ]
  },
  {
   "cell_type": "code",
   "execution_count": 51,
   "id": "ff406aa6",
   "metadata": {
    "hidden": true
   },
   "outputs": [
    {
     "data": {
      "text/plain": [
       "{0: 0, 2: 0, 1: 1, 3: 1, 4: 2}"
      ]
     },
     "execution_count": 51,
     "metadata": {},
     "output_type": "execute_result"
    }
   ],
   "source": [
    "Cconnect =  { v: k for k, l in indiv['Econnect'].items() for v in l }\n",
    "Cconnect"
   ]
  },
  {
   "cell_type": "code",
   "execution_count": 32,
   "id": "f29458d6",
   "metadata": {
    "hidden": true
   },
   "outputs": [
    {
     "name": "stdout",
     "output_type": "stream",
     "text": [
      "BusName ['E0-C0', 'E0-C2', 'E1-C1', 'E1-C3', 'E2-C4', 'P0-E0', 'E1-E0', 'P1-E2']\n",
      "Econnect {0: [0, 2], 1: [1, 3], 2: [4]}\n",
      "Pconnect {0: [0, 1], 1: [2]}\n",
      "Ptype ['Pa', 'Pa', 'Pa']\n",
      "Cconnect {0: 0, 2: 0, 1: 1, 3: 1, 4: 2}\n",
      "GroupDict [1, 0, 1, 1, 0]\n",
      "BusConnectDict [(0, [0, 1]), (1, [2])]\n",
      "Name ['E0-C0', 'E0-C2', 'E1-C1', 'E1-C3', 'E2-C4', 'P0-E0', 'P0-E1', 'P1-E2']\n",
      "dist_Connect {'E0-C0': 0.3, 'E0-C2': 0.2, 'E1-C1': 0.3, 'E1-C3': 0.2, 'E2-C4': 0.6, 'P0-E0': 0.4, 'P0-E1': 0.6000000000000001, 'P1-E2': 0.2}\n",
      "BusDist {'E0-C0': 0.3, 'E0-C2': 0.2, 'E1-C1': 0.3, 'E1-C3': 0.2, 'E2-C4': 0.6, 'P0-E0': 0.4, 'P0-E1': 0.2, 'P1-E2': 0.2}\n",
      "BusConnectDict [(0, [0, 1]), (1, [2])]\n"
     ]
    }
   ],
   "source": [
    "Econnect = indiv['Econnect']\n",
    "Ptype    = indiv['Ptype']\n",
    "Pconnect = indiv['Pconnect']\n",
    "GroupDict = algo.GroupDict\n",
    "Ptype = indiv['Ptype']\n",
    "Cconnect =  { v: k for k, l in indiv['Econnect'].items() for v in l }\n",
    "\n",
    "print(\"BusName\",indiv['BusName'])\n",
    "print(\"Econnect\" , Econnect)\n",
    "print(\"Pconnect\" , Pconnect)\n",
    "print(\"Ptype\" , list(Ptype))\n",
    "print(\"Cconnect\"  , Cconnect)\n",
    "print(\"GroupDict\" , GroupDict)\n",
    "print(\"BusConnectDict\" , indiv['BusConnectDict'])\n",
    "Name = indiv['Name']\n",
    "print(\"Name\",Name)\n",
    "distList = [algo.dist[line] for line in Name] \n",
    "# distList\n",
    "dist_Connect = dict(zip(Name,distList)) \n",
    "print(\"dist_Connect\", indiv['dist_Connect'])\n",
    "print(\"BusDist\", indiv['BusDist'])\n",
    "print(\"BusConnectDict\",indiv['BusConnectDict'])\n",
    "Pline = copy.deepcopy(Pconnect)"
   ]
  },
  {
   "cell_type": "raw",
   "id": "b9c2bcc6",
   "metadata": {
    "hidden": true
   },
   "source": [
    "pd.set_option('display.max_colwidth', 100)"
   ]
  },
  {
   "cell_type": "raw",
   "id": "9b1064f0",
   "metadata": {
    "hidden": true
   },
   "source": [
    "pd.Series(indiv)"
   ]
  },
  {
   "cell_type": "code",
   "execution_count": 36,
   "id": "2c28f1ab",
   "metadata": {
    "hidden": true
   },
   "outputs": [
    {
     "data": {
      "text/plain": [
       "[(0, [0, 1]), (1, [2])]"
      ]
     },
     "execution_count": 36,
     "metadata": {},
     "output_type": "execute_result"
    }
   ],
   "source": [
    "Pline = copy.deepcopy(indiv['BusConnectDict'])\n",
    "Pline"
   ]
  },
  {
   "cell_type": "code",
   "execution_count": 78,
   "id": "aee491ba",
   "metadata": {
    "hidden": true
   },
   "outputs": [
    {
     "data": {
      "text/plain": [
       "[(0, [0]), (0, [1]), (1, [2])]"
      ]
     },
     "execution_count": 78,
     "metadata": {},
     "output_type": "execute_result"
    }
   ],
   "source": [
    "Pline = []\n",
    "for p, elist in Pconnect.items():\n",
    "    for e in elist:\n",
    "        line =  (p, [e])\n",
    "        Pline.append(line)\n",
    "Pline"
   ]
  },
  {
   "cell_type": "code",
   "execution_count": 65,
   "id": "d52b9580",
   "metadata": {
    "hidden": true
   },
   "outputs": [
    {
     "data": {
      "text/plain": [
       "[(0, [0]), (0, [1]), (1, [2])]"
      ]
     },
     "execution_count": 65,
     "metadata": {},
     "output_type": "execute_result"
    }
   ],
   "source": [
    "indiv['BusConnectDict']"
   ]
  },
  {
   "cell_type": "code",
   "execution_count": 69,
   "id": "ef559b43",
   "metadata": {
    "hidden": true
   },
   "outputs": [
    {
     "name": "stdout",
     "output_type": "stream",
     "text": [
      "0 [0] {1: [0, 2]} [1]\n",
      "0 [1] {0: [1], 1: [3]} [0, 1]\n",
      "1 [2] {0: [4]} [0]\n"
     ]
    },
    {
     "data": {
      "text/html": [
       "<div>\n",
       "<style scoped>\n",
       "    .dataframe tbody tr th:only-of-type {\n",
       "        vertical-align: middle;\n",
       "    }\n",
       "\n",
       "    .dataframe tbody tr th {\n",
       "        vertical-align: top;\n",
       "    }\n",
       "\n",
       "    .dataframe thead th {\n",
       "        text-align: right;\n",
       "    }\n",
       "</style>\n",
       "<table border=\"1\" class=\"dataframe\">\n",
       "  <thead>\n",
       "    <tr style=\"text-align: right;\">\n",
       "      <th></th>\n",
       "      <th>p</th>\n",
       "      <th>e</th>\n",
       "      <th>gr</th>\n",
       "      <th>pt</th>\n",
       "      <th>Gconnect</th>\n",
       "    </tr>\n",
       "  </thead>\n",
       "  <tbody>\n",
       "    <tr>\n",
       "      <th>0</th>\n",
       "      <td>0</td>\n",
       "      <td>[0]</td>\n",
       "      <td>{1: [0, 2]}</td>\n",
       "      <td>Pa</td>\n",
       "      <td>{1: {0: [0, 2]}}</td>\n",
       "    </tr>\n",
       "    <tr>\n",
       "      <th>1</th>\n",
       "      <td>0</td>\n",
       "      <td>[1]</td>\n",
       "      <td>{0: [1], 1: [3]}</td>\n",
       "      <td>Pa</td>\n",
       "      <td>{0: {1: [1]}, 1: {1: [3]}}</td>\n",
       "    </tr>\n",
       "    <tr>\n",
       "      <th>2</th>\n",
       "      <td>1</td>\n",
       "      <td>[2]</td>\n",
       "      <td>{0: [4]}</td>\n",
       "      <td>Pa</td>\n",
       "      <td>{0: {2: [4]}}</td>\n",
       "    </tr>\n",
       "  </tbody>\n",
       "</table>\n",
       "</div>"
      ],
      "text/plain": [
       "   p    e                gr  pt                    Gconnect\n",
       "0  0  [0]       {1: [0, 2]}  Pa            {1: {0: [0, 2]}}\n",
       "1  0  [1]  {0: [1], 1: [3]}  Pa  {0: {1: [1]}, 1: {1: [3]}}\n",
       "2  1  [2]          {0: [4]}  Pa               {0: {2: [4]}}"
      ]
     },
     "execution_count": 69,
     "metadata": {},
     "output_type": "execute_result"
    }
   ],
   "source": [
    "def indiv_lines_conf(algo, indiv):\n",
    "    GroupDict = algo.GroupDict\n",
    "    Econnect = indiv['Econnect']\n",
    "    Ptype    = indiv['Ptype']\n",
    "    Pconnect = indiv['Pconnect']\n",
    "    GroupDict = algo.GroupDict\n",
    "    Ptype = indiv['Ptype']\n",
    "    Cconnect =  { v: k for k, l in indiv['Econnect'].items() for v in l } # a bouger de place \n",
    "\n",
    "    Pline = indiv['BusConnectDict']\n",
    "    IndivLine = []\n",
    "    Gconnect = {}\n",
    "    # loop sur BusConnectDict generer via func bus_connection qui doit prendre en compte le remove des PtoE \n",
    "    # list les mutiple connection au meme slot de pompe = remove ou autre solution \n",
    "    \n",
    "    for i, (p, Elist) in enumerate(Pline):\n",
    "        pt = Ptype[i]    \n",
    "        gr = collections.defaultdict(list)\n",
    "        Gconnect = {}\n",
    "\n",
    "        # gr dict pour une line\n",
    "        for e in Elist: \n",
    "            # on fait 1 le dict des group par {gr : c}  \n",
    "            Clist = indiv['Econnect'][e]\n",
    "            for c in Clist:\n",
    "                gr[GroupDict[c]].append(c) \n",
    "        gr = dict(gr)\n",
    "        print(p, Elist, gr, sorted(gr))\n",
    "\n",
    "        # etape la plus bizarre on utile le nouveau Connect pour organiser les ev dans l'ordre et par groupe pour juste lister ensuite dans calcul debit\n",
    "        for e in Elist:\n",
    "            for n in sorted(gr): # pas sur quie le sorted serve a quelque chose \n",
    "                g = gr[n]\n",
    "                d = collections.defaultdict(list)\n",
    "                for c in g :\n",
    "                    e = Cconnect[c]\n",
    "                    d[e].append(c)\n",
    "                Gconnect[n] = dict(d)       \n",
    "\n",
    "        LineConf = dict(\n",
    "            p = p,        \n",
    "            e = Elist,\n",
    "            gr = gr,\n",
    "            pt = 'Pa',\n",
    "            Gconnect = Gconnect\n",
    "        )\n",
    "        \n",
    "        IndivLine.append(LineConf)\n",
    "    return IndivLine\n",
    "\n",
    "IndivLine = indiv_lines_conf(algo, indiv)\n",
    "pd.DataFrame(IndivLine)\n",
    "# print(json.dumps(d, sort_keys=True, indent=3))"
   ]
  },
  {
   "cell_type": "markdown",
   "id": "e6172a74",
   "metadata": {
    "heading_collapsed": true,
    "hidden": true
   },
   "source": [
    "### s"
   ]
  },
  {
   "cell_type": "code",
   "execution_count": 50,
   "id": "1ce0e751",
   "metadata": {
    "hidden": true
   },
   "outputs": [
    {
     "name": "stdout",
     "output_type": "stream",
     "text": [
      "0 [0, 1] {0: [0, 2, 1, 3]} [0]\n",
      "1 [2] {0: [4]} [0]\n"
     ]
    },
    {
     "data": {
      "text/html": [
       "<div>\n",
       "<style scoped>\n",
       "    .dataframe tbody tr th:only-of-type {\n",
       "        vertical-align: middle;\n",
       "    }\n",
       "\n",
       "    .dataframe tbody tr th {\n",
       "        vertical-align: top;\n",
       "    }\n",
       "\n",
       "    .dataframe thead th {\n",
       "        text-align: right;\n",
       "    }\n",
       "</style>\n",
       "<table border=\"1\" class=\"dataframe\">\n",
       "  <thead>\n",
       "    <tr style=\"text-align: right;\">\n",
       "      <th></th>\n",
       "      <th>p</th>\n",
       "      <th>e</th>\n",
       "      <th>gr</th>\n",
       "      <th>pt</th>\n",
       "      <th>Gconncect</th>\n",
       "    </tr>\n",
       "  </thead>\n",
       "  <tbody>\n",
       "    <tr>\n",
       "      <th>0</th>\n",
       "      <td>0</td>\n",
       "      <td>[0, 1]</td>\n",
       "      <td>{0: [0, 2, 1, 3]}</td>\n",
       "      <td>Pa</td>\n",
       "      <td>{0: {2: [4]}}</td>\n",
       "    </tr>\n",
       "    <tr>\n",
       "      <th>1</th>\n",
       "      <td>1</td>\n",
       "      <td>[2]</td>\n",
       "      <td>{0: [4]}</td>\n",
       "      <td>Pa</td>\n",
       "      <td>{0: {2: [4]}}</td>\n",
       "    </tr>\n",
       "  </tbody>\n",
       "</table>\n",
       "</div>"
      ],
      "text/plain": [
       "   p       e                 gr  pt      Gconncect\n",
       "0  0  [0, 1]  {0: [0, 2, 1, 3]}  Pa  {0: {2: [4]}}\n",
       "1  1     [2]           {0: [4]}  Pa  {0: {2: [4]}}"
      ]
     },
     "execution_count": 50,
     "metadata": {},
     "output_type": "execute_result"
    }
   ],
   "source": [
    "GroupDict = algo.GroupDict\n",
    "Econnect = indiv['Econnect']\n",
    "\n",
    "IndivLine = []\n",
    "Gconnect = {}\n",
    "# loop sur BusConnectDict generer via func bus_connection qui doit prendre en compte le remove des PtoE \n",
    "# list les mutiple connection au meme slot de pompe = remove ou autre solution \n",
    "for p, Elist in Pline.items():\n",
    "    pt = 'Pa' \n",
    "    gr = collections.defaultdict(list)\n",
    "\n",
    "    # on fait 1 le dict des group par {gr : c}  \n",
    "    for e in Elist:\n",
    "        for c in indiv['Econnect'][e]:\n",
    "            gr[GroupDict[c]].append(c) \n",
    "    gr = dict(gr)\n",
    "    print(p, Elist, gr, sorted(gr))\n",
    "\n",
    "    # etape la plus bizarre on utile le nouveau Connect pour organiser les ev dans l'ordre et par groupe pour juste lister ensuite dans calcul debit\n",
    "    for n in sorted(gr): # pas sur quie le sorted serve a quelque chose \n",
    "        g = gr[n]\n",
    "        d = collections.defaultdict(list)\n",
    "        for c in g :\n",
    "            e = Cconnect[c]\n",
    "            d[e].append(c)\n",
    "        Gconnect[n] = dict(d)       \n",
    "\n",
    "    conf = dict(\n",
    "        p = p,\n",
    "        e = Elist,\n",
    "        gr = gr,\n",
    "        pt = 'Pa',\n",
    "        Gconncect = Gconnect\n",
    "    )\n",
    "    IndivLine.append(conf)\n",
    "\n",
    "pd.DataFrame(IndivLine)\n",
    "# print(json.dumps(d, sort_keys=True, indent=3))"
   ]
  },
  {
   "cell_type": "markdown",
   "id": "1ef214f0",
   "metadata": {
    "heading_collapsed": true,
    "hidden": true
   },
   "source": [
    "## debit"
   ]
  },
  {
   "cell_type": "code",
   "execution_count": 132,
   "id": "800e8b53",
   "metadata": {
    "hidden": true
   },
   "outputs": [],
   "source": [
    "a = (0,1,2)\n",
    "a = ['P0','E0','E1']"
   ]
  },
  {
   "cell_type": "raw",
   "id": "83ef9d69",
   "metadata": {
    "hidden": true
   },
   "source": [
    "a = 'MPLA'\n",
    "l = list(itertools.permutations(a, 4))\n",
    "l\n",
    "len(l)"
   ]
  },
  {
   "cell_type": "code",
   "execution_count": 134,
   "id": "c8a63e3a",
   "metadata": {
    "hidden": true
   },
   "outputs": [
    {
     "data": {
      "text/plain": [
       "[('P0', 'E0'), ('E0', 'E1')]"
      ]
     },
     "execution_count": 134,
     "metadata": {},
     "output_type": "execute_result"
    }
   ],
   "source": [
    "list(itertools.pairwise(a))"
   ]
  },
  {
   "cell_type": "code",
   "execution_count": 22,
   "id": "03cd68ee",
   "metadata": {
    "hidden": true
   },
   "outputs": [
    {
     "name": "stdout",
     "output_type": "stream",
     "text": [
      "0 {1: [1]}\n",
      "1 {0: [0, 2], 1: [3]}\n",
      "0 {2: [4]}\n"
     ]
    }
   ],
   "source": [
    "for line in IndivLine:\n",
    "    for n , ClistDict in line['Gconnect'].items():\n",
    "        print(n, ClistDict)"
   ]
  },
  {
   "cell_type": "code",
   "execution_count": 54,
   "id": "41183d9a",
   "metadata": {
    "hidden": true
   },
   "outputs": [
    {
     "data": {
      "text/plain": [
       "dict_keys([2])"
      ]
     },
     "execution_count": 54,
     "metadata": {},
     "output_type": "execute_result"
    }
   ],
   "source": [
    "ClistDict.keys()"
   ]
  },
  {
   "cell_type": "code",
   "execution_count": 92,
   "id": "6b4c9d22",
   "metadata": {
    "hidden": true
   },
   "outputs": [
    {
     "data": {
      "text/plain": [
       "['P0-E2']"
      ]
     },
     "execution_count": 92,
     "metadata": {},
     "output_type": "execute_result"
    }
   ],
   "source": [
    "PtoElist"
   ]
  },
  {
   "cell_type": "code",
   "execution_count": 40,
   "id": "6c089c40",
   "metadata": {
    "collapsed": true,
    "hidden": true
   },
   "outputs": [
    {
     "data": {
      "text/plain": [
       "{'E0-C0': 0.3,\n",
       " 'E0-C2': 0.2,\n",
       " 'E1-C1': 0.3,\n",
       " 'E1-C3': 0.2,\n",
       " 'E2-C4': 0.6,\n",
       " 'P0-E0': 0.4,\n",
       " 'P0-E1': 0.6000000000000001,\n",
       " 'P1-E2': 0.2}"
      ]
     },
     "execution_count": 40,
     "metadata": {},
     "output_type": "execute_result"
    },
    {
     "data": {
      "text/plain": [
       "{'E0-C0': 0.3,\n",
       " 'E0-C2': 0.2,\n",
       " 'E1-C1': 0.3,\n",
       " 'E1-C3': 0.2,\n",
       " 'E2-C4': 0.6,\n",
       " 'P0-E0': 0.4,\n",
       " 'P0-E1': 0.2,\n",
       " 'P1-E2': 0.2}"
      ]
     },
     "execution_count": 40,
     "metadata": {},
     "output_type": "execute_result"
    }
   ],
   "source": [
    "indiv['dist_Connect']\n",
    "indiv['BusDist']"
   ]
  },
  {
   "cell_type": "code",
   "execution_count": 41,
   "id": "fb560f6f",
   "metadata": {
    "collapsed": true,
    "hidden": true
   },
   "outputs": [
    {
     "data": {
      "text/html": [
       "<div>\n",
       "<style scoped>\n",
       "    .dataframe tbody tr th:only-of-type {\n",
       "        vertical-align: middle;\n",
       "    }\n",
       "\n",
       "    .dataframe tbody tr th {\n",
       "        vertical-align: top;\n",
       "    }\n",
       "\n",
       "    .dataframe thead th {\n",
       "        text-align: right;\n",
       "    }\n",
       "</style>\n",
       "<table border=\"1\" class=\"dataframe\">\n",
       "  <thead>\n",
       "    <tr style=\"text-align: right;\">\n",
       "      <th></th>\n",
       "      <th>path</th>\n",
       "      <th>dist</th>\n",
       "      <th>duriteType</th>\n",
       "      <th>duriteVal</th>\n",
       "      <th>s</th>\n",
       "      <th>t</th>\n",
       "      <th>Connect</th>\n",
       "    </tr>\n",
       "    <tr>\n",
       "      <th>ID</th>\n",
       "      <th></th>\n",
       "      <th></th>\n",
       "      <th></th>\n",
       "      <th></th>\n",
       "      <th></th>\n",
       "      <th></th>\n",
       "      <th></th>\n",
       "    </tr>\n",
       "  </thead>\n",
       "  <tbody>\n",
       "    <tr>\n",
       "      <th>E0-C0</th>\n",
       "      <td>[[2, 2], [1, 2], [1, 1], [0, 1]]</td>\n",
       "      <td>0.3</td>\n",
       "      <td>4</td>\n",
       "      <td>0.000235</td>\n",
       "      <td>E0</td>\n",
       "      <td>C0</td>\n",
       "      <td>EC</td>\n",
       "    </tr>\n",
       "    <tr>\n",
       "      <th>E0-C1</th>\n",
       "      <td>[[2, 2], [1, 2], [1, 3], [1, 4], [1, 5], [0, 5]]</td>\n",
       "      <td>0.5</td>\n",
       "      <td>4</td>\n",
       "      <td>0.000235</td>\n",
       "      <td>E0</td>\n",
       "      <td>C1</td>\n",
       "      <td>EC</td>\n",
       "    </tr>\n",
       "    <tr>\n",
       "      <th>E0-C2</th>\n",
       "      <td>[[2, 2], [2, 1], [2, 0]]</td>\n",
       "      <td>0.2</td>\n",
       "      <td>4</td>\n",
       "      <td>0.000235</td>\n",
       "      <td>E0</td>\n",
       "      <td>C2</td>\n",
       "      <td>EC</td>\n",
       "    </tr>\n",
       "    <tr>\n",
       "      <th>E0-C3</th>\n",
       "      <td>[[2, 2], [1, 2], [1, 3], [1, 4], [1, 5], [2, 5...</td>\n",
       "      <td>0.6</td>\n",
       "      <td>4</td>\n",
       "      <td>0.000235</td>\n",
       "      <td>E0</td>\n",
       "      <td>C3</td>\n",
       "      <td>EC</td>\n",
       "    </tr>\n",
       "    <tr>\n",
       "      <th>E0-C4</th>\n",
       "      <td>[[2, 2], [3, 2], [4, 2], [5, 2], [6, 2], [7, 2...</td>\n",
       "      <td>0.8</td>\n",
       "      <td>4</td>\n",
       "      <td>0.000235</td>\n",
       "      <td>E0</td>\n",
       "      <td>C4</td>\n",
       "      <td>EC</td>\n",
       "    </tr>\n",
       "    <tr>\n",
       "      <th>P0-E0</th>\n",
       "      <td>[[2, 2], [3, 2], [4, 2], [5, 2], [5, 1]]</td>\n",
       "      <td>0.4</td>\n",
       "      <td>4</td>\n",
       "      <td>0.000235</td>\n",
       "      <td>P0</td>\n",
       "      <td>E0</td>\n",
       "      <td>PE</td>\n",
       "    </tr>\n",
       "    <tr>\n",
       "      <th>P1-E0</th>\n",
       "      <td>[[2, 2], [3, 2], [4, 2], [4, 3], [4, 4], [5, 4...</td>\n",
       "      <td>0.6</td>\n",
       "      <td>4</td>\n",
       "      <td>0.000235</td>\n",
       "      <td>P1</td>\n",
       "      <td>E0</td>\n",
       "      <td>PE</td>\n",
       "    </tr>\n",
       "    <tr>\n",
       "      <th>E1-C0</th>\n",
       "      <td>[[2, 4], [1, 4], [1, 3], [1, 2], [1, 1], [0, 1]]</td>\n",
       "      <td>0.5</td>\n",
       "      <td>4</td>\n",
       "      <td>0.000235</td>\n",
       "      <td>E1</td>\n",
       "      <td>C0</td>\n",
       "      <td>EC</td>\n",
       "    </tr>\n",
       "    <tr>\n",
       "      <th>E1-C1</th>\n",
       "      <td>[[2, 4], [1, 4], [1, 5], [0, 5]]</td>\n",
       "      <td>0.3</td>\n",
       "      <td>4</td>\n",
       "      <td>0.000235</td>\n",
       "      <td>E1</td>\n",
       "      <td>C1</td>\n",
       "      <td>EC</td>\n",
       "    </tr>\n",
       "    <tr>\n",
       "      <th>E1-C2</th>\n",
       "      <td>[[2, 4], [1, 4], [1, 3], [1, 2], [1, 1], [2, 1...</td>\n",
       "      <td>0.6</td>\n",
       "      <td>4</td>\n",
       "      <td>0.000235</td>\n",
       "      <td>E1</td>\n",
       "      <td>C2</td>\n",
       "      <td>EC</td>\n",
       "    </tr>\n",
       "    <tr>\n",
       "      <th>E1-C3</th>\n",
       "      <td>[[2, 4], [2, 5], [2, 6]]</td>\n",
       "      <td>0.2</td>\n",
       "      <td>4</td>\n",
       "      <td>0.000235</td>\n",
       "      <td>E1</td>\n",
       "      <td>C3</td>\n",
       "      <td>EC</td>\n",
       "    </tr>\n",
       "    <tr>\n",
       "      <th>E1-C4</th>\n",
       "      <td>[[2, 4], [3, 4], [4, 4], [5, 4], [6, 4], [7, 4...</td>\n",
       "      <td>0.8</td>\n",
       "      <td>4</td>\n",
       "      <td>0.000235</td>\n",
       "      <td>E1</td>\n",
       "      <td>C4</td>\n",
       "      <td>EC</td>\n",
       "    </tr>\n",
       "    <tr>\n",
       "      <th>P0-E1</th>\n",
       "      <td>[[2, 4], [3, 4], [4, 4], [4, 3], [4, 2], [5, 2...</td>\n",
       "      <td>0.6</td>\n",
       "      <td>4</td>\n",
       "      <td>0.000235</td>\n",
       "      <td>P0</td>\n",
       "      <td>E1</td>\n",
       "      <td>PE</td>\n",
       "    </tr>\n",
       "    <tr>\n",
       "      <th>P1-E1</th>\n",
       "      <td>[[2, 4], [3, 4], [4, 4], [5, 4], [5, 5]]</td>\n",
       "      <td>0.4</td>\n",
       "      <td>4</td>\n",
       "      <td>0.000235</td>\n",
       "      <td>P1</td>\n",
       "      <td>E1</td>\n",
       "      <td>PE</td>\n",
       "    </tr>\n",
       "    <tr>\n",
       "      <th>E2-C0</th>\n",
       "      <td>[[5, 3], [4, 3], [3, 3], [2, 3], [1, 3], [1, 2...</td>\n",
       "      <td>0.7</td>\n",
       "      <td>4</td>\n",
       "      <td>0.000235</td>\n",
       "      <td>E2</td>\n",
       "      <td>C0</td>\n",
       "      <td>EC</td>\n",
       "    </tr>\n",
       "    <tr>\n",
       "      <th>E2-C1</th>\n",
       "      <td>[[5, 3], [4, 3], [3, 3], [2, 3], [1, 3], [1, 4...</td>\n",
       "      <td>0.7</td>\n",
       "      <td>4</td>\n",
       "      <td>0.000235</td>\n",
       "      <td>E2</td>\n",
       "      <td>C1</td>\n",
       "      <td>EC</td>\n",
       "    </tr>\n",
       "    <tr>\n",
       "      <th>E2-C2</th>\n",
       "      <td>[[5, 3], [4, 3], [3, 3], [3, 2], [3, 1], [2, 1...</td>\n",
       "      <td>0.6</td>\n",
       "      <td>4</td>\n",
       "      <td>0.000235</td>\n",
       "      <td>E2</td>\n",
       "      <td>C2</td>\n",
       "      <td>EC</td>\n",
       "    </tr>\n",
       "    <tr>\n",
       "      <th>E2-C3</th>\n",
       "      <td>[[5, 3], [4, 3], [3, 3], [3, 4], [3, 5], [2, 5...</td>\n",
       "      <td>0.6</td>\n",
       "      <td>4</td>\n",
       "      <td>0.000235</td>\n",
       "      <td>E2</td>\n",
       "      <td>C3</td>\n",
       "      <td>EC</td>\n",
       "    </tr>\n",
       "    <tr>\n",
       "      <th>E2-C4</th>\n",
       "      <td>[[5, 3], [6, 3], [6, 2], [7, 2], [8, 2], [8, 3...</td>\n",
       "      <td>0.6</td>\n",
       "      <td>4</td>\n",
       "      <td>0.000235</td>\n",
       "      <td>E2</td>\n",
       "      <td>C4</td>\n",
       "      <td>EC</td>\n",
       "    </tr>\n",
       "    <tr>\n",
       "      <th>P0-E2</th>\n",
       "      <td>[[5, 3], [5, 2], [5, 1]]</td>\n",
       "      <td>0.2</td>\n",
       "      <td>4</td>\n",
       "      <td>0.000235</td>\n",
       "      <td>P0</td>\n",
       "      <td>E2</td>\n",
       "      <td>PE</td>\n",
       "    </tr>\n",
       "    <tr>\n",
       "      <th>P1-E2</th>\n",
       "      <td>[[5, 3], [5, 4], [5, 5]]</td>\n",
       "      <td>0.2</td>\n",
       "      <td>4</td>\n",
       "      <td>0.000235</td>\n",
       "      <td>P1</td>\n",
       "      <td>E2</td>\n",
       "      <td>PE</td>\n",
       "    </tr>\n",
       "    <tr>\n",
       "      <th>E3-C0</th>\n",
       "      <td>[[7, 3], [6, 3], [6, 2], [5, 2], [4, 2], [3, 2...</td>\n",
       "      <td>0.9</td>\n",
       "      <td>4</td>\n",
       "      <td>0.000235</td>\n",
       "      <td>E3</td>\n",
       "      <td>C0</td>\n",
       "      <td>EC</td>\n",
       "    </tr>\n",
       "    <tr>\n",
       "      <th>E3-C1</th>\n",
       "      <td>[[7, 3], [6, 3], [6, 4], [5, 4], [4, 4], [3, 4...</td>\n",
       "      <td>0.9</td>\n",
       "      <td>4</td>\n",
       "      <td>0.000235</td>\n",
       "      <td>E3</td>\n",
       "      <td>C1</td>\n",
       "      <td>EC</td>\n",
       "    </tr>\n",
       "    <tr>\n",
       "      <th>E3-C2</th>\n",
       "      <td>[[7, 3], [6, 3], [6, 2], [5, 2], [4, 2], [3, 2...</td>\n",
       "      <td>0.8</td>\n",
       "      <td>4</td>\n",
       "      <td>0.000235</td>\n",
       "      <td>E3</td>\n",
       "      <td>C2</td>\n",
       "      <td>EC</td>\n",
       "    </tr>\n",
       "    <tr>\n",
       "      <th>E3-C3</th>\n",
       "      <td>[[7, 3], [6, 3], [6, 4], [5, 4], [4, 4], [3, 4...</td>\n",
       "      <td>0.8</td>\n",
       "      <td>4</td>\n",
       "      <td>0.000235</td>\n",
       "      <td>E3</td>\n",
       "      <td>C3</td>\n",
       "      <td>EC</td>\n",
       "    </tr>\n",
       "    <tr>\n",
       "      <th>E3-C4</th>\n",
       "      <td>[[7, 3], [8, 3], [9, 3]]</td>\n",
       "      <td>0.2</td>\n",
       "      <td>4</td>\n",
       "      <td>0.000235</td>\n",
       "      <td>E3</td>\n",
       "      <td>C4</td>\n",
       "      <td>EC</td>\n",
       "    </tr>\n",
       "    <tr>\n",
       "      <th>P0-E3</th>\n",
       "      <td>[[7, 3], [6, 3], [6, 2], [5, 2], [5, 1]]</td>\n",
       "      <td>0.4</td>\n",
       "      <td>4</td>\n",
       "      <td>0.000235</td>\n",
       "      <td>P0</td>\n",
       "      <td>E3</td>\n",
       "      <td>PE</td>\n",
       "    </tr>\n",
       "    <tr>\n",
       "      <th>P1-E3</th>\n",
       "      <td>[[7, 3], [6, 3], [6, 4], [5, 4], [5, 5]]</td>\n",
       "      <td>0.4</td>\n",
       "      <td>4</td>\n",
       "      <td>0.000235</td>\n",
       "      <td>P1</td>\n",
       "      <td>E3</td>\n",
       "      <td>PE</td>\n",
       "    </tr>\n",
       "    <tr>\n",
       "      <th>E1-E0</th>\n",
       "      <td>[[2, 2], [2, 3], [2, 4]]</td>\n",
       "      <td>0.2</td>\n",
       "      <td>4</td>\n",
       "      <td>0.000235</td>\n",
       "      <td>E1</td>\n",
       "      <td>E0</td>\n",
       "      <td>EE</td>\n",
       "    </tr>\n",
       "    <tr>\n",
       "      <th>E2-E0</th>\n",
       "      <td>[[2, 2], [3, 2], [4, 2], [5, 2], [5, 3]]</td>\n",
       "      <td>0.4</td>\n",
       "      <td>4</td>\n",
       "      <td>0.000235</td>\n",
       "      <td>E2</td>\n",
       "      <td>E0</td>\n",
       "      <td>EE</td>\n",
       "    </tr>\n",
       "    <tr>\n",
       "      <th>E3-E0</th>\n",
       "      <td>[[2, 2], [3, 2], [4, 2], [5, 2], [6, 2], [7, 2...</td>\n",
       "      <td>0.6</td>\n",
       "      <td>4</td>\n",
       "      <td>0.000235</td>\n",
       "      <td>E3</td>\n",
       "      <td>E0</td>\n",
       "      <td>EE</td>\n",
       "    </tr>\n",
       "    <tr>\n",
       "      <th>E0-E1</th>\n",
       "      <td>[[2, 4], [2, 3], [2, 2]]</td>\n",
       "      <td>0.2</td>\n",
       "      <td>4</td>\n",
       "      <td>0.000235</td>\n",
       "      <td>E0</td>\n",
       "      <td>E1</td>\n",
       "      <td>EE</td>\n",
       "    </tr>\n",
       "    <tr>\n",
       "      <th>E2-E1</th>\n",
       "      <td>[[2, 4], [3, 4], [4, 4], [5, 4], [5, 3]]</td>\n",
       "      <td>0.4</td>\n",
       "      <td>4</td>\n",
       "      <td>0.000235</td>\n",
       "      <td>E2</td>\n",
       "      <td>E1</td>\n",
       "      <td>EE</td>\n",
       "    </tr>\n",
       "    <tr>\n",
       "      <th>E3-E1</th>\n",
       "      <td>[[2, 4], [3, 4], [4, 4], [5, 4], [6, 4], [7, 4...</td>\n",
       "      <td>0.6</td>\n",
       "      <td>4</td>\n",
       "      <td>0.000235</td>\n",
       "      <td>E3</td>\n",
       "      <td>E1</td>\n",
       "      <td>EE</td>\n",
       "    </tr>\n",
       "    <tr>\n",
       "      <th>E0-E2</th>\n",
       "      <td>[[5, 3], [4, 3], [3, 3], [2, 3], [2, 2]]</td>\n",
       "      <td>0.4</td>\n",
       "      <td>4</td>\n",
       "      <td>0.000235</td>\n",
       "      <td>E0</td>\n",
       "      <td>E2</td>\n",
       "      <td>EE</td>\n",
       "    </tr>\n",
       "    <tr>\n",
       "      <th>E1-E2</th>\n",
       "      <td>[[5, 3], [4, 3], [3, 3], [2, 3], [2, 4]]</td>\n",
       "      <td>0.4</td>\n",
       "      <td>4</td>\n",
       "      <td>0.000235</td>\n",
       "      <td>E1</td>\n",
       "      <td>E2</td>\n",
       "      <td>EE</td>\n",
       "    </tr>\n",
       "    <tr>\n",
       "      <th>E3-E2</th>\n",
       "      <td>[[5, 3], [6, 3], [7, 3]]</td>\n",
       "      <td>0.2</td>\n",
       "      <td>4</td>\n",
       "      <td>0.000235</td>\n",
       "      <td>E3</td>\n",
       "      <td>E2</td>\n",
       "      <td>EE</td>\n",
       "    </tr>\n",
       "    <tr>\n",
       "      <th>E0-E3</th>\n",
       "      <td>[[7, 3], [6, 3], [6, 2], [5, 2], [4, 2], [3, 2...</td>\n",
       "      <td>0.6</td>\n",
       "      <td>4</td>\n",
       "      <td>0.000235</td>\n",
       "      <td>E0</td>\n",
       "      <td>E3</td>\n",
       "      <td>EE</td>\n",
       "    </tr>\n",
       "    <tr>\n",
       "      <th>E1-E3</th>\n",
       "      <td>[[7, 3], [6, 3], [6, 4], [5, 4], [4, 4], [3, 4...</td>\n",
       "      <td>0.6</td>\n",
       "      <td>4</td>\n",
       "      <td>0.000235</td>\n",
       "      <td>E1</td>\n",
       "      <td>E3</td>\n",
       "      <td>EE</td>\n",
       "    </tr>\n",
       "    <tr>\n",
       "      <th>E2-E3</th>\n",
       "      <td>[[7, 3], [6, 3], [5, 3]]</td>\n",
       "      <td>0.2</td>\n",
       "      <td>4</td>\n",
       "      <td>0.000235</td>\n",
       "      <td>E2</td>\n",
       "      <td>E3</td>\n",
       "      <td>EE</td>\n",
       "    </tr>\n",
       "  </tbody>\n",
       "</table>\n",
       "</div>"
      ],
      "text/plain": [
       "                                                    path dist  duriteType  \\\n",
       "ID                                                                          \n",
       "E0-C0                   [[2, 2], [1, 2], [1, 1], [0, 1]]  0.3           4   \n",
       "E0-C1   [[2, 2], [1, 2], [1, 3], [1, 4], [1, 5], [0, 5]]  0.5           4   \n",
       "E0-C2                           [[2, 2], [2, 1], [2, 0]]  0.2           4   \n",
       "E0-C3  [[2, 2], [1, 2], [1, 3], [1, 4], [1, 5], [2, 5...  0.6           4   \n",
       "E0-C4  [[2, 2], [3, 2], [4, 2], [5, 2], [6, 2], [7, 2...  0.8           4   \n",
       "P0-E0           [[2, 2], [3, 2], [4, 2], [5, 2], [5, 1]]  0.4           4   \n",
       "P1-E0  [[2, 2], [3, 2], [4, 2], [4, 3], [4, 4], [5, 4...  0.6           4   \n",
       "E1-C0   [[2, 4], [1, 4], [1, 3], [1, 2], [1, 1], [0, 1]]  0.5           4   \n",
       "E1-C1                   [[2, 4], [1, 4], [1, 5], [0, 5]]  0.3           4   \n",
       "E1-C2  [[2, 4], [1, 4], [1, 3], [1, 2], [1, 1], [2, 1...  0.6           4   \n",
       "E1-C3                           [[2, 4], [2, 5], [2, 6]]  0.2           4   \n",
       "E1-C4  [[2, 4], [3, 4], [4, 4], [5, 4], [6, 4], [7, 4...  0.8           4   \n",
       "P0-E1  [[2, 4], [3, 4], [4, 4], [4, 3], [4, 2], [5, 2...  0.6           4   \n",
       "P1-E1           [[2, 4], [3, 4], [4, 4], [5, 4], [5, 5]]  0.4           4   \n",
       "E2-C0  [[5, 3], [4, 3], [3, 3], [2, 3], [1, 3], [1, 2...  0.7           4   \n",
       "E2-C1  [[5, 3], [4, 3], [3, 3], [2, 3], [1, 3], [1, 4...  0.7           4   \n",
       "E2-C2  [[5, 3], [4, 3], [3, 3], [3, 2], [3, 1], [2, 1...  0.6           4   \n",
       "E2-C3  [[5, 3], [4, 3], [3, 3], [3, 4], [3, 5], [2, 5...  0.6           4   \n",
       "E2-C4  [[5, 3], [6, 3], [6, 2], [7, 2], [8, 2], [8, 3...  0.6           4   \n",
       "P0-E2                           [[5, 3], [5, 2], [5, 1]]  0.2           4   \n",
       "P1-E2                           [[5, 3], [5, 4], [5, 5]]  0.2           4   \n",
       "E3-C0  [[7, 3], [6, 3], [6, 2], [5, 2], [4, 2], [3, 2...  0.9           4   \n",
       "E3-C1  [[7, 3], [6, 3], [6, 4], [5, 4], [4, 4], [3, 4...  0.9           4   \n",
       "E3-C2  [[7, 3], [6, 3], [6, 2], [5, 2], [4, 2], [3, 2...  0.8           4   \n",
       "E3-C3  [[7, 3], [6, 3], [6, 4], [5, 4], [4, 4], [3, 4...  0.8           4   \n",
       "E3-C4                           [[7, 3], [8, 3], [9, 3]]  0.2           4   \n",
       "P0-E3           [[7, 3], [6, 3], [6, 2], [5, 2], [5, 1]]  0.4           4   \n",
       "P1-E3           [[7, 3], [6, 3], [6, 4], [5, 4], [5, 5]]  0.4           4   \n",
       "E1-E0                           [[2, 2], [2, 3], [2, 4]]  0.2           4   \n",
       "E2-E0           [[2, 2], [3, 2], [4, 2], [5, 2], [5, 3]]  0.4           4   \n",
       "E3-E0  [[2, 2], [3, 2], [4, 2], [5, 2], [6, 2], [7, 2...  0.6           4   \n",
       "E0-E1                           [[2, 4], [2, 3], [2, 2]]  0.2           4   \n",
       "E2-E1           [[2, 4], [3, 4], [4, 4], [5, 4], [5, 3]]  0.4           4   \n",
       "E3-E1  [[2, 4], [3, 4], [4, 4], [5, 4], [6, 4], [7, 4...  0.6           4   \n",
       "E0-E2           [[5, 3], [4, 3], [3, 3], [2, 3], [2, 2]]  0.4           4   \n",
       "E1-E2           [[5, 3], [4, 3], [3, 3], [2, 3], [2, 4]]  0.4           4   \n",
       "E3-E2                           [[5, 3], [6, 3], [7, 3]]  0.2           4   \n",
       "E0-E3  [[7, 3], [6, 3], [6, 2], [5, 2], [4, 2], [3, 2...  0.6           4   \n",
       "E1-E3  [[7, 3], [6, 3], [6, 4], [5, 4], [4, 4], [3, 4...  0.6           4   \n",
       "E2-E3                           [[7, 3], [6, 3], [5, 3]]  0.2           4   \n",
       "\n",
       "       duriteVal   s   t Connect  \n",
       "ID                                \n",
       "E0-C0   0.000235  E0  C0      EC  \n",
       "E0-C1   0.000235  E0  C1      EC  \n",
       "E0-C2   0.000235  E0  C2      EC  \n",
       "E0-C3   0.000235  E0  C3      EC  \n",
       "E0-C4   0.000235  E0  C4      EC  \n",
       "P0-E0   0.000235  P0  E0      PE  \n",
       "P1-E0   0.000235  P1  E0      PE  \n",
       "E1-C0   0.000235  E1  C0      EC  \n",
       "E1-C1   0.000235  E1  C1      EC  \n",
       "E1-C2   0.000235  E1  C2      EC  \n",
       "E1-C3   0.000235  E1  C3      EC  \n",
       "E1-C4   0.000235  E1  C4      EC  \n",
       "P0-E1   0.000235  P0  E1      PE  \n",
       "P1-E1   0.000235  P1  E1      PE  \n",
       "E2-C0   0.000235  E2  C0      EC  \n",
       "E2-C1   0.000235  E2  C1      EC  \n",
       "E2-C2   0.000235  E2  C2      EC  \n",
       "E2-C3   0.000235  E2  C3      EC  \n",
       "E2-C4   0.000235  E2  C4      EC  \n",
       "P0-E2   0.000235  P0  E2      PE  \n",
       "P1-E2   0.000235  P1  E2      PE  \n",
       "E3-C0   0.000235  E3  C0      EC  \n",
       "E3-C1   0.000235  E3  C1      EC  \n",
       "E3-C2   0.000235  E3  C2      EC  \n",
       "E3-C3   0.000235  E3  C3      EC  \n",
       "E3-C4   0.000235  E3  C4      EC  \n",
       "P0-E3   0.000235  P0  E3      PE  \n",
       "P1-E3   0.000235  P1  E3      PE  \n",
       "E1-E0   0.000235  E1  E0      EE  \n",
       "E2-E0   0.000235  E2  E0      EE  \n",
       "E3-E0   0.000235  E3  E0      EE  \n",
       "E0-E1   0.000235  E0  E1      EE  \n",
       "E2-E1   0.000235  E2  E1      EE  \n",
       "E3-E1   0.000235  E3  E1      EE  \n",
       "E0-E2   0.000235  E0  E2      EE  \n",
       "E1-E2   0.000235  E1  E2      EE  \n",
       "E3-E2   0.000235  E3  E2      EE  \n",
       "E0-E3   0.000235  E0  E3      EE  \n",
       "E1-E3   0.000235  E1  E3      EE  \n",
       "E2-E3   0.000235  E2  E3      EE  "
      ]
     },
     "execution_count": 41,
     "metadata": {},
     "output_type": "execute_result"
    }
   ],
   "source": [
    "dfline"
   ]
  },
  {
   "cell_type": "code",
   "execution_count": 38,
   "id": "e1f5b811",
   "metadata": {
    "hidden": true,
    "scrolled": false
   },
   "outputs": [
    {
     "data": {
      "text/plain": [
       "(0, {1: [1]})"
      ]
     },
     "execution_count": 38,
     "metadata": {},
     "output_type": "execute_result"
    },
    {
     "data": {
      "text/plain": [
       "(1, {0: [0, 2], 1: [3]})"
      ]
     },
     "execution_count": 38,
     "metadata": {},
     "output_type": "execute_result"
    },
    {
     "data": {
      "text/plain": [
       "(0, {2: [4]})"
      ]
     },
     "execution_count": 38,
     "metadata": {},
     "output_type": "execute_result"
    },
    {
     "data": {
      "text/html": [
       "<div>\n",
       "<style scoped>\n",
       "    .dataframe tbody tr th:only-of-type {\n",
       "        vertical-align: middle;\n",
       "    }\n",
       "\n",
       "    .dataframe tbody tr th {\n",
       "        vertical-align: top;\n",
       "    }\n",
       "\n",
       "    .dataframe thead th {\n",
       "        text-align: right;\n",
       "    }\n",
       "</style>\n",
       "<table border=\"1\" class=\"dataframe\">\n",
       "  <thead>\n",
       "    <tr style=\"text-align: right;\">\n",
       "      <th></th>\n",
       "      <th>g</th>\n",
       "      <th>ClistDict</th>\n",
       "      <th>PtoElist</th>\n",
       "      <th>coef_PtoE</th>\n",
       "      <th>Qi</th>\n",
       "      <th>Pi</th>\n",
       "      <th>Alist</th>\n",
       "    </tr>\n",
       "  </thead>\n",
       "  <tbody>\n",
       "    <tr>\n",
       "      <th>0</th>\n",
       "      <td>0</td>\n",
       "      <td>{1: [1]}</td>\n",
       "      <td>[P0-E1]</td>\n",
       "      <td>[4.7e-05]</td>\n",
       "      <td>[11.238]</td>\n",
       "      <td>[4.673]</td>\n",
       "      <td>[[0.037]]</td>\n",
       "    </tr>\n",
       "    <tr>\n",
       "      <th>1</th>\n",
       "      <td>1</td>\n",
       "      <td>{0: [0, 2], 1: [3]}</td>\n",
       "      <td>[P0-E0, P0-E1]</td>\n",
       "      <td>[9.4e-05, 4.7e-05]</td>\n",
       "      <td>[10.249, 10.253, 10.247]</td>\n",
       "      <td>[3.887, 3.89, 3.885]</td>\n",
       "      <td>[[0.037, 0.037], [0.037]]</td>\n",
       "    </tr>\n",
       "    <tr>\n",
       "      <th>2</th>\n",
       "      <td>0</td>\n",
       "      <td>{2: [4]}</td>\n",
       "      <td>[P1-E2]</td>\n",
       "      <td>[4.7e-05]</td>\n",
       "      <td>[11.227]</td>\n",
       "      <td>[4.664]</td>\n",
       "      <td>[[0.037]]</td>\n",
       "    </tr>\n",
       "  </tbody>\n",
       "</table>\n",
       "</div>"
      ],
      "text/plain": [
       "   g            ClistDict        PtoElist           coef_PtoE  \\\n",
       "0  0             {1: [1]}         [P0-E1]           [4.7e-05]   \n",
       "1  1  {0: [0, 2], 1: [3]}  [P0-E0, P0-E1]  [9.4e-05, 4.7e-05]   \n",
       "2  0             {2: [4]}         [P1-E2]           [4.7e-05]   \n",
       "\n",
       "                         Qi                    Pi                      Alist  \n",
       "0                  [11.238]               [4.673]                  [[0.037]]  \n",
       "1  [10.249, 10.253, 10.247]  [3.887, 3.89, 3.885]  [[0.037, 0.037], [0.037]]  \n",
       "2                  [11.227]               [4.664]                  [[0.037]]  "
      ]
     },
     "execution_count": 38,
     "metadata": {},
     "output_type": "execute_result"
    }
   ],
   "source": [
    "# line = IndivLine[0]\n",
    "# line\n",
    "# bus = line['bus']\n",
    "# loop sur les gr avec les clisdict d'avant\n",
    "res = []\n",
    "for line in IndivLine:\n",
    "    pt = line['pt']\n",
    "    p = line['p']\n",
    "    Q0 = np.arange(0.1,80,0.1)\n",
    "    for g , ClistDict in line['Gconnect'].items():\n",
    "        g , ClistDict\n",
    "        Elist = ClistDict.keys()\n",
    "        # ClistDict = line['Gconnect']\n",
    "        PtoElist  = ['P{}-E{}'.format(p,e) for e in Elist]\n",
    "         # tres important puisque ordre de calucl a respecter \n",
    "        coef_PtoE = [DictLine[line]['duriteVal'] * indiv['BusDist'][line] for line in PtoElist]\n",
    "        coef_PtoE = np.round(coef_PtoE,6)\n",
    "        a,b,c = [algo.DataCategorie['Pompe']['Values'][pt][i] for i in ['a','b','c']]\n",
    "        G = a * Q0**2 + b*Q0 +c\n",
    "        Qx = 0\n",
    "\n",
    "        Qlist, Alist = [] , []\n",
    "        \n",
    "        for i, (e,Clist) in enumerate(ClistDict.items()): # changer en list pour avoir l'ordre !!\n",
    "#             print(i, e,EClist)\n",
    "            # calcul des coef comme avant \n",
    "            coef_C      = np.array([algo.Nvals[i] for i in Clist])\n",
    "            d_EtoC      = np.array([algo.dist['E{}-C{}'.format(e,c)] for c in Clist])\n",
    "            coef_d_EtoC = np.array([algo.duriteVal['E{}-C{}'.format(e,c)] for c in Clist])\n",
    "            coef_E = 7.64e-04  \n",
    "\n",
    "            # new si pas de capteur on a juste le coef de droite = 0 normalement \n",
    "            # le truc c'est quil faudra faire cette loop dans le cas de group ou le premier Ev dn'est pas activer \n",
    "            # donc prendre en compte pour le calcul de coef_PtoE\n",
    "            G = G - coef_PtoE[i]*(Q0-Qx)**2\n",
    "            G[G<0] = 0\n",
    "            A = coef_E + d_EtoC * coef_d_EtoC + coef_C \n",
    "#             print(coef_E ,d_EtoC , coef_d_EtoC ,coef_C,  A)\n",
    "            Alist.append(A.round(3))\n",
    "            # magie on tile la mtrice sur A step correspond au tableau excel etendu sur la droite\n",
    "            Qlist.append(np.sqrt(G / A[:,np.newaxis]))\n",
    "            Qi = np.vstack(Qlist)  # a essayer de passer en append coté numpy \n",
    "            Qx = Qi.sum(0)\n",
    "            \n",
    "        # le offset de -1 pour retrouver la plus proche valeur de Q0 -Qx facile \n",
    "        idx = np.searchsorted(Q0 - Qx, -1)\n",
    "        # idx\n",
    "        Qi = np.vstack(Qlist)[:,idx].round(3)\n",
    "        Pi = (np.concatenate(Alist)* (Qi**2)).round(3)\n",
    "        r = dict(\n",
    "            g = g,\n",
    "            ClistDict = ClistDict,\n",
    "            PtoElist = PtoElist,\n",
    "            coef_PtoE = coef_PtoE,\n",
    "            Qi = Qi, \n",
    "            Pi = Pi,\n",
    "            Alist = Alist,\n",
    "        )\n",
    "        res.append(r)\n",
    "\n",
    "pd.DataFrame(res)\n",
    "    "
   ]
  },
  {
   "cell_type": "code",
   "execution_count": 19,
   "id": "027f9ef1",
   "metadata": {
    "hidden": true
   },
   "outputs": [
    {
     "data": {
      "text/plain": [
       "{'path': array([[2, 2],\n",
       "        [3, 2],\n",
       "        [4, 2],\n",
       "        [5, 2],\n",
       "        [5, 1]]),\n",
       " 'dist': 0.4,\n",
       " 'duriteType': 4}"
      ]
     },
     "execution_count": 19,
     "metadata": {},
     "output_type": "execute_result"
    }
   ],
   "source": [
    "DictLine[\"P0-E0\"]"
   ]
  },
  {
   "cell_type": "raw",
   "id": "67143372",
   "metadata": {
    "hidden": true
   },
   "source": [
    "dfline"
   ]
  },
  {
   "cell_type": "code",
   "execution_count": 127,
   "id": "243099c1",
   "metadata": {
    "hidden": true
   },
   "outputs": [],
   "source": [
    "lineDict= dfline.to_dict()"
   ]
  },
  {
   "cell_type": "code",
   "execution_count": 126,
   "id": "07cacad6",
   "metadata": {
    "collapsed": true,
    "hidden": true
   },
   "outputs": [
    {
     "data": {
      "text/plain": [
       "{'E0-C0': 0.000235,\n",
       " 'E0-C1': 0.000235,\n",
       " 'E0-C2': 0.000235,\n",
       " 'E0-C3': 0.000235,\n",
       " 'E0-C4': 0.000235,\n",
       " 'P0-E0': 0.000235,\n",
       " 'P1-E0': 0.000235,\n",
       " 'E1-C0': 0.000235,\n",
       " 'E1-C1': 0.000235,\n",
       " 'E1-C2': 0.000235,\n",
       " 'E1-C3': 0.000235,\n",
       " 'E1-C4': 0.000235,\n",
       " 'P0-E1': 0.000235,\n",
       " 'P1-E1': 0.000235,\n",
       " 'E2-C0': 0.000235,\n",
       " 'E2-C1': 0.000235,\n",
       " 'E2-C2': 0.000235,\n",
       " 'E2-C3': 0.000235,\n",
       " 'E2-C4': 0.000235,\n",
       " 'P0-E2': 0.000235,\n",
       " 'P1-E2': 0.000235,\n",
       " 'E3-C0': 0.000235,\n",
       " 'E3-C1': 0.000235,\n",
       " 'E3-C2': 0.000235,\n",
       " 'E3-C3': 0.000235,\n",
       " 'E3-C4': 0.000235,\n",
       " 'P0-E3': 0.000235,\n",
       " 'P1-E3': 0.000235,\n",
       " 'E1-E0': 0.000235,\n",
       " 'E2-E0': 0.000235,\n",
       " 'E3-E0': 0.000235,\n",
       " 'E2-E1': 0.000235,\n",
       " 'E3-E1': 0.000235,\n",
       " 'E3-E2': 0.000235}"
      ]
     },
     "execution_count": 126,
     "metadata": {},
     "output_type": "execute_result"
    }
   ],
   "source": [
    "lineDict['duriteVal'][]"
   ]
  },
  {
   "cell_type": "code",
   "execution_count": 123,
   "id": "ee028a4c",
   "metadata": {
    "hidden": true
   },
   "outputs": [
    {
     "data": {
      "text/plain": [
       "{'Unique': [4, 8],\n",
       " 'Values': {4: {'Categorie': 'Tuyau',\n",
       "   'Composants': 'Tuyau 1',\n",
       "   'Type': '4 mm',\n",
       "   'Masse': 46.0,\n",
       "   'Cout': 0.35,\n",
       "   'Actif': 1.0,\n",
       "   'a': 0.000235},\n",
       "  8: {'Categorie': 'Tuyau',\n",
       "   'Composants': 'Tuyau 2',\n",
       "   'Type': '8 mm',\n",
       "   'Masse': 83.0,\n",
       "   'Cout': 0.6,\n",
       "   'Actif': 1.0,\n",
       "   'a': 0.00072}}}"
      ]
     },
     "execution_count": 123,
     "metadata": {},
     "output_type": "execute_result"
    }
   ],
   "source": [
    "algo.DataCategorie['Tuyau']"
   ]
  },
  {
   "cell_type": "markdown",
   "id": "de0442fe",
   "metadata": {
    "heading_collapsed": true
   },
   "source": [
    "# Bus refacto SAVE"
   ]
  },
  {
   "cell_type": "markdown",
   "id": "9e151790",
   "metadata": {
    "heading_collapsed": true,
    "hidden": true
   },
   "source": [
    "## Bus (commentaire) a lire !!!"
   ]
  },
  {
   "cell_type": "code",
   "execution_count": 53,
   "id": "d0ae137d",
   "metadata": {
    "hidden": true
   },
   "outputs": [],
   "source": [
    "algo.Group = True\n",
    "algo.GroupDict = [1,0,1,2,2]\n",
    "algo.GroupDict = [1,0,1,1,0]\n",
    "# algo.GroupDict = [1,0,1,0,0]"
   ]
  },
  {
   "cell_type": "code",
   "execution_count": 70,
   "id": "a4f3e370",
   "metadata": {
    "hidden": true
   },
   "outputs": [
    {
     "name": "stdout",
     "output_type": "stream",
     "text": [
      "Indiv_reverse [0, 1, 2, 3, 4] [0, 1, 0, 1, 2] [0, 0, 0]\n",
      "0 (0, [0, 1, 2])\n",
      "bus P0 0 [0, 1] ['P0-E0', 'P0-E1'] ['P0', 'E0', 'E1'] ['P0-E0', 'E1-E0'] [0.4, 0.2] [0.4 0.6] ['P0-E0', 'P0-E1']\n"
     ]
    },
    {
     "data": {
      "text/plain": [
       "{0: [0, 1]}"
      ]
     },
     "execution_count": 70,
     "metadata": {},
     "output_type": "execute_result"
    },
    {
     "data": {
      "text/plain": [
       "[{'p': 0, 'e': [0, 1]}]"
      ]
     },
     "execution_count": 70,
     "metadata": {},
     "output_type": "execute_result"
    }
   ],
   "source": [
    "algo.BusActif = True\n",
    "algo.Npc = 0\n",
    "# indiv  = Indiv_reverse('E0-C0,E0-C1,E2-C2,P0-E0,P0-E1,P0-E2',algo)\n",
    "indiv  = Indiv_reverse('E0-C0,E1-C1,E1-C3,E2-C4,E0-C2,P0-E0,P0-E1,P0-E2',algo)\n",
    "indiv['Pconnect']\n",
    "indiv['BusConnectDict']"
   ]
  },
  {
   "cell_type": "code",
   "execution_count": 8,
   "id": "da35917c",
   "metadata": {
    "collapsed": true,
    "hidden": true
   },
   "outputs": [
    {
     "data": {
      "text/plain": [
       "{'Clist': [0, 1, 2, 3, 4],\n",
       " 'CtoE': [0, 1, 0, 1, 2],\n",
       " 'Econnect': {0: [0, 2], 1: [1, 3], 2: [4]},\n",
       " 'Elist': [0, 1, 2],\n",
       " 'Ecount': 3,\n",
       " 'EtoP': [0, 0, 0],\n",
       " 'Pconnect': {0: [0, 1, 2]},\n",
       " 'Plist': [0],\n",
       " 'Pcount': 1,\n",
       " 'Ptype0': array(['Pa', 'Pa', 'Pa'], dtype='<U2'),\n",
       " 'List_EtoC': [['E0-C0', 'E0-C2'], ['E1-C1', 'E1-C3'], ['E2-C4']],\n",
       " 'List_PtoE': [['P0-E0', 'P0-E1', 'P0-E2']],\n",
       " 'Name': ['E0-C0',\n",
       "  'E0-C2',\n",
       "  'E1-C1',\n",
       "  'E1-C3',\n",
       "  'E2-C4',\n",
       "  'P0-E0',\n",
       "  'P0-E1',\n",
       "  'P0-E2'],\n",
       " 'ID': 1,\n",
       " 'parent': [],\n",
       " 'Name_txt': 'E0-C0,E0-C2,E1-C1,E1-C3,E2-C4,P0-E0,P0-E1,P0-E2',\n",
       " 'Epoch': 0,\n",
       " 'Option': 'Bus',\n",
       " 'Ptype': ['Pa', 'Pa', 'Pa'],\n",
       " 'dist_Connect': {'E0-C0': 0.3,\n",
       "  'E0-C2': 0.2,\n",
       "  'E1-C1': 0.3,\n",
       "  'E1-C3': 0.2,\n",
       "  'E2-C4': 0.6,\n",
       "  'P0-E0': 0.6000000000000001,\n",
       "  'P0-E1': 0.8,\n",
       "  'P0-E2': 0.2},\n",
       " 'dist': 240,\n",
       " 'BusName': ['E0-C0',\n",
       "  'E0-C2',\n",
       "  'E1-C1',\n",
       "  'E1-C3',\n",
       "  'E2-C4',\n",
       "  'E2-E0',\n",
       "  'E1-E0',\n",
       "  'P0-E2'],\n",
       " 'BusDist': {'E0-C0': 0.3,\n",
       "  'E0-C2': 0.2,\n",
       "  'E1-C1': 0.3,\n",
       "  'E1-C3': 0.2,\n",
       "  'E2-C4': 0.6,\n",
       "  'P0-E0': 0.4,\n",
       "  'P0-E1': 0.2,\n",
       "  'P0-E2': 0.2},\n",
       " 'PtypeCo': {0: ['Pa', 'Pa', 'Pa']},\n",
       " 'PompesCo': {0: ['Pa']},\n",
       " 'PompeCount': {'P0': {'Pa': 1}},\n",
       " 'PompeSum': {'Pa': 1},\n",
       " 'duriteVal': {'E0-C0': 0.000235,\n",
       "  'E0-C2': 0.000235,\n",
       "  'E1-C1': 0.000235,\n",
       "  'E1-C3': 0.000235,\n",
       "  'E2-C4': 0.000235,\n",
       "  'P0-E0': 0.000235,\n",
       "  'P0-E1': 0.000235,\n",
       "  'P0-E2': 0.000235},\n",
       " 'BusConnectDict': [{'p': 0, 'e': [2, 0, 1]}],\n",
       " 'PressionList': [4.14, 4.51, 4.14, 4.51, 4.51],\n",
       " 'DebitList': [10.73, 11.19, 10.73, 11.19, 11.2],\n",
       " 'Esplit': {0: [0, 2], 1: [1, 3], 2: [4]},\n",
       " 'Debit': 55.0,\n",
       " 'EvCount': {'E0': 2, 'E1': 2, 'E2': 1},\n",
       " 'EvSum': 5,\n",
       " 'Masse': 1396,\n",
       " 'Cout': 63,\n",
       " 'DetailsMasse': {'Pompe': 136.0,\n",
       "  'Tuyau': 110.4,\n",
       "  'EV': 550.0,\n",
       "  'Reservoir': 600},\n",
       " 'DetailsCout': {'Pompe': 2.5, 'Tuyau': 0.8, 'EV': 30.0, 'Reservoir': 30},\n",
       " 'fitness': 240,\n",
       " 'Alive': True}"
      ]
     },
     "execution_count": 8,
     "metadata": {},
     "output_type": "execute_result"
    }
   ],
   "source": [
    "indiv"
   ]
  },
  {
   "cell_type": "code",
   "execution_count": 7,
   "id": "ab4bb916",
   "metadata": {
    "hidden": true
   },
   "outputs": [
    {
     "data": {
      "text/plain": [
       "{0: 0, 2: 0, 1: 1, 3: 1, 4: 2}"
      ]
     },
     "execution_count": 7,
     "metadata": {},
     "output_type": "execute_result"
    }
   ],
   "source": [
    "Cconnect =  { v: k for k, l in indiv['Econnect'].items() for v in l }\n",
    "Cconnect"
   ]
  },
  {
   "cell_type": "raw",
   "id": "865d8db9",
   "metadata": {
    "hidden": true
   },
   "source": [
    "ClistDict = {1:[2], 0: [0]}"
   ]
  },
  {
   "cell_type": "code",
   "execution_count": 72,
   "id": "42ec39a9",
   "metadata": {
    "hidden": true
   },
   "outputs": [
    {
     "data": {
      "text/plain": [
       "[{'p': 0, 'e': [0, 1]}]"
      ]
     },
     "execution_count": 72,
     "metadata": {},
     "output_type": "execute_result"
    },
    {
     "name": "stdout",
     "output_type": "stream",
     "text": [
      "{'p': 0, 'e': [0, 1]} {1: [0, 2, 3], 0: [1]} [0, 1]\n"
     ]
    },
    {
     "data": {
      "text/plain": [
       "{0: {1: [1]}, 1: {0: [0, 2], 1: [3]}}"
      ]
     },
     "execution_count": 72,
     "metadata": {},
     "output_type": "execute_result"
    },
    {
     "data": {
      "text/plain": [
       "{'ty': '',\n",
       " 'p': 0,\n",
       " 'e': [0, 1],\n",
       " 'gr': {1: [0, 2, 3], 0: [1]},\n",
       " 'pt': 'Pa',\n",
       " 'bus': {0: {1: [1]}, 1: {0: [0, 2], 1: [3]}}}"
      ]
     },
     "execution_count": 72,
     "metadata": {},
     "output_type": "execute_result"
    }
   ],
   "source": [
    "# !!!  A REFAIRE\n",
    "GroupDict = algo.GroupDict\n",
    "# GroupDict\n",
    "Econnect = indiv['Econnect']\n",
    "Ptype = indiv['Ptype']\n",
    "IndivLine = []\n",
    "DictX = {}\n",
    "indiv['BusConnectDict']\n",
    "# loop sur BusConnectDict generer via func bus_connection qui doit prendre en compte le remove des PtoE \n",
    "# list les mutiple connection au meme slot de pompe = remove ou autre solution \n",
    "for d in indiv['BusConnectDict']:\n",
    "#     GrList = []\n",
    "    p, Elist = d.values()\n",
    "    pt = 'Pa'   # !!! probleme retrouver pt qui est indexé differement noramleemnt Ptype[i]\n",
    "    gr = collections.defaultdict(list)\n",
    "    # on fait 1 le dict des group par {gr : c}  \n",
    "    for e in Elist:\n",
    "        for c in indiv['Econnect'][e]:\n",
    "            gr[GroupDict[c]].append(c) \n",
    "    gr = dict(gr)\n",
    "    print(d, gr, sorted(gr))\n",
    "    # etape la plus bizarre on utile le nouveau Connect pour organiser les ev dans l'ordre et par groupe pour juste lister ensuite dans calcul debit\n",
    "    for n in sorted(gr): # pas sur quie le sorted serve a quelque chose \n",
    "        g = gr[n]\n",
    "        d = collections.defaultdict(list)\n",
    "        for c in g :\n",
    "            e = Cconnect[c]\n",
    "            d[e].append(c)\n",
    "        DictX[n] = dict(d)       \n",
    "        \n",
    "    conf = dict(\n",
    "        ty = '',\n",
    "        p = p,\n",
    "        e = Elist,\n",
    "        gr = gr,\n",
    "        pt = 'Pa',\n",
    "        bus = DictX\n",
    "    )\n",
    "    IndivLine.append(conf)\n",
    "IndivLine[0]['bus']\n",
    "d = IndivLine[0]['bus']\n",
    "conf\n",
    "# print(json.dumps(d, sort_keys=True, indent=3))"
   ]
  },
  {
   "cell_type": "markdown",
   "id": "3da35b6e",
   "metadata": {
    "hidden": true
   },
   "source": [
    "### plot"
   ]
  },
  {
   "cell_type": "code",
   "execution_count": 68,
   "id": "b0065686",
   "metadata": {
    "hidden": true
   },
   "outputs": [
    {
     "name": "stdout",
     "output_type": "stream",
     "text": [
      "(10, 7)\n"
     ]
    },
    {
     "data": {
      "image/png": "[encoded data removed]",
      "text/plain": [
       "<Figure size 500x500 with 1 Axes>"
      ]
     },
     "metadata": {},
     "output_type": "display_data"
    }
   ],
   "source": [
    "# Plot\n",
    "row = pd.Series(indiv)\n",
    "ElemsList = ['Clist','Elist','Plist']\n",
    "Elems = ['C','E','P']\n",
    "SelectSlot = []\n",
    "List_EtoC = row.List_EtoC\n",
    "List_PtoE = row.List_PtoE\n",
    "for n in range(3):\n",
    "    SelectSlot+= ['{}{}'.format(Elems[n],i) for i in row[ElemsList[n]]]\n",
    "SelectLine = row.Name\n",
    "if row.Option == 'Bus' :   SelectLine = row.BusName                \n",
    "fig = new_plot(algo, SelectLine, SelectSlot)\n",
    "fig.set_size_inches(5,5)"
   ]
  },
  {
   "cell_type": "markdown",
   "id": "0338c4d3",
   "metadata": {
    "heading_collapsed": true,
    "hidden": true
   },
   "source": [
    "## Non bus"
   ]
  },
  {
   "cell_type": "raw",
   "id": "252b0cbb",
   "metadata": {
    "hidden": true
   },
   "source": [
    "file = {'SheetMapName' : 'map', 'uploaded_file' : \"data.xlsx\", 'DistFactor' : 0.1}\n",
    "# file = {'SheetMapName' : 'map', 'uploaded_file' : None, 'DistFactor' : 0.1}\n",
    "# file = {'SheetMapName' : 'map bis', 'uploaded_file' : None, 'DistFactor' : 0.1}\n",
    "algo = load_data_brut(file)"
   ]
  },
  {
   "cell_type": "code",
   "execution_count": 37,
   "id": "086da5c5",
   "metadata": {
    "hidden": true
   },
   "outputs": [],
   "source": [
    "algo.Group = True\n",
    "algo.GroupDict = [1,0,1,2,2]\n",
    "algo.GroupDict = [1,0,1,0,0]"
   ]
  },
  {
   "cell_type": "code",
   "execution_count": 38,
   "id": "9903abe4",
   "metadata": {
    "hidden": true
   },
   "outputs": [
    {
     "name": "stdout",
     "output_type": "stream",
     "text": [
      "Indiv_reverse [0, 1, 2, 3, 4] [0, 1, 0, 1, 2] [0, 0, 0]\n"
     ]
    },
    {
     "data": {
      "text/plain": [
       "{0: [0, 1, 2]}"
      ]
     },
     "execution_count": 38,
     "metadata": {},
     "output_type": "execute_result"
    }
   ],
   "source": [
    "algo.BusActif = False\n",
    "algo.Npc = 0\n",
    "# indiv  = Indiv_reverse('E0-C0,E0-C1,E2-C2,P0-E0,P0-E1,P0-E2',algo)\n",
    "indiv  = Indiv_reverse('E0-C0,E1-C1,E1-C3,E2-C4,E0-C2,P0-E0,P0-E1,P0-E2',algo)\n",
    "indiv['Pconnect']"
   ]
  },
  {
   "cell_type": "raw",
   "id": "d4b94291",
   "metadata": {
    "hidden": true
   },
   "source": [
    "algo.Group = True\n",
    "algo.GroupDict = [1,1,0]"
   ]
  },
  {
   "cell_type": "raw",
   "id": "df38b12d",
   "metadata": {
    "hidden": true
   },
   "source": [
    "algo.BusActif = False\n",
    "algo.Npc = 0\n",
    "\n",
    "indiv  = Indiv_reverse('E0-C0,E0-C1,E0-C2,P0-E0',algo)\n",
    "indiv  = Indiv_reverse('E0-C0,E0-C1,E0-C2,P0-E0',algo)\n",
    "indiv['dist_Connect']\n",
    "indiv['BusDist']\n",
    "indiv['Pconnect']\n",
    "indiv['Econnect']\n",
    "# Calcul_Debit(algo ,indiv, 'Deactivate')"
   ]
  },
  {
   "cell_type": "code",
   "execution_count": 39,
   "id": "d34261bd",
   "metadata": {
    "hidden": true
   },
   "outputs": [],
   "source": [
    "def Indiv_Conf(algo, indiv): \n",
    "    GroupDict = algo.GroupDict\n",
    "    # GroupDict\n",
    "    Econnect = indiv['Econnect']\n",
    "    Ptype = indiv['Ptype']\n",
    "    IndivLine = []\n",
    "    for i, (p,Elist) in enumerate(indiv['Pconnect'].items()):\n",
    "        pt = Ptype[i]\n",
    "        for e in Elist:\n",
    "            gr = collections.defaultdict(list)\n",
    "            for c in indiv['Econnect'][e]:\n",
    "                gr[GroupDict[c]].append(c)       \n",
    "\n",
    "            conf = dict(\n",
    "                ty = '',\n",
    "                p = p,\n",
    "                e = e,\n",
    "                gr = gr,\n",
    "                pt = pt,\n",
    "            )\n",
    "            IndivLine.append(conf)\n",
    "    return IndivLine"
   ]
  },
  {
   "cell_type": "code",
   "execution_count": 40,
   "id": "a321df6b",
   "metadata": {
    "hidden": true
   },
   "outputs": [
    {
     "name": "stdout",
     "output_type": "stream",
     "text": [
      "{'ty': '', 'p': 0, 'e': 0, 'gr': defaultdict(<class 'list'>, {1: [0, 2]}), 'pt': 'Pa'}\n",
      "{'ty': '', 'p': 0, 'e': 1, 'gr': defaultdict(<class 'list'>, {0: [1, 3]}), 'pt': 'Pa'}\n",
      "{'ty': '', 'p': 0, 'e': 2, 'gr': defaultdict(<class 'list'>, {0: [4]}), 'pt': 'Pa'}\n"
     ]
    },
    {
     "data": {
      "text/plain": [
       "[{'ty': '', 'p': 0, 'e': 0, 'gr': defaultdict(list, {1: [0, 2]}), 'pt': 'Pa'},\n",
       " {'ty': '', 'p': 0, 'e': 1, 'gr': defaultdict(list, {0: [1, 3]}), 'pt': 'Pa'},\n",
       " {'ty': '', 'p': 0, 'e': 2, 'gr': defaultdict(list, {0: [4]}), 'pt': 'Pa'}]"
      ]
     },
     "execution_count": 40,
     "metadata": {},
     "output_type": "execute_result"
    },
    {
     "data": {
      "text/plain": [
       "[0, 2]"
      ]
     },
     "execution_count": 40,
     "metadata": {},
     "output_type": "execute_result"
    },
    {
     "data": {
      "text/plain": [
       "{'Qt': 21.5,\n",
       " 'Pt': 4.26,\n",
       " 'Qi': array([10.75, 10.75]),\n",
       " 'Pi': array([4.16, 4.16])}"
      ]
     },
     "execution_count": 40,
     "metadata": {},
     "output_type": "execute_result"
    },
    {
     "data": {
      "text/plain": [
       "[1, 3]"
      ]
     },
     "execution_count": 40,
     "metadata": {},
     "output_type": "execute_result"
    },
    {
     "data": {
      "text/plain": [
       "{'Qt': array([11.19, 11.2 ]),\n",
       " 'Pt': array([4.62, 4.62]),\n",
       " 'Qi': array([11.19, 11.2 ]),\n",
       " 'Pi': array([4.51, 4.51])}"
      ]
     },
     "execution_count": 40,
     "metadata": {},
     "output_type": "execute_result"
    },
    {
     "data": {
      "text/plain": [
       "[4]"
      ]
     },
     "execution_count": 40,
     "metadata": {},
     "output_type": "execute_result"
    },
    {
     "data": {
      "text/plain": [
       "{'Qt': array([11.2]),\n",
       " 'Pt': array([4.63]),\n",
       " 'Qi': array([11.2]),\n",
       " 'Pi': array([4.51])}"
      ]
     },
     "execution_count": 40,
     "metadata": {},
     "output_type": "execute_result"
    }
   ],
   "source": [
    "GroupDict = algo.GroupDict\n",
    "# GroupDict\n",
    "Econnect = indiv['Econnect']\n",
    "Ptype = indiv['Ptype']\n",
    "IndivLine = []\n",
    "for i, (p,Elist) in enumerate(indiv['Pconnect'].items()):\n",
    "    pt = Ptype[i]\n",
    "    for e in Elist:\n",
    "        gr = collections.defaultdict(list)\n",
    "        for c in indiv['Econnect'][e]:\n",
    "            gr[GroupDict[c]].append(c)       \n",
    "        \n",
    "        conf = dict(\n",
    "            ty = '',\n",
    "            p = p,\n",
    "            e = e,\n",
    "            gr = gr,\n",
    "            pt = pt,\n",
    "        )\n",
    "        print(conf)\n",
    "        IndivLine.append(conf)\n",
    "IndivLine\n",
    "for conf in IndivLine: \n",
    "    ty, p, e, gr, pt = conf.values()\n",
    "    for g,ClistG in gr.items():\n",
    "        ClistG\n",
    "        if g == 0 : grouped = False\n",
    "        else : grouped = True\n",
    "        debitinput = dict(\n",
    "            p = p,\n",
    "            e = e,\n",
    "            ClistG = ClistG,\n",
    "            pt = pt,             \n",
    "        )    \n",
    "        debit(algo,indiv,debitinput, grouped = grouped, split = False)    "
   ]
  },
  {
   "cell_type": "code",
   "execution_count": 41,
   "id": "63ae249f",
   "metadata": {
    "hidden": true
   },
   "outputs": [
    {
     "name": "stdout",
     "output_type": "stream",
     "text": [
      "(10, 7)\n"
     ]
    },
    {
     "data": {
      "image/png": "[encoded data removed]",
      "text/plain": [
       "<Figure size 500x500 with 1 Axes>"
      ]
     },
     "metadata": {},
     "output_type": "display_data"
    }
   ],
   "source": [
    "# Plot\n",
    "row = pd.Series(indiv)\n",
    "ElemsList = ['Clist','Elist','Plist']\n",
    "Elems = ['C','E','P']\n",
    "SelectSlot = []\n",
    "List_EtoC = row.List_EtoC\n",
    "List_PtoE = row.List_PtoE\n",
    "for n in range(3):\n",
    "    SelectSlot+= ['{}{}'.format(Elems[n],i) for i in row[ElemsList[n]]]\n",
    "SelectLine = row.Name\n",
    "if row.Option == 'Bus' :   SelectLine = row.BusName                \n",
    "fig = new_plot(algo, SelectLine, SelectSlot)\n",
    "fig.set_size_inches(5,5)"
   ]
  },
  {
   "cell_type": "code",
   "execution_count": 131,
   "id": "bbe07dd5",
   "metadata": {
    "hidden": true
   },
   "outputs": [
    {
     "data": {
      "text/plain": [
       "['E0-C0', 'E0-C1', 'E1-C2', 'P0-E0', 'P1-E1']"
      ]
     },
     "execution_count": 131,
     "metadata": {},
     "output_type": "execute_result"
    },
    {
     "data": {
      "text/plain": [
       "{'E0-C0': 0.5, 'E0-C1': 0.4, 'E1-C2': 0.4, 'P0-E0': 0.3, 'P1-E1': 0.3}"
      ]
     },
     "execution_count": 131,
     "metadata": {},
     "output_type": "execute_result"
    },
    {
     "data": {
      "text/plain": [
       "{'E0-C0': 0.5, 'E0-C1': 0.4, 'E1-C2': 0.4, 'P0-E0': 0.3, 'P1-E1': 0.3}"
      ]
     },
     "execution_count": 131,
     "metadata": {},
     "output_type": "execute_result"
    }
   ],
   "source": [
    "indiv['BusName'] \n",
    "indiv['BusDist']\n",
    "indiv['dist_Connect']"
   ]
  },
  {
   "cell_type": "code",
   "execution_count": 39,
   "id": "c997bc60",
   "metadata": {
    "collapsed": true,
    "hidden": true
   },
   "outputs": [
    {
     "data": {
      "text/plain": [
       "{'Clist': [0, 1, 2],\n",
       " 'CtoE': [0, 1, 2],\n",
       " 'Econnect': {0: [0], 1: [1], 2: [2]},\n",
       " 'Elist': [0, 1, 2],\n",
       " 'Ecount': 3,\n",
       " 'EtoP': [0, 0, 0],\n",
       " 'Pconnect': {0: [0, 2]},\n",
       " 'Plist': [0],\n",
       " 'Pcount': 1,\n",
       " 'Ptype0': array(['Pa', 'Pa', 'Pa'], dtype='<U2'),\n",
       " 'List_EtoC': [['E0-C0'], ['E1-C1'], ['E2-C2']],\n",
       " 'List_PtoE': [['P0-E0', 'P0-E1', 'P0-E2']],\n",
       " 'Name': ['E0-C0', 'E1-C1', 'E2-C2', 'P0-E0', 'P0-E1', 'P0-E2'],\n",
       " 'ID': 10,\n",
       " 'parent': [],\n",
       " 'Name_txt': 'E0-C0,E1-C1,E2-C2,P0-E0,P0-E1,P0-E2',\n",
       " 'Epoch': 0,\n",
       " 'Option': 'Bus',\n",
       " 'Ptype': ['Pa', 'Pa', 'Pa'],\n",
       " 'dist_Connect': {'E0-C0': 0.3,\n",
       "  'E1-C1': 0.3,\n",
       "  'E2-C2': 0.2,\n",
       "  'P0-E0': 0.4,\n",
       "  'P0-E1': 0.6,\n",
       "  'P0-E2': 1.0},\n",
       " 'dist': 240,\n",
       " 'BusName': ['E0-C0', 'E1-C1', 'E2-C2', 'P0-E0', 'P0-E1', 'E2-E0'],\n",
       " 'BusDist': {'E0-C0': 0.3,\n",
       "  'E1-C1': 0.3,\n",
       "  'E2-C2': 0.2,\n",
       "  'P0-E0': 0.4,\n",
       "  'P0-E1': 0.6,\n",
       "  'P0-E2': 0.6},\n",
       " 'PtypeCo': {0: ['Pa', 'Pa', 'Pa']},\n",
       " 'PompesCo': {0: ['Pa']},\n",
       " 'PompeCount': {'P0': {'Pa': 1}},\n",
       " 'PompeSum': {'Pa': 1},\n",
       " 'duriteVal': {'E0-C0': 0.000235,\n",
       "  'E1-C1': 0.000235,\n",
       "  'E2-C2': 0.000235,\n",
       "  'P0-E0': 0.000235,\n",
       "  'P0-E1': 0.000235,\n",
       "  'P0-E2': 0.000235},\n",
       " 'PressionList': [4.52, 4.51, 4.5],\n",
       " 'DebitList': [11.2, 11.19, 11.18],\n",
       " 'Esplit': {0: [0], 1: [1], 2: [2]},\n",
       " 'Debit': 33.6,\n",
       " 'EvCount': {'E0': 1, 'E1': 1, 'E2': 1},\n",
       " 'EvSum': 3,\n",
       " 'Masse': 1176,\n",
       " 'Cout': 51,\n",
       " 'DetailsMasse': {'Pompe': 136.0,\n",
       "  'Tuyau': 110.4,\n",
       "  'EV': 330.0,\n",
       "  'Reservoir': 600},\n",
       " 'DetailsCout': {'Pompe': 2.5, 'Tuyau': 0.8, 'EV': 18.0, 'Reservoir': 30},\n",
       " 'fitness': 240,\n",
       " 'Alive': True}"
      ]
     },
     "execution_count": 39,
     "metadata": {},
     "output_type": "execute_result"
    }
   ],
   "source": [
    "indiv"
   ]
  },
  {
   "cell_type": "markdown",
   "id": "46d2c537",
   "metadata": {
    "heading_collapsed": true,
    "hidden": true
   },
   "source": [
    "## test unitaire comme sur tableau excel "
   ]
  },
  {
   "cell_type": "code",
   "execution_count": 12,
   "id": "f16e10a6",
   "metadata": {
    "hidden": true
   },
   "outputs": [
    {
     "data": {
      "text/plain": [
       "(array([0.3]), 0.4)"
      ]
     },
     "execution_count": 12,
     "metadata": {},
     "output_type": "execute_result"
    },
    {
     "data": {
      "text/plain": [
       "[-0.000516, -0.0154, 4.87]"
      ]
     },
     "execution_count": 12,
     "metadata": {},
     "output_type": "execute_result"
    },
    {
     "data": {
      "text/plain": [
       "(0.000764, [1, 1, 1], array([0.000235]), array([0.036]))"
      ]
     },
     "execution_count": 12,
     "metadata": {},
     "output_type": "execute_result"
    },
    {
     "data": {
      "text/plain": [
       "(-0.000516, -0.0154, 4.87)"
      ]
     },
     "execution_count": 12,
     "metadata": {},
     "output_type": "execute_result"
    },
    {
     "data": {
      "text/plain": [
       "array([0.036999, 0.036999, 0.036999])"
      ]
     },
     "execution_count": 12,
     "metadata": {},
     "output_type": "execute_result"
    }
   ],
   "source": [
    "debitinput ={'p': 0, 'e': 0, 'ClistG': [0], 'pt': 'Pa'}\n",
    "pompe,ev,ClistG,pt = debitinput.values()\n",
    "d_EtoC_list = np.array([algo.dist['E{}-C{}'.format(ev,c)] for c in ClistG])\n",
    "d_PtoE      = indiv['dist_Connect']['P{}-E{}'.format(pompe,ev)]\n",
    "d_EtoC_list, d_PtoE\n",
    "d_EtoC_list = [1,1,1]\n",
    "d_PtoE = 1\n",
    "p = [algo.DataCategorie['Pompe']['Values'][pt][i] for i in ['a','b','c']]\n",
    "p\n",
    "grouped = True\n",
    "split = False\n",
    "cE0 = 7.64e-04\n",
    "coef_E = 0 if split else cE0\n",
    "\n",
    "coef_C  = 0.036\n",
    "coef_C  = [algo.Nvals[i] for i in ClistG]\n",
    "coef_C  = np.array(coef_C)\n",
    "coef_d_EtoC  = 2.35e-04\n",
    "coef_d_EtoC = np.array([algo.duriteVal['E{}-C{}'.format(ev,c)] for c in ClistG])\n",
    "# coef_d_PtoE = algo.duriteVal['P{}-E{}'.format(pompe,ev)] \n",
    "coef_d_PtoE = indiv['duriteVal']['P{}-E{}'.format(pompe,ev)] \n",
    "a,b,c = [algo.DataCategorie['Pompe']['Values'][pt][i] for i in ['a','b','c']]\n",
    "A = coef_E + d_EtoC_list * coef_d_EtoC + coef_C \n",
    "coef_E ,d_EtoC_list,  coef_d_EtoC, coef_C\n",
    "a,b,c\n",
    "A"
   ]
  },
  {
   "cell_type": "code",
   "execution_count": 28,
   "id": "b148fe05",
   "metadata": {
    "hidden": true
   },
   "outputs": [
    {
     "name": "stdout",
     "output_type": "stream",
     "text": [
      "83.3 µs ± 728 ns per loop (mean ± std. dev. of 7 runs, 10,000 loops each)\n"
     ]
    }
   ],
   "source": [
    "%%timeit\n",
    "Ncg=  2\n",
    "Ncm = 4\n",
    "cE0 = 7.64e-04\n",
    "coef_E =  cE0\n",
    "d_EtoC_list = np.ones(Ncg) * 1\n",
    "coef_d_EtoC = np.ones(Ncg) * 0.000235\n",
    "coef_C      = np.ones(Ncg) * 0.036\n",
    "# A = coef_E + d_EtoC_list * coef_d_EtoC + coef_C \n",
    "\n",
    "Q0 = np.arange(0.1,80)\n",
    "Qx = np.zeros(Q0.shape)\n",
    "# Qi = np.zeros((Ncm,len(Q0)))\n",
    "Qi = []\n",
    "\n",
    "G = a * Q0**2 + b*Q0 +c\n",
    "Nev = int(Ncm/Ncg)\n",
    "coef_d_PtoE = np.ones(Nev) * 0.000235\n",
    "Qlist = []\n",
    "\n",
    "for i in range(Nev):\n",
    "    G = G - coef_d_PtoE[i]*(Q0-Qx)**2\n",
    "    G[G <0] = 0\n",
    "    A = coef_E + d_EtoC_list * coef_d_EtoC + coef_C \n",
    "    Qlist.append(np.sqrt(G / A[:,np.newaxis]))\n",
    "    Qi = np.vstack(Qlist)\n",
    "    Qx = Qi.sum(0)\n",
    "#     Qi.shape\n",
    "#     Qi[i*Ncg:Ncg*(i+1),:] = np.sqrt(G / A[i*Ncg:Ncg*(i+1),np.newaxis])\n",
    "#     Qx = Qi.sum(0)\n",
    "\n",
    "idx = np.searchsorted(Q0 - Qx, -0)\n",
    "idx,Q0[idx],Qx[idx]\n",
    "\n",
    "# idx, Q0[idx],Qx[idx], Qi[:,idx], Qi.shape, G[idx]"
   ]
  },
  {
   "cell_type": "code",
   "execution_count": 30,
   "id": "ae6c5a0a",
   "metadata": {
    "hidden": true
   },
   "outputs": [
    {
     "name": "stdout",
     "output_type": "stream",
     "text": [
      "351 µs ± 5.38 µs per loop (mean ± std. dev. of 7 runs, 1,000 loops each)\n"
     ]
    }
   ],
   "source": [
    "%%timeit\n",
    "Ncg=  6\n",
    "Ncm = 60\n",
    "cE0 = 7.64e-04\n",
    "coef_E =  cE0\n",
    "d_EtoC_list = np.ones(Ncg) * 1\n",
    "coef_d_EtoC = np.ones(Ncg) * 0.000235\n",
    "coef_C      = np.ones(Ncg) * 0.036\n",
    "# A = coef_E + d_EtoC_list * coef_d_EtoC + coef_C \n",
    "\n",
    "Q0 = np.arange(0.1,80)\n",
    "Qx = np.zeros(Q0.shape)\n",
    "# Qi = np.zeros((Ncm,len(Q0)))\n",
    "Qi = []\n",
    "\n",
    "G = a * Q0**2 + b*Q0 +c\n",
    "Nev = int(Ncm/Ncg)\n",
    "coef_d_PtoE = np.ones(Nev) * 0.000235\n",
    "Qlist = []\n",
    "\n",
    "for i in range(Nev):\n",
    "    G = G - coef_d_PtoE[i]*(Q0-Qx)**2\n",
    "    G[G <0] = 0\n",
    "    A = coef_E + d_EtoC_list * coef_d_EtoC + coef_C \n",
    "    Qlist.append(np.sqrt(G / A[:,np.newaxis]))\n",
    "    Qi = np.vstack(Qlist)\n",
    "    Qx = Qi.sum(0)\n",
    "#     Qi.shape\n",
    "#     Qi[i*Ncg:Ncg*(i+1),:] = np.sqrt(G / A[i*Ncg:Ncg*(i+1),np.newaxis])\n",
    "#     Qx = Qi.sum(0)\n",
    "\n",
    "idx = np.searchsorted(Q0 - Qx, -0)\n",
    "idx,Q0[idx],Qx[idx]\n",
    "\n",
    "# idx, Q0[idx],Qx[idx], Qi[:,idx], Qi.shape, G[idx]"
   ]
  },
  {
   "cell_type": "code",
   "execution_count": 18,
   "id": "49e6aa1b",
   "metadata": {
    "hidden": true
   },
   "outputs": [
    {
     "data": {
      "image/png": "[encoded data removed]",
      "text/plain": [
       "<Figure size 640x480 with 1 Axes>"
      ]
     },
     "metadata": {},
     "output_type": "display_data"
    }
   ],
   "source": [
    "f = plt.plot(Q0,Qx)\n",
    "f = plt.plot(Q0,Q0)"
   ]
  },
  {
   "cell_type": "markdown",
   "id": "1cd905b1",
   "metadata": {
    "heading_collapsed": true,
    "hidden": true
   },
   "source": [
    "## debit test unitaire indiv "
   ]
  },
  {
   "cell_type": "code",
   "execution_count": 63,
   "id": "08fed379",
   "metadata": {
    "hidden": true
   },
   "outputs": [
    {
     "data": {
      "text/plain": [
       "{'E0-C0': 0.000235,\n",
       " 'E0-C1': 0.000235,\n",
       " 'E2-C2': 0.000235,\n",
       " 'P0-E0': 0.000235,\n",
       " 'P0-E2': 0.000235}"
      ]
     },
     "execution_count": 63,
     "metadata": {},
     "output_type": "execute_result"
    }
   ],
   "source": [
    "indiv['duriteVal']"
   ]
  },
  {
   "cell_type": "code",
   "execution_count": null,
   "id": "fb9c92b0",
   "metadata": {
    "hidden": true
   },
   "outputs": [],
   "source": [
    "indiv['']"
   ]
  },
  {
   "cell_type": "code",
   "execution_count": 36,
   "id": "cb26eead",
   "metadata": {
    "hidden": true
   },
   "outputs": [
    {
     "data": {
      "text/plain": [
       "[{'ty': '',\n",
       "  'p': 0,\n",
       "  'e': [0, 2],\n",
       "  'gr': defaultdict(list, {1: [0, 2], 0: [1]}),\n",
       "  'pt': 'Pa',\n",
       "  'bus': {0: {0: [1]}, 1: {0: [0], 2: [2]}}}]"
      ]
     },
     "execution_count": 36,
     "metadata": {},
     "output_type": "execute_result"
    }
   ],
   "source": [
    "IndivLine"
   ]
  },
  {
   "cell_type": "code",
   "execution_count": 21,
   "id": "fc70b1b3",
   "metadata": {
    "hidden": true
   },
   "outputs": [
    {
     "data": {
      "text/plain": [
       "[{'ty': '',\n",
       "  'p': 0,\n",
       "  'e': [2, 0, 1],\n",
       "  'gr': {0: [4, 1, 3], 1: [0, 2]},\n",
       "  'pt': 'Pa',\n",
       "  'bus': {0: {2: [4], 1: [1, 3]}, 1: {0: [0, 2]}}}]"
      ]
     },
     "execution_count": 21,
     "metadata": {},
     "output_type": "execute_result"
    }
   ],
   "source": [
    "IndivLine"
   ]
  },
  {
   "cell_type": "code",
   "execution_count": 24,
   "id": "e6cae95a",
   "metadata": {
    "hidden": true
   },
   "outputs": [
    {
     "data": {
      "text/plain": [
       "{0: {2: [4], 1: [1, 3]}, 1: {0: [0, 2]}}"
      ]
     },
     "execution_count": 24,
     "metadata": {},
     "output_type": "execute_result"
    }
   ],
   "source": [
    "line['bus']"
   ]
  },
  {
   "cell_type": "code",
   "execution_count": 23,
   "id": "7bcee897",
   "metadata": {
    "hidden": true
   },
   "outputs": [
    {
     "data": {
      "text/plain": [
       "{0: [0, 2]}"
      ]
     },
     "execution_count": 23,
     "metadata": {},
     "output_type": "execute_result"
    },
    {
     "name": "stdout",
     "output_type": "stream",
     "text": [
      "0 0 [0, 2]\n",
      "0.000764 [0.3 0.2] [0.000235 0.000235] [0.036 0.036] [0.0368345 0.036811 ]\n"
     ]
    },
    {
     "data": {
      "text/plain": [
       "array([10.81708505, 10.82053729])"
      ]
     },
     "execution_count": 23,
     "metadata": {},
     "output_type": "execute_result"
    },
    {
     "data": {
      "text/plain": [
       "('Alist', [array([0.0368345, 0.036811 ])])"
      ]
     },
     "execution_count": 23,
     "metadata": {},
     "output_type": "execute_result"
    },
    {
     "data": {
      "text/plain": [
       "array([4.30998013, 4.30998013])"
      ]
     },
     "execution_count": 23,
     "metadata": {},
     "output_type": "execute_result"
    }
   ],
   "source": [
    "# %%timeit\n",
    "ClistDict = {0:[0,1,2], 1:[3]}\n",
    "ClistDict = {0:[0,1], 1 : [2]}\n",
    "ClistDict = {0:[0,1]}\n",
    "ClistDict = {1:[2], 0: [0,1]}\n",
    " \n",
    "PtoElist = ['P0-E0','P0-E2']\n",
    "line = IndivLine[0]\n",
    "ClistDict = line['bus'][1]\n",
    "ClistDict\n",
    "PtoElist = ['P{}-E{}'.format(0,e) for e in line['e']]\n",
    "EvList = [0,1]\n",
    "pompe = 0\n",
    "# coef_PtoE = [indiv['duriteVal'][line] * indiv['BusDist'][line] for line in PtoElist]\n",
    "# coef_PtoE\n",
    "coef_PtoE = [indiv['duriteVal'][line] * indiv['BusDist'][line] for line in PtoElist]\n",
    "pt = 'Pa'\n",
    "Q0 = np.arange(0.1,80,0.1)\n",
    "Qx = 0\n",
    "\n",
    "a,b,c = [algo.DataCategorie['Pompe']['Values'][pt][i] for i in ['a','b','c']]\n",
    "G = a * Q0**2 + b*Q0 +c\n",
    "\n",
    "Qlist = []\n",
    "Alist = []\n",
    "for i, (e,EClist) in enumerate( ClistDict.items()): # changer en list pour avoir l'ordre !!\n",
    "    print(i, e,EClist)\n",
    "    coef_C  = [algo.Nvals[i] for i in EClist]\n",
    "    coef_C  = np.array(coef_C)\n",
    "    d_EtoC = np.array([algo.dist['E{}-C{}'.format(e,c)] for c in EClist])\n",
    "    coef_d_EtoC = np.array([algo.duriteVal['E{}-C{}'.format(e,c)] for c in EClist])\n",
    "    coef_E = 7.64e-04  \n",
    "#     print(d_EtoC)\n",
    "\n",
    "    G = G - coef_PtoE[i]*(Q0-Qx)**2\n",
    "    G[G<0] = 0\n",
    "    A = coef_E + d_EtoC * coef_d_EtoC + coef_C \n",
    "    print(coef_E ,d_EtoC , coef_d_EtoC ,coef_C,  A)\n",
    "    Alist.append(A)\n",
    "    Qlist.append(np.sqrt(G / A[:,np.newaxis]))\n",
    "    Qi = np.vstack(Qlist)  # a essayer de passer en append coté numpy \n",
    "    Qx = Qi.sum(0)\n",
    "#     Qi.shape\n",
    "idx = np.searchsorted(Q0 - Qx, -1)\n",
    "# idx\n",
    "Qi = np.vstack(Qlist)[:,idx]\n",
    "Qi\n",
    "# Alist\n",
    "'Alist',Alist\n",
    "Pi = np.concatenate(Alist)* (Qi**2)\n",
    "Pi"
   ]
  },
  {
   "cell_type": "code",
   "execution_count": 188,
   "id": "a9879d39",
   "metadata": {
    "hidden": true
   },
   "outputs": [
    {
     "name": "stdout",
     "output_type": "stream",
     "text": [
      "{'p': 0, 'e': 0, 'ClistG': [0, 1], 'pt': 'Pa'}\n",
      "{'p': 0, 'e': 1, 'ClistG': [2], 'pt': 'Pa'}\n"
     ]
    },
    {
     "data": {
      "text/plain": [
       "{'PressionList': [4.5, 4.5, 4.52],\n",
       " 'DebitList': [11.18, 11.18, 11.2],\n",
       " 'Esplit': {0: [0, 1], 1: [2]},\n",
       " 'Debit': 33.6}"
      ]
     },
     "execution_count": 188,
     "metadata": {},
     "output_type": "execute_result"
    }
   ],
   "source": [
    "Calcul_Debit(algo ,indiv, 'Deactivate')"
   ]
  },
  {
   "cell_type": "code",
   "execution_count": 30,
   "id": "aa97eef8",
   "metadata": {
    "hidden": true
   },
   "outputs": [
    {
     "data": {
      "text/plain": [
       "({0: [0, 1], 1: [2]}, {0: [0, 1]})"
      ]
     },
     "execution_count": 30,
     "metadata": {},
     "output_type": "execute_result"
    },
    {
     "data": {
      "text/plain": [
       "[['E0-C0', 'E0-C1'], ['E1-C2']]"
      ]
     },
     "execution_count": 30,
     "metadata": {},
     "output_type": "execute_result"
    },
    {
     "data": {
      "text/plain": [
       "[['P0-E0', 'P0-E1']]"
      ]
     },
     "execution_count": 30,
     "metadata": {},
     "output_type": "execute_result"
    }
   ],
   "source": [
    "indiv['Econnect'], indiv['Pconnect']\n",
    "indiv['List_EtoC']\n",
    "indiv['List_PtoE']"
   ]
  },
  {
   "cell_type": "markdown",
   "id": "a2ce6233",
   "metadata": {
    "heading_collapsed": true,
    "hidden": true
   },
   "source": [
    "## conf indiv line  echec "
   ]
  },
  {
   "cell_type": "code",
   "execution_count": null,
   "id": "31f9a678",
   "metadata": {
    "hidden": true
   },
   "outputs": [],
   "source": [
    "{'ty': '',\n",
    " 'p': 0,\n",
    " 'e': [0, 2],\n",
    " 'gr': defaultdict(list, {1: [0, 2], 0: [1]}),\n",
    " 'pt': 'Pa',\n",
    " 'bus': {0: {0: [1]}, 1: {0: [0], 2: [2]}}}"
   ]
  },
  {
   "cell_type": "code",
   "execution_count": 45,
   "id": "ce7aca83",
   "metadata": {
    "hidden": true
   },
   "outputs": [],
   "source": [
    "d = {'data' : \n",
    "     [\n",
    "         {'ty': 'bus',\n",
    "          'p': 0,\n",
    "          'e': [0, 2],\n",
    "          'gr': {1: [0, 2], 0: [1]},\n",
    "          'pt': 'Pa',\n",
    "          'bus': {0: {0: [1]}, 1: {0: [0], 2: [2]}}}]}"
   ]
  },
  {
   "cell_type": "code",
   "execution_count": 47,
   "id": "1abbae43",
   "metadata": {
    "hidden": true
   },
   "outputs": [],
   "source": [
    "with open('indivconf.json', 'w') as outfile:\n",
    "    json.dump(d, outfile)"
   ]
  },
  {
   "cell_type": "code",
   "execution_count": null,
   "id": "82e471e9",
   "metadata": {
    "hidden": true
   },
   "outputs": [],
   "source": [
    "json."
   ]
  },
  {
   "cell_type": "markdown",
   "id": "b4518a2d",
   "metadata": {
    "heading_collapsed": true,
    "hidden": true
   },
   "source": [
    "## func (2ieme partie a lire) "
   ]
  },
  {
   "cell_type": "code",
   "execution_count": 37,
   "id": "cddca792",
   "metadata": {
    "hidden": true
   },
   "outputs": [
    {
     "data": {
      "text/plain": [
       "{'ty': '',\n",
       " 'p': 0,\n",
       " 'e': [0, 1],\n",
       " 'gr': {1: [0, 2, 3], 0: [1]},\n",
       " 'pt': 'Pa',\n",
       " 'bus': {0: {1: [1]}, 1: {0: [0, 2], 1: [3]}}}"
      ]
     },
     "execution_count": 37,
     "metadata": {},
     "output_type": "execute_result"
    }
   ],
   "source": [
    "line"
   ]
  },
  {
   "cell_type": "code",
   "execution_count": 39,
   "id": "64b19e8c",
   "metadata": {
    "hidden": true
   },
   "outputs": [
    {
     "data": {
      "text/plain": [
       "{0: {1: [1]}, 1: {0: [0, 2], 1: [3]}}"
      ]
     },
     "execution_count": 39,
     "metadata": {},
     "output_type": "execute_result"
    }
   ],
   "source": [
    "bus"
   ]
  },
  {
   "cell_type": "code",
   "execution_count": 42,
   "id": "b749b83c",
   "metadata": {
    "hidden": true
   },
   "outputs": [],
   "source": [
    "bus = {0 : {1: [0]}}"
   ]
  },
  {
   "cell_type": "code",
   "execution_count": 18,
   "id": "28b1c316",
   "metadata": {
    "hidden": true,
    "scrolled": false
   },
   "outputs": [
    {
     "data": {
      "text/plain": [
       "{2: [4], 1: [1]}"
      ]
     },
     "execution_count": 18,
     "metadata": {},
     "output_type": "execute_result"
    },
    {
     "data": {
      "text/plain": [
       "[4.7000000000000004e-05, 9.400000000000001e-05, 4.7000000000000004e-05]"
      ]
     },
     "execution_count": 18,
     "metadata": {},
     "output_type": "execute_result"
    },
    {
     "name": "stdout",
     "output_type": "stream",
     "text": [
      "0 2 [4]\n",
      "0.000764 [0.6] [0.000235] [0.036] [0.036905]\n",
      "1 1 [1]\n",
      "0.000764 [0.3] [0.000235] [0.036] [0.0368345]\n"
     ]
    },
    {
     "data": {
      "text/plain": [
       "array([10.80674812, 10.80553343])"
      ]
     },
     "execution_count": 18,
     "metadata": {},
     "output_type": "execute_result"
    },
    {
     "data": {
      "text/plain": [
       "('Alist', [array([0.036905]), array([0.0368345])])"
      ]
     },
     "execution_count": 18,
     "metadata": {},
     "output_type": "execute_result"
    },
    {
     "data": {
      "text/plain": [
       "array([4.30998013, 4.30077975])"
      ]
     },
     "execution_count": 18,
     "metadata": {},
     "output_type": "execute_result"
    },
    {
     "data": {
      "text/plain": [
       "{0: [0, 2], 1: [3]}"
      ]
     },
     "execution_count": 18,
     "metadata": {},
     "output_type": "execute_result"
    },
    {
     "data": {
      "text/plain": [
       "[4.7000000000000004e-05, 9.400000000000001e-05, 4.7000000000000004e-05]"
      ]
     },
     "execution_count": 18,
     "metadata": {},
     "output_type": "execute_result"
    },
    {
     "name": "stdout",
     "output_type": "stream",
     "text": [
      "0 0 [0, 2]\n",
      "0.000764 [0.3 0.2] [0.000235 0.000235] [0.036 0.036] [0.0368345 0.036811 ]\n",
      "1 1 [3]\n",
      "0.000764 [0.2] [0.000235] [0.036] [0.036811]\n"
     ]
    },
    {
     "data": {
      "text/plain": [
       "array([10.29794424, 10.3012308 , 10.29050326])"
      ]
     },
     "execution_count": 18,
     "metadata": {},
     "output_type": "execute_result"
    },
    {
     "data": {
      "text/plain": [
       "('Alist', [array([0.0368345, 0.036811 ]), array([0.036811])])"
      ]
     },
     "execution_count": 18,
     "metadata": {},
     "output_type": "execute_result"
    },
    {
     "data": {
      "text/plain": [
       "array([3.90621237, 3.90621237, 3.89808087])"
      ]
     },
     "execution_count": 18,
     "metadata": {},
     "output_type": "execute_result"
    }
   ],
   "source": [
    "line = IndivLine[0]\n",
    "# line\n",
    "bus = line['bus']\n",
    "# loop sur les gr avec les clisdict d'avant  \n",
    "for n , ClistDict in bus.items():\n",
    "    ClistDict\n",
    "    # ClistDict = line['bus'][1]\n",
    "    PtoElist = ['P{}-E{}'.format(0,e) for e in line['e']]\n",
    "# #     EvList = [0,1]\n",
    "#     EvList = ClistDict.keys()\n",
    "    pompe = 0 # a changer \n",
    "    coef_PtoE = [indiv['duriteVal'][line] * indiv['BusDist'][line] for line in PtoElist] # tres important puisque ordre de calucl a respecter \n",
    "    coef_PtoE\n",
    "    pt = 'Pa'\n",
    "    Q0 = np.arange(0.1,80,0.1)\n",
    "    Qx = 0\n",
    "\n",
    "    a,b,c = [algo.DataCategorie['Pompe']['Values'][pt][i] for i in ['a','b','c']]\n",
    "    G = a * Q0**2 + b*Q0 +c\n",
    "\n",
    "    Qlist = []\n",
    "    Alist = []\n",
    "    for i, (e,EClist) in enumerate(ClistDict.items()): # changer en list pour avoir l'ordre !!\n",
    "        print(i, e,EClist)\n",
    "        # calcul des coef comme avant \n",
    "        coef_C = [algo.Nvals[i] for i in EClist]\n",
    "        coef_C = np.array(coef_C)\n",
    "        d_EtoC = np.array([algo.dist['E{}-C{}'.format(e,c)] for c in EClist])\n",
    "        coef_d_EtoC = np.array([algo.duriteVal['E{}-C{}'.format(e,c)] for c in EClist])\n",
    "        coef_E = 7.64e-04  \n",
    "        \n",
    "        # new si pas de capteur on a juste le coef de droite = 0 normalement \n",
    "        # le truc c'est quil faudra faire cette loop dans le cas de group ou le premier Ev dn'est pas activer \n",
    "        # donc prendre en compte pour le calcul de coef_PtoE\n",
    "        G = G - coef_PtoE[i]*(Q0-Qx)**2\n",
    "        G[G<0] = 0\n",
    "        A = coef_E + d_EtoC * coef_d_EtoC + coef_C \n",
    "        print(coef_E ,d_EtoC , coef_d_EtoC ,coef_C,  A)\n",
    "        Alist.append(A)\n",
    "        # magie on tile la mtrice sur A step correspond au tableau excel etendu sur la droite\n",
    "        Qlist.append(np.sqrt(G / A[:,np.newaxis]))\n",
    "        Qi = np.vstack(Qlist)  # a essayer de passer en append coté numpy \n",
    "        Qx = Qi.sum(0)\n",
    "    #     Qi.shape\n",
    "    # le offset de -1 pour retrouver la plus proche valeur de Q0 -Qx facile \n",
    "    idx = np.searchsorted(Q0 - Qx, -1)\n",
    "    # idx\n",
    "    Qi = np.vstack(Qlist)[:,idx]\n",
    "    Qi\n",
    "    # Alist\n",
    "    'Alist',Alist\n",
    "    Pi = np.concatenate(Alist)* (Qi**2)\n",
    "    Pi"
   ]
  },
  {
   "cell_type": "code",
   "execution_count": 11,
   "id": "6cdc5a05",
   "metadata": {
    "hidden": true
   },
   "outputs": [
    {
     "data": {
      "text/plain": [
       "{'PressionList': [3.92, 4.51, 3.92, 4.51, 4.51],\n",
       " 'DebitList': [10.44, 11.19, 10.44, 11.19, 11.2],\n",
       " 'Esplit': {0: [(0, 2)], 1: [1, 3], 2: [4]},\n",
       " 'Debit': 54.5}"
      ]
     },
     "execution_count": 11,
     "metadata": {},
     "output_type": "execute_result"
    }
   ],
   "source": [
    "Calcul_Debit(algo ,indiv, False)"
   ]
  },
  {
   "cell_type": "markdown",
   "id": "51141d3c",
   "metadata": {
    "heading_collapsed": true,
    "hidden": true
   },
   "source": [
    "## Calcul debit test refacto"
   ]
  },
  {
   "cell_type": "code",
   "execution_count": 123,
   "id": "ce0a0948",
   "metadata": {
    "hidden": true
   },
   "outputs": [],
   "source": [
    " D = algo.Comb  \n",
    "Group = algo.Group\n",
    "GroupDict = algo.GroupDict \n",
    "# print(GroupDict)\n",
    "Clist = D['C']\n",
    "Econnect = indiv['Econnect']\n",
    "Pconnect = indiv['Pconnect']\n",
    "dist_Connect = indiv['dist_Connect']\n",
    "EtoP = indiv['EtoP']\n",
    "Ptype = indiv['Ptype']\n",
    "Pression = []\n",
    "Debit = []\n",
    "\n",
    "Cpression = {}\n",
    "Cdebit = {}"
   ]
  },
  {
   "cell_type": "code",
   "execution_count": 127,
   "id": "8f606e16",
   "metadata": {
    "hidden": true
   },
   "outputs": [
    {
     "data": {
      "text/plain": [
       "[0, 1, 1]"
      ]
     },
     "execution_count": 127,
     "metadata": {},
     "output_type": "execute_result"
    }
   ],
   "source": [
    "GroupDict"
   ]
  },
  {
   "cell_type": "code",
   "execution_count": 126,
   "id": "66c71cc4",
   "metadata": {
    "hidden": true
   },
   "outputs": [
    {
     "data": {
      "text/plain": [
       "'Bus'"
      ]
     },
     "execution_count": 126,
     "metadata": {},
     "output_type": "execute_result"
    }
   ],
   "source": [
    "indiv['Option']"
   ]
  },
  {
   "cell_type": "code",
   "execution_count": 125,
   "id": "7c53aaf0",
   "metadata": {
    "hidden": true
   },
   "outputs": [
    {
     "data": {
      "text/plain": [
       "([0, 1, 1], {0: [0, 1], 1: [2]}, {0: [0, 1]})"
      ]
     },
     "execution_count": 125,
     "metadata": {},
     "output_type": "execute_result"
    }
   ],
   "source": [
    "GroupDict , Econnect, Pconnect\n",
    "\n",
    "d1 = collections.defaultdict(list)\n",
    "d2 = collections.defaultdict(list)\n",
    "for i, (e,EClist) in enumerate(Econnect.items()):\n",
    "    for e2 in EClist :\n",
    "        d2"
   ]
  },
  {
   "cell_type": "markdown",
   "id": "52841614",
   "metadata": {
    "heading_collapsed": true
   },
   "source": [
    "# TEST ancien"
   ]
  },
  {
   "cell_type": "markdown",
   "id": "94d8fc91",
   "metadata": {
    "heading_collapsed": true,
    "hidden": true
   },
   "source": [
    "## NETWORK X testé"
   ]
  },
  {
   "cell_type": "code",
   "execution_count": 88,
   "id": "9840f537",
   "metadata": {
    "collapsed": true,
    "hidden": true
   },
   "outputs": [
    {
     "data": {
      "text/html": [
       "<div>\n",
       "<style scoped>\n",
       "    .dataframe tbody tr th:only-of-type {\n",
       "        vertical-align: middle;\n",
       "    }\n",
       "\n",
       "    .dataframe tbody tr th {\n",
       "        vertical-align: top;\n",
       "    }\n",
       "\n",
       "    .dataframe thead th {\n",
       "        text-align: right;\n",
       "    }\n",
       "</style>\n",
       "<table border=\"1\" class=\"dataframe\">\n",
       "  <thead>\n",
       "    <tr style=\"text-align: right;\">\n",
       "      <th></th>\n",
       "      <th>y</th>\n",
       "      <th>x</th>\n",
       "    </tr>\n",
       "  </thead>\n",
       "  <tbody>\n",
       "    <tr>\n",
       "      <th>C0</th>\n",
       "      <td>0</td>\n",
       "      <td>1</td>\n",
       "    </tr>\n",
       "    <tr>\n",
       "      <th>C1</th>\n",
       "      <td>0</td>\n",
       "      <td>5</td>\n",
       "    </tr>\n",
       "    <tr>\n",
       "      <th>C2</th>\n",
       "      <td>2</td>\n",
       "      <td>0</td>\n",
       "    </tr>\n",
       "    <tr>\n",
       "      <th>E0</th>\n",
       "      <td>2</td>\n",
       "      <td>2</td>\n",
       "    </tr>\n",
       "    <tr>\n",
       "      <th>E1</th>\n",
       "      <td>2</td>\n",
       "      <td>4</td>\n",
       "    </tr>\n",
       "    <tr>\n",
       "      <th>C3</th>\n",
       "      <td>2</td>\n",
       "      <td>6</td>\n",
       "    </tr>\n",
       "    <tr>\n",
       "      <th>P0</th>\n",
       "      <td>5</td>\n",
       "      <td>1</td>\n",
       "    </tr>\n",
       "    <tr>\n",
       "      <th>E2</th>\n",
       "      <td>5</td>\n",
       "      <td>3</td>\n",
       "    </tr>\n",
       "    <tr>\n",
       "      <th>P1</th>\n",
       "      <td>5</td>\n",
       "      <td>5</td>\n",
       "    </tr>\n",
       "    <tr>\n",
       "      <th>E3</th>\n",
       "      <td>7</td>\n",
       "      <td>3</td>\n",
       "    </tr>\n",
       "    <tr>\n",
       "      <th>C4</th>\n",
       "      <td>9</td>\n",
       "      <td>3</td>\n",
       "    </tr>\n",
       "  </tbody>\n",
       "</table>\n",
       "</div>"
      ],
      "text/plain": [
       "    y  x\n",
       "C0  0  1\n",
       "C1  0  5\n",
       "C2  2  0\n",
       "E0  2  2\n",
       "E1  2  4\n",
       "C3  2  6\n",
       "P0  5  1\n",
       "E2  5  3\n",
       "P1  5  5\n",
       "E3  7  3\n",
       "C4  9  3"
      ]
     },
     "execution_count": 88,
     "metadata": {},
     "output_type": "execute_result"
    }
   ],
   "source": [
    "dfslot = pd.DataFrame(algo.DictPos).T\n",
    "dfslot.columns = ('y','x')\n",
    "dfslot"
   ]
  },
  {
   "cell_type": "code",
   "execution_count": 64,
   "id": "ef518bb9",
   "metadata": {
    "collapsed": true,
    "hidden": true
   },
   "outputs": [
    {
     "data": {
      "text/plain": [
       "{'C0': (0, 1),\n",
       " 'C1': (0, 5),\n",
       " 'C2': (2, 0),\n",
       " 'E0': (2, 2),\n",
       " 'E1': (2, 4),\n",
       " 'C3': (2, 6),\n",
       " 'P0': (5, 1),\n",
       " 'E2': (5, 3),\n",
       " 'P1': (5, 5),\n",
       " 'E3': (7, 3),\n",
       " 'C4': (9, 3)}"
      ]
     },
     "execution_count": 64,
     "metadata": {},
     "output_type": "execute_result"
    }
   ],
   "source": [
    "algo.DictPos"
   ]
  },
  {
   "cell_type": "code",
   "execution_count": 84,
   "id": "ba28d0a6",
   "metadata": {
    "hidden": true
   },
   "outputs": [],
   "source": [
    "dfline = algo.dfline\n",
    "dfline['s'] = dfline.ID.str.split('-').str[0]\n",
    "dfline['t'] = dfline.ID.str.split('-').str[1]"
   ]
  },
  {
   "cell_type": "code",
   "execution_count": 85,
   "id": "c36470e6",
   "metadata": {
    "hidden": true
   },
   "outputs": [],
   "source": [
    "G=nx.from_pandas_edgelist(dfline, 's', 't', ['dist', 'duriteVal'])"
   ]
  },
  {
   "cell_type": "code",
   "execution_count": 86,
   "id": "44b3e648",
   "metadata": {
    "hidden": true
   },
   "outputs": [],
   "source": [
    "node_attr = dfslot.to_dict('index')\n",
    "nx.set_node_attributes(G, node_attr)"
   ]
  },
  {
   "cell_type": "code",
   "execution_count": 52,
   "id": "16921011",
   "metadata": {
    "hidden": true
   },
   "outputs": [
    {
     "data": {
      "text/plain": [
       "[('a', 'b', {'weight': 2}), ('b', 'c', {'weight': 4})]"
      ]
     },
     "execution_count": 52,
     "metadata": {},
     "output_type": "execute_result"
    }
   ],
   "source": [
    "list(G.edges.data())"
   ]
  },
  {
   "cell_type": "code",
   "execution_count": 54,
   "id": "90ebb106",
   "metadata": {
    "hidden": true
   },
   "outputs": [
    {
     "data": {
      "text/plain": [
       "'3.1'"
      ]
     },
     "execution_count": 54,
     "metadata": {},
     "output_type": "execute_result"
    }
   ],
   "source": [
    "nx.__version__"
   ]
  },
  {
   "cell_type": "code",
   "execution_count": 79,
   "id": "856932dc",
   "metadata": {
    "collapsed": true,
    "hidden": true
   },
   "outputs": [
    {
     "name": "stdout",
     "output_type": "stream",
     "text": [
      "90.7 µs ± 997 ns per loop (mean ± std. dev. of 7 runs, 10,000 loops each)\n"
     ]
    }
   ],
   "source": [
    "%%timeit\n",
    "G=nx.from_pandas_edgelist(dfline, 's', 't', ['dist', 'duriteVal'])"
   ]
  },
  {
   "cell_type": "code",
   "execution_count": 87,
   "id": "e97bddfc",
   "metadata": {
    "collapsed": true,
    "hidden": true
   },
   "outputs": [
    {
     "data": {
      "image/png": "[encoded data removed]",
      "text/plain": [
       "<Figure size 640x480 with 1 Axes>"
      ]
     },
     "metadata": {},
     "output_type": "display_data"
    }
   ],
   "source": [
    "nx.draw(G, with_labels=True)\n",
    "plt.show()"
   ]
  },
  {
   "cell_type": "code",
   "execution_count": 190,
   "id": "9be0f5c4",
   "metadata": {
    "collapsed": true,
    "hidden": true
   },
   "outputs": [
    {
     "data": {
      "text/plain": [
       "{('E0', 'C0'): 0.3,\n",
       " ('E0', 'C1'): 0.5,\n",
       " ('E0', 'C2'): 0.2,\n",
       " ('E0', 'C3'): 0.6,\n",
       " ('E0', 'C4'): 0.8,\n",
       " ('E0', 'P0'): 0.4,\n",
       " ('E0', 'P1'): 0.6,\n",
       " ('E0', 'E1'): 0.2,\n",
       " ('E0', 'E2'): 0.4,\n",
       " ('E0', 'E3'): 0.6,\n",
       " ('C0', 'E1'): 0.5,\n",
       " ('C0', 'E2'): 0.7,\n",
       " ('C0', 'E3'): 0.9,\n",
       " ('C1', 'E1'): 0.3,\n",
       " ('C1', 'E2'): 0.7,\n",
       " ('C1', 'E3'): 0.9,\n",
       " ('C2', 'E1'): 0.6,\n",
       " ('C2', 'E2'): 0.6,\n",
       " ('C2', 'E3'): 0.8,\n",
       " ('C3', 'E1'): 0.2,\n",
       " ('C3', 'E2'): 0.6,\n",
       " ('C3', 'E3'): 0.8,\n",
       " ('C4', 'E1'): 0.8,\n",
       " ('C4', 'E2'): 0.6,\n",
       " ('C4', 'E3'): 0.2,\n",
       " ('P0', 'E1'): 0.6,\n",
       " ('P0', 'E2'): 0.2,\n",
       " ('P0', 'E3'): 0.4,\n",
       " ('P1', 'E1'): 0.4,\n",
       " ('P1', 'E2'): 0.2,\n",
       " ('P1', 'E3'): 0.4,\n",
       " ('E1', 'E2'): 0.4,\n",
       " ('E1', 'E3'): 0.6,\n",
       " ('E2', 'E3'): 0.2}"
      ]
     },
     "execution_count": 190,
     "metadata": {},
     "output_type": "execute_result"
    }
   ],
   "source": [
    "nx.get_edge_attributes(G, \"dist\")"
   ]
  },
  {
   "cell_type": "code",
   "execution_count": 77,
   "id": "b9007a48",
   "metadata": {
    "hidden": true
   },
   "outputs": [
    {
     "name": "stdout",
     "output_type": "stream",
     "text": [
      "337 µs ± 3.22 µs per loop (mean ± std. dev. of 7 runs, 1,000 loops each)\n"
     ]
    }
   ],
   "source": [
    "%%timeit\n",
    "dfline.loc[(dfline.s == 'P0') & (dfline.t == 'E0')]"
   ]
  },
  {
   "cell_type": "code",
   "execution_count": 82,
   "id": "6f8e8873",
   "metadata": {
    "hidden": true
   },
   "outputs": [
    {
     "name": "stdout",
     "output_type": "stream",
     "text": [
      "233 µs ± 9.96 µs per loop (mean ± std. dev. of 7 runs, 1,000 loops each)\n"
     ]
    }
   ],
   "source": [
    "%%timeit\n",
    "dfline[(dfline.ID == 'P0-E0')].dist.values"
   ]
  },
  {
   "cell_type": "code",
   "execution_count": 75,
   "id": "39cf9ac3",
   "metadata": {
    "hidden": true
   },
   "outputs": [
    {
     "name": "stdout",
     "output_type": "stream",
     "text": [
      "253 ns ± 12.1 ns per loop (mean ± std. dev. of 7 runs, 1,000,000 loops each)\n"
     ]
    }
   ],
   "source": [
    "%%timeit\n",
    "G.edges[\"P0\",'E0']['dist']"
   ]
  },
  {
   "cell_type": "code",
   "execution_count": null,
   "id": "1ff8b730",
   "metadata": {
    "hidden": true
   },
   "outputs": [],
   "source": [
    "G"
   ]
  },
  {
   "cell_type": "code",
   "execution_count": 70,
   "id": "b0d26991",
   "metadata": {
    "hidden": true
   },
   "outputs": [],
   "source": [
    "H = G.subgraph(['P0','E0'])"
   ]
  },
  {
   "cell_type": "code",
   "execution_count": 71,
   "id": "20ef5c22",
   "metadata": {
    "collapsed": true,
    "hidden": true
   },
   "outputs": [
    {
     "data": {
      "image/png": "[encoded data removed]",
      "text/plain": [
       "<Figure size 640x480 with 1 Axes>"
      ]
     },
     "metadata": {},
     "output_type": "display_data"
    }
   ],
   "source": [
    "nx.draw(H, with_labels=True)\n",
    "plt.show()"
   ]
  },
  {
   "cell_type": "code",
   "execution_count": 25,
   "id": "ac3a53ac",
   "metadata": {
    "hidden": true
   },
   "outputs": [
    {
     "data": {
      "text/plain": [
       "([(0, 1), (1, 2), (2, 3)], [(0, 1), (1, 2)])"
      ]
     },
     "execution_count": 25,
     "metadata": {},
     "output_type": "execute_result"
    }
   ],
   "source": [
    "G = nx.path_graph(4)  # or DiGraph, MultiGraph, MultiDiGraph, etc\n",
    "\n",
    "H = G.subgraph([0, 1, 2])\n",
    "list(G.edges) , list(H.edges)"
   ]
  },
  {
   "cell_type": "code",
   "execution_count": 30,
   "id": "f272e901",
   "metadata": {
    "hidden": true
   },
   "outputs": [
    {
     "data": {
      "text/plain": [
       "2"
      ]
     },
     "execution_count": 30,
     "metadata": {},
     "output_type": "execute_result"
    },
    {
     "data": {
      "text/plain": [
       "2"
      ]
     },
     "execution_count": 30,
     "metadata": {},
     "output_type": "execute_result"
    },
    {
     "data": {
      "text/plain": [
       "6.0"
      ]
     },
     "execution_count": 30,
     "metadata": {},
     "output_type": "execute_result"
    }
   ],
   "source": [
    "G = nx.Graph()  # or DiGraph, MultiGraph, MultiDiGraph, etc\n",
    "G.add_edge(\"a\", \"b\", weight=2)\n",
    "G.add_edge(\"b\", \"c\", weight=4)\n",
    "G.size()\n",
    "2\n",
    "G.size(weight=\"weight\")"
   ]
  },
  {
   "cell_type": "code",
   "execution_count": null,
   "id": "22ecd57e",
   "metadata": {
    "hidden": true
   },
   "outputs": [],
   "source": []
  },
  {
   "cell_type": "code",
   "execution_count": 27,
   "id": "c5278a41",
   "metadata": {
    "hidden": true
   },
   "outputs": [
    {
     "name": "stdout",
     "output_type": "stream",
     "text": [
      "3.79 µs ± 85.7 ns per loop (mean ± std. dev. of 7 runs, 100,000 loops each)\n"
     ]
    }
   ],
   "source": [
    "%%timeit\n",
    "G.size(weight=\"weight\")"
   ]
  },
  {
   "cell_type": "code",
   "execution_count": 45,
   "id": "b2962a59",
   "metadata": {
    "hidden": true
   },
   "outputs": [
    {
     "name": "stdout",
     "output_type": "stream",
     "text": [
      "2.89 µs ± 76.8 ns per loop (mean ± std. dev. of 7 runs, 100,000 loops each)\n"
     ]
    }
   ],
   "source": [
    "%%timeit\n",
    "sum([w['weight'] for u,v, w  in G.edges(data=True)])"
   ]
  },
  {
   "cell_type": "markdown",
   "id": "bda2c441",
   "metadata": {
    "heading_collapsed": true,
    "hidden": true
   },
   "source": [
    "## GEN test"
   ]
  },
  {
   "cell_type": "code",
   "execution_count": null,
   "id": "04d9aff6",
   "metadata": {
    "hidden": true
   },
   "outputs": [],
   "source": [
    "# columns de l'algo genetique\n",
    "col = ['Clist', 'CtoE', 'Econnect', 'Elist', 'Ecount', 'EtoP', 'Pconnect','Plist', 'Pcount']"
   ]
  },
  {
   "cell_type": "code",
   "execution_count": null,
   "id": "456cd42c",
   "metadata": {
    "hidden": true
   },
   "outputs": [],
   "source": [
    "# crossover\n",
    "dfparents = df[:2].copy()\n",
    "dfcrossover = pd.DataFrame(AG_CrossOver(dfparents, algo))\n",
    "dfresults  = pd.concat([dfparents.T,dfcrossover.T ], axis = 1)\n",
    "dfresults.columns = ['parent1','parent2','enfant1','enfant2']\n",
    "dfresults.loc[col]"
   ]
  },
  {
   "cell_type": "code",
   "execution_count": null,
   "id": "f1eaaba5",
   "metadata": {
    "hidden": true
   },
   "outputs": [],
   "source": [
    "# mutation\n",
    "row = df.iloc[0].copy()\n",
    "dfMutation = pd.Series(Mutation(row, algo))[col]\n",
    "dfresults  = pd.concat([row,dfMutation], axis = 1)\n",
    "dfresults.columns = ['parent','enfant']\n",
    "dfresults.loc[col]"
   ]
  },
  {
   "cell_type": "markdown",
   "id": "f739cab7",
   "metadata": {
    "heading_collapsed": true,
    "hidden": true
   },
   "source": [
    "## new formule vrac"
   ]
  },
  {
   "cell_type": "code",
   "execution_count": null,
   "id": "2663806b",
   "metadata": {
    "hidden": true
   },
   "outputs": [],
   "source": [
    "df.columns\n",
    "indiv = algo.indivs[0]\n",
    "Calcul_Debit(algo ,indiv, Split = algo.Split)"
   ]
  },
  {
   "cell_type": "code",
   "execution_count": null,
   "id": "91517f5e",
   "metadata": {
    "hidden": true
   },
   "outputs": [],
   "source": [
    "Calcul_Debit(algo ,indiv, 'Deactivate')"
   ]
  },
  {
   "cell_type": "code",
   "execution_count": null,
   "id": "2fb41f30",
   "metadata": {
    "hidden": true
   },
   "outputs": [],
   "source": [
    "debitinput = {'p': 0, 'e': 0, 'ClistG': [0, 1, 3], 'pt': 'Pa'}\n",
    "debit(algo,indiv,debitinput, grouped = True, split = False)"
   ]
  },
  {
   "cell_type": "code",
   "execution_count": null,
   "id": "7d5054f1",
   "metadata": {
    "hidden": true
   },
   "outputs": [],
   "source": [
    "pompe,ev,ClistG,pt = debitinput.values()\n",
    "d_EtoC_list = np.array([algo.dist['E{}-C{}'.format(ev,c)] for c in ClistG])\n",
    "d_PtoE      = indiv['dist_Connect']['P{}-E{}'.format(pompe,ev)]\n",
    "d_EtoC_list, d_PtoE\n",
    "d_EtoC_list = [1,1,1]\n",
    "d_PtoE = 1\n",
    "p = [algo.DataCategorie['Pompe']['Values'][pt][i] for i in ['a','b','c']]\n",
    "p\n",
    "grouped = True\n",
    "split = False\n",
    "cE0 = 7.64e-04\n",
    "coef_E = 0 if split else cE0\n",
    "\n",
    "coef_C  = 0.036\n",
    "coef_C  = [algo.Nvals[i] for i in ClistG]\n",
    "coef_C  = np.array(coef_C)\n",
    "coef_d_EtoC  = 2.35e-04\n",
    "coef_d_EtoC = np.array([algo.duriteVal['E{}-C{}'.format(ev,c)] for c in ClistG])\n",
    "# coef_d_PtoE = algo.duriteVal['P{}-E{}'.format(pompe,ev)] \n",
    "coef_d_PtoE = indiv['duriteVal']['P{}-E{}'.format(pompe,ev)] \n",
    "a,b,c = [algo.DataCategorie['Pompe']['Values'][pt][i] for i in ['a','b','c']]\n",
    "A = coef_E + d_EtoC_list * coef_d_EtoC + coef_C \n",
    "coef_E ,d_EtoC_list,  coef_d_EtoC, coef_C\n",
    "A"
   ]
  },
  {
   "cell_type": "code",
   "execution_count": null,
   "id": "8a21420c",
   "metadata": {
    "hidden": true
   },
   "outputs": [],
   "source": [
    "Q = 40\n",
    "A*10\n",
    "a * Q**2 + b*Q +c - coef_d_PtoE*Q**2\n",
    "a * Q**2 + b*Q +c - coef_d_PtoE\n"
   ]
  },
  {
   "cell_type": "code",
   "execution_count": null,
   "id": "7c917c54",
   "metadata": {
    "hidden": true
   },
   "outputs": [],
   "source": [
    "coef_E\n",
    "Ncg=  6\n",
    "Ncm = 12\n",
    "d_EtoC_list = np.ones(Ncm) * 1\n",
    "coef_d_EtoC = np.ones(Ncm) * 0.000235\n",
    "coef_C = np.ones(Ncm) * 0.036\n",
    "a,b,c = [algo.DataCategorie['Pompe']['Values'][pt][i] for i in ['a','b','c']]\n",
    "A = coef_E + d_EtoC_list * coef_d_EtoC + coef_C \n",
    "Q0 = np.arange(0.1,80,0.1)\n",
    "Qx = np.zeros(Q0.shape)\n",
    "Qi = np.zeros((12,len(Q0)))\n",
    "Nev = int(Ncm/6)\n",
    "for i in range(Nev):\n",
    "    Q = Q0 - Qx\n",
    "    # Q.shape, Qx.sum()    \n",
    "    # Q = Q0.copy()\n",
    "    # Q.shape\n",
    "    G = a * Q**2 + b*Q +c - coef_d_PtoE*(i+1)*Q**2\n",
    "    G[G <0] = 0\n",
    "    # print(G)\n",
    "    Qi[i*Ncg:Ncg*(i+1),:] = np.sqrt(G / A[i*Ncg:Ncg*(i+1),np.newaxis]).round(3)\n",
    "    Qx = Qi[0:Ncg*(i+1),:].sum(0)\n",
    "    # Qx\n",
    "    # pd.DataFrame(Qi)\n",
    "    # Qx.shape\n",
    "    f = plt.plot(Qx)\n",
    "    # Qi.shape\n",
    "dfr = pd.DataFrame(Qi).T\n",
    "dfr.index = Q0\n",
    "idx = np.searchsorted(Q0 - Qi.sum(0), 0)\n",
    "np.isclose(Qi.sum(0),Q0,atol= 0.1).sum()\n",
    "# np.isclose(Qi.sum(0),Q,atol= 0.1)\n",
    "idx, Q[idx],Qi[:,idx], Qi.shape, G[idx]"
   ]
  },
  {
   "cell_type": "code",
   "execution_count": null,
   "id": "6c6e3f61",
   "metadata": {
    "hidden": true
   },
   "outputs": [],
   "source": [
    "a,b,c = [algo.DataCategorie['Pompe']['Values'][pt][i] for i in ['a','b','c']]\n",
    "a,b,c"
   ]
  },
  {
   "cell_type": "code",
   "execution_count": null,
   "id": "348b0f5d",
   "metadata": {
    "hidden": true
   },
   "outputs": [],
   "source": [
    "\n",
    "Q = np.arange(0.1,80,0.1)\n",
    "G = a * Q**2 + b*Q +c - coef_d_PtoE\n",
    "Qi= np.sqrt(G / A[:,np.newaxis])\n",
    "Q[np.isclose(Qi.sum(0),Q,atol= 0.1)]\n",
    "Qi[:,np.isclose(Qi.sum(0),Q,atol= 0.1)]\n",
    "idx = np.searchsorted(Q - Qi.sum(0), 0)\n",
    "Q[idx],Qi[:,idx]\n",
    "Qi.shape\n",
    "# Q[np.isclose(Qi.sum(0),Q,atol= 0.1)]"
   ]
  },
  {
   "cell_type": "code",
   "execution_count": null,
   "id": "4e549405",
   "metadata": {
    "hidden": true
   },
   "outputs": [],
   "source": [
    "%timeit np.isclose(Qi.sum(0),Q,atol= 0.1)\n",
    "%timeit np.searchsorted(Q - Qi.sum(0), 0.1)\n"
   ]
  },
  {
   "cell_type": "code",
   "execution_count": null,
   "id": "77d88954",
   "metadata": {
    "hidden": true
   },
   "outputs": [],
   "source": [
    "Qi.sum(0) - Q"
   ]
  },
  {
   "cell_type": "code",
   "execution_count": null,
   "id": "e5fd68c3",
   "metadata": {
    "hidden": true
   },
   "outputs": [],
   "source": [
    "%%timeit\n",
    "G = a * Q**2 + b*Q +c - coef_d_PtoE\n",
    "Qi= np.sqrt(G / A[:,np.newaxis])\n"
   ]
  },
  {
   "cell_type": "code",
   "execution_count": null,
   "id": "d9a58903",
   "metadata": {
    "hidden": true
   },
   "outputs": [],
   "source": [
    "p = np.array(p)"
   ]
  },
  {
   "cell_type": "code",
   "execution_count": null,
   "id": "87dfaa81",
   "metadata": {
    "hidden": true
   },
   "outputs": [],
   "source": [
    "%%timeit\n",
    "Q = 40\n",
    "Qs = []\n",
    "for i in range(40):\n",
    "    G = a * Q**2 + b*Q +c - coef_d_PtoE\n",
    "    Qi= np.sqrt(G / A)\n",
    "    Q = np.sum(Qi)\n",
    "    Qs.append(Q)"
   ]
  },
  {
   "cell_type": "code",
   "execution_count": null,
   "id": "eb6f670d",
   "metadata": {
    "hidden": true
   },
   "outputs": [],
   "source": [
    "\n",
    "Q = 40\n",
    "Qs = []\n",
    "for i in range(40):\n",
    "    G = a * Q**2 + b*Q +c - coef_d_PtoE\n",
    "    Qi= np.sqrt(G / A)\n",
    "    Q = np.sum(Qi)\n",
    "    Qs.append(Q)\n",
    "plt.plot(Qs)\n",
    "Qs[-1]\n",
    "# Qi\n"
   ]
  },
  {
   "cell_type": "code",
   "execution_count": null,
   "id": "d349dd25",
   "metadata": {
    "hidden": true
   },
   "outputs": [],
   "source": [
    "indiv['dist_Connect']\n",
    "A"
   ]
  },
  {
   "cell_type": "code",
   "execution_count": null,
   "id": "540a1963",
   "metadata": {
    "hidden": true
   },
   "outputs": [],
   "source": [
    "pd.Series(indiv)"
   ]
  },
  {
   "cell_type": "markdown",
   "id": "40f2d090",
   "metadata": {
    "heading_collapsed": true,
    "hidden": true
   },
   "source": [
    "## test bus  T"
   ]
  },
  {
   "cell_type": "markdown",
   "id": "01cb417b",
   "metadata": {
    "heading_collapsed": true,
    "hidden": true
   },
   "source": [
    "## test bus connection T"
   ]
  },
  {
   "cell_type": "code",
   "execution_count": 15,
   "id": "69b26a23",
   "metadata": {
    "hidden": true
   },
   "outputs": [
    {
     "name": "stdout",
     "output_type": "stream",
     "text": [
      "0 (0, [0, 1])\n"
     ]
    },
    {
     "data": {
      "text/plain": [
       "['P0', 'E0', 'E1']"
      ]
     },
     "execution_count": 15,
     "metadata": {},
     "output_type": "execute_result"
    },
    {
     "data": {
      "text/html": [
       "<div>\n",
       "<style scoped>\n",
       "    .dataframe tbody tr th:only-of-type {\n",
       "        vertical-align: middle;\n",
       "    }\n",
       "\n",
       "    .dataframe tbody tr th {\n",
       "        vertical-align: top;\n",
       "    }\n",
       "\n",
       "    .dataframe thead th {\n",
       "        text-align: right;\n",
       "    }\n",
       "</style>\n",
       "<table border=\"1\" class=\"dataframe\">\n",
       "  <thead>\n",
       "    <tr style=\"text-align: right;\">\n",
       "      <th></th>\n",
       "      <th>ID</th>\n",
       "      <th>path</th>\n",
       "      <th>dist</th>\n",
       "      <th>duriteType</th>\n",
       "      <th>duriteVal</th>\n",
       "      <th>a</th>\n",
       "      <th>b</th>\n",
       "    </tr>\n",
       "  </thead>\n",
       "  <tbody>\n",
       "    <tr>\n",
       "      <th>5</th>\n",
       "      <td>P0-E0</td>\n",
       "      <td>[[2, 2], [3, 2], [4, 2], [5, 2], [5, 1]]</td>\n",
       "      <td>0.4</td>\n",
       "      <td>4</td>\n",
       "      <td>0.000235</td>\n",
       "      <td>P0</td>\n",
       "      <td>E0</td>\n",
       "    </tr>\n",
       "    <tr>\n",
       "      <th>12</th>\n",
       "      <td>P0-E1</td>\n",
       "      <td>[[2, 4], [3, 4], [4, 4], [4, 3], [4, 2], [5, 2...</td>\n",
       "      <td>0.6</td>\n",
       "      <td>4</td>\n",
       "      <td>0.000235</td>\n",
       "      <td>P0</td>\n",
       "      <td>E1</td>\n",
       "    </tr>\n",
       "    <tr>\n",
       "      <th>28</th>\n",
       "      <td>E1-E0</td>\n",
       "      <td>[[2, 2], [2, 3], [2, 4]]</td>\n",
       "      <td>0.2</td>\n",
       "      <td>4</td>\n",
       "      <td>0.000235</td>\n",
       "      <td>E1</td>\n",
       "      <td>E0</td>\n",
       "    </tr>\n",
       "  </tbody>\n",
       "</table>\n",
       "</div>"
      ],
      "text/plain": [
       "       ID                                               path dist  duriteType  \\\n",
       "5   P0-E0           [[2, 2], [3, 2], [4, 2], [5, 2], [5, 1]]  0.4           4   \n",
       "12  P0-E1  [[2, 4], [3, 4], [4, 4], [4, 3], [4, 2], [5, 2...  0.6           4   \n",
       "28  E1-E0                           [[2, 2], [2, 3], [2, 4]]  0.2           4   \n",
       "\n",
       "    duriteVal   a   b  \n",
       "5    0.000235  P0  E0  \n",
       "12   0.000235  P0  E1  \n",
       "28   0.000235  E1  E0  "
      ]
     },
     "execution_count": 15,
     "metadata": {},
     "output_type": "execute_result"
    },
    {
     "data": {
      "text/plain": [
       "array(['P0', 'E0'], dtype=object)"
      ]
     },
     "execution_count": 15,
     "metadata": {},
     "output_type": "execute_result"
    },
    {
     "data": {
      "text/plain": [
       "'E0'"
      ]
     },
     "execution_count": 15,
     "metadata": {},
     "output_type": "execute_result"
    },
    {
     "data": {
      "text/html": [
       "<div>\n",
       "<style scoped>\n",
       "    .dataframe tbody tr th:only-of-type {\n",
       "        vertical-align: middle;\n",
       "    }\n",
       "\n",
       "    .dataframe tbody tr th {\n",
       "        vertical-align: top;\n",
       "    }\n",
       "\n",
       "    .dataframe thead th {\n",
       "        text-align: right;\n",
       "    }\n",
       "</style>\n",
       "<table border=\"1\" class=\"dataframe\">\n",
       "  <thead>\n",
       "    <tr style=\"text-align: right;\">\n",
       "      <th></th>\n",
       "      <th>ID</th>\n",
       "      <th>path</th>\n",
       "      <th>dist</th>\n",
       "      <th>duriteType</th>\n",
       "      <th>duriteVal</th>\n",
       "      <th>a</th>\n",
       "      <th>b</th>\n",
       "    </tr>\n",
       "  </thead>\n",
       "  <tbody>\n",
       "    <tr>\n",
       "      <th>12</th>\n",
       "      <td>P0-E1</td>\n",
       "      <td>[[2, 4], [3, 4], [4, 4], [4, 3], [4, 2], [5, 2...</td>\n",
       "      <td>0.6</td>\n",
       "      <td>4</td>\n",
       "      <td>0.000235</td>\n",
       "      <td>P0</td>\n",
       "      <td>E1</td>\n",
       "    </tr>\n",
       "  </tbody>\n",
       "</table>\n",
       "</div>"
      ],
      "text/plain": [
       "       ID                                               path dist  duriteType  \\\n",
       "12  P0-E1  [[2, 4], [3, 4], [4, 4], [4, 3], [4, 2], [5, 2...  0.6           4   \n",
       "\n",
       "    duriteVal   a   b  \n",
       "12   0.000235  P0  E1  "
      ]
     },
     "execution_count": 15,
     "metadata": {},
     "output_type": "execute_result"
    },
    {
     "data": {
      "text/plain": [
       "array(['P0', 'E1'], dtype=object)"
      ]
     },
     "execution_count": 15,
     "metadata": {},
     "output_type": "execute_result"
    },
    {
     "data": {
      "text/plain": [
       "'E1'"
      ]
     },
     "execution_count": 15,
     "metadata": {},
     "output_type": "execute_result"
    },
    {
     "data": {
      "text/plain": [
       "['P0', 'E0', 'E1']"
      ]
     },
     "execution_count": 15,
     "metadata": {},
     "output_type": "execute_result"
    },
    {
     "data": {
      "text/plain": [
       "['P0-E0', 'P0-E1']"
      ]
     },
     "execution_count": 15,
     "metadata": {},
     "output_type": "execute_result"
    }
   ],
   "source": [
    "dist_Connect = indiv['dist_Connect']\n",
    "New_dist_Connect = copy.deepcopy(dist_Connect)\n",
    "BusName = copy.deepcopy(indiv['Name'])\n",
    "Pconnect = copy.deepcopy(indiv['Pconnect'])\n",
    "\n",
    "dfx0 = algo.dfline.copy()\n",
    "dfx0['a'] = dfx0.ID.str.split('-').str[0]\n",
    "dfx0['b'] = dfx0.ID.str.split('-').str[1]\n",
    "\n",
    "NameListNew  = []\n",
    "DictMapName = {}\n",
    "BusConnectDict = []\n",
    "\n",
    "for i, (p,Elist) in enumerate(Pconnect.items()): \n",
    "    break\n",
    "# p,Elist = Pconnect.items()  \n",
    "print(i, (p,Elist))\n",
    "# Elist.pop(1)\n",
    "\n",
    "s = 'P{}'.format(p)\n",
    "ElistName = ['E{}'.format(e) for e in Elist]\n",
    "ListMask = [s] + ElistName\n",
    "ListMask\n",
    "mask0 = dfx0.a.isin(ListMask) & dfx0.b.isin(ListMask)\n",
    "dfx = dfx0[mask0].copy()\n",
    "path,dist,lines = [s] ,[], []\n",
    "# pour chaque slot de P commence avec s = Px et avance par iter sur le plus proche E & crop  dfx = dfline \n",
    "# l'astuce c'est que qu'on conserve les lines P-E mais en changeant les valeurs de dist\n",
    "\n",
    "while len(dfx)>0:\n",
    "    dfx\n",
    "    mask = dfx.ID.str.contains(s)\n",
    "    x  = dfx[mask].dist.values.argmin()    \n",
    "    cx = dfx[mask][['a','b']].iloc[x].values\n",
    "    cx\n",
    "    line = dfx[mask].iloc[x].ID\n",
    "    lines.append(line)\n",
    "    NameListNew.append(line)\n",
    "    dist.append(dfx[mask].dist.values.min())    \n",
    "#     dfx = dfx[~mask]\n",
    "    s2 = cx[cx!=s][0]\n",
    "    s2\n",
    "    mask = dfx.ID.str.contains(s2)\n",
    "    dfx = dfx[~mask]\n",
    "#     dfx\n",
    "    path.append(s2)\n",
    "    \n",
    "path\n",
    "lines\n",
    "# distCumsum = np.array(dist).cumsum()\n",
    "# PxConnect = ['{}-{}'.format(path[0],s) for s in path[1:]]\n",
    "# DictMapName.update(dict(zip(PxConnect,lines)))\n",
    "# # print(p,Elist, PxConnect)   \n",
    "# d = dict(zip(PxConnect,distCumsum))\n",
    "# #     BusConnectDict[p].append()\n",
    "# New_dist_Connect.update(d)\n",
    "# print('bus',path[0], p,Elist, PxConnect,path,lines,dist, distCumsum, New_dist_Connect)"
   ]
  },
  {
   "cell_type": "raw",
   "id": "bb61f581",
   "metadata": {
    "hidden": true
   },
   "source": [
    "import networkx as nx\n",
    "tree = nx.random_tree(n=10, seed=1)\n",
    "nx.write_network_text(tree, sources=[0])"
   ]
  },
  {
   "cell_type": "code",
   "execution_count": 17,
   "id": "028c6f29",
   "metadata": {
    "hidden": true
   },
   "outputs": [
    {
     "data": {
      "text/plain": [
       "['E0-C0', 'E0-C2', 'E1-C1', 'E1-C3', 'E2-C4', 'P0-E0', 'E1-E0', 'P0-E2']"
      ]
     },
     "execution_count": 17,
     "metadata": {},
     "output_type": "execute_result"
    }
   ],
   "source": [
    "indiv['BusName']"
   ]
  },
  {
   "cell_type": "code",
   "execution_count": 16,
   "id": "2eeba29d",
   "metadata": {
    "hidden": true
   },
   "outputs": [
    {
     "name": "stdout",
     "output_type": "stream",
     "text": [
      "(10, 7)\n"
     ]
    },
    {
     "data": {
      "image/png": "[encoded data removed]",
      "text/plain": [
       "<Figure size 500x500 with 1 Axes>"
      ]
     },
     "metadata": {},
     "output_type": "display_data"
    }
   ],
   "source": [
    "# Plot\n",
    "row = pd.Series(indiv)\n",
    "ElemsList = ['Clist','Elist','Plist']\n",
    "Elems = ['C','E','P']\n",
    "SelectSlot = []\n",
    "List_EtoC = row.List_EtoC\n",
    "List_PtoE = row.List_PtoE\n",
    "for n in range(3):\n",
    "    SelectSlot+= ['{}{}'.format(Elems[n],i) for i in row[ElemsList[n]]]\n",
    "SelectLine = row.Name\n",
    "if row.Option == 'Bus' :   SelectLine = ['E0-C0', 'E1-C1', 'E2-C2', 'P0-E0', 'E1-E0', 'E2-E0']                \n",
    "fig = new_plot(algo, SelectLine, SelectSlot)\n",
    "fig.set_size_inches(5,5)"
   ]
  },
  {
   "cell_type": "code",
   "execution_count": null,
   "id": "e49af0e9",
   "metadata": {
    "hidden": true
   },
   "outputs": [],
   "source": []
  }
 ],
 "metadata": {
  "kernelspec": {
   "display_name": "Python 3 (ipykernel)",
   "language": "python",
   "name": "python3"
  },
  "language_info": {
   "codemirror_mode": {
    "name": "ipython",
    "version": 3
   },
   "file_extension": ".py",
   "mimetype": "text/x-python",
   "name": "python",
   "nbconvert_exporter": "python",
   "pygments_lexer": "ipython3",
   "version": "3.10.10"
  },
  "toc": {
   "base_numbering": 1,
   "nav_menu": {},
   "number_sections": true,
   "sideBar": true,
   "skip_h1_title": false,
   "title_cell": "Table of Contents",
   "title_sidebar": "Contents",
   "toc_cell": false,
   "toc_position": {
    "height": "calc(100% - 180px)",
    "left": "10px",
    "top": "150px",
    "width": "165px"
   },
   "toc_section_display": true,
   "toc_window_display": true
  },
  "varInspector": {
   "cols": {
    "lenName": 16,
    "lenType": 16,
    "lenVar": 40
   },
   "kernels_config": {
    "python": {
     "delete_cmd_postfix": "",
     "delete_cmd_prefix": "del ",
     "library": "var_list.py",
     "varRefreshCmd": "print(var_dic_list())"
    },
    "r": {
     "delete_cmd_postfix": ") ",
     "delete_cmd_prefix": "rm(",
     "library": "var_list.r",
     "varRefreshCmd": "cat(var_dic_list()) "
    }
   },
   "position": {
    "height": "886.844px",
    "left": "1523px",
    "right": "20px",
    "top": "28px",
    "width": "370px"
   },
   "types_to_exclude": [
    "module",
    "function",
    "builtin_function_or_method",
    "instance",
    "_Feature"
   ],
   "window_display": false
  }
 },
 "nbformat": 4,
 "nbformat_minor": 5
}
