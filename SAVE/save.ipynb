{
 "cells": [
  {
   "cell_type": "markdown",
   "id": "9872d4b8",
   "metadata": {
    "heading_collapsed": true
   },
   "source": [
    "# Import"
   ]
  },
  {
   "cell_type": "raw",
   "id": "0ec7edb2",
   "metadata": {
    "hidden": true
   },
   "source": [
    "L = list(range(1000000))\n",
    "dfx = pd.DataFrame(L)\n",
    "%%timeit\n",
    "L[100]\n",
    "63.1 ns ± 1.32 ns per loop (mean ± std. dev. of 7 runs, 10000000 loops each)\n",
    "%%timeit\n",
    "dfx.iloc[100]\n",
    "83.3 µs ± 2.19 µs per loop (mean ± std. dev. of 7 runs, 10000 loops each)"
   ]
  },
  {
   "cell_type": "code",
   "execution_count": null,
   "id": "4f5ac6ee",
   "metadata": {
    "hidden": true
   },
   "outputs": [],
   "source": [
    "%load_ext autoreload\n",
    "%autoreload 2\n",
    "\n",
    "import importlib\n",
    "import numpy as np\n",
    "import math\n",
    "import itertools \n",
    "import pandas as pd\n",
    "import numpy as np\n",
    "import io\n",
    "import msoffcrypto\n",
    "from sklearn.metrics import r2_score\n",
    "import openpyxl\n",
    "import plotly.express as px\n",
    "from IPython.core.interactiveshell import InteractiveShell\n",
    "InteractiveShell.ast_node_interactivity = \"all\"\n",
    "import plotly\n",
    "import matplotlib.pyplot as plt\n",
    "import plotly.graph_objects as go\n",
    "import streamlit as st\n",
    "import json\n",
    "from math import factorial as fact\n",
    "from IPython.display import Markdown, display\n",
    "import networkx as nx\n",
    "import requests\n",
    "import toml\n",
    "import sys, os\n",
    "import collections\n",
    "from types import SimpleNamespace\n",
    "import copy\n",
    "\n",
    "%matplotlib inline \n",
    "%config Completer.use_jedi = False\n",
    "\n",
    "from utils import *"
   ]
  },
  {
   "cell_type": "markdown",
   "id": "e925f0d8",
   "metadata": {},
   "source": [
    "# Test PF"
   ]
  },
  {
   "cell_type": "markdown",
   "id": "52c726c0",
   "metadata": {
    "heading_collapsed": true
   },
   "source": [
    "## func"
   ]
  },
  {
   "cell_type": "code",
   "execution_count": null,
   "id": "0d42fb62",
   "metadata": {
    "hidden": true
   },
   "outputs": [],
   "source": [
    "def Path1(A,start): \n",
    "    N = len(A)\n",
    "    v0 = np.array([-1,1,-N,N])\n",
    "#     v0 = np.array([-1,1,-N,N, -N-1, -N+1,N+1,N-1])\n",
    "    Dim = len(v0)\n",
    "    e = 2\n",
    "    A[start] = e\n",
    "    a = A.reshape(-1)\n",
    "    v = np.where(a == e)  \n",
    "\n",
    "    while len(v) > 0 :\n",
    "        v = np.tile(v, (Dim, 1)).T + v0\n",
    "        v = v[np.where(a[v]==0)]\n",
    "        v = np.unique(v)        \n",
    "        e+=1\n",
    "        a[v]=e\n",
    "    return a.reshape((N,N))\n",
    "\n",
    "def Path2(A,start,goal):\n",
    "    N = len(A)\n",
    "    v0 = np.array([-1,1,-N,N])\n",
    "#     v0 = np.array([-1,1,-N,N, -N-1, -N+1,N+1,N-1])\n",
    "    Dim = len(v0)\n",
    "    e1,e2  = A[start] , A[goal]\n",
    "    a = A.reshape(-1)\n",
    "    v = goal[1] + goal[0]* N\n",
    "    L  = [goal]\n",
    "    while e2 > 2:\n",
    "        v = v + v0\n",
    "        v[v > len(a)] = len(a)-1\n",
    "        v = v[np.where((a[v] < e2) & (a[v] >= 2))]\n",
    "        idx = a[v].argmin()\n",
    "        v = v[idx]\n",
    "        e2 = a[v]\n",
    "        pos = (int(np.ceil(v/N)-1),  v%N)\n",
    "        L.insert(0,pos)\n",
    "    return L"
   ]
  },
  {
   "cell_type": "markdown",
   "id": "987919f2",
   "metadata": {
    "heading_collapsed": true
   },
   "source": [
    "## Run"
   ]
  },
  {
   "cell_type": "code",
   "execution_count": null,
   "id": "324c9c15",
   "metadata": {
    "hidden": true
   },
   "outputs": [],
   "source": [
    "file = 'VALEO_full.tmj'\n",
    "algo = load_data_brut(file)\n",
    "# df = indiv_init(algo, 200)\n",
    "# df = df.drop_duplicates(subset='Name_txt')\n",
    "# df = df.sort_values('dist').reset_index(drop = True)"
   ]
  },
  {
   "cell_type": "code",
   "execution_count": null,
   "id": "a093de20",
   "metadata": {
    "hidden": true
   },
   "outputs": [],
   "source": [
    "A0"
   ]
  },
  {
   "cell_type": "code",
   "execution_count": null,
   "id": "7f51220d",
   "metadata": {
    "hidden": true
   },
   "outputs": [],
   "source": [
    "with open(file, 'r') as f:\n",
    "      data = json.load(f)\n",
    "        \n",
    "dfline  = pd.DataFrame(data['layers'][2]['objects']).drop(columns=['rotation','width','name','height','visible','id']).rename(columns = {'class' : 'Class'})        \n",
    "dfline"
   ]
  },
  {
   "cell_type": "code",
   "execution_count": null,
   "id": "a9979a36",
   "metadata": {
    "hidden": true
   },
   "outputs": [],
   "source": [
    "algo.dfline"
   ]
  },
  {
   "cell_type": "code",
   "execution_count": null,
   "id": "d84aff2f",
   "metadata": {
    "hidden": true
   },
   "outputs": [],
   "source": [
    "dfslot = algo.dfslot\n",
    "dfslot"
   ]
  },
  {
   "cell_type": "code",
   "execution_count": null,
   "id": "6e054931",
   "metadata": {
    "hidden": true
   },
   "outputs": [],
   "source": [
    "algo.Comb"
   ]
  },
  {
   "cell_type": "code",
   "execution_count": null,
   "id": "361c75ec",
   "metadata": {
    "hidden": true
   },
   "outputs": [],
   "source": [
    "DictPos = {}\n",
    "for idx , row in dfslot.iterrows():\n",
    "    x = row.x\n",
    "    y = row.y \n",
    "    ID = row.ID\n",
    "    Class = row.Class\n",
    "    DictPos[ID] = (y,x)\n",
    "DictPos      "
   ]
  },
  {
   "cell_type": "code",
   "execution_count": null,
   "id": "e743f4ce",
   "metadata": {
    "hidden": true
   },
   "outputs": [],
   "source": [
    "A0 = algo.A0.copy()+1\n",
    "A0[A0 == 2] = 0\n",
    "for idx, row in algo.dfslot.iterrows():        A0[row.y, row.x] = row.Color+5\n",
    "Ax = np.ones((10,10))\n",
    "Ax[:A0.shape[0],:A0.shape[1]] = A0"
   ]
  },
  {
   "cell_type": "code",
   "execution_count": null,
   "id": "303b71d8",
   "metadata": {
    "hidden": true
   },
   "outputs": [],
   "source": [
    "Comb = dfslot.groupby('Class').Name.unique().apply(list).apply(sorted).to_dict()\n",
    "Comb['C'] + Comb['P']"
   ]
  },
  {
   "cell_type": "code",
   "execution_count": null,
   "id": "1f771141",
   "metadata": {
    "hidden": true
   },
   "outputs": [],
   "source": [
    "%%time\n",
    "e = 'E0'\n",
    "Path = []\n",
    "# fig, ax = plt.subplots(figsize = (4,4))\n",
    "# f = ax.imshow(Ax)\n",
    "d = {} \n",
    "for begin in ['E0','E1','E2']:\n",
    "    start = DictPos[begin]\n",
    "    A = Ax.copy()\n",
    "    A1 = Path1(A,start)\n",
    "    for end in ['C0','C1','C2','C3','P0','P1']: \n",
    "\n",
    "        goal = DictPos[end]\n",
    "         \n",
    "        \n",
    "        L = Path2(A1.copy() ,start,  goal)\n",
    "        L = np.array(L)\n",
    "        Path.append(L)\n",
    "\n",
    "        dist = np.abs(np.diff(L.T)).sum()\n",
    "        \n",
    "        if end[0] == 'C' :            ID = begin + '-' + end\n",
    "        else : ID = end + '-' + begin\n",
    "#         print(begin,start, end , goal)\n",
    "        d[ID] = dist\n"
   ]
  },
  {
   "cell_type": "code",
   "execution_count": null,
   "id": "3cde6564",
   "metadata": {
    "hidden": true
   },
   "outputs": [],
   "source": [
    "np.linspace(-0.4,0.4,18)"
   ]
  },
  {
   "cell_type": "code",
   "execution_count": null,
   "id": "2871aea7",
   "metadata": {
    "hidden": true
   },
   "outputs": [],
   "source": [
    "len(Path)\n",
    "fig, ax = plt.subplots(figsize = (8,8))\n",
    "masked = np.ma.masked_where(A0 <= 1, A0)\n",
    "# f = ax.imshow(A0)\n",
    "offset = np.linspace(-0.3,0.3,18)\n",
    "for i, p in enumerate(Path):\n",
    "        n = offset[i]\n",
    "#         n = 0\n",
    "        \n",
    "        f = ax.plot(p[:,1]+n,p[:,0]+n,'w', linewidth=1)\n",
    "f = ax.imshow(masked,alpha=1,cmap = 'Reds')\n",
    "f = ax.imshow(A0)"
   ]
  },
  {
   "cell_type": "raw",
   "id": "78158b5b",
   "metadata": {
    "hidden": true
   },
   "source": [
    "fig, ax = plt.subplots(figsize = (8,8))\n",
    "f = ax.imshow(A0)\n",
    "for i, p in enumerate(Path):\n",
    "        offset = -0.3 + 0.05*i\n",
    "#         offset = 0\n",
    "        \n",
    "        f = ax.plot(p[:,1]+offset,p[:,0]+offset,'w', linewidth=1)\n",
    "\n",
    "f = ax.imshow(A0[A0>1])"
   ]
  },
  {
   "cell_type": "raw",
   "id": "504785a2",
   "metadata": {
    "hidden": true
   },
   "source": [
    "fig, ax = plt.subplots(figsize = (4,4))\n",
    "f = ax.imshow(Ax)\n",
    "y,x = start\n",
    "f = ax.scatter(x,y, s=70, c='red', marker='x') \n",
    "y,x = goal\n",
    "f = ax.scatter(x, y, s=70, c='red', marker='o')\n",
    "f = plt.scatter(L[:,1], L[:,0], s=10,  lw=1, marker='o', edgecolors='k', facecolors='w')"
   ]
  },
  {
   "cell_type": "code",
   "execution_count": null,
   "id": "7a2a6aae",
   "metadata": {
    "hidden": true
   },
   "outputs": [],
   "source": [
    "dfline = algo.dfline.copy()\n",
    "dfline['distPF'] = dfline.ID.map(d)-0.5\n",
    "dfline['distRatio'] = (dfline.distPF / dfline.dist).round(1)\n",
    "dfline[['dist','distPF']].corr()\n",
    "dfline"
   ]
  },
  {
   "cell_type": "markdown",
   "id": "2e5adad6",
   "metadata": {
    "heading_collapsed": true
   },
   "source": [
    "## Save"
   ]
  },
  {
   "cell_type": "raw",
   "id": "b8cd3ecc",
   "metadata": {
    "hidden": true
   },
   "source": [
    "# A = np.kron(A0, np.ones((16,16), dtype=int))\n",
    "fig, ax = plt.subplots(figsize = (4,4))\n",
    "ax.imshow(Ax)\n",
    "y,x = (9, 3)\n",
    "f = ax.scatter(x, y, s=70, c='red', marker='o')"
   ]
  },
  {
   "cell_type": "code",
   "execution_count": null,
   "id": "331665dc",
   "metadata": {
    "hidden": true
   },
   "outputs": [],
   "source": [
    "#         y,x = start\n",
    "#         f = ax.scatter(x,y, s=70, c='red', marker='x') \n",
    "#         y,x = goal\n",
    "#         f = ax.scatter(x, y, s=70, c='red', marker='o')\n",
    "#         f = plt.scatter(L[:,1], L[:,0], s=10,  lw=1, marker='o', edgecolors='k', facecolors='w')"
   ]
  },
  {
   "cell_type": "code",
   "execution_count": null,
   "id": "6826f81d",
   "metadata": {
    "hidden": true
   },
   "outputs": [],
   "source": [
    "A = Ax.copy()\n",
    "start = (2, 7)\n",
    "goal = (5,4)\n",
    "A1 = Path1(A,start)\n",
    "fig, ax = plt.subplots(figsize = (4,4))\n",
    "ax.imshow(A1)\n",
    "y,x = start\n",
    "ax.scatter(x,y, s=70, c='red', marker='x') \n",
    "y,x = goal\n",
    "ax.scatter(x, y, s=70, c='red', marker='x') \n",
    "\n",
    "\n",
    "L = Path2(A1.copy() ,start,  goal)\n",
    "L = np.array(L)\n",
    "\n",
    "print(L)\n",
    "f = plt.scatter(L[:,1], L[:,0], s=10,  lw=1, marker='o', edgecolors='k', facecolors='w')\n",
    "\n",
    "# for x,y in L[::-1]:\n",
    "#     ax.scatter(y,x, s=40, c='white', marker='o')\n",
    "#     break"
   ]
  },
  {
   "cell_type": "raw",
   "id": "0c28f5aa",
   "metadata": {
    "hidden": true
   },
   "source": [
    "%%time\n",
    "e = 'E0'\n",
    "Path = []\n",
    "# fig, ax = plt.subplots(figsize = (4,4))\n",
    "# f = ax.imshow(Ax)\n",
    "Results = {} \n",
    "for e in ['E0','E1','E2']:\n",
    "    for c in ['C0','C1','C2','C3']: \n",
    "        start = DictPos[e]\n",
    "        goal = DictPos[c]\n",
    "         \n",
    "        A = Ax.copy()\n",
    "        A1 = Path1(A,start)\n",
    "        L = Path2(A1.copy() ,start,  goal)\n",
    "        L = np.array(L)\n",
    "        Path.append(L)\n",
    "#         y,x = start\n",
    "#         f = ax.scatter(x,y, s=70, c='red', marker='x') \n",
    "#         y,x = goal\n",
    "#         f = ax.scatter(x, y, s=70, c='red', marker='o')\n",
    "#         f = plt.scatter(L[:,1], L[:,0], s=10,  lw=1, marker='o', edgecolors='k', facecolors='w')\n",
    "        dist = np.abs(np.diff(L.T)).sum()\n",
    "        ID = e + '-' + c\n",
    "        print(e,start, c , goal)\n",
    "        Results[ID] = dist\n"
   ]
  },
  {
   "cell_type": "code",
   "execution_count": null,
   "id": "825314fe",
   "metadata": {
    "hidden": true
   },
   "outputs": [],
   "source": [
    "A1\n",
    "goal"
   ]
  },
  {
   "cell_type": "code",
   "execution_count": null,
   "id": "1cc03ee4",
   "metadata": {
    "hidden": true
   },
   "outputs": [],
   "source": [
    "pos = np.array([(1,0),(0,1),(-1,0),(0,-1)])\n",
    "pos\n",
    "index_tuple = pos + np.array(goal)\n",
    "index_tuple = tuple(zip(*index_tuple))\n",
    "A1[index_tuple]\n"
   ]
  },
  {
   "cell_type": "code",
   "execution_count": null,
   "id": "320dff9c",
   "metadata": {
    "hidden": true
   },
   "outputs": [],
   "source": [
    "    N = len(A)\n",
    "    v0 = np.array([-1,1,-N,N])\n",
    "#     v0 = np.array([-1,1,-N,N, -N-1, -N+1,N+1,N-1])\n",
    "    Dim = len(v0)\n",
    "    e1,e2  = A[start] , A[goal]\n",
    "    a = A.reshape(-1)\n",
    "    v = goal[1] + goal[0]* N\n",
    "    L  = [goal]\n",
    "    while e2 > 2:\n",
    "        v = v + v0\n",
    "        v = v[np.where((a[v] < e2) & (a[v] >= 2))]\n",
    "        print(v)\n",
    "        a[v] = e2\n",
    "        e2 -= 1\n",
    "        pos = (int(np.ceil(v/N)-1),  v%N)\n",
    "        L.insert(0,pos)\n",
    "    return L"
   ]
  },
  {
   "cell_type": "code",
   "execution_count": null,
   "id": "2b09b720",
   "metadata": {
    "hidden": true
   },
   "outputs": [],
   "source": [
    "A = A1.copy()\n",
    "N = len(A)\n",
    "v0 = np.array([-1,1,-N,N])\n",
    "#     v0 = np.array([-1,1,-N,N, -N-1, -N+1,N+1,N-1])\n",
    "Dim = len(v0)\n",
    "e1,e2  = A[start] , A[goal]\n",
    "a = A.reshape(-1)\n",
    "v = goal[1] + goal[0]* N\n",
    "L  = [goal]\n",
    "while e2 > 2:\n",
    "    v = v + v0\n",
    "    v = v[np.where((a[v] < e2) & (a[v] >= 2))]\n",
    "    v\n",
    "    idx = a[v].argmin()\n",
    "    v = v[idx]\n",
    "\n",
    "    e2 = a[v]\n",
    "    idx ,v, e2\n",
    "\n",
    "\n",
    "#     a[v] = e2\n",
    "#     e2 = Max\n",
    "    pos = (int(np.ceil(v/N)-1),  v%N)\n",
    "    L.insert(0,pos)"
   ]
  },
  {
   "cell_type": "markdown",
   "id": "2ce868e6",
   "metadata": {
    "heading_collapsed": true
   },
   "source": [
    "# stat indiv by name "
   ]
  },
  {
   "cell_type": "code",
   "execution_count": null,
   "id": "cf873280",
   "metadata": {
    "hidden": true
   },
   "outputs": [],
   "source": [
    "file = 'VALEO_full.tmj'\n",
    "algo = load_data_brut(file)"
   ]
  },
  {
   "cell_type": "markdown",
   "id": "603fbe77",
   "metadata": {
    "heading_collapsed": true,
    "hidden": true
   },
   "source": [
    "## Ancien"
   ]
  },
  {
   "cell_type": "code",
   "execution_count": null,
   "id": "64f86c14",
   "metadata": {
    "hidden": true
   },
   "outputs": [],
   "source": [
    "def Indiv_reverse(Name,algo):\n",
    "    NameList = Name.split(',')\n",
    "    Clist = algo.Clist\n",
    "    CtoE = {}\n",
    "    EtoP = {}\n",
    "    for n in NameList:\n",
    "        if n[0] == 'E':\n",
    "            c = int(n[-1])\n",
    "            e = int(n[1])\n",
    "            CtoE[c] = e\n",
    "\n",
    "        if n[0] == 'P':\n",
    "            e = int(n[-1])\n",
    "            p = int(n[1])\n",
    "            EtoP[e] = p\n",
    "            \n",
    "    d = dict(sorted(CtoE.items()))\n",
    "    Clist = list(d.keys())\n",
    "    CtoE = list(d.values())\n",
    "    d = dict(sorted(EtoP.items()))\n",
    "    EtoP = list(d.values())\n",
    "    indiv = indiv_create(algo, row = None, NewCtoE = CtoE, NewPtoE = EtoP)\n",
    "    return indiv"
   ]
  },
  {
   "cell_type": "raw",
   "id": "fd09357a",
   "metadata": {
    "hidden": true
   },
   "source": [
    "indiv"
   ]
  },
  {
   "cell_type": "code",
   "execution_count": null,
   "id": "fb42ba81",
   "metadata": {
    "hidden": true
   },
   "outputs": [],
   "source": [
    "dfs = algo.dfslot\n",
    "dfline = algo.dfline\n",
    "ElemsList = ['Clist','Elist','Plist']\n",
    "Elems = ['C','E','P']\n",
    "IDSelects = []\n",
    "List_EtoC = indiv['List_EtoC']\n",
    "List_PtoE = indiv['List_PtoE']\n",
    "for n in range(3):\n",
    "    IDSelects+= ['{}{}'.format(Elems[n],i) for i in indiv[ElemsList[n]]]\n",
    "\n",
    "dflineSelect = dfline[dfline.ID.isin(indiv[\"Name\"])].copy()\n",
    "dfsSelect    = dfs[dfs.ID.isin(IDSelects)].copy()\n",
    "f = plot_(algo,dflineSelect, dfsSelect, '') "
   ]
  },
  {
   "cell_type": "code",
   "execution_count": null,
   "id": "c352ecae",
   "metadata": {
    "hidden": true
   },
   "outputs": [],
   "source": [
    "df = pd.read_excel('test.xlsx', sheet_name= 'Sheet2', header=0).set_index('Case').T\n",
    "df['Group Capteur'] = df['Group Capteur'].fillna('').str.split(' ')\n",
    "df"
   ]
  },
  {
   "cell_type": "code",
   "execution_count": null,
   "id": "15cb2f81",
   "metadata": {
    "hidden": true
   },
   "outputs": [],
   "source": [
    "Case = 3 #sheet2 ou sheet3\n",
    "Names = ['E0-C1,E0-C3,E1-C0,E1-C2,P0-E0,P1-E1',\n",
    "         'E1-C0,E1-C1,E1-C2,E1-C3,P1-E1']\n",
    "Name = Names[Case-2]\n",
    "df = pd.read_excel('test.xlsx', sheet_name= 'Sheet{}'.format(Case), header=0).set_index('Case').T\n",
    "df['Group Capteur'] = df['Group Capteur'].fillna('').str.split(' ')\n",
    "data = {}\n",
    "\n",
    "for idx , row in df.iterrows():\n",
    "\n",
    "    Group = row['Group Capteur']\n",
    "    Group = [int(i)  for i in Group] if len(Group) > 1 else []\n",
    "    \n",
    "    Clist = algo.Clist\n",
    "    Pompe = 'Pa' if row.pompe == 1 else 'Pc'\n",
    "    algo.Pompes  = [Pompe] * len(algo.Comb['P'])\n",
    "    algo.Pvals =  [algo.DataCategorie['Pompe']['Values'][Pompe][i] for i in ['a','b','c']]\n",
    "    ID = \"Case{}_Ptype{}_Strat{}\".format(row.name, row.pompe, row.Strat)\n",
    "    Nozzles = row[['C0','C1','C2','C3']].str.lower().tolist()\n",
    "    algo.Nozzles = Nozzles\n",
    "    Nvals   = [algo.DataCategorie['Nozzle']['Values'][n]['a'] for n in Nozzles]\n",
    "    algo.Nvals = dict(zip(Clist, Nvals))\n",
    "    \n",
    "    algo.Group = Group    \n",
    "    \n",
    "    print(idx,Pompe,Nozzles, Group)\n",
    "    \n",
    "    indiv = Indiv_reverse(Name,algo)\n",
    "    col = ['Pression debit C0','Pression debit C1','Pression debit C2','Pression debit C3']\n",
    "\n",
    "    Pcalc , Dcalc = [] , []\n",
    "    for c in col : \n",
    "        v = row[c].replace(\"[\",'').replace(\"]\",'').replace(\" \",'').split(',')\n",
    "        Pcalc.append(v[0])\n",
    "        Dcalc.append(v[1])\n",
    "        \n",
    "    data[idx] = {\n",
    "#         'ID' : ID ,\n",
    "#         'Nozzles' : Nozzles,\n",
    "        'PressionList' :  indiv['PressionList'],\n",
    "        'Pcalc' : Pcalc,\n",
    "        'DebitList' : indiv['DebitList'],\n",
    "        'Dcalc' : Dcalc,\n",
    "        'Debit' : indiv['Debit'],\n",
    "        'debitc': row['Debit total'],\n",
    "        'Group' : Group,\n",
    "    }    "
   ]
  },
  {
   "cell_type": "code",
   "execution_count": null,
   "id": "5b5f86ac",
   "metadata": {
    "hidden": true
   },
   "outputs": [],
   "source": [
    "Name\n",
    "pd.DataFrame(data).T"
   ]
  },
  {
   "cell_type": "code",
   "execution_count": null,
   "id": "d993dac8",
   "metadata": {
    "hidden": true
   },
   "outputs": [],
   "source": [
    "Name\n",
    "pd.DataFrame(data).T"
   ]
  },
  {
   "cell_type": "code",
   "execution_count": null,
   "id": "e0fcd697",
   "metadata": {
    "hidden": true
   },
   "outputs": [],
   "source": [
    "Name\n",
    "pd.DataFrame(data).T"
   ]
  },
  {
   "cell_type": "markdown",
   "id": "ac61bb80",
   "metadata": {
    "hidden": true
   },
   "source": [
    "## New import data test"
   ]
  },
  {
   "cell_type": "code",
   "execution_count": null,
   "id": "1f19aaeb",
   "metadata": {
    "hidden": true
   },
   "outputs": [],
   "source": [
    "Case = 3 #sheet2 ou sheet3\n",
    "Names = ['E0-C1,E0-C3,E1-C0,E1-C2,P0-E0,P1-E1',\n",
    "         'E1-C0,E1-C1,E1-C2,E1-C3,P1-E1']\n",
    "Name = Names[Case-2]\n",
    "df = pd.read_excel('test.xlsx', sheet_name= 'Sheet{}'.format(Case), header=0).set_index('Case').T\n",
    "df['Group Capteur'] = df['Group Capteur'].fillna('').str.split(' ')\n",
    "data = {}"
   ]
  },
  {
   "cell_type": "code",
   "execution_count": null,
   "id": "6bbe150b",
   "metadata": {
    "hidden": true
   },
   "outputs": [],
   "source": [
    "df = pd.read_excel('test.xlsx', sheet_name= 'Sheet{}'.format(5), header=0).set_index('case').T\n",
    "df"
   ]
  },
  {
   "cell_type": "code",
   "execution_count": null,
   "id": "7ebf8e2c",
   "metadata": {
    "hidden": true
   },
   "outputs": [],
   "source": [
    "df.group.str.replace(' ','').str.split(',').iloc[2]"
   ]
  },
  {
   "cell_type": "code",
   "execution_count": null,
   "id": "0d27891f",
   "metadata": {
    "hidden": true
   },
   "outputs": [],
   "source": [
    "df.group.str.replace(' ','').iloc[2]"
   ]
  },
  {
   "cell_type": "markdown",
   "id": "00b56694",
   "metadata": {
    "heading_collapsed": true
   },
   "source": [
    "# TEST"
   ]
  },
  {
   "cell_type": "code",
   "execution_count": null,
   "id": "abdd622c",
   "metadata": {
    "hidden": true
   },
   "outputs": [],
   "source": [
    "file = 'VALEO_full.tmj'\n",
    "select= ['E2','C0']\n",
    "algo = load_data_brut(file, select)\n",
    "df = indiv_init(algo, 50).sort_values(algo.fitness).reset_index(drop = True)"
   ]
  },
  {
   "cell_type": "code",
   "execution_count": null,
   "id": "70976ac9",
   "metadata": {
    "hidden": true
   },
   "outputs": [],
   "source": [
    "df.iloc[0]"
   ]
  },
  {
   "cell_type": "code",
   "execution_count": null,
   "id": "3f672fbb",
   "metadata": {
    "hidden": true
   },
   "outputs": [],
   "source": [
    "indiv = algo.indivs[3]\n",
    "indiv"
   ]
  },
  {
   "cell_type": "code",
   "execution_count": null,
   "id": "677803c4",
   "metadata": {
    "hidden": true
   },
   "outputs": [],
   "source": [
    "Groups = [1,3]\n",
    "Econnect = indiv['Econnect']\n",
    "\n",
    "Cond = False\n",
    "for i, (e,EClist) in enumerate(Econnect.items()):\n",
    "    Cond+= np.isin(Groups,  EClist).all()\n",
    "indiv['Group'] = Cond\n"
   ]
  },
  {
   "cell_type": "code",
   "execution_count": null,
   "id": "3c6b747f",
   "metadata": {
    "hidden": true
   },
   "outputs": [],
   "source": [
    "np.isin([],  [1,2]).all()"
   ]
  },
  {
   "cell_type": "code",
   "execution_count": null,
   "id": "274e0e63",
   "metadata": {
    "hidden": true
   },
   "outputs": [],
   "source": [
    "L = []\n"
   ]
  },
  {
   "cell_type": "code",
   "execution_count": null,
   "id": "f4b72d53",
   "metadata": {
    "hidden": true
   },
   "outputs": [],
   "source": [
    "\n",
    "\n",
    "Group = [1,2]\n",
    "D = algo.Comb    \n",
    "Clist = D['C']\n",
    "Econnect = indiv['Econnect']\n",
    "Pconnect = indiv['Pconnect']\n",
    "EtoP = indiv['EtoP']\n",
    "Pression = []\n",
    "Debit = []\n",
    "# Data = {}\n",
    "Pression_C = []\n",
    "# on loop sur chaque EV pour connect to C et faire calcul Pt Qt coté pompe et Pi Qi coté Capteur\n",
    "Cpression = {}\n",
    "grouped = False\n",
    "for i, (e,EClist) in enumerate(Econnect.items()):\n",
    "    p = EtoP[i]\n",
    "    name = 'P{}-E{}'.format(p,e)\n",
    "    VerifGroup = np.isin(Groups,  EClist)\n",
    "    EClistTotal = [EClist]\n",
    "    if VerifGroup.all() & (len(Group) > 0):\n",
    "        EClistTotal = [Group, [i for i in EClist if i not in Group]]          \n",
    "        grouped = True\n",
    "    for i,  EClist in enumerate(EClistTotal):\n",
    "        if i >0 : grouped = False\n",
    "        d_EtoC_list = np.array([algo.dist['E{}-C{}'.format(e,c)] for c in EClist])\n",
    "        print(EClistTotal)\n",
    "        d_PtoE = algo.dist['P{}-E{}'.format(p,e)]\n",
    "        res = debit(algo, d_EtoC_list,d_PtoE, EClist, grouped)\n",
    "        # Data[name] = res        \n",
    "        # Pression = Pression + list(res['Pi'])\n",
    "        Debit = Debit + list(res['Qi'])\n",
    "        Pi = list(res['Pi'])\n",
    "        PressionConnect = dict(zip(EClist, Pi))\n",
    "        Cpression.update(PressionConnect)\n",
    "        # print(dc,dp,Clist,list(res['Pi']))\n",
    "        Pression_C = Pression_C + [PressionConnect]\n",
    "        PressionConnect\n",
    "Cpression = [Cpression[i] for i in D['C']]\n",
    "SumDebit = round(sum(Debit),1)\n",
    "# keys = ['info','Data','Pression','Debit','SumDebit']\n",
    "# vals = [info, Data,Pression, Debit, SumDebit] \n",
    "\n",
    "keys = ['Pression','Debit','SumDebit']\n",
    "vals = [Cpression, Debit, SumDebit] \n",
    "dict(zip(keys,vals))"
   ]
  },
  {
   "cell_type": "code",
   "execution_count": null,
   "id": "5ae05a5d",
   "metadata": {
    "hidden": true
   },
   "outputs": [],
   "source": [
    "[i  for i in EClist if i not in Group]"
   ]
  },
  {
   "cell_type": "code",
   "execution_count": null,
   "id": "51eb1e38",
   "metadata": {
    "hidden": true
   },
   "outputs": [],
   "source": [
    "np.isin([0,1], [[0,1,2],[3]])"
   ]
  },
  {
   "cell_type": "code",
   "execution_count": null,
   "id": "d1e02ec0",
   "metadata": {
    "hidden": true
   },
   "outputs": [],
   "source": [
    "g = [0,1]\n",
    "for e\n"
   ]
  },
  {
   "cell_type": "code",
   "execution_count": null,
   "id": "3441e750",
   "metadata": {
    "hidden": true
   },
   "outputs": [],
   "source": [
    "algo.DataCategorie"
   ]
  },
  {
   "cell_type": "code",
   "execution_count": null,
   "id": "7125c10e",
   "metadata": {
    "hidden": true
   },
   "outputs": [],
   "source": [
    "enumerate"
   ]
  },
  {
   "cell_type": "code",
   "execution_count": null,
   "id": "eccadc8a",
   "metadata": {
    "hidden": true
   },
   "outputs": [],
   "source": [
    "for Categorie , v in algo.DataCategorie.items():\n",
    "    v['Values'].keys()\n"
   ]
  },
  {
   "cell_type": "code",
   "execution_count": null,
   "id": "246703a0",
   "metadata": {
    "hidden": true
   },
   "outputs": [],
   "source": [
    "indiv = indiv_create(algo)  \n",
    "indiv"
   ]
  },
  {
   "cell_type": "markdown",
   "id": "af27b045",
   "metadata": {
    "heading_collapsed": true
   },
   "source": [
    "# formule "
   ]
  },
  {
   "cell_type": "code",
   "execution_count": null,
   "id": "661c6fdf",
   "metadata": {
    "hidden": true
   },
   "outputs": [],
   "source": [
    "def debit(Dict_dist, group = True):\n",
    "    d_EtoC = Dict_dist['EtoC']\n",
    "    d_PtoE = Dict_dist['PtoE']\n",
    "    p  = [-5.16e-04, -1.54e-02, 4.87]\n",
    "    coef_E  = 7.64e-04\n",
    "    coef_C  = 0.036\n",
    "    coef_d  = 2.35e-04    \n",
    "    \n",
    "    A = coef_E + d_EtoC * coef_d + coef_C \n",
    "    Z =( A**-0.5).sum() if group else A**-0.5\n",
    "    As , Bs, Cs = p[0] - (coef_d * d_PtoE) - 1/(Z**2), p[1] , p[2]\n",
    "    delta = (Bs**2) - (4 * As * Cs)\n",
    "    Qt  = np.array((- Bs - delta**0.5)/(2*As))\n",
    "    Pt = np.array(Qt**2 / Z**2)\n",
    "    a0 = p[0] * (Qt**2) + p[1] * Qt + p[2] - Pt\n",
    "    Qi = (Pt / A)**0.5\n",
    "    Pi = coef_C * (Qi**2)\n",
    "    key = ['Qt','Pt','Qi','Pi']\n",
    "    val = [Qt, Pt, Qi, Pi]\n",
    "    val = [v.round(1) for v in val]\n",
    "    return dict(zip(key,val))"
   ]
  },
  {
   "cell_type": "code",
   "execution_count": null,
   "id": "f875cdca",
   "metadata": {
    "hidden": true
   },
   "outputs": [],
   "source": [
    "def Calcul_All(row, group):\n",
    "    Econnect = row.Econnect\n",
    "    Pconnect = row.Pconnect\n",
    "    Pression = []\n",
    "    Debit = []\n",
    "    Data = {}\n",
    "    for i, (e,Clist) in enumerate(Econnect.items()):\n",
    "        p = row.EtoP[i]\n",
    "        name = 'P{}-E{}'.format(p,e)\n",
    "        dc = np.array([algo.dist['E{}-C{}'.format(e,c)] for c in Clist])\n",
    "        dp = algo.dist['P{}-E{}'.format(p,e)]\n",
    "        info = [i,e,Clist, p, dc, dp]\n",
    "        Dict_dist = {'EtoC': dc,'PtoE':dp }\n",
    "        res = debit(Dict_dist, group)\n",
    "        Data[name] = res\n",
    "        Pression = Pression + list(res['Pi'])\n",
    "        Debit = Debit+ list(res['Qi'])\n",
    "    SumDebit = round(sum(Debit),1)\n",
    "    keys = ['info','Data','Pression','Debit','SumDebit']\n",
    "    vals = [info, Data,Pression, Debit, SumDebit] \n",
    "    return dict(zip(keys,vals))"
   ]
  },
  {
   "cell_type": "code",
   "execution_count": null,
   "id": "08651968",
   "metadata": {
    "hidden": true
   },
   "outputs": [],
   "source": [
    "file = 'VALEO_full.tmj'\n",
    "algo = load_data_brut(file)\n",
    "df1 = indiv_init(algo, 200)"
   ]
  },
  {
   "cell_type": "code",
   "execution_count": null,
   "id": "3bb659d4",
   "metadata": {
    "hidden": true
   },
   "outputs": [],
   "source": [
    "%%time\n",
    "for idx,row  in df1.iterrows():\n",
    "    rowCopy = copy.deepcopy(row)\n",
    "    d = Calcul_All(rowCopy, False)\n",
    "    col = ['Pression', 'Debit','SumDebit']\n",
    "    col2 = ['Pression_s', 'Debit_s','SumDebit_s']\n",
    "    df1.loc[idx, col2] = [str(d[c]) for c in col]\n",
    "    d = Calcul_All(rowCopy, True)\n",
    "    col = ['Pression', 'Debit','SumDebit']\n",
    "    df1.loc[idx, col] = [str(d[c]) for c in col]\n",
    "\n",
    "#     df1.loc[idx, 'Pression'] = str(d['Pression'])\n",
    "#     df1['Debit'] = str(d['Debit'])\n",
    "#     df1['SumDebit'] = str(d['SumDebit'])"
   ]
  },
  {
   "cell_type": "code",
   "execution_count": null,
   "id": "380b683f",
   "metadata": {
    "hidden": true
   },
   "outputs": [],
   "source": [
    "df1.drop(columns= ['Clist','D','Name', 'Name_txt','dist_Connect','List_EtoC','List_PtoE'])"
   ]
  },
  {
   "cell_type": "markdown",
   "id": "05a0caae",
   "metadata": {
    "hidden": true
   },
   "source": [
    "algo.dist"
   ]
  },
  {
   "cell_type": "raw",
   "id": "6fc1d7ba",
   "metadata": {
    "collapsed": true,
    "hidden": true
   },
   "source": [
    "row = df1.iloc[0]\n",
    "row"
   ]
  },
  {
   "cell_type": "raw",
   "id": "13a9079b",
   "metadata": {
    "hidden": true
   },
   "source": [
    "long = row.dist_Connect\n",
    "long"
   ]
  },
  {
   "cell_type": "code",
   "execution_count": null,
   "id": "48817bd1",
   "metadata": {
    "hidden": true
   },
   "outputs": [],
   "source": [
    "row = df1.iloc[4]\n",
    "Calcul_All(row)"
   ]
  },
  {
   "cell_type": "code",
   "execution_count": null,
   "id": "ffbcfedb",
   "metadata": {
    "hidden": true
   },
   "outputs": [],
   "source": [
    "row = df1.iloc[3]\n",
    "Calcul_All(row)"
   ]
  },
  {
   "cell_type": "raw",
   "id": "59636e8b",
   "metadata": {
    "hidden": true
   },
   "source": [
    "%%timeit\n",
    "np.vectorize(algo.dist.get)(row.Name)"
   ]
  },
  {
   "cell_type": "code",
   "execution_count": null,
   "id": "6aa70588",
   "metadata": {
    "hidden": true
   },
   "outputs": [],
   "source": [
    "dc = np.array([144,48,240])/100\n",
    "dp = 48/100\n",
    "Dict_dist = {'EtoC': dc,'PtoE':dp }\n",
    "debit(Dict_dist, group = True)\n",
    "debit(Dict_dist, group = False)"
   ]
  },
  {
   "cell_type": "code",
   "execution_count": null,
   "id": "b03c3bd8",
   "metadata": {
    "hidden": true
   },
   "outputs": [],
   "source": [
    "dc = np.array([0.64])\n",
    "dp = 0.16\n",
    "Dict_dist = {'EtoC': dc,'PtoE':dp }\n",
    "debit(Dict_dist, group = True)\n",
    "debit(Dict_dist, group = False)"
   ]
  },
  {
   "cell_type": "markdown",
   "id": "920d1197",
   "metadata": {
    "heading_collapsed": true,
    "hidden": true
   },
   "source": [
    "## detail"
   ]
  },
  {
   "cell_type": "code",
   "execution_count": null,
   "id": "d4626f81",
   "metadata": {
    "hidden": true
   },
   "outputs": [],
   "source": [
    "Ac = dc * coeffd\n",
    "Ac"
   ]
  },
  {
   "cell_type": "code",
   "execution_count": null,
   "id": "f80983c3",
   "metadata": {
    "hidden": true
   },
   "outputs": [],
   "source": [
    "A = []\n",
    "Z = []\n",
    "for i in range(3):\n",
    "    a = coeffEV + dc[i]*coeffd + coeffC \n",
    "    A.append(a)\n",
    "\n",
    "A = np.array(A)\n",
    "'coeffC + dc[i]*coeffd + coeffC ',A\n",
    "# A = A**-0.5\n",
    "# 'A**-0.5',A\n",
    "Z =( A**-0.5).sum()\n",
    "Z = A[0]**-0.5\n",
    "Z"
   ]
  },
  {
   "cell_type": "code",
   "execution_count": null,
   "id": "1f8dd6a2",
   "metadata": {
    "hidden": true
   },
   "outputs": [],
   "source": [
    "As = p[0] - coeffd*dp - 1/(Z**2)\n",
    "Bs = p[1]\n",
    "Cs = p[2]\n",
    "As, Bs, Cs "
   ]
  },
  {
   "cell_type": "code",
   "execution_count": null,
   "id": "9dfa12f5",
   "metadata": {
    "hidden": true
   },
   "outputs": [],
   "source": [
    "delta = Bs**2 - 4 * As * Cs\n",
    "Q  = (-Bs - delta**0.5)/(2*As)\n",
    "Pt = Q**2 / Z**2"
   ]
  },
  {
   "cell_type": "code",
   "execution_count": null,
   "id": "265c9ee7",
   "metadata": {
    "hidden": true
   },
   "outputs": [],
   "source": [
    "delta , Q, Pt"
   ]
  },
  {
   "cell_type": "code",
   "execution_count": null,
   "id": "5f02bb5d",
   "metadata": {
    "hidden": true
   },
   "outputs": [],
   "source": [
    "p[0] * Q**2 + p[1] * Q + p[2] - Pt"
   ]
  },
  {
   "cell_type": "code",
   "execution_count": null,
   "id": "aba24792",
   "metadata": {
    "hidden": true
   },
   "outputs": [],
   "source": [
    "Qi = (Pt / A)**0.5\n",
    "Qi"
   ]
  },
  {
   "cell_type": "code",
   "execution_count": null,
   "id": "b5e95016",
   "metadata": {
    "hidden": true
   },
   "outputs": [],
   "source": [
    "Qi = (Pt / A[0])**0.5\n",
    "Qi"
   ]
  },
  {
   "cell_type": "code",
   "execution_count": null,
   "id": "a98294cb",
   "metadata": {
    "hidden": true
   },
   "outputs": [],
   "source": [
    "Pi = coeffC*Qi**2\n",
    "Pi"
   ]
  },
  {
   "cell_type": "markdown",
   "id": "dea709b7",
   "metadata": {
    "heading_collapsed": true
   },
   "source": [
    "# RUN "
   ]
  },
  {
   "cell_type": "markdown",
   "id": "da910c9a",
   "metadata": {
    "heading_collapsed": true,
    "hidden": true
   },
   "source": [
    "## Crossover & mutation "
   ]
  },
  {
   "cell_type": "code",
   "execution_count": null,
   "id": "c84d8aa2",
   "metadata": {
    "hidden": true
   },
   "outputs": [],
   "source": [
    "algo = load_data_brut(file)"
   ]
  },
  {
   "cell_type": "code",
   "execution_count": null,
   "id": "faace979",
   "metadata": {
    "hidden": true
   },
   "outputs": [],
   "source": [
    "file = 'VALEO_full.tmj'\n",
    "algo = load_data_brut(file)\n",
    "df1 = indiv_init(algo, 5)\n",
    "df1 = df1.drop_duplicates(subset='Name_txt')\n",
    "df1 = df1.sort_values('dist').reset_index(drop = True)"
   ]
  },
  {
   "cell_type": "code",
   "execution_count": null,
   "id": "f4671981",
   "metadata": {
    "hidden": true
   },
   "outputs": [],
   "source": [
    "row = df1.iloc[2]\n",
    "row"
   ]
  },
  {
   "cell_type": "code",
   "execution_count": null,
   "id": "860f7274",
   "metadata": {
    "hidden": true
   },
   "outputs": [],
   "source": [
    "l = []\n",
    "l[0]"
   ]
  },
  {
   "cell_type": "code",
   "execution_count": null,
   "id": "8b8cd345",
   "metadata": {
    "hidden": true
   },
   "outputs": [],
   "source": [
    "NewCtoE = copy.deepcopy(row.CtoE)\n",
    "len(NewCtoE)\n",
    "idx = np.random.randint(len(NewCtoE))\n",
    "NewCtoE\n",
    "idx, NewCtoE[idx]\n",
    "D = algo.Comb\n",
    "D\n",
    "l = [e for e in D['E'] if e != NewCtoE[idx]]\n",
    "l\n",
    "e = np.random.choice(l,1)[0]\n",
    "e\n",
    "NewCtoE[idx] = e\n",
    "NewCtoE\n",
    "indiv = indiv_create(algo, row,NewCtoE)"
   ]
  },
  {
   "cell_type": "code",
   "execution_count": null,
   "id": "c3ff3112",
   "metadata": {
    "hidden": true
   },
   "outputs": [],
   "source": [
    "row.CtoE\n",
    "row.EtoP\n",
    "indiv['CtoE']\n",
    "indiv['EtoP']"
   ]
  },
  {
   "cell_type": "code",
   "execution_count": null,
   "id": "daaae3ed",
   "metadata": {
    "hidden": true
   },
   "outputs": [],
   "source": [
    "idx, CtoE[idx]\n",
    "D = algo.Comb\n",
    "l = [e for e in D['E'] if e != CtoE[idx]]\n",
    "e = np.random.choice(l,1)[0]\n",
    "NewCtoE = [e for e in D['E'] if e != CtoE[idx]]"
   ]
  },
  {
   "cell_type": "code",
   "execution_count": null,
   "id": "b4d2f4f5",
   "metadata": {
    "hidden": true
   },
   "outputs": [],
   "source": []
  },
  {
   "cell_type": "code",
   "execution_count": null,
   "id": "5ea7c0f1",
   "metadata": {
    "hidden": true
   },
   "outputs": [],
   "source": []
  },
  {
   "cell_type": "code",
   "execution_count": null,
   "id": "0f903e24",
   "metadata": {
    "hidden": true
   },
   "outputs": [],
   "source": [
    "algo.df"
   ]
  },
  {
   "cell_type": "code",
   "execution_count": null,
   "id": "d621b5d3",
   "metadata": {
    "hidden": true
   },
   "outputs": [],
   "source": [
    "df1 = algo.df\n",
    "df1 = df1.sort_values(algo.fitness).reset_index(drop = True)"
   ]
  },
  {
   "cell_type": "code",
   "execution_count": null,
   "id": "25a3588a",
   "metadata": {
    "hidden": true
   },
   "outputs": [],
   "source": [
    "crossover = algo.crossover\n",
    "df1.shape[0]\n",
    "idxmax = int(df1.shape[0]*0.5)\n",
    "idxmax\n",
    "if idxmax == 1 : print(\"error crossover trop faible\")\n",
    "List = df1[:idxmax].index.values\n",
    "List\n",
    "Nmax = int(idxmax)\n",
    "for n in range(Nmax):\n",
    "    i1 , i2 = List[n*2] , List[n*2 + 1]"
   ]
  },
  {
   "cell_type": "code",
   "execution_count": null,
   "id": "08b3252c",
   "metadata": {
    "hidden": true
   },
   "outputs": [],
   "source": [
    "int(0.9)"
   ]
  },
  {
   "cell_type": "code",
   "execution_count": null,
   "id": "effd5b8b",
   "metadata": {
    "hidden": true
   },
   "outputs": [],
   "source": [
    "df1.shape"
   ]
  },
  {
   "cell_type": "code",
   "execution_count": null,
   "id": "6ae66bfa",
   "metadata": {
    "hidden": true
   },
   "outputs": [],
   "source": [
    "indiv_create(algo)"
   ]
  },
  {
   "cell_type": "markdown",
   "id": "be3fbb32",
   "metadata": {
    "heading_collapsed": true,
    "hidden": true
   },
   "source": [
    "## Reprise Debit calcul"
   ]
  },
  {
   "cell_type": "code",
   "execution_count": null,
   "id": "c33ba970",
   "metadata": {
    "hidden": true
   },
   "outputs": [],
   "source": [
    "file = 'VALEO_full.tmj'\n",
    "algo = load_data_brut(file)\n",
    "df1 = indiv_init(algo, 10)"
   ]
  },
  {
   "cell_type": "code",
   "execution_count": null,
   "id": "912aa545",
   "metadata": {
    "hidden": true,
    "scrolled": false
   },
   "outputs": [],
   "source": [
    "indiv = algo.indivs[0]\n",
    "indiv"
   ]
  },
  {
   "cell_type": "code",
   "execution_count": null,
   "id": "50e5d6bc",
   "metadata": {
    "hidden": true
   },
   "outputs": [],
   "source": [
    "Clist"
   ]
  },
  {
   "cell_type": "code",
   "execution_count": null,
   "id": "7403682f",
   "metadata": {
    "hidden": true
   },
   "outputs": [],
   "source": [
    "Econnect"
   ]
  },
  {
   "cell_type": "code",
   "execution_count": null,
   "id": "1e9a7a27",
   "metadata": {
    "hidden": true
   },
   "outputs": [],
   "source": [
    "Dict_dist"
   ]
  },
  {
   "cell_type": "code",
   "execution_count": null,
   "id": "877b5690",
   "metadata": {
    "hidden": true
   },
   "outputs": [],
   "source": [
    "Econnect[0]"
   ]
  },
  {
   "cell_type": "code",
   "execution_count": null,
   "id": "5267101f",
   "metadata": {
    "hidden": true
   },
   "outputs": [],
   "source": [
    "algo.dist['E{}-C{}'.format(e,c)]"
   ]
  },
  {
   "cell_type": "code",
   "execution_count": null,
   "id": "0a632fcd",
   "metadata": {
    "hidden": true
   },
   "outputs": [],
   "source": [
    "Econnect = indiv['Econnect']\n",
    "Pconnect = indiv['Pconnect']\n",
    "EtoP = indiv['EtoP']\n",
    "group = False\n",
    "Pression = []\n",
    "Debit = []\n",
    "Data = {}\n",
    "for i, (e,Clist) in enumerate(Econnect.items()):\n",
    "    p = EtoP[i]\n",
    "    name = 'P{}-E{}'.format(p,e)\n",
    "    dc = np.array([algo.dist['E{}-C{}'.format(e,c)] for c in Clist])\n",
    "    dp = algo.dist['P{}-E{}'.format(p,e)]\n",
    "    info = [i,e,Clist, p, dc, dp]\n",
    "    print('[i,e,Clist, p, dc, dp]' , info)\n",
    "    Dict_dist = {'EtoC': dc,'PtoE':dp }\n",
    "    res = debit(Dict_dist, group)\n",
    "    Data[name] = res\n",
    "    Pression = Pression + list(res['Pi'])\n",
    "    Debit = Debit + list(res['Qi'])\n",
    "SumDebit = round(sum(Debit),1)\n",
    "keys = ['info','Data','Pression','Debit','SumDebit']\n",
    "vals = [info, Data,Pression, Debit, SumDebit] \n",
    "vals"
   ]
  },
  {
   "cell_type": "code",
   "execution_count": null,
   "id": "b6c98687",
   "metadata": {
    "hidden": true
   },
   "outputs": [],
   "source": [
    "confs = pd.read_excel('data.xlsx')\n",
    "confs"
   ]
  },
  {
   "cell_type": "code",
   "execution_count": null,
   "id": "70a0f73a",
   "metadata": {
    "hidden": true
   },
   "outputs": [],
   "source": [
    "confs = algo.confs"
   ]
  },
  {
   "cell_type": "markdown",
   "id": "eca02e02",
   "metadata": {
    "hidden": true
   },
   "source": [
    "## Masse cout"
   ]
  },
  {
   "cell_type": "code",
   "execution_count": null,
   "id": "5bde2bf6",
   "metadata": {
    "hidden": true
   },
   "outputs": [],
   "source": [
    "file = 'VALEO_full.tmj'\n",
    "algo = load_data_brut(file)\n",
    "df = indiv_init(algo, 200)\n",
    "df = df.drop_duplicates(subset='Name_txt')\n",
    "df = df.sort_values('dist').reset_index(drop = True)"
   ]
  },
  {
   "cell_type": "code",
   "execution_count": null,
   "id": "942b9c58",
   "metadata": {
    "hidden": true
   },
   "outputs": [],
   "source": [
    "indiv = df.iloc[3].to_dict()\n",
    "indiv"
   ]
  },
  {
   "cell_type": "code",
   "execution_count": null,
   "id": "4d502add",
   "metadata": {
    "hidden": true
   },
   "outputs": [],
   "source": [
    "calcul_Masse_cout(indiv, algo)"
   ]
  },
  {
   "cell_type": "code",
   "execution_count": null,
   "id": "7b1bb114",
   "metadata": {
    "hidden": true
   },
   "outputs": [],
   "source": [
    "for Var_name in indiv.keys():\n",
    "    string = Var_name\n",
    "    globals()[string] = indiv[Var_name]"
   ]
  },
  {
   "cell_type": "code",
   "execution_count": null,
   "id": "05d56523",
   "metadata": {
    "hidden": true
   },
   "outputs": [],
   "source": [
    "dmasse = {}\n",
    "dcout = {}\n",
    "confs = algo.confs\n",
    "\n",
    "masse, cout = confs[confs.Name == algo.Pompe][['Masse','Cout']].values[0]\n",
    "masse, cout \n",
    "dmasse['Pmasse'] = Ecount*masse\n",
    "dcout['Pcout'] = Ecount*cout\n",
    "\n",
    "masse, cout = confs[confs.Name == algo.Tuyau][['Masse','Cout']].values[0]\n",
    "masse, cout\n",
    "dmasse['Tmasse'] = dist*masse\n",
    "dcout['Tcout'] = dist*cout\n",
    "\n",
    "\n",
    "Ccount = len(algo.Comb['C'])\n",
    "masse, cout = confs[confs.Name == algo.EV][['Masse','Cout']].values[0]\n",
    "masse, cout\n",
    "dmasse['Emasse'] = Ccount*masse\n",
    "dcout['Ecout'] = Ccount*cout\n",
    "\n",
    "dmasse['Reservoir'] = 600\n",
    "dcout['Reservoir'] = 30\n",
    "\n",
    "dmasse\n",
    "dcout\n",
    "\n",
    "Poid = sum(dmasse.values())\n",
    "Cout = sum(dcout.values())"
   ]
  },
  {
   "cell_type": "code",
   "execution_count": null,
   "id": "a5a10c26",
   "metadata": {
    "hidden": true
   },
   "outputs": [],
   "source": [
    "Ccount = len(algo.Comb['C'])"
   ]
  },
  {
   "cell_type": "markdown",
   "id": "1715a391",
   "metadata": {
    "heading_collapsed": true,
    "hidden": true
   },
   "source": [
    "## Save"
   ]
  },
  {
   "cell_type": "code",
   "execution_count": null,
   "id": "4755ef3f",
   "metadata": {
    "hidden": true
   },
   "outputs": [],
   "source": [
    "df1 = algo.df\n",
    "dfs = algo.dfslot\n",
    "dfline = algo.dfline"
   ]
  },
  {
   "cell_type": "code",
   "execution_count": null,
   "id": "3f24b261",
   "metadata": {
    "hidden": true
   },
   "outputs": [],
   "source": [
    "row = df1.iloc[0]\n",
    "List_EtoC = row.List_EtoC\n",
    "List_PtoE\n",
    "List_EtoC\n",
    "Econnect = row.Econnect"
   ]
  },
  {
   "cell_type": "code",
   "execution_count": null,
   "id": "81547b5a",
   "metadata": {
    "hidden": true
   },
   "outputs": [],
   "source": [
    "[['E{}-C{}'.format(start, end) for end in List] for start , List in Econnect.items()]"
   ]
  },
  {
   "cell_type": "code",
   "execution_count": null,
   "id": "3a061be5",
   "metadata": {
    "hidden": true
   },
   "outputs": [],
   "source": [
    "for l in List_EtoC:\n",
    "    for EtoC in l :\n",
    "        print(EtoC)\n",
    "        dist = dfline.loc[dfline.ID.isin(l), 'dist'].values*2\n",
    "        print(dist)"
   ]
  },
  {
   "cell_type": "code",
   "execution_count": null,
   "id": "d3606d1e",
   "metadata": {
    "hidden": true
   },
   "outputs": [],
   "source": [
    "Name = list(itertools.chain.from_iterable(List_EtoC + List_PtoE))"
   ]
  },
  {
   "cell_type": "code",
   "execution_count": null,
   "id": "a64535cc",
   "metadata": {
    "hidden": true
   },
   "outputs": [],
   "source": [
    "(dfline.loc[dfline.ID.isin(Name), ['ID','dist']].set_index('ID').dist*2).to_dict()"
   ]
  },
  {
   "cell_type": "code",
   "execution_count": null,
   "id": "c4c615ee",
   "metadata": {
    "hidden": true
   },
   "outputs": [],
   "source": [
    "[['E{}-C{}'.format(start, end) for end in List] for start , List in Econnect.items()]"
   ]
  },
  {
   "cell_type": "code",
   "execution_count": null,
   "id": "ad07158e",
   "metadata": {
    "hidden": true
   },
   "outputs": [],
   "source": [
    "dfline[['dist','ID']].to_clipboard()"
   ]
  },
  {
   "cell_type": "code",
   "execution_count": null,
   "id": "d1d2ee37",
   "metadata": {
    "hidden": true
   },
   "outputs": [],
   "source": [
    "df1.drop(columns= ['D','Name', 'Name_txt']).to_clipboard()"
   ]
  },
  {
   "cell_type": "code",
   "execution_count": null,
   "id": "d2c68ae0",
   "metadata": {
    "hidden": true
   },
   "outputs": [],
   "source": [
    "dfs\n",
    "dfline\n",
    "df1.drop(columns= ['D','Name', 'Name_txt'])"
   ]
  },
  {
   "cell_type": "code",
   "execution_count": null,
   "id": "f148ada1",
   "metadata": {
    "hidden": true
   },
   "outputs": [],
   "source": [
    "DropList = ['C0','E2']\n",
    "'|'.join(DropList)"
   ]
  },
  {
   "cell_type": "code",
   "execution_count": null,
   "id": "8a00c667",
   "metadata": {
    "hidden": true
   },
   "outputs": [],
   "source": [
    "dfline[~dfline.ID.str.contains('|'.join(DropList))]\n",
    "\n",
    "dfs[~dfs.ID.isin(DropList)]"
   ]
  },
  {
   "cell_type": "code",
   "execution_count": null,
   "id": "3261a2e1",
   "metadata": {
    "hidden": true
   },
   "outputs": [],
   "source": [
    "pd.DataFrame(algo.Comb)"
   ]
  },
  {
   "cell_type": "code",
   "execution_count": null,
   "id": "2ec67045",
   "metadata": {
    "hidden": true
   },
   "outputs": [],
   "source": [
    "indiv_init(algo, 10)"
   ]
  },
  {
   "cell_type": "raw",
   "id": "2a70b038",
   "metadata": {
    "hidden": true
   },
   "source": [
    "sorted(indivs,key= lambda x:x[1])"
   ]
  },
  {
   "cell_type": "raw",
   "id": "0d12d1e2",
   "metadata": {
    "hidden": true
   },
   "source": [
    "%%timeit\n",
    "indivs.sort(key=lambda x:x.dist)"
   ]
  },
  {
   "cell_type": "raw",
   "id": "8914e584",
   "metadata": {
    "hidden": true
   },
   "source": [
    "pd.DataFrame([vars(i) for i in indivs])"
   ]
  },
  {
   "cell_type": "code",
   "execution_count": null,
   "id": "a05fcd52",
   "metadata": {
    "hidden": true
   },
   "outputs": [],
   "source": [
    "SimpleNamespace(**l)"
   ]
  },
  {
   "cell_type": "code",
   "execution_count": null,
   "id": "c543d395",
   "metadata": {
    "hidden": true
   },
   "outputs": [],
   "source": [
    "for l in df.values.tolist():\n",
    "    col = ['D', 'CtoE','Econnect','Elist','Ecount', 'EtoP','Pconnect','Plist','Pcount', 'List_EtoC','List_PtoC', 'dist', 'Name']"
   ]
  },
  {
   "cell_type": "code",
   "execution_count": null,
   "id": "c3392878",
   "metadata": {
    "hidden": true
   },
   "outputs": [],
   "source": [
    "indivs = []"
   ]
  },
  {
   "cell_type": "code",
   "execution_count": null,
   "id": "98c379af",
   "metadata": {
    "hidden": true
   },
   "outputs": [],
   "source": [
    "dfline.sort_values('ID').reset_index(drop = True)\n",
    "dfslot"
   ]
  },
  {
   "cell_type": "markdown",
   "id": "127e48fd",
   "metadata": {
    "heading_collapsed": true,
    "hidden": true
   },
   "source": [
    "## reproduction"
   ]
  },
  {
   "cell_type": "code",
   "execution_count": null,
   "id": "fca577d0",
   "metadata": {
    "hidden": true
   },
   "outputs": [],
   "source": [
    "file = 'VALEO_full.tmj'\n",
    "algo = load_data_brut(file)"
   ]
  },
  {
   "cell_type": "code",
   "execution_count": null,
   "id": "6048738b",
   "metadata": {
    "hidden": true
   },
   "outputs": [],
   "source": [
    "algo.dfline"
   ]
  },
  {
   "cell_type": "code",
   "execution_count": null,
   "id": "90dbad57",
   "metadata": {
    "hidden": true
   },
   "outputs": [],
   "source": []
  },
  {
   "cell_type": "code",
   "execution_count": null,
   "id": "59ac8ea1",
   "metadata": {
    "hidden": true
   },
   "outputs": [],
   "source": [
    "file = 'VALEO_full.tmj'\n",
    "algo = load_data_brut(file)\n",
    "df1 = indiv_init(algo, 10)\n",
    "Col_drop = ['Name', 'Name_txt','dist_Connect','List_EtoC','List_PtoE']\n",
    "# Col_drop = ['D','Name', 'Name_txt']\n",
    "df1 = df1.drop(columns= Col_drop)\n",
    "\n",
    "L = []      \n",
    "List = df1[:7].index.values\n",
    "# np.random.shuffle(List)\n",
    "print(List)\n",
    "df1"
   ]
  },
  {
   "cell_type": "code",
   "execution_count": null,
   "id": "e94361f6",
   "metadata": {
    "hidden": true
   },
   "outputs": [],
   "source": [
    "L = [] \n",
    "algo.Nindiv = df1.shape[0]\n",
    "for n in range(3):    \n",
    "    i1 , i2 = List[n*2] , List[n*2 + 1]\n",
    "    print(n,i1,i2)\n",
    "    dfx = df1.loc[[i1,i2]].copy()\n",
    "    L2 = Reprodution(dfx, algo)\n",
    "    if L2 is not None :  \n",
    "        L += L2\n",
    "#         algo.repro +=1\n",
    "# col = ['Clist', 'CtoE','Econnect','Elist','Ecount', 'EtoP','Pconnect','Plist','Pcount', 'ID_CtoE','ID_EtoP','dist','ID','Parent']\n",
    "dfx = pd.DataFrame(L)[df1.columns.tolist() + ['parent']]\n",
    "# df1s = df1[df1.ID.isin(parents)]\n",
    "pd.concat([df1, dfx])\n",
    "\n",
    "# df1['Name'] = (df1.ID_CtoE + df1.ID_EtoP).str.join(',')\n",
    "# df1 = df1.drop_duplicates(subset='Name').sort_values('dist').reset_index(drop = True)    \n",
    "# session_state['df1'] = df1\n",
    "# session_state['Epoch'] = Epoch"
   ]
  },
  {
   "cell_type": "code",
   "execution_count": null,
   "id": "04ed592e",
   "metadata": {
    "hidden": true
   },
   "outputs": [],
   "source": [
    " np.random.randint(0,3,2)"
   ]
  },
  {
   "cell_type": "code",
   "execution_count": null,
   "id": "06e46558",
   "metadata": {
    "hidden": true
   },
   "outputs": [],
   "source": []
  },
  {
   "cell_type": "markdown",
   "id": "983b0095",
   "metadata": {},
   "source": [
    "# Test combinatoire sequencage "
   ]
  },
  {
   "cell_type": "code",
   "execution_count": null,
   "id": "13ddc780",
   "metadata": {},
   "outputs": [],
   "source": [
    "%%time\n",
    "data, dfs, dfline , df1 = load_data_brut(500)\n",
    "df1.shape"
   ]
  },
  {
   "cell_type": "code",
   "execution_count": null,
   "id": "9f3d81e3",
   "metadata": {
    "scrolled": true
   },
   "outputs": [],
   "source": [
    "df1"
   ]
  },
  {
   "cell_type": "code",
   "execution_count": null,
   "id": "735c786a",
   "metadata": {},
   "outputs": [],
   "source": [
    "index = 0\n",
    "row = df1.loc[index]\n",
    "\n",
    "D = dfs.Class.value_counts().to_dict()\n",
    "Clist = list(range(D['C']))\n",
    "CtoE = row.CtoE\n",
    "Econnect = row.Econnect\n",
    "ID_CtoE = ['C{}-E{}'.format(i, CtoE[i]) for i in Clist]\n",
    "#     ID_CtoE\n",
    "\n",
    "d = collections.defaultdict(list)\n",
    "for i in Clist:\n",
    "    c = CtoE[i]\n",
    "    d[c].append(i)\n",
    "d.items()"
   ]
  },
  {
   "cell_type": "raw",
   "id": "a51d7208",
   "metadata": {},
   "source": [
    "a = np.array(list(itertools.combinations_with_replacement([0, 1,2],r = 3)))\n",
    "a"
   ]
  },
  {
   "cell_type": "code",
   "execution_count": null,
   "id": "424d1f75",
   "metadata": {},
   "outputs": [],
   "source": [
    "N = 4\n",
    "a = np.zeros(N, dtype= int)\n",
    "a = np.array([0,0,1,0])\n",
    "a\n",
    "a==0\n",
    "g1 = np.max(a)+1\n",
    "g1\n",
    "idx = np.random.randint(N)\n",
    "idx\n",
    "idx = 2\n",
    "np.random.randint(g1)"
   ]
  },
  {
   "cell_type": "raw",
   "id": "a7a9f434",
   "metadata": {},
   "source": [
    "list(itertools.combinations([0, 1,3],r = 3))"
   ]
  },
  {
   "cell_type": "raw",
   "id": "a52d8b4f",
   "metadata": {},
   "source": [
    "list(itertools.permutations([0, 1,2],r = 3))"
   ]
  },
  {
   "cell_type": "code",
   "execution_count": null,
   "id": "b0976688",
   "metadata": {},
   "outputs": [],
   "source": [
    "x1 = np.array([True,False])\n",
    "x2 = np.array([True,True])\n",
    "True & x1 & x2"
   ]
  },
  {
   "cell_type": "code",
   "execution_count": null,
   "id": "5617bd9e",
   "metadata": {},
   "outputs": [],
   "source": [
    "x1 = np.array([0, 0, 0, 1])\n",
    "(x1 == 1).sum()!=1"
   ]
  },
  {
   "cell_type": "code",
   "execution_count": null,
   "id": "7935c966",
   "metadata": {},
   "outputs": [],
   "source": [
    "N = 3\n",
    "\n",
    "a = np.array(list(itertools.product(range(N), repeat= N+1)))\n",
    "a.shape\n",
    "m = (a==0).sum(1)\n",
    "# m\n",
    "m2 = True\n",
    "for i in range(1,N):\n",
    "    print(i)\n",
    "    m2 =  \n",
    "m2\n",
    "np.vstack([a.T,m2]).T"
   ]
  },
  {
   "cell_type": "code",
   "execution_count": 1,
   "id": "39f662d7",
   "metadata": {},
   "outputs": [
    {
     "ename": "NameError",
     "evalue": "name 'np' is not defined",
     "output_type": "error",
     "traceback": [
      "\u001b[1;31m---------------------------------------------------------------------------\u001b[0m",
      "\u001b[1;31mNameError\u001b[0m                                 Traceback (most recent call last)",
      "Input \u001b[1;32mIn [1]\u001b[0m, in \u001b[0;36m<cell line: 3>\u001b[1;34m()\u001b[0m\n\u001b[0;32m      1\u001b[0m N \u001b[38;5;241m=\u001b[39m \u001b[38;5;241m3\u001b[39m\n\u001b[1;32m----> 3\u001b[0m a0 \u001b[38;5;241m=\u001b[39m \u001b[43mnp\u001b[49m\u001b[38;5;241m.\u001b[39marray(\u001b[38;5;28mlist\u001b[39m(itertools\u001b[38;5;241m.\u001b[39mproduct(\u001b[38;5;28mrange\u001b[39m(N), repeat\u001b[38;5;241m=\u001b[39m N\u001b[38;5;241m+\u001b[39m\u001b[38;5;241m1\u001b[39m)))\n\u001b[0;32m      6\u001b[0m \u001b[38;5;66;03m# m = (a==0).sum(1)\u001b[39;00m\n\u001b[0;32m      7\u001b[0m \u001b[38;5;66;03m# m\u001b[39;00m\n\u001b[0;32m      8\u001b[0m m2 \u001b[38;5;241m=\u001b[39m \u001b[38;5;28;01mFalse\u001b[39;00m\n",
      "\u001b[1;31mNameError\u001b[0m: name 'np' is not defined"
     ]
    }
   ],
   "source": [
    "N = 3\n",
    "\n",
    "a0 = np.array(list(itertools.product(range(N), repeat= N+1)))\n",
    "\n",
    "\n",
    "# m = (a==0).sum(1)\n",
    "# m\n",
    "m2 = False\n",
    "M = []\n",
    "for i in range(1,N):\n",
    "#     print(i)\n",
    "    m2 = m2 | (a0==i).sum(1) == 1\n",
    "    M.append(m2)\n",
    "# m2\n",
    "M.append(~m2)\n",
    "# m = (m == 2|3)\n",
    "# m = (m == N)\n",
    "a = a0[~m2]\n",
    "a0.shape , a.shape\n",
    "a"
   ]
  },
  {
   "cell_type": "code",
   "execution_count": null,
   "id": "5227fd02",
   "metadata": {},
   "outputs": [],
   "source": [
    "Liste = [a0.T] + M\n",
    "np.vstack(Liste).T"
   ]
  },
  {
   "cell_type": "code",
   "execution_count": null,
   "id": "057971b4",
   "metadata": {},
   "outputs": [],
   "source": [
    "Ecomb = a[1]\n",
    "Ecomb\n",
    "collections.Counter(Ecomb)"
   ]
  },
  {
   "cell_type": "code",
   "execution_count": null,
   "id": "cfa1e621",
   "metadata": {},
   "outputs": [],
   "source": [
    "dict(collections.Counter(Ecomb))"
   ]
  },
  {
   "cell_type": "code",
   "execution_count": null,
   "id": "29e08250",
   "metadata": {},
   "outputs": [],
   "source": [
    "d = collections.defaultdict(list)\n",
    "for n,i in enumerate(Ecomb):\n",
    "    d[i].append(n)\n",
    "dict(d.items())"
   ]
  },
  {
   "cell_type": "code",
   "execution_count": null,
   "id": "88a74c64",
   "metadata": {},
   "outputs": [],
   "source": [
    "np.where((arr==0)|(arr==1), arr^1, arr)"
   ]
  },
  {
   "cell_type": "raw",
   "id": "6990241a",
   "metadata": {},
   "source": [
    "list(itertools.product([0, 1,2], repeat= 4))"
   ]
  },
  {
   "cell_type": "raw",
   "id": "ebe24e60",
   "metadata": {},
   "source": [
    "list(itertools.product(*[[0, 1],[0, 1, 2]]))"
   ]
  },
  {
   "cell_type": "raw",
   "id": "e5ec0d55",
   "metadata": {},
   "source": [
    "list(itertools.product(*[[0, 1],[0, 1, 2]]))"
   ]
  },
  {
   "cell_type": "code",
   "execution_count": null,
   "id": "02aee225",
   "metadata": {},
   "outputs": [],
   "source": [
    "L = []\n",
    "for idx , row in df1.iterrows():\n",
    "    index = 0\n",
    "    row = df1.loc[index]\n",
    "\n",
    "    D = dfs.Class.value_counts().to_dict()\n",
    "    Clist = list(range(D['C']))\n",
    "    CtoE = row.CtoE\n",
    "    Econnect = row.Econnect\n",
    "    ID_CtoE = ['C{}-E{}'.format(i, CtoE[i]) for i in Clist]\n",
    "#     ID_CtoE\n",
    "    \n",
    "    d = collections.defaultdict(list)\n",
    "    for i in Clist:\n",
    "        c = CtoE[i]\n",
    "        d[c].append(i)\n",
    "#     d.items()\n",
    "\n",
    "    for k,v in d.items(): \n",
    "#         print(k,v)\n",
    "        for i in range(len(v)):\n",
    "            l2 = list(itertools.combinations(v, i+1))\n",
    "            L.append(row.tolist() + [l2])\n",
    "    break\n",
    "            \n",
    "#             print(l2)"
   ]
  },
  {
   "cell_type": "code",
   "execution_count": null,
   "id": "b671b2a4",
   "metadata": {},
   "outputs": [],
   "source": [
    "df1.columns.tolist() + ['Ecomb']"
   ]
  },
  {
   "cell_type": "code",
   "execution_count": null,
   "id": "211eddb8",
   "metadata": {},
   "outputs": [],
   "source": [
    "pd.DataFrame(L, columns= df1.columns.tolist() + ['Ecomb'])"
   ]
  },
  {
   "cell_type": "code",
   "execution_count": null,
   "id": "2801815a",
   "metadata": {},
   "outputs": [],
   "source": []
  },
  {
   "cell_type": "code",
   "execution_count": null,
   "id": "1c563ff4",
   "metadata": {
    "scrolled": true
   },
   "outputs": [],
   "source": [
    "index = 0\n",
    "row = df1.loc[index]\n",
    "row\n",
    "\n",
    "D = dfs.Class.value_counts().to_dict()\n",
    "Clist = list(range(D['C']))\n",
    "CtoE = row.CtoE\n",
    "Econnect = row.Econnect\n",
    "ID_CtoE = ['C{}-E{}'.format(i, CtoE[i]) for i in Clist]\n",
    "ID_CtoE"
   ]
  },
  {
   "cell_type": "code",
   "execution_count": null,
   "id": "2a52920c",
   "metadata": {},
   "outputs": [],
   "source": [
    "d = collections.defaultdict(list)\n",
    "for i in Clist:\n",
    "    c = CtoE[i]\n",
    "    d[c].append(i)\n",
    "d.items()\n",
    "\n",
    "for k,v in d.items(): \n",
    "    print(k,v)\n",
    "    for i in range(len(v)):\n",
    "        l2 = list(itertools.combinations(v, i+1))\n",
    "        print(l2)"
   ]
  },
  {
   "cell_type": "code",
   "execution_count": null,
   "id": "bfb40706",
   "metadata": {},
   "outputs": [],
   "source": [
    "list(itertools.product(([0,1]), repeat=2))"
   ]
  },
  {
   "cell_type": "code",
   "execution_count": null,
   "id": "db4cf4bb",
   "metadata": {},
   "outputs": [],
   "source": [
    "d = {}\n",
    "for i in Clist:\n",
    "    c = CtoE[i]\n",
    "    d[c].append(i)\n",
    "d.items()"
   ]
  },
  {
   "cell_type": "code",
   "execution_count": null,
   "id": "4e2af330",
   "metadata": {},
   "outputs": [],
   "source": [
    "l = list(zip(row.CtoE, row.Clist))\n",
    "d = collections.defaultdict(list)\n",
    "for k, v in l:\n",
    "    d[k].append(v)\n",
    "d.items()"
   ]
  },
  {
   "cell_type": "code",
   "execution_count": null,
   "id": "8808fbd8",
   "metadata": {},
   "outputs": [],
   "source": [
    "D = dfs.Class.value_counts().to_dict()\n",
    "Clist = list(range(D['C']))\n",
    "CtoE = row.CtoE\n",
    "Econnect = row.Econnect\n",
    "ID_CtoE = ['C{}-E{}'.format(i, CtoE[i]) for i in Clist]\n",
    "ID_CtoE"
   ]
  },
  {
   "cell_type": "code",
   "execution_count": null,
   "id": "7ad0681e",
   "metadata": {},
   "outputs": [],
   "source": [
    "index = 0\n",
    "row = df1.loc[index]\n",
    "\n",
    "# print(row)\n",
    "# st._legacy_dataframe(row.to_frame().T)\n",
    "ElemsList = ['Clist','Elist','Plist']\n",
    "Elems = ['C','E','P']\n",
    "IDSelects = []\n",
    "ID_CtoE = row.ID_CtoE\n",
    "ID_EtoP = row.ID_EtoP\n",
    "for n in range(3):\n",
    "    IDSelects+= ['{}{}'.format(Elems[n],i) for i in row[ElemsList[n]]]\n",
    "\n",
    "dflineSelect = dfline[dfline.ID.isin(ID_CtoE + ID_EtoP)].copy()\n",
    "dfsSelect = dfs[dfs.ID.isin(IDSelects)].copy()"
   ]
  },
  {
   "cell_type": "code",
   "execution_count": null,
   "id": "79fdbf48",
   "metadata": {},
   "outputs": [],
   "source": [
    "fig = plot_(data,dflineSelect, dfsSelect)"
   ]
  },
  {
   "cell_type": "code",
   "execution_count": null,
   "id": "3b8bbe38",
   "metadata": {},
   "outputs": [],
   "source": [
    "fig = plot_(data,dfline, dfs)"
   ]
  },
  {
   "cell_type": "markdown",
   "id": "3ddfc750",
   "metadata": {
    "heading_collapsed": true
   },
   "source": [
    "# Tiled import"
   ]
  },
  {
   "cell_type": "markdown",
   "id": "d6142b93",
   "metadata": {
    "hidden": true
   },
   "source": [
    "## func"
   ]
  },
  {
   "cell_type": "code",
   "execution_count": null,
   "id": "8d3f8197",
   "metadata": {
    "hidden": true
   },
   "outputs": [],
   "source": [
    "data, dfs, dfline , df1 = load_data_brut(10)"
   ]
  },
  {
   "cell_type": "code",
   "execution_count": null,
   "id": "31459dec",
   "metadata": {
    "hidden": true
   },
   "outputs": [],
   "source": [
    "\n",
    "df1"
   ]
  },
  {
   "cell_type": "code",
   "execution_count": null,
   "id": "c7854dd2",
   "metadata": {
    "hidden": true
   },
   "outputs": [],
   "source": [
    "dfx."
   ]
  },
  {
   "cell_type": "code",
   "execution_count": null,
   "id": "f380e227",
   "metadata": {
    "hidden": true
   },
   "outputs": [],
   "source": [
    "row1"
   ]
  },
  {
   "cell_type": "code",
   "execution_count": null,
   "id": "3fd80b45",
   "metadata": {
    "hidden": true,
    "scrolled": false
   },
   "outputs": [],
   "source": [
    "df1.sample(10)"
   ]
  },
  {
   "cell_type": "code",
   "execution_count": null,
   "id": "b5eb32ad",
   "metadata": {
    "hidden": true
   },
   "outputs": [],
   "source": [
    "ListSelectbox = df1.index\n",
    "index = ListSelectbox[0]\n",
    "row = df1.loc[index]\n",
    "row\n",
    "\n",
    "ElemsList = ['Clist','Elist','Plist']\n",
    "Elems = ['C','E','P']\n",
    "IDSelects = []\n",
    "ID_CtoE = row.ID_CtoE\n",
    "ID_EtoP = row.ID_EtoP\n",
    "for n in range(3):\n",
    "    IDSelects+= ['{}{}'.format(Elems[n],i) for i in row[ElemsList[n]]]\n",
    "\n",
    "dflineSelect = dfline[dfline.ID.isin(ID_CtoE + ID_EtoP)].copy()\n",
    "dfsSelect = dfs[dfs.ID.isin(IDSelects)].copy()"
   ]
  },
  {
   "cell_type": "code",
   "execution_count": null,
   "id": "fdc1aa71",
   "metadata": {
    "hidden": true
   },
   "outputs": [],
   "source": [
    "row.to_clipboard()"
   ]
  },
  {
   "cell_type": "code",
   "execution_count": null,
   "id": "dbdedb66",
   "metadata": {
    "hidden": true
   },
   "outputs": [],
   "source": [
    "dflineSelect"
   ]
  },
  {
   "cell_type": "code",
   "execution_count": null,
   "id": "3023182e",
   "metadata": {
    "hidden": true
   },
   "outputs": [],
   "source": [
    "dflineSelect.drop(columns= ['long', 'polyline']).to_clipboard()"
   ]
  },
  {
   "cell_type": "code",
   "execution_count": null,
   "id": "e7b07223",
   "metadata": {
    "hidden": true
   },
   "outputs": [],
   "source": [
    "dfsSelect.to_clipboard()"
   ]
  },
  {
   "cell_type": "code",
   "execution_count": null,
   "id": "68b62107",
   "metadata": {
    "hidden": true
   },
   "outputs": [],
   "source": [
    "fig = plot_(data,dflineSelect, dfsSelect)"
   ]
  },
  {
   "cell_type": "markdown",
   "id": "574af1d1",
   "metadata": {
    "hidden": true
   },
   "source": [
    "## Algo gen "
   ]
  },
  {
   "cell_type": "code",
   "execution_count": null,
   "id": "d40d4dd7",
   "metadata": {
    "hidden": true
   },
   "outputs": [],
   "source": [
    "def Reprodution(dfx,dfs):\n",
    "    c1, c2 = copy.deepcopy(dfx.CtoE.values)\n",
    "    \n",
    "    if (c1 != c2).any():        \n",
    "        m = c1 != c2\n",
    "        index = np.where(m)[0]\n",
    "        \n",
    "        if len(index) > 1:    \n",
    "            idx = np.random.choice(index)\n",
    "        elif len(index) ==1:\n",
    "            idx = index            \n",
    "#         print(i1,i2,c1, c2,m, idx)    \n",
    "        c1[idx] , c2[idx] = c2[idx] , c1[idx]\n",
    "        NewCtoE = c1 , c2\n",
    "#         print(NewCtoE)\n",
    "        L = []\n",
    "\n",
    "        for i in range(2):\n",
    "            row = dfx.iloc[i]\n",
    "#             print(row.to_list())\n",
    "            l = indiv_verif(row,NewCtoE[i],dfs) \n",
    "#             print(l) \n",
    "            L.append(l)\n",
    "        return L"
   ]
  },
  {
   "cell_type": "code",
   "execution_count": null,
   "id": "ddd285b8",
   "metadata": {
    "hidden": true
   },
   "outputs": [],
   "source": [
    "def indiv_verif(row,NewCtoE,dfs): \n",
    "    D = dfs.Class.value_counts().to_dict()\n",
    "    Clist = list(range(D['C']))\n",
    "    \n",
    "    CtoE = NewCtoE\n",
    "    Econnect = dict(collections.Counter(CtoE))\n",
    "    Elist = sorted(Econnect)\n",
    "    Ecount = len(Elist)   \n",
    "    \n",
    "    if Ecount > row.Ecount:\n",
    "        x = row.EtoP\n",
    "        y = np.random.randint(0,D['P'],Ecount - row.Ecount)\n",
    "        EtoP = np.append(x, y)\n",
    "    elif Ecount < row.Ecount:\n",
    "        EtoP = np.random.choice(row.EtoP,row.Ecount - Ecount)\n",
    "        print(EtoP)\n",
    "    else : \n",
    "        EtoP = row.EtoP\n",
    "\n",
    "    Pconnect = dict(collections.Counter(EtoP))\n",
    "    Plist = sorted(Pconnect)\n",
    "    Pcount = len(Plist)    \n",
    "\n",
    "    ID_CtoE = ['C-E{}{}'.format(i, CtoE[i]) for i in Clist]\n",
    "    ID_EtoP = ['E-P{}{}'.format(Elist[i]  , EtoP[i]) for i in range(Ecount)]\n",
    "\n",
    "    dist = dfline.loc[dfline.ID.isin(ID_CtoE + ID_EtoP), 'dist'].sum()  \n",
    "    l = [Clist, CtoE,Econnect,Elist,Ecount, EtoP,Pconnect,Plist,Pcount, ID_CtoE,ID_EtoP,dist]\n",
    "    return l \n"
   ]
  },
  {
   "cell_type": "code",
   "execution_count": null,
   "id": "d39b5d8e",
   "metadata": {
    "hidden": true
   },
   "outputs": [],
   "source": [
    "data, dfs, dfline , df1 = load_data_brut(7)\n",
    "df1['Epoch'] = df1.index\n",
    "Epoch = df1.index.max()+1\n",
    "df1"
   ]
  },
  {
   "cell_type": "code",
   "execution_count": null,
   "id": "fd43bc67",
   "metadata": {
    "hidden": true
   },
   "outputs": [],
   "source": [
    "L = []\n",
    "List = df1[:7].index.values\n",
    "np.random.shuffle(List)\n",
    "print(List)\n",
    "for n in range(3):\n",
    "    print(n)\n",
    "    i1 = List[n*2]\n",
    "    i2 = List[n*2 + 1]\n",
    "    dfx = df1.loc[[i1,i2]].copy()\n",
    "    L2 = Reprodution(dfx, dfs)\n",
    "    if L2:\n",
    "        for l in L2:\n",
    "            l.append(Epoch)\n",
    "            l.append(dfx.Epoch.tolist())\n",
    "            Epoch+= 1\n",
    "            L.append(l)\n",
    "#     print(n,Epoch, L2)\n",
    "#             print(l, n)"
   ]
  },
  {
   "cell_type": "code",
   "execution_count": null,
   "id": "ce1e4f7a",
   "metadata": {
    "hidden": true
   },
   "outputs": [],
   "source": [
    "col = ['Clist', 'CtoE','Econnect','Elist','Ecount', 'EtoP','Pconnect','Plist','Pcount', 'ID_CtoE','ID_EtoP','dist','Epoch','Parents']\n",
    "dfx = pd.DataFrame(L, columns= col)\n",
    "# dfx\n",
    "df1 = df1.append(dfx)\n",
    "df1['Name'] = (df1.ID_CtoE + df1.ID_EtoP).str.join(',')\n",
    "df1 = df1.drop_duplicates(subset='Name').sort_values('dist').reset_index(drop = True)"
   ]
  },
  {
   "cell_type": "code",
   "execution_count": null,
   "id": "fb8285a7",
   "metadata": {
    "hidden": true
   },
   "outputs": [],
   "source": [
    "df1"
   ]
  },
  {
   "cell_type": "markdown",
   "id": "2a6c07a6",
   "metadata": {
    "heading_collapsed": true,
    "hidden": true
   },
   "source": [
    "## Data"
   ]
  },
  {
   "cell_type": "code",
   "execution_count": null,
   "id": "3c008569",
   "metadata": {
    "hidden": true
   },
   "outputs": [],
   "source": [
    "with open('VALEO_1.tmj', 'r') as f:\n",
    "  data = json.load(f)"
   ]
  },
  {
   "cell_type": "code",
   "execution_count": null,
   "id": "838c2f00",
   "metadata": {
    "hidden": true
   },
   "outputs": [],
   "source": [
    "dfs = pd.DataFrame(data['layers'][1]['objects']).drop(columns= ['rotation','width','height','visible','gid']).rename(columns = {'class' : 'Class', 'name' : 'Name'})\n",
    "dfs.x = (dfs.x/16).astype(int)\n",
    "dfs.y = (dfs.y/16).astype(int) - 1\n",
    "dfs.Name = pd.to_numeric(dfs.Name)\n",
    "dfs['ID'] = dfs.Class + dfs.Name.astype(str)\n",
    "dfs['Color'] = dfs['Class'].map({'C':10,'E':20,'P':30})\n",
    "\n",
    "dfs"
   ]
  },
  {
   "cell_type": "code",
   "execution_count": null,
   "id": "a320c6b0",
   "metadata": {
    "hidden": true
   },
   "outputs": [],
   "source": [
    "dfline  = pd.DataFrame(data['layers'][2]['objects']).drop(columns=['rotation','width','name','height','visible']).rename(columns = {'class' : 'Class'})\n",
    "\n",
    "for idx, row in dfline.iterrows():\n",
    "    properties = row.properties\n",
    "    dfline.loc[idx, ['end','long','start']] = [d['value'] for d in properties]    \n",
    "    polyline = row.polyline\n",
    "    x = row.x\n",
    "    y = row.y\n",
    "    polyline = [(p['x'] + x, p['y'] + y) for p in polyline]\n",
    "    p = np.array(polyline)\n",
    "    dfline.at[idx , 'polyline'] = p   \n",
    "    dfline.loc[idx ,'dist'] = np.abs(np.diff(p.T)).sum()\n",
    "dfline.start = pd.to_numeric(dfline.start)\n",
    "dfline.end = pd.to_numeric(dfline.end)\n",
    "dfline.dist = dfline.dist.astype(int)\n",
    "dfline = dfline.drop(columns= ['properties','x','y'])\n",
    "dfline['ID'] = dfline.Class + dfline.start.astype(str) + dfline.end.astype(str)\n",
    "dfline"
   ]
  },
  {
   "cell_type": "markdown",
   "id": "11690cc0",
   "metadata": {
    "heading_collapsed": true,
    "hidden": true
   },
   "source": [
    "## plot all"
   ]
  },
  {
   "cell_type": "code",
   "execution_count": null,
   "id": "6d72ac5d",
   "metadata": {
    "hidden": true
   },
   "outputs": [],
   "source": [
    "N = data['height']\n",
    "A0 = data['layers'][0]['data']\n",
    "A0 = np.array(A0).reshape(10,7)\n",
    "pas = 16\n",
    "unique = np.unique(A0)\n",
    "A0[A0 == unique[0]] = 0\n",
    "A0[A0 == unique[1]] = 1\n",
    "A0"
   ]
  },
  {
   "cell_type": "code",
   "execution_count": null,
   "id": "81966c3c",
   "metadata": {
    "hidden": true
   },
   "outputs": [],
   "source": [
    "for idx, row in dfs.iterrows():\n",
    "#     print(row.x, row.y , row.Type * int(row.name))\n",
    "    A0[row.y, row.x] = row.Type + int(row.Name)"
   ]
  },
  {
   "cell_type": "code",
   "execution_count": null,
   "id": "3e370a39",
   "metadata": {
    "hidden": true
   },
   "outputs": [],
   "source": [
    "fig, ax = plt.subplots()\n",
    "ax.imshow(A0)"
   ]
  },
  {
   "cell_type": "code",
   "execution_count": null,
   "id": "7ef1b2d4",
   "metadata": {
    "hidden": true
   },
   "outputs": [],
   "source": [
    "A = np.kron(A0, np.ones((16,16), dtype=int))\n",
    "fig, ax = plt.subplots(figsize = (10,10))\n",
    "ax.imshow(A)\n",
    "for idx, row in dfline.iterrows():\n",
    "    p = np.array(row.polyline)\n",
    "    f = ax.plot(p[:,0],p[:,1],'k')\n",
    "style = dict(size=10, color='black')  \n",
    "for idx, row in dfs.iterrows():\n",
    "    x = row.x*16\n",
    "    y = row.y*16\n",
    "    text = row.Class + str(row.Name)\n",
    "    f = ax.text(row.x*16+8, row.y*16+8,text , **style,  ha='center', weight='bold') "
   ]
  },
  {
   "cell_type": "markdown",
   "id": "17f46f8a",
   "metadata": {
    "heading_collapsed": true,
    "hidden": true
   },
   "source": [
    "## indiv"
   ]
  },
  {
   "cell_type": "markdown",
   "id": "ffedb3d4",
   "metadata": {
    "hidden": true
   },
   "source": [
    "## Objectif\n",
    "269ms value count VS 9 ms collection & np bincount"
   ]
  },
  {
   "cell_type": "code",
   "execution_count": null,
   "id": "8d9ffc8d",
   "metadata": {
    "hidden": true
   },
   "outputs": [],
   "source": [
    "D = dfs.Class.value_counts().to_dict()\n",
    "D"
   ]
  },
  {
   "cell_type": "code",
   "execution_count": null,
   "id": "d3904d10",
   "metadata": {
    "hidden": true
   },
   "outputs": [],
   "source": [
    "%%time\n",
    "L = []\n",
    "D = dfs.Class.value_counts().to_dict()\n",
    "\n",
    "for n in range(1000): \n",
    "    Clist = list(range(D['C']))\n",
    "\n",
    "    CtoE = np.random.randint(0,D['E'],D['C'])\n",
    "    Econnect = collections.Counter(CtoE)\n",
    "    Elist = sorted(Econnect)\n",
    "    Ecount = len(Elist)\n",
    "\n",
    "    EtoP = np.random.randint(0,D['P'],Ecount)\n",
    "    Pconnect = collections.Counter(EtoP)\n",
    "    Plist = sorted(Pconnect)\n",
    "    Pcount = len(Plist)\n",
    "\n",
    "    ID_CtoE = ['C-E{}{}'.format(i, CtoE[i]) for i in Clist]\n",
    "    ID_EtoP = ['E-P{}{}'.format(Elist[i]  , EtoP[i]) for i in range(Ecount)]\n",
    "\n",
    "    dist = dfline.loc[dfline.ID.isin(ID_CtoE + ID_EtoP), 'dist'].sum()\n",
    "\n",
    "    l = [Clist, CtoE,Econnect,Elist,Ecount, EtoP,Pconnect,Plist,Pcount, ID_CtoE,ID_EtoP,dist]\n",
    "    L.append(l)  "
   ]
  },
  {
   "cell_type": "code",
   "execution_count": null,
   "id": "71b29b04",
   "metadata": {
    "hidden": true
   },
   "outputs": [],
   "source": [
    "col = ['Clist', 'CtoE','Econnect','Elist','Ecount', 'EtoP','Pconnect','Plist','Pcount', 'ID_CtoE','ID_EtoP','dist']\n",
    "df = pd.DataFrame(L, columns= col)\n",
    "df.sort_values('dist').head(10)"
   ]
  },
  {
   "cell_type": "code",
   "execution_count": null,
   "id": "003c3239",
   "metadata": {
    "hidden": true
   },
   "outputs": [],
   "source": [
    "df['Name'] = (df.ID_CtoE + df.ID_EtoP).str.join(',')\n",
    "df1 = df.drop_duplicates(subset='Name').sort_values('dist')"
   ]
  },
  {
   "cell_type": "code",
   "execution_count": null,
   "id": "3939fa9f",
   "metadata": {
    "hidden": true,
    "scrolled": true
   },
   "outputs": [],
   "source": [
    "df1"
   ]
  },
  {
   "cell_type": "code",
   "execution_count": null,
   "id": "4a23635e",
   "metadata": {
    "hidden": true
   },
   "outputs": [],
   "source": [
    "ListSelectbox = df1[['ID_CtoE', 'ID_EtoP','dist']].values"
   ]
  },
  {
   "cell_type": "code",
   "execution_count": null,
   "id": "6f81cba7",
   "metadata": {
    "hidden": true
   },
   "outputs": [],
   "source": [
    "df1"
   ]
  },
  {
   "cell_type": "code",
   "execution_count": null,
   "id": "60c16b74",
   "metadata": {
    "hidden": true
   },
   "outputs": [],
   "source": [
    "ListSelectbox = df1.index\n",
    "index = ListSelectbox[0]\n",
    "row = df1.loc[index]\n",
    "row"
   ]
  },
  {
   "cell_type": "markdown",
   "id": "5f080d98",
   "metadata": {
    "hidden": true
   },
   "source": [
    "Select = ListSelectbox[0]\n",
    "Select\n",
    "name = ','.join(Select[0]+Select[1])"
   ]
  },
  {
   "cell_type": "markdown",
   "id": "074708b2",
   "metadata": {
    "hidden": true
   },
   "source": [
    "row = df1[df1.Name == name].iloc[0]\n",
    "row"
   ]
  },
  {
   "cell_type": "markdown",
   "id": "0ba40a0f",
   "metadata": {
    "hidden": true
   },
   "source": [
    "row = df.iloc[3]\n",
    "row"
   ]
  },
  {
   "cell_type": "code",
   "execution_count": null,
   "id": "0cb9e5ff",
   "metadata": {
    "hidden": true
   },
   "outputs": [],
   "source": [
    "ElemsList = ['Clist','Elist','Plist']\n",
    "Elems = ['C','E','P']\n",
    "IDSelects = []\n",
    "ID_CtoE = row.ID_CtoE\n",
    "ID_EtoP = row.ID_EtoP\n",
    "for n in range(3):\n",
    "    IDSelects+= ['{}{}'.format(Elems[n],i) for i in row[ElemsList[n]]]\n",
    "\n",
    "dflineSelect = dfline[dfline.ID.isin(ID_CtoE + ID_EtoP)].copy()\n",
    "dfsSelect = dfs[dfs.ID.isin(IDSelects)].copy()"
   ]
  },
  {
   "cell_type": "code",
   "execution_count": null,
   "id": "0b9bd328",
   "metadata": {
    "hidden": true
   },
   "outputs": [],
   "source": [
    "dflineSelect"
   ]
  },
  {
   "cell_type": "code",
   "execution_count": null,
   "id": "14faf3cf",
   "metadata": {
    "hidden": true
   },
   "outputs": [],
   "source": [
    "dfsSelect"
   ]
  },
  {
   "cell_type": "markdown",
   "id": "57af359d",
   "metadata": {
    "heading_collapsed": true,
    "hidden": true
   },
   "source": [
    "## plot"
   ]
  },
  {
   "cell_type": "code",
   "execution_count": null,
   "id": "d11f9f85",
   "metadata": {
    "hidden": true
   },
   "outputs": [],
   "source": [
    "def plot_(data,dflineSelect, dfsSelect): \n",
    "    N = data['height']\n",
    "    A0 = data['layers'][0]['data']\n",
    "    A0 = np.array(A0).reshape(10,7)\n",
    "    pas = 16\n",
    "    unique = np.unique(A0)\n",
    "    A0[A0 == unique[0]] = 0\n",
    "    A0[A0 == unique[1]] = 1\n",
    "    for idx, row in dfsSelect.iterrows():\n",
    "        A0[row.y, row.x] = row.Color + int(row.Name)   \n",
    "        \n",
    "    A = np.kron(A0, np.ones((16,16), dtype=int))\n",
    "    fig, ax = plt.subplots(figsize = (10,10))\n",
    "    ax.imshow(A)\n",
    "    for idx, row in dflineSelect.iterrows():\n",
    "        p = row.polyline\n",
    "        f = ax.plot(p[:,0],p[:,1],'k')\n",
    "\n",
    "    style = dict(size=10, color='black') \n",
    "    for idx, row in dfsSelect.iterrows():\n",
    "        x = row.x*16\n",
    "        y = row.y*16\n",
    "        text = row.Class + str(row.Name)\n",
    "        f = ax.text(row.x*16+8, row.y*16+8,text , **style,  ha='center', weight='bold') \n",
    "    return fig"
   ]
  },
  {
   "cell_type": "code",
   "execution_count": null,
   "id": "c3eb07f7",
   "metadata": {
    "hidden": true
   },
   "outputs": [],
   "source": [
    "fig = plot_(data,dflineSelect, dfsSelect)"
   ]
  },
  {
   "cell_type": "markdown",
   "id": "30dd94b9",
   "metadata": {
    "heading_collapsed": true,
    "hidden": true
   },
   "source": [
    "## Plot save"
   ]
  },
  {
   "cell_type": "code",
   "execution_count": null,
   "id": "20fba338",
   "metadata": {
    "hidden": true,
    "scrolled": false
   },
   "outputs": [],
   "source": [
    "%%time\n",
    "R = np.random.randint(0,D['EV'],D['C'])\n",
    "dfline['Select'] = False\n",
    "dfs['Connect'] = 0\n",
    "dfs.loc[dfs.Class == 'C', 'Connect']= 1\n",
    "for i in range(D['C']):\n",
    "    j = R[i]\n",
    "    mask = (dfline.Class == 'C-E') & (dfline.start == i) & (dfline.end == j)\n",
    "#     print(i,j, mask.sum())\n",
    "    dfline.loc[mask, 'Select'] = True \n",
    "    \n",
    "    mask = (dfs.Class == 'EV') & (dfs.Name == j)\n",
    "    dfs.loc[mask, 'Connect'] +=  + 1\n",
    "    \n",
    "for i in np.unique(R):\n",
    "    j = np.random.randint(0,D['TP'])\n",
    "    mask = (dfline.Class == 'P-E') & (dfline.start == j) & (dfline.end == i)\n",
    "#     print(i,j, mask.sum())\n",
    "    dfline.loc[mask, 'Select'] = True\n",
    "    \n",
    "    mask = (dfs.Class == 'TP') & (dfs.Name == j)\n",
    "    dfs.loc[mask, 'Connect'] +=  + 1\n",
    "    \n",
    "dfline  \n",
    "dfs"
   ]
  },
  {
   "cell_type": "code",
   "execution_count": null,
   "id": "88743d84",
   "metadata": {
    "hidden": true
   },
   "outputs": [],
   "source": [
    "N = data['height']\n",
    "A0 = data['layers'][0]['data']\n",
    "A0 = np.array(A0).reshape(10,7)\n",
    "pas = 16\n",
    "unique = np.unique(A0)\n",
    "A0[A0 == unique[0]] = 0\n",
    "A0[A0 == unique[1]] = 1\n",
    "for idx, row in dfs.iterrows():\n",
    "    if row.Connect > 0:\n",
    "        A0[row.y, row.x] = row.Color + int(row.Name)\n",
    "A0        "
   ]
  },
  {
   "cell_type": "code",
   "execution_count": null,
   "id": "6d469004",
   "metadata": {
    "hidden": true,
    "scrolled": false
   },
   "outputs": [],
   "source": [
    "A = np.kron(A0, np.ones((16,16), dtype=int))\n",
    "fig, ax = plt.subplots(figsize = (10,10))\n",
    "ax.imshow(A)\n",
    "for idx, row in dfline.iterrows():\n",
    "    if row.Select: \n",
    "        p = np.array(row.polyline)\n",
    "        f = ax.plot(p[:,0],p[:,1],'k')\n",
    "\n",
    "style = dict(size=10, color='black') \n",
    "for idx, row in dfs.iterrows():\n",
    "    if row.Connect > 0:\n",
    "        x = row.x*16\n",
    "        y = row.y*16\n",
    "        text = row.Class + str(row.Name)\n",
    "        f = ax.text(row.x*16+8, row.y*16+8,text , **style,  ha='center', weight='bold') "
   ]
  },
  {
   "cell_type": "markdown",
   "id": "1b7b7b4a",
   "metadata": {
    "heading_collapsed": true,
    "hidden": true
   },
   "source": [
    "## Calcul distance"
   ]
  },
  {
   "cell_type": "code",
   "execution_count": null,
   "id": "ea5a1656",
   "metadata": {
    "hidden": true
   },
   "outputs": [],
   "source": [
    "for idx, row in dfline.iterrows():\n",
    "    p = np.array(row.polyline)\n",
    "    dist = np.abs(np.diff(p.T)).sum()\n",
    "    print(dist)"
   ]
  },
  {
   "cell_type": "code",
   "execution_count": null,
   "id": "4f57651f",
   "metadata": {
    "hidden": true
   },
   "outputs": [],
   "source": [
    "dfline"
   ]
  },
  {
   "cell_type": "code",
   "execution_count": null,
   "id": "9ebbba6c",
   "metadata": {
    "hidden": true
   },
   "outputs": [],
   "source": [
    "row = dfline.iloc[4]\n",
    "p = np.array(row.polyline)\n",
    "row.polyline\n",
    "p.T\n",
    "np.diff(p.T)\n",
    "np.abs(np.diff(p.T))\n",
    "np.abs(np.diff(p.T)).sum()"
   ]
  },
  {
   "cell_type": "markdown",
   "id": "a18b99eb",
   "metadata": {
    "heading_collapsed": true,
    "hidden": true
   },
   "source": [
    "## Save"
   ]
  },
  {
   "cell_type": "code",
   "execution_count": null,
   "id": "e0192298",
   "metadata": {
    "hidden": true
   },
   "outputs": [],
   "source": [
    "Elist = np.unique(R)\n",
    "Elist\n",
    "R = np.random.randint(0,D['EV'],D['C'])"
   ]
  },
  {
   "cell_type": "code",
   "execution_count": null,
   "id": "50d6cfaf",
   "metadata": {
    "hidden": true
   },
   "outputs": [],
   "source": [
    "pd.value_counts(R).sort_index()"
   ]
  },
  {
   "cell_type": "code",
   "execution_count": null,
   "id": "faf8e6ab",
   "metadata": {
    "hidden": true
   },
   "outputs": [],
   "source": [
    "ci = pd.DataFrame({'EV':ce}).T\n",
    "ci.columns.name = 'C'\n",
    "ci"
   ]
  },
  {
   "cell_type": "code",
   "execution_count": null,
   "id": "c6a135bb",
   "metadata": {
    "hidden": true
   },
   "outputs": [],
   "source": [
    "ep = pd.value_counts(ce).sort_index()\n",
    "ep.name = 'Count'\n",
    "ep= ep.to_frame()\n",
    "ep\n",
    "\n",
    "ep['TP'] = np.random.randint(0,D['TP'],len(ep))\n",
    "ep"
   ]
  },
  {
   "cell_type": "code",
   "execution_count": null,
   "id": "f52a21a8",
   "metadata": {
    "hidden": true
   },
   "outputs": [],
   "source": [
    "ci\n",
    "ep.T"
   ]
  },
  {
   "cell_type": "code",
   "execution_count": null,
   "id": "7e5ca488",
   "metadata": {
    "hidden": true
   },
   "outputs": [],
   "source": [
    "indivs = {}\n",
    "for i in range(10):\n",
    "    r = np.random.randint()\n",
    "    \n",
    "    break\n",
    "    \n",
    "    \n",
    "    "
   ]
  },
  {
   "cell_type": "code",
   "execution_count": null,
   "id": "22019fd1",
   "metadata": {
    "hidden": true
   },
   "outputs": [],
   "source": [
    "np.unique(C,\n",
    "          return_index=True,\n",
    "          return_inverse=True,\n",
    "          return_counts=True,axis = 1)"
   ]
  },
  {
   "cell_type": "code",
   "execution_count": null,
   "id": "46383eec",
   "metadata": {
    "hidden": true
   },
   "outputs": [],
   "source": []
  },
  {
   "cell_type": "code",
   "execution_count": null,
   "id": "58c0f643",
   "metadata": {
    "hidden": true
   },
   "outputs": [],
   "source": [
    "\n",
    "np.unique(E[0],\n",
    "          return_index=True,\n",
    "          return_inverse=True,\n",
    "          return_counts=True,)"
   ]
  },
  {
   "cell_type": "code",
   "execution_count": null,
   "id": "ba65f572",
   "metadata": {
    "hidden": true
   },
   "outputs": [],
   "source": [
    "n = 0\n",
    "i = c.copy()\n"
   ]
  },
  {
   "cell_type": "code",
   "execution_count": null,
   "id": "7ec40666",
   "metadata": {
    "hidden": true
   },
   "outputs": [],
   "source": [
    "n = 0\n",
    "\n",
    "i = c.copy()\n",
    "j = C[n]\n",
    "l = list(zip(i,j))\n",
    "dist1 = dfc[dfc.ij.isin(l)].dist.tolist()\n",
    "dc = {\n",
    "    'i' : i,\n",
    "    'j' : j,\n",
    "    'dist' : dist1}\n",
    "dc\n",
    "\n",
    "\n",
    "i = C[n]\n",
    "j = E[n]\n",
    "l = list(zip(i,j))\n",
    "dist2 = [dfe[dfe.ij == ij].dist.iloc[0] for ij in l]\n",
    "indiv = np.vstack([c,C[n],dist1,E[n],dist2])\n",
    "\n",
    "rank = round(sum(dist1) + sum(dist2),2)\n",
    "rank"
   ]
  },
  {
   "cell_type": "markdown",
   "id": "e02d2c7f",
   "metadata": {
    "heading_collapsed": true
   },
   "source": [
    "# LATEX"
   ]
  },
  {
   "cell_type": "code",
   "execution_count": null,
   "id": "5df25ccd",
   "metadata": {
    "hidden": true
   },
   "outputs": [],
   "source": [
    "%%latex\n",
    "$sin(x)/x$\n",
    "\n",
    "$C^{k-1}_{n+k-1} = \\frac{(n+k-1)!}{n! (k-1)!}$"
   ]
  },
  {
   "cell_type": "code",
   "execution_count": null,
   "id": "b04be247",
   "metadata": {
    "hidden": true
   },
   "outputs": [],
   "source": [
    "%%latex\n",
    "$Nslot ^ {Ncapteur}$"
   ]
  },
  {
   "cell_type": "code",
   "execution_count": null,
   "id": "b5512c18",
   "metadata": {
    "hidden": true
   },
   "outputs": [],
   "source": [
    "%%latex\n",
    "$\\sum u_{n}$ ; $\\sum_{i=1}^{n} (v_{i-1}+u_{i})$ "
   ]
  },
  {
   "cell_type": "markdown",
   "id": "2c2b0ade",
   "metadata": {},
   "source": [
    "# Reseau"
   ]
  },
  {
   "cell_type": "markdown",
   "id": "55b8175e",
   "metadata": {
    "heading_collapsed": true
   },
   "source": [
    "## NX"
   ]
  },
  {
   "cell_type": "code",
   "execution_count": null,
   "id": "4a85bf0a",
   "metadata": {
    "hidden": true
   },
   "outputs": [],
   "source": [
    "plt.imshow(np.flip(A, axis=0))"
   ]
  },
  {
   "cell_type": "code",
   "execution_count": null,
   "id": "4fca1e8f",
   "metadata": {
    "hidden": true
   },
   "outputs": [],
   "source": [
    "A = pd.read_excel('pattern.xlsx',header = None).values\n",
    "\n",
    "A = np.flip(A.T, axis=0)\n",
    "plt.imshow(A)"
   ]
  },
  {
   "cell_type": "code",
   "execution_count": null,
   "id": "30e4f7e1",
   "metadata": {
    "hidden": true
   },
   "outputs": [],
   "source": [
    "S = list(zip(*np.where(A==1)))\n",
    "C = tuple(zip(*np.where(A==2)))\n",
    "PosSlots = ['S'+ str(i) for i in range(len(S))]\n",
    "PosSlots = dict(zip(PosSlots,S))\n",
    "\n",
    "PosCapt = ['C'+ str(i) for i in range(len(C))]\n",
    "PosCapt = dict(zip(PosCapt,C))\n",
    "\n",
    "PosTotal = PosSlots.copy()\n",
    "PosTotal.update(PosCapt)\n",
    "PosTotal"
   ]
  },
  {
   "cell_type": "code",
   "execution_count": null,
   "id": "13508d0c",
   "metadata": {
    "hidden": true
   },
   "outputs": [],
   "source": [
    "comb = list(itertools.combinations(list(PosTotal.keys()),2))\n",
    "dist = {}\n",
    "for edge in comb:\n",
    "    x1,x2 = edge\n",
    "    dist[edge] = round(math.dist(PosTotal[x1],PosTotal[x2]),2)\n",
    "dist"
   ]
  },
  {
   "cell_type": "code",
   "execution_count": null,
   "id": "51a0a1c5",
   "metadata": {
    "hidden": true,
    "scrolled": false
   },
   "outputs": [],
   "source": [
    "G = nx.Graph()\n",
    "G.add_nodes_from([(node, {'pos': v}) for (node, v) in PosTotal.items()])\n",
    "# G.nodes(data=True)\n",
    "for (u,v),d in dist.items():\n",
    "    G.add_edge(u, v, dist=d)\n",
    "\n",
    "fig, ax = plt.subplots(figsize = (5,7))\n",
    "# nx.draw(G,  with_labels=True)\n",
    "ax.imshow(A.T)\n",
    "nx.draw(G, nx.get_node_attributes(G, 'pos'), with_labels=True, node_size=2000,  ax=ax)\n",
    "\n",
    "#connectionstyle=\"arc3,rad=-0.3\" par edge pour faire style "
   ]
  },
  {
   "cell_type": "markdown",
   "id": "7acda741",
   "metadata": {
    "heading_collapsed": true
   },
   "source": [
    "## Combinatoire NEWS !!! "
   ]
  },
  {
   "cell_type": "code",
   "execution_count": null,
   "id": "8ac5533a",
   "metadata": {
    "hidden": true
   },
   "outputs": [],
   "source": [
    "slot = ['S1','S2','S3']\n",
    "capteurs = ['C1','C2']"
   ]
  },
  {
   "cell_type": "raw",
   "id": "d4db821c",
   "metadata": {
    "hidden": true
   },
   "source": [
    "np.array(np.meshgrid(slot, slot, slot,slot)).T.reshape(-1,4)"
   ]
  },
  {
   "cell_type": "code",
   "execution_count": null,
   "id": "fc30ea38",
   "metadata": {
    "hidden": true
   },
   "outputs": [],
   "source": [
    "# combinaison reseau interne on prend pas le full connected sert a rien \n",
    "slot = list(range(Smax))\n",
    "lst = [x for l in range(len(slot)) for x in itertools.combinations(ListSlots, l)]\n",
    "len(lst), Smax, Smax*(Smax-1)/2\n",
    "lst"
   ]
  },
  {
   "cell_type": "code",
   "execution_count": null,
   "id": "d215331f",
   "metadata": {
    "hidden": true
   },
   "outputs": [],
   "source": [
    "[l for l in range(Nslot)]"
   ]
  },
  {
   "cell_type": "code",
   "execution_count": null,
   "id": "e8dc29d0",
   "metadata": {
    "hidden": true
   },
   "outputs": [],
   "source": [
    "n = 5\n",
    "r = 2\n",
    "comb = list(itertools.combinations(list(range(n)), r))\n",
    "len(comb) , fact(n)/(fact(r) * fact(n-r))"
   ]
  },
  {
   "cell_type": "code",
   "execution_count": null,
   "id": "3b97dc37",
   "metadata": {
    "hidden": true
   },
   "outputs": [],
   "source": [
    "Nslot = 5\n",
    "Ncapteur = 3\n",
    "r = 2 #connexions par 2 \n",
    "ListSlots = list(range(Nslot))\n",
    "\n",
    "# connexion entre chaque slot possible = graph complete \n",
    "ListCombSlots = list(itertools.combinations(ListSlots, r))\n",
    "CombMaxSlot = fact(Nslot)/(fact(r) * fact(Nslot-r))\n",
    "\n",
    "\n",
    "lst = [x for l in range(Nslot) for x in itertools.combinations(ListSlots, l)]\n",
    "CombMaxSlot2 = [fact(Nslot)/(fact(l) * fact(Nslot-l) ) for l in range(Nslot)]\n",
    "CombMaxSlot2 = sum(CombMaxSlot2)\n",
    "\n",
    "ListCombCapteurs = list(itertools.product(ListSlots,repeat = Ncapteur))\n",
    "CombMaxCapteurs = Nslot ** Ncapteur\n",
    "\n",
    "len(ListCombSlots) , CombMaxSlot\n",
    "len(lst) ,CombMaxSlot2\n",
    "len(ListCombCapteurs) , CombMaxCapteurs\n",
    "\n",
    "# [ListCombSlots ,ListCombCapteurs]\n",
    "\n",
    "ListCombTotal = list(itertools.product(*[ListCombSlots ,ListCombCapteurs]))\n",
    "len(ListCombTotal), CombMaxSlot * CombMaxCapteurs"
   ]
  },
  {
   "cell_type": "markdown",
   "id": "04a79bf5",
   "metadata": {
    "heading_collapsed": true
   },
   "source": [
    "## save combinatoire precise des capteurs "
   ]
  },
  {
   "cell_type": "code",
   "execution_count": null,
   "id": "819830e3",
   "metadata": {
    "hidden": true
   },
   "outputs": [],
   "source": [
    "Smax = 3\n",
    "slot = list(range(Smax))\n",
    "comb = list(itertools.product(slot,repeat =2))\n",
    "len(comb)\n",
    "a = np.array(comb)\n",
    "a"
   ]
  },
  {
   "cell_type": "code",
   "execution_count": null,
   "id": "3552bb10",
   "metadata": {
    "hidden": true
   },
   "outputs": [],
   "source": [
    "L= []\n",
    "for i in range(Smax):\n",
    "    L.append((a == i).sum(1))\n",
    "counts = np.vstack(L).T  \n",
    "counts"
   ]
  },
  {
   "cell_type": "raw",
   "id": "7311cf9a",
   "metadata": {
    "hidden": true
   },
   "source": [
    "slot = list(range(20))\n",
    "s = np.array(slot)\n",
    "s1 = np.tile(s,(1,20))[0]\n",
    "s2 = np.repeat(s,20)\n",
    "s = np.vstack([s1,s2])"
   ]
  },
  {
   "cell_type": "markdown",
   "id": "2b822570",
   "metadata": {
    "heading_collapsed": true
   },
   "source": [
    "## Method on fixe les slots"
   ]
  },
  {
   "cell_type": "code",
   "execution_count": null,
   "id": "9a87b384",
   "metadata": {
    "hidden": true
   },
   "outputs": [],
   "source": [
    "indiv = ['T1','T2','E1','E2']\n",
    "capteurs = ['C1','C2']\n",
    "lst = [indiv,capteurs]"
   ]
  },
  {
   "cell_type": "code",
   "execution_count": null,
   "id": "c1869f6e",
   "metadata": {
    "hidden": true
   },
   "outputs": [],
   "source": [
    "\n",
    "sx = list(itertools.combinations(indiv,2))\n",
    "cx = list(itertools.permutations(capteurs,2))\n",
    "sx\n",
    "cx\n",
    "comb  = list(itertools.product(*[sx,cx]))\n",
    "comb"
   ]
  },
  {
   "cell_type": "code",
   "execution_count": null,
   "id": "80730248",
   "metadata": {
    "hidden": true
   },
   "outputs": [],
   "source": [
    "pd.DataFrame(comb)"
   ]
  },
  {
   "cell_type": "code",
   "execution_count": null,
   "id": "daa09917",
   "metadata": {
    "hidden": true
   },
   "outputs": [],
   "source": []
  },
  {
   "cell_type": "markdown",
   "id": "e1aaa2ce",
   "metadata": {
    "heading_collapsed": true
   },
   "source": [
    "# Test nx"
   ]
  },
  {
   "cell_type": "code",
   "execution_count": null,
   "id": "03941b46",
   "metadata": {
    "hidden": true
   },
   "outputs": [],
   "source": []
  },
  {
   "cell_type": "code",
   "execution_count": null,
   "id": "35ad9aa7",
   "metadata": {
    "hidden": true
   },
   "outputs": [],
   "source": [
    "import math\n",
    "s = np.where(A==1)\n",
    "import itertools \n",
    "comb = list(itertools.combinations(['S1','S2','S3'] + ['C1','C2'],2))\n",
    "dist = {}\n",
    "for edge in comb:\n",
    "    x1,x2 = edge\n",
    "    dist[edge] = round(math.dist(pos[x1],pos[x2]),2)\n",
    "dist"
   ]
  },
  {
   "cell_type": "code",
   "execution_count": null,
   "id": "4be66692",
   "metadata": {
    "hidden": true
   },
   "outputs": [],
   "source": [
    "[(node, {'pos': attr}) for (node, attr) in pos.items()]"
   ]
  },
  {
   "cell_type": "code",
   "execution_count": null,
   "id": "cf862915",
   "metadata": {
    "hidden": true
   },
   "outputs": [],
   "source": [
    "G = nx.Graph()\n",
    "G.add_nodes_from([(node, {'pos': attr}) for (node, attr) in pos.items()])\n",
    "G.nodes(data=True)\n",
    "for (u,v),d in dist.items():\n",
    "    G.add_edge(u, v, dist=d)\n",
    "\n",
    "# nx.draw(G,  with_labels=True)\n",
    "nx.draw(G, nx.get_node_attributes(G, 'pos'), with_labels=True)"
   ]
  },
  {
   "cell_type": "code",
   "execution_count": null,
   "id": "04f7583e",
   "metadata": {
    "hidden": true
   },
   "outputs": [],
   "source": [
    "S = tuple(zip(*np.where(A==1)))\n",
    "S\n",
    "C = tuple(zip(*np.where(A==2)))\n",
    "S = dict(zip(['S1','S2','S3'],S))\n",
    "C = dict(zip(['C1','C2'],C))\n",
    "G = nx.complete_graph(S)\n",
    "nx.draw(G,  with_labels=True)\n",
    "G.edges\n",
    "G.nodes(data=True)"
   ]
  },
  {
   "cell_type": "code",
   "execution_count": null,
   "id": "3c5249fe",
   "metadata": {
    "hidden": true
   },
   "outputs": [],
   "source": [
    "itertools.combinations(iterable, r)"
   ]
  },
  {
   "cell_type": "code",
   "execution_count": null,
   "id": "2b183eaf",
   "metadata": {
    "hidden": true
   },
   "outputs": [],
   "source": [
    "x , y = np.where(A==1)\n",
    "print(np.sqrt((x1 - x0) ** 2 + (y1 - y0) ** 2))"
   ]
  },
  {
   "cell_type": "code",
   "execution_count": null,
   "id": "ebb5dc3c",
   "metadata": {
    "hidden": true
   },
   "outputs": [],
   "source": [
    "from scipy.spatial.distance import cdist\n",
    "dist = cdist(s[0],s[1])"
   ]
  },
  {
   "cell_type": "code",
   "execution_count": null,
   "id": "9b15b0c6",
   "metadata": {
    "hidden": true
   },
   "outputs": [],
   "source": [
    "from scipy.spatial.distance import euclidean\n",
    "s = np.where(A==1)\n",
    "s\n",
    "euclidean(s[0],s[1])"
   ]
  },
  {
   "cell_type": "code",
   "execution_count": null,
   "id": "87df04b0",
   "metadata": {
    "hidden": true
   },
   "outputs": [],
   "source": [
    "dict(nx.all_pairs_shortest_path(G))"
   ]
  },
  {
   "cell_type": "code",
   "execution_count": null,
   "id": "a9ca6e80",
   "metadata": {
    "hidden": true
   },
   "outputs": [],
   "source": [
    "G = nx.Graph()\n",
    "G.add_edges_from([(1,2), (1,3), (2,3), (2,4), (3,4)])\n",
    "nx.draw(G,  with_labels=True)\n",
    "path = nx.all_pairs_shortest_path_length(G) # This is a generator\n",
    "dpath = {x[0]:x[1] for x in path} \n",
    "dpath\n",
    "nx.floyd_warshall_numpy(G)"
   ]
  },
  {
   "cell_type": "code",
   "execution_count": null,
   "id": "078966c2",
   "metadata": {
    "hidden": true
   },
   "outputs": [],
   "source": [
    "distances = nx.floyd_warshall_numpy(G)\n",
    "nodes = np.where(distances==2)\n",
    "distances\n",
    "nodes"
   ]
  },
  {
   "cell_type": "code",
   "execution_count": null,
   "id": "08dd4d3e",
   "metadata": {
    "hidden": true
   },
   "outputs": [],
   "source": [
    "G = nx.path_graph(5)\n",
    "nx.draw(G,  with_labels=True)"
   ]
  },
  {
   "cell_type": "code",
   "execution_count": null,
   "id": "c9059d0b",
   "metadata": {
    "hidden": true
   },
   "outputs": [],
   "source": [
    "s = np.where(A==1)\n",
    "s\n",
    "np.diff(s[0])"
   ]
  },
  {
   "cell_type": "code",
   "execution_count": null,
   "id": "26734b73",
   "metadata": {
    "hidden": true
   },
   "outputs": [],
   "source": [
    "np.linalg.norm(np.where(A==2))"
   ]
  },
  {
   "cell_type": "code",
   "execution_count": null,
   "id": "ae37f693",
   "metadata": {
    "hidden": true
   },
   "outputs": [],
   "source": [
    "indiv = {0: {\n",
    "    1: {\"len\": 1},\n",
    "    2: {\"len\": 3}\n",
    "}}  # single edge (0,1)\n",
    "indiv\n",
    "G = nx.from_dict_of_dicts(indiv)\n",
    "nx.draw(G,  with_labels=True)"
   ]
  },
  {
   "cell_type": "code",
   "execution_count": null,
   "id": "15170e73",
   "metadata": {
    "hidden": true
   },
   "outputs": [],
   "source": [
    "nx.enumerate_all_cliques(G)"
   ]
  },
  {
   "cell_type": "code",
   "execution_count": null,
   "id": "f8df74a5",
   "metadata": {
    "hidden": true
   },
   "outputs": [],
   "source": [
    "import networkx as nx\n",
    "\n",
    "G = nx.Graph()\n",
    "\n",
    "# G.add_node('Hamburg', pos=(53.5672, 10.0285))\n",
    "# G.add_node('Berlin', pos=(52.51704, 13.38792))\n",
    "G.add_node('A', pos=(5, 1))\n",
    "G.add_node('B', pos=(1, 5))\n",
    "G.add_node('C', pos=(1, 3))\n",
    "G.add_node('D', pos=(3, 3))\n",
    "G=nx.complete_graph(['S1','S2','S3','S4'])\n",
    "G = nx.complete_graph(4, nx.DiGraph())\n",
    "nx.draw(G, with_labels=True)\n",
    "# fig = nx.draw(G, nx.get_node_attributes(G, 'pos'), with_labels=True, node_size=0)"
   ]
  },
  {
   "cell_type": "code",
   "execution_count": null,
   "id": "7ae792a6",
   "metadata": {
    "hidden": true
   },
   "outputs": [],
   "source": [
    "fig"
   ]
  },
  {
   "cell_type": "code",
   "execution_count": null,
   "id": "6d5f2bb0",
   "metadata": {
    "hidden": true
   },
   "outputs": [],
   "source": [
    "pos = {city:(long, lat) for (city, (lat,long)) in nx.get_node_attributes(G, 'pos').items()}\n",
    "pos\n",
    "nx.draw(G, pos, with_labels=True, node_size=0)"
   ]
  },
  {
   "cell_type": "markdown",
   "id": "ebb25ac3",
   "metadata": {},
   "source": [
    "# GA"
   ]
  },
  {
   "cell_type": "markdown",
   "id": "97f70113",
   "metadata": {
    "heading_collapsed": true
   },
   "source": [
    "## Import Tab"
   ]
  },
  {
   "cell_type": "code",
   "execution_count": null,
   "id": "2dd48afd",
   "metadata": {
    "hidden": true
   },
   "outputs": [],
   "source": [
    "edges = pd.read_excel('pattern.xlsx',sheet_name='edges')\n",
    "nodes = pd.read_excel('pattern.xlsx',sheet_name='nodes')\n",
    "edges.head()\n",
    "nodes"
   ]
  },
  {
   "cell_type": "code",
   "execution_count": null,
   "id": "c29754bd",
   "metadata": {
    "hidden": true
   },
   "outputs": [],
   "source": [
    "Cnames = ['A','B']\n",
    "Enames = []"
   ]
  },
  {
   "cell_type": "code",
   "execution_count": null,
   "id": "18934040",
   "metadata": {
    "hidden": true
   },
   "outputs": [],
   "source": [
    "c = {}\n",
    "for k,v in edges.iterrows():\n",
    "    if \n",
    "    "
   ]
  },
  {
   "cell_type": "code",
   "execution_count": null,
   "id": "61c4a5fe",
   "metadata": {
    "hidden": true
   },
   "outputs": [],
   "source": [
    "Enames  = nodes[['e','mix'])].name.tolist()\n",
    "Cnames = nodes[nodes.type == 'c'].name.tolist()"
   ]
  },
  {
   "cell_type": "code",
   "execution_count": null,
   "id": "b823c37a",
   "metadata": {
    "hidden": true
   },
   "outputs": [],
   "source": [
    "E = nodes[nodes.Type.isin(['e','mix'])].set_index('Name')[['x','y']].to_dict(orient= 'index')\n",
    "C = nodes[nodes.Type.isin(['c'])].set_index('Name')[['x','y']].to_dict(orient= 'index')\n",
    "P = nodes[nodes.Type.isin(['p','mix'])].set_index('Name')[['x','y']].to_dict(orient= 'index')"
   ]
  },
  {
   "cell_type": "code",
   "execution_count": null,
   "id": "463a90dd",
   "metadata": {
    "hidden": true
   },
   "outputs": [],
   "source": [
    "edges.groupby('j').i.unique()"
   ]
  },
  {
   "cell_type": "code",
   "execution_count": null,
   "id": "6b6cd520",
   "metadata": {
    "hidden": true
   },
   "outputs": [],
   "source": [
    "\n",
    "for i in edges.i.unique():\n",
    "    print(i)"
   ]
  },
  {
   "cell_type": "code",
   "execution_count": null,
   "id": "1ed93f4a",
   "metadata": {
    "hidden": true
   },
   "outputs": [],
   "source": [
    "ListNodeMix  = nodes[['e','mix'])].name.tolist()\n",
    "ListCapteurs = nodes[nodes.type == 'c'].name.tolist()\n",
    "Nc = len(ListCapteurs)\n",
    "Ne = len(ListNodeMix)\n",
    "Np = len(ListNodeMix)\n",
    "c = list(range(Nc))\n",
    "e = list(range(Ne))\n",
    "p = list(range(Np))\n",
    "\n",
    "C = np.random.randint(0,Ne,(10,Nc))\n",
    "C"
   ]
  },
  {
   "cell_type": "markdown",
   "id": "6d812fa2",
   "metadata": {
    "heading_collapsed": true,
    "hidden": true
   },
   "source": [
    "### IniPop"
   ]
  },
  {
   "cell_type": "code",
   "execution_count": null,
   "id": "9caa0602",
   "metadata": {
    "hidden": true
   },
   "outputs": [],
   "source": [
    "#IniPop\n",
    "C = np.random.randint(0,Ne,(10,Nc))\n",
    "E = np.random.randint(0,Np,(10,Ne))\n",
    "C\n",
    "E"
   ]
  },
  {
   "cell_type": "markdown",
   "id": "083e03d1",
   "metadata": {
    "heading_collapsed": true,
    "hidden": true
   },
   "source": [
    "### Graph"
   ]
  },
  {
   "cell_type": "code",
   "execution_count": null,
   "id": "932a0158",
   "metadata": {
    "hidden": true
   },
   "outputs": [],
   "source": [
    "G = nx.Graph()\n",
    "G.add_nodes_from(df.j.unique())\n",
    "for idx , row in df.iterrows():\n",
    "    u,v,d = row.values\n",
    "    G.add_edge(u, v, dist=d)"
   ]
  },
  {
   "cell_type": "code",
   "execution_count": null,
   "id": "1260389d",
   "metadata": {
    "hidden": true
   },
   "outputs": [],
   "source": [
    "nx.draw(G, with_labels=True)"
   ]
  },
  {
   "cell_type": "code",
   "execution_count": null,
   "id": "32d1cab6",
   "metadata": {
    "hidden": true
   },
   "outputs": [],
   "source": []
  },
  {
   "cell_type": "code",
   "execution_count": null,
   "id": "7324bb88",
   "metadata": {
    "hidden": true
   },
   "outputs": [],
   "source": []
  },
  {
   "cell_type": "markdown",
   "id": "42fc556d",
   "metadata": {
    "heading_collapsed": true
   },
   "source": [
    "## INI"
   ]
  },
  {
   "cell_type": "code",
   "execution_count": null,
   "id": "13ba26bd",
   "metadata": {
    "hidden": true
   },
   "outputs": [],
   "source": [
    "A = pd.read_excel('pattern.xlsx',header = None).values\n",
    "plt.imshow(A)"
   ]
  },
  {
   "cell_type": "code",
   "execution_count": null,
   "id": "f4962786",
   "metadata": {
    "hidden": true
   },
   "outputs": [],
   "source": [
    "from types import SimpleNamespace\n",
    "dict_algo = {'pop': 10,\n",
    "             'epoch': 10,\n",
    "             'shortcut_pool': 0.1,\n",
    "             'ChromCount': 0,\n",
    "             #'Stat_T': [],\n",
    "             'All_indivs': []\n",
    "             }\n",
    "nalgo = SimpleNamespace(**{str(k): v for k, v in dict_algo.items()})"
   ]
  },
  {
   "cell_type": "code",
   "execution_count": null,
   "id": "b3d5b5b6",
   "metadata": {
    "hidden": true
   },
   "outputs": [],
   "source": [
    "T = list(zip(*np.where(A==3)))\n",
    "E = list(zip(*np.where(A==2)))\n",
    "C = tuple(zip(*np.where(A==1)))\n",
    "DictPos = {}\n",
    "Types = ['C','E','P']\n",
    "D = {}\n",
    "for i in range(3):    \n",
    "    Type = Types[i]\n",
    "    pos = list(zip(*np.where(A==i+1)))\n",
    "    names  = [Type+ str(i) for i in range(len(pos))]\n",
    "    D[Type] = pos    \n",
    "#     DictPos.update(dict(zip(names,pos)))\n",
    "D\n",
    "# DictPos"
   ]
  },
  {
   "cell_type": "code",
   "execution_count": null,
   "id": "21795314",
   "metadata": {
    "hidden": true
   },
   "outputs": [],
   "source": [
    "Nc = len(D['C'])\n",
    "Ne = len(D['E'])\n",
    "Np = len(D['P'])\n",
    "c = list(range(Nc))\n",
    "e = list(range(Ne))\n",
    "p = list(range(Np))"
   ]
  },
  {
   "cell_type": "code",
   "execution_count": null,
   "id": "d23b6fce",
   "metadata": {
    "hidden": true
   },
   "outputs": [],
   "source": [
    "Comb = list(itertools.product(*[c ,e]))\n",
    "c_e = []\n",
    "for d in Comb:\n",
    "    i, j = d\n",
    "    x1 = D['C'][i]\n",
    "    x2 = D['E'][j]\n",
    "    dist = round(math.dist(x1,x2),2)\n",
    "    c_e.append([i,j,(i,j),x1,x2,dist])\n",
    "\n",
    "Comb = list(itertools.product(*[e ,p]))\n",
    "e_p = []\n",
    "for d in Comb:\n",
    "    i, j = d\n",
    "    x1 = D['E'][i]\n",
    "    x2 = D['P'][j]\n",
    "    dist = round(math.dist(x1,x2),2)\n",
    "    e_p.append([i,j,(i,j),x1,x2,dist])\n",
    "c_e\n",
    "e_p"
   ]
  },
  {
   "cell_type": "code",
   "execution_count": null,
   "id": "01ba750e",
   "metadata": {
    "hidden": true
   },
   "outputs": [],
   "source": [
    "dfc = pd.DataFrame(c_e, columns = ['i','j','ij','x1','x2','dist'])\n",
    "dfe = pd.DataFrame(e_p, columns = ['i','j','ij','x1','x2','dist'])\n",
    "dfc\n",
    "dfe"
   ]
  },
  {
   "cell_type": "code",
   "execution_count": null,
   "id": "951076f3",
   "metadata": {
    "hidden": true
   },
   "outputs": [],
   "source": [
    "C = np.random.randint(0,Ne,(10,Nc))\n",
    "E = np.random.randint(0,Np,(10,Nc))\n",
    "C\n",
    "E"
   ]
  },
  {
   "cell_type": "code",
   "execution_count": null,
   "id": "8e343f5c",
   "metadata": {
    "hidden": true
   },
   "outputs": [],
   "source": [
    "n = 0\n",
    "\n",
    "i = c.copy()\n",
    "j = C[n]\n",
    "l = list(zip(i,j))\n",
    "dist1 = dfc[dfc.ij.isin(l)].dist.tolist()\n",
    "dc = {\n",
    "    'i' : i,\n",
    "    'j' : j,\n",
    "    'dist' : dist1}\n",
    "dc\n",
    "\n",
    "\n",
    "i = C[n]\n",
    "j = E[n]\n",
    "l = list(zip(i,j))\n",
    "dist2 = [dfe[dfe.ij == ij].dist.iloc[0] for ij in l]\n",
    "indiv = np.vstack([c,C[n],dist1,E[n],dist2])\n",
    "\n",
    "rank = round(sum(dist1) + sum(dist2),2)\n",
    "rank"
   ]
  },
  {
   "cell_type": "markdown",
   "id": "3a57ead3",
   "metadata": {
    "heading_collapsed": true
   },
   "source": [
    "## NX"
   ]
  },
  {
   "cell_type": "code",
   "execution_count": null,
   "id": "dafd868c",
   "metadata": {
    "hidden": true
   },
   "outputs": [],
   "source": [
    "D"
   ]
  },
  {
   "cell_type": "code",
   "execution_count": null,
   "id": "9c8bf139",
   "metadata": {
    "hidden": true
   },
   "outputs": [],
   "source": [
    "nodes = [] \n",
    "for k,v in D.items():\n",
    "    k,v\n",
    "    for i in range(len(v)):\n",
    "        n = (k + str(i) , {'pos' : (v[i][1], v[i][0])})\n",
    "        nodes.append(n)\n",
    "nodes"
   ]
  },
  {
   "cell_type": "code",
   "execution_count": null,
   "id": "50db0a18",
   "metadata": {
    "hidden": true
   },
   "outputs": [],
   "source": [
    "G = nx.Graph()\n",
    "G.add_nodes_from(nodes)\n",
    "fig, ax = plt.subplots(figsize = (5,7))\n",
    "ax.imshow(np.flip(A.T,1))\n",
    "nx.draw(G, nx.get_node_attributes(G, 'pos'), with_labels=True, node_size=2000,  ax=ax)"
   ]
  },
  {
   "cell_type": "code",
   "execution_count": null,
   "id": "b19e5597",
   "metadata": {
    "hidden": true
   },
   "outputs": [],
   "source": [
    "n = 0\n",
    "i = C[n]\n",
    "j = E[n]\n",
    "l = list(zip(i,j))\n",
    "i2 = ['C'+ str(i) for i in c]\n",
    "j2 = ['E'+ str(i) for i in e]\n",
    "l2 = list(zip(i2,j2))\n",
    "dist2 = [dfe[dfe.ij == ij].dist.iloc[0] for ij in l]\n",
    "for u,v in list(set(l2)):\n",
    "    print(u,v)\n",
    "    G.add_edge(u, v,dist = 0)"
   ]
  },
  {
   "cell_type": "code",
   "execution_count": null,
   "id": "0286ffbb",
   "metadata": {
    "hidden": true
   },
   "outputs": [],
   "source": [
    "fig, ax = plt.subplots(figsize = (5,7))\n",
    "ax.imshow(np.flip(A.T,1))\n",
    "nx.draw(G, nx.get_node_attributes(G, 'pos'), with_labels=True, node_size=1000,  ax=ax)"
   ]
  },
  {
   "cell_type": "code",
   "execution_count": null,
   "id": "b760abea",
   "metadata": {
    "hidden": true
   },
   "outputs": [],
   "source": [
    "G = nx.Graph()\n",
    "G.add_nodes_from([(node, {'pos': v}) for (node, v) in PosTotal.items()])\n",
    "# G.nodes(data=True)\n",
    "for (u,v),d in dist.items():\n",
    "    G.add_edge(u, v, dist=d)\n",
    "\n",
    "fig, ax = plt.subplots(figsize = (5,7))\n",
    "# nx.draw(G,  with_labels=True)\n",
    "ax.imshow(A.T)\n",
    "nx.draw(G, nx.get_node_attributes(G, 'pos'), with_labels=True, node_size=2000,  ax=ax)"
   ]
  },
  {
   "cell_type": "code",
   "execution_count": null,
   "id": "3663f8a4",
   "metadata": {
    "hidden": true
   },
   "outputs": [],
   "source": []
  },
  {
   "cell_type": "code",
   "execution_count": null,
   "id": "311f9cd3",
   "metadata": {
    "hidden": true
   },
   "outputs": [],
   "source": []
  },
  {
   "cell_type": "markdown",
   "id": "43001361",
   "metadata": {
    "heading_collapsed": true
   },
   "source": [
    "## NameSpace"
   ]
  },
  {
   "cell_type": "code",
   "execution_count": null,
   "id": "6ce2c560",
   "metadata": {
    "hidden": true
   },
   "outputs": [],
   "source": [
    "[DictTypes['C'],DictTypes['E']]\n",
    "a = DictTypes['C']\n",
    "b = DictTypes['E']\n",
    "Comb = list(itertools.product(*[a ,b]))\n",
    "Comb\n",
    "# list(itertools.combinations(Comb,2))\n",
    "list(itertools.product(b,repeat=3))"
   ]
  },
  {
   "cell_type": "code",
   "execution_count": null,
   "id": "f57f38ee",
   "metadata": {
    "hidden": true
   },
   "outputs": [],
   "source": [
    "Nc = 3\n",
    "Ne = 2\n",
    "Np = 2\n",
    "C = np.random.randint(0,Ne,(10,Nc))"
   ]
  },
  {
   "cell_type": "code",
   "execution_count": null,
   "id": "2448953c",
   "metadata": {
    "hidden": true
   },
   "outputs": [],
   "source": [
    "E = np.random.randint(0,Np,(10,Nc))\n",
    "E"
   ]
  },
  {
   "cell_type": "code",
   "execution_count": null,
   "id": "a34f6090",
   "metadata": {
    "hidden": true
   },
   "outputs": [],
   "source": [
    "C\n",
    "E"
   ]
  },
  {
   "cell_type": "code",
   "execution_count": null,
   "id": "0ab39d07",
   "metadata": {
    "hidden": true
   },
   "outputs": [],
   "source": [
    "np.vectorize(my_dict.__getitem__)(a)"
   ]
  },
  {
   "cell_type": "code",
   "execution_count": null,
   "id": "d66f5533",
   "metadata": {
    "hidden": true
   },
   "outputs": [],
   "source": [
    "i = 0\n",
    "c = C[i]\n",
    "e = E[i]\n",
    "Rank = \n"
   ]
  },
  {
   "cell_type": "code",
   "execution_count": null,
   "id": "ff28ba9f",
   "metadata": {
    "hidden": true
   },
   "outputs": [],
   "source": [
    "pd.DataFrame(c)"
   ]
  },
  {
   "cell_type": "code",
   "execution_count": null,
   "id": "767d8a94",
   "metadata": {
    "hidden": true
   },
   "outputs": [],
   "source": [
    "\n",
    "nmax = 5\n",
    "POP = 10\n",
    "pop = np.zeros((nmax, nmax), dtype= int)\n",
    "np.fill_diagonal(pop, 1)\n",
    "p2 = np.tile(pop,(2,1))\n",
    "r = np.where(p2 == 0)\n",
    "np.random.choice(r)\n",
    "# np.repeat(pop,[1, 2],1)\n",
    "p2\n",
    "# idx = np.random.randint(0,nmax,POP)\n",
    "# pop[:,idx] = 1\n",
    "# pop\n",
    "p2[p2 == 0]\n"
   ]
  },
  {
   "cell_type": "markdown",
   "id": "3085bb97",
   "metadata": {
    "heading_collapsed": true
   },
   "source": [
    "## test"
   ]
  },
  {
   "cell_type": "code",
   "execution_count": null,
   "id": "47e47b42",
   "metadata": {
    "hidden": true
   },
   "outputs": [],
   "source": [
    "c = np.random.randint(0,Ne+1,(10,Nc))"
   ]
  },
  {
   "cell_type": "code",
   "execution_count": null,
   "id": "3a583845",
   "metadata": {
    "hidden": true
   },
   "outputs": [],
   "source": [
    "c\n",
    "L= []\n",
    "for i in range(3):\n",
    "    L.append((c == i).sum(1))\n",
    "e = np.vstack(L).T  \n",
    "e"
   ]
  },
  {
   "cell_type": "code",
   "execution_count": null,
   "id": "6b4be668",
   "metadata": {
    "hidden": true
   },
   "outputs": [],
   "source": [
    "np.random.randint(0,Ne+1,(10,Nc))"
   ]
  },
  {
   "cell_type": "code",
   "execution_count": null,
   "id": "0c2256e4",
   "metadata": {
    "hidden": true
   },
   "outputs": [],
   "source": [
    "x = np.unique(c, return_counts = True)\n",
    "np.array(x)"
   ]
  },
  {
   "cell_type": "code",
   "execution_count": null,
   "id": "52c11d5b",
   "metadata": {
    "hidden": true
   },
   "outputs": [],
   "source": [
    "dict(zip(np.array(x)))\n"
   ]
  },
  {
   "cell_type": "code",
   "execution_count": null,
   "id": "af7fa8db",
   "metadata": {
    "hidden": true
   },
   "outputs": [],
   "source": [
    "import random as rand\n",
    "Nc = len()\n",
    "rand.randint(0,2)"
   ]
  },
  {
   "cell_type": "code",
   "execution_count": null,
   "id": "631364d6",
   "metadata": {
    "hidden": true
   },
   "outputs": [],
   "source": [
    "nalgo"
   ]
  },
  {
   "cell_type": "code",
   "execution_count": null,
   "id": "8cf282c1",
   "metadata": {
    "hidden": true
   },
   "outputs": [],
   "source": []
  },
  {
   "cell_type": "code",
   "execution_count": null,
   "id": "4df8f3f1",
   "metadata": {
    "hidden": true
   },
   "outputs": [],
   "source": []
  },
  {
   "cell_type": "code",
   "execution_count": null,
   "id": "1b67ad6b",
   "metadata": {
    "hidden": true
   },
   "outputs": [],
   "source": [
    "SimpleNamespace()"
   ]
  },
  {
   "cell_type": "code",
   "execution_count": null,
   "id": "f96b4d54",
   "metadata": {
    "hidden": true
   },
   "outputs": [],
   "source": []
  },
  {
   "cell_type": "code",
   "execution_count": null,
   "id": "2378a363",
   "metadata": {
    "hidden": true
   },
   "outputs": [],
   "source": [
    "class Individual(object):\n",
    "    def __init__(self, c,e,t):\n",
    "\n",
    "#         nalgo.All_indivs.append(chrom)\n",
    "        nalgo.ChromCount+=1\n",
    "        #print( nalgo.ChromCount)\n",
    "        self.c = chrom\n",
    "        self.Rank = 0\n",
    "        self.stat = {}\n",
    "        self.Modif = True\n",
    "\n",
    "    def print(self):\n",
    "        print('Chrom ', self.Chrom)\n",
    "\n",
    "    def get_rank(self):\n",
    "        return self.Rank"
   ]
  },
  {
   "cell_type": "markdown",
   "id": "81c044a8",
   "metadata": {},
   "source": [
    "# ANcien"
   ]
  },
  {
   "cell_type": "markdown",
   "id": "5f40753b",
   "metadata": {},
   "source": [
    "## test"
   ]
  },
  {
   "cell_type": "code",
   "execution_count": null,
   "id": "4f7491bb",
   "metadata": {},
   "outputs": [],
   "source": [
    "\n",
    "nmax = 5\n",
    "POP = 10\n",
    "pop = np.zeros((nmax, nmax), dtype= int)\n",
    "np.fill_diagonal(pop, 1)\n",
    "p2 = np.tile(pop,(2,1))\n",
    "r = np.where(p2 == 0)\n",
    "np.random.choice(r)\n",
    "# np.repeat(pop,[1, 2],1)\n",
    "p2\n",
    "# idx = np.random.randint(0,nmax,POP)\n",
    "# pop[:,idx] = 1\n",
    "# pop\n",
    "p2[p2 == 0]\n"
   ]
  },
  {
   "cell_type": "markdown",
   "id": "b603581e",
   "metadata": {},
   "source": [
    "## exemple"
   ]
  },
  {
   "cell_type": "markdown",
   "id": "e1edb66c",
   "metadata": {},
   "source": [
    "# Combinatoire brut force  (a trier)"
   ]
  },
  {
   "cell_type": "markdown",
   "id": "f17cde46",
   "metadata": {},
   "source": [
    "https://forums.futura-sciences.com/mathematiques-college-lycee/193661-repartir-n-objets-k-boites.html\n",
    "\n",
    "https://fr.wikipedia.org/wiki/Combinaison_(math%C3%A9matiques)"
   ]
  },
  {
   "cell_type": "code",
   "execution_count": null,
   "id": "d0f20df9",
   "metadata": {},
   "outputs": [],
   "source": [
    "\n",
    "num = np.math.factorial(20)/np.math.factorial(10)\n",
    "print(f\"{num:,}\")"
   ]
  },
  {
   "cell_type": "code",
   "execution_count": null,
   "id": "7e27f18e",
   "metadata": {},
   "outputs": [],
   "source": [
    "\"qefqze : {:,.0f}\".format(num)"
   ]
  },
  {
   "cell_type": "code",
   "execution_count": null,
   "id": "cfe0cebb",
   "metadata": {},
   "outputs": [],
   "source": [
    "from math import factorial as f\n",
    "enumerate"
   ]
  },
  {
   "cell_type": "code",
   "execution_count": null,
   "id": "c3f0b862",
   "metadata": {},
   "outputs": [],
   "source": [
    "d0 = {'Slot' : 3,'Capteur' : 4, 'elements' : 2}\n",
    "d0.values()"
   ]
  },
  {
   "cell_type": "code",
   "execution_count": null,
   "id": "83c2d1b0",
   "metadata": {},
   "outputs": [],
   "source": [
    "f(n)/(f(k))\n",
    "\n",
    "A = f(n)/f(n-k)\n",
    "A"
   ]
  },
  {
   "cell_type": "code",
   "execution_count": null,
   "id": "65ceae56",
   "metadata": {},
   "outputs": [],
   "source": [
    "f(3)"
   ]
  },
  {
   "cell_type": "code",
   "execution_count": null,
   "id": "3f7b06f9",
   "metadata": {},
   "outputs": [],
   "source": [
    "f(3)"
   ]
  },
  {
   "cell_type": "code",
   "execution_count": null,
   "id": "d5842597",
   "metadata": {},
   "outputs": [],
   "source": [
    "2**3\n",
    "1**4\n",
    "f(3)/f(1)"
   ]
  },
  {
   "cell_type": "code",
   "execution_count": null,
   "id": "3c861a5e",
   "metadata": {},
   "outputs": [],
   "source": [
    "slot = 2\n",
    "capteur = 3\n",
    "\n",
    "k = slot\n",
    "n =capteur\n",
    "n+k-1\n",
    "n,k-1\n",
    "\n",
    "a = f(n+k-1)\n",
    "b = f(n) * f(k-1)\n",
    "COMBINAISON = int(a/b)\n",
    "print(a, b,a/b)\n"
   ]
  },
  {
   "cell_type": "code",
   "execution_count": null,
   "id": "77740279",
   "metadata": {},
   "outputs": [],
   "source": [
    "from datetime import timedelta\n",
    "\n",
    "def get_time_hh_mm_ss(sec):\n",
    "    # create timedelta and convert it into string\n",
    "    td_str = str(timedelta(seconds=sec))\n",
    "    print('Time in seconds:', sec)\n",
    "\n",
    "    # split string into individual component\n",
    "    x = td_str.split(':')\n",
    "    print(td_str)\n",
    "    print('Time in hh:mm:ss:', x[0], 'Hours', x[1], 'Minutes', x[2], 'Seconds')\n",
    "\n",
    "get_time_hh_mm_ss(29500000)\n",
    "get_time_hh_mm_ss(num)"
   ]
  },
  {
   "cell_type": "code",
   "execution_count": null,
   "id": "b2e17abb",
   "metadata": {},
   "outputs": [],
   "source": []
  }
 ],
 "metadata": {
  "kernelspec": {
   "display_name": "Python 3 (ipykernel)",
   "language": "python",
   "name": "python3"
  },
  "language_info": {
   "codemirror_mode": {
    "name": "ipython",
    "version": 3
   },
   "file_extension": ".py",
   "mimetype": "text/x-python",
   "name": "python",
   "nbconvert_exporter": "python",
   "pygments_lexer": "ipython3",
   "version": "3.9.12"
  },
  "toc": {
   "base_numbering": 1,
   "nav_menu": {},
   "number_sections": true,
   "sideBar": true,
   "skip_h1_title": false,
   "title_cell": "Table of Contents",
   "title_sidebar": "Contents",
   "toc_cell": false,
   "toc_position": {
    "height": "calc(100% - 180px)",
    "left": "10px",
    "top": "150px",
    "width": "384px"
   },
   "toc_section_display": true,
   "toc_window_display": true
  }
 },
 "nbformat": 4,
 "nbformat_minor": 5
}
