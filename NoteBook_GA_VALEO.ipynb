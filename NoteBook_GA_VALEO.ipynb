{
 "cells": [
  {
   "cell_type": "markdown",
   "id": "9872d4b8",
   "metadata": {},
   "source": [
    "# Import"
   ]
  },
  {
   "cell_type": "raw",
   "id": "0fa2b25e",
   "metadata": {},
   "source": [
    "L = list(range(1000000))\n",
    "dfx = pd.DataFrame(L)\n",
    "%%timeit\n",
    "L[100]\n",
    "63.1 ns ± 1.32 ns per loop (mean ± std. dev. of 7 runs, 10000000 loops each)\n",
    "%%timeit\n",
    "dfx.iloc[100]\n",
    "83.3 µs ± 2.19 µs per loop (mean ± std. dev. of 7 runs, 10000 loops each)"
   ]
  },
  {
   "cell_type": "code",
   "execution_count": 1,
   "id": "4f5ac6ee",
   "metadata": {},
   "outputs": [],
   "source": [
    "import numpy as np\n",
    "import math\n",
    "import itertools \n",
    "import pandas as pd\n",
    "import numpy as np\n",
    "import io\n",
    "import msoffcrypto\n",
    "from sklearn.metrics import r2_score\n",
    "import openpyxl\n",
    "import plotly.express as px\n",
    "from IPython.core.interactiveshell import InteractiveShell\n",
    "InteractiveShell.ast_node_interactivity = \"all\"\n",
    "import plotly\n",
    "import matplotlib.pyplot as plt\n",
    "import plotly.graph_objects as go\n",
    "import streamlit as st\n",
    "import json\n",
    "from math import factorial as fact\n",
    "from IPython.display import Markdown, display\n",
    "import networkx as nx\n",
    "import requests\n",
    "import toml\n",
    "import sys, os\n",
    "import collections\n",
    "from types import SimpleNamespace\n",
    "\n",
    "%matplotlib inline \n",
    "%config Completer.use_jedi = False"
   ]
  },
  {
   "cell_type": "code",
   "execution_count": 14,
   "id": "2b247dec",
   "metadata": {},
   "outputs": [
    {
     "data": {
      "text/plain": [
       "[0, 1]"
      ]
     },
     "execution_count": 14,
     "metadata": {},
     "output_type": "execute_result"
    }
   ],
   "source": [
    "a = [1,1,1,0]\n",
    "c = dict(collections.Counter(a))\n",
    "sorted(c)\n"
   ]
  },
  {
   "cell_type": "markdown",
   "id": "3ddfc750",
   "metadata": {},
   "source": [
    "# Tiled import"
   ]
  },
  {
   "cell_type": "markdown",
   "id": "53a394e4",
   "metadata": {},
   "source": [
    "## func"
   ]
  },
  {
   "cell_type": "code",
   "execution_count": 2,
   "id": "f478c730",
   "metadata": {},
   "outputs": [],
   "source": [
    "def load_data(Size):\n",
    "    with open('VALEO_1.tmj', 'r') as f:\n",
    "      data = json.load(f)\n",
    "\n",
    "    dfs = pd.DataFrame(data['layers'][1]['objects']).drop(columns= ['rotation','width','height','visible','gid']).rename(columns = {'class' : 'Class', 'name' : 'Name'})\n",
    "    dfs.x = (dfs.x/16).astype(int)\n",
    "    dfs.y = (dfs.y/16).astype(int) - 1\n",
    "    dfs.Name = pd.to_numeric(dfs.Name)\n",
    "    dfs['ID'] = dfs.Class + dfs.Name.astype(str)\n",
    "    dfs['Color'] = dfs['Class'].map({'C':10,'E':20,'P':30})\n",
    "\n",
    "\n",
    "    dfline  = pd.DataFrame(data['layers'][2]['objects']).drop(columns=['rotation','width','name','height','visible']).rename(columns = {'class' : 'Class'})\n",
    "    for idx, row in dfline.iterrows():\n",
    "        properties = row.properties\n",
    "        dfline.loc[idx, ['end','long','start']] = [d['value'] for d in properties]    \n",
    "        polyline = row.polyline\n",
    "        x = row.x\n",
    "        y = row.y\n",
    "        polyline = [(p['x'] + x, p['y'] + y) for p in polyline]\n",
    "        p = np.array(polyline)\n",
    "        dfline.at[idx , 'polyline'] = p   \n",
    "        dfline.loc[idx ,'dist'] = np.abs(np.diff(p.T)).sum()\n",
    "    dfline.start = pd.to_numeric(dfline.start)\n",
    "    dfline.end = pd.to_numeric(dfline.end)\n",
    "    dfline.dist = dfline.dist.astype(int)\n",
    "    dfline = dfline.drop(columns= ['properties','x','y'])\n",
    "    dfline['ID'] = dfline.Class + dfline.start.astype(str) + dfline.end.astype(str)\n",
    "\n",
    "    L = []\n",
    "    D = dfs.Class.value_counts().to_dict()\n",
    "\n",
    "    for n in range(Size): \n",
    "        Clist = list(range(D['C']))\n",
    "\n",
    "        CtoE = np.random.randint(0,D['E'],D['C'])\n",
    "        Econnect = collections.Counter(CtoE)\n",
    "        Elist = sorted(Econnect)\n",
    "        Ecount = len(Elist)\n",
    "\n",
    "        EtoP = np.random.randint(0,D['P'],Ecount)\n",
    "        Pconnect = collections.Counter(EtoP)\n",
    "        Plist = sorted(Pconnect)\n",
    "        Pcount = len(Plist)\n",
    "\n",
    "        ID_CtoE = ['C-E{}{}'.format(i, CtoE[i]) for i in Clist]\n",
    "        ID_EtoP = ['E-P{}{}'.format(Elist[i]  , EtoP[i]) for i in range(Ecount)]\n",
    "\n",
    "        dist = dfline.loc[dfline.ID.isin(ID_CtoE + ID_EtoP), 'dist'].sum()  \n",
    "\n",
    "        l = [Clist, CtoE,Econnect,Elist,Ecount, EtoP,Pconnect,Plist,Pcount, ID_CtoE,ID_EtoP,dist]\n",
    "        L.append(l)  \n",
    "\n",
    "    col = ['Clist', 'CtoE','Econnect','Elist','Ecount', 'EtoP','Pconnect','Plist','Pcount', 'ID_CtoE','ID_EtoP','dist']\n",
    "    df = pd.DataFrame(L, columns= col)\n",
    "\n",
    "    df['Name'] = (df.ID_CtoE + df.ID_EtoP).str.join(',')\n",
    "    df1 = df.drop_duplicates(subset='Name').sort_values('dist')\n",
    "    return data, dfs, dfline , df1"
   ]
  },
  {
   "cell_type": "code",
   "execution_count": 3,
   "id": "c783ae7f",
   "metadata": {},
   "outputs": [],
   "source": [
    "data, dfs, dfline , df1 = load_data(100)"
   ]
  },
  {
   "cell_type": "code",
   "execution_count": null,
   "id": "1766df52",
   "metadata": {},
   "outputs": [],
   "source": []
  },
  {
   "cell_type": "markdown",
   "id": "2a6c07a6",
   "metadata": {
    "heading_collapsed": true
   },
   "source": [
    "## Data"
   ]
  },
  {
   "cell_type": "code",
   "execution_count": null,
   "id": "3c008569",
   "metadata": {
    "hidden": true
   },
   "outputs": [],
   "source": [
    "with open('VALEO_1.tmj', 'r') as f:\n",
    "  data = json.load(f)"
   ]
  },
  {
   "cell_type": "code",
   "execution_count": null,
   "id": "838c2f00",
   "metadata": {
    "hidden": true
   },
   "outputs": [],
   "source": [
    "dfs = pd.DataFrame(data['layers'][1]['objects']).drop(columns= ['rotation','width','height','visible','gid']).rename(columns = {'class' : 'Class', 'name' : 'Name'})\n",
    "dfs.x = (dfs.x/16).astype(int)\n",
    "dfs.y = (dfs.y/16).astype(int) - 1\n",
    "dfs.Name = pd.to_numeric(dfs.Name)\n",
    "dfs['ID'] = dfs.Class + dfs.Name.astype(str)\n",
    "dfs['Color'] = dfs['Class'].map({'C':10,'E':20,'P':30})\n",
    "\n",
    "dfs"
   ]
  },
  {
   "cell_type": "code",
   "execution_count": null,
   "id": "a320c6b0",
   "metadata": {
    "hidden": true
   },
   "outputs": [],
   "source": [
    "dfline  = pd.DataFrame(data['layers'][2]['objects']).drop(columns=['rotation','width','name','height','visible']).rename(columns = {'class' : 'Class'})\n",
    "\n",
    "for idx, row in dfline.iterrows():\n",
    "    properties = row.properties\n",
    "    dfline.loc[idx, ['end','long','start']] = [d['value'] for d in properties]    \n",
    "    polyline = row.polyline\n",
    "    x = row.x\n",
    "    y = row.y\n",
    "    polyline = [(p['x'] + x, p['y'] + y) for p in polyline]\n",
    "    p = np.array(polyline)\n",
    "    dfline.at[idx , 'polyline'] = p   \n",
    "    dfline.loc[idx ,'dist'] = np.abs(np.diff(p.T)).sum()\n",
    "dfline.start = pd.to_numeric(dfline.start)\n",
    "dfline.end = pd.to_numeric(dfline.end)\n",
    "dfline.dist = dfline.dist.astype(int)\n",
    "dfline = dfline.drop(columns= ['properties','x','y'])\n",
    "dfline['ID'] = dfline.Class + dfline.start.astype(str) + dfline.end.astype(str)\n",
    "dfline"
   ]
  },
  {
   "cell_type": "markdown",
   "id": "11690cc0",
   "metadata": {
    "heading_collapsed": true
   },
   "source": [
    "## plot all"
   ]
  },
  {
   "cell_type": "code",
   "execution_count": null,
   "id": "6d72ac5d",
   "metadata": {
    "hidden": true
   },
   "outputs": [],
   "source": [
    "N = data['height']\n",
    "A0 = data['layers'][0]['data']\n",
    "A0 = np.array(A0).reshape(10,7)\n",
    "pas = 16\n",
    "unique = np.unique(A0)\n",
    "A0[A0 == unique[0]] = 0\n",
    "A0[A0 == unique[1]] = 1\n",
    "A0"
   ]
  },
  {
   "cell_type": "code",
   "execution_count": null,
   "id": "81966c3c",
   "metadata": {
    "hidden": true
   },
   "outputs": [],
   "source": [
    "for idx, row in dfs.iterrows():\n",
    "#     print(row.x, row.y , row.Type * int(row.name))\n",
    "    A0[row.y, row.x] = row.Type + int(row.Name)"
   ]
  },
  {
   "cell_type": "code",
   "execution_count": null,
   "id": "3e370a39",
   "metadata": {
    "hidden": true
   },
   "outputs": [],
   "source": [
    "fig, ax = plt.subplots()\n",
    "ax.imshow(A0)"
   ]
  },
  {
   "cell_type": "code",
   "execution_count": null,
   "id": "7ef1b2d4",
   "metadata": {
    "hidden": true
   },
   "outputs": [],
   "source": [
    "A = np.kron(A0, np.ones((16,16), dtype=int))\n",
    "fig, ax = plt.subplots(figsize = (10,10))\n",
    "ax.imshow(A)\n",
    "for idx, row in dfline.iterrows():\n",
    "    p = np.array(row.polyline)\n",
    "    f = ax.plot(p[:,0],p[:,1],'k')\n",
    "style = dict(size=10, color='black')  \n",
    "for idx, row in dfs.iterrows():\n",
    "    x = row.x*16\n",
    "    y = row.y*16\n",
    "    text = row.Class + str(row.Name)\n",
    "    f = ax.text(row.x*16+8, row.y*16+8,text , **style,  ha='center', weight='bold') "
   ]
  },
  {
   "cell_type": "markdown",
   "id": "17f46f8a",
   "metadata": {
    "heading_collapsed": true
   },
   "source": [
    "## indiv"
   ]
  },
  {
   "cell_type": "markdown",
   "id": "ffedb3d4",
   "metadata": {},
   "source": [
    "## Objectif\n",
    "269ms value count VS 9 ms collection & np bincount"
   ]
  },
  {
   "cell_type": "code",
   "execution_count": null,
   "id": "8d9ffc8d",
   "metadata": {},
   "outputs": [],
   "source": [
    "D = dfs.Class.value_counts().to_dict()\n",
    "D"
   ]
  },
  {
   "cell_type": "code",
   "execution_count": null,
   "id": "d3904d10",
   "metadata": {},
   "outputs": [],
   "source": [
    "%%time\n",
    "L = []\n",
    "D = dfs.Class.value_counts().to_dict()\n",
    "\n",
    "for n in range(1000): \n",
    "    Clist = list(range(D['C']))\n",
    "\n",
    "    CtoE = np.random.randint(0,D['E'],D['C'])\n",
    "    Econnect = collections.Counter(CtoE)\n",
    "    Elist = sorted(Econnect)\n",
    "    Ecount = len(Elist)\n",
    "\n",
    "    EtoP = np.random.randint(0,D['P'],Ecount)\n",
    "    Pconnect = collections.Counter(EtoP)\n",
    "    Plist = sorted(Pconnect)\n",
    "    Pcount = len(Plist)\n",
    "\n",
    "    ID_CtoE = ['C-E{}{}'.format(i, CtoE[i]) for i in Clist]\n",
    "    ID_EtoP = ['E-P{}{}'.format(Elist[i]  , EtoP[i]) for i in range(Ecount)]\n",
    "\n",
    "    dist = dfline.loc[dfline.ID.isin(ID_CtoE + ID_EtoP), 'dist'].sum()\n",
    "\n",
    "    l = [Clist, CtoE,Econnect,Elist,Ecount, EtoP,Pconnect,Plist,Pcount, ID_CtoE,ID_EtoP,dist]\n",
    "    L.append(l)  "
   ]
  },
  {
   "cell_type": "code",
   "execution_count": null,
   "id": "71b29b04",
   "metadata": {},
   "outputs": [],
   "source": [
    "col = ['Clist', 'CtoE','Econnect','Elist','Ecount', 'EtoP','Pconnect','Plist','Pcount', 'ID_CtoE','ID_EtoP','dist']\n",
    "df = pd.DataFrame(L, columns= col)\n",
    "df.sort_values('dist').head(10)"
   ]
  },
  {
   "cell_type": "code",
   "execution_count": null,
   "id": "8bd3816b",
   "metadata": {},
   "outputs": [],
   "source": [
    "df['Name'] = (df.ID_CtoE + df.ID_EtoP).str.join(',')\n",
    "df1 = df.drop_duplicates(subset='Name').sort_values('dist')"
   ]
  },
  {
   "cell_type": "code",
   "execution_count": null,
   "id": "a9827501",
   "metadata": {
    "scrolled": true
   },
   "outputs": [],
   "source": [
    "df1"
   ]
  },
  {
   "cell_type": "code",
   "execution_count": null,
   "id": "f1ea7949",
   "metadata": {},
   "outputs": [],
   "source": [
    "ListSelectbox = df1[['ID_CtoE', 'ID_EtoP','dist']].values"
   ]
  },
  {
   "cell_type": "code",
   "execution_count": 6,
   "id": "07c63789",
   "metadata": {
    "collapsed": true
   },
   "outputs": [
    {
     "data": {
      "text/html": [
       "<div>\n",
       "<style scoped>\n",
       "    .dataframe tbody tr th:only-of-type {\n",
       "        vertical-align: middle;\n",
       "    }\n",
       "\n",
       "    .dataframe tbody tr th {\n",
       "        vertical-align: top;\n",
       "    }\n",
       "\n",
       "    .dataframe thead th {\n",
       "        text-align: right;\n",
       "    }\n",
       "</style>\n",
       "<table border=\"1\" class=\"dataframe\">\n",
       "  <thead>\n",
       "    <tr style=\"text-align: right;\">\n",
       "      <th></th>\n",
       "      <th>Clist</th>\n",
       "      <th>CtoE</th>\n",
       "      <th>Econnect</th>\n",
       "      <th>Elist</th>\n",
       "      <th>Ecount</th>\n",
       "      <th>EtoP</th>\n",
       "      <th>Pconnect</th>\n",
       "      <th>Plist</th>\n",
       "      <th>Pcount</th>\n",
       "      <th>ID_CtoE</th>\n",
       "      <th>ID_EtoP</th>\n",
       "      <th>dist</th>\n",
       "      <th>Name</th>\n",
       "    </tr>\n",
       "  </thead>\n",
       "  <tbody>\n",
       "    <tr>\n",
       "      <th>14</th>\n",
       "      <td>[0, 1, 2, 3]</td>\n",
       "      <td>[1, 1, 1, 0]</td>\n",
       "      <td>{1: 3, 0: 1}</td>\n",
       "      <td>[0, 1]</td>\n",
       "      <td>2</td>\n",
       "      <td>[0, 1]</td>\n",
       "      <td>{0: 1, 1: 1}</td>\n",
       "      <td>[0, 1]</td>\n",
       "      <td>2</td>\n",
       "      <td>[C-E01, C-E11, C-E21, C-E30]</td>\n",
       "      <td>[E-P00, E-P11]</td>\n",
       "      <td>208</td>\n",
       "      <td>C-E01,C-E11,C-E21,C-E30,E-P00,E-P11</td>\n",
       "    </tr>\n",
       "    <tr>\n",
       "      <th>41</th>\n",
       "      <td>[0, 1, 2, 3]</td>\n",
       "      <td>[1, 0, 1, 0]</td>\n",
       "      <td>{1: 2, 0: 2}</td>\n",
       "      <td>[0, 1]</td>\n",
       "      <td>2</td>\n",
       "      <td>[0, 1]</td>\n",
       "      <td>{0: 1, 1: 1}</td>\n",
       "      <td>[0, 1]</td>\n",
       "      <td>2</td>\n",
       "      <td>[C-E01, C-E10, C-E21, C-E30]</td>\n",
       "      <td>[E-P00, E-P11]</td>\n",
       "      <td>236</td>\n",
       "      <td>C-E01,C-E10,C-E21,C-E30,E-P00,E-P11</td>\n",
       "    </tr>\n",
       "    <tr>\n",
       "      <th>21</th>\n",
       "      <td>[0, 1, 2, 3]</td>\n",
       "      <td>[1, 1, 1, 0]</td>\n",
       "      <td>{1: 3, 0: 1}</td>\n",
       "      <td>[0, 1]</td>\n",
       "      <td>2</td>\n",
       "      <td>[1, 1]</td>\n",
       "      <td>{1: 2}</td>\n",
       "      <td>[1]</td>\n",
       "      <td>1</td>\n",
       "      <td>[C-E01, C-E11, C-E21, C-E30]</td>\n",
       "      <td>[E-P01, E-P11]</td>\n",
       "      <td>272</td>\n",
       "      <td>C-E01,C-E11,C-E21,C-E30,E-P01,E-P11</td>\n",
       "    </tr>\n",
       "    <tr>\n",
       "      <th>8</th>\n",
       "      <td>[0, 1, 2, 3]</td>\n",
       "      <td>[0, 1, 1, 0]</td>\n",
       "      <td>{0: 2, 1: 2}</td>\n",
       "      <td>[0, 1]</td>\n",
       "      <td>2</td>\n",
       "      <td>[0, 1]</td>\n",
       "      <td>{0: 1, 1: 1}</td>\n",
       "      <td>[0, 1]</td>\n",
       "      <td>2</td>\n",
       "      <td>[C-E00, C-E11, C-E21, C-E30]</td>\n",
       "      <td>[E-P00, E-P11]</td>\n",
       "      <td>280</td>\n",
       "      <td>C-E00,C-E11,C-E21,C-E30,E-P00,E-P11</td>\n",
       "    </tr>\n",
       "    <tr>\n",
       "      <th>55</th>\n",
       "      <td>[0, 1, 2, 3]</td>\n",
       "      <td>[0, 1, 1, 1]</td>\n",
       "      <td>{0: 1, 1: 3}</td>\n",
       "      <td>[0, 1]</td>\n",
       "      <td>2</td>\n",
       "      <td>[0, 1]</td>\n",
       "      <td>{0: 1, 1: 1}</td>\n",
       "      <td>[0, 1]</td>\n",
       "      <td>2</td>\n",
       "      <td>[C-E00, C-E11, C-E21, C-E31]</td>\n",
       "      <td>[E-P00, E-P11]</td>\n",
       "      <td>296</td>\n",
       "      <td>C-E00,C-E11,C-E21,C-E31,E-P00,E-P11</td>\n",
       "    </tr>\n",
       "    <tr>\n",
       "      <th>45</th>\n",
       "      <td>[0, 1, 2, 3]</td>\n",
       "      <td>[1, 1, 1, 0]</td>\n",
       "      <td>{1: 3, 0: 1}</td>\n",
       "      <td>[0, 1]</td>\n",
       "      <td>2</td>\n",
       "      <td>[0, 0]</td>\n",
       "      <td>{0: 2}</td>\n",
       "      <td>[0]</td>\n",
       "      <td>1</td>\n",
       "      <td>[C-E01, C-E11, C-E21, C-E30]</td>\n",
       "      <td>[E-P00, E-P10]</td>\n",
       "      <td>296</td>\n",
       "      <td>C-E01,C-E11,C-E21,C-E30,E-P00,E-P10</td>\n",
       "    </tr>\n",
       "    <tr>\n",
       "      <th>34</th>\n",
       "      <td>[0, 1, 2, 3]</td>\n",
       "      <td>[1, 0, 1, 0]</td>\n",
       "      <td>{1: 2, 0: 2}</td>\n",
       "      <td>[0, 1]</td>\n",
       "      <td>2</td>\n",
       "      <td>[1, 1]</td>\n",
       "      <td>{1: 2}</td>\n",
       "      <td>[1]</td>\n",
       "      <td>1</td>\n",
       "      <td>[C-E01, C-E10, C-E21, C-E30]</td>\n",
       "      <td>[E-P01, E-P11]</td>\n",
       "      <td>300</td>\n",
       "      <td>C-E01,C-E10,C-E21,C-E30,E-P01,E-P11</td>\n",
       "    </tr>\n",
       "    <tr>\n",
       "      <th>37</th>\n",
       "      <td>[0, 1, 2, 3]</td>\n",
       "      <td>[1, 1, 1, 1]</td>\n",
       "      <td>{1: 4}</td>\n",
       "      <td>[1]</td>\n",
       "      <td>1</td>\n",
       "      <td>[0]</td>\n",
       "      <td>{0: 1}</td>\n",
       "      <td>[0]</td>\n",
       "      <td>1</td>\n",
       "      <td>[C-E01, C-E11, C-E21, C-E31]</td>\n",
       "      <td>[E-P10]</td>\n",
       "      <td>304</td>\n",
       "      <td>C-E01,C-E11,C-E21,C-E31,E-P10</td>\n",
       "    </tr>\n",
       "    <tr>\n",
       "      <th>7</th>\n",
       "      <td>[0, 1, 2, 3]</td>\n",
       "      <td>[0, 0, 1, 0]</td>\n",
       "      <td>{0: 3, 1: 1}</td>\n",
       "      <td>[0, 1]</td>\n",
       "      <td>2</td>\n",
       "      <td>[0, 1]</td>\n",
       "      <td>{0: 1, 1: 1}</td>\n",
       "      <td>[0, 1]</td>\n",
       "      <td>2</td>\n",
       "      <td>[C-E00, C-E10, C-E21, C-E30]</td>\n",
       "      <td>[E-P00, E-P11]</td>\n",
       "      <td>308</td>\n",
       "      <td>C-E00,C-E10,C-E21,C-E30,E-P00,E-P11</td>\n",
       "    </tr>\n",
       "    <tr>\n",
       "      <th>93</th>\n",
       "      <td>[0, 1, 2, 3]</td>\n",
       "      <td>[1, 1, 0, 0]</td>\n",
       "      <td>{1: 2, 0: 2}</td>\n",
       "      <td>[0, 1]</td>\n",
       "      <td>2</td>\n",
       "      <td>[0, 1]</td>\n",
       "      <td>{0: 1, 1: 1}</td>\n",
       "      <td>[0, 1]</td>\n",
       "      <td>2</td>\n",
       "      <td>[C-E01, C-E11, C-E20, C-E30]</td>\n",
       "      <td>[E-P00, E-P11]</td>\n",
       "      <td>320</td>\n",
       "      <td>C-E01,C-E11,C-E20,C-E30,E-P00,E-P11</td>\n",
       "    </tr>\n",
       "    <tr>\n",
       "      <th>27</th>\n",
       "      <td>[0, 1, 2, 3]</td>\n",
       "      <td>[0, 0, 1, 1]</td>\n",
       "      <td>{0: 2, 1: 2}</td>\n",
       "      <td>[0, 1]</td>\n",
       "      <td>2</td>\n",
       "      <td>[0, 1]</td>\n",
       "      <td>{0: 1, 1: 1}</td>\n",
       "      <td>[0, 1]</td>\n",
       "      <td>2</td>\n",
       "      <td>[C-E00, C-E10, C-E21, C-E31]</td>\n",
       "      <td>[E-P00, E-P11]</td>\n",
       "      <td>324</td>\n",
       "      <td>C-E00,C-E10,C-E21,C-E31,E-P00,E-P11</td>\n",
       "    </tr>\n",
       "    <tr>\n",
       "      <th>50</th>\n",
       "      <td>[0, 1, 2, 3]</td>\n",
       "      <td>[1, 0, 1, 0]</td>\n",
       "      <td>{1: 2, 0: 2}</td>\n",
       "      <td>[0, 1]</td>\n",
       "      <td>2</td>\n",
       "      <td>[0, 0]</td>\n",
       "      <td>{0: 2}</td>\n",
       "      <td>[0]</td>\n",
       "      <td>1</td>\n",
       "      <td>[C-E01, C-E10, C-E21, C-E30]</td>\n",
       "      <td>[E-P00, E-P10]</td>\n",
       "      <td>324</td>\n",
       "      <td>C-E01,C-E10,C-E21,C-E30,E-P00,E-P10</td>\n",
       "    </tr>\n",
       "    <tr>\n",
       "      <th>38</th>\n",
       "      <td>[0, 1, 2, 3]</td>\n",
       "      <td>[1, 1, 0, 1]</td>\n",
       "      <td>{1: 3, 0: 1}</td>\n",
       "      <td>[0, 1]</td>\n",
       "      <td>2</td>\n",
       "      <td>[0, 1]</td>\n",
       "      <td>{0: 1, 1: 1}</td>\n",
       "      <td>[0, 1]</td>\n",
       "      <td>2</td>\n",
       "      <td>[C-E01, C-E11, C-E20, C-E31]</td>\n",
       "      <td>[E-P00, E-P11]</td>\n",
       "      <td>336</td>\n",
       "      <td>C-E01,C-E11,C-E20,C-E31,E-P00,E-P11</td>\n",
       "    </tr>\n",
       "    <tr>\n",
       "      <th>22</th>\n",
       "      <td>[0, 1, 2, 3]</td>\n",
       "      <td>[1, 0, 1, 1]</td>\n",
       "      <td>{1: 3, 0: 1}</td>\n",
       "      <td>[0, 1]</td>\n",
       "      <td>2</td>\n",
       "      <td>[0, 0]</td>\n",
       "      <td>{0: 2}</td>\n",
       "      <td>[0]</td>\n",
       "      <td>1</td>\n",
       "      <td>[C-E01, C-E10, C-E21, C-E31]</td>\n",
       "      <td>[E-P00, E-P10]</td>\n",
       "      <td>340</td>\n",
       "      <td>C-E01,C-E10,C-E21,C-E31,E-P00,E-P10</td>\n",
       "    </tr>\n",
       "    <tr>\n",
       "      <th>56</th>\n",
       "      <td>[0, 1, 2, 3]</td>\n",
       "      <td>[0, 1, 1, 0]</td>\n",
       "      <td>{0: 2, 1: 2}</td>\n",
       "      <td>[0, 1]</td>\n",
       "      <td>2</td>\n",
       "      <td>[1, 1]</td>\n",
       "      <td>{1: 2}</td>\n",
       "      <td>[1]</td>\n",
       "      <td>1</td>\n",
       "      <td>[C-E00, C-E11, C-E21, C-E30]</td>\n",
       "      <td>[E-P01, E-P11]</td>\n",
       "      <td>344</td>\n",
       "      <td>C-E00,C-E11,C-E21,C-E30,E-P01,E-P11</td>\n",
       "    </tr>\n",
       "    <tr>\n",
       "      <th>19</th>\n",
       "      <td>[0, 1, 2, 3]</td>\n",
       "      <td>[1, 0, 0, 0]</td>\n",
       "      <td>{1: 1, 0: 3}</td>\n",
       "      <td>[0, 1]</td>\n",
       "      <td>2</td>\n",
       "      <td>[0, 1]</td>\n",
       "      <td>{0: 1, 1: 1}</td>\n",
       "      <td>[0, 1]</td>\n",
       "      <td>2</td>\n",
       "      <td>[C-E01, C-E10, C-E20, C-E30]</td>\n",
       "      <td>[E-P00, E-P11]</td>\n",
       "      <td>348</td>\n",
       "      <td>C-E01,C-E10,C-E20,C-E30,E-P00,E-P11</td>\n",
       "    </tr>\n",
       "    <tr>\n",
       "      <th>9</th>\n",
       "      <td>[0, 1, 2, 3]</td>\n",
       "      <td>[1, 1, 1, 0]</td>\n",
       "      <td>{1: 3, 0: 1}</td>\n",
       "      <td>[0, 1]</td>\n",
       "      <td>2</td>\n",
       "      <td>[1, 0]</td>\n",
       "      <td>{1: 1, 0: 1}</td>\n",
       "      <td>[0, 1]</td>\n",
       "      <td>2</td>\n",
       "      <td>[C-E01, C-E11, C-E21, C-E30]</td>\n",
       "      <td>[E-P01, E-P10]</td>\n",
       "      <td>360</td>\n",
       "      <td>C-E01,C-E11,C-E21,C-E30,E-P01,E-P10</td>\n",
       "    </tr>\n",
       "    <tr>\n",
       "      <th>31</th>\n",
       "      <td>[0, 1, 2, 3]</td>\n",
       "      <td>[0, 1, 1, 1]</td>\n",
       "      <td>{0: 1, 1: 3}</td>\n",
       "      <td>[0, 1]</td>\n",
       "      <td>2</td>\n",
       "      <td>[1, 1]</td>\n",
       "      <td>{1: 2}</td>\n",
       "      <td>[1]</td>\n",
       "      <td>1</td>\n",
       "      <td>[C-E00, C-E11, C-E21, C-E31]</td>\n",
       "      <td>[E-P01, E-P11]</td>\n",
       "      <td>360</td>\n",
       "      <td>C-E00,C-E11,C-E21,C-E31,E-P01,E-P11</td>\n",
       "    </tr>\n",
       "    <tr>\n",
       "      <th>17</th>\n",
       "      <td>[0, 1, 2, 3]</td>\n",
       "      <td>[1, 0, 0, 1]</td>\n",
       "      <td>{1: 2, 0: 2}</td>\n",
       "      <td>[0, 1]</td>\n",
       "      <td>2</td>\n",
       "      <td>[0, 1]</td>\n",
       "      <td>{0: 1, 1: 1}</td>\n",
       "      <td>[0, 1]</td>\n",
       "      <td>2</td>\n",
       "      <td>[C-E01, C-E10, C-E20, C-E31]</td>\n",
       "      <td>[E-P00, E-P11]</td>\n",
       "      <td>364</td>\n",
       "      <td>C-E01,C-E10,C-E20,C-E31,E-P00,E-P11</td>\n",
       "    </tr>\n",
       "    <tr>\n",
       "      <th>20</th>\n",
       "      <td>[0, 1, 2, 3]</td>\n",
       "      <td>[0, 1, 1, 0]</td>\n",
       "      <td>{0: 2, 1: 2}</td>\n",
       "      <td>[0, 1]</td>\n",
       "      <td>2</td>\n",
       "      <td>[0, 0]</td>\n",
       "      <td>{0: 2}</td>\n",
       "      <td>[0]</td>\n",
       "      <td>1</td>\n",
       "      <td>[C-E00, C-E11, C-E21, C-E30]</td>\n",
       "      <td>[E-P00, E-P10]</td>\n",
       "      <td>368</td>\n",
       "      <td>C-E00,C-E11,C-E21,C-E30,E-P00,E-P10</td>\n",
       "    </tr>\n",
       "    <tr>\n",
       "      <th>52</th>\n",
       "      <td>[0, 1, 2, 3]</td>\n",
       "      <td>[0, 0, 1, 0]</td>\n",
       "      <td>{0: 3, 1: 1}</td>\n",
       "      <td>[0, 1]</td>\n",
       "      <td>2</td>\n",
       "      <td>[1, 1]</td>\n",
       "      <td>{1: 2}</td>\n",
       "      <td>[1]</td>\n",
       "      <td>1</td>\n",
       "      <td>[C-E00, C-E10, C-E21, C-E30]</td>\n",
       "      <td>[E-P01, E-P11]</td>\n",
       "      <td>372</td>\n",
       "      <td>C-E00,C-E10,C-E21,C-E30,E-P01,E-P11</td>\n",
       "    </tr>\n",
       "    <tr>\n",
       "      <th>0</th>\n",
       "      <td>[0, 1, 2, 3]</td>\n",
       "      <td>[1, 1, 0, 0]</td>\n",
       "      <td>{1: 2, 0: 2}</td>\n",
       "      <td>[0, 1]</td>\n",
       "      <td>2</td>\n",
       "      <td>[1, 1]</td>\n",
       "      <td>{1: 2}</td>\n",
       "      <td>[1]</td>\n",
       "      <td>1</td>\n",
       "      <td>[C-E01, C-E11, C-E20, C-E30]</td>\n",
       "      <td>[E-P01, E-P11]</td>\n",
       "      <td>384</td>\n",
       "      <td>C-E01,C-E11,C-E20,C-E30,E-P01,E-P11</td>\n",
       "    </tr>\n",
       "    <tr>\n",
       "      <th>24</th>\n",
       "      <td>[0, 1, 2, 3]</td>\n",
       "      <td>[1, 0, 1, 0]</td>\n",
       "      <td>{1: 2, 0: 2}</td>\n",
       "      <td>[0, 1]</td>\n",
       "      <td>2</td>\n",
       "      <td>[1, 0]</td>\n",
       "      <td>{1: 1, 0: 1}</td>\n",
       "      <td>[0, 1]</td>\n",
       "      <td>2</td>\n",
       "      <td>[C-E01, C-E10, C-E21, C-E30]</td>\n",
       "      <td>[E-P01, E-P10]</td>\n",
       "      <td>388</td>\n",
       "      <td>C-E01,C-E10,C-E21,C-E30,E-P01,E-P10</td>\n",
       "    </tr>\n",
       "    <tr>\n",
       "      <th>72</th>\n",
       "      <td>[0, 1, 2, 3]</td>\n",
       "      <td>[0, 0, 1, 0]</td>\n",
       "      <td>{0: 3, 1: 1}</td>\n",
       "      <td>[0, 1]</td>\n",
       "      <td>2</td>\n",
       "      <td>[0, 0]</td>\n",
       "      <td>{0: 2}</td>\n",
       "      <td>[0]</td>\n",
       "      <td>1</td>\n",
       "      <td>[C-E00, C-E10, C-E21, C-E30]</td>\n",
       "      <td>[E-P00, E-P10]</td>\n",
       "      <td>396</td>\n",
       "      <td>C-E00,C-E10,C-E21,C-E30,E-P00,E-P10</td>\n",
       "    </tr>\n",
       "    <tr>\n",
       "      <th>3</th>\n",
       "      <td>[0, 1, 2, 3]</td>\n",
       "      <td>[0, 0, 0, 0]</td>\n",
       "      <td>{0: 4}</td>\n",
       "      <td>[0]</td>\n",
       "      <td>1</td>\n",
       "      <td>[0]</td>\n",
       "      <td>{0: 1}</td>\n",
       "      <td>[0]</td>\n",
       "      <td>1</td>\n",
       "      <td>[C-E00, C-E10, C-E20, C-E30]</td>\n",
       "      <td>[E-P00]</td>\n",
       "      <td>396</td>\n",
       "      <td>C-E00,C-E10,C-E20,C-E30,E-P00</td>\n",
       "    </tr>\n",
       "    <tr>\n",
       "      <th>51</th>\n",
       "      <td>[0, 1, 2, 3]</td>\n",
       "      <td>[1, 0, 1, 1]</td>\n",
       "      <td>{1: 3, 0: 1}</td>\n",
       "      <td>[0, 1]</td>\n",
       "      <td>2</td>\n",
       "      <td>[1, 0]</td>\n",
       "      <td>{1: 1, 0: 1}</td>\n",
       "      <td>[0, 1]</td>\n",
       "      <td>2</td>\n",
       "      <td>[C-E01, C-E10, C-E21, C-E31]</td>\n",
       "      <td>[E-P01, E-P10]</td>\n",
       "      <td>404</td>\n",
       "      <td>C-E01,C-E10,C-E21,C-E31,E-P01,E-P10</td>\n",
       "    </tr>\n",
       "    <tr>\n",
       "      <th>49</th>\n",
       "      <td>[0, 1, 2, 3]</td>\n",
       "      <td>[1, 1, 0, 0]</td>\n",
       "      <td>{1: 2, 0: 2}</td>\n",
       "      <td>[0, 1]</td>\n",
       "      <td>2</td>\n",
       "      <td>[0, 0]</td>\n",
       "      <td>{0: 2}</td>\n",
       "      <td>[0]</td>\n",
       "      <td>1</td>\n",
       "      <td>[C-E01, C-E11, C-E20, C-E30]</td>\n",
       "      <td>[E-P00, E-P10]</td>\n",
       "      <td>408</td>\n",
       "      <td>C-E01,C-E11,C-E20,C-E30,E-P00,E-P10</td>\n",
       "    </tr>\n",
       "    <tr>\n",
       "      <th>23</th>\n",
       "      <td>[0, 1, 2, 3]</td>\n",
       "      <td>[0, 1, 0, 1]</td>\n",
       "      <td>{0: 2, 1: 2}</td>\n",
       "      <td>[0, 1]</td>\n",
       "      <td>2</td>\n",
       "      <td>[0, 1]</td>\n",
       "      <td>{0: 1, 1: 1}</td>\n",
       "      <td>[0, 1]</td>\n",
       "      <td>2</td>\n",
       "      <td>[C-E00, C-E11, C-E20, C-E31]</td>\n",
       "      <td>[E-P00, E-P11]</td>\n",
       "      <td>408</td>\n",
       "      <td>C-E00,C-E11,C-E20,C-E31,E-P00,E-P11</td>\n",
       "    </tr>\n",
       "    <tr>\n",
       "      <th>81</th>\n",
       "      <td>[0, 1, 2, 3]</td>\n",
       "      <td>[1, 0, 0, 0]</td>\n",
       "      <td>{1: 1, 0: 3}</td>\n",
       "      <td>[0, 1]</td>\n",
       "      <td>2</td>\n",
       "      <td>[1, 1]</td>\n",
       "      <td>{1: 2}</td>\n",
       "      <td>[1]</td>\n",
       "      <td>1</td>\n",
       "      <td>[C-E01, C-E10, C-E20, C-E30]</td>\n",
       "      <td>[E-P01, E-P11]</td>\n",
       "      <td>412</td>\n",
       "      <td>C-E01,C-E10,C-E20,C-E30,E-P01,E-P11</td>\n",
       "    </tr>\n",
       "    <tr>\n",
       "      <th>57</th>\n",
       "      <td>[0, 1, 2, 3]</td>\n",
       "      <td>[0, 0, 1, 1]</td>\n",
       "      <td>{0: 2, 1: 2}</td>\n",
       "      <td>[0, 1]</td>\n",
       "      <td>2</td>\n",
       "      <td>[0, 0]</td>\n",
       "      <td>{0: 2}</td>\n",
       "      <td>[0]</td>\n",
       "      <td>1</td>\n",
       "      <td>[C-E00, C-E10, C-E21, C-E31]</td>\n",
       "      <td>[E-P00, E-P10]</td>\n",
       "      <td>412</td>\n",
       "      <td>C-E00,C-E10,C-E21,C-E31,E-P00,E-P10</td>\n",
       "    </tr>\n",
       "    <tr>\n",
       "      <th>13</th>\n",
       "      <td>[0, 1, 2, 3]</td>\n",
       "      <td>[1, 1, 0, 1]</td>\n",
       "      <td>{1: 3, 0: 1}</td>\n",
       "      <td>[0, 1]</td>\n",
       "      <td>2</td>\n",
       "      <td>[0, 0]</td>\n",
       "      <td>{0: 2}</td>\n",
       "      <td>[0]</td>\n",
       "      <td>1</td>\n",
       "      <td>[C-E01, C-E11, C-E20, C-E31]</td>\n",
       "      <td>[E-P00, E-P10]</td>\n",
       "      <td>424</td>\n",
       "      <td>C-E01,C-E11,C-E20,C-E31,E-P00,E-P10</td>\n",
       "    </tr>\n",
       "    <tr>\n",
       "      <th>1</th>\n",
       "      <td>[0, 1, 2, 3]</td>\n",
       "      <td>[1, 0, 0, 1]</td>\n",
       "      <td>{1: 2, 0: 2}</td>\n",
       "      <td>[0, 1]</td>\n",
       "      <td>2</td>\n",
       "      <td>[1, 1]</td>\n",
       "      <td>{1: 2}</td>\n",
       "      <td>[1]</td>\n",
       "      <td>1</td>\n",
       "      <td>[C-E01, C-E10, C-E20, C-E31]</td>\n",
       "      <td>[E-P01, E-P11]</td>\n",
       "      <td>428</td>\n",
       "      <td>C-E01,C-E10,C-E20,C-E31,E-P01,E-P11</td>\n",
       "    </tr>\n",
       "    <tr>\n",
       "      <th>71</th>\n",
       "      <td>[0, 1, 2, 3]</td>\n",
       "      <td>[0, 1, 1, 0]</td>\n",
       "      <td>{0: 2, 1: 2}</td>\n",
       "      <td>[0, 1]</td>\n",
       "      <td>2</td>\n",
       "      <td>[1, 0]</td>\n",
       "      <td>{1: 1, 0: 1}</td>\n",
       "      <td>[0, 1]</td>\n",
       "      <td>2</td>\n",
       "      <td>[C-E00, C-E11, C-E21, C-E30]</td>\n",
       "      <td>[E-P01, E-P10]</td>\n",
       "      <td>432</td>\n",
       "      <td>C-E00,C-E11,C-E21,C-E30,E-P01,E-P10</td>\n",
       "    </tr>\n",
       "    <tr>\n",
       "      <th>15</th>\n",
       "      <td>[0, 1, 2, 3]</td>\n",
       "      <td>[0, 0, 0, 1]</td>\n",
       "      <td>{0: 3, 1: 1}</td>\n",
       "      <td>[0, 1]</td>\n",
       "      <td>2</td>\n",
       "      <td>[0, 1]</td>\n",
       "      <td>{0: 1, 1: 1}</td>\n",
       "      <td>[0, 1]</td>\n",
       "      <td>2</td>\n",
       "      <td>[C-E00, C-E10, C-E20, C-E31]</td>\n",
       "      <td>[E-P00, E-P11]</td>\n",
       "      <td>436</td>\n",
       "      <td>C-E00,C-E10,C-E20,C-E31,E-P00,E-P11</td>\n",
       "    </tr>\n",
       "    <tr>\n",
       "      <th>10</th>\n",
       "      <td>[0, 1, 2, 3]</td>\n",
       "      <td>[1, 0, 0, 0]</td>\n",
       "      <td>{1: 1, 0: 3}</td>\n",
       "      <td>[0, 1]</td>\n",
       "      <td>2</td>\n",
       "      <td>[0, 0]</td>\n",
       "      <td>{0: 2}</td>\n",
       "      <td>[0]</td>\n",
       "      <td>1</td>\n",
       "      <td>[C-E01, C-E10, C-E20, C-E30]</td>\n",
       "      <td>[E-P00, E-P10]</td>\n",
       "      <td>436</td>\n",
       "      <td>C-E01,C-E10,C-E20,C-E30,E-P00,E-P10</td>\n",
       "    </tr>\n",
       "    <tr>\n",
       "      <th>5</th>\n",
       "      <td>[0, 1, 2, 3]</td>\n",
       "      <td>[0, 1, 1, 1]</td>\n",
       "      <td>{0: 1, 1: 3}</td>\n",
       "      <td>[0, 1]</td>\n",
       "      <td>2</td>\n",
       "      <td>[1, 0]</td>\n",
       "      <td>{1: 1, 0: 1}</td>\n",
       "      <td>[0, 1]</td>\n",
       "      <td>2</td>\n",
       "      <td>[C-E00, C-E11, C-E21, C-E31]</td>\n",
       "      <td>[E-P01, E-P10]</td>\n",
       "      <td>448</td>\n",
       "      <td>C-E00,C-E11,C-E21,C-E31,E-P01,E-P10</td>\n",
       "    </tr>\n",
       "    <tr>\n",
       "      <th>33</th>\n",
       "      <td>[0, 1, 2, 3]</td>\n",
       "      <td>[0, 1, 0, 0]</td>\n",
       "      <td>{0: 3, 1: 1}</td>\n",
       "      <td>[0, 1]</td>\n",
       "      <td>2</td>\n",
       "      <td>[1, 1]</td>\n",
       "      <td>{1: 2}</td>\n",
       "      <td>[1]</td>\n",
       "      <td>1</td>\n",
       "      <td>[C-E00, C-E11, C-E20, C-E30]</td>\n",
       "      <td>[E-P01, E-P11]</td>\n",
       "      <td>456</td>\n",
       "      <td>C-E00,C-E11,C-E20,C-E30,E-P01,E-P11</td>\n",
       "    </tr>\n",
       "    <tr>\n",
       "      <th>12</th>\n",
       "      <td>[0, 1, 2, 3]</td>\n",
       "      <td>[0, 0, 1, 0]</td>\n",
       "      <td>{0: 3, 1: 1}</td>\n",
       "      <td>[0, 1]</td>\n",
       "      <td>2</td>\n",
       "      <td>[1, 0]</td>\n",
       "      <td>{1: 1, 0: 1}</td>\n",
       "      <td>[0, 1]</td>\n",
       "      <td>2</td>\n",
       "      <td>[C-E00, C-E10, C-E21, C-E30]</td>\n",
       "      <td>[E-P01, E-P10]</td>\n",
       "      <td>460</td>\n",
       "      <td>C-E00,C-E10,C-E21,C-E30,E-P01,E-P10</td>\n",
       "    </tr>\n",
       "    <tr>\n",
       "      <th>73</th>\n",
       "      <td>[0, 1, 2, 3]</td>\n",
       "      <td>[0, 0, 0, 0]</td>\n",
       "      <td>{0: 4}</td>\n",
       "      <td>[0]</td>\n",
       "      <td>1</td>\n",
       "      <td>[1]</td>\n",
       "      <td>{1: 1}</td>\n",
       "      <td>[1]</td>\n",
       "      <td>1</td>\n",
       "      <td>[C-E00, C-E10, C-E20, C-E30]</td>\n",
       "      <td>[E-P01]</td>\n",
       "      <td>460</td>\n",
       "      <td>C-E00,C-E10,C-E20,C-E30,E-P01</td>\n",
       "    </tr>\n",
       "    <tr>\n",
       "      <th>54</th>\n",
       "      <td>[0, 1, 2, 3]</td>\n",
       "      <td>[0, 1, 0, 1]</td>\n",
       "      <td>{0: 2, 1: 2}</td>\n",
       "      <td>[0, 1]</td>\n",
       "      <td>2</td>\n",
       "      <td>[1, 1]</td>\n",
       "      <td>{1: 2}</td>\n",
       "      <td>[1]</td>\n",
       "      <td>1</td>\n",
       "      <td>[C-E00, C-E11, C-E20, C-E31]</td>\n",
       "      <td>[E-P01, E-P11]</td>\n",
       "      <td>472</td>\n",
       "      <td>C-E00,C-E11,C-E20,C-E31,E-P01,E-P11</td>\n",
       "    </tr>\n",
       "    <tr>\n",
       "      <th>26</th>\n",
       "      <td>[0, 1, 2, 3]</td>\n",
       "      <td>[0, 0, 1, 1]</td>\n",
       "      <td>{0: 2, 1: 2}</td>\n",
       "      <td>[0, 1]</td>\n",
       "      <td>2</td>\n",
       "      <td>[1, 0]</td>\n",
       "      <td>{1: 1, 0: 1}</td>\n",
       "      <td>[0, 1]</td>\n",
       "      <td>2</td>\n",
       "      <td>[C-E00, C-E10, C-E21, C-E31]</td>\n",
       "      <td>[E-P01, E-P10]</td>\n",
       "      <td>476</td>\n",
       "      <td>C-E00,C-E10,C-E21,C-E31,E-P01,E-P10</td>\n",
       "    </tr>\n",
       "    <tr>\n",
       "      <th>4</th>\n",
       "      <td>[0, 1, 2, 3]</td>\n",
       "      <td>[0, 1, 0, 0]</td>\n",
       "      <td>{0: 3, 1: 1}</td>\n",
       "      <td>[0, 1]</td>\n",
       "      <td>2</td>\n",
       "      <td>[0, 0]</td>\n",
       "      <td>{0: 2}</td>\n",
       "      <td>[0]</td>\n",
       "      <td>1</td>\n",
       "      <td>[C-E00, C-E11, C-E20, C-E30]</td>\n",
       "      <td>[E-P00, E-P10]</td>\n",
       "      <td>480</td>\n",
       "      <td>C-E00,C-E11,C-E20,C-E30,E-P00,E-P10</td>\n",
       "    </tr>\n",
       "    <tr>\n",
       "      <th>30</th>\n",
       "      <td>[0, 1, 2, 3]</td>\n",
       "      <td>[1, 1, 0, 1]</td>\n",
       "      <td>{1: 3, 0: 1}</td>\n",
       "      <td>[0, 1]</td>\n",
       "      <td>2</td>\n",
       "      <td>[1, 0]</td>\n",
       "      <td>{1: 1, 0: 1}</td>\n",
       "      <td>[0, 1]</td>\n",
       "      <td>2</td>\n",
       "      <td>[C-E01, C-E11, C-E20, C-E31]</td>\n",
       "      <td>[E-P01, E-P10]</td>\n",
       "      <td>488</td>\n",
       "      <td>C-E01,C-E11,C-E20,C-E31,E-P01,E-P10</td>\n",
       "    </tr>\n",
       "    <tr>\n",
       "      <th>61</th>\n",
       "      <td>[0, 1, 2, 3]</td>\n",
       "      <td>[0, 1, 0, 1]</td>\n",
       "      <td>{0: 2, 1: 2}</td>\n",
       "      <td>[0, 1]</td>\n",
       "      <td>2</td>\n",
       "      <td>[0, 0]</td>\n",
       "      <td>{0: 2}</td>\n",
       "      <td>[0]</td>\n",
       "      <td>1</td>\n",
       "      <td>[C-E00, C-E11, C-E20, C-E31]</td>\n",
       "      <td>[E-P00, E-P10]</td>\n",
       "      <td>496</td>\n",
       "      <td>C-E00,C-E11,C-E20,C-E31,E-P00,E-P10</td>\n",
       "    </tr>\n",
       "    <tr>\n",
       "      <th>43</th>\n",
       "      <td>[0, 1, 2, 3]</td>\n",
       "      <td>[0, 0, 0, 1]</td>\n",
       "      <td>{0: 3, 1: 1}</td>\n",
       "      <td>[0, 1]</td>\n",
       "      <td>2</td>\n",
       "      <td>[1, 1]</td>\n",
       "      <td>{1: 2}</td>\n",
       "      <td>[1]</td>\n",
       "      <td>1</td>\n",
       "      <td>[C-E00, C-E10, C-E20, C-E31]</td>\n",
       "      <td>[E-P01, E-P11]</td>\n",
       "      <td>500</td>\n",
       "      <td>C-E00,C-E10,C-E20,C-E31,E-P01,E-P11</td>\n",
       "    </tr>\n",
       "    <tr>\n",
       "      <th>18</th>\n",
       "      <td>[0, 1, 2, 3]</td>\n",
       "      <td>[1, 0, 0, 1]</td>\n",
       "      <td>{1: 2, 0: 2}</td>\n",
       "      <td>[0, 1]</td>\n",
       "      <td>2</td>\n",
       "      <td>[1, 0]</td>\n",
       "      <td>{1: 1, 0: 1}</td>\n",
       "      <td>[0, 1]</td>\n",
       "      <td>2</td>\n",
       "      <td>[C-E01, C-E10, C-E20, C-E31]</td>\n",
       "      <td>[E-P01, E-P10]</td>\n",
       "      <td>516</td>\n",
       "      <td>C-E01,C-E10,C-E20,C-E31,E-P01,E-P10</td>\n",
       "    </tr>\n",
       "    <tr>\n",
       "      <th>11</th>\n",
       "      <td>[0, 1, 2, 3]</td>\n",
       "      <td>[0, 1, 0, 0]</td>\n",
       "      <td>{0: 3, 1: 1}</td>\n",
       "      <td>[0, 1]</td>\n",
       "      <td>2</td>\n",
       "      <td>[1, 0]</td>\n",
       "      <td>{1: 1, 0: 1}</td>\n",
       "      <td>[0, 1]</td>\n",
       "      <td>2</td>\n",
       "      <td>[C-E00, C-E11, C-E20, C-E30]</td>\n",
       "      <td>[E-P01, E-P10]</td>\n",
       "      <td>544</td>\n",
       "      <td>C-E00,C-E11,C-E20,C-E30,E-P01,E-P10</td>\n",
       "    </tr>\n",
       "    <tr>\n",
       "      <th>78</th>\n",
       "      <td>[0, 1, 2, 3]</td>\n",
       "      <td>[0, 1, 0, 1]</td>\n",
       "      <td>{0: 2, 1: 2}</td>\n",
       "      <td>[0, 1]</td>\n",
       "      <td>2</td>\n",
       "      <td>[1, 0]</td>\n",
       "      <td>{1: 1, 0: 1}</td>\n",
       "      <td>[0, 1]</td>\n",
       "      <td>2</td>\n",
       "      <td>[C-E00, C-E11, C-E20, C-E31]</td>\n",
       "      <td>[E-P01, E-P10]</td>\n",
       "      <td>560</td>\n",
       "      <td>C-E00,C-E11,C-E20,C-E31,E-P01,E-P10</td>\n",
       "    </tr>\n",
       "    <tr>\n",
       "      <th>86</th>\n",
       "      <td>[0, 1, 2, 3]</td>\n",
       "      <td>[0, 0, 0, 1]</td>\n",
       "      <td>{0: 3, 1: 1}</td>\n",
       "      <td>[0, 1]</td>\n",
       "      <td>2</td>\n",
       "      <td>[1, 0]</td>\n",
       "      <td>{1: 1, 0: 1}</td>\n",
       "      <td>[0, 1]</td>\n",
       "      <td>2</td>\n",
       "      <td>[C-E00, C-E10, C-E20, C-E31]</td>\n",
       "      <td>[E-P01, E-P10]</td>\n",
       "      <td>588</td>\n",
       "      <td>C-E00,C-E10,C-E20,C-E31,E-P01,E-P10</td>\n",
       "    </tr>\n",
       "  </tbody>\n",
       "</table>\n",
       "</div>"
      ],
      "text/plain": [
       "           Clist          CtoE      Econnect   Elist  Ecount    EtoP  \\\n",
       "14  [0, 1, 2, 3]  [1, 1, 1, 0]  {1: 3, 0: 1}  [0, 1]       2  [0, 1]   \n",
       "41  [0, 1, 2, 3]  [1, 0, 1, 0]  {1: 2, 0: 2}  [0, 1]       2  [0, 1]   \n",
       "21  [0, 1, 2, 3]  [1, 1, 1, 0]  {1: 3, 0: 1}  [0, 1]       2  [1, 1]   \n",
       "8   [0, 1, 2, 3]  [0, 1, 1, 0]  {0: 2, 1: 2}  [0, 1]       2  [0, 1]   \n",
       "55  [0, 1, 2, 3]  [0, 1, 1, 1]  {0: 1, 1: 3}  [0, 1]       2  [0, 1]   \n",
       "45  [0, 1, 2, 3]  [1, 1, 1, 0]  {1: 3, 0: 1}  [0, 1]       2  [0, 0]   \n",
       "34  [0, 1, 2, 3]  [1, 0, 1, 0]  {1: 2, 0: 2}  [0, 1]       2  [1, 1]   \n",
       "37  [0, 1, 2, 3]  [1, 1, 1, 1]        {1: 4}     [1]       1     [0]   \n",
       "7   [0, 1, 2, 3]  [0, 0, 1, 0]  {0: 3, 1: 1}  [0, 1]       2  [0, 1]   \n",
       "93  [0, 1, 2, 3]  [1, 1, 0, 0]  {1: 2, 0: 2}  [0, 1]       2  [0, 1]   \n",
       "27  [0, 1, 2, 3]  [0, 0, 1, 1]  {0: 2, 1: 2}  [0, 1]       2  [0, 1]   \n",
       "50  [0, 1, 2, 3]  [1, 0, 1, 0]  {1: 2, 0: 2}  [0, 1]       2  [0, 0]   \n",
       "38  [0, 1, 2, 3]  [1, 1, 0, 1]  {1: 3, 0: 1}  [0, 1]       2  [0, 1]   \n",
       "22  [0, 1, 2, 3]  [1, 0, 1, 1]  {1: 3, 0: 1}  [0, 1]       2  [0, 0]   \n",
       "56  [0, 1, 2, 3]  [0, 1, 1, 0]  {0: 2, 1: 2}  [0, 1]       2  [1, 1]   \n",
       "19  [0, 1, 2, 3]  [1, 0, 0, 0]  {1: 1, 0: 3}  [0, 1]       2  [0, 1]   \n",
       "9   [0, 1, 2, 3]  [1, 1, 1, 0]  {1: 3, 0: 1}  [0, 1]       2  [1, 0]   \n",
       "31  [0, 1, 2, 3]  [0, 1, 1, 1]  {0: 1, 1: 3}  [0, 1]       2  [1, 1]   \n",
       "17  [0, 1, 2, 3]  [1, 0, 0, 1]  {1: 2, 0: 2}  [0, 1]       2  [0, 1]   \n",
       "20  [0, 1, 2, 3]  [0, 1, 1, 0]  {0: 2, 1: 2}  [0, 1]       2  [0, 0]   \n",
       "52  [0, 1, 2, 3]  [0, 0, 1, 0]  {0: 3, 1: 1}  [0, 1]       2  [1, 1]   \n",
       "0   [0, 1, 2, 3]  [1, 1, 0, 0]  {1: 2, 0: 2}  [0, 1]       2  [1, 1]   \n",
       "24  [0, 1, 2, 3]  [1, 0, 1, 0]  {1: 2, 0: 2}  [0, 1]       2  [1, 0]   \n",
       "72  [0, 1, 2, 3]  [0, 0, 1, 0]  {0: 3, 1: 1}  [0, 1]       2  [0, 0]   \n",
       "3   [0, 1, 2, 3]  [0, 0, 0, 0]        {0: 4}     [0]       1     [0]   \n",
       "51  [0, 1, 2, 3]  [1, 0, 1, 1]  {1: 3, 0: 1}  [0, 1]       2  [1, 0]   \n",
       "49  [0, 1, 2, 3]  [1, 1, 0, 0]  {1: 2, 0: 2}  [0, 1]       2  [0, 0]   \n",
       "23  [0, 1, 2, 3]  [0, 1, 0, 1]  {0: 2, 1: 2}  [0, 1]       2  [0, 1]   \n",
       "81  [0, 1, 2, 3]  [1, 0, 0, 0]  {1: 1, 0: 3}  [0, 1]       2  [1, 1]   \n",
       "57  [0, 1, 2, 3]  [0, 0, 1, 1]  {0: 2, 1: 2}  [0, 1]       2  [0, 0]   \n",
       "13  [0, 1, 2, 3]  [1, 1, 0, 1]  {1: 3, 0: 1}  [0, 1]       2  [0, 0]   \n",
       "1   [0, 1, 2, 3]  [1, 0, 0, 1]  {1: 2, 0: 2}  [0, 1]       2  [1, 1]   \n",
       "71  [0, 1, 2, 3]  [0, 1, 1, 0]  {0: 2, 1: 2}  [0, 1]       2  [1, 0]   \n",
       "15  [0, 1, 2, 3]  [0, 0, 0, 1]  {0: 3, 1: 1}  [0, 1]       2  [0, 1]   \n",
       "10  [0, 1, 2, 3]  [1, 0, 0, 0]  {1: 1, 0: 3}  [0, 1]       2  [0, 0]   \n",
       "5   [0, 1, 2, 3]  [0, 1, 1, 1]  {0: 1, 1: 3}  [0, 1]       2  [1, 0]   \n",
       "33  [0, 1, 2, 3]  [0, 1, 0, 0]  {0: 3, 1: 1}  [0, 1]       2  [1, 1]   \n",
       "12  [0, 1, 2, 3]  [0, 0, 1, 0]  {0: 3, 1: 1}  [0, 1]       2  [1, 0]   \n",
       "73  [0, 1, 2, 3]  [0, 0, 0, 0]        {0: 4}     [0]       1     [1]   \n",
       "54  [0, 1, 2, 3]  [0, 1, 0, 1]  {0: 2, 1: 2}  [0, 1]       2  [1, 1]   \n",
       "26  [0, 1, 2, 3]  [0, 0, 1, 1]  {0: 2, 1: 2}  [0, 1]       2  [1, 0]   \n",
       "4   [0, 1, 2, 3]  [0, 1, 0, 0]  {0: 3, 1: 1}  [0, 1]       2  [0, 0]   \n",
       "30  [0, 1, 2, 3]  [1, 1, 0, 1]  {1: 3, 0: 1}  [0, 1]       2  [1, 0]   \n",
       "61  [0, 1, 2, 3]  [0, 1, 0, 1]  {0: 2, 1: 2}  [0, 1]       2  [0, 0]   \n",
       "43  [0, 1, 2, 3]  [0, 0, 0, 1]  {0: 3, 1: 1}  [0, 1]       2  [1, 1]   \n",
       "18  [0, 1, 2, 3]  [1, 0, 0, 1]  {1: 2, 0: 2}  [0, 1]       2  [1, 0]   \n",
       "11  [0, 1, 2, 3]  [0, 1, 0, 0]  {0: 3, 1: 1}  [0, 1]       2  [1, 0]   \n",
       "78  [0, 1, 2, 3]  [0, 1, 0, 1]  {0: 2, 1: 2}  [0, 1]       2  [1, 0]   \n",
       "86  [0, 1, 2, 3]  [0, 0, 0, 1]  {0: 3, 1: 1}  [0, 1]       2  [1, 0]   \n",
       "\n",
       "        Pconnect   Plist  Pcount                       ID_CtoE  \\\n",
       "14  {0: 1, 1: 1}  [0, 1]       2  [C-E01, C-E11, C-E21, C-E30]   \n",
       "41  {0: 1, 1: 1}  [0, 1]       2  [C-E01, C-E10, C-E21, C-E30]   \n",
       "21        {1: 2}     [1]       1  [C-E01, C-E11, C-E21, C-E30]   \n",
       "8   {0: 1, 1: 1}  [0, 1]       2  [C-E00, C-E11, C-E21, C-E30]   \n",
       "55  {0: 1, 1: 1}  [0, 1]       2  [C-E00, C-E11, C-E21, C-E31]   \n",
       "45        {0: 2}     [0]       1  [C-E01, C-E11, C-E21, C-E30]   \n",
       "34        {1: 2}     [1]       1  [C-E01, C-E10, C-E21, C-E30]   \n",
       "37        {0: 1}     [0]       1  [C-E01, C-E11, C-E21, C-E31]   \n",
       "7   {0: 1, 1: 1}  [0, 1]       2  [C-E00, C-E10, C-E21, C-E30]   \n",
       "93  {0: 1, 1: 1}  [0, 1]       2  [C-E01, C-E11, C-E20, C-E30]   \n",
       "27  {0: 1, 1: 1}  [0, 1]       2  [C-E00, C-E10, C-E21, C-E31]   \n",
       "50        {0: 2}     [0]       1  [C-E01, C-E10, C-E21, C-E30]   \n",
       "38  {0: 1, 1: 1}  [0, 1]       2  [C-E01, C-E11, C-E20, C-E31]   \n",
       "22        {0: 2}     [0]       1  [C-E01, C-E10, C-E21, C-E31]   \n",
       "56        {1: 2}     [1]       1  [C-E00, C-E11, C-E21, C-E30]   \n",
       "19  {0: 1, 1: 1}  [0, 1]       2  [C-E01, C-E10, C-E20, C-E30]   \n",
       "9   {1: 1, 0: 1}  [0, 1]       2  [C-E01, C-E11, C-E21, C-E30]   \n",
       "31        {1: 2}     [1]       1  [C-E00, C-E11, C-E21, C-E31]   \n",
       "17  {0: 1, 1: 1}  [0, 1]       2  [C-E01, C-E10, C-E20, C-E31]   \n",
       "20        {0: 2}     [0]       1  [C-E00, C-E11, C-E21, C-E30]   \n",
       "52        {1: 2}     [1]       1  [C-E00, C-E10, C-E21, C-E30]   \n",
       "0         {1: 2}     [1]       1  [C-E01, C-E11, C-E20, C-E30]   \n",
       "24  {1: 1, 0: 1}  [0, 1]       2  [C-E01, C-E10, C-E21, C-E30]   \n",
       "72        {0: 2}     [0]       1  [C-E00, C-E10, C-E21, C-E30]   \n",
       "3         {0: 1}     [0]       1  [C-E00, C-E10, C-E20, C-E30]   \n",
       "51  {1: 1, 0: 1}  [0, 1]       2  [C-E01, C-E10, C-E21, C-E31]   \n",
       "49        {0: 2}     [0]       1  [C-E01, C-E11, C-E20, C-E30]   \n",
       "23  {0: 1, 1: 1}  [0, 1]       2  [C-E00, C-E11, C-E20, C-E31]   \n",
       "81        {1: 2}     [1]       1  [C-E01, C-E10, C-E20, C-E30]   \n",
       "57        {0: 2}     [0]       1  [C-E00, C-E10, C-E21, C-E31]   \n",
       "13        {0: 2}     [0]       1  [C-E01, C-E11, C-E20, C-E31]   \n",
       "1         {1: 2}     [1]       1  [C-E01, C-E10, C-E20, C-E31]   \n",
       "71  {1: 1, 0: 1}  [0, 1]       2  [C-E00, C-E11, C-E21, C-E30]   \n",
       "15  {0: 1, 1: 1}  [0, 1]       2  [C-E00, C-E10, C-E20, C-E31]   \n",
       "10        {0: 2}     [0]       1  [C-E01, C-E10, C-E20, C-E30]   \n",
       "5   {1: 1, 0: 1}  [0, 1]       2  [C-E00, C-E11, C-E21, C-E31]   \n",
       "33        {1: 2}     [1]       1  [C-E00, C-E11, C-E20, C-E30]   \n",
       "12  {1: 1, 0: 1}  [0, 1]       2  [C-E00, C-E10, C-E21, C-E30]   \n",
       "73        {1: 1}     [1]       1  [C-E00, C-E10, C-E20, C-E30]   \n",
       "54        {1: 2}     [1]       1  [C-E00, C-E11, C-E20, C-E31]   \n",
       "26  {1: 1, 0: 1}  [0, 1]       2  [C-E00, C-E10, C-E21, C-E31]   \n",
       "4         {0: 2}     [0]       1  [C-E00, C-E11, C-E20, C-E30]   \n",
       "30  {1: 1, 0: 1}  [0, 1]       2  [C-E01, C-E11, C-E20, C-E31]   \n",
       "61        {0: 2}     [0]       1  [C-E00, C-E11, C-E20, C-E31]   \n",
       "43        {1: 2}     [1]       1  [C-E00, C-E10, C-E20, C-E31]   \n",
       "18  {1: 1, 0: 1}  [0, 1]       2  [C-E01, C-E10, C-E20, C-E31]   \n",
       "11  {1: 1, 0: 1}  [0, 1]       2  [C-E00, C-E11, C-E20, C-E30]   \n",
       "78  {1: 1, 0: 1}  [0, 1]       2  [C-E00, C-E11, C-E20, C-E31]   \n",
       "86  {1: 1, 0: 1}  [0, 1]       2  [C-E00, C-E10, C-E20, C-E31]   \n",
       "\n",
       "           ID_EtoP  dist                                 Name  \n",
       "14  [E-P00, E-P11]   208  C-E01,C-E11,C-E21,C-E30,E-P00,E-P11  \n",
       "41  [E-P00, E-P11]   236  C-E01,C-E10,C-E21,C-E30,E-P00,E-P11  \n",
       "21  [E-P01, E-P11]   272  C-E01,C-E11,C-E21,C-E30,E-P01,E-P11  \n",
       "8   [E-P00, E-P11]   280  C-E00,C-E11,C-E21,C-E30,E-P00,E-P11  \n",
       "55  [E-P00, E-P11]   296  C-E00,C-E11,C-E21,C-E31,E-P00,E-P11  \n",
       "45  [E-P00, E-P10]   296  C-E01,C-E11,C-E21,C-E30,E-P00,E-P10  \n",
       "34  [E-P01, E-P11]   300  C-E01,C-E10,C-E21,C-E30,E-P01,E-P11  \n",
       "37         [E-P10]   304        C-E01,C-E11,C-E21,C-E31,E-P10  \n",
       "7   [E-P00, E-P11]   308  C-E00,C-E10,C-E21,C-E30,E-P00,E-P11  \n",
       "93  [E-P00, E-P11]   320  C-E01,C-E11,C-E20,C-E30,E-P00,E-P11  \n",
       "27  [E-P00, E-P11]   324  C-E00,C-E10,C-E21,C-E31,E-P00,E-P11  \n",
       "50  [E-P00, E-P10]   324  C-E01,C-E10,C-E21,C-E30,E-P00,E-P10  \n",
       "38  [E-P00, E-P11]   336  C-E01,C-E11,C-E20,C-E31,E-P00,E-P11  \n",
       "22  [E-P00, E-P10]   340  C-E01,C-E10,C-E21,C-E31,E-P00,E-P10  \n",
       "56  [E-P01, E-P11]   344  C-E00,C-E11,C-E21,C-E30,E-P01,E-P11  \n",
       "19  [E-P00, E-P11]   348  C-E01,C-E10,C-E20,C-E30,E-P00,E-P11  \n",
       "9   [E-P01, E-P10]   360  C-E01,C-E11,C-E21,C-E30,E-P01,E-P10  \n",
       "31  [E-P01, E-P11]   360  C-E00,C-E11,C-E21,C-E31,E-P01,E-P11  \n",
       "17  [E-P00, E-P11]   364  C-E01,C-E10,C-E20,C-E31,E-P00,E-P11  \n",
       "20  [E-P00, E-P10]   368  C-E00,C-E11,C-E21,C-E30,E-P00,E-P10  \n",
       "52  [E-P01, E-P11]   372  C-E00,C-E10,C-E21,C-E30,E-P01,E-P11  \n",
       "0   [E-P01, E-P11]   384  C-E01,C-E11,C-E20,C-E30,E-P01,E-P11  \n",
       "24  [E-P01, E-P10]   388  C-E01,C-E10,C-E21,C-E30,E-P01,E-P10  \n",
       "72  [E-P00, E-P10]   396  C-E00,C-E10,C-E21,C-E30,E-P00,E-P10  \n",
       "3          [E-P00]   396        C-E00,C-E10,C-E20,C-E30,E-P00  \n",
       "51  [E-P01, E-P10]   404  C-E01,C-E10,C-E21,C-E31,E-P01,E-P10  \n",
       "49  [E-P00, E-P10]   408  C-E01,C-E11,C-E20,C-E30,E-P00,E-P10  \n",
       "23  [E-P00, E-P11]   408  C-E00,C-E11,C-E20,C-E31,E-P00,E-P11  \n",
       "81  [E-P01, E-P11]   412  C-E01,C-E10,C-E20,C-E30,E-P01,E-P11  \n",
       "57  [E-P00, E-P10]   412  C-E00,C-E10,C-E21,C-E31,E-P00,E-P10  \n",
       "13  [E-P00, E-P10]   424  C-E01,C-E11,C-E20,C-E31,E-P00,E-P10  \n",
       "1   [E-P01, E-P11]   428  C-E01,C-E10,C-E20,C-E31,E-P01,E-P11  \n",
       "71  [E-P01, E-P10]   432  C-E00,C-E11,C-E21,C-E30,E-P01,E-P10  \n",
       "15  [E-P00, E-P11]   436  C-E00,C-E10,C-E20,C-E31,E-P00,E-P11  \n",
       "10  [E-P00, E-P10]   436  C-E01,C-E10,C-E20,C-E30,E-P00,E-P10  \n",
       "5   [E-P01, E-P10]   448  C-E00,C-E11,C-E21,C-E31,E-P01,E-P10  \n",
       "33  [E-P01, E-P11]   456  C-E00,C-E11,C-E20,C-E30,E-P01,E-P11  \n",
       "12  [E-P01, E-P10]   460  C-E00,C-E10,C-E21,C-E30,E-P01,E-P10  \n",
       "73         [E-P01]   460        C-E00,C-E10,C-E20,C-E30,E-P01  \n",
       "54  [E-P01, E-P11]   472  C-E00,C-E11,C-E20,C-E31,E-P01,E-P11  \n",
       "26  [E-P01, E-P10]   476  C-E00,C-E10,C-E21,C-E31,E-P01,E-P10  \n",
       "4   [E-P00, E-P10]   480  C-E00,C-E11,C-E20,C-E30,E-P00,E-P10  \n",
       "30  [E-P01, E-P10]   488  C-E01,C-E11,C-E20,C-E31,E-P01,E-P10  \n",
       "61  [E-P00, E-P10]   496  C-E00,C-E11,C-E20,C-E31,E-P00,E-P10  \n",
       "43  [E-P01, E-P11]   500  C-E00,C-E10,C-E20,C-E31,E-P01,E-P11  \n",
       "18  [E-P01, E-P10]   516  C-E01,C-E10,C-E20,C-E31,E-P01,E-P10  \n",
       "11  [E-P01, E-P10]   544  C-E00,C-E11,C-E20,C-E30,E-P01,E-P10  \n",
       "78  [E-P01, E-P10]   560  C-E00,C-E11,C-E20,C-E31,E-P01,E-P10  \n",
       "86  [E-P01, E-P10]   588  C-E00,C-E10,C-E20,C-E31,E-P01,E-P10  "
      ]
     },
     "execution_count": 6,
     "metadata": {},
     "output_type": "execute_result"
    }
   ],
   "source": [
    "df1"
   ]
  },
  {
   "cell_type": "code",
   "execution_count": 7,
   "id": "9a2fb0ea",
   "metadata": {},
   "outputs": [
    {
     "data": {
      "text/plain": [
       "Clist                              [0, 1, 2, 3]\n",
       "CtoE                               [1, 1, 1, 0]\n",
       "Econnect                           {1: 3, 0: 1}\n",
       "Elist                                    [0, 1]\n",
       "Ecount                                        2\n",
       "EtoP                                     [0, 1]\n",
       "Pconnect                           {0: 1, 1: 1}\n",
       "Plist                                    [0, 1]\n",
       "Pcount                                        2\n",
       "ID_CtoE            [C-E01, C-E11, C-E21, C-E30]\n",
       "ID_EtoP                          [E-P00, E-P11]\n",
       "dist                                        208\n",
       "Name        C-E01,C-E11,C-E21,C-E30,E-P00,E-P11\n",
       "Name: 14, dtype: object"
      ]
     },
     "execution_count": 7,
     "metadata": {},
     "output_type": "execute_result"
    }
   ],
   "source": [
    "ListSelectbox = df1.index\n",
    "index = ListSelectbox[0]\n",
    "row = df1.loc[index]\n",
    "row"
   ]
  },
  {
   "cell_type": "markdown",
   "id": "badc8fc9",
   "metadata": {},
   "source": [
    "Select = ListSelectbox[0]\n",
    "Select\n",
    "name = ','.join(Select[0]+Select[1])"
   ]
  },
  {
   "cell_type": "markdown",
   "id": "24a36694",
   "metadata": {},
   "source": [
    "row = df1[df1.Name == name].iloc[0]\n",
    "row"
   ]
  },
  {
   "cell_type": "markdown",
   "id": "f98f06f0",
   "metadata": {},
   "source": [
    "row = df.iloc[3]\n",
    "row"
   ]
  },
  {
   "cell_type": "code",
   "execution_count": 8,
   "id": "1059b2d8",
   "metadata": {},
   "outputs": [],
   "source": [
    "ElemsList = ['Clist','Elist','Plist']\n",
    "Elems = ['C','E','P']\n",
    "IDSelects = []\n",
    "ID_CtoE = row.ID_CtoE\n",
    "ID_EtoP = row.ID_EtoP\n",
    "for n in range(3):\n",
    "    IDSelects+= ['{}{}'.format(Elems[n],i) for i in row[ElemsList[n]]]\n",
    "\n",
    "dflineSelect = dfline[dfline.ID.isin(ID_CtoE + ID_EtoP)].copy()\n",
    "dfsSelect = dfs[dfs.ID.isin(IDSelects)].copy()"
   ]
  },
  {
   "cell_type": "code",
   "execution_count": null,
   "id": "9a80df8e",
   "metadata": {},
   "outputs": [],
   "source": [
    "dflineSelect"
   ]
  },
  {
   "cell_type": "code",
   "execution_count": null,
   "id": "ed1bbf8d",
   "metadata": {},
   "outputs": [],
   "source": [
    "dfsSelect"
   ]
  },
  {
   "cell_type": "markdown",
   "id": "5be147e8",
   "metadata": {},
   "source": [
    "## plot"
   ]
  },
  {
   "cell_type": "code",
   "execution_count": 9,
   "id": "704390f5",
   "metadata": {},
   "outputs": [
    {
     "data": {
      "text/plain": [
       "array([[ 0,  0,  0, 10,  0,  0,  0],\n",
       "       [ 0,  1,  1,  1,  1,  1,  0],\n",
       "       [11,  1, 31,  1, 21,  1, 12],\n",
       "       [ 0,  1,  1,  1,  1,  1,  0],\n",
       "       [ 0,  1,  1,  1,  1,  1,  0],\n",
       "       [ 0,  1,  1, 13,  1,  1,  0],\n",
       "       [ 0,  1,  1,  1,  1,  1,  0],\n",
       "       [ 0, 30, 20,  1,  1,  1,  0],\n",
       "       [ 0,  1,  1,  1,  1,  1,  0],\n",
       "       [ 0,  0,  0,  0,  0,  0,  0]])"
      ]
     },
     "execution_count": 9,
     "metadata": {},
     "output_type": "execute_result"
    }
   ],
   "source": [
    "N = data['height']\n",
    "A0 = data['layers'][0]['data']\n",
    "A0 = np.array(A0).reshape(10,7)\n",
    "pas = 16\n",
    "unique = np.unique(A0)\n",
    "A0[A0 == unique[0]] = 0\n",
    "A0[A0 == unique[1]] = 1\n",
    "for idx, row in dfsSelect.iterrows():\n",
    "    A0[row.y, row.x] = row.Color + int(row.Name)\n",
    "A0       "
   ]
  },
  {
   "cell_type": "code",
   "execution_count": 10,
   "id": "c1dcfe8c",
   "metadata": {},
   "outputs": [
    {
     "data": {
      "text/plain": [
       "<matplotlib.image.AxesImage at 0x1f55b543d90>"
      ]
     },
     "execution_count": 10,
     "metadata": {},
     "output_type": "execute_result"
    },
    {
     "data": {
      "image/png": "[encoded data removed]",
      "text/plain": [
       "<Figure size 720x720 with 1 Axes>"
      ]
     },
     "metadata": {
      "needs_background": "light"
     },
     "output_type": "display_data"
    }
   ],
   "source": [
    "A = np.kron(A0, np.ones((16,16), dtype=int))\n",
    "fig, ax = plt.subplots(figsize = (10,10))\n",
    "ax.imshow(A)\n",
    "for idx, row in dflineSelect.iterrows():\n",
    "    p = row.polyline\n",
    "    f = ax.plot(p[:,0],p[:,1],'k')\n",
    "\n",
    "style = dict(size=10, color='black') \n",
    "for idx, row in dfsSelect.iterrows():\n",
    "    x = row.x*16\n",
    "    y = row.y*16\n",
    "    text = row.Class + str(row.Name)\n",
    "    f = ax.text(row.x*16+8, row.y*16+8,text , **style,  ha='center', weight='bold') "
   ]
  },
  {
   "cell_type": "markdown",
   "id": "30dd94b9",
   "metadata": {
    "heading_collapsed": true
   },
   "source": [
    "## Plot save"
   ]
  },
  {
   "cell_type": "code",
   "execution_count": null,
   "id": "20fba338",
   "metadata": {
    "hidden": true,
    "scrolled": false
   },
   "outputs": [],
   "source": [
    "%%time\n",
    "R = np.random.randint(0,D['EV'],D['C'])\n",
    "dfline['Select'] = False\n",
    "dfs['Connect'] = 0\n",
    "dfs.loc[dfs.Class == 'C', 'Connect']= 1\n",
    "for i in range(D['C']):\n",
    "    j = R[i]\n",
    "    mask = (dfline.Class == 'C-E') & (dfline.start == i) & (dfline.end == j)\n",
    "#     print(i,j, mask.sum())\n",
    "    dfline.loc[mask, 'Select'] = True \n",
    "    \n",
    "    mask = (dfs.Class == 'EV') & (dfs.Name == j)\n",
    "    dfs.loc[mask, 'Connect'] +=  + 1\n",
    "    \n",
    "for i in np.unique(R):\n",
    "    j = np.random.randint(0,D['TP'])\n",
    "    mask = (dfline.Class == 'P-E') & (dfline.start == j) & (dfline.end == i)\n",
    "#     print(i,j, mask.sum())\n",
    "    dfline.loc[mask, 'Select'] = True\n",
    "    \n",
    "    mask = (dfs.Class == 'TP') & (dfs.Name == j)\n",
    "    dfs.loc[mask, 'Connect'] +=  + 1\n",
    "    \n",
    "dfline  \n",
    "dfs"
   ]
  },
  {
   "cell_type": "code",
   "execution_count": null,
   "id": "88743d84",
   "metadata": {
    "hidden": true
   },
   "outputs": [],
   "source": [
    "N = data['height']\n",
    "A0 = data['layers'][0]['data']\n",
    "A0 = np.array(A0).reshape(10,7)\n",
    "pas = 16\n",
    "unique = np.unique(A0)\n",
    "A0[A0 == unique[0]] = 0\n",
    "A0[A0 == unique[1]] = 1\n",
    "for idx, row in dfs.iterrows():\n",
    "    if row.Connect > 0:\n",
    "        A0[row.y, row.x] = row.Color + int(row.Name)\n",
    "A0        "
   ]
  },
  {
   "cell_type": "code",
   "execution_count": null,
   "id": "6d469004",
   "metadata": {
    "hidden": true,
    "scrolled": false
   },
   "outputs": [],
   "source": [
    "A = np.kron(A0, np.ones((16,16), dtype=int))\n",
    "fig, ax = plt.subplots(figsize = (10,10))\n",
    "ax.imshow(A)\n",
    "for idx, row in dfline.iterrows():\n",
    "    if row.Select: \n",
    "        p = np.array(row.polyline)\n",
    "        f = ax.plot(p[:,0],p[:,1],'k')\n",
    "\n",
    "style = dict(size=10, color='black') \n",
    "for idx, row in dfs.iterrows():\n",
    "    if row.Connect > 0:\n",
    "        x = row.x*16\n",
    "        y = row.y*16\n",
    "        text = row.Class + str(row.Name)\n",
    "        f = ax.text(row.x*16+8, row.y*16+8,text , **style,  ha='center', weight='bold') "
   ]
  },
  {
   "cell_type": "markdown",
   "id": "1b7b7b4a",
   "metadata": {
    "heading_collapsed": true
   },
   "source": [
    "## Calcul distance"
   ]
  },
  {
   "cell_type": "code",
   "execution_count": null,
   "id": "ea5a1656",
   "metadata": {
    "hidden": true
   },
   "outputs": [],
   "source": [
    "for idx, row in dfline.iterrows():\n",
    "    p = np.array(row.polyline)\n",
    "    dist = np.abs(np.diff(p.T)).sum()\n",
    "    print(dist)"
   ]
  },
  {
   "cell_type": "code",
   "execution_count": null,
   "id": "4f57651f",
   "metadata": {
    "hidden": true
   },
   "outputs": [],
   "source": [
    "dfline"
   ]
  },
  {
   "cell_type": "code",
   "execution_count": null,
   "id": "9ebbba6c",
   "metadata": {
    "hidden": true
   },
   "outputs": [],
   "source": [
    "row = dfline.iloc[4]\n",
    "p = np.array(row.polyline)\n",
    "row.polyline\n",
    "p.T\n",
    "np.diff(p.T)\n",
    "np.abs(np.diff(p.T))\n",
    "np.abs(np.diff(p.T)).sum()"
   ]
  },
  {
   "cell_type": "markdown",
   "id": "a18b99eb",
   "metadata": {
    "heading_collapsed": true
   },
   "source": [
    "## Save"
   ]
  },
  {
   "cell_type": "code",
   "execution_count": null,
   "id": "e0192298",
   "metadata": {
    "hidden": true
   },
   "outputs": [],
   "source": [
    "Elist = np.unique(R)\n",
    "Elist\n",
    "R = np.random.randint(0,D['EV'],D['C'])"
   ]
  },
  {
   "cell_type": "code",
   "execution_count": null,
   "id": "50d6cfaf",
   "metadata": {
    "hidden": true
   },
   "outputs": [],
   "source": [
    "pd.value_counts(R).sort_index()"
   ]
  },
  {
   "cell_type": "code",
   "execution_count": null,
   "id": "faf8e6ab",
   "metadata": {
    "hidden": true
   },
   "outputs": [],
   "source": [
    "ci = pd.DataFrame({'EV':ce}).T\n",
    "ci.columns.name = 'C'\n",
    "ci"
   ]
  },
  {
   "cell_type": "code",
   "execution_count": null,
   "id": "c6a135bb",
   "metadata": {
    "hidden": true
   },
   "outputs": [],
   "source": [
    "ep = pd.value_counts(ce).sort_index()\n",
    "ep.name = 'Count'\n",
    "ep= ep.to_frame()\n",
    "ep\n",
    "\n",
    "ep['TP'] = np.random.randint(0,D['TP'],len(ep))\n",
    "ep"
   ]
  },
  {
   "cell_type": "code",
   "execution_count": null,
   "id": "f52a21a8",
   "metadata": {
    "hidden": true
   },
   "outputs": [],
   "source": [
    "ci\n",
    "ep.T"
   ]
  },
  {
   "cell_type": "code",
   "execution_count": null,
   "id": "7e5ca488",
   "metadata": {
    "hidden": true
   },
   "outputs": [],
   "source": [
    "indivs = {}\n",
    "for i in range(10):\n",
    "    r = np.random.randint()\n",
    "    \n",
    "    break\n",
    "    \n",
    "    \n",
    "    "
   ]
  },
  {
   "cell_type": "code",
   "execution_count": null,
   "id": "22019fd1",
   "metadata": {
    "hidden": true
   },
   "outputs": [],
   "source": [
    "np.unique(C,\n",
    "          return_index=True,\n",
    "          return_inverse=True,\n",
    "          return_counts=True,axis = 1)"
   ]
  },
  {
   "cell_type": "code",
   "execution_count": null,
   "id": "46383eec",
   "metadata": {
    "hidden": true
   },
   "outputs": [],
   "source": []
  },
  {
   "cell_type": "code",
   "execution_count": null,
   "id": "58c0f643",
   "metadata": {
    "hidden": true
   },
   "outputs": [],
   "source": [
    "\n",
    "np.unique(E[0],\n",
    "          return_index=True,\n",
    "          return_inverse=True,\n",
    "          return_counts=True,)"
   ]
  },
  {
   "cell_type": "code",
   "execution_count": null,
   "id": "ba65f572",
   "metadata": {
    "hidden": true
   },
   "outputs": [],
   "source": [
    "n = 0\n",
    "i = c.copy()\n"
   ]
  },
  {
   "cell_type": "code",
   "execution_count": null,
   "id": "7ec40666",
   "metadata": {
    "hidden": true
   },
   "outputs": [],
   "source": [
    "n = 0\n",
    "\n",
    "i = c.copy()\n",
    "j = C[n]\n",
    "l = list(zip(i,j))\n",
    "dist1 = dfc[dfc.ij.isin(l)].dist.tolist()\n",
    "dc = {\n",
    "    'i' : i,\n",
    "    'j' : j,\n",
    "    'dist' : dist1}\n",
    "dc\n",
    "\n",
    "\n",
    "i = C[n]\n",
    "j = E[n]\n",
    "l = list(zip(i,j))\n",
    "dist2 = [dfe[dfe.ij == ij].dist.iloc[0] for ij in l]\n",
    "indiv = np.vstack([c,C[n],dist1,E[n],dist2])\n",
    "\n",
    "rank = round(sum(dist1) + sum(dist2),2)\n",
    "rank"
   ]
  },
  {
   "cell_type": "markdown",
   "id": "e02d2c7f",
   "metadata": {
    "heading_collapsed": true
   },
   "source": [
    "# LATEX"
   ]
  },
  {
   "cell_type": "code",
   "execution_count": null,
   "id": "5df25ccd",
   "metadata": {
    "hidden": true
   },
   "outputs": [],
   "source": [
    "%%latex\n",
    "$sin(x)/x$\n",
    "\n",
    "$C^{k-1}_{n+k-1} = \\frac{(n+k-1)!}{n! (k-1)!}$"
   ]
  },
  {
   "cell_type": "code",
   "execution_count": null,
   "id": "b04be247",
   "metadata": {
    "hidden": true
   },
   "outputs": [],
   "source": [
    "%%latex\n",
    "$Nslot ^ {Ncapteur}$"
   ]
  },
  {
   "cell_type": "code",
   "execution_count": null,
   "id": "b5512c18",
   "metadata": {
    "hidden": true
   },
   "outputs": [],
   "source": [
    "%%latex\n",
    "$\\sum u_{n}$ ; $\\sum_{i=1}^{n} (v_{i-1}+u_{i})$ "
   ]
  },
  {
   "cell_type": "markdown",
   "id": "2c2b0ade",
   "metadata": {
    "heading_collapsed": true
   },
   "source": [
    "# Reseau"
   ]
  },
  {
   "cell_type": "markdown",
   "id": "55b8175e",
   "metadata": {
    "heading_collapsed": true,
    "hidden": true
   },
   "source": [
    "## NX"
   ]
  },
  {
   "cell_type": "code",
   "execution_count": null,
   "id": "4a85bf0a",
   "metadata": {
    "hidden": true
   },
   "outputs": [],
   "source": [
    "plt.imshow(np.flip(A, axis=0))"
   ]
  },
  {
   "cell_type": "code",
   "execution_count": null,
   "id": "4fca1e8f",
   "metadata": {
    "hidden": true
   },
   "outputs": [],
   "source": [
    "A = pd.read_excel('pattern.xlsx',header = None).values\n",
    "\n",
    "A = np.flip(A.T, axis=0)\n",
    "plt.imshow(A)"
   ]
  },
  {
   "cell_type": "code",
   "execution_count": null,
   "id": "30e4f7e1",
   "metadata": {
    "hidden": true
   },
   "outputs": [],
   "source": [
    "S = list(zip(*np.where(A==1)))\n",
    "C = tuple(zip(*np.where(A==2)))\n",
    "PosSlots = ['S'+ str(i) for i in range(len(S))]\n",
    "PosSlots = dict(zip(PosSlots,S))\n",
    "\n",
    "PosCapt = ['C'+ str(i) for i in range(len(C))]\n",
    "PosCapt = dict(zip(PosCapt,C))\n",
    "\n",
    "PosTotal = PosSlots.copy()\n",
    "PosTotal.update(PosCapt)\n",
    "PosTotal"
   ]
  },
  {
   "cell_type": "code",
   "execution_count": null,
   "id": "13508d0c",
   "metadata": {
    "hidden": true
   },
   "outputs": [],
   "source": [
    "comb = list(itertools.combinations(list(PosTotal.keys()),2))\n",
    "dist = {}\n",
    "for edge in comb:\n",
    "    x1,x2 = edge\n",
    "    dist[edge] = round(math.dist(PosTotal[x1],PosTotal[x2]),2)\n",
    "dist"
   ]
  },
  {
   "cell_type": "code",
   "execution_count": null,
   "id": "51a0a1c5",
   "metadata": {
    "hidden": true,
    "scrolled": false
   },
   "outputs": [],
   "source": [
    "G = nx.Graph()\n",
    "G.add_nodes_from([(node, {'pos': v}) for (node, v) in PosTotal.items()])\n",
    "# G.nodes(data=True)\n",
    "for (u,v),d in dist.items():\n",
    "    G.add_edge(u, v, dist=d)\n",
    "\n",
    "fig, ax = plt.subplots(figsize = (5,7))\n",
    "# nx.draw(G,  with_labels=True)\n",
    "ax.imshow(A.T)\n",
    "nx.draw(G, nx.get_node_attributes(G, 'pos'), with_labels=True, node_size=2000,  ax=ax)\n",
    "\n",
    "#connectionstyle=\"arc3,rad=-0.3\" par edge pour faire style "
   ]
  },
  {
   "cell_type": "markdown",
   "id": "7acda741",
   "metadata": {
    "heading_collapsed": true,
    "hidden": true
   },
   "source": [
    "## Combinatoire NEWS !!! "
   ]
  },
  {
   "cell_type": "code",
   "execution_count": null,
   "id": "8ac5533a",
   "metadata": {
    "hidden": true
   },
   "outputs": [],
   "source": [
    "slot = ['S1','S2','S3']\n",
    "capteurs = ['C1','C2']"
   ]
  },
  {
   "cell_type": "raw",
   "id": "d4db821c",
   "metadata": {
    "hidden": true
   },
   "source": [
    "np.array(np.meshgrid(slot, slot, slot,slot)).T.reshape(-1,4)"
   ]
  },
  {
   "cell_type": "code",
   "execution_count": null,
   "id": "fc30ea38",
   "metadata": {
    "hidden": true
   },
   "outputs": [],
   "source": [
    "# combinaison reseau interne on prend pas le full connected sert a rien \n",
    "slot = list(range(Smax))\n",
    "lst = [x for l in range(len(slot)) for x in itertools.combinations(ListSlots, l)]\n",
    "len(lst), Smax, Smax*(Smax-1)/2\n",
    "lst"
   ]
  },
  {
   "cell_type": "code",
   "execution_count": null,
   "id": "d215331f",
   "metadata": {
    "hidden": true
   },
   "outputs": [],
   "source": [
    "[l for l in range(Nslot)]"
   ]
  },
  {
   "cell_type": "code",
   "execution_count": null,
   "id": "e8dc29d0",
   "metadata": {
    "hidden": true
   },
   "outputs": [],
   "source": [
    "n = 5\n",
    "r = 2\n",
    "comb = list(itertools.combinations(list(range(n)), r))\n",
    "len(comb) , fact(n)/(fact(r) * fact(n-r))"
   ]
  },
  {
   "cell_type": "code",
   "execution_count": null,
   "id": "3b97dc37",
   "metadata": {
    "hidden": true
   },
   "outputs": [],
   "source": [
    "Nslot = 5\n",
    "Ncapteur = 3\n",
    "r = 2 #connexions par 2 \n",
    "ListSlots = list(range(Nslot))\n",
    "\n",
    "# connexion entre chaque slot possible = graph complete \n",
    "ListCombSlots = list(itertools.combinations(ListSlots, r))\n",
    "CombMaxSlot = fact(Nslot)/(fact(r) * fact(Nslot-r))\n",
    "\n",
    "\n",
    "lst = [x for l in range(Nslot) for x in itertools.combinations(ListSlots, l)]\n",
    "CombMaxSlot2 = [fact(Nslot)/(fact(l) * fact(Nslot-l) ) for l in range(Nslot)]\n",
    "CombMaxSlot2 = sum(CombMaxSlot2)\n",
    "\n",
    "ListCombCapteurs = list(itertools.product(ListSlots,repeat = Ncapteur))\n",
    "CombMaxCapteurs = Nslot ** Ncapteur\n",
    "\n",
    "len(ListCombSlots) , CombMaxSlot\n",
    "len(lst) ,CombMaxSlot2\n",
    "len(ListCombCapteurs) , CombMaxCapteurs\n",
    "\n",
    "# [ListCombSlots ,ListCombCapteurs]\n",
    "\n",
    "ListCombTotal = list(itertools.product(*[ListCombSlots ,ListCombCapteurs]))\n",
    "len(ListCombTotal), CombMaxSlot * CombMaxCapteurs"
   ]
  },
  {
   "cell_type": "markdown",
   "id": "04a79bf5",
   "metadata": {
    "heading_collapsed": true,
    "hidden": true
   },
   "source": [
    "## save combinatoire precise des capteurs "
   ]
  },
  {
   "cell_type": "code",
   "execution_count": null,
   "id": "819830e3",
   "metadata": {
    "hidden": true
   },
   "outputs": [],
   "source": [
    "Smax = 3\n",
    "slot = list(range(Smax))\n",
    "comb = list(itertools.product(slot,repeat =2))\n",
    "len(comb)\n",
    "a = np.array(comb)\n",
    "a"
   ]
  },
  {
   "cell_type": "code",
   "execution_count": null,
   "id": "3552bb10",
   "metadata": {
    "hidden": true
   },
   "outputs": [],
   "source": [
    "L= []\n",
    "for i in range(Smax):\n",
    "    L.append((a == i).sum(1))\n",
    "counts = np.vstack(L).T  \n",
    "counts"
   ]
  },
  {
   "cell_type": "raw",
   "id": "7311cf9a",
   "metadata": {
    "hidden": true
   },
   "source": [
    "slot = list(range(20))\n",
    "s = np.array(slot)\n",
    "s1 = np.tile(s,(1,20))[0]\n",
    "s2 = np.repeat(s,20)\n",
    "s = np.vstack([s1,s2])"
   ]
  },
  {
   "cell_type": "markdown",
   "id": "2b822570",
   "metadata": {
    "heading_collapsed": true,
    "hidden": true
   },
   "source": [
    "## Method on fixe les slots"
   ]
  },
  {
   "cell_type": "code",
   "execution_count": null,
   "id": "9a87b384",
   "metadata": {
    "hidden": true
   },
   "outputs": [],
   "source": [
    "indiv = ['T1','T2','E1','E2']\n",
    "capteurs = ['C1','C2']\n",
    "lst = [indiv,capteurs]"
   ]
  },
  {
   "cell_type": "code",
   "execution_count": null,
   "id": "c1869f6e",
   "metadata": {
    "hidden": true
   },
   "outputs": [],
   "source": [
    "\n",
    "sx = list(itertools.combinations(indiv,2))\n",
    "cx = list(itertools.permutations(capteurs,2))\n",
    "sx\n",
    "cx\n",
    "comb  = list(itertools.product(*[sx,cx]))\n",
    "comb"
   ]
  },
  {
   "cell_type": "code",
   "execution_count": null,
   "id": "80730248",
   "metadata": {
    "hidden": true
   },
   "outputs": [],
   "source": [
    "pd.DataFrame(comb)"
   ]
  },
  {
   "cell_type": "code",
   "execution_count": null,
   "id": "daa09917",
   "metadata": {
    "hidden": true
   },
   "outputs": [],
   "source": []
  },
  {
   "cell_type": "markdown",
   "id": "e1aaa2ce",
   "metadata": {
    "heading_collapsed": true
   },
   "source": [
    "# Test nx"
   ]
  },
  {
   "cell_type": "code",
   "execution_count": null,
   "id": "03941b46",
   "metadata": {
    "hidden": true
   },
   "outputs": [],
   "source": []
  },
  {
   "cell_type": "code",
   "execution_count": null,
   "id": "35ad9aa7",
   "metadata": {
    "hidden": true
   },
   "outputs": [],
   "source": [
    "import math\n",
    "s = np.where(A==1)\n",
    "import itertools \n",
    "comb = list(itertools.combinations(['S1','S2','S3'] + ['C1','C2'],2))\n",
    "dist = {}\n",
    "for edge in comb:\n",
    "    x1,x2 = edge\n",
    "    dist[edge] = round(math.dist(pos[x1],pos[x2]),2)\n",
    "dist"
   ]
  },
  {
   "cell_type": "code",
   "execution_count": null,
   "id": "4be66692",
   "metadata": {
    "hidden": true
   },
   "outputs": [],
   "source": [
    "[(node, {'pos': attr}) for (node, attr) in pos.items()]"
   ]
  },
  {
   "cell_type": "code",
   "execution_count": null,
   "id": "cf862915",
   "metadata": {
    "hidden": true
   },
   "outputs": [],
   "source": [
    "G = nx.Graph()\n",
    "G.add_nodes_from([(node, {'pos': attr}) for (node, attr) in pos.items()])\n",
    "G.nodes(data=True)\n",
    "for (u,v),d in dist.items():\n",
    "    G.add_edge(u, v, dist=d)\n",
    "\n",
    "# nx.draw(G,  with_labels=True)\n",
    "nx.draw(G, nx.get_node_attributes(G, 'pos'), with_labels=True)"
   ]
  },
  {
   "cell_type": "code",
   "execution_count": null,
   "id": "04f7583e",
   "metadata": {
    "hidden": true
   },
   "outputs": [],
   "source": [
    "S = tuple(zip(*np.where(A==1)))\n",
    "S\n",
    "C = tuple(zip(*np.where(A==2)))\n",
    "S = dict(zip(['S1','S2','S3'],S))\n",
    "C = dict(zip(['C1','C2'],C))\n",
    "G = nx.complete_graph(S)\n",
    "nx.draw(G,  with_labels=True)\n",
    "G.edges\n",
    "G.nodes(data=True)"
   ]
  },
  {
   "cell_type": "code",
   "execution_count": null,
   "id": "3c5249fe",
   "metadata": {
    "hidden": true
   },
   "outputs": [],
   "source": [
    "itertools.combinations(iterable, r)"
   ]
  },
  {
   "cell_type": "code",
   "execution_count": null,
   "id": "2b183eaf",
   "metadata": {
    "hidden": true
   },
   "outputs": [],
   "source": [
    "x , y = np.where(A==1)\n",
    "print(np.sqrt((x1 - x0) ** 2 + (y1 - y0) ** 2))"
   ]
  },
  {
   "cell_type": "code",
   "execution_count": null,
   "id": "ebb5dc3c",
   "metadata": {
    "hidden": true
   },
   "outputs": [],
   "source": [
    "from scipy.spatial.distance import cdist\n",
    "dist = cdist(s[0],s[1])"
   ]
  },
  {
   "cell_type": "code",
   "execution_count": null,
   "id": "9b15b0c6",
   "metadata": {
    "hidden": true
   },
   "outputs": [],
   "source": [
    "from scipy.spatial.distance import euclidean\n",
    "s = np.where(A==1)\n",
    "s\n",
    "euclidean(s[0],s[1])"
   ]
  },
  {
   "cell_type": "code",
   "execution_count": null,
   "id": "87df04b0",
   "metadata": {
    "hidden": true
   },
   "outputs": [],
   "source": [
    "dict(nx.all_pairs_shortest_path(G))"
   ]
  },
  {
   "cell_type": "code",
   "execution_count": null,
   "id": "a9ca6e80",
   "metadata": {
    "hidden": true
   },
   "outputs": [],
   "source": [
    "G = nx.Graph()\n",
    "G.add_edges_from([(1,2), (1,3), (2,3), (2,4), (3,4)])\n",
    "nx.draw(G,  with_labels=True)\n",
    "path = nx.all_pairs_shortest_path_length(G) # This is a generator\n",
    "dpath = {x[0]:x[1] for x in path} \n",
    "dpath\n",
    "nx.floyd_warshall_numpy(G)"
   ]
  },
  {
   "cell_type": "code",
   "execution_count": null,
   "id": "078966c2",
   "metadata": {
    "hidden": true
   },
   "outputs": [],
   "source": [
    "distances = nx.floyd_warshall_numpy(G)\n",
    "nodes = np.where(distances==2)\n",
    "distances\n",
    "nodes"
   ]
  },
  {
   "cell_type": "code",
   "execution_count": null,
   "id": "08dd4d3e",
   "metadata": {
    "hidden": true
   },
   "outputs": [],
   "source": [
    "G = nx.path_graph(5)\n",
    "nx.draw(G,  with_labels=True)"
   ]
  },
  {
   "cell_type": "code",
   "execution_count": null,
   "id": "c9059d0b",
   "metadata": {
    "hidden": true
   },
   "outputs": [],
   "source": [
    "s = np.where(A==1)\n",
    "s\n",
    "np.diff(s[0])"
   ]
  },
  {
   "cell_type": "code",
   "execution_count": null,
   "id": "26734b73",
   "metadata": {
    "hidden": true
   },
   "outputs": [],
   "source": [
    "np.linalg.norm(np.where(A==2))"
   ]
  },
  {
   "cell_type": "code",
   "execution_count": null,
   "id": "ae37f693",
   "metadata": {
    "hidden": true
   },
   "outputs": [],
   "source": [
    "indiv = {0: {\n",
    "    1: {\"len\": 1},\n",
    "    2: {\"len\": 3}\n",
    "}}  # single edge (0,1)\n",
    "indiv\n",
    "G = nx.from_dict_of_dicts(indiv)\n",
    "nx.draw(G,  with_labels=True)"
   ]
  },
  {
   "cell_type": "code",
   "execution_count": null,
   "id": "15170e73",
   "metadata": {
    "hidden": true
   },
   "outputs": [],
   "source": [
    "nx.enumerate_all_cliques(G)"
   ]
  },
  {
   "cell_type": "code",
   "execution_count": null,
   "id": "f8df74a5",
   "metadata": {
    "hidden": true
   },
   "outputs": [],
   "source": [
    "import networkx as nx\n",
    "\n",
    "G = nx.Graph()\n",
    "\n",
    "# G.add_node('Hamburg', pos=(53.5672, 10.0285))\n",
    "# G.add_node('Berlin', pos=(52.51704, 13.38792))\n",
    "G.add_node('A', pos=(5, 1))\n",
    "G.add_node('B', pos=(1, 5))\n",
    "G.add_node('C', pos=(1, 3))\n",
    "G.add_node('D', pos=(3, 3))\n",
    "G=nx.complete_graph(['S1','S2','S3','S4'])\n",
    "G = nx.complete_graph(4, nx.DiGraph())\n",
    "nx.draw(G, with_labels=True)\n",
    "# fig = nx.draw(G, nx.get_node_attributes(G, 'pos'), with_labels=True, node_size=0)"
   ]
  },
  {
   "cell_type": "code",
   "execution_count": null,
   "id": "7ae792a6",
   "metadata": {
    "hidden": true
   },
   "outputs": [],
   "source": [
    "fig"
   ]
  },
  {
   "cell_type": "code",
   "execution_count": null,
   "id": "6d5f2bb0",
   "metadata": {
    "hidden": true
   },
   "outputs": [],
   "source": [
    "pos = {city:(long, lat) for (city, (lat,long)) in nx.get_node_attributes(G, 'pos').items()}\n",
    "pos\n",
    "nx.draw(G, pos, with_labels=True, node_size=0)"
   ]
  },
  {
   "cell_type": "markdown",
   "id": "ebb25ac3",
   "metadata": {
    "heading_collapsed": true
   },
   "source": [
    "# GA"
   ]
  },
  {
   "cell_type": "markdown",
   "id": "97f70113",
   "metadata": {
    "heading_collapsed": true,
    "hidden": true
   },
   "source": [
    "## Import Tab"
   ]
  },
  {
   "cell_type": "code",
   "execution_count": null,
   "id": "2dd48afd",
   "metadata": {
    "hidden": true
   },
   "outputs": [],
   "source": [
    "edges = pd.read_excel('pattern.xlsx',sheet_name='edges')\n",
    "nodes = pd.read_excel('pattern.xlsx',sheet_name='nodes')\n",
    "edges.head()\n",
    "nodes"
   ]
  },
  {
   "cell_type": "code",
   "execution_count": null,
   "id": "c29754bd",
   "metadata": {
    "hidden": true
   },
   "outputs": [],
   "source": [
    "Cnames = ['A','B']\n",
    "Enames = []"
   ]
  },
  {
   "cell_type": "code",
   "execution_count": null,
   "id": "18934040",
   "metadata": {
    "hidden": true
   },
   "outputs": [],
   "source": [
    "c = {}\n",
    "for k,v in edges.iterrows():\n",
    "    if \n",
    "    "
   ]
  },
  {
   "cell_type": "code",
   "execution_count": null,
   "id": "61c4a5fe",
   "metadata": {
    "hidden": true
   },
   "outputs": [],
   "source": [
    "Enames  = nodes[['e','mix'])].name.tolist()\n",
    "Cnames = nodes[nodes.type == 'c'].name.tolist()"
   ]
  },
  {
   "cell_type": "code",
   "execution_count": null,
   "id": "b823c37a",
   "metadata": {
    "hidden": true
   },
   "outputs": [],
   "source": [
    "E = nodes[nodes.Type.isin(['e','mix'])].set_index('Name')[['x','y']].to_dict(orient= 'index')\n",
    "C = nodes[nodes.Type.isin(['c'])].set_index('Name')[['x','y']].to_dict(orient= 'index')\n",
    "P = nodes[nodes.Type.isin(['p','mix'])].set_index('Name')[['x','y']].to_dict(orient= 'index')"
   ]
  },
  {
   "cell_type": "code",
   "execution_count": null,
   "id": "463a90dd",
   "metadata": {
    "hidden": true
   },
   "outputs": [],
   "source": [
    "edges.groupby('j').i.unique()"
   ]
  },
  {
   "cell_type": "code",
   "execution_count": null,
   "id": "6b6cd520",
   "metadata": {
    "hidden": true
   },
   "outputs": [],
   "source": [
    "\n",
    "for i in edges.i.unique():\n",
    "    print(i)"
   ]
  },
  {
   "cell_type": "code",
   "execution_count": null,
   "id": "1ed93f4a",
   "metadata": {
    "hidden": true
   },
   "outputs": [],
   "source": [
    "ListNodeMix  = nodes[['e','mix'])].name.tolist()\n",
    "ListCapteurs = nodes[nodes.type == 'c'].name.tolist()\n",
    "Nc = len(ListCapteurs)\n",
    "Ne = len(ListNodeMix)\n",
    "Np = len(ListNodeMix)\n",
    "c = list(range(Nc))\n",
    "e = list(range(Ne))\n",
    "p = list(range(Np))\n",
    "\n",
    "C = np.random.randint(0,Ne,(10,Nc))\n",
    "C"
   ]
  },
  {
   "cell_type": "markdown",
   "id": "6d812fa2",
   "metadata": {
    "heading_collapsed": true,
    "hidden": true
   },
   "source": [
    "### IniPop"
   ]
  },
  {
   "cell_type": "code",
   "execution_count": null,
   "id": "9caa0602",
   "metadata": {
    "hidden": true
   },
   "outputs": [],
   "source": [
    "#IniPop\n",
    "C = np.random.randint(0,Ne,(10,Nc))\n",
    "E = np.random.randint(0,Np,(10,Ne))\n",
    "C\n",
    "E"
   ]
  },
  {
   "cell_type": "markdown",
   "id": "083e03d1",
   "metadata": {
    "heading_collapsed": true,
    "hidden": true
   },
   "source": [
    "### Graph"
   ]
  },
  {
   "cell_type": "code",
   "execution_count": null,
   "id": "932a0158",
   "metadata": {
    "hidden": true
   },
   "outputs": [],
   "source": [
    "G = nx.Graph()\n",
    "G.add_nodes_from(df.j.unique())\n",
    "for idx , row in df.iterrows():\n",
    "    u,v,d = row.values\n",
    "    G.add_edge(u, v, dist=d)"
   ]
  },
  {
   "cell_type": "code",
   "execution_count": null,
   "id": "1260389d",
   "metadata": {
    "hidden": true
   },
   "outputs": [],
   "source": [
    "nx.draw(G, with_labels=True)"
   ]
  },
  {
   "cell_type": "code",
   "execution_count": null,
   "id": "32d1cab6",
   "metadata": {
    "hidden": true
   },
   "outputs": [],
   "source": []
  },
  {
   "cell_type": "code",
   "execution_count": null,
   "id": "7324bb88",
   "metadata": {
    "hidden": true
   },
   "outputs": [],
   "source": []
  },
  {
   "cell_type": "markdown",
   "id": "42fc556d",
   "metadata": {
    "heading_collapsed": true,
    "hidden": true
   },
   "source": [
    "## INI"
   ]
  },
  {
   "cell_type": "code",
   "execution_count": null,
   "id": "13ba26bd",
   "metadata": {
    "hidden": true
   },
   "outputs": [],
   "source": [
    "A = pd.read_excel('pattern.xlsx',header = None).values\n",
    "plt.imshow(A)"
   ]
  },
  {
   "cell_type": "code",
   "execution_count": null,
   "id": "f4962786",
   "metadata": {
    "hidden": true
   },
   "outputs": [],
   "source": [
    "from types import SimpleNamespace\n",
    "dict_algo = {'pop': 10,\n",
    "             'epoch': 10,\n",
    "             'shortcut_pool': 0.1,\n",
    "             'ChromCount': 0,\n",
    "             #'Stat_T': [],\n",
    "             'All_indivs': []\n",
    "             }\n",
    "nalgo = SimpleNamespace(**{str(k): v for k, v in dict_algo.items()})"
   ]
  },
  {
   "cell_type": "code",
   "execution_count": null,
   "id": "b3d5b5b6",
   "metadata": {
    "hidden": true
   },
   "outputs": [],
   "source": [
    "T = list(zip(*np.where(A==3)))\n",
    "E = list(zip(*np.where(A==2)))\n",
    "C = tuple(zip(*np.where(A==1)))\n",
    "DictPos = {}\n",
    "Types = ['C','E','P']\n",
    "D = {}\n",
    "for i in range(3):    \n",
    "    Type = Types[i]\n",
    "    pos = list(zip(*np.where(A==i+1)))\n",
    "    names  = [Type+ str(i) for i in range(len(pos))]\n",
    "    D[Type] = pos    \n",
    "#     DictPos.update(dict(zip(names,pos)))\n",
    "D\n",
    "# DictPos"
   ]
  },
  {
   "cell_type": "code",
   "execution_count": null,
   "id": "21795314",
   "metadata": {
    "hidden": true
   },
   "outputs": [],
   "source": [
    "Nc = len(D['C'])\n",
    "Ne = len(D['E'])\n",
    "Np = len(D['P'])\n",
    "c = list(range(Nc))\n",
    "e = list(range(Ne))\n",
    "p = list(range(Np))"
   ]
  },
  {
   "cell_type": "code",
   "execution_count": null,
   "id": "d23b6fce",
   "metadata": {
    "hidden": true
   },
   "outputs": [],
   "source": [
    "Comb = list(itertools.product(*[c ,e]))\n",
    "c_e = []\n",
    "for d in Comb:\n",
    "    i, j = d\n",
    "    x1 = D['C'][i]\n",
    "    x2 = D['E'][j]\n",
    "    dist = round(math.dist(x1,x2),2)\n",
    "    c_e.append([i,j,(i,j),x1,x2,dist])\n",
    "\n",
    "Comb = list(itertools.product(*[e ,p]))\n",
    "e_p = []\n",
    "for d in Comb:\n",
    "    i, j = d\n",
    "    x1 = D['E'][i]\n",
    "    x2 = D['P'][j]\n",
    "    dist = round(math.dist(x1,x2),2)\n",
    "    e_p.append([i,j,(i,j),x1,x2,dist])\n",
    "c_e\n",
    "e_p"
   ]
  },
  {
   "cell_type": "code",
   "execution_count": null,
   "id": "01ba750e",
   "metadata": {
    "hidden": true
   },
   "outputs": [],
   "source": [
    "dfc = pd.DataFrame(c_e, columns = ['i','j','ij','x1','x2','dist'])\n",
    "dfe = pd.DataFrame(e_p, columns = ['i','j','ij','x1','x2','dist'])\n",
    "dfc\n",
    "dfe"
   ]
  },
  {
   "cell_type": "code",
   "execution_count": null,
   "id": "951076f3",
   "metadata": {
    "hidden": true
   },
   "outputs": [],
   "source": [
    "C = np.random.randint(0,Ne,(10,Nc))\n",
    "E = np.random.randint(0,Np,(10,Nc))\n",
    "C\n",
    "E"
   ]
  },
  {
   "cell_type": "code",
   "execution_count": null,
   "id": "8e343f5c",
   "metadata": {
    "hidden": true
   },
   "outputs": [],
   "source": [
    "n = 0\n",
    "\n",
    "i = c.copy()\n",
    "j = C[n]\n",
    "l = list(zip(i,j))\n",
    "dist1 = dfc[dfc.ij.isin(l)].dist.tolist()\n",
    "dc = {\n",
    "    'i' : i,\n",
    "    'j' : j,\n",
    "    'dist' : dist1}\n",
    "dc\n",
    "\n",
    "\n",
    "i = C[n]\n",
    "j = E[n]\n",
    "l = list(zip(i,j))\n",
    "dist2 = [dfe[dfe.ij == ij].dist.iloc[0] for ij in l]\n",
    "indiv = np.vstack([c,C[n],dist1,E[n],dist2])\n",
    "\n",
    "rank = round(sum(dist1) + sum(dist2),2)\n",
    "rank"
   ]
  },
  {
   "cell_type": "markdown",
   "id": "3a57ead3",
   "metadata": {
    "heading_collapsed": true,
    "hidden": true
   },
   "source": [
    "## NX"
   ]
  },
  {
   "cell_type": "code",
   "execution_count": null,
   "id": "dafd868c",
   "metadata": {
    "hidden": true
   },
   "outputs": [],
   "source": [
    "D"
   ]
  },
  {
   "cell_type": "code",
   "execution_count": null,
   "id": "9c8bf139",
   "metadata": {
    "hidden": true
   },
   "outputs": [],
   "source": [
    "nodes = [] \n",
    "for k,v in D.items():\n",
    "    k,v\n",
    "    for i in range(len(v)):\n",
    "        n = (k + str(i) , {'pos' : (v[i][1], v[i][0])})\n",
    "        nodes.append(n)\n",
    "nodes"
   ]
  },
  {
   "cell_type": "code",
   "execution_count": null,
   "id": "50db0a18",
   "metadata": {
    "hidden": true
   },
   "outputs": [],
   "source": [
    "G = nx.Graph()\n",
    "G.add_nodes_from(nodes)\n",
    "fig, ax = plt.subplots(figsize = (5,7))\n",
    "ax.imshow(np.flip(A.T,1))\n",
    "nx.draw(G, nx.get_node_attributes(G, 'pos'), with_labels=True, node_size=2000,  ax=ax)"
   ]
  },
  {
   "cell_type": "code",
   "execution_count": null,
   "id": "b19e5597",
   "metadata": {
    "hidden": true
   },
   "outputs": [],
   "source": [
    "n = 0\n",
    "i = C[n]\n",
    "j = E[n]\n",
    "l = list(zip(i,j))\n",
    "i2 = ['C'+ str(i) for i in c]\n",
    "j2 = ['E'+ str(i) for i in e]\n",
    "l2 = list(zip(i2,j2))\n",
    "dist2 = [dfe[dfe.ij == ij].dist.iloc[0] for ij in l]\n",
    "for u,v in list(set(l2)):\n",
    "    print(u,v)\n",
    "    G.add_edge(u, v,dist = 0)"
   ]
  },
  {
   "cell_type": "code",
   "execution_count": null,
   "id": "0286ffbb",
   "metadata": {
    "hidden": true
   },
   "outputs": [],
   "source": [
    "fig, ax = plt.subplots(figsize = (5,7))\n",
    "ax.imshow(np.flip(A.T,1))\n",
    "nx.draw(G, nx.get_node_attributes(G, 'pos'), with_labels=True, node_size=1000,  ax=ax)"
   ]
  },
  {
   "cell_type": "code",
   "execution_count": null,
   "id": "b760abea",
   "metadata": {
    "hidden": true
   },
   "outputs": [],
   "source": [
    "G = nx.Graph()\n",
    "G.add_nodes_from([(node, {'pos': v}) for (node, v) in PosTotal.items()])\n",
    "# G.nodes(data=True)\n",
    "for (u,v),d in dist.items():\n",
    "    G.add_edge(u, v, dist=d)\n",
    "\n",
    "fig, ax = plt.subplots(figsize = (5,7))\n",
    "# nx.draw(G,  with_labels=True)\n",
    "ax.imshow(A.T)\n",
    "nx.draw(G, nx.get_node_attributes(G, 'pos'), with_labels=True, node_size=2000,  ax=ax)"
   ]
  },
  {
   "cell_type": "code",
   "execution_count": null,
   "id": "3663f8a4",
   "metadata": {
    "hidden": true
   },
   "outputs": [],
   "source": []
  },
  {
   "cell_type": "code",
   "execution_count": null,
   "id": "311f9cd3",
   "metadata": {
    "hidden": true
   },
   "outputs": [],
   "source": []
  },
  {
   "cell_type": "markdown",
   "id": "43001361",
   "metadata": {
    "heading_collapsed": true,
    "hidden": true
   },
   "source": [
    "## NameSpace"
   ]
  },
  {
   "cell_type": "code",
   "execution_count": null,
   "id": "6ce2c560",
   "metadata": {
    "hidden": true
   },
   "outputs": [],
   "source": [
    "[DictTypes['C'],DictTypes['E']]\n",
    "a = DictTypes['C']\n",
    "b = DictTypes['E']\n",
    "Comb = list(itertools.product(*[a ,b]))\n",
    "Comb\n",
    "# list(itertools.combinations(Comb,2))\n",
    "list(itertools.product(b,repeat=3))"
   ]
  },
  {
   "cell_type": "code",
   "execution_count": null,
   "id": "f57f38ee",
   "metadata": {
    "hidden": true
   },
   "outputs": [],
   "source": [
    "Nc = 3\n",
    "Ne = 2\n",
    "Np = 2\n",
    "C = np.random.randint(0,Ne,(10,Nc))"
   ]
  },
  {
   "cell_type": "code",
   "execution_count": null,
   "id": "2448953c",
   "metadata": {
    "hidden": true
   },
   "outputs": [],
   "source": [
    "E = np.random.randint(0,Np,(10,Nc))\n",
    "E"
   ]
  },
  {
   "cell_type": "code",
   "execution_count": null,
   "id": "a34f6090",
   "metadata": {
    "hidden": true
   },
   "outputs": [],
   "source": [
    "C\n",
    "E"
   ]
  },
  {
   "cell_type": "code",
   "execution_count": null,
   "id": "0ab39d07",
   "metadata": {
    "hidden": true
   },
   "outputs": [],
   "source": [
    "np.vectorize(my_dict.__getitem__)(a)"
   ]
  },
  {
   "cell_type": "code",
   "execution_count": null,
   "id": "d66f5533",
   "metadata": {
    "hidden": true
   },
   "outputs": [],
   "source": [
    "i = 0\n",
    "c = C[i]\n",
    "e = E[i]\n",
    "Rank = \n"
   ]
  },
  {
   "cell_type": "code",
   "execution_count": null,
   "id": "ff28ba9f",
   "metadata": {
    "hidden": true
   },
   "outputs": [],
   "source": [
    "pd.DataFrame(c)"
   ]
  },
  {
   "cell_type": "code",
   "execution_count": null,
   "id": "767d8a94",
   "metadata": {
    "hidden": true
   },
   "outputs": [],
   "source": [
    "\n",
    "nmax = 5\n",
    "POP = 10\n",
    "pop = np.zeros((nmax, nmax), dtype= int)\n",
    "np.fill_diagonal(pop, 1)\n",
    "p2 = np.tile(pop,(2,1))\n",
    "r = np.where(p2 == 0)\n",
    "np.random.choice(r)\n",
    "# np.repeat(pop,[1, 2],1)\n",
    "p2\n",
    "# idx = np.random.randint(0,nmax,POP)\n",
    "# pop[:,idx] = 1\n",
    "# pop\n",
    "p2[p2 == 0]\n"
   ]
  },
  {
   "cell_type": "markdown",
   "id": "3085bb97",
   "metadata": {
    "heading_collapsed": true,
    "hidden": true
   },
   "source": [
    "## test"
   ]
  },
  {
   "cell_type": "code",
   "execution_count": null,
   "id": "47e47b42",
   "metadata": {
    "hidden": true
   },
   "outputs": [],
   "source": [
    "c = np.random.randint(0,Ne+1,(10,Nc))"
   ]
  },
  {
   "cell_type": "code",
   "execution_count": null,
   "id": "3a583845",
   "metadata": {
    "hidden": true
   },
   "outputs": [],
   "source": [
    "c\n",
    "L= []\n",
    "for i in range(3):\n",
    "    L.append((c == i).sum(1))\n",
    "e = np.vstack(L).T  \n",
    "e"
   ]
  },
  {
   "cell_type": "code",
   "execution_count": null,
   "id": "6b4be668",
   "metadata": {
    "hidden": true
   },
   "outputs": [],
   "source": [
    "np.random.randint(0,Ne+1,(10,Nc))"
   ]
  },
  {
   "cell_type": "code",
   "execution_count": null,
   "id": "0c2256e4",
   "metadata": {
    "hidden": true
   },
   "outputs": [],
   "source": [
    "x = np.unique(c, return_counts = True)\n",
    "np.array(x)"
   ]
  },
  {
   "cell_type": "code",
   "execution_count": null,
   "id": "52c11d5b",
   "metadata": {
    "hidden": true
   },
   "outputs": [],
   "source": [
    "dict(zip(np.array(x)))\n"
   ]
  },
  {
   "cell_type": "code",
   "execution_count": null,
   "id": "af7fa8db",
   "metadata": {
    "hidden": true
   },
   "outputs": [],
   "source": [
    "import random as rand\n",
    "Nc = len()\n",
    "rand.randint(0,2)"
   ]
  },
  {
   "cell_type": "code",
   "execution_count": null,
   "id": "631364d6",
   "metadata": {
    "hidden": true
   },
   "outputs": [],
   "source": [
    "nalgo"
   ]
  },
  {
   "cell_type": "code",
   "execution_count": null,
   "id": "8cf282c1",
   "metadata": {
    "hidden": true
   },
   "outputs": [],
   "source": []
  },
  {
   "cell_type": "code",
   "execution_count": null,
   "id": "4df8f3f1",
   "metadata": {
    "hidden": true
   },
   "outputs": [],
   "source": []
  },
  {
   "cell_type": "code",
   "execution_count": null,
   "id": "1b67ad6b",
   "metadata": {
    "hidden": true
   },
   "outputs": [],
   "source": [
    "SimpleNamespace()"
   ]
  },
  {
   "cell_type": "code",
   "execution_count": null,
   "id": "f96b4d54",
   "metadata": {
    "hidden": true
   },
   "outputs": [],
   "source": []
  },
  {
   "cell_type": "code",
   "execution_count": null,
   "id": "2378a363",
   "metadata": {
    "hidden": true
   },
   "outputs": [],
   "source": [
    "class Individual(object):\n",
    "    def __init__(self, c,e,t):\n",
    "\n",
    "#         nalgo.All_indivs.append(chrom)\n",
    "        nalgo.ChromCount+=1\n",
    "        #print( nalgo.ChromCount)\n",
    "        self.c = chrom\n",
    "        self.Rank = 0\n",
    "        self.stat = {}\n",
    "        self.Modif = True\n",
    "\n",
    "    def print(self):\n",
    "        print('Chrom ', self.Chrom)\n",
    "\n",
    "    def get_rank(self):\n",
    "        return self.Rank"
   ]
  },
  {
   "cell_type": "markdown",
   "id": "81c044a8",
   "metadata": {
    "heading_collapsed": true
   },
   "source": [
    "# ANcien"
   ]
  },
  {
   "cell_type": "markdown",
   "id": "5f40753b",
   "metadata": {
    "heading_collapsed": true,
    "hidden": true
   },
   "source": [
    "## test"
   ]
  },
  {
   "cell_type": "code",
   "execution_count": null,
   "id": "4f7491bb",
   "metadata": {
    "hidden": true
   },
   "outputs": [],
   "source": [
    "\n",
    "nmax = 5\n",
    "POP = 10\n",
    "pop = np.zeros((nmax, nmax), dtype= int)\n",
    "np.fill_diagonal(pop, 1)\n",
    "p2 = np.tile(pop,(2,1))\n",
    "r = np.where(p2 == 0)\n",
    "np.random.choice(r)\n",
    "# np.repeat(pop,[1, 2],1)\n",
    "p2\n",
    "# idx = np.random.randint(0,nmax,POP)\n",
    "# pop[:,idx] = 1\n",
    "# pop\n",
    "p2[p2 == 0]\n"
   ]
  },
  {
   "cell_type": "markdown",
   "id": "b603581e",
   "metadata": {
    "heading_collapsed": true,
    "hidden": true
   },
   "source": [
    "## exemple"
   ]
  },
  {
   "cell_type": "code",
   "execution_count": null,
   "id": "04572e09",
   "metadata": {
    "hidden": true
   },
   "outputs": [],
   "source": [
    "# Python3 implementation of the above approach\n",
    "from random import randint\n",
    "\n",
    "INT_MAX = 2147483647\n",
    "# Number of cities in TSP\n",
    "V = 5\n",
    "\n",
    "# Names of the cities\n",
    "GENES = \"ABCDE\"\n",
    "\n",
    "# Starting Node Value\n",
    "START = 0\n",
    "\n",
    "# Initial population size for the algorithm\n",
    "POP_SIZE = 10\n",
    "\n",
    "# Structure of a GNOME\n",
    "# defines the path traversed\n",
    "# by the salesman while the fitness value\n",
    "# of the path is stored in an integer\n",
    "\n",
    "\n",
    "class individual:\n",
    "\tdef __init__(self) -> None:\n",
    "\t\tself.gnome = \"\"\n",
    "\t\tself.fitness = 0\n",
    "\n",
    "\tdef __lt__(self, other):\n",
    "\t\treturn self.fitness < other.fitness\n",
    "\n",
    "\tdef __gt__(self, other):\n",
    "\t\treturn self.fitness > other.fitness\n",
    "\n",
    "\n",
    "# Function to return a random number\n",
    "# from start and end\n",
    "def rand_num(start, end):\n",
    "\treturn randint(start, end-1)\n",
    "\n",
    "\n",
    "# Function to check if the character\n",
    "# has already occurred in the string\n",
    "def repeat(s, ch):\n",
    "\tfor i in range(len(s)):\n",
    "\t\tif s[i] == ch:\n",
    "\t\t\treturn True\n",
    "\n",
    "\treturn False\n",
    "\n",
    "\n",
    "# Function to return a mutated GNOME\n",
    "# Mutated GNOME is a string\n",
    "# with a random interchange\n",
    "# of two genes to create variation in species\n",
    "def mutatedGene(gnome):\n",
    "\tgnome = list(gnome)\n",
    "\twhile True:\n",
    "\t\tr = rand_num(1, V)\n",
    "\t\tr1 = rand_num(1, V)\n",
    "\t\tif r1 != r:\n",
    "\t\t\ttemp = gnome[r]\n",
    "\t\t\tgnome[r] = gnome[r1]\n",
    "\t\t\tgnome[r1] = temp\n",
    "\t\t\tbreak\n",
    "\treturn ''.join(gnome)\n",
    "\n",
    "\n",
    "# Function to return a valid GNOME string\n",
    "# required to create the population\n",
    "def create_gnome():\n",
    "\tgnome = \"0\"\n",
    "\twhile True:\n",
    "\t\tif len(gnome) == V:\n",
    "\t\t\tgnome += gnome[0]\n",
    "\t\t\tbreak\n",
    "\n",
    "\t\ttemp = rand_num(1, V)\n",
    "\t\tif not repeat(gnome, chr(temp + 48)):\n",
    "\t\t\tgnome += chr(temp + 48)\n",
    "\n",
    "\treturn gnome\n",
    "\n",
    "\n",
    "# Function to return the fitness value of a gnome.\n",
    "# The fitness value is the path length\n",
    "# of the path represented by the GNOME.\n",
    "def cal_fitness(gnome):\n",
    "\tmp = [\n",
    "\t\t[0, 2, INT_MAX, 12, 5],\n",
    "\t\t[2, 0, 4, 8, INT_MAX],\n",
    "\t\t[INT_MAX, 4, 0, 3, 3],\n",
    "\t\t[12, 8, 3, 0, 10],\n",
    "\t\t[5, INT_MAX, 3, 10, 0],\n",
    "\t]\n",
    "\tf = 0\n",
    "\tfor i in range(len(gnome) - 1):\n",
    "\t\tif mp[ord(gnome[i]) - 48][ord(gnome[i + 1]) - 48] == INT_MAX:\n",
    "\t\t\treturn INT_MAX\n",
    "\t\tf += mp[ord(gnome[i]) - 48][ord(gnome[i + 1]) - 48]\n",
    "\n",
    "\treturn f\n",
    "\n",
    "\n",
    "# Function to return the updated value\n",
    "# of the cooling element.\n",
    "def cooldown(temp):\n",
    "\treturn (90 * temp) / 100\n",
    "\n",
    "\n",
    "# Comparator for GNOME struct.\n",
    "# def lessthan(individual t1,\n",
    "#\t\t\t individual t2)\n",
    "# :\n",
    "#\t return t1.fitness < t2.fitness\n",
    "\n",
    "\n",
    "# Utility function for TSP problem.\n",
    "def TSPUtil(mp):\n",
    "\t# Generation Number\n",
    "\tgen = 1\n",
    "\t# Number of Gene Iterations\n",
    "\tgen_thres = 5\n",
    "\n",
    "\tpopulation = []\n",
    "\ttemp = individual()\n",
    "\n",
    "\t# Populating the GNOME pool.\n",
    "\tfor i in range(POP_SIZE):\n",
    "\t\ttemp.gnome = create_gnome()\n",
    "\t\ttemp.fitness = cal_fitness(temp.gnome)\n",
    "\t\tpopulation.append(temp)\n",
    "\n",
    "\tprint(\"\\nInitial population: \\nGNOME\t FITNESS VALUE\\n\")\n",
    "\tfor i in range(POP_SIZE):\n",
    "\t\tprint(population[i].gnome, population[i].fitness)\n",
    "\tprint()\n",
    "\n",
    "\tfound = False\n",
    "\ttemperature = 10000\n",
    "\n",
    "\t# Iteration to perform\n",
    "\t# population crossing and gene mutation.\n",
    "\twhile temperature > 1000 and gen <= gen_thres:\n",
    "\t\tpopulation.sort()\n",
    "\t\tprint(\"\\nCurrent temp: \", temperature)\n",
    "\t\tnew_population = []\n",
    "\n",
    "\t\tfor i in range(POP_SIZE):\n",
    "\t\t\tp1 = population[i]\n",
    "\n",
    "\t\t\twhile True:\n",
    "\t\t\t\tnew_g = mutatedGene(p1.gnome)\n",
    "\t\t\t\tnew_gnome = individual()\n",
    "\t\t\t\tnew_gnome.gnome = new_g\n",
    "\t\t\t\tnew_gnome.fitness = cal_fitness(new_gnome.gnome)\n",
    "\n",
    "\t\t\t\tif new_gnome.fitness <= population[i].fitness:\n",
    "\t\t\t\t\tnew_population.append(new_gnome)\n",
    "\t\t\t\t\tbreak\n",
    "\n",
    "\t\t\t\telse:\n",
    "\t\t\t\t\t# Accepting the rejected children at\n",
    "\t\t\t\t\t# a possible probability above threshold.\n",
    "\t\t\t\t\tprob = pow(\n",
    "\t\t\t\t\t\t2.7,\n",
    "\t\t\t\t\t\t-1\n",
    "\t\t\t\t\t\t* (\n",
    "\t\t\t\t\t\t\t(float)(new_gnome.fitness - population[i].fitness)\n",
    "\t\t\t\t\t\t\t/ temperature\n",
    "\t\t\t\t\t\t),\n",
    "\t\t\t\t\t)\n",
    "\t\t\t\t\tif prob > 0.5:\n",
    "\t\t\t\t\t\tnew_population.append(new_gnome)\n",
    "\t\t\t\t\t\tbreak\n",
    "\n",
    "\t\ttemperature = cooldown(temperature)\n",
    "\t\tpopulation = new_population\n",
    "\t\tprint(\"Generation\", gen)\n",
    "\t\tprint(\"GNOME\t FITNESS VALUE\")\n",
    "\n",
    "\t\tfor i in range(POP_SIZE):\n",
    "\t\t\tprint(population[i].gnome, population[i].fitness)\n",
    "\t\tgen += 1\n",
    "\n",
    "\n",
    "\n",
    "\n",
    "mp = [\n",
    "    [0, 2, INT_MAX, 12, 5],\n",
    "    [2, 0, 4, 8, INT_MAX],\n",
    "    [INT_MAX, 4, 0, 3, 3],\n",
    "    [12, 8, 3, 0, 10],\n",
    "    [5, INT_MAX, 3, 10, 0],\n",
    "]\n",
    "TSPUtil(mp)\n"
   ]
  },
  {
   "cell_type": "markdown",
   "id": "e1edb66c",
   "metadata": {
    "heading_collapsed": true
   },
   "source": [
    "# Combinatoire brut force  (a trier)"
   ]
  },
  {
   "cell_type": "markdown",
   "id": "f17cde46",
   "metadata": {
    "hidden": true
   },
   "source": [
    "https://forums.futura-sciences.com/mathematiques-college-lycee/193661-repartir-n-objets-k-boites.html\n",
    "\n",
    "https://fr.wikipedia.org/wiki/Combinaison_(math%C3%A9matiques)"
   ]
  },
  {
   "cell_type": "code",
   "execution_count": null,
   "id": "d0f20df9",
   "metadata": {
    "hidden": true
   },
   "outputs": [],
   "source": [
    "\n",
    "num = np.math.factorial(20)/np.math.factorial(10)\n",
    "print(f\"{num:,}\")"
   ]
  },
  {
   "cell_type": "code",
   "execution_count": null,
   "id": "7e27f18e",
   "metadata": {
    "hidden": true
   },
   "outputs": [],
   "source": [
    "\"qefqze : {:,.0f}\".format(num)"
   ]
  },
  {
   "cell_type": "code",
   "execution_count": null,
   "id": "cfe0cebb",
   "metadata": {
    "hidden": true
   },
   "outputs": [],
   "source": [
    "from math import factorial as f\n",
    "enumerate"
   ]
  },
  {
   "cell_type": "code",
   "execution_count": null,
   "id": "c3f0b862",
   "metadata": {
    "hidden": true
   },
   "outputs": [],
   "source": [
    "d0 = {'Slot' : 3,'Capteur' : 4, 'elements' : 2}\n",
    "d0.values()"
   ]
  },
  {
   "cell_type": "code",
   "execution_count": null,
   "id": "83c2d1b0",
   "metadata": {
    "hidden": true
   },
   "outputs": [],
   "source": [
    "f(n)/(f(k))\n",
    "\n",
    "A = f(n)/f(n-k)\n",
    "A"
   ]
  },
  {
   "cell_type": "code",
   "execution_count": null,
   "id": "65ceae56",
   "metadata": {
    "hidden": true
   },
   "outputs": [],
   "source": [
    "f(3)"
   ]
  },
  {
   "cell_type": "code",
   "execution_count": null,
   "id": "3f7b06f9",
   "metadata": {
    "hidden": true
   },
   "outputs": [],
   "source": [
    "f(3)"
   ]
  },
  {
   "cell_type": "code",
   "execution_count": null,
   "id": "d5842597",
   "metadata": {
    "hidden": true
   },
   "outputs": [],
   "source": [
    "2**3\n",
    "1**4\n",
    "f(3)/f(1)"
   ]
  },
  {
   "cell_type": "code",
   "execution_count": null,
   "id": "3c861a5e",
   "metadata": {
    "hidden": true
   },
   "outputs": [],
   "source": [
    "slot = 2\n",
    "capteur = 3\n",
    "\n",
    "k = slot\n",
    "n =capteur\n",
    "n+k-1\n",
    "n,k-1\n",
    "\n",
    "a = f(n+k-1)\n",
    "b = f(n) * f(k-1)\n",
    "COMBINAISON = int(a/b)\n",
    "print(a, b,a/b)\n"
   ]
  },
  {
   "cell_type": "code",
   "execution_count": null,
   "id": "77740279",
   "metadata": {
    "hidden": true
   },
   "outputs": [],
   "source": [
    "from datetime import timedelta\n",
    "\n",
    "def get_time_hh_mm_ss(sec):\n",
    "    # create timedelta and convert it into string\n",
    "    td_str = str(timedelta(seconds=sec))\n",
    "    print('Time in seconds:', sec)\n",
    "\n",
    "    # split string into individual component\n",
    "    x = td_str.split(':')\n",
    "    print(td_str)\n",
    "    print('Time in hh:mm:ss:', x[0], 'Hours', x[1], 'Minutes', x[2], 'Seconds')\n",
    "\n",
    "get_time_hh_mm_ss(29500000)\n",
    "get_time_hh_mm_ss(num)"
   ]
  },
  {
   "cell_type": "code",
   "execution_count": null,
   "id": "b2e17abb",
   "metadata": {
    "hidden": true
   },
   "outputs": [],
   "source": []
  }
 ],
 "metadata": {
  "kernelspec": {
   "display_name": "Python 3 (ipykernel)",
   "language": "python",
   "name": "python3"
  },
  "language_info": {
   "codemirror_mode": {
    "name": "ipython",
    "version": 3
   },
   "file_extension": ".py",
   "mimetype": "text/x-python",
   "name": "python",
   "nbconvert_exporter": "python",
   "pygments_lexer": "ipython3",
   "version": "3.9.7"
  },
  "toc": {
   "base_numbering": 1,
   "nav_menu": {},
   "number_sections": true,
   "sideBar": true,
   "skip_h1_title": false,
   "title_cell": "Table of Contents",
   "title_sidebar": "Contents",
   "toc_cell": false,
   "toc_position": {},
   "toc_section_display": true,
   "toc_window_display": true
  }
 },
 "nbformat": 4,
 "nbformat_minor": 5
}
