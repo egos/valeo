{
 "cells": [
  {
   "cell_type": "markdown",
   "id": "196dcdf1",
   "metadata": {
    "heading_collapsed": true
   },
   "source": [
    "# Import"
   ]
  },
  {
   "cell_type": "code",
   "execution_count": null,
   "id": "7444384e",
   "metadata": {
    "hidden": true
   },
   "outputs": [],
   "source": [
    "%load_ext autoreload\n",
    "%autoreload 2\n",
    "\n",
    "import importlib\n",
    "import numpy as np\n",
    "import math\n",
    "import itertools \n",
    "import pandas as pd\n",
    "import numpy as np\n",
    "import io\n",
    "import msoffcrypto\n",
    "from sklearn.metrics import r2_score\n",
    "import openpyxl\n",
    "import plotly.express as px\n",
    "from IPython.core.interactiveshell import InteractiveShell\n",
    "InteractiveShell.ast_node_interactivity = \"all\"\n",
    "import plotly\n",
    "import matplotlib.pyplot as plt\n",
    "import plotly.graph_objects as go\n",
    "import streamlit as st\n",
    "import json\n",
    "from math import factorial as fact\n",
    "from IPython.display import Markdown, display\n",
    "import toml\n",
    "import sys, os\n",
    "import collections\n",
    "from types import SimpleNamespace\n",
    "import copy\n",
    "import matplotlib.patches as mpatch\n",
    "%matplotlib inline \n",
    "%config Completer.use_jedi = True\n",
    "\n",
    "from IPython.display import display, HTML\n",
    "display(HTML(\"<style>.container { width:80% !important; }</style>\"))\n",
    "\n",
    "from utils import *"
   ]
  },
  {
   "cell_type": "markdown",
   "id": "fa267b1b",
   "metadata": {
    "heading_collapsed": true
   },
   "source": [
    "# Run"
   ]
  },
  {
   "cell_type": "code",
   "execution_count": null,
   "id": "727baba9",
   "metadata": {
    "hidden": true
   },
   "outputs": [],
   "source": [
    "file = {'SheetMapName' : 'map', 'uploaded_file' : \"data.xlsx\"}\n",
    "file = {'SheetMapName' : 'map', 'uploaded_file' : None, 'DistFactor' : 0.1}\n",
    "algo = load_data_brut(file)\n",
    "# algo.dfmap"
   ]
  },
  {
   "cell_type": "code",
   "execution_count": null,
   "id": "7e073c43",
   "metadata": {
    "hidden": true
   },
   "outputs": [],
   "source": [
    "algo.BusActif = True\n",
    "algo.Npc = 0"
   ]
  },
  {
   "cell_type": "code",
   "execution_count": null,
   "id": "0dff0a9d",
   "metadata": {
    "hidden": true
   },
   "outputs": [],
   "source": [
    "keydrop= ['Nvals',\"confs\",\"dfcapteur\", \"dfslot\",\"dfline\",\"indivs\",\n",
    "          \"df\",'dfmap','A0','DataCategorie', 'DictLine','DictPos','dist','durite',\n",
    "        'duriteType','duriteVal','CombAll','Comb']\n",
    "d = {k : v for k,v in vars(algo).items() if k not in keydrop}\n",
    "s = pd.Series(d).rename('Val').astype(str)\n",
    "s.index= s.index.astype(str)\n",
    "s"
   ]
  },
  {
   "cell_type": "code",
   "execution_count": null,
   "id": "4ac5660a",
   "metadata": {
    "hidden": true
   },
   "outputs": [],
   "source": [
    "# generation de 10 indivs\n",
    "df = indiv_init(algo, 10)"
   ]
  },
  {
   "cell_type": "code",
   "execution_count": null,
   "id": "5fecd992",
   "metadata": {
    "hidden": true
   },
   "outputs": [],
   "source": [
    "# columns de l'algo genetique\n",
    "col = ['Clist', 'CtoE', 'Econnect', 'Elist', 'Ecount', 'EtoP', 'Pconnect','Plist', 'Pcount']"
   ]
  },
  {
   "cell_type": "code",
   "execution_count": null,
   "id": "369c2951",
   "metadata": {
    "hidden": true
   },
   "outputs": [],
   "source": [
    "# mutation\n",
    "row = df.iloc[0].copy()\n",
    "dfMutation = pd.Series(Mutation(row, algo))[col]\n",
    "dfresults  = pd.concat([row,dfMutation], axis = 1)\n",
    "dfresults.columns = ['parent','enfant']\n",
    "dfresults.loc[col]"
   ]
  },
  {
   "cell_type": "code",
   "execution_count": null,
   "id": "3f6af955",
   "metadata": {
    "hidden": true
   },
   "outputs": [],
   "source": [
    "# crossover\n",
    "dfparents = df[:2].copy()\n",
    "dfcrossover = pd.DataFrame(AG_CrossOver(dfparents, algo))\n",
    "dfresults  = pd.concat([dfparents.T,dfcrossover.T ], axis = 1)\n",
    "dfresults.columns = ['parent1','parent2','enfant1','enfant2']\n",
    "dfresults.loc[col]"
   ]
  },
  {
   "cell_type": "code",
   "execution_count": null,
   "id": "4fd4f2e6",
   "metadata": {
    "hidden": true
   },
   "outputs": [],
   "source": [
    "# Plot\n",
    "row = df.iloc[0]\n",
    "ElemsList = ['Clist','Elist','Plist']\n",
    "Elems = ['C','E','P']\n",
    "SelectSlot = []\n",
    "List_EtoC = row.List_EtoC\n",
    "List_PtoE = row.List_PtoE\n",
    "for n in range(3):\n",
    "    SelectSlot+= ['{}{}'.format(Elems[n],i) for i in row[ElemsList[n]]]\n",
    "SelectLine = row.Name\n",
    "if row.Option == 'Bus' :   SelectLine = row.BusName                \n",
    "fig = new_plot(algo, SelectLine, SelectSlot)"
   ]
  },
  {
   "cell_type": "code",
   "execution_count": null,
   "id": "a0a866f8",
   "metadata": {
    "hidden": true
   },
   "outputs": [],
   "source": [
    "# Plot\n",
    "SelectLine = algo.DictLine.keys()\n",
    "SelectSlot = algo.DictPos.keys()\n",
    "\n",
    "fig = new_plot(algo, SelectLine, SelectSlot)"
   ]
  },
  {
   "cell_type": "markdown",
   "id": "0fb7d290",
   "metadata": {
    "hidden": true
   },
   "source": [
    "## new formule vrac"
   ]
  },
  {
   "cell_type": "code",
   "execution_count": null,
   "id": "8db247ab",
   "metadata": {
    "hidden": true
   },
   "outputs": [],
   "source": [
    "Sindiv = pd.Series(indiv)"
   ]
  },
  {
   "cell_type": "code",
   "execution_count": null,
   "id": "55b8df7e",
   "metadata": {
    "hidden": true
   },
   "outputs": [],
   "source": [
    "df.columns\n",
    "indiv = algo.indivs[0]\n",
    "Calcul_Debit(algo ,indiv, Split = algo.Split)"
   ]
  },
  {
   "cell_type": "code",
   "execution_count": null,
   "id": "56b0e5ca",
   "metadata": {
    "hidden": true
   },
   "outputs": [],
   "source": [
    "debitinput = {'p': 0, 'e': 0, 'ClistG': [0, 1, 3], 'pt': 'Pa'}\n",
    "debit(algo,indiv,debitinput, grouped = True, split = False)"
   ]
  },
  {
   "cell_type": "code",
   "execution_count": null,
   "id": "31b683e0",
   "metadata": {
    "hidden": true
   },
   "outputs": [],
   "source": [
    "pompe,ev,ClistG,pt = debitinput.values()\n",
    "d_EtoC_list = np.array([algo.dist['E{}-C{}'.format(ev,c)] for c in ClistG])\n",
    "d_PtoE      = indiv['dist_Connect']['P{}-E{}'.format(pompe,ev)]\n",
    "d_EtoC_list, d_PtoE\n",
    "d_EtoC_list = [1,1,1]\n",
    "d_PtoE = 1\n",
    "p = [algo.DataCategorie['Pompe']['Values'][pt][i] for i in ['a','b','c']]\n",
    "p\n",
    "grouped = True\n",
    "split = False\n",
    "cE0 = 7.64e-04\n",
    "coef_E = 0 if split else cE0\n",
    "\n",
    "coef_C  = 0.036\n",
    "coef_C  = [algo.Nvals[i] for i in ClistG]\n",
    "coef_C  = np.array(coef_C)\n",
    "coef_d_EtoC  = 2.35e-04\n",
    "coef_d_EtoC = np.array([algo.duriteVal['E{}-C{}'.format(ev,c)] for c in ClistG])\n",
    "# coef_d_PtoE = algo.duriteVal['P{}-E{}'.format(pompe,ev)] \n",
    "coef_d_PtoE = indiv['duriteVal']['P{}-E{}'.format(pompe,ev)] \n",
    "a,b,c = [algo.DataCategorie['Pompe']['Values'][pt][i] for i in ['a','b','c']]\n",
    "A = coef_E + d_EtoC_list * coef_d_EtoC + coef_C \n",
    "coef_E ,d_EtoC_list,  coef_d_EtoC, coef_C\n",
    "A"
   ]
  },
  {
   "cell_type": "code",
   "execution_count": null,
   "id": "c4873371",
   "metadata": {
    "hidden": true
   },
   "outputs": [],
   "source": [
    "Q = 40\n",
    "A*10\n",
    "a * Q**2 + b*Q +c - coef_d_PtoE*Q**2\n",
    "a * Q**2 + b*Q +c - coef_d_PtoE\n"
   ]
  },
  {
   "cell_type": "code",
   "execution_count": null,
   "id": "896262a9",
   "metadata": {
    "hidden": true
   },
   "outputs": [],
   "source": [
    "coef_E\n",
    "Ncg=  6\n",
    "Ncm = 12\n",
    "d_EtoC_list = np.ones(Ncm) * 1\n",
    "coef_d_EtoC = np.ones(Ncm) * 0.000235\n",
    "coef_C = np.ones(Ncm) * 0.036\n",
    "a,b,c = [algo.DataCategorie['Pompe']['Values'][pt][i] for i in ['a','b','c']]\n",
    "A = coef_E + d_EtoC_list * coef_d_EtoC + coef_C \n",
    "Q0 = np.arange(0.1,80,0.1)\n",
    "Qx = np.zeros(Q0.shape)\n",
    "Qi = np.zeros((12,len(Q0)))\n",
    "Nev = int(Ncm/6)\n",
    "for i in range(Nev):\n",
    "    Q = Q0 - Qx\n",
    "    # Q.shape, Qx.sum()    \n",
    "    # Q = Q0.copy()\n",
    "    # Q.shape\n",
    "    G = a * Q**2 + b*Q +c - coef_d_PtoE*(i+1)*Q**2\n",
    "    G[G <0] = 0\n",
    "    # print(G)\n",
    "    Qi[i*Ncg:Ncg*(i+1),:] = np.sqrt(G / A[i*Ncg:Ncg*(i+1),np.newaxis]).round(3)\n",
    "    Qx = Qi[0:Ncg*(i+1),:].sum(0)\n",
    "    # Qx\n",
    "    # pd.DataFrame(Qi)\n",
    "    # Qx.shape\n",
    "    f = plt.plot(Qx)\n",
    "    # Qi.shape\n",
    "dfr = pd.DataFrame(Qi).T\n",
    "dfr.index = Q0\n",
    "idx = np.searchsorted(Q0 - Qi.sum(0), 0)\n",
    "np.isclose(Qi.sum(0),Q0,atol= 0.1).sum()\n",
    "# np.isclose(Qi.sum(0),Q,atol= 0.1)\n",
    "idx, Q[idx],Qi[:,idx], Qi.shape, G[idx]"
   ]
  },
  {
   "cell_type": "code",
   "execution_count": null,
   "id": "0eb95c4a",
   "metadata": {
    "hidden": true
   },
   "outputs": [],
   "source": [
    "a,b,c = [algo.DataCategorie['Pompe']['Values'][pt][i] for i in ['a','b','c']]\n",
    "a,b,c"
   ]
  },
  {
   "cell_type": "code",
   "execution_count": null,
   "id": "c34da432",
   "metadata": {
    "hidden": true
   },
   "outputs": [],
   "source": [
    "\n",
    "Q = np.arange(0.1,80,0.1)\n",
    "G = a * Q**2 + b*Q +c - coef_d_PtoE\n",
    "Qi= np.sqrt(G / A[:,np.newaxis])\n",
    "Q[np.isclose(Qi.sum(0),Q,atol= 0.1)]\n",
    "Qi[:,np.isclose(Qi.sum(0),Q,atol= 0.1)]\n",
    "idx = np.searchsorted(Q - Qi.sum(0), 0)\n",
    "Q[idx],Qi[:,idx]\n",
    "Qi.shape\n",
    "# Q[np.isclose(Qi.sum(0),Q,atol= 0.1)]"
   ]
  },
  {
   "cell_type": "code",
   "execution_count": null,
   "id": "304ae05f",
   "metadata": {
    "hidden": true
   },
   "outputs": [],
   "source": [
    "%timeit np.isclose(Qi.sum(0),Q,atol= 0.1)\n",
    "%timeit np.searchsorted(Q - Qi.sum(0), 0.1)\n"
   ]
  },
  {
   "cell_type": "code",
   "execution_count": null,
   "id": "1c7ca8e0",
   "metadata": {
    "hidden": true
   },
   "outputs": [],
   "source": [
    "Qi.sum(0) - Q"
   ]
  },
  {
   "cell_type": "code",
   "execution_count": null,
   "id": "d7a1f2cf",
   "metadata": {
    "hidden": true
   },
   "outputs": [],
   "source": [
    "%%timeit\n",
    "G = a * Q**2 + b*Q +c - coef_d_PtoE\n",
    "Qi= np.sqrt(G / A[:,np.newaxis])\n"
   ]
  },
  {
   "cell_type": "code",
   "execution_count": null,
   "id": "a7cb3310",
   "metadata": {
    "hidden": true
   },
   "outputs": [],
   "source": [
    "p = np.array(p)"
   ]
  },
  {
   "cell_type": "code",
   "execution_count": null,
   "id": "0296684f",
   "metadata": {
    "hidden": true
   },
   "outputs": [],
   "source": [
    "%%timeit\n",
    "Q = 40\n",
    "Qs = []\n",
    "for i in range(40):\n",
    "    G = a * Q**2 + b*Q +c - coef_d_PtoE\n",
    "    Qi= np.sqrt(G / A)\n",
    "    Q = np.sum(Qi)\n",
    "    Qs.append(Q)"
   ]
  },
  {
   "cell_type": "code",
   "execution_count": null,
   "id": "bab91595",
   "metadata": {
    "hidden": true
   },
   "outputs": [],
   "source": [
    "\n",
    "Q = 40\n",
    "Qs = []\n",
    "for i in range(40):\n",
    "    G = a * Q**2 + b*Q +c - coef_d_PtoE\n",
    "    Qi= np.sqrt(G / A)\n",
    "    Q = np.sum(Qi)\n",
    "    Qs.append(Q)\n",
    "plt.plot(Qs)\n",
    "Qs[-1]\n",
    "# Qi\n"
   ]
  },
  {
   "cell_type": "code",
   "execution_count": null,
   "id": "fbfdafdf",
   "metadata": {
    "hidden": true
   },
   "outputs": [],
   "source": [
    "indiv['dist_Connect']\n",
    "A"
   ]
  },
  {
   "cell_type": "code",
   "execution_count": null,
   "id": "b27b91eb",
   "metadata": {
    "hidden": true
   },
   "outputs": [],
   "source": []
  },
  {
   "cell_type": "code",
   "execution_count": null,
   "id": "05c6ab05",
   "metadata": {
    "hidden": true,
    "scrolled": true
   },
   "outputs": [],
   "source": [
    "pd.Series(indiv)"
   ]
  },
  {
   "cell_type": "markdown",
   "id": "46b306dd",
   "metadata": {
    "heading_collapsed": true
   },
   "source": [
    "# Test VRAC a trier "
   ]
  },
  {
   "cell_type": "code",
   "execution_count": null,
   "id": "b275b37e",
   "metadata": {
    "hidden": true
   },
   "outputs": [],
   "source": [
    "pompe,ev,ClistG,pt = debitinput.values()\n",
    "d_EtoC_list = np.array([algo.dist['E{}-C{}'.format(ev,c)] for c in ClistG])\n",
    "d_PtoE      = indiv['dist_Connect']['P{}-E{}'.format(pompe,ev)]\n",
    "d_EtoC_list, d_PtoE\n",
    "d_EtoC_list = [1,1,1]\n",
    "d_PtoE = 1\n",
    "p = [algo.DataCategorie['Pompe']['Values'][pt][i] for i in ['a','b','c']]\n",
    "p\n",
    "grouped = True\n",
    "split = False\n",
    "cE0 = 7.64e-04\n",
    "coef_E = 0 if split else cE0\n",
    "\n",
    "coef_C  = 0.036\n",
    "coef_C  = [algo.Nvals[i] for i in ClistG]\n",
    "coef_C  = np.array(coef_C)\n",
    "coef_d_EtoC  = 2.35e-04\n",
    "coef_d_EtoC = np.array([algo.duriteVal['E{}-C{}'.format(ev,c)] for c in ClistG])\n",
    "# coef_d_PtoE = algo.duriteVal['P{}-E{}'.format(pompe,ev)] \n",
    "coef_d_PtoE = indiv['duriteVal']['P{}-E{}'.format(pompe,ev)] \n",
    "a,b,c = [algo.DataCategorie['Pompe']['Values'][pt][i] for i in ['a','b','c']]\n",
    "A = coef_E + d_EtoC_list * coef_d_EtoC + coef_C \n",
    "coef_E ,d_EtoC_list,  coef_d_EtoC, coef_C\n",
    "a,b,c\n",
    "A"
   ]
  },
  {
   "cell_type": "code",
   "execution_count": null,
   "id": "1b6764f5",
   "metadata": {
    "hidden": true
   },
   "outputs": [],
   "source": [
    "Q = 2\n",
    "# A*10\n",
    "a * Q**2 + b*Q +c - coef_d_PtoE*Q**2\n",
    "a * Q**2 + b*Q +c - coef_d_PtoE\n",
    "coef_d_PtoE*Q**2"
   ]
  },
  {
   "cell_type": "code",
   "execution_count": null,
   "id": "4c346d44",
   "metadata": {
    "hidden": true
   },
   "outputs": [],
   "source": [
    "coef_d_PtoE*2**2"
   ]
  },
  {
   "cell_type": "code",
   "execution_count": null,
   "id": "5c564ad6",
   "metadata": {
    "hidden": true
   },
   "outputs": [],
   "source": [
    "coef_d_PtoE"
   ]
  },
  {
   "cell_type": "code",
   "execution_count": null,
   "id": "784f700b",
   "metadata": {
    "hidden": true
   },
   "outputs": [],
   "source": [
    "Q = np.arange(0.1,80,0.1)\n",
    "Ncg=  1\n",
    "Ncm = 1\n",
    "d_EtoC_list = np.ones(Ncm) * 1\n",
    "coef_d_EtoC = np.ones(Ncm) * 0.000235\n",
    "coef_C = np.ones(Ncm) * 0.036\n",
    "i = 0\n",
    "G = a * Q**2 + b*Q +c - coef_d_PtoE*(i+1)*Q**2\n",
    "A = coef_E + d_EtoC_list * coef_d_EtoC + coef_C \n",
    "A = A[0]\n",
    "G[G <0] = 0\n",
    "Qi = np.sqrt(G / A).round(3)\n",
    "idx = np.searchsorted(Q0 - Qi.sum(0), 0)\n",
    "plt.plot(Q)\n",
    "plt.plot(Qi)\n",
    "idx = np.searchsorted(Q - Qi, 0)\n",
    "idx, Q[idx],Qi[idx], Qi.shape, G[idx]\n",
    "\n",
    "mask = np.isclose(Qi,Q,atol= 0.1)\n",
    "Qi[mask]"
   ]
  },
  {
   "cell_type": "code",
   "execution_count": null,
   "id": "fdb78e50",
   "metadata": {
    "hidden": true
   },
   "outputs": [],
   "source": [
    "Q = np.arange(0.1,80,0.1)\n",
    "Ncg=  1\n",
    "Ncm = 1\n",
    "d_EtoC_list = np.ones(Ncm) * 1\n",
    "coef_d_EtoC = np.ones(Ncm) * 0.000235\n",
    "coef_C = np.ones(Ncm) * 0.036\n",
    "i = 0\n",
    "Qi = [0,0]\n",
    "G = a * Q**2 + b*Q +c - coef_d_PtoE*(i+1)*Q**2\n",
    "A = coef_E + d_EtoC_list * coef_d_EtoC + coef_C \n",
    "A = A[0]\n",
    "G[G <0] = 0\n",
    "Q1 = np.sqrt(G / A).round(3)\n",
    "G2 = G - coef_d_PtoE*(Q-Qi[0])**2\n",
    "G2[G2 <0] = 0\n",
    "Q2 = np.sqrt(G2 / A).round(3)\n",
    "\n",
    "idx = np.searchsorted(Q0 - (Q1 + Q2), 0)\n",
    "idx\n",
    "# plt.plot(Q)\n",
    "# plt.plot(Qi)\n",
    "# np.vstack([Q1,Q2])\n",
    "# Q1\n",
    "# plt.plot(np.vstack([Q1,Q2]))\n",
    "# idx = np.searchsorted(Q - Qi, 0)\n",
    "# idx, Q[idx],Qi[idx], Qi.shape, G[idx]\n",
    "Q1[idx], Q2[idx]\n",
    "# mask = np.isclose(Qi,Q,atol= 0.1)\n",
    "# Qi[mask]"
   ]
  },
  {
   "cell_type": "code",
   "execution_count": null,
   "id": "bc2a2cb0",
   "metadata": {
    "hidden": true
   },
   "outputs": [],
   "source": [
    "coef_d_PtoE"
   ]
  },
  {
   "cell_type": "code",
   "execution_count": null,
   "id": "cb655957",
   "metadata": {
    "hidden": true
   },
   "outputs": [],
   "source": [
    "coef_d_PtoE"
   ]
  },
  {
   "cell_type": "code",
   "execution_count": null,
   "id": "a715a4c6",
   "metadata": {
    "hidden": true
   },
   "outputs": [],
   "source": [
    "Ncg=  2\n",
    "Ncm = 6\n",
    "\n",
    "d_EtoC_list = np.ones(Ncm) * 1\n",
    "coef_d_EtoC = np.ones(Ncm) * 0.000235\n",
    "coef_C = np.ones(Ncm) * 0.036\n",
    "A = coef_E + d_EtoC_list * coef_d_EtoC + coef_C \n",
    "A\n",
    "Q0 = np.arange(0.1,80,0.1)\n",
    "Qx = np.zeros(Q0.shape)\n",
    "Qi = np.zeros((Ncm,len(Q0)))\n",
    "\n",
    "G = a * Q0**2 + b*Q0 +c\n",
    "# Qx = 0\n",
    "Nev = int(Ncm/Ncg)\n",
    "# coef_d_PtoE = np.ones(Nev) * 0.000235\n",
    "coef_d_PtoE = np.array([1,2,4]) * 0.000235\n",
    "for i in range(Nev):\n",
    "#     print(i)\n",
    "    G = G - coef_d_PtoE[i]*(Q0-Qx)**2\n",
    "    G[G <0] = 0\n",
    "    Qi[i*Ncg:Ncg*(i+1),:] = np.sqrt(G / A[i*Ncg:Ncg*(i+1),np.newaxis])\n",
    "    Qx = Qi.sum(0)\n",
    "f = plt.plot(Qx)\n",
    "f = plt.plot(Q0)\n",
    "dfr = pd.DataFrame(Qi).T\n",
    "dfr.index = Q0\n",
    "# dfr\n",
    "idx = np.searchsorted(Q0 - Qx, -1)\n",
    "# mask = np.isclose(Qi.sum(0),Q0,atol= 1)\n",
    "# Qx[mask]\n",
    "\n",
    "# np.isclose(Qi.sum(0),Q,atol= 0.1)\n",
    "idx, Q[idx],Qx[idx], Qi[:,idx], Qi.shape, G[idx]"
   ]
  },
  {
   "cell_type": "markdown",
   "id": "de0442fe",
   "metadata": {
    "heading_collapsed": true
   },
   "source": [
    "# Final loop "
   ]
  },
  {
   "cell_type": "code",
   "execution_count": null,
   "id": "ecbb554c",
   "metadata": {
    "hidden": true
   },
   "outputs": [],
   "source": [
    "df.columns\n",
    "indiv = algo.indivs[0]\n",
    "Calcul_Debit(algo ,indiv, Split = algo.Split)"
   ]
  },
  {
   "cell_type": "code",
   "execution_count": null,
   "id": "ec84e117",
   "metadata": {
    "hidden": true
   },
   "outputs": [],
   "source": [
    "debitinput = {'p': 0, 'e': 0, 'ClistG': [0, 1, 3], 'pt': 'Pa'}\n",
    "debit(algo,indiv,debitinput, grouped = True, split = False)"
   ]
  },
  {
   "cell_type": "code",
   "execution_count": null,
   "id": "95cea3ca",
   "metadata": {
    "hidden": true
   },
   "outputs": [],
   "source": [
    "pompe,ev,ClistG,pt = debitinput.values()\n",
    "d_EtoC_list = np.array([algo.dist['E{}-C{}'.format(ev,c)] for c in ClistG])\n",
    "d_PtoE      = indiv['dist_Connect']['P{}-E{}'.format(pompe,ev)]\n",
    "d_EtoC_list, d_PtoE\n",
    "d_EtoC_list = [1,1,1]\n",
    "d_PtoE = 1\n",
    "p = [algo.DataCategorie['Pompe']['Values'][pt][i] for i in ['a','b','c']]\n",
    "p\n",
    "grouped = True\n",
    "split = False\n",
    "cE0 = 7.64e-04\n",
    "coef_E = 0 if split else cE0\n",
    "\n",
    "coef_C  = 0.036\n",
    "coef_C  = [algo.Nvals[i] for i in ClistG]\n",
    "coef_C  = np.array(coef_C)\n",
    "coef_d_EtoC  = 2.35e-04\n",
    "coef_d_EtoC = np.array([algo.duriteVal['E{}-C{}'.format(ev,c)] for c in ClistG])\n",
    "# coef_d_PtoE = algo.duriteVal['P{}-E{}'.format(pompe,ev)] \n",
    "coef_d_PtoE = indiv['duriteVal']['P{}-E{}'.format(pompe,ev)] \n",
    "a,b,c = [algo.DataCategorie['Pompe']['Values'][pt][i] for i in ['a','b','c']]\n",
    "A = coef_E + d_EtoC_list * coef_d_EtoC + coef_C \n",
    "coef_E ,d_EtoC_list,  coef_d_EtoC, coef_C\n",
    "a,b,c\n",
    "A"
   ]
  },
  {
   "cell_type": "code",
   "execution_count": null,
   "id": "1eaa1b5f",
   "metadata": {
    "hidden": true
   },
   "outputs": [],
   "source": [
    "\n",
    "Ncg=  6\n",
    "Ncm = 12\n",
    "cE0 = 7.64e-04\n",
    "coef_E =  cE0\n",
    "d_EtoC_list = np.ones(Ncm) * 1\n",
    "coef_d_EtoC = np.ones(Ncm) * 0.000235\n",
    "coef_C      = np.ones(Ncm) * 0.036\n",
    "A = coef_E + d_EtoC_list * coef_d_EtoC + coef_C \n",
    "\n",
    "Q0 = np.arange(0.1,80,0.1)\n",
    "Qx = np.zeros(Q0.shape)\n",
    "Qi = np.zeros((Ncm,len(Q0)))\n",
    "\n",
    "G = a * Q0**2 + b*Q0 +c\n",
    "Nev = int(Ncm/Ncg)\n",
    "coef_d_PtoE = np.ones(Nev) * 0.000235\n",
    "for i in range(Nev):\n",
    "    G = G - coef_d_PtoE[i]*(Q0-Qx)**2\n",
    "    G[G <0] = 0\n",
    "    Qi[i*Ncg:Ncg*(i+1),:] = np.sqrt(G / A[i*Ncg:Ncg*(i+1),np.newaxis])\n",
    "    Qx = Qi.sum(0)\n",
    "\n",
    "idx = np.searchsorted(Q0 - Qx, -0.9)\n",
    "\n",
    "idx, Q0[idx],Qx[idx], Qi[:,idx], Qi.shape, G[idx]"
   ]
  },
  {
   "cell_type": "code",
   "execution_count": null,
   "id": "49e6aa1b",
   "metadata": {
    "hidden": true
   },
   "outputs": [],
   "source": [
    "f = plt.plot(Qx)\n",
    "f = plt.plot(Q0)"
   ]
  },
  {
   "cell_type": "code",
   "execution_count": null,
   "id": "4ddfdd8a",
   "metadata": {
    "hidden": true
   },
   "outputs": [],
   "source": []
  }
 ],
 "metadata": {
  "kernelspec": {
   "display_name": "Python 3 (ipykernel)",
   "language": "python",
   "name": "python3"
  },
  "language_info": {
   "codemirror_mode": {
    "name": "ipython",
    "version": 3
   },
   "file_extension": ".py",
   "mimetype": "text/x-python",
   "name": "python",
   "nbconvert_exporter": "python",
   "pygments_lexer": "ipython3",
   "version": "3.9.12"
  },
  "toc": {
   "base_numbering": 1,
   "nav_menu": {},
   "number_sections": true,
   "sideBar": true,
   "skip_h1_title": false,
   "title_cell": "Table of Contents",
   "title_sidebar": "Contents",
   "toc_cell": false,
   "toc_position": {
    "height": "calc(100% - 180px)",
    "left": "10px",
    "top": "150px",
    "width": "176.333px"
   },
   "toc_section_display": true,
   "toc_window_display": true
  }
 },
 "nbformat": 4,
 "nbformat_minor": 5
}
