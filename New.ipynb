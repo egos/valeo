{
 "cells": [
  {
   "cell_type": "markdown",
   "id": "314482b2",
   "metadata": {},
   "source": [
    "# Import"
   ]
  },
  {
   "cell_type": "raw",
   "id": "6ce129e7",
   "metadata": {},
   "source": [
    "L = list(range(1000000))\n",
    "dfx = pd.DataFrame(L)\n",
    "%%timeit\n",
    "L[100]\n",
    "63.1 ns ± 1.32 ns per loop (mean ± std. dev. of 7 runs, 10000000 loops each)\n",
    "%%timeit\n",
    "dfx.iloc[100]\n",
    "83.3 µs ± 2.19 µs per loop (mean ± std. dev. of 7 runs, 10000 loops each)"
   ]
  },
  {
   "cell_type": "code",
   "execution_count": 1,
   "id": "cdb5d5ec",
   "metadata": {},
   "outputs": [
    {
     "data": {
      "text/html": [
       "<style>.container { width:70% !important; }</style>"
      ],
      "text/plain": [
       "<IPython.core.display.HTML object>"
      ]
     },
     "metadata": {},
     "output_type": "display_data"
    }
   ],
   "source": [
    "%load_ext autoreload\n",
    "%autoreload 2\n",
    "\n",
    "import importlib\n",
    "import numpy as np\n",
    "import math\n",
    "import itertools \n",
    "import pandas as pd\n",
    "import numpy as np\n",
    "import io\n",
    "import msoffcrypto\n",
    "from sklearn.metrics import r2_score\n",
    "import openpyxl\n",
    "import plotly.express as px\n",
    "from IPython.core.interactiveshell import InteractiveShell\n",
    "InteractiveShell.ast_node_interactivity = \"all\"\n",
    "import plotly\n",
    "import matplotlib.pyplot as plt\n",
    "import plotly.graph_objects as go\n",
    "import streamlit as st\n",
    "import json\n",
    "from math import factorial as fact\n",
    "from IPython.display import Markdown, display\n",
    "import networkx as nx\n",
    "import requests\n",
    "import toml\n",
    "import sys, os\n",
    "import collections\n",
    "from types import SimpleNamespace\n",
    "import copy\n",
    "\n",
    "%matplotlib inline \n",
    "%config Completer.use_jedi = False\n",
    "\n",
    "from IPython.display import display, HTML\n",
    "display(HTML(\"<style>.container { width:70% !important; }</style>\"))\n",
    "\n",
    "from utils import *"
   ]
  },
  {
   "cell_type": "markdown",
   "id": "96ba4560",
   "metadata": {},
   "source": [
    "# eval indiv"
   ]
  },
  {
   "cell_type": "markdown",
   "id": "8d522258",
   "metadata": {
    "heading_collapsed": true
   },
   "source": [
    "# Split save"
   ]
  },
  {
   "cell_type": "code",
   "execution_count": 2,
   "id": "63c6c802",
   "metadata": {
    "hidden": true
   },
   "outputs": [],
   "source": [
    "file = 'VALEO_full.tmj'\n",
    "algo = load_data_brut(file)\n",
    "algo.Group = [0,2]"
   ]
  },
  {
   "cell_type": "code",
   "execution_count": 3,
   "id": "c6b67e20",
   "metadata": {
    "hidden": true
   },
   "outputs": [
    {
     "data": {
      "text/plain": [
       "Group                                                   [0, 2]\n",
       "pop                                                         50\n",
       "fitness                                                   dist\n",
       "crossover                                                  0.4\n",
       "mutation                                                   0.4\n",
       "Nlim                                                       2.0\n",
       "Pmax                                                         3\n",
       "Plot                                                     False\n",
       "epoch                                                        0\n",
       "Nindiv                                                       0\n",
       "Nrepro                                                       0\n",
       "Tuyau                                                   ['Ta']\n",
       "Pompes                                            ['Pa', 'Pa']\n",
       "Pvals                               [-0.000516, -0.0154, 4.87]\n",
       "EV                                                      ['Ea']\n",
       "Nozzles                   ['fixed', 'fixed', 'fixed', 'fixed']\n",
       "Nvals                 {0: 0.036, 1: 0.036, 2: 0.036, 3: 0.036}\n",
       "Clist                                             [0, 1, 2, 3]\n",
       "Comb          {'C': [0, 1, 2, 3], 'E': [0, 1, 2], 'P': [0, 1]}\n",
       "CombAll      ['C3', 'C2', 'C1', 'C0', 'E2', 'E1', 'E0', 'P1...\n",
       "dist         {'E0-C0': 2.24, 'E0-C1': 2.0, 'E0-C2': 2.64, '...\n",
       "height                                                      10\n",
       "Name: Val, dtype: object"
      ]
     },
     "execution_count": 3,
     "metadata": {},
     "output_type": "execute_result"
    }
   ],
   "source": [
    "keydrop= [\"confs\", \"dfslot\",\"dfline\",\"indivs\",\"df\",'A0','DataCategorie']\n",
    "d = {k : v for k,v in vars(algo).items() if k not in keydrop}\n",
    "s = pd.Series(d).rename('Val').astype(str)\n",
    "s.index = s.index.astype(str)\n",
    "s"
   ]
  },
  {
   "cell_type": "code",
   "execution_count": 4,
   "id": "0167c902",
   "metadata": {
    "hidden": true
   },
   "outputs": [
    {
     "data": {
      "text/plain": [
       "{'Clist': [0, 1, 2, 3],\n",
       " 'CtoE': [1, 1, 1, 1],\n",
       " 'Econnect': {1: [0, 1, 2, 3]},\n",
       " 'Elist': [1],\n",
       " 'Ecount': 1,\n",
       " 'EtoP': [1],\n",
       " 'Pconnect': {1: [1]},\n",
       " 'Plist': [1],\n",
       " 'Pcount': 1,\n",
       " 'List_EtoC': [['E1-C0', 'E1-C1', 'E1-C2', 'E1-C3']],\n",
       " 'List_PtoE': [['P1-E1']],\n",
       " 'dist_Connect': {'E1-C0': 0.8,\n",
       "  'E1-C1': 1.44,\n",
       "  'E1-C2': 0.48,\n",
       "  'E1-C3': 2.4,\n",
       "  'P1-E1': 0.48},\n",
       " 'dist': 5.6,\n",
       " 'Name': ['E1-C0', 'E1-C1', 'E1-C2', 'E1-C3', 'P1-E1'],\n",
       " 'ID': 1,\n",
       " 'Name_txt': 'E1-C0,E1-C1,E1-C2,E1-C3,P1-E1',\n",
       " 'Epoch': 0,\n",
       " 'PressionList': [3.92, 4.48, 3.93, 4.46],\n",
       " 'DebitList': [10.44, 11.16, 10.45, 11.13],\n",
       " 'Debit': 43.2,\n",
       " 'Masse': 1433,\n",
       " 'Cout': 57,\n",
       " 'Alive': True}"
      ]
     },
     "execution_count": 4,
     "metadata": {},
     "output_type": "execute_result"
    }
   ],
   "source": [
    "Name = 'E1-C0,E1-C1,E1-C2,E1-C3,P1-E1'\n",
    "# Name  = 'E0-C1,E1-C0,E1-C2,E1-C3,P1-E0,P1-E1'\n",
    "indiv = Indiv_reverse(Name,algo) \n",
    "indiv"
   ]
  },
  {
   "cell_type": "code",
   "execution_count": 6,
   "id": "784b1f27",
   "metadata": {
    "hidden": true
   },
   "outputs": [
    {
     "data": {
      "text/html": [
       "<div>\n",
       "<style scoped>\n",
       "    .dataframe tbody tr th:only-of-type {\n",
       "        vertical-align: middle;\n",
       "    }\n",
       "\n",
       "    .dataframe tbody tr th {\n",
       "        vertical-align: top;\n",
       "    }\n",
       "\n",
       "    .dataframe thead th {\n",
       "        text-align: right;\n",
       "    }\n",
       "</style>\n",
       "<table border=\"1\" class=\"dataframe\">\n",
       "  <thead>\n",
       "    <tr style=\"text-align: right;\">\n",
       "      <th>case</th>\n",
       "      <th>pompe</th>\n",
       "      <th>Strat</th>\n",
       "      <th>C</th>\n",
       "      <th>group</th>\n",
       "      <th>split</th>\n",
       "      <th>pression</th>\n",
       "      <th>debit</th>\n",
       "      <th>debit total</th>\n",
       "    </tr>\n",
       "  </thead>\n",
       "  <tbody>\n",
       "    <tr>\n",
       "      <th>0</th>\n",
       "      <td>1</td>\n",
       "      <td>Full_s</td>\n",
       "      <td>R, F, F, F</td>\n",
       "      <td>0,1,2,3</td>\n",
       "      <td>0,1,2,3</td>\n",
       "      <td>2.2, 4.4, 4.5, 4.4</td>\n",
       "      <td>36.3, 11.1, 11.1, 11.1</td>\n",
       "      <td>69.7</td>\n",
       "    </tr>\n",
       "    <tr>\n",
       "      <th>1</th>\n",
       "      <td>1</td>\n",
       "      <td>gr E1</td>\n",
       "      <td>R, F, F, F</td>\n",
       "      <td>(0,2),(1,3)</td>\n",
       "      <td>0,1,2,3</td>\n",
       "      <td>NaN</td>\n",
       "      <td>NaN</td>\n",
       "      <td>65.3</td>\n",
       "    </tr>\n",
       "    <tr>\n",
       "      <th>2</th>\n",
       "      <td>1</td>\n",
       "      <td>g3</td>\n",
       "      <td>R, F, F, F</td>\n",
       "      <td>0, (1,2) ,3</td>\n",
       "      <td>0,1,2,3</td>\n",
       "      <td>2.2, 4.1, 4.1, 4.4</td>\n",
       "      <td>36,3, 10.7, 10.7, 11.1</td>\n",
       "      <td>NaN</td>\n",
       "    </tr>\n",
       "    <tr>\n",
       "      <th>3</th>\n",
       "      <td>1</td>\n",
       "      <td>g3p</td>\n",
       "      <td>R, F, F, F</td>\n",
       "      <td>0, (1,2) , 3</td>\n",
       "      <td>0, (1,2) , 3</td>\n",
       "      <td>NaN</td>\n",
       "      <td>NaN</td>\n",
       "      <td>NaN</td>\n",
       "    </tr>\n",
       "    <tr>\n",
       "      <th>4</th>\n",
       "      <td>1</td>\n",
       "      <td>?</td>\n",
       "      <td>R, F, F, F</td>\n",
       "      <td>0, (1,2) , 3</td>\n",
       "      <td>(0,1,2),3</td>\n",
       "      <td>NaN</td>\n",
       "      <td>NaN</td>\n",
       "      <td>NaN</td>\n",
       "    </tr>\n",
       "  </tbody>\n",
       "</table>\n",
       "</div>"
      ],
      "text/plain": [
       "case pompe   Strat           C         group         split  \\\n",
       "0        1  Full_s  R, F, F, F       0,1,2,3       0,1,2,3   \n",
       "1        1   gr E1  R, F, F, F   (0,2),(1,3)       0,1,2,3   \n",
       "2        1      g3  R, F, F, F   0, (1,2) ,3       0,1,2,3   \n",
       "3        1     g3p  R, F, F, F  0, (1,2) , 3  0, (1,2) , 3   \n",
       "4        1       ?  R, F, F, F  0, (1,2) , 3     (0,1,2),3   \n",
       "\n",
       "case            pression                   debit debit total  \n",
       "0     2.2, 4.4, 4.5, 4.4  36.3, 11.1, 11.1, 11.1        69.7  \n",
       "1                    NaN                     NaN        65.3  \n",
       "2     2.2, 4.1, 4.1, 4.4  36,3, 10.7, 10.7, 11.1         NaN  \n",
       "3                    NaN                     NaN         NaN  \n",
       "4                    NaN                     NaN         NaN  "
      ]
     },
     "execution_count": 6,
     "metadata": {},
     "output_type": "execute_result"
    }
   ],
   "source": [
    "df = pd.read_excel('test.xlsx', sheet_name= 'Sheet{}'.format(5), header=0).set_index('case').T\n",
    "df"
   ]
  },
  {
   "cell_type": "markdown",
   "id": "37da54e5",
   "metadata": {
    "heading_collapsed": true,
    "hidden": true
   },
   "source": [
    "## Combinatoire"
   ]
  },
  {
   "cell_type": "raw",
   "id": "8bf06ae5",
   "metadata": {
    "hidden": true
   },
   "source": [
    "a = np.array(list(itertools.product([0,1,2], repeat=3)))\n",
    "\n",
    "diff = np.diff(a)\n",
    "mask = ((np.abs(diff) <2).all(1)) & (a[:,0] == 0)\n",
    "mask = ((diff <2).all(1)) & (a[:,0] == 0)\n",
    "a[mask]"
   ]
  },
  {
   "cell_type": "raw",
   "id": "33db4240",
   "metadata": {
    "hidden": true
   },
   "source": [
    "%%time\n",
    "Size = 3\n",
    "List = list(range(Size))\n",
    "List\n",
    "a = np.array(list(itertools.product(List, repeat=Size)))\n",
    "\n",
    "mask = (a[:,0] == 0)\n",
    "for i in range(1,Size) :\n",
    "    mask = mask & (a[:,i] <= a[:,:i].max(1)+1)\n",
    "\n",
    "\n",
    "a = a[mask]\n",
    "len(a)"
   ]
  },
  {
   "cell_type": "code",
   "execution_count": 6,
   "id": "c28d6c2e",
   "metadata": {
    "hidden": true
   },
   "outputs": [],
   "source": [
    "SplitDict = {}\n",
    "for Size in range(2,5):\n",
    "    List = list(range(Size))\n",
    "    a = np.array(list(itertools.product(List, repeat=Size)))\n",
    "    \n",
    "    mask = (a[:,0] == 0)\n",
    "    for i in range(1,Size) :\n",
    "        mask = mask & (a[:,i] <= a[:,:i].max(1)+1)\n",
    "    a = a[mask]   \n",
    "    \n",
    "    for i in range(len(a)):\n",
    "        s = a[i]\n",
    "        u, idx, counts = np.unique(s, return_index=True, return_counts  = True, axis = 0)\n",
    "        val = u[counts == 1]\n",
    "        s[np.isin(s,val)] = -1 \n",
    "        a[i] = s\n",
    "    SplitDict[Size] = a"
   ]
  },
  {
   "cell_type": "code",
   "execution_count": 7,
   "id": "b7174412",
   "metadata": {
    "hidden": true
   },
   "outputs": [
    {
     "data": {
      "text/plain": [
       "{2: array([[ 0,  0],\n",
       "        [-1, -1]]),\n",
       " 3: array([[ 0,  0,  0],\n",
       "        [ 0,  0, -1],\n",
       "        [ 0, -1,  0],\n",
       "        [-1,  1,  1],\n",
       "        [-1, -1, -1]]),\n",
       " 4: array([[ 0,  0,  0,  0],\n",
       "        [ 0,  0,  0, -1],\n",
       "        [ 0,  0, -1,  0],\n",
       "        [ 0,  0,  1,  1],\n",
       "        [ 0,  0, -1, -1],\n",
       "        [ 0, -1,  0,  0],\n",
       "        [ 0,  1,  0,  1],\n",
       "        [ 0, -1,  0, -1],\n",
       "        [ 0,  1,  1,  0],\n",
       "        [-1,  1,  1,  1],\n",
       "        [-1,  1,  1, -1],\n",
       "        [ 0, -1, -1,  0],\n",
       "        [-1,  1, -1,  1],\n",
       "        [-1, -1,  2,  2],\n",
       "        [-1, -1, -1, -1]])}"
      ]
     },
     "execution_count": 7,
     "metadata": {},
     "output_type": "execute_result"
    }
   ],
   "source": [
    "SplitDict"
   ]
  },
  {
   "cell_type": "code",
   "execution_count": 8,
   "id": "8a35ded0",
   "metadata": {
    "hidden": true
   },
   "outputs": [
    {
     "data": {
      "text/plain": [
       "3"
      ]
     },
     "execution_count": 8,
     "metadata": {},
     "output_type": "execute_result"
    }
   ],
   "source": [
    "Group  = [0,1,2,3]\n",
    "Egroup = indiv['Econnect'][1]\n",
    "Egroup = [e for e in Egroup if e in Group ]\n",
    "Size = len(Egroup)\n",
    "Size"
   ]
  },
  {
   "cell_type": "code",
   "execution_count": 9,
   "id": "95301434",
   "metadata": {
    "hidden": true
   },
   "outputs": [],
   "source": [
    "ListIndivs = []\n",
    "for s in SplitDict[Size]: \n",
    "    d = collections.defaultdict(list)\n",
    "    for i in range(Size): \n",
    "        d[s[i]].append(Egroup[i])\n",
    "    d = dict(sorted(d.items())) \n",
    "    NewIndiv = copy.deepcopy(indiv)\n",
    "    NewIndiv['Egroup'] = Egroup\n",
    "    NewIndiv['Split'] = d\n",
    "    ListIndivs.append(NewIndiv)"
   ]
  },
  {
   "cell_type": "code",
   "execution_count": 10,
   "id": "40330927",
   "metadata": {
    "hidden": true
   },
   "outputs": [
    {
     "data": {
      "text/html": [
       "<div>\n",
       "<style scoped>\n",
       "    .dataframe tbody tr th:only-of-type {\n",
       "        vertical-align: middle;\n",
       "    }\n",
       "\n",
       "    .dataframe tbody tr th {\n",
       "        vertical-align: top;\n",
       "    }\n",
       "\n",
       "    .dataframe thead th {\n",
       "        text-align: right;\n",
       "    }\n",
       "</style>\n",
       "<table border=\"1\" class=\"dataframe\">\n",
       "  <thead>\n",
       "    <tr style=\"text-align: right;\">\n",
       "      <th></th>\n",
       "      <th>dist</th>\n",
       "      <th>ID</th>\n",
       "      <th>Name_txt</th>\n",
       "      <th>Epoch</th>\n",
       "      <th>PressionList</th>\n",
       "      <th>DebitList</th>\n",
       "      <th>Debit</th>\n",
       "      <th>Masse</th>\n",
       "      <th>Cout</th>\n",
       "      <th>Alive</th>\n",
       "      <th>Egroup</th>\n",
       "      <th>Split</th>\n",
       "    </tr>\n",
       "  </thead>\n",
       "  <tbody>\n",
       "    <tr>\n",
       "      <th>0</th>\n",
       "      <td>7.6</td>\n",
       "      <td>2</td>\n",
       "      <td>E0-C1,E1-C0,E1-C2,E1-C3,P1-E0,P1-E1</td>\n",
       "      <td>0</td>\n",
       "      <td>[4.5, 4.44, 4.51, 4.46]</td>\n",
       "      <td>[11.18, 11.11, 11.19, 11.13]</td>\n",
       "      <td>44.6</td>\n",
       "      <td>1661</td>\n",
       "      <td>61</td>\n",
       "      <td>True</td>\n",
       "      <td>[0, 2, 3]</td>\n",
       "      <td>{0: [0, 2, 3]}</td>\n",
       "    </tr>\n",
       "    <tr>\n",
       "      <th>1</th>\n",
       "      <td>7.6</td>\n",
       "      <td>2</td>\n",
       "      <td>E0-C1,E1-C0,E1-C2,E1-C3,P1-E0,P1-E1</td>\n",
       "      <td>0</td>\n",
       "      <td>[4.5, 4.44, 4.51, 4.46]</td>\n",
       "      <td>[11.18, 11.11, 11.19, 11.13]</td>\n",
       "      <td>44.6</td>\n",
       "      <td>1661</td>\n",
       "      <td>61</td>\n",
       "      <td>True</td>\n",
       "      <td>[0, 2, 3]</td>\n",
       "      <td>{-1: [3], 0: [0, 2]}</td>\n",
       "    </tr>\n",
       "    <tr>\n",
       "      <th>2</th>\n",
       "      <td>7.6</td>\n",
       "      <td>2</td>\n",
       "      <td>E0-C1,E1-C0,E1-C2,E1-C3,P1-E0,P1-E1</td>\n",
       "      <td>0</td>\n",
       "      <td>[4.5, 4.44, 4.51, 4.46]</td>\n",
       "      <td>[11.18, 11.11, 11.19, 11.13]</td>\n",
       "      <td>44.6</td>\n",
       "      <td>1661</td>\n",
       "      <td>61</td>\n",
       "      <td>True</td>\n",
       "      <td>[0, 2, 3]</td>\n",
       "      <td>{-1: [2], 0: [0, 3]}</td>\n",
       "    </tr>\n",
       "    <tr>\n",
       "      <th>3</th>\n",
       "      <td>7.6</td>\n",
       "      <td>2</td>\n",
       "      <td>E0-C1,E1-C0,E1-C2,E1-C3,P1-E0,P1-E1</td>\n",
       "      <td>0</td>\n",
       "      <td>[4.5, 4.44, 4.51, 4.46]</td>\n",
       "      <td>[11.18, 11.11, 11.19, 11.13]</td>\n",
       "      <td>44.6</td>\n",
       "      <td>1661</td>\n",
       "      <td>61</td>\n",
       "      <td>True</td>\n",
       "      <td>[0, 2, 3]</td>\n",
       "      <td>{-1: [0], 1: [2, 3]}</td>\n",
       "    </tr>\n",
       "    <tr>\n",
       "      <th>4</th>\n",
       "      <td>7.6</td>\n",
       "      <td>2</td>\n",
       "      <td>E0-C1,E1-C0,E1-C2,E1-C3,P1-E0,P1-E1</td>\n",
       "      <td>0</td>\n",
       "      <td>[4.5, 4.44, 4.51, 4.46]</td>\n",
       "      <td>[11.18, 11.11, 11.19, 11.13]</td>\n",
       "      <td>44.6</td>\n",
       "      <td>1661</td>\n",
       "      <td>61</td>\n",
       "      <td>True</td>\n",
       "      <td>[0, 2, 3]</td>\n",
       "      <td>{-1: [0, 2, 3]}</td>\n",
       "    </tr>\n",
       "  </tbody>\n",
       "</table>\n",
       "</div>"
      ],
      "text/plain": [
       "   dist  ID                             Name_txt  Epoch  \\\n",
       "0   7.6   2  E0-C1,E1-C0,E1-C2,E1-C3,P1-E0,P1-E1      0   \n",
       "1   7.6   2  E0-C1,E1-C0,E1-C2,E1-C3,P1-E0,P1-E1      0   \n",
       "2   7.6   2  E0-C1,E1-C0,E1-C2,E1-C3,P1-E0,P1-E1      0   \n",
       "3   7.6   2  E0-C1,E1-C0,E1-C2,E1-C3,P1-E0,P1-E1      0   \n",
       "4   7.6   2  E0-C1,E1-C0,E1-C2,E1-C3,P1-E0,P1-E1      0   \n",
       "\n",
       "              PressionList                     DebitList  Debit  Masse  Cout  \\\n",
       "0  [4.5, 4.44, 4.51, 4.46]  [11.18, 11.11, 11.19, 11.13]   44.6   1661    61   \n",
       "1  [4.5, 4.44, 4.51, 4.46]  [11.18, 11.11, 11.19, 11.13]   44.6   1661    61   \n",
       "2  [4.5, 4.44, 4.51, 4.46]  [11.18, 11.11, 11.19, 11.13]   44.6   1661    61   \n",
       "3  [4.5, 4.44, 4.51, 4.46]  [11.18, 11.11, 11.19, 11.13]   44.6   1661    61   \n",
       "4  [4.5, 4.44, 4.51, 4.46]  [11.18, 11.11, 11.19, 11.13]   44.6   1661    61   \n",
       "\n",
       "   Alive     Egroup                 Split  \n",
       "0   True  [0, 2, 3]        {0: [0, 2, 3]}  \n",
       "1   True  [0, 2, 3]  {-1: [3], 0: [0, 2]}  \n",
       "2   True  [0, 2, 3]  {-1: [2], 0: [0, 3]}  \n",
       "3   True  [0, 2, 3]  {-1: [0], 1: [2, 3]}  \n",
       "4   True  [0, 2, 3]       {-1: [0, 2, 3]}  "
      ]
     },
     "execution_count": 10,
     "metadata": {},
     "output_type": "execute_result"
    }
   ],
   "source": [
    "ColSysteme = ['Clist','Name','dist_Connect','List_EtoC','List_PtoE']\n",
    "ColAlgo = ['CtoE','EtoP','Econnect','Elist','Ecount','Pconnect','Plist','Pcount']\n",
    "Col_drop = ColSysteme +ColAlgo\n",
    "pd.DataFrame(ListIndivs).drop(columns= Col_drop)"
   ]
  },
  {
   "cell_type": "markdown",
   "id": "99712e2e",
   "metadata": {
    "heading_collapsed": true,
    "hidden": true
   },
   "source": [
    "## Calcul"
   ]
  },
  {
   "cell_type": "markdown",
   "id": "09a76c28",
   "metadata": {
    "heading_collapsed": true,
    "hidden": true
   },
   "source": [
    "### Func"
   ]
  },
  {
   "cell_type": "code",
   "execution_count": null,
   "id": "baed8f84",
   "metadata": {
    "hidden": true
   },
   "outputs": [],
   "source": [
    "def debit_2(algo, d_EtoC_list,d_PtoE,EClist, group = True, split = True):\n",
    "    # d_EtoC = Dict_dist['EtoC']\n",
    "    # d_PtoE = Dict_dist['PtoE']\n",
    "    p = [-5.16e-04, -1.54e-02, 4.87]\n",
    "    p = algo.Pvals\n",
    "    # p = [-6.61e-4,-0.0286,12.1]\n",
    "    E0 = 7.64e-04\n",
    "    coef_E  = np.ones(len(EClist)) * E0\n",
    "    # coef_E  = np.array([E0 if c in [0,3] else 0 for c in Clist])\n",
    "    # print(Clist , coef_E)\n",
    "    coef_C  = 0.036\n",
    "    coef_C  = [algo.Nvals[i] for i in EClist]\n",
    "    coef_C  = np.array(coef_C)\n",
    "    coef_d  = 2.35e-04    \n",
    "    \n",
    "    A = coef_E + d_EtoC_list * coef_d + coef_C \n",
    "    Z = ( A**-0.5).sum() if group else A**-0.5\n",
    "    As , Bs, Cs = p[0] - (coef_d * d_PtoE) - 1/(Z**2), p[1] , p[2]\n",
    "    delta = (Bs**2) - (4 * As * Cs)\n",
    "    Qt  = np.array((- Bs - delta**0.5)/(2*As))\n",
    "    Pt = np.array(Qt**2 / Z**2)\n",
    "    a0 = p[0] * (Qt**2) + p[1] * Qt + p[2] - Pt\n",
    "    Qi = (Pt / A)**0.5\n",
    "    Pi = coef_C * (Qi**2)\n",
    "    key = ['Qt','Pt','Qi','Pi']\n",
    "    val = [Qt, Pt, Qi, Pi]\n",
    "    val = [v.round(2) for v in val]\n",
    "    return dict(zip(key,val))"
   ]
  },
  {
   "cell_type": "code",
   "execution_count": 67,
   "id": "b0fd8689",
   "metadata": {
    "hidden": true
   },
   "outputs": [],
   "source": [
    "def Calcul_Debit_2(algo ,indiv, group, split = None):\n",
    "    D = algo.Comb  \n",
    "    Group = algo.Group  \n",
    "    Clist = D['C']\n",
    "    Econnect = indiv['Econnect']\n",
    "    Pconnect = indiv['Pconnect']\n",
    "    EtoP = indiv['EtoP']\n",
    "    Pression = []\n",
    "    Debit = []\n",
    "\n",
    "    Cpression = {}\n",
    "    Cdebit = {}\n",
    "    grouped = False\n",
    "    split =  {0: [0], 1: [1, 2, 3]}\n",
    "    for i, (e,EClist) in enumerate(Econnect.items()):\n",
    "        p = EtoP[i]\n",
    "        name = 'P{}-E{}'.format(p,e)\n",
    "        VerifGroup = np.isin(Group,  EClist)\n",
    "        # EClistTotal = [EClist]\n",
    "        # if VerifGroup.all() & (len(Group) > 0):\n",
    "        EClistTotal = [[i for i in EClist if i in Group], [i for i in EClist if i not in Group]]          \n",
    "        grouped = True\n",
    "        for j,  EClist in enumerate(EClistTotal):\n",
    "            if j > 0 : grouped = False # bascule a No group apres le passage group \n",
    "            if len(EClist)>0: # bug avec calcul array\n",
    "                d_EtoC_list = np.array([algo.dist['E{}-C{}'.format(e,c)] for c in EClist])\n",
    "                d_PtoE = algo.dist['P{}-E{}'.format(p,e)]\n",
    "                res = debit_2(algo, d_EtoC_list,d_PtoE, EClist, grouped)\n",
    "\n",
    "                Debit = Debit + list(res['Qi'])\n",
    "                Pi = list(res['Pi'])\n",
    "                PressionConnect = dict(zip(EClist, Pi))\n",
    "                Cpression.update(PressionConnect)                \n",
    "                Qi = list(res['Qi'])\n",
    "                Cdebit.update(dict(zip(EClist, Qi)))\n",
    "\n",
    "                keys = ['i', 'j' ,'Clist','d_EtoC_list', 'd_PtoE', 'EClist', 'Group','grouped', 'EClistTotal', 'PressionConnect']\n",
    "                vals = [i, j ,Clist , d_EtoC_list, d_PtoE, EClist, Group,grouped, EClistTotal, PressionConnect]\n",
    "                print(str(dict(zip(keys,vals))))\n",
    "    PressionList = [Cpression[i] for i in D['C']]\n",
    "    DebitList    = [Cdebit[i] for i in D['C']]\n",
    "    # print(Cpression)\n",
    "    SumDebit = round(sum(Debit),1)   \n",
    "    keys = ['PressionList','DebitList','Debit']\n",
    "    vals = [PressionList, DebitList, SumDebit] \n",
    "    return dict(zip(keys,vals))"
   ]
  },
  {
   "cell_type": "code",
   "execution_count": 84,
   "id": "0b979e54",
   "metadata": {
    "hidden": true
   },
   "outputs": [
    {
     "data": {
      "text/plain": [
       "defaultdict(list, {0: [0], 1: [1, 2, 3]})"
      ]
     },
     "execution_count": 84,
     "metadata": {},
     "output_type": "execute_result"
    }
   ],
   "source": [
    "split = '0, (1,2) , (3, 4)'\n",
    "\n",
    "def Uncode_split(split):\n",
    "    n = 0\n",
    "    tosplit = False \n",
    "    d = collections.defaultdict(list)\n",
    "    for i in split: \n",
    "        if i == '(':\n",
    "            tosplit =  True\n",
    "            n+= 1\n",
    "        if i == ')': \n",
    "            tosplit =  False\n",
    "        if i.isdigit(): \n",
    "            i = int(i)\n",
    "            if tosplit: d[n].append(i)\n",
    "            else : d[0].append(i)\n",
    "    return d\n",
    "\n",
    "split = '0, (1,2, 3)'\n",
    "split = Uncode_split(split)\n",
    "split =  {0: [0], 1: [1, 2, 3]}"
   ]
  },
  {
   "cell_type": "markdown",
   "id": "60e5bdd4",
   "metadata": {
    "heading_collapsed": true,
    "hidden": true
   },
   "source": [
    "### Run"
   ]
  },
  {
   "cell_type": "code",
   "execution_count": 48,
   "id": "8b2a1eee",
   "metadata": {
    "hidden": true
   },
   "outputs": [
    {
     "data": {
      "text/plain": [
       "defaultdict(list, {0: [0], 1: [1, 2, 3]})"
      ]
     },
     "execution_count": 48,
     "metadata": {},
     "output_type": "execute_result"
    }
   ],
   "source": [
    "split = '0, (1,2, 3)'\n",
    "Uncode_split(split)"
   ]
  },
  {
   "cell_type": "code",
   "execution_count": 79,
   "id": "e41ee881",
   "metadata": {
    "hidden": true
   },
   "outputs": [
    {
     "name": "stdout",
     "output_type": "stream",
     "text": [
      "{'i': 0, 'j': 0, 'Clist': [0, 1, 2, 3], 'd_EtoC_list': array([1.44, 0.48]), 'd_PtoE': 0.48, 'EClist': [1, 2], 'Group': [1, 2], 'grouped': True, 'EClistTotal': [[1, 2], [0, 3]], 'PressionConnect': {1: 4.12, 2: 4.15}}\n",
      "{'i': 0, 'j': 1, 'Clist': [0, 1, 2, 3], 'd_EtoC_list': array([0.8, 2.4]), 'd_PtoE': 0.48, 'EClist': [0, 3], 'Group': [1, 2], 'grouped': False, 'EClistTotal': [[1, 2], [0, 3]], 'PressionConnect': {0: 2.23, 3: 4.46}}\n"
     ]
    },
    {
     "data": {
      "text/plain": [
       "{'PressionList': [2.23, 4.12, 4.15, 4.46],\n",
       " 'DebitList': [36.25, 10.7, 10.74, 11.13],\n",
       " 'Debit': 68.8}"
      ]
     },
     "execution_count": 79,
     "metadata": {},
     "output_type": "execute_result"
    }
   ],
   "source": [
    "Nozzles = ['ramp', 'fixed', 'fixed', 'fixed']\n",
    "algo.Nozzles = Nozzles\n",
    "Nvals   = [algo.DataCategorie['Nozzle']['Values'][n]['a'] for n in Nozzles]\n",
    "algo.Nvals = dict(zip(Clist, Nvals))\n",
    "algo.Group  = [1,2]\n",
    "Calcul_Debit_2(algo ,indiv, group)"
   ]
  },
  {
   "cell_type": "code",
   "execution_count": 57,
   "id": "9da15611",
   "metadata": {
    "collapsed": true,
    "hidden": true
   },
   "outputs": [
    {
     "data": {
      "text/plain": [
       "{'Clist': [0, 1, 2, 3],\n",
       " 'CtoE': [1, 1, 1, 1],\n",
       " 'Econnect': {1: [0, 1, 2, 3]},\n",
       " 'Elist': [1],\n",
       " 'Ecount': 1,\n",
       " 'EtoP': [1],\n",
       " 'Pconnect': {1: [1]},\n",
       " 'Plist': [1],\n",
       " 'Pcount': 1,\n",
       " 'List_EtoC': [['E1-C0', 'E1-C1', 'E1-C2', 'E1-C3']],\n",
       " 'List_PtoE': [['P1-E1']],\n",
       " 'dist_Connect': {'E1-C0': 0.8,\n",
       "  'E1-C1': 1.44,\n",
       "  'E1-C2': 0.48,\n",
       "  'E1-C3': 2.4,\n",
       "  'P1-E1': 0.48},\n",
       " 'dist': 5.6,\n",
       " 'Name': ['E1-C0', 'E1-C1', 'E1-C2', 'E1-C3', 'P1-E1'],\n",
       " 'ID': 4,\n",
       " 'Name_txt': 'E1-C0,E1-C1,E1-C2,E1-C3,P1-E1',\n",
       " 'Epoch': 0,\n",
       " 'PressionList': [4.5, 4.12, 4.15, 4.46],\n",
       " 'DebitList': [11.18, 10.7, 10.74, 11.13],\n",
       " 'Debit': 43.8,\n",
       " 'Masse': 1433,\n",
       " 'Cout': 57,\n",
       " 'Alive': True}"
      ]
     },
     "execution_count": 57,
     "metadata": {},
     "output_type": "execute_result"
    }
   ],
   "source": [
    "indiv"
   ]
  },
  {
   "cell_type": "code",
   "execution_count": null,
   "id": "fb5bca33",
   "metadata": {
    "hidden": true
   },
   "outputs": [],
   "source": [
    "[2.2, 4.4, 4.5, 2.0]\n",
    "[36.3, 11.1, 11.1, 34.5]"
   ]
  },
  {
   "cell_type": "code",
   "execution_count": 71,
   "id": "68c0eaae",
   "metadata": {
    "hidden": true
   },
   "outputs": [],
   "source": [
    "dc = {'i': 0, 'j': 0, 'Clist': [0, 1, 2, 3], 'd_EtoC_list': np.array([0.8 , 1.44, 0.48, 2.4 ]),\n",
    "      'd_PtoE': 0.48, 'EClist': [0, 1, 2, 3], 'Group': [0, 1, 2, 3], 'grouped': True,\n",
    "      'EClistTotal': [[0, 1, 2, 3], []], 'PressionConnect': {0: 1.47, 1: 2.22, 2: 2.24, 3: 2.21}}"
   ]
  },
  {
   "cell_type": "code",
   "execution_count": 81,
   "id": "2c5c03df",
   "metadata": {
    "hidden": true
   },
   "outputs": [],
   "source": [
    "dc = {'i': 0, 'j': 0, 'Clist': [0, 1, 2, 3],\n",
    "      'd_EtoC_list': np.array([1.44, 0.48]), 'd_PtoE': 0.48, 'EClist': [1, 2], 'Group': [1, 2],\n",
    "      'grouped': True, 'EClistTotal': [[1, 2], [0, 3]], 'PressionConnect': {1: 4.12, 2: 4.15}}"
   ]
  },
  {
   "cell_type": "code",
   "execution_count": 82,
   "id": "2f9a1fba",
   "metadata": {
    "hidden": true
   },
   "outputs": [
    {
     "data": {
      "text/plain": [
       "(0, array([0.036, 0.036]), 0.000235)"
      ]
     },
     "execution_count": 82,
     "metadata": {},
     "output_type": "execute_result"
    },
    {
     "data": {
      "text/plain": [
       "{'Qt': 20.86,\n",
       " 'Pt': 3.94,\n",
       " 'Qi': array([10.42, 10.45]),\n",
       " 'Pi': array([3.91, 3.93])}"
      ]
     },
     "execution_count": 82,
     "metadata": {},
     "output_type": "execute_result"
    }
   ],
   "source": [
    "# d_EtoC = Dict_dist['EtoC']\n",
    "# d_PtoE = Dict_dist['PtoE']\n",
    "\n",
    "d_EtoC_list = dc['d_EtoC_list']\n",
    "d_PtoE = dc['d_PtoE']\n",
    "EClist = dc['EClist']\n",
    "group = True\n",
    "\n",
    "p = [-5.16e-04, -1.54e-02, 4.87]\n",
    "p = algo.Pvals\n",
    "# p = [-6.61e-4,-0.0286,12.1]\n",
    "E0 = 7.64e-04\n",
    "coef_E  = np.ones(len(EClist)) * E0\n",
    "coef_E  = np.array([E0 if c in [0,3] else 0 for c in EClist])\n",
    "coef_E = 0\n",
    "# print(Clist , coef_E)\n",
    "coef_C  = 0.036\n",
    "coef_C  = [algo.Nvals[i] for i in EClist]\n",
    "coef_C  = np.array(coef_C)\n",
    "coef_d  = 2.35e-04    \n",
    "coef_E , coef_C , coef_d\n",
    "\n",
    "A = coef_E + d_EtoC_list * coef_d + coef_C \n",
    "Z = ( A**-0.5).sum() if group else A**-0.5\n",
    "# Z = A**-0.5\n",
    "\n",
    "As = p[0] - (coef_d * d_PtoE) - 1/(Z**2) - E0\n",
    "Bs = p[1]\n",
    "Cs = p[2]\n",
    "\n",
    "delta = (Bs**2) - (4 * As * Cs)\n",
    "Qt  = np.array((- Bs - delta**0.5)/(2*As))\n",
    "Pt = np.array(Qt**2 / Z**2)\n",
    "a0 = p[0] * (Qt**2) + p[1] * Qt + p[2] - Pt\n",
    "Qi = (Pt / A)**0.5\n",
    "Pi = coef_C * (Qi**2)\n",
    "key = ['Qt','Pt','Qi','Pi']\n",
    "val = [Qt, Pt, Qi, Pi]\n",
    "val = [v.round(2) for v in val]\n",
    "dict(zip(key,val))"
   ]
  },
  {
   "cell_type": "markdown",
   "id": "f7a5bb14",
   "metadata": {
    "heading_collapsed": true,
    "hidden": true
   },
   "source": [
    "## Test si multiple E slot "
   ]
  },
  {
   "cell_type": "code",
   "execution_count": 54,
   "id": "f836f231",
   "metadata": {
    "hidden": true
   },
   "outputs": [
    {
     "name": "stdout",
     "output_type": "stream",
     "text": [
      "[0, 2] {0: [1], 1: [0, 2, 3]}\n",
      "0 1 0 [1] False [1]\n",
      "1 0 1 [0, 2] True [0, 2]\n",
      "1 1 1 [3] False [3]\n"
     ]
    }
   ],
   "source": [
    "D = algo.Comb  \n",
    "Group = algo.Group  \n",
    "Clist = D['C']\n",
    "Econnect = indiv['Econnect']\n",
    "\n",
    "Pconnect = indiv['Pconnect']\n",
    "EtoP = indiv['EtoP']\n",
    "Pression = []\n",
    "Debit = []\n",
    "# Data = {}\n",
    "# Pression_C = []\n",
    "# on loop sur chaque EV pour connect to C et faire calcul Pt Qt coté pompe et Pi Qi coté Capteur\n",
    "Cpression = {}\n",
    "Cdebit = {}\n",
    "grouped = False\n",
    "\n",
    "print(Group, Econnect)\n",
    "for i, (e,EClist) in enumerate(Econnect.items()):\n",
    "    p = EtoP[i]\n",
    "    name = 'P{}-E{}'.format(p,e)\n",
    "    VerifGroup = np.isin(Group,  EClist)\n",
    "    # EClistTotal = [EClist]\n",
    "    # if VerifGroup.all() & (len(Group) > 0):\n",
    "    EClistTotal = [[i for i in EClist if i in Group], [i for i in EClist if i not in Group]]          \n",
    "    grouped = True\n",
    "    for j,  EClist in enumerate(EClistTotal):\n",
    "        if j >0 : grouped = False # bascule a No group apres le passage group \n",
    "        if len(EClist)>0: # bug avec calcul array\n",
    "            print(i,j,e,EClist , grouped, EClist)\n",
    "            if grouped : Egroup = EClist"
   ]
  },
  {
   "cell_type": "code",
   "execution_count": 66,
   "id": "45c7a0bf",
   "metadata": {
    "hidden": true
   },
   "outputs": [],
   "source": [
    "Esplit = collections.defaultdict(list)"
   ]
  },
  {
   "cell_type": "code",
   "execution_count": 62,
   "id": "8783ffde",
   "metadata": {
    "hidden": true
   },
   "outputs": [
    {
     "data": {
      "text/plain": [
       "2"
      ]
     },
     "execution_count": 62,
     "metadata": {},
     "output_type": "execute_result"
    },
    {
     "data": {
      "text/plain": [
       "array([0, 0])"
      ]
     },
     "execution_count": 62,
     "metadata": {},
     "output_type": "execute_result"
    },
    {
     "data": {
      "text/plain": [
       "dict_keys([0])"
      ]
     },
     "execution_count": 62,
     "metadata": {},
     "output_type": "execute_result"
    },
    {
     "data": {
      "text/plain": [
       "defaultdict(list, {0: [0, 2]})"
      ]
     },
     "execution_count": 62,
     "metadata": {},
     "output_type": "execute_result"
    }
   ],
   "source": [
    "Size = len(Egroup)\n",
    "Size\n",
    "s = SplitDict[Size][0]\n",
    "s\n",
    "\n",
    "d = collections.defaultdict(list)\n",
    "for i in range(Size): \n",
    "    d[s[i]].append(Egroup[i])\n",
    "d.keys()\n",
    "d"
   ]
  },
  {
   "cell_type": "markdown",
   "id": "3d69127c",
   "metadata": {},
   "source": [
    "# PF"
   ]
  },
  {
   "cell_type": "markdown",
   "id": "8cfa9c1e",
   "metadata": {},
   "source": [
    "## func"
   ]
  },
  {
   "cell_type": "code",
   "execution_count": 6,
   "id": "7fb89d78",
   "metadata": {},
   "outputs": [],
   "source": [
    "def Path1(A,start): \n",
    "    N = len(A)\n",
    "    v0 = np.array([-1,1,-N,N])\n",
    "    #     v0 = np.array([-1,1,-N,N, -N-1, -N+1,N+1,N-1])\n",
    "    Dim = len(v0)\n",
    "    e = 2\n",
    "    A[start] = e\n",
    "    a = A.reshape(-1)\n",
    "    v = np.where(a == e)  \n",
    "\n",
    "    while len(v) > 0 :\n",
    "        v = np.tile(v, (Dim, 1)).T + v0\n",
    "        v = v[np.where(a[v]==0)]\n",
    "        v = np.unique(v)        \n",
    "        e+=1\n",
    "        a[v]=e\n",
    "    return a.reshape((N,N))\n",
    "\n",
    "def Path2(A,start,goal):\n",
    "    N = len(A)\n",
    "    v0 = np.array([-1,1,-N,N])\n",
    "    #     v0 = np.array([-1,1,-N,N, -N-1, -N+1,N+1,N-1])\n",
    "    Dim = len(v0)\n",
    "    e1,e2  = A[start] , A[goal]\n",
    "    a = A.reshape(-1)\n",
    "    v = goal[1] + goal[0]*N\n",
    "    L  = [goal]\n",
    "    while e2 > 2:\n",
    "        v = v + v0\n",
    "        v[v > len(a)] = len(a)-1\n",
    "        v = v[np.where((a[v] < e2) & (a[v] >= 2))]\n",
    "        idx = a[v].argmin()\n",
    "        v = v[idx]\n",
    "        e2 = a[v]\n",
    "        pos = (int(np.ceil(v/N)-1),  v%N)\n",
    "        L.insert(0,pos)\n",
    "    return L"
   ]
  },
  {
   "cell_type": "markdown",
   "id": "ffeb35bf",
   "metadata": {
    "heading_collapsed": true
   },
   "source": [
    "## Run"
   ]
  },
  {
   "cell_type": "code",
   "execution_count": 158,
   "id": "70449dab",
   "metadata": {
    "hidden": true
   },
   "outputs": [],
   "source": [
    "file = 'VALEO_full.tmj'\n",
    "algo = load_data_brut(file)\n",
    "with open(file, 'r') as f:\n",
    "      data = json.load(f)\n",
    "        \n"
   ]
  },
  {
   "cell_type": "code",
   "execution_count": 159,
   "id": "7c261c3f",
   "metadata": {
    "hidden": true
   },
   "outputs": [
    {
     "data": {
      "text/html": [
       "<div>\n",
       "<style scoped>\n",
       "    .dataframe tbody tr th:only-of-type {\n",
       "        vertical-align: middle;\n",
       "    }\n",
       "\n",
       "    .dataframe tbody tr th {\n",
       "        vertical-align: top;\n",
       "    }\n",
       "\n",
       "    .dataframe thead th {\n",
       "        text-align: right;\n",
       "    }\n",
       "</style>\n",
       "<table border=\"1\" class=\"dataframe\">\n",
       "  <thead>\n",
       "    <tr style=\"text-align: right;\">\n",
       "      <th></th>\n",
       "      <th>Class</th>\n",
       "      <th>polyline</th>\n",
       "      <th>properties</th>\n",
       "      <th>x</th>\n",
       "      <th>y</th>\n",
       "    </tr>\n",
       "  </thead>\n",
       "  <tbody>\n",
       "    <tr>\n",
       "      <th>0</th>\n",
       "      <td>E-P</td>\n",
       "      <td>[{'x': 8, 'y': 0}, {'x': 0, 'y': 0}]</td>\n",
       "      <td>[{'name': 'end', 'type': 'string', 'value': '0...</td>\n",
       "      <td>28</td>\n",
       "      <td>120</td>\n",
       "    </tr>\n",
       "    <tr>\n",
       "      <th>1</th>\n",
       "      <td>E-P</td>\n",
       "      <td>[{'x': 0, 'y': 72}, {'x': 0, 'y': 0}]</td>\n",
       "      <td>[{'name': 'end', 'type': 'string', 'value': '1...</td>\n",
       "      <td>40</td>\n",
       "      <td>44</td>\n",
       "    </tr>\n",
       "    <tr>\n",
       "      <th>2</th>\n",
       "      <td>E-P</td>\n",
       "      <td>[{'x': 24, 'y': 0}, {'x': 0, 'y': 0}]</td>\n",
       "      <td>[{'name': 'end', 'type': 'string', 'value': '1...</td>\n",
       "      <td>44</td>\n",
       "      <td>40</td>\n",
       "    </tr>\n",
       "    <tr>\n",
       "      <th>3</th>\n",
       "      <td>E-P</td>\n",
       "      <td>[{'x': 40, 'y': -72}, {'x': 40, 'y': -64}, {'x...</td>\n",
       "      <td>[{'name': 'end', 'type': 'string', 'value': '0...</td>\n",
       "      <td>28</td>\n",
       "      <td>116</td>\n",
       "    </tr>\n",
       "    <tr>\n",
       "      <th>4</th>\n",
       "      <td>C-E</td>\n",
       "      <td>[{'x': 0, 'y': -4}, {'x': 0, 'y': 8}, {'x': 16...</td>\n",
       "      <td>[{'name': 'end', 'type': 'string', 'value': '1...</td>\n",
       "      <td>56</td>\n",
       "      <td>16</td>\n",
       "    </tr>\n",
       "    <tr>\n",
       "      <th>5</th>\n",
       "      <td>C-E</td>\n",
       "      <td>[{'x': 0, 'y': 4}, {'x': -12, 'y': 4}, {'x': -...</td>\n",
       "      <td>[{'name': 'end', 'type': 'string', 'value': '0...</td>\n",
       "      <td>100</td>\n",
       "      <td>40</td>\n",
       "    </tr>\n",
       "    <tr>\n",
       "      <th>6</th>\n",
       "      <td>C-E</td>\n",
       "      <td>[{'x': -4, 'y': -8}, {'x': 4, 'y': -8}, {'x': ...</td>\n",
       "      <td>[{'name': 'end', 'type': 'string', 'value': '0...</td>\n",
       "      <td>16</td>\n",
       "      <td>48</td>\n",
       "    </tr>\n",
       "    <tr>\n",
       "      <th>7</th>\n",
       "      <td>C-E</td>\n",
       "      <td>[{'x': 4, 'y': 0}, {'x': -20, 'y': 0}]</td>\n",
       "      <td>[{'name': 'end', 'type': 'string', 'value': '1...</td>\n",
       "      <td>96</td>\n",
       "      <td>36</td>\n",
       "    </tr>\n",
       "    <tr>\n",
       "      <th>8</th>\n",
       "      <td>C-E</td>\n",
       "      <td>[{'x': 0, 'y': 0}, {'x': 0, 'y': 44}, {'x': 0,...</td>\n",
       "      <td>[{'name': 'end', 'type': 'string', 'value': '0...</td>\n",
       "      <td>52</td>\n",
       "      <td>12</td>\n",
       "    </tr>\n",
       "    <tr>\n",
       "      <th>9</th>\n",
       "      <td>C-E</td>\n",
       "      <td>[{'x': 0, 'y': 0}, {'x': 12, 'y': 0}, {'x': 12...</td>\n",
       "      <td>[{'name': 'end', 'type': 'string', 'value': '1...</td>\n",
       "      <td>12</td>\n",
       "      <td>36</td>\n",
       "    </tr>\n",
       "    <tr>\n",
       "      <th>10</th>\n",
       "      <td>C-E</td>\n",
       "      <td>[{'x': 0, 'y': 64}, {'x': 0, 'y': -28}, {'x': ...</td>\n",
       "      <td>[{'name': 'end', 'type': 'string', 'value': '1...</td>\n",
       "      <td>56</td>\n",
       "      <td>84</td>\n",
       "    </tr>\n",
       "    <tr>\n",
       "      <th>11</th>\n",
       "      <td>C-E</td>\n",
       "      <td>[{'x': -4, 'y': 56}, {'x': -4, 'y': 32}, {'x':...</td>\n",
       "      <td>[{'name': 'end', 'type': 'string', 'value': '0...</td>\n",
       "      <td>56</td>\n",
       "      <td>92</td>\n",
       "    </tr>\n",
       "    <tr>\n",
       "      <th>12</th>\n",
       "      <td>C-E</td>\n",
       "      <td>[{'x': -28, 'y': 72}, {'x': -28, 'y': 16}, {'x...</td>\n",
       "      <td>[{'name': 'end', 'type': 'string', 'value': '2...</td>\n",
       "      <td>88</td>\n",
       "      <td>76</td>\n",
       "    </tr>\n",
       "    <tr>\n",
       "      <th>13</th>\n",
       "      <td>C-E</td>\n",
       "      <td>[{'x': 4, 'y': 0}, {'x': -12, 'y': 0}, {'x': -...</td>\n",
       "      <td>[{'name': 'end', 'type': 'string', 'value': '2...</td>\n",
       "      <td>96</td>\n",
       "      <td>40</td>\n",
       "    </tr>\n",
       "    <tr>\n",
       "      <th>14</th>\n",
       "      <td>C-E</td>\n",
       "      <td>[{'x': -4, 'y': -40}, {'x': -4, 'y': 32}, {'x'...</td>\n",
       "      <td>[{'name': 'end', 'type': 'string', 'value': '2...</td>\n",
       "      <td>64</td>\n",
       "      <td>52</td>\n",
       "    </tr>\n",
       "    <tr>\n",
       "      <th>15</th>\n",
       "      <td>C-E</td>\n",
       "      <td>[{'x': -4, 'y': 0}, {'x': 8, 'y': 0}, {'x': 8,...</td>\n",
       "      <td>[{'name': 'end', 'type': 'string', 'value': '2...</td>\n",
       "      <td>16</td>\n",
       "      <td>44</td>\n",
       "    </tr>\n",
       "    <tr>\n",
       "      <th>16</th>\n",
       "      <td>E-P</td>\n",
       "      <td>[{'x': 24, 'y': 36}, {'x': 24, 'y': 28}, {'x':...</td>\n",
       "      <td>[{'name': 'end', 'type': 'string', 'value': '1...</td>\n",
       "      <td>48</td>\n",
       "      <td>48</td>\n",
       "    </tr>\n",
       "    <tr>\n",
       "      <th>17</th>\n",
       "      <td>E-P</td>\n",
       "      <td>[{'x': 36, 'y': -40}, {'x': 36, 'y': 0}, {'x':...</td>\n",
       "      <td>[{'name': 'end', 'type': 'string', 'value': '0...</td>\n",
       "      <td>36</td>\n",
       "      <td>132</td>\n",
       "    </tr>\n",
       "  </tbody>\n",
       "</table>\n",
       "</div>"
      ],
      "text/plain": [
       "   Class                                           polyline  \\\n",
       "0    E-P               [{'x': 8, 'y': 0}, {'x': 0, 'y': 0}]   \n",
       "1    E-P              [{'x': 0, 'y': 72}, {'x': 0, 'y': 0}]   \n",
       "2    E-P              [{'x': 24, 'y': 0}, {'x': 0, 'y': 0}]   \n",
       "3    E-P  [{'x': 40, 'y': -72}, {'x': 40, 'y': -64}, {'x...   \n",
       "4    C-E  [{'x': 0, 'y': -4}, {'x': 0, 'y': 8}, {'x': 16...   \n",
       "5    C-E  [{'x': 0, 'y': 4}, {'x': -12, 'y': 4}, {'x': -...   \n",
       "6    C-E  [{'x': -4, 'y': -8}, {'x': 4, 'y': -8}, {'x': ...   \n",
       "7    C-E             [{'x': 4, 'y': 0}, {'x': -20, 'y': 0}]   \n",
       "8    C-E  [{'x': 0, 'y': 0}, {'x': 0, 'y': 44}, {'x': 0,...   \n",
       "9    C-E  [{'x': 0, 'y': 0}, {'x': 12, 'y': 0}, {'x': 12...   \n",
       "10   C-E  [{'x': 0, 'y': 64}, {'x': 0, 'y': -28}, {'x': ...   \n",
       "11   C-E  [{'x': -4, 'y': 56}, {'x': -4, 'y': 32}, {'x':...   \n",
       "12   C-E  [{'x': -28, 'y': 72}, {'x': -28, 'y': 16}, {'x...   \n",
       "13   C-E  [{'x': 4, 'y': 0}, {'x': -12, 'y': 0}, {'x': -...   \n",
       "14   C-E  [{'x': -4, 'y': -40}, {'x': -4, 'y': 32}, {'x'...   \n",
       "15   C-E  [{'x': -4, 'y': 0}, {'x': 8, 'y': 0}, {'x': 8,...   \n",
       "16   E-P  [{'x': 24, 'y': 36}, {'x': 24, 'y': 28}, {'x':...   \n",
       "17   E-P  [{'x': 36, 'y': -40}, {'x': 36, 'y': 0}, {'x':...   \n",
       "\n",
       "                                           properties    x    y  \n",
       "0   [{'name': 'end', 'type': 'string', 'value': '0...   28  120  \n",
       "1   [{'name': 'end', 'type': 'string', 'value': '1...   40   44  \n",
       "2   [{'name': 'end', 'type': 'string', 'value': '1...   44   40  \n",
       "3   [{'name': 'end', 'type': 'string', 'value': '0...   28  116  \n",
       "4   [{'name': 'end', 'type': 'string', 'value': '1...   56   16  \n",
       "5   [{'name': 'end', 'type': 'string', 'value': '0...  100   40  \n",
       "6   [{'name': 'end', 'type': 'string', 'value': '0...   16   48  \n",
       "7   [{'name': 'end', 'type': 'string', 'value': '1...   96   36  \n",
       "8   [{'name': 'end', 'type': 'string', 'value': '0...   52   12  \n",
       "9   [{'name': 'end', 'type': 'string', 'value': '1...   12   36  \n",
       "10  [{'name': 'end', 'type': 'string', 'value': '1...   56   84  \n",
       "11  [{'name': 'end', 'type': 'string', 'value': '0...   56   92  \n",
       "12  [{'name': 'end', 'type': 'string', 'value': '2...   88   76  \n",
       "13  [{'name': 'end', 'type': 'string', 'value': '2...   96   40  \n",
       "14  [{'name': 'end', 'type': 'string', 'value': '2...   64   52  \n",
       "15  [{'name': 'end', 'type': 'string', 'value': '2...   16   44  \n",
       "16  [{'name': 'end', 'type': 'string', 'value': '1...   48   48  \n",
       "17  [{'name': 'end', 'type': 'string', 'value': '0...   36  132  "
      ]
     },
     "execution_count": 159,
     "metadata": {},
     "output_type": "execute_result"
    }
   ],
   "source": [
    "dfline  = pd.DataFrame(data['layers'][2]['objects']).drop(columns=['rotation','width','name','height','visible','id']).rename(columns = {'class' : 'Class'})        \n",
    "dfline"
   ]
  },
  {
   "cell_type": "code",
   "execution_count": 160,
   "id": "21be17ac",
   "metadata": {
    "hidden": true
   },
   "outputs": [
    {
     "data": {
      "text/html": [
       "<div>\n",
       "<style scoped>\n",
       "    .dataframe tbody tr th:only-of-type {\n",
       "        vertical-align: middle;\n",
       "    }\n",
       "\n",
       "    .dataframe tbody tr th {\n",
       "        vertical-align: top;\n",
       "    }\n",
       "\n",
       "    .dataframe thead th {\n",
       "        text-align: right;\n",
       "    }\n",
       "</style>\n",
       "<table border=\"1\" class=\"dataframe\">\n",
       "  <thead>\n",
       "    <tr style=\"text-align: right;\">\n",
       "      <th></th>\n",
       "      <th>Class</th>\n",
       "      <th>id</th>\n",
       "      <th>Name</th>\n",
       "      <th>x</th>\n",
       "      <th>y</th>\n",
       "      <th>ID</th>\n",
       "      <th>Color</th>\n",
       "    </tr>\n",
       "  </thead>\n",
       "  <tbody>\n",
       "    <tr>\n",
       "      <th>0</th>\n",
       "      <td>C</td>\n",
       "      <td>41</td>\n",
       "      <td>3</td>\n",
       "      <td>3</td>\n",
       "      <td>9</td>\n",
       "      <td>C3</td>\n",
       "      <td>10</td>\n",
       "    </tr>\n",
       "    <tr>\n",
       "      <th>1</th>\n",
       "      <td>C</td>\n",
       "      <td>38</td>\n",
       "      <td>2</td>\n",
       "      <td>6</td>\n",
       "      <td>2</td>\n",
       "      <td>C2</td>\n",
       "      <td>10</td>\n",
       "    </tr>\n",
       "    <tr>\n",
       "      <th>2</th>\n",
       "      <td>C</td>\n",
       "      <td>40</td>\n",
       "      <td>1</td>\n",
       "      <td>0</td>\n",
       "      <td>2</td>\n",
       "      <td>C1</td>\n",
       "      <td>10</td>\n",
       "    </tr>\n",
       "    <tr>\n",
       "      <th>3</th>\n",
       "      <td>C</td>\n",
       "      <td>39</td>\n",
       "      <td>0</td>\n",
       "      <td>3</td>\n",
       "      <td>0</td>\n",
       "      <td>C0</td>\n",
       "      <td>10</td>\n",
       "    </tr>\n",
       "    <tr>\n",
       "      <th>4</th>\n",
       "      <td>E</td>\n",
       "      <td>50</td>\n",
       "      <td>2</td>\n",
       "      <td>4</td>\n",
       "      <td>5</td>\n",
       "      <td>E2</td>\n",
       "      <td>20</td>\n",
       "    </tr>\n",
       "    <tr>\n",
       "      <th>5</th>\n",
       "      <td>E</td>\n",
       "      <td>42</td>\n",
       "      <td>1</td>\n",
       "      <td>4</td>\n",
       "      <td>2</td>\n",
       "      <td>E1</td>\n",
       "      <td>20</td>\n",
       "    </tr>\n",
       "    <tr>\n",
       "      <th>6</th>\n",
       "      <td>E</td>\n",
       "      <td>43</td>\n",
       "      <td>0</td>\n",
       "      <td>2</td>\n",
       "      <td>7</td>\n",
       "      <td>E0</td>\n",
       "      <td>20</td>\n",
       "    </tr>\n",
       "    <tr>\n",
       "      <th>7</th>\n",
       "      <td>P</td>\n",
       "      <td>44</td>\n",
       "      <td>1</td>\n",
       "      <td>2</td>\n",
       "      <td>2</td>\n",
       "      <td>P1</td>\n",
       "      <td>30</td>\n",
       "    </tr>\n",
       "    <tr>\n",
       "      <th>8</th>\n",
       "      <td>P</td>\n",
       "      <td>45</td>\n",
       "      <td>0</td>\n",
       "      <td>1</td>\n",
       "      <td>7</td>\n",
       "      <td>P0</td>\n",
       "      <td>30</td>\n",
       "    </tr>\n",
       "  </tbody>\n",
       "</table>\n",
       "</div>"
      ],
      "text/plain": [
       "  Class  id  Name  x  y  ID  Color\n",
       "0     C  41     3  3  9  C3     10\n",
       "1     C  38     2  6  2  C2     10\n",
       "2     C  40     1  0  2  C1     10\n",
       "3     C  39     0  3  0  C0     10\n",
       "4     E  50     2  4  5  E2     20\n",
       "5     E  42     1  4  2  E1     20\n",
       "6     E  43     0  2  7  E0     20\n",
       "7     P  44     1  2  2  P1     30\n",
       "8     P  45     0  1  7  P0     30"
      ]
     },
     "execution_count": 160,
     "metadata": {},
     "output_type": "execute_result"
    }
   ],
   "source": [
    "dfslot = algo.dfslot\n",
    "dfslot"
   ]
  },
  {
   "cell_type": "code",
   "execution_count": 161,
   "id": "0e92c035",
   "metadata": {
    "hidden": true
   },
   "outputs": [
    {
     "data": {
      "text/plain": [
       "{'C3': (9, 3),\n",
       " 'C2': (2, 6),\n",
       " 'C1': (2, 0),\n",
       " 'C0': (0, 3),\n",
       " 'E2': (5, 4),\n",
       " 'E1': (2, 4),\n",
       " 'E0': (7, 2),\n",
       " 'P1': (2, 2),\n",
       " 'P0': (7, 1)}"
      ]
     },
     "execution_count": 161,
     "metadata": {},
     "output_type": "execute_result"
    }
   ],
   "source": [
    "DictPos = {}\n",
    "for idx , row in dfslot.iterrows():\n",
    "    x = row.x\n",
    "    y = row.y \n",
    "    ID = row.ID\n",
    "    Class = row.Class\n",
    "    DictPos[ID] = (y,x)\n",
    "DictPos      "
   ]
  },
  {
   "cell_type": "code",
   "execution_count": 162,
   "id": "133e4f08",
   "metadata": {
    "hidden": true
   },
   "outputs": [],
   "source": [
    "A0 = algo.A0.copy()+1\n",
    "A0[A0 == 2] = 0\n",
    "for idx, row in algo.dfslot.iterrows():   \n",
    "    A0[row.y, row.x] = row.Color+5\n",
    "Ax = np.ones((10,10))\n",
    "Ax[:A0.shape[0],:A0.shape[1]] = A0"
   ]
  },
  {
   "cell_type": "code",
   "execution_count": 163,
   "id": "cd22b4ee",
   "metadata": {
    "hidden": true
   },
   "outputs": [
    {
     "data": {
      "text/plain": [
       "<matplotlib.image.AxesImage at 0x1dbc04610d0>"
      ]
     },
     "execution_count": 163,
     "metadata": {},
     "output_type": "execute_result"
    },
    {
     "data": {
      "image/png": "[encoded data removed]",
      "text/plain": [
       "<Figure size 640x480 with 1 Axes>"
      ]
     },
     "metadata": {},
     "output_type": "display_data"
    }
   ],
   "source": [
    "plt.imshow(Ax)"
   ]
  },
  {
   "cell_type": "code",
   "execution_count": 164,
   "id": "79eadf62",
   "metadata": {
    "hidden": true
   },
   "outputs": [
    {
     "data": {
      "text/plain": [
       "[0, 1, 2, 3, 0, 1]"
      ]
     },
     "execution_count": 164,
     "metadata": {},
     "output_type": "execute_result"
    }
   ],
   "source": [
    "Comb = dfslot.groupby('Class').Name.unique().apply(list).apply(sorted).to_dict()\n",
    "Comb['C'] + Comb['P']"
   ]
  },
  {
   "cell_type": "code",
   "execution_count": 165,
   "id": "8c00c5e3",
   "metadata": {
    "hidden": true
   },
   "outputs": [
    {
     "name": "stdout",
     "output_type": "stream",
     "text": [
      "CPU times: total: 15.6 ms\n",
      "Wall time: 4.96 ms\n"
     ]
    }
   ],
   "source": [
    "%%time\n",
    "e = 'E0'\n",
    "Path = []\n",
    "# fig, ax = plt.subplots(figsize = (4,4))\n",
    "# f = ax.imshow(Ax)\n",
    "d = {} \n",
    "for begin in ['E0','E1','E2']:\n",
    "    start = DictPos[begin]\n",
    "    A = Ax.copy()\n",
    "    A1 = Path1(A,start)\n",
    "    for end in ['C0','C1','C2','C3','P0','P1']: \n",
    "\n",
    "        goal = DictPos[end]\n",
    "         \n",
    "        \n",
    "        L = Path2(A1.copy() ,start,  goal)\n",
    "        L = np.array(L)\n",
    "        Path.append(L)\n",
    "\n",
    "        dist = np.abs(np.diff(L.T)).sum()\n",
    "        \n",
    "        if end[0] == 'C' :            ID = begin + '-' + end\n",
    "        else : ID = end + '-' + begin\n",
    "#         print(begin,start, end , goal)\n",
    "        d[ID] = dist\n"
   ]
  },
  {
   "cell_type": "code",
   "execution_count": 166,
   "id": "d7c34485",
   "metadata": {
    "hidden": true
   },
   "outputs": [
    {
     "data": {
      "text/plain": [
       "18"
      ]
     },
     "execution_count": 166,
     "metadata": {},
     "output_type": "execute_result"
    },
    {
     "data": {
      "image/png": "[encoded data removed]",
      "text/plain": [
       "<Figure size 800x800 with 1 Axes>"
      ]
     },
     "metadata": {},
     "output_type": "display_data"
    }
   ],
   "source": [
    "len(Path)\n",
    "fig, ax = plt.subplots(figsize = (8,8))\n",
    "masked = np.ma.masked_where(A0 <= 1, A0)\n",
    "# f = ax.imshow(A0)\n",
    "offset = np.linspace(-0.3,0.3,18)\n",
    "for i, p in enumerate(Path):\n",
    "        n = offset[i]\n",
    "#         n = 0\n",
    "        \n",
    "        f = ax.plot(p[:,1]+n,p[:,0]+n,'w', linewidth=1)\n",
    "f = ax.imshow(masked,alpha=1,cmap = 'Reds')\n",
    "f = ax.imshow(A0)"
   ]
  },
  {
   "cell_type": "code",
   "execution_count": 167,
   "id": "c48a6e3f",
   "metadata": {
    "hidden": true
   },
   "outputs": [
    {
     "data": {
      "text/plain": [
       "{'E0-C0': 8,\n",
       " 'E0-C1': 7,\n",
       " 'E0-C2': 9,\n",
       " 'E0-C3': 3,\n",
       " 'P0-E0': 1,\n",
       " 'P1-E0': 5,\n",
       " 'E1-C0': 3,\n",
       " 'E1-C1': 6,\n",
       " 'E1-C2': 2,\n",
       " 'E1-C3': 8,\n",
       " 'P0-E1': 8,\n",
       " 'P1-E1': 2,\n",
       " 'E2-C0': 6,\n",
       " 'E2-C1': 7,\n",
       " 'E2-C2': 5,\n",
       " 'E2-C3': 5,\n",
       " 'P0-E2': 5,\n",
       " 'P1-E2': 5}"
      ]
     },
     "execution_count": 167,
     "metadata": {},
     "output_type": "execute_result"
    }
   ],
   "source": [
    "d"
   ]
  },
  {
   "cell_type": "code",
   "execution_count": 168,
   "id": "4aba188d",
   "metadata": {
    "hidden": true
   },
   "outputs": [],
   "source": [
    "Save = [DictPos, d]"
   ]
  },
  {
   "cell_type": "code",
   "execution_count": 169,
   "id": "c03e7bdb",
   "metadata": {
    "hidden": true
   },
   "outputs": [
    {
     "data": {
      "text/html": [
       "<div>\n",
       "<style scoped>\n",
       "    .dataframe tbody tr th:only-of-type {\n",
       "        vertical-align: middle;\n",
       "    }\n",
       "\n",
       "    .dataframe tbody tr th {\n",
       "        vertical-align: top;\n",
       "    }\n",
       "\n",
       "    .dataframe thead th {\n",
       "        text-align: right;\n",
       "    }\n",
       "</style>\n",
       "<table border=\"1\" class=\"dataframe\">\n",
       "  <thead>\n",
       "    <tr style=\"text-align: right;\">\n",
       "      <th></th>\n",
       "      <th>dist</th>\n",
       "      <th>distPF</th>\n",
       "    </tr>\n",
       "  </thead>\n",
       "  <tbody>\n",
       "    <tr>\n",
       "      <th>dist</th>\n",
       "      <td>1.000000</td>\n",
       "      <td>0.981503</td>\n",
       "    </tr>\n",
       "    <tr>\n",
       "      <th>distPF</th>\n",
       "      <td>0.981503</td>\n",
       "      <td>1.000000</td>\n",
       "    </tr>\n",
       "  </tbody>\n",
       "</table>\n",
       "</div>"
      ],
      "text/plain": [
       "            dist    distPF\n",
       "dist    1.000000  0.981503\n",
       "distPF  0.981503  1.000000"
      ]
     },
     "execution_count": 169,
     "metadata": {},
     "output_type": "execute_result"
    },
    {
     "data": {
      "text/html": [
       "<div>\n",
       "<style scoped>\n",
       "    .dataframe tbody tr th:only-of-type {\n",
       "        vertical-align: middle;\n",
       "    }\n",
       "\n",
       "    .dataframe tbody tr th {\n",
       "        vertical-align: top;\n",
       "    }\n",
       "\n",
       "    .dataframe thead th {\n",
       "        text-align: right;\n",
       "    }\n",
       "</style>\n",
       "<table border=\"1\" class=\"dataframe\">\n",
       "  <thead>\n",
       "    <tr style=\"text-align: right;\">\n",
       "      <th></th>\n",
       "      <th>Class</th>\n",
       "      <th>polyline</th>\n",
       "      <th>end</th>\n",
       "      <th>long</th>\n",
       "      <th>start</th>\n",
       "      <th>dist</th>\n",
       "      <th>ID</th>\n",
       "      <th>distPF</th>\n",
       "      <th>distRatio</th>\n",
       "    </tr>\n",
       "  </thead>\n",
       "  <tbody>\n",
       "    <tr>\n",
       "      <th>0</th>\n",
       "      <td>C-E</td>\n",
       "      <td>[[52, 12], [52, 56], [52, 116], [44, 116]]</td>\n",
       "      <td>0</td>\n",
       "      <td>4.0</td>\n",
       "      <td>0</td>\n",
       "      <td>2.24</td>\n",
       "      <td>E0-C0</td>\n",
       "      <td>7.5</td>\n",
       "      <td>3.3</td>\n",
       "    </tr>\n",
       "    <tr>\n",
       "      <th>1</th>\n",
       "      <td>C-E</td>\n",
       "      <td>[[12, 40], [20, 40], [20, 104], [36, 104], [36...</td>\n",
       "      <td>0</td>\n",
       "      <td>3.0</td>\n",
       "      <td>1</td>\n",
       "      <td>2.00</td>\n",
       "      <td>E0-C1</td>\n",
       "      <td>6.5</td>\n",
       "      <td>3.2</td>\n",
       "    </tr>\n",
       "    <tr>\n",
       "      <th>2</th>\n",
       "      <td>C-E</td>\n",
       "      <td>[[100, 44], [88, 44], [88, 120], [44, 120]]</td>\n",
       "      <td>0</td>\n",
       "      <td>3.0</td>\n",
       "      <td>2</td>\n",
       "      <td>2.64</td>\n",
       "      <td>E0-C2</td>\n",
       "      <td>8.5</td>\n",
       "      <td>3.2</td>\n",
       "    </tr>\n",
       "    <tr>\n",
       "      <th>3</th>\n",
       "      <td>C-E</td>\n",
       "      <td>[[52, 148], [52, 124], [44, 124]]</td>\n",
       "      <td>0</td>\n",
       "      <td>2.0</td>\n",
       "      <td>3</td>\n",
       "      <td>0.64</td>\n",
       "      <td>E0-C3</td>\n",
       "      <td>2.5</td>\n",
       "      <td>3.9</td>\n",
       "    </tr>\n",
       "    <tr>\n",
       "      <th>4</th>\n",
       "      <td>C-E</td>\n",
       "      <td>[[56, 12], [56, 24], [72, 24], [72, 36]]</td>\n",
       "      <td>1</td>\n",
       "      <td>1.0</td>\n",
       "      <td>0</td>\n",
       "      <td>0.80</td>\n",
       "      <td>E1-C0</td>\n",
       "      <td>2.5</td>\n",
       "      <td>3.1</td>\n",
       "    </tr>\n",
       "    <tr>\n",
       "      <th>5</th>\n",
       "      <td>C-E</td>\n",
       "      <td>[[12, 36], [24, 36], [24, 28], [68, 28], [68, ...</td>\n",
       "      <td>1</td>\n",
       "      <td>2.0</td>\n",
       "      <td>1</td>\n",
       "      <td>1.44</td>\n",
       "      <td>E1-C1</td>\n",
       "      <td>5.5</td>\n",
       "      <td>3.8</td>\n",
       "    </tr>\n",
       "    <tr>\n",
       "      <th>6</th>\n",
       "      <td>C-E</td>\n",
       "      <td>[[100, 36], [76, 36]]</td>\n",
       "      <td>1</td>\n",
       "      <td>1.0</td>\n",
       "      <td>2</td>\n",
       "      <td>0.48</td>\n",
       "      <td>E1-C2</td>\n",
       "      <td>1.5</td>\n",
       "      <td>3.1</td>\n",
       "    </tr>\n",
       "    <tr>\n",
       "      <th>7</th>\n",
       "      <td>C-E</td>\n",
       "      <td>[[56, 148], [56, 56], [72, 56], [72, 44]]</td>\n",
       "      <td>1</td>\n",
       "      <td>2.0</td>\n",
       "      <td>3</td>\n",
       "      <td>2.40</td>\n",
       "      <td>E1-C3</td>\n",
       "      <td>7.5</td>\n",
       "      <td>3.1</td>\n",
       "    </tr>\n",
       "    <tr>\n",
       "      <th>8</th>\n",
       "      <td>C-E</td>\n",
       "      <td>[[60, 12], [60, 84], [68, 84]]</td>\n",
       "      <td>2</td>\n",
       "      <td>0.0</td>\n",
       "      <td>0</td>\n",
       "      <td>1.60</td>\n",
       "      <td>E2-C0</td>\n",
       "      <td>5.5</td>\n",
       "      <td>3.4</td>\n",
       "    </tr>\n",
       "    <tr>\n",
       "      <th>9</th>\n",
       "      <td>C-E</td>\n",
       "      <td>[[12, 44], [24, 44], [24, 88], [68, 88]]</td>\n",
       "      <td>2</td>\n",
       "      <td>3.0</td>\n",
       "      <td>1</td>\n",
       "      <td>2.00</td>\n",
       "      <td>E2-C1</td>\n",
       "      <td>6.5</td>\n",
       "      <td>3.2</td>\n",
       "    </tr>\n",
       "    <tr>\n",
       "      <th>10</th>\n",
       "      <td>C-E</td>\n",
       "      <td>[[100, 40], [84, 40], [84, 84], [76, 84]]</td>\n",
       "      <td>2</td>\n",
       "      <td>0.0</td>\n",
       "      <td>2</td>\n",
       "      <td>1.36</td>\n",
       "      <td>E2-C2</td>\n",
       "      <td>4.5</td>\n",
       "      <td>3.3</td>\n",
       "    </tr>\n",
       "    <tr>\n",
       "      <th>11</th>\n",
       "      <td>C-E</td>\n",
       "      <td>[[60, 148], [60, 92], [68, 92]]</td>\n",
       "      <td>2</td>\n",
       "      <td>0.0</td>\n",
       "      <td>3</td>\n",
       "      <td>1.28</td>\n",
       "      <td>E2-C3</td>\n",
       "      <td>4.5</td>\n",
       "      <td>3.5</td>\n",
       "    </tr>\n",
       "    <tr>\n",
       "      <th>12</th>\n",
       "      <td>E-P</td>\n",
       "      <td>[[36, 120], [28, 120]]</td>\n",
       "      <td>0</td>\n",
       "      <td>1.0</td>\n",
       "      <td>0</td>\n",
       "      <td>0.16</td>\n",
       "      <td>P0-E0</td>\n",
       "      <td>0.5</td>\n",
       "      <td>3.1</td>\n",
       "    </tr>\n",
       "    <tr>\n",
       "      <th>13</th>\n",
       "      <td>E-P</td>\n",
       "      <td>[[68, 44], [68, 52], [28, 52], [28, 116]]</td>\n",
       "      <td>0</td>\n",
       "      <td>3.0</td>\n",
       "      <td>1</td>\n",
       "      <td>2.24</td>\n",
       "      <td>P0-E1</td>\n",
       "      <td>7.5</td>\n",
       "      <td>3.3</td>\n",
       "    </tr>\n",
       "    <tr>\n",
       "      <th>14</th>\n",
       "      <td>E-P</td>\n",
       "      <td>[[72, 92], [72, 132], [28, 132], [28, 124]]</td>\n",
       "      <td>0</td>\n",
       "      <td>1.0</td>\n",
       "      <td>2</td>\n",
       "      <td>1.84</td>\n",
       "      <td>P0-E2</td>\n",
       "      <td>4.5</td>\n",
       "      <td>2.4</td>\n",
       "    </tr>\n",
       "    <tr>\n",
       "      <th>15</th>\n",
       "      <td>E-P</td>\n",
       "      <td>[[40, 116], [40, 44]]</td>\n",
       "      <td>1</td>\n",
       "      <td>2.0</td>\n",
       "      <td>0</td>\n",
       "      <td>1.44</td>\n",
       "      <td>P1-E0</td>\n",
       "      <td>4.5</td>\n",
       "      <td>3.1</td>\n",
       "    </tr>\n",
       "    <tr>\n",
       "      <th>16</th>\n",
       "      <td>E-P</td>\n",
       "      <td>[[68, 40], [44, 40]]</td>\n",
       "      <td>1</td>\n",
       "      <td>1.0</td>\n",
       "      <td>1</td>\n",
       "      <td>0.48</td>\n",
       "      <td>P1-E1</td>\n",
       "      <td>1.5</td>\n",
       "      <td>3.1</td>\n",
       "    </tr>\n",
       "    <tr>\n",
       "      <th>17</th>\n",
       "      <td>E-P</td>\n",
       "      <td>[[72, 84], [72, 76], [44, 76], [44, 44]]</td>\n",
       "      <td>1</td>\n",
       "      <td>1.0</td>\n",
       "      <td>2</td>\n",
       "      <td>1.36</td>\n",
       "      <td>P1-E2</td>\n",
       "      <td>4.5</td>\n",
       "      <td>3.3</td>\n",
       "    </tr>\n",
       "  </tbody>\n",
       "</table>\n",
       "</div>"
      ],
      "text/plain": [
       "   Class                                           polyline  end  long  start  \\\n",
       "0    C-E         [[52, 12], [52, 56], [52, 116], [44, 116]]    0   4.0      0   \n",
       "1    C-E  [[12, 40], [20, 40], [20, 104], [36, 104], [36...    0   3.0      1   \n",
       "2    C-E        [[100, 44], [88, 44], [88, 120], [44, 120]]    0   3.0      2   \n",
       "3    C-E                  [[52, 148], [52, 124], [44, 124]]    0   2.0      3   \n",
       "4    C-E           [[56, 12], [56, 24], [72, 24], [72, 36]]    1   1.0      0   \n",
       "5    C-E  [[12, 36], [24, 36], [24, 28], [68, 28], [68, ...    1   2.0      1   \n",
       "6    C-E                              [[100, 36], [76, 36]]    1   1.0      2   \n",
       "7    C-E          [[56, 148], [56, 56], [72, 56], [72, 44]]    1   2.0      3   \n",
       "8    C-E                     [[60, 12], [60, 84], [68, 84]]    2   0.0      0   \n",
       "9    C-E           [[12, 44], [24, 44], [24, 88], [68, 88]]    2   3.0      1   \n",
       "10   C-E          [[100, 40], [84, 40], [84, 84], [76, 84]]    2   0.0      2   \n",
       "11   C-E                    [[60, 148], [60, 92], [68, 92]]    2   0.0      3   \n",
       "12   E-P                             [[36, 120], [28, 120]]    0   1.0      0   \n",
       "13   E-P          [[68, 44], [68, 52], [28, 52], [28, 116]]    0   3.0      1   \n",
       "14   E-P        [[72, 92], [72, 132], [28, 132], [28, 124]]    0   1.0      2   \n",
       "15   E-P                              [[40, 116], [40, 44]]    1   2.0      0   \n",
       "16   E-P                               [[68, 40], [44, 40]]    1   1.0      1   \n",
       "17   E-P           [[72, 84], [72, 76], [44, 76], [44, 44]]    1   1.0      2   \n",
       "\n",
       "    dist     ID  distPF  distRatio  \n",
       "0   2.24  E0-C0     7.5        3.3  \n",
       "1   2.00  E0-C1     6.5        3.2  \n",
       "2   2.64  E0-C2     8.5        3.2  \n",
       "3   0.64  E0-C3     2.5        3.9  \n",
       "4   0.80  E1-C0     2.5        3.1  \n",
       "5   1.44  E1-C1     5.5        3.8  \n",
       "6   0.48  E1-C2     1.5        3.1  \n",
       "7   2.40  E1-C3     7.5        3.1  \n",
       "8   1.60  E2-C0     5.5        3.4  \n",
       "9   2.00  E2-C1     6.5        3.2  \n",
       "10  1.36  E2-C2     4.5        3.3  \n",
       "11  1.28  E2-C3     4.5        3.5  \n",
       "12  0.16  P0-E0     0.5        3.1  \n",
       "13  2.24  P0-E1     7.5        3.3  \n",
       "14  1.84  P0-E2     4.5        2.4  \n",
       "15  1.44  P1-E0     4.5        3.1  \n",
       "16  0.48  P1-E1     1.5        3.1  \n",
       "17  1.36  P1-E2     4.5        3.3  "
      ]
     },
     "execution_count": 169,
     "metadata": {},
     "output_type": "execute_result"
    }
   ],
   "source": [
    "dfline = algo.dfline.copy()\n",
    "dfline['distPF'] = dfline.ID.map(d)-0.5\n",
    "dfline['distRatio'] = (dfline.distPF / dfline.dist).round(1)\n",
    "dfline[['dist','distPF']].corr()\n",
    "dfline"
   ]
  },
  {
   "cell_type": "markdown",
   "id": "e0d4c9d6",
   "metadata": {},
   "source": [
    "## avec load excel map "
   ]
  },
  {
   "cell_type": "code",
   "execution_count": 89,
   "id": "3374a245",
   "metadata": {},
   "outputs": [],
   "source": [
    "import matplotlib.patches as mpatch"
   ]
  },
  {
   "cell_type": "code",
   "execution_count": 204,
   "id": "03989505",
   "metadata": {},
   "outputs": [
    {
     "data": {
      "text/html": [
       "<div>\n",
       "<style scoped>\n",
       "    .dataframe tbody tr th:only-of-type {\n",
       "        vertical-align: middle;\n",
       "    }\n",
       "\n",
       "    .dataframe tbody tr th {\n",
       "        vertical-align: top;\n",
       "    }\n",
       "\n",
       "    .dataframe thead th {\n",
       "        text-align: right;\n",
       "    }\n",
       "</style>\n",
       "<table border=\"1\" class=\"dataframe\">\n",
       "  <thead>\n",
       "    <tr style=\"text-align: right;\">\n",
       "      <th></th>\n",
       "      <th>0</th>\n",
       "      <th>1</th>\n",
       "      <th>2</th>\n",
       "      <th>3</th>\n",
       "      <th>4</th>\n",
       "      <th>5</th>\n",
       "      <th>6</th>\n",
       "    </tr>\n",
       "  </thead>\n",
       "  <tbody>\n",
       "    <tr>\n",
       "      <th>0</th>\n",
       "      <td>1</td>\n",
       "      <td>1</td>\n",
       "      <td>1</td>\n",
       "      <td>C0</td>\n",
       "      <td>1</td>\n",
       "      <td>1</td>\n",
       "      <td>1</td>\n",
       "    </tr>\n",
       "    <tr>\n",
       "      <th>1</th>\n",
       "      <td>1</td>\n",
       "      <td>0</td>\n",
       "      <td>0</td>\n",
       "      <td>0</td>\n",
       "      <td>0</td>\n",
       "      <td>0</td>\n",
       "      <td>1</td>\n",
       "    </tr>\n",
       "    <tr>\n",
       "      <th>2</th>\n",
       "      <td>C1</td>\n",
       "      <td>0</td>\n",
       "      <td>P1</td>\n",
       "      <td>0</td>\n",
       "      <td>E1</td>\n",
       "      <td>0</td>\n",
       "      <td>C2</td>\n",
       "    </tr>\n",
       "    <tr>\n",
       "      <th>3</th>\n",
       "      <td>1</td>\n",
       "      <td>0</td>\n",
       "      <td>0</td>\n",
       "      <td>0</td>\n",
       "      <td>0</td>\n",
       "      <td>0</td>\n",
       "      <td>1</td>\n",
       "    </tr>\n",
       "    <tr>\n",
       "      <th>4</th>\n",
       "      <td>1</td>\n",
       "      <td>0</td>\n",
       "      <td>P2</td>\n",
       "      <td>0</td>\n",
       "      <td>0</td>\n",
       "      <td>0</td>\n",
       "      <td>1</td>\n",
       "    </tr>\n",
       "    <tr>\n",
       "      <th>5</th>\n",
       "      <td>1</td>\n",
       "      <td>0</td>\n",
       "      <td>0</td>\n",
       "      <td>0</td>\n",
       "      <td>E2</td>\n",
       "      <td>0</td>\n",
       "      <td>1</td>\n",
       "    </tr>\n",
       "    <tr>\n",
       "      <th>6</th>\n",
       "      <td>1</td>\n",
       "      <td>0</td>\n",
       "      <td>0</td>\n",
       "      <td>0</td>\n",
       "      <td>0</td>\n",
       "      <td>0</td>\n",
       "      <td>1</td>\n",
       "    </tr>\n",
       "    <tr>\n",
       "      <th>7</th>\n",
       "      <td>1</td>\n",
       "      <td>P0</td>\n",
       "      <td>E0</td>\n",
       "      <td>0</td>\n",
       "      <td>E4</td>\n",
       "      <td>0</td>\n",
       "      <td>1</td>\n",
       "    </tr>\n",
       "    <tr>\n",
       "      <th>8</th>\n",
       "      <td>1</td>\n",
       "      <td>0</td>\n",
       "      <td>0</td>\n",
       "      <td>0</td>\n",
       "      <td>0</td>\n",
       "      <td>0</td>\n",
       "      <td>1</td>\n",
       "    </tr>\n",
       "    <tr>\n",
       "      <th>9</th>\n",
       "      <td>1</td>\n",
       "      <td>1</td>\n",
       "      <td>1</td>\n",
       "      <td>C3</td>\n",
       "      <td>1</td>\n",
       "      <td>1</td>\n",
       "      <td>1</td>\n",
       "    </tr>\n",
       "  </tbody>\n",
       "</table>\n",
       "</div>"
      ],
      "text/plain": [
       "    0   1   2   3   4  5   6\n",
       "0   1   1   1  C0   1  1   1\n",
       "1   1   0   0   0   0  0   1\n",
       "2  C1   0  P1   0  E1  0  C2\n",
       "3   1   0   0   0   0  0   1\n",
       "4   1   0  P2   0   0  0   1\n",
       "5   1   0   0   0  E2  0   1\n",
       "6   1   0   0   0   0  0   1\n",
       "7   1  P0  E0   0  E4  0   1\n",
       "8   1   0   0   0   0  0   1\n",
       "9   1   1   1  C3   1  1   1"
      ]
     },
     "execution_count": 204,
     "metadata": {},
     "output_type": "execute_result"
    }
   ],
   "source": [
    "dfmap = pd.read_excel('test.xlsx', sheet_name= 'map (2)', header=None)\n",
    "dfmap"
   ]
  },
  {
   "cell_type": "code",
   "execution_count": 205,
   "id": "b803f723",
   "metadata": {},
   "outputs": [
    {
     "data": {
      "text/plain": [
       "defaultdict(list, {'C': [0, 1, 2, 3], 'P': [1, 2, 0], 'E': [1, 2, 0, 4]})"
      ]
     },
     "execution_count": 205,
     "metadata": {},
     "output_type": "execute_result"
    },
    {
     "data": {
      "text/plain": [
       "{'C0': (0, 3),\n",
       " 'C1': (2, 0),\n",
       " 'P1': (2, 2),\n",
       " 'E1': (2, 4),\n",
       " 'C2': (2, 6),\n",
       " 'P2': (4, 2),\n",
       " 'E2': (5, 4),\n",
       " 'P0': (7, 1),\n",
       " 'E0': (7, 2),\n",
       " 'E4': (7, 4),\n",
       " 'C3': (9, 3)}"
      ]
     },
     "execution_count": 205,
     "metadata": {},
     "output_type": "execute_result"
    },
    {
     "data": {
      "text/plain": [
       "(['E0', 'E1', 'E2', 'E4'], ['C0', 'C1', 'C2', 'C3', 'P0', 'P1', 'P2'])"
      ]
     },
     "execution_count": 205,
     "metadata": {},
     "output_type": "execute_result"
    }
   ],
   "source": [
    "SlotColor = {'C' : 10, 'E': 20, 'P' : 30}\n",
    "A0 = dfmap.values\n",
    "Size = max(A0.shape)\n",
    "Comb = collections.defaultdict(list)\n",
    "DictPos = {}\n",
    "slots = ['C','P','E']\n",
    "ListBegin = []\n",
    "ListEnd = []\n",
    "for iy, ix in np.ndindex(A0.shape):\n",
    "    v = A0[iy, ix]\n",
    "    if type(v) == str: \n",
    "        slot = v[0]\n",
    "        A0[iy,ix] = SlotColor[slot]*20\n",
    "        Comb[v[0]].append(int(v[1:]))\n",
    "        DictPos[v] = (iy,ix)   \n",
    "        if slot == \"E\" : ListBegin.append(v)\n",
    "        else : ListEnd.append(v)\n",
    "        \n",
    "A0 = A0.astype(float)      \n",
    "Comb\n",
    "Ax = np.ones((Size,Size))\n",
    "Ax[:A0.shape[0],:A0.shape[1]] = A0\n",
    "DictPos\n",
    "ListBegin, ListEnd = sorted(ListBegin), sorted(ListEnd)\n",
    "ListBegin, ListEnd \n"
   ]
  },
  {
   "cell_type": "code",
   "execution_count": 206,
   "id": "0d94add1",
   "metadata": {},
   "outputs": [
    {
     "data": {
      "text/plain": [
       "<matplotlib.colorbar.Colorbar at 0x288243aa9a0>"
      ]
     },
     "execution_count": 206,
     "metadata": {},
     "output_type": "execute_result"
    },
    {
     "data": {
      "image/png": "[encoded data removed]",
      "text/plain": [
       "<Figure size 640x480 with 2 Axes>"
      ]
     },
     "metadata": {},
     "output_type": "display_data"
    }
   ],
   "source": [
    "fig, ax = plt.subplots()\n",
    "# im = ax.imshow(Aplot, cmap=plt.get_cmap('Accent'))\n",
    "im = ax.imshow(A0)\n",
    "fig.colorbar(im)"
   ]
  },
  {
   "cell_type": "code",
   "execution_count": 207,
   "id": "e3796bc7",
   "metadata": {},
   "outputs": [
    {
     "name": "stdout",
     "output_type": "stream",
     "text": [
      "CPU times: total: 15.6 ms\n",
      "Wall time: 7 ms\n"
     ]
    }
   ],
   "source": [
    "%%time\n",
    "# e = 'E0'\n",
    "Path = {}\n",
    "d = {} \n",
    "DictLine = {}\n",
    "\n",
    "for begin in ListBegin:\n",
    "    start = DictPos[begin]\n",
    "    A = Ax.copy()\n",
    "    A1 = Path1(A,start)\n",
    "    for end in ListEnd: \n",
    "        goal = DictPos[end]        \n",
    "        path = Path2(A1.copy() ,start,  goal)\n",
    "        path = np.array(path)       \n",
    "        dist = np.abs(np.diff(path.T)).sum()\n",
    "        \n",
    "        if end[0] == 'C' : ID = begin + '-' + end\n",
    "        else : ID = end + '-' + begin\n",
    "        #print(begin,start, end , goal)\n",
    "#         Path.append(L)\n",
    "        DictLine[ID] = {'path' : path, 'dist' : dist}\n",
    "#         d[ID] = dist"
   ]
  },
  {
   "cell_type": "code",
   "execution_count": 164,
   "id": "eb18ac0d",
   "metadata": {
    "collapsed": true
   },
   "outputs": [
    {
     "data": {
      "text/html": [
       "<div>\n",
       "<style scoped>\n",
       "    .dataframe tbody tr th:only-of-type {\n",
       "        vertical-align: middle;\n",
       "    }\n",
       "\n",
       "    .dataframe tbody tr th {\n",
       "        vertical-align: top;\n",
       "    }\n",
       "\n",
       "    .dataframe thead th {\n",
       "        text-align: right;\n",
       "    }\n",
       "</style>\n",
       "<table border=\"1\" class=\"dataframe\">\n",
       "  <thead>\n",
       "    <tr style=\"text-align: right;\">\n",
       "      <th></th>\n",
       "      <th>path</th>\n",
       "      <th>dist</th>\n",
       "    </tr>\n",
       "  </thead>\n",
       "  <tbody>\n",
       "    <tr>\n",
       "      <th>E0-C0</th>\n",
       "      <td>[[7, 2], [6, 2], [5, 2], [4, 2], [3, 2], [3, 3...</td>\n",
       "      <td>8</td>\n",
       "    </tr>\n",
       "    <tr>\n",
       "      <th>E0-C1</th>\n",
       "      <td>[[7, 2], [6, 2], [5, 2], [4, 2], [3, 2], [3, 1...</td>\n",
       "      <td>7</td>\n",
       "    </tr>\n",
       "    <tr>\n",
       "      <th>E0-C2</th>\n",
       "      <td>[[7, 2], [6, 2], [5, 2], [4, 2], [3, 2], [3, 3...</td>\n",
       "      <td>9</td>\n",
       "    </tr>\n",
       "    <tr>\n",
       "      <th>E0-C3</th>\n",
       "      <td>[[7, 2], [8, 2], [8, 3], [9, 3]]</td>\n",
       "      <td>3</td>\n",
       "    </tr>\n",
       "    <tr>\n",
       "      <th>P0-E0</th>\n",
       "      <td>[[7, 2], [7, 1]]</td>\n",
       "      <td>1</td>\n",
       "    </tr>\n",
       "    <tr>\n",
       "      <th>P1-E0</th>\n",
       "      <td>[[7, 2], [6, 2], [5, 2], [4, 2], [3, 2], [2, 2]]</td>\n",
       "      <td>5</td>\n",
       "    </tr>\n",
       "    <tr>\n",
       "      <th>E1-C0</th>\n",
       "      <td>[[2, 4], [1, 4], [1, 3], [0, 3]]</td>\n",
       "      <td>3</td>\n",
       "    </tr>\n",
       "    <tr>\n",
       "      <th>E1-C1</th>\n",
       "      <td>[[2, 4], [1, 4], [1, 3], [1, 2], [1, 1], [2, 1...</td>\n",
       "      <td>6</td>\n",
       "    </tr>\n",
       "    <tr>\n",
       "      <th>E1-C2</th>\n",
       "      <td>[[2, 4], [2, 5], [2, 6]]</td>\n",
       "      <td>2</td>\n",
       "    </tr>\n",
       "    <tr>\n",
       "      <th>E1-C3</th>\n",
       "      <td>[[2, 4], [3, 4], [4, 4], [4, 3], [5, 3], [6, 3...</td>\n",
       "      <td>8</td>\n",
       "    </tr>\n",
       "    <tr>\n",
       "      <th>P0-E1</th>\n",
       "      <td>[[2, 4], [3, 4], [4, 4], [4, 3], [5, 3], [6, 3...</td>\n",
       "      <td>8</td>\n",
       "    </tr>\n",
       "    <tr>\n",
       "      <th>P1-E1</th>\n",
       "      <td>[[2, 4], [2, 3], [2, 2]]</td>\n",
       "      <td>2</td>\n",
       "    </tr>\n",
       "    <tr>\n",
       "      <th>E2-C0</th>\n",
       "      <td>[[5, 4], [4, 4], [3, 4], [3, 3], [2, 3], [1, 3...</td>\n",
       "      <td>6</td>\n",
       "    </tr>\n",
       "    <tr>\n",
       "      <th>E2-C1</th>\n",
       "      <td>[[5, 4], [4, 4], [3, 4], [3, 3], [3, 2], [3, 1...</td>\n",
       "      <td>7</td>\n",
       "    </tr>\n",
       "    <tr>\n",
       "      <th>E2-C2</th>\n",
       "      <td>[[5, 4], [4, 4], [3, 4], [3, 5], [2, 5], [2, 6]]</td>\n",
       "      <td>5</td>\n",
       "    </tr>\n",
       "    <tr>\n",
       "      <th>E2-C3</th>\n",
       "      <td>[[5, 4], [6, 4], [7, 4], [8, 4], [8, 3], [9, 3]]</td>\n",
       "      <td>5</td>\n",
       "    </tr>\n",
       "    <tr>\n",
       "      <th>P0-E2</th>\n",
       "      <td>[[5, 4], [6, 4], [6, 3], [6, 2], [6, 1], [7, 1]]</td>\n",
       "      <td>5</td>\n",
       "    </tr>\n",
       "    <tr>\n",
       "      <th>P1-E2</th>\n",
       "      <td>[[5, 4], [4, 4], [3, 4], [3, 3], [2, 3], [2, 2]]</td>\n",
       "      <td>5</td>\n",
       "    </tr>\n",
       "  </tbody>\n",
       "</table>\n",
       "</div>"
      ],
      "text/plain": [
       "                                                    path dist\n",
       "E0-C0  [[7, 2], [6, 2], [5, 2], [4, 2], [3, 2], [3, 3...    8\n",
       "E0-C1  [[7, 2], [6, 2], [5, 2], [4, 2], [3, 2], [3, 1...    7\n",
       "E0-C2  [[7, 2], [6, 2], [5, 2], [4, 2], [3, 2], [3, 3...    9\n",
       "E0-C3                   [[7, 2], [8, 2], [8, 3], [9, 3]]    3\n",
       "P0-E0                                   [[7, 2], [7, 1]]    1\n",
       "P1-E0   [[7, 2], [6, 2], [5, 2], [4, 2], [3, 2], [2, 2]]    5\n",
       "E1-C0                   [[2, 4], [1, 4], [1, 3], [0, 3]]    3\n",
       "E1-C1  [[2, 4], [1, 4], [1, 3], [1, 2], [1, 1], [2, 1...    6\n",
       "E1-C2                           [[2, 4], [2, 5], [2, 6]]    2\n",
       "E1-C3  [[2, 4], [3, 4], [4, 4], [4, 3], [5, 3], [6, 3...    8\n",
       "P0-E1  [[2, 4], [3, 4], [4, 4], [4, 3], [5, 3], [6, 3...    8\n",
       "P1-E1                           [[2, 4], [2, 3], [2, 2]]    2\n",
       "E2-C0  [[5, 4], [4, 4], [3, 4], [3, 3], [2, 3], [1, 3...    6\n",
       "E2-C1  [[5, 4], [4, 4], [3, 4], [3, 3], [3, 2], [3, 1...    7\n",
       "E2-C2   [[5, 4], [4, 4], [3, 4], [3, 5], [2, 5], [2, 6]]    5\n",
       "E2-C3   [[5, 4], [6, 4], [7, 4], [8, 4], [8, 3], [9, 3]]    5\n",
       "P0-E2   [[5, 4], [6, 4], [6, 3], [6, 2], [6, 1], [7, 1]]    5\n",
       "P1-E2   [[5, 4], [4, 4], [3, 4], [3, 3], [2, 3], [2, 2]]    5"
      ]
     },
     "execution_count": 164,
     "metadata": {},
     "output_type": "execute_result"
    }
   ],
   "source": [
    "pd.DataFrame(DictLine).T"
   ]
  },
  {
   "cell_type": "code",
   "execution_count": 211,
   "id": "fa141835",
   "metadata": {},
   "outputs": [
    {
     "data": {
      "image/png": "[encoded data removed]",
      "text/plain": [
       "<Figure size 800x800 with 1 Axes>"
      ]
     },
     "metadata": {},
     "output_type": "display_data"
    }
   ],
   "source": [
    "LenPath = len(DictLine)\n",
    "Ymax , Xmax = A0.shape\n",
    "PlotColor = {'C' : \"#93c9ee\", 'E': '#a2ee93', 'P' : \"#c593ee\"}\n",
    "fig, ax = plt.subplots(figsize = (8,8))\n",
    "\n",
    "f = ax.add_patch(mpatch.Rectangle((0,0), Xmax-1, Ymax-1, color='#d8d8d8'))\n",
    "# masked = np.ma.masked_where(A0 <= 1, A0)\n",
    "offset = np.linspace(-0.35,0.35,LenPath)\n",
    "for i, (slot,data) in enumerate(DictLine.items()):\n",
    "    n = offset[i]  \n",
    "    p = data['path']\n",
    "    if slot[0] == 'E' : \n",
    "        f = ax.plot(p[:,1]+n,p[:,0]+n,\"#32cdff\", linewidth=1, zorder=1, linestyle ='-')\n",
    "    else : \n",
    "        f = ax.plot(p[:,1]+n,p[:,0]+n,\"#3286ff\", linewidth=2, zorder=1, linestyle ='-')\n",
    "\n",
    "style = dict(size=15, color='black')\n",
    "for slot, pos in DictPos.items(): \n",
    "    x , y = pos\n",
    "    Type = slot[0]\n",
    "    color = PlotColor[Type]\n",
    "    f = ax.add_patch(mpatch.Rectangle((y-0.4,x-0.4), 0.8, 0.8, color=color))\n",
    "    f = ax.add_patch(mpatch.Rectangle((y-0.4,x-0.4), 0.8, 0.8, color='black', fill = None))\n",
    "    f = ax.text(y, x+0.1,slot , **style,  ha='center', weight='bold') \n",
    "#     f = ax.add_patch(mpatch.Rectangle((y-0.5,x-0.5), 1, 1, color='green'))\n",
    "f = ax.imshow(np.zeros(A0.shape), cmap='gray',vmin=0,vmax=1)\n"
   ]
  },
  {
   "cell_type": "code",
   "execution_count": 12,
   "id": "8144d6ec",
   "metadata": {
    "collapsed": true
   },
   "outputs": [
    {
     "data": {
      "text/html": [
       "<div>\n",
       "<style scoped>\n",
       "    .dataframe tbody tr th:only-of-type {\n",
       "        vertical-align: middle;\n",
       "    }\n",
       "\n",
       "    .dataframe tbody tr th {\n",
       "        vertical-align: top;\n",
       "    }\n",
       "\n",
       "    .dataframe thead th {\n",
       "        text-align: right;\n",
       "    }\n",
       "</style>\n",
       "<table border=\"1\" class=\"dataframe\">\n",
       "  <thead>\n",
       "    <tr style=\"text-align: right;\">\n",
       "      <th></th>\n",
       "      <th>dist</th>\n",
       "      <th>distPF</th>\n",
       "    </tr>\n",
       "  </thead>\n",
       "  <tbody>\n",
       "    <tr>\n",
       "      <th>dist</th>\n",
       "      <td>1.000000</td>\n",
       "      <td>0.981503</td>\n",
       "    </tr>\n",
       "    <tr>\n",
       "      <th>distPF</th>\n",
       "      <td>0.981503</td>\n",
       "      <td>1.000000</td>\n",
       "    </tr>\n",
       "  </tbody>\n",
       "</table>\n",
       "</div>"
      ],
      "text/plain": [
       "            dist    distPF\n",
       "dist    1.000000  0.981503\n",
       "distPF  0.981503  1.000000"
      ]
     },
     "execution_count": 12,
     "metadata": {},
     "output_type": "execute_result"
    },
    {
     "data": {
      "text/html": [
       "<div>\n",
       "<style scoped>\n",
       "    .dataframe tbody tr th:only-of-type {\n",
       "        vertical-align: middle;\n",
       "    }\n",
       "\n",
       "    .dataframe tbody tr th {\n",
       "        vertical-align: top;\n",
       "    }\n",
       "\n",
       "    .dataframe thead th {\n",
       "        text-align: right;\n",
       "    }\n",
       "</style>\n",
       "<table border=\"1\" class=\"dataframe\">\n",
       "  <thead>\n",
       "    <tr style=\"text-align: right;\">\n",
       "      <th></th>\n",
       "      <th>Class</th>\n",
       "      <th>polyline</th>\n",
       "      <th>end</th>\n",
       "      <th>long</th>\n",
       "      <th>start</th>\n",
       "      <th>dist</th>\n",
       "      <th>ID</th>\n",
       "      <th>distPF</th>\n",
       "      <th>distRatio</th>\n",
       "    </tr>\n",
       "  </thead>\n",
       "  <tbody>\n",
       "    <tr>\n",
       "      <th>0</th>\n",
       "      <td>C-E</td>\n",
       "      <td>[[52, 12], [52, 56], [52, 116], [44, 116]]</td>\n",
       "      <td>0</td>\n",
       "      <td>4.0</td>\n",
       "      <td>0</td>\n",
       "      <td>2.24</td>\n",
       "      <td>E0-C0</td>\n",
       "      <td>7.5</td>\n",
       "      <td>3.3</td>\n",
       "    </tr>\n",
       "    <tr>\n",
       "      <th>1</th>\n",
       "      <td>C-E</td>\n",
       "      <td>[[12, 40], [20, 40], [20, 104], [36, 104], [36...</td>\n",
       "      <td>0</td>\n",
       "      <td>3.0</td>\n",
       "      <td>1</td>\n",
       "      <td>2.00</td>\n",
       "      <td>E0-C1</td>\n",
       "      <td>6.5</td>\n",
       "      <td>3.2</td>\n",
       "    </tr>\n",
       "    <tr>\n",
       "      <th>2</th>\n",
       "      <td>C-E</td>\n",
       "      <td>[[100, 44], [88, 44], [88, 120], [44, 120]]</td>\n",
       "      <td>0</td>\n",
       "      <td>3.0</td>\n",
       "      <td>2</td>\n",
       "      <td>2.64</td>\n",
       "      <td>E0-C2</td>\n",
       "      <td>8.5</td>\n",
       "      <td>3.2</td>\n",
       "    </tr>\n",
       "    <tr>\n",
       "      <th>3</th>\n",
       "      <td>C-E</td>\n",
       "      <td>[[52, 148], [52, 124], [44, 124]]</td>\n",
       "      <td>0</td>\n",
       "      <td>2.0</td>\n",
       "      <td>3</td>\n",
       "      <td>0.64</td>\n",
       "      <td>E0-C3</td>\n",
       "      <td>2.5</td>\n",
       "      <td>3.9</td>\n",
       "    </tr>\n",
       "    <tr>\n",
       "      <th>4</th>\n",
       "      <td>C-E</td>\n",
       "      <td>[[56, 12], [56, 24], [72, 24], [72, 36]]</td>\n",
       "      <td>1</td>\n",
       "      <td>1.0</td>\n",
       "      <td>0</td>\n",
       "      <td>0.80</td>\n",
       "      <td>E1-C0</td>\n",
       "      <td>2.5</td>\n",
       "      <td>3.1</td>\n",
       "    </tr>\n",
       "    <tr>\n",
       "      <th>5</th>\n",
       "      <td>C-E</td>\n",
       "      <td>[[12, 36], [24, 36], [24, 28], [68, 28], [68, ...</td>\n",
       "      <td>1</td>\n",
       "      <td>2.0</td>\n",
       "      <td>1</td>\n",
       "      <td>1.44</td>\n",
       "      <td>E1-C1</td>\n",
       "      <td>5.5</td>\n",
       "      <td>3.8</td>\n",
       "    </tr>\n",
       "    <tr>\n",
       "      <th>6</th>\n",
       "      <td>C-E</td>\n",
       "      <td>[[100, 36], [76, 36]]</td>\n",
       "      <td>1</td>\n",
       "      <td>1.0</td>\n",
       "      <td>2</td>\n",
       "      <td>0.48</td>\n",
       "      <td>E1-C2</td>\n",
       "      <td>1.5</td>\n",
       "      <td>3.1</td>\n",
       "    </tr>\n",
       "    <tr>\n",
       "      <th>7</th>\n",
       "      <td>C-E</td>\n",
       "      <td>[[56, 148], [56, 56], [72, 56], [72, 44]]</td>\n",
       "      <td>1</td>\n",
       "      <td>2.0</td>\n",
       "      <td>3</td>\n",
       "      <td>2.40</td>\n",
       "      <td>E1-C3</td>\n",
       "      <td>7.5</td>\n",
       "      <td>3.1</td>\n",
       "    </tr>\n",
       "    <tr>\n",
       "      <th>8</th>\n",
       "      <td>C-E</td>\n",
       "      <td>[[60, 12], [60, 84], [68, 84]]</td>\n",
       "      <td>2</td>\n",
       "      <td>0.0</td>\n",
       "      <td>0</td>\n",
       "      <td>1.60</td>\n",
       "      <td>E2-C0</td>\n",
       "      <td>5.5</td>\n",
       "      <td>3.4</td>\n",
       "    </tr>\n",
       "    <tr>\n",
       "      <th>9</th>\n",
       "      <td>C-E</td>\n",
       "      <td>[[12, 44], [24, 44], [24, 88], [68, 88]]</td>\n",
       "      <td>2</td>\n",
       "      <td>3.0</td>\n",
       "      <td>1</td>\n",
       "      <td>2.00</td>\n",
       "      <td>E2-C1</td>\n",
       "      <td>6.5</td>\n",
       "      <td>3.2</td>\n",
       "    </tr>\n",
       "    <tr>\n",
       "      <th>10</th>\n",
       "      <td>C-E</td>\n",
       "      <td>[[100, 40], [84, 40], [84, 84], [76, 84]]</td>\n",
       "      <td>2</td>\n",
       "      <td>0.0</td>\n",
       "      <td>2</td>\n",
       "      <td>1.36</td>\n",
       "      <td>E2-C2</td>\n",
       "      <td>4.5</td>\n",
       "      <td>3.3</td>\n",
       "    </tr>\n",
       "    <tr>\n",
       "      <th>11</th>\n",
       "      <td>C-E</td>\n",
       "      <td>[[60, 148], [60, 92], [68, 92]]</td>\n",
       "      <td>2</td>\n",
       "      <td>0.0</td>\n",
       "      <td>3</td>\n",
       "      <td>1.28</td>\n",
       "      <td>E2-C3</td>\n",
       "      <td>4.5</td>\n",
       "      <td>3.5</td>\n",
       "    </tr>\n",
       "    <tr>\n",
       "      <th>12</th>\n",
       "      <td>E-P</td>\n",
       "      <td>[[36, 120], [28, 120]]</td>\n",
       "      <td>0</td>\n",
       "      <td>1.0</td>\n",
       "      <td>0</td>\n",
       "      <td>0.16</td>\n",
       "      <td>P0-E0</td>\n",
       "      <td>0.5</td>\n",
       "      <td>3.1</td>\n",
       "    </tr>\n",
       "    <tr>\n",
       "      <th>13</th>\n",
       "      <td>E-P</td>\n",
       "      <td>[[68, 44], [68, 52], [28, 52], [28, 116]]</td>\n",
       "      <td>0</td>\n",
       "      <td>3.0</td>\n",
       "      <td>1</td>\n",
       "      <td>2.24</td>\n",
       "      <td>P0-E1</td>\n",
       "      <td>7.5</td>\n",
       "      <td>3.3</td>\n",
       "    </tr>\n",
       "    <tr>\n",
       "      <th>14</th>\n",
       "      <td>E-P</td>\n",
       "      <td>[[72, 92], [72, 132], [28, 132], [28, 124]]</td>\n",
       "      <td>0</td>\n",
       "      <td>1.0</td>\n",
       "      <td>2</td>\n",
       "      <td>1.84</td>\n",
       "      <td>P0-E2</td>\n",
       "      <td>4.5</td>\n",
       "      <td>2.4</td>\n",
       "    </tr>\n",
       "    <tr>\n",
       "      <th>15</th>\n",
       "      <td>E-P</td>\n",
       "      <td>[[40, 116], [40, 44]]</td>\n",
       "      <td>1</td>\n",
       "      <td>2.0</td>\n",
       "      <td>0</td>\n",
       "      <td>1.44</td>\n",
       "      <td>P1-E0</td>\n",
       "      <td>4.5</td>\n",
       "      <td>3.1</td>\n",
       "    </tr>\n",
       "    <tr>\n",
       "      <th>16</th>\n",
       "      <td>E-P</td>\n",
       "      <td>[[68, 40], [44, 40]]</td>\n",
       "      <td>1</td>\n",
       "      <td>1.0</td>\n",
       "      <td>1</td>\n",
       "      <td>0.48</td>\n",
       "      <td>P1-E1</td>\n",
       "      <td>1.5</td>\n",
       "      <td>3.1</td>\n",
       "    </tr>\n",
       "    <tr>\n",
       "      <th>17</th>\n",
       "      <td>E-P</td>\n",
       "      <td>[[72, 84], [72, 76], [44, 76], [44, 44]]</td>\n",
       "      <td>1</td>\n",
       "      <td>1.0</td>\n",
       "      <td>2</td>\n",
       "      <td>1.36</td>\n",
       "      <td>P1-E2</td>\n",
       "      <td>4.5</td>\n",
       "      <td>3.3</td>\n",
       "    </tr>\n",
       "  </tbody>\n",
       "</table>\n",
       "</div>"
      ],
      "text/plain": [
       "   Class                                           polyline  end  long  start  \\\n",
       "0    C-E         [[52, 12], [52, 56], [52, 116], [44, 116]]    0   4.0      0   \n",
       "1    C-E  [[12, 40], [20, 40], [20, 104], [36, 104], [36...    0   3.0      1   \n",
       "2    C-E        [[100, 44], [88, 44], [88, 120], [44, 120]]    0   3.0      2   \n",
       "3    C-E                  [[52, 148], [52, 124], [44, 124]]    0   2.0      3   \n",
       "4    C-E           [[56, 12], [56, 24], [72, 24], [72, 36]]    1   1.0      0   \n",
       "5    C-E  [[12, 36], [24, 36], [24, 28], [68, 28], [68, ...    1   2.0      1   \n",
       "6    C-E                              [[100, 36], [76, 36]]    1   1.0      2   \n",
       "7    C-E          [[56, 148], [56, 56], [72, 56], [72, 44]]    1   2.0      3   \n",
       "8    C-E                     [[60, 12], [60, 84], [68, 84]]    2   0.0      0   \n",
       "9    C-E           [[12, 44], [24, 44], [24, 88], [68, 88]]    2   3.0      1   \n",
       "10   C-E          [[100, 40], [84, 40], [84, 84], [76, 84]]    2   0.0      2   \n",
       "11   C-E                    [[60, 148], [60, 92], [68, 92]]    2   0.0      3   \n",
       "12   E-P                             [[36, 120], [28, 120]]    0   1.0      0   \n",
       "13   E-P          [[68, 44], [68, 52], [28, 52], [28, 116]]    0   3.0      1   \n",
       "14   E-P        [[72, 92], [72, 132], [28, 132], [28, 124]]    0   1.0      2   \n",
       "15   E-P                              [[40, 116], [40, 44]]    1   2.0      0   \n",
       "16   E-P                               [[68, 40], [44, 40]]    1   1.0      1   \n",
       "17   E-P           [[72, 84], [72, 76], [44, 76], [44, 44]]    1   1.0      2   \n",
       "\n",
       "    dist     ID  distPF  distRatio  \n",
       "0   2.24  E0-C0     7.5        3.3  \n",
       "1   2.00  E0-C1     6.5        3.2  \n",
       "2   2.64  E0-C2     8.5        3.2  \n",
       "3   0.64  E0-C3     2.5        3.9  \n",
       "4   0.80  E1-C0     2.5        3.1  \n",
       "5   1.44  E1-C1     5.5        3.8  \n",
       "6   0.48  E1-C2     1.5        3.1  \n",
       "7   2.40  E1-C3     7.5        3.1  \n",
       "8   1.60  E2-C0     5.5        3.4  \n",
       "9   2.00  E2-C1     6.5        3.2  \n",
       "10  1.36  E2-C2     4.5        3.3  \n",
       "11  1.28  E2-C3     4.5        3.5  \n",
       "12  0.16  P0-E0     0.5        3.1  \n",
       "13  2.24  P0-E1     7.5        3.3  \n",
       "14  1.84  P0-E2     4.5        2.4  \n",
       "15  1.44  P1-E0     4.5        3.1  \n",
       "16  0.48  P1-E1     1.5        3.1  \n",
       "17  1.36  P1-E2     4.5        3.3  "
      ]
     },
     "execution_count": 12,
     "metadata": {},
     "output_type": "execute_result"
    }
   ],
   "source": [
    "dfline = algo.dfline.copy()\n",
    "dfline['distPF'] = dfline.ID.map(d)-0.5\n",
    "dfline['distRatio'] = (dfline.distPF / dfline.dist).round(1)\n",
    "dfline[['dist','distPF']].corr()\n",
    "dfline"
   ]
  },
  {
   "cell_type": "code",
   "execution_count": 17,
   "id": "3ed227df",
   "metadata": {
    "collapsed": true
   },
   "outputs": [
    {
     "data": {
      "text/plain": [
       "{'E0-C0': 8,\n",
       " 'E0-C1': 7,\n",
       " 'E0-C2': 9,\n",
       " 'E0-C3': 3,\n",
       " 'P0-E0': 1,\n",
       " 'P1-E0': 5,\n",
       " 'E1-C0': 3,\n",
       " 'E1-C1': 6,\n",
       " 'E1-C2': 2,\n",
       " 'E1-C3': 8,\n",
       " 'P0-E1': 8,\n",
       " 'P1-E1': 2,\n",
       " 'E2-C0': 6,\n",
       " 'E2-C1': 7,\n",
       " 'E2-C2': 5,\n",
       " 'E2-C3': 5,\n",
       " 'P0-E2': 5,\n",
       " 'P1-E2': 5}"
      ]
     },
     "execution_count": 17,
     "metadata": {},
     "output_type": "execute_result"
    }
   ],
   "source": [
    "d"
   ]
  },
  {
   "cell_type": "code",
   "execution_count": null,
   "id": "7790f677",
   "metadata": {},
   "outputs": [],
   "source": [
    "len(Path)\n",
    "fig, ax = plt.subplots(figsize = (8,8))\n",
    "masked = np.ma.masked_where(A0 <= 1, A0)\n",
    "# f = ax.imshow(A0)\n",
    "offset = np.linspace(-0.3,0.3,18)\n",
    "for i, p in enumerate(Path):\n",
    "        n = offset[i]\n",
    "#         n = 0\n",
    "        \n",
    "        f = ax.plot(p[:,1]+n,p[:,0]+n,'w', linewidth=1)\n",
    "# f = ax.imshow(masked,alpha=1,cmap = 'Reds')\n",
    "f = ax.imshow(A0)"
   ]
  },
  {
   "cell_type": "raw",
   "id": "5f506356",
   "metadata": {},
   "source": [
    "fig = px.imshow(A0, aspect='equal')\n",
    "f =  fig.update_layout(coloraxis_showscale=False)\n",
    "offset = np.linspace(-0.3,0.3,18)\n",
    "for i, p in enumerate(Path):\n",
    "        n = offset[i]\n",
    "        f = fig.add_trace(go.Scatter(\n",
    "            mode =\"lines\",\n",
    "            x = p[:,1]+n,y=p[:,0]+n,\n",
    "            line=dict(color='white', width=2),\n",
    "            showlegend=False\n",
    "            ))\n",
    "f = fig.update_layout(margin=dict(l=0,r=0, b=0,t=0, pad = 0))\n",
    "fig"
   ]
  },
  {
   "cell_type": "code",
   "execution_count": 126,
   "id": "37878878",
   "metadata": {},
   "outputs": [],
   "source": [
    "import matplotlib.colors as mcolors\n",
    "import matplotlib.patches as mpatch\n",
    "\n",
    "overlap = {name for name in mcolors.CSS4_COLORS\n",
    "           if f'xkcd:{name}' in mcolors.XKCD_COLORS}"
   ]
  },
  {
   "cell_type": "code",
   "execution_count": 127,
   "id": "ff6c7b7e",
   "metadata": {},
   "outputs": [
    {
     "data": {
      "text/plain": [
       "{'aqua',\n",
       " 'aquamarine',\n",
       " 'azure',\n",
       " 'beige',\n",
       " 'black',\n",
       " 'blue',\n",
       " 'brown',\n",
       " 'chartreuse',\n",
       " 'chocolate',\n",
       " 'coral',\n",
       " 'crimson',\n",
       " 'cyan',\n",
       " 'darkblue',\n",
       " 'darkgreen',\n",
       " 'fuchsia',\n",
       " 'gold',\n",
       " 'goldenrod',\n",
       " 'green',\n",
       " 'grey',\n",
       " 'indigo',\n",
       " 'ivory',\n",
       " 'khaki',\n",
       " 'lavender',\n",
       " 'lightblue',\n",
       " 'lightgreen',\n",
       " 'lime',\n",
       " 'magenta',\n",
       " 'maroon',\n",
       " 'navy',\n",
       " 'olive',\n",
       " 'orange',\n",
       " 'orangered',\n",
       " 'orchid',\n",
       " 'pink',\n",
       " 'plum',\n",
       " 'purple',\n",
       " 'red',\n",
       " 'salmon',\n",
       " 'sienna',\n",
       " 'silver',\n",
       " 'tan',\n",
       " 'teal',\n",
       " 'tomato',\n",
       " 'turquoise',\n",
       " 'violet',\n",
       " 'wheat',\n",
       " 'white',\n",
       " 'yellow',\n",
       " 'yellowgreen'}"
      ]
     },
     "execution_count": 127,
     "metadata": {},
     "output_type": "execute_result"
    }
   ],
   "source": [
    "overlap"
   ]
  },
  {
   "cell_type": "code",
   "execution_count": null,
   "id": "c7b14ea5",
   "metadata": {},
   "outputs": [],
   "source": []
  }
 ],
 "metadata": {
  "kernelspec": {
   "display_name": "Python 3 (ipykernel)",
   "language": "python",
   "name": "python3"
  },
  "language_info": {
   "codemirror_mode": {
    "name": "ipython",
    "version": 3
   },
   "file_extension": ".py",
   "mimetype": "text/x-python",
   "name": "python",
   "nbconvert_exporter": "python",
   "pygments_lexer": "ipython3",
   "version": "3.9.12"
  },
  "toc": {
   "base_numbering": 1,
   "nav_menu": {},
   "number_sections": true,
   "sideBar": true,
   "skip_h1_title": false,
   "title_cell": "Table of Contents",
   "title_sidebar": "Contents",
   "toc_cell": false,
   "toc_position": {
    "height": "calc(100% - 180px)",
    "left": "10px",
    "top": "150px",
    "width": "165px"
   },
   "toc_section_display": true,
   "toc_window_display": true
  }
 },
 "nbformat": 4,
 "nbformat_minor": 5
}
