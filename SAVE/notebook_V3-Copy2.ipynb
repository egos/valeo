{
 "cells": [
  {
   "cell_type": "markdown",
   "id": "196dcdf1",
   "metadata": {},
   "source": [
    "# Import"
   ]
  },
  {
   "cell_type": "code",
   "execution_count": 1,
   "id": "7444384e",
   "metadata": {},
   "outputs": [
    {
     "data": {
      "text/html": [
       "<style>.container { width:80% !important; }</style>"
      ],
      "text/plain": [
       "<IPython.core.display.HTML object>"
      ]
     },
     "metadata": {},
     "output_type": "display_data"
    }
   ],
   "source": [
    "%load_ext autoreload\n",
    "%autoreload 2\n",
    "\n",
    "import importlib\n",
    "import numpy as np\n",
    "import math\n",
    "import itertools \n",
    "import pandas as pd\n",
    "import numpy as np\n",
    "import io\n",
    "import msoffcrypto\n",
    "from sklearn.metrics import r2_score\n",
    "import openpyxl\n",
    "import plotly.express as px\n",
    "from IPython.core.interactiveshell import InteractiveShell\n",
    "InteractiveShell.ast_node_interactivity = \"all\"\n",
    "import plotly\n",
    "import matplotlib.pyplot as plt\n",
    "import plotly.graph_objects as go\n",
    "import streamlit as st\n",
    "import json\n",
    "from math import factorial as fact\n",
    "from IPython.display import Markdown, display\n",
    "import toml\n",
    "import sys, os\n",
    "import collections\n",
    "from types import SimpleNamespace\n",
    "import copy\n",
    "import matplotlib.patches as mpatch\n",
    "%matplotlib inline \n",
    "%config Completer.use_jedi = True\n",
    "\n",
    "from IPython.display import display, HTML\n",
    "display(HTML(\"<style>.container { width:80% !important; }</style>\"))\n",
    "\n",
    "from utils import *"
   ]
  },
  {
   "cell_type": "markdown",
   "id": "fa267b1b",
   "metadata": {},
   "source": [
    "# Run"
   ]
  },
  {
   "cell_type": "markdown",
   "id": "5456dcf9",
   "metadata": {},
   "source": [
    "## Algo"
   ]
  },
  {
   "cell_type": "code",
   "execution_count": 2,
   "id": "727baba9",
   "metadata": {
    "scrolled": true
   },
   "outputs": [
    {
     "name": "stdout",
     "output_type": "stream",
     "text": [
      "Init algo namespace\n",
      "[('E0', 'E1'), ('E0', 'E2'), ('E0', 'E3'), ('E1', 'E2'), ('E1', 'E3'), ('E2', 'E3')]\n",
      "['confs', 'map', 'map bis', 'map (2)', 'map (3)']\n"
     ]
    }
   ],
   "source": [
    "file = {'SheetMapName' : 'map', 'uploaded_file' : \"data.xlsx\"}\n",
    "# file = {'SheetMapName' : 'map', 'uploaded_file' : None, 'DistFactor' : 0.1}\n",
    "file = {'SheetMapName' : 'map bis', 'uploaded_file' : None, 'DistFactor' : 0.1}\n",
    "algo = load_data_brut(file)\n",
    "# algo.dfmap"
   ]
  },
  {
   "cell_type": "raw",
   "id": "95daec54",
   "metadata": {},
   "source": [
    "algo.BusActif = True\n",
    "algo.Npc = 0"
   ]
  },
  {
   "cell_type": "raw",
   "id": "af2499af",
   "metadata": {},
   "source": [
    "keydrop= ['Nvals',\"confs\",\"dfcapteur\", \"dfslot\",\"dfline\",\"indivs\",\n",
    "          \"df\",'dfmap','A0','DataCategorie', 'DictLine','DictPos','dist','durite',\n",
    "        'duriteType','duriteVal','CombAll','Comb']\n",
    "d = {k : v for k,v in vars(algo).items() if k not in keydrop}\n",
    "s = pd.Series(d).rename('Val').astype(str)\n",
    "s.index= s.index.astype(str)\n",
    "s"
   ]
  },
  {
   "cell_type": "raw",
   "id": "fdadc414",
   "metadata": {},
   "source": [
    "# generation de 10 indivs\n",
    "df = indiv_init(algo, 10)"
   ]
  },
  {
   "cell_type": "raw",
   "id": "562f3e1b",
   "metadata": {},
   "source": [
    "df.columns\n",
    "# indiv = algo.indivs[0]"
   ]
  },
  {
   "cell_type": "markdown",
   "id": "2251573b",
   "metadata": {
    "heading_collapsed": true
   },
   "source": [
    "## Plot"
   ]
  },
  {
   "cell_type": "raw",
   "id": "2a9e31eb",
   "metadata": {
    "hidden": true
   },
   "source": [
    "# Plot\n",
    "row = df.iloc[0]\n",
    "ElemsList = ['Clist','Elist','Plist']\n",
    "Elems = ['C','E','P']\n",
    "SelectSlot = []\n",
    "List_EtoC = row.List_EtoC\n",
    "List_PtoE = row.List_PtoE\n",
    "for n in range(3):\n",
    "    SelectSlot+= ['{}{}'.format(Elems[n],i) for i in row[ElemsList[n]]]\n",
    "SelectLine = row.Name\n",
    "if row.Option == 'Bus' :   SelectLine = row.BusName                \n",
    "fig = new_plot(algo, SelectLine, SelectSlot)"
   ]
  },
  {
   "cell_type": "markdown",
   "id": "f278d2e6",
   "metadata": {},
   "source": [
    "## ALL"
   ]
  },
  {
   "cell_type": "code",
   "execution_count": 73,
   "id": "a0a866f8",
   "metadata": {},
   "outputs": [
    {
     "name": "stdout",
     "output_type": "stream",
     "text": [
      "(10, 7)\n"
     ]
    },
    {
     "data": {
      "image/png": "[encoded data removed]",
      "text/plain": [
       "<Figure size 800x800 with 1 Axes>"
      ]
     },
     "metadata": {},
     "output_type": "display_data"
    }
   ],
   "source": [
    "# Plot all\n",
    "SelectLine = algo.DictLine.keys()\n",
    "SelectSlot = algo.DictPos.keys()\n",
    "\n",
    "fig = new_plot(algo, SelectLine, SelectSlot)"
   ]
  },
  {
   "cell_type": "markdown",
   "id": "4177c515",
   "metadata": {
    "heading_collapsed": true
   },
   "source": [
    "# GEN test"
   ]
  },
  {
   "cell_type": "code",
   "execution_count": null,
   "id": "ffca3420",
   "metadata": {
    "hidden": true
   },
   "outputs": [],
   "source": [
    "# columns de l'algo genetique\n",
    "col = ['Clist', 'CtoE', 'Econnect', 'Elist', 'Ecount', 'EtoP', 'Pconnect','Plist', 'Pcount']"
   ]
  },
  {
   "cell_type": "code",
   "execution_count": null,
   "id": "2071992b",
   "metadata": {
    "hidden": true
   },
   "outputs": [],
   "source": [
    "# crossover\n",
    "dfparents = df[:2].copy()\n",
    "dfcrossover = pd.DataFrame(AG_CrossOver(dfparents, algo))\n",
    "dfresults  = pd.concat([dfparents.T,dfcrossover.T ], axis = 1)\n",
    "dfresults.columns = ['parent1','parent2','enfant1','enfant2']\n",
    "dfresults.loc[col]"
   ]
  },
  {
   "cell_type": "code",
   "execution_count": null,
   "id": "daa1c93a",
   "metadata": {
    "hidden": true
   },
   "outputs": [],
   "source": [
    "# mutation\n",
    "row = df.iloc[0].copy()\n",
    "dfMutation = pd.Series(Mutation(row, algo))[col]\n",
    "dfresults  = pd.concat([row,dfMutation], axis = 1)\n",
    "dfresults.columns = ['parent','enfant']\n",
    "dfresults.loc[col]"
   ]
  },
  {
   "cell_type": "markdown",
   "id": "0fb7d290",
   "metadata": {
    "heading_collapsed": true,
    "hidden": true
   },
   "source": [
    "## new formule vrac"
   ]
  },
  {
   "cell_type": "code",
   "execution_count": null,
   "id": "55b8df7e",
   "metadata": {
    "hidden": true
   },
   "outputs": [],
   "source": [
    "df.columns\n",
    "indiv = algo.indivs[0]\n",
    "Calcul_Debit(algo ,indiv, Split = algo.Split)"
   ]
  },
  {
   "cell_type": "code",
   "execution_count": null,
   "id": "ef9feacd",
   "metadata": {
    "hidden": true
   },
   "outputs": [],
   "source": [
    "Calcul_Debit(algo ,indiv, 'Deactivate')"
   ]
  },
  {
   "cell_type": "code",
   "execution_count": null,
   "id": "56b0e5ca",
   "metadata": {
    "hidden": true
   },
   "outputs": [],
   "source": [
    "debitinput = {'p': 0, 'e': 0, 'ClistG': [0, 1, 3], 'pt': 'Pa'}\n",
    "debit(algo,indiv,debitinput, grouped = True, split = False)"
   ]
  },
  {
   "cell_type": "code",
   "execution_count": null,
   "id": "31b683e0",
   "metadata": {
    "hidden": true
   },
   "outputs": [],
   "source": [
    "pompe,ev,ClistG,pt = debitinput.values()\n",
    "d_EtoC_list = np.array([algo.dist['E{}-C{}'.format(ev,c)] for c in ClistG])\n",
    "d_PtoE      = indiv['dist_Connect']['P{}-E{}'.format(pompe,ev)]\n",
    "d_EtoC_list, d_PtoE\n",
    "d_EtoC_list = [1,1,1]\n",
    "d_PtoE = 1\n",
    "p = [algo.DataCategorie['Pompe']['Values'][pt][i] for i in ['a','b','c']]\n",
    "p\n",
    "grouped = True\n",
    "split = False\n",
    "cE0 = 7.64e-04\n",
    "coef_E = 0 if split else cE0\n",
    "\n",
    "coef_C  = 0.036\n",
    "coef_C  = [algo.Nvals[i] for i in ClistG]\n",
    "coef_C  = np.array(coef_C)\n",
    "coef_d_EtoC  = 2.35e-04\n",
    "coef_d_EtoC = np.array([algo.duriteVal['E{}-C{}'.format(ev,c)] for c in ClistG])\n",
    "# coef_d_PtoE = algo.duriteVal['P{}-E{}'.format(pompe,ev)] \n",
    "coef_d_PtoE = indiv['duriteVal']['P{}-E{}'.format(pompe,ev)] \n",
    "a,b,c = [algo.DataCategorie['Pompe']['Values'][pt][i] for i in ['a','b','c']]\n",
    "A = coef_E + d_EtoC_list * coef_d_EtoC + coef_C \n",
    "coef_E ,d_EtoC_list,  coef_d_EtoC, coef_C\n",
    "A"
   ]
  },
  {
   "cell_type": "code",
   "execution_count": null,
   "id": "c4873371",
   "metadata": {
    "hidden": true
   },
   "outputs": [],
   "source": [
    "Q = 40\n",
    "A*10\n",
    "a * Q**2 + b*Q +c - coef_d_PtoE*Q**2\n",
    "a * Q**2 + b*Q +c - coef_d_PtoE\n"
   ]
  },
  {
   "cell_type": "code",
   "execution_count": null,
   "id": "896262a9",
   "metadata": {
    "hidden": true
   },
   "outputs": [],
   "source": [
    "coef_E\n",
    "Ncg=  6\n",
    "Ncm = 12\n",
    "d_EtoC_list = np.ones(Ncm) * 1\n",
    "coef_d_EtoC = np.ones(Ncm) * 0.000235\n",
    "coef_C = np.ones(Ncm) * 0.036\n",
    "a,b,c = [algo.DataCategorie['Pompe']['Values'][pt][i] for i in ['a','b','c']]\n",
    "A = coef_E + d_EtoC_list * coef_d_EtoC + coef_C \n",
    "Q0 = np.arange(0.1,80,0.1)\n",
    "Qx = np.zeros(Q0.shape)\n",
    "Qi = np.zeros((12,len(Q0)))\n",
    "Nev = int(Ncm/6)\n",
    "for i in range(Nev):\n",
    "    Q = Q0 - Qx\n",
    "    # Q.shape, Qx.sum()    \n",
    "    # Q = Q0.copy()\n",
    "    # Q.shape\n",
    "    G = a * Q**2 + b*Q +c - coef_d_PtoE*(i+1)*Q**2\n",
    "    G[G <0] = 0\n",
    "    # print(G)\n",
    "    Qi[i*Ncg:Ncg*(i+1),:] = np.sqrt(G / A[i*Ncg:Ncg*(i+1),np.newaxis]).round(3)\n",
    "    Qx = Qi[0:Ncg*(i+1),:].sum(0)\n",
    "    # Qx\n",
    "    # pd.DataFrame(Qi)\n",
    "    # Qx.shape\n",
    "    f = plt.plot(Qx)\n",
    "    # Qi.shape\n",
    "dfr = pd.DataFrame(Qi).T\n",
    "dfr.index = Q0\n",
    "idx = np.searchsorted(Q0 - Qi.sum(0), 0)\n",
    "np.isclose(Qi.sum(0),Q0,atol= 0.1).sum()\n",
    "# np.isclose(Qi.sum(0),Q,atol= 0.1)\n",
    "idx, Q[idx],Qi[:,idx], Qi.shape, G[idx]"
   ]
  },
  {
   "cell_type": "code",
   "execution_count": null,
   "id": "0eb95c4a",
   "metadata": {
    "hidden": true
   },
   "outputs": [],
   "source": [
    "a,b,c = [algo.DataCategorie['Pompe']['Values'][pt][i] for i in ['a','b','c']]\n",
    "a,b,c"
   ]
  },
  {
   "cell_type": "code",
   "execution_count": null,
   "id": "c34da432",
   "metadata": {
    "hidden": true
   },
   "outputs": [],
   "source": [
    "\n",
    "Q = np.arange(0.1,80,0.1)\n",
    "G = a * Q**2 + b*Q +c - coef_d_PtoE\n",
    "Qi= np.sqrt(G / A[:,np.newaxis])\n",
    "Q[np.isclose(Qi.sum(0),Q,atol= 0.1)]\n",
    "Qi[:,np.isclose(Qi.sum(0),Q,atol= 0.1)]\n",
    "idx = np.searchsorted(Q - Qi.sum(0), 0)\n",
    "Q[idx],Qi[:,idx]\n",
    "Qi.shape\n",
    "# Q[np.isclose(Qi.sum(0),Q,atol= 0.1)]"
   ]
  },
  {
   "cell_type": "code",
   "execution_count": null,
   "id": "304ae05f",
   "metadata": {
    "hidden": true
   },
   "outputs": [],
   "source": [
    "%timeit np.isclose(Qi.sum(0),Q,atol= 0.1)\n",
    "%timeit np.searchsorted(Q - Qi.sum(0), 0.1)\n"
   ]
  },
  {
   "cell_type": "code",
   "execution_count": null,
   "id": "1c7ca8e0",
   "metadata": {
    "hidden": true
   },
   "outputs": [],
   "source": [
    "Qi.sum(0) - Q"
   ]
  },
  {
   "cell_type": "code",
   "execution_count": null,
   "id": "d7a1f2cf",
   "metadata": {
    "hidden": true
   },
   "outputs": [],
   "source": [
    "%%timeit\n",
    "G = a * Q**2 + b*Q +c - coef_d_PtoE\n",
    "Qi= np.sqrt(G / A[:,np.newaxis])\n"
   ]
  },
  {
   "cell_type": "code",
   "execution_count": null,
   "id": "a7cb3310",
   "metadata": {
    "hidden": true
   },
   "outputs": [],
   "source": [
    "p = np.array(p)"
   ]
  },
  {
   "cell_type": "code",
   "execution_count": null,
   "id": "0296684f",
   "metadata": {
    "hidden": true
   },
   "outputs": [],
   "source": [
    "%%timeit\n",
    "Q = 40\n",
    "Qs = []\n",
    "for i in range(40):\n",
    "    G = a * Q**2 + b*Q +c - coef_d_PtoE\n",
    "    Qi= np.sqrt(G / A)\n",
    "    Q = np.sum(Qi)\n",
    "    Qs.append(Q)"
   ]
  },
  {
   "cell_type": "code",
   "execution_count": null,
   "id": "bab91595",
   "metadata": {
    "hidden": true
   },
   "outputs": [],
   "source": [
    "\n",
    "Q = 40\n",
    "Qs = []\n",
    "for i in range(40):\n",
    "    G = a * Q**2 + b*Q +c - coef_d_PtoE\n",
    "    Qi= np.sqrt(G / A)\n",
    "    Q = np.sum(Qi)\n",
    "    Qs.append(Q)\n",
    "plt.plot(Qs)\n",
    "Qs[-1]\n",
    "# Qi\n"
   ]
  },
  {
   "cell_type": "code",
   "execution_count": null,
   "id": "fbfdafdf",
   "metadata": {
    "hidden": true
   },
   "outputs": [],
   "source": [
    "indiv['dist_Connect']\n",
    "A"
   ]
  },
  {
   "cell_type": "code",
   "execution_count": null,
   "id": "05c6ab05",
   "metadata": {
    "hidden": true
   },
   "outputs": [],
   "source": [
    "pd.Series(indiv)"
   ]
  },
  {
   "cell_type": "markdown",
   "id": "de0442fe",
   "metadata": {},
   "source": [
    "# Final loop "
   ]
  },
  {
   "cell_type": "markdown",
   "id": "fa5d5225",
   "metadata": {},
   "source": [
    "## test bus  T"
   ]
  },
  {
   "cell_type": "raw",
   "id": "35489926",
   "metadata": {},
   "source": [
    "import networkx as nx\n",
    "tree = nx.random_tree(n=10, seed=1)\n",
    "nx.write_network_text(tree, sources=[0])"
   ]
  },
  {
   "cell_type": "code",
   "execution_count": 3,
   "id": "2244a96a",
   "metadata": {},
   "outputs": [
    {
     "ename": "NameError",
     "evalue": "name 'indiv' is not defined",
     "output_type": "error",
     "traceback": [
      "\u001b[1;31m---------------------------------------------------------------------------\u001b[0m",
      "\u001b[1;31mNameError\u001b[0m                                 Traceback (most recent call last)",
      "Cell \u001b[1;32mIn[3], line 1\u001b[0m\n\u001b[1;32m----> 1\u001b[0m \u001b[43mindiv\u001b[49m[\u001b[38;5;124m'\u001b[39m\u001b[38;5;124mBusName\u001b[39m\u001b[38;5;124m'\u001b[39m]\n",
      "\u001b[1;31mNameError\u001b[0m: name 'indiv' is not defined"
     ]
    }
   ],
   "source": [
    "indiv['BusName']"
   ]
  },
  {
   "cell_type": "code",
   "execution_count": 7,
   "id": "83c67e52",
   "metadata": {},
   "outputs": [
    {
     "name": "stdout",
     "output_type": "stream",
     "text": [
      "(10, 7)\n"
     ]
    },
    {
     "data": {
      "image/png": "[encoded data removed]",
      "text/plain": [
       "<Figure size 500x500 with 1 Axes>"
      ]
     },
     "metadata": {},
     "output_type": "display_data"
    }
   ],
   "source": [
    "# Plot\n",
    "row = pd.Series(indiv)\n",
    "ElemsList = ['Clist','Elist','Plist']\n",
    "Elems = ['C','E','P']\n",
    "SelectSlot = []\n",
    "List_EtoC = row.List_EtoC\n",
    "List_PtoE = row.List_PtoE\n",
    "for n in range(3):\n",
    "    SelectSlot+= ['{}{}'.format(Elems[n],i) for i in row[ElemsList[n]]]\n",
    "SelectLine = row.Name\n",
    "if row.Option == 'Bus' :   SelectLine = ['E0-C0', 'E1-C1', 'E2-C2', 'P0-E0', 'E1-E0', 'E2-E0']                \n",
    "fig = new_plot(algo, SelectLine, SelectSlot)\n",
    "fig.set_size_inches(5,5)"
   ]
  },
  {
   "cell_type": "code",
   "execution_count": 88,
   "id": "7dcbb5ba",
   "metadata": {},
   "outputs": [
    {
     "name": "stdout",
     "output_type": "stream",
     "text": [
      "0 (0, [0, 1, 2])\n"
     ]
    },
    {
     "data": {
      "text/plain": [
       "['P0', 'E0', 'E1', 'E2']"
      ]
     },
     "execution_count": 88,
     "metadata": {},
     "output_type": "execute_result"
    },
    {
     "data": {
      "text/html": [
       "<div>\n",
       "<style scoped>\n",
       "    .dataframe tbody tr th:only-of-type {\n",
       "        vertical-align: middle;\n",
       "    }\n",
       "\n",
       "    .dataframe tbody tr th {\n",
       "        vertical-align: top;\n",
       "    }\n",
       "\n",
       "    .dataframe thead th {\n",
       "        text-align: right;\n",
       "    }\n",
       "</style>\n",
       "<table border=\"1\" class=\"dataframe\">\n",
       "  <thead>\n",
       "    <tr style=\"text-align: right;\">\n",
       "      <th></th>\n",
       "      <th>ID</th>\n",
       "      <th>path</th>\n",
       "      <th>dist</th>\n",
       "      <th>duriteType</th>\n",
       "      <th>duriteVal</th>\n",
       "      <th>a</th>\n",
       "      <th>b</th>\n",
       "    </tr>\n",
       "  </thead>\n",
       "  <tbody>\n",
       "    <tr>\n",
       "      <th>3</th>\n",
       "      <td>P0-E0</td>\n",
       "      <td>[[2, 2], [3, 2], [4, 2], [5, 2], [5, 1]]</td>\n",
       "      <td>0.4</td>\n",
       "      <td>4</td>\n",
       "      <td>0.000235</td>\n",
       "      <td>P0</td>\n",
       "      <td>E0</td>\n",
       "    </tr>\n",
       "    <tr>\n",
       "      <th>8</th>\n",
       "      <td>P0-E1</td>\n",
       "      <td>[[2, 4], [3, 4], [4, 4], [5, 4], [5, 3], [5, 2...</td>\n",
       "      <td>0.6</td>\n",
       "      <td>4</td>\n",
       "      <td>0.000235</td>\n",
       "      <td>P0</td>\n",
       "      <td>E1</td>\n",
       "    </tr>\n",
       "    <tr>\n",
       "      <th>13</th>\n",
       "      <td>P0-E2</td>\n",
       "      <td>[[7, 3], [6, 3], [5, 3], [5, 2], [5, 1]]</td>\n",
       "      <td>0.4</td>\n",
       "      <td>4</td>\n",
       "      <td>0.000235</td>\n",
       "      <td>P0</td>\n",
       "      <td>E2</td>\n",
       "    </tr>\n",
       "    <tr>\n",
       "      <th>15</th>\n",
       "      <td>E1-E0</td>\n",
       "      <td>[[2, 2], [2, 3], [2, 4]]</td>\n",
       "      <td>0.2</td>\n",
       "      <td>4</td>\n",
       "      <td>0.000235</td>\n",
       "      <td>E1</td>\n",
       "      <td>E0</td>\n",
       "    </tr>\n",
       "    <tr>\n",
       "      <th>16</th>\n",
       "      <td>E2-E0</td>\n",
       "      <td>[[2, 2], [3, 2], [4, 2], [5, 2], [6, 2], [7, 2...</td>\n",
       "      <td>0.6</td>\n",
       "      <td>4</td>\n",
       "      <td>0.000235</td>\n",
       "      <td>E2</td>\n",
       "      <td>E0</td>\n",
       "    </tr>\n",
       "    <tr>\n",
       "      <th>17</th>\n",
       "      <td>E2-E1</td>\n",
       "      <td>[[2, 4], [3, 4], [4, 4], [5, 4], [6, 4], [7, 4...</td>\n",
       "      <td>0.6</td>\n",
       "      <td>4</td>\n",
       "      <td>0.000235</td>\n",
       "      <td>E2</td>\n",
       "      <td>E1</td>\n",
       "    </tr>\n",
       "  </tbody>\n",
       "</table>\n",
       "</div>"
      ],
      "text/plain": [
       "       ID                                               path dist  duriteType  \\\n",
       "3   P0-E0           [[2, 2], [3, 2], [4, 2], [5, 2], [5, 1]]  0.4           4   \n",
       "8   P0-E1  [[2, 4], [3, 4], [4, 4], [5, 4], [5, 3], [5, 2...  0.6           4   \n",
       "13  P0-E2           [[7, 3], [6, 3], [5, 3], [5, 2], [5, 1]]  0.4           4   \n",
       "15  E1-E0                           [[2, 2], [2, 3], [2, 4]]  0.2           4   \n",
       "16  E2-E0  [[2, 2], [3, 2], [4, 2], [5, 2], [6, 2], [7, 2...  0.6           4   \n",
       "17  E2-E1  [[2, 4], [3, 4], [4, 4], [5, 4], [6, 4], [7, 4...  0.6           4   \n",
       "\n",
       "    duriteVal   a   b  \n",
       "3    0.000235  P0  E0  \n",
       "8    0.000235  P0  E1  \n",
       "13   0.000235  P0  E2  \n",
       "15   0.000235  E1  E0  \n",
       "16   0.000235  E2  E0  \n",
       "17   0.000235  E2  E1  "
      ]
     },
     "execution_count": 88,
     "metadata": {},
     "output_type": "execute_result"
    },
    {
     "data": {
      "text/plain": [
       "array(['P0', 'E0'], dtype=object)"
      ]
     },
     "execution_count": 88,
     "metadata": {},
     "output_type": "execute_result"
    },
    {
     "data": {
      "text/plain": [
       "'E0'"
      ]
     },
     "execution_count": 88,
     "metadata": {},
     "output_type": "execute_result"
    },
    {
     "data": {
      "text/html": [
       "<div>\n",
       "<style scoped>\n",
       "    .dataframe tbody tr th:only-of-type {\n",
       "        vertical-align: middle;\n",
       "    }\n",
       "\n",
       "    .dataframe tbody tr th {\n",
       "        vertical-align: top;\n",
       "    }\n",
       "\n",
       "    .dataframe thead th {\n",
       "        text-align: right;\n",
       "    }\n",
       "</style>\n",
       "<table border=\"1\" class=\"dataframe\">\n",
       "  <thead>\n",
       "    <tr style=\"text-align: right;\">\n",
       "      <th></th>\n",
       "      <th>ID</th>\n",
       "      <th>path</th>\n",
       "      <th>dist</th>\n",
       "      <th>duriteType</th>\n",
       "      <th>duriteVal</th>\n",
       "      <th>a</th>\n",
       "      <th>b</th>\n",
       "    </tr>\n",
       "  </thead>\n",
       "  <tbody>\n",
       "    <tr>\n",
       "      <th>8</th>\n",
       "      <td>P0-E1</td>\n",
       "      <td>[[2, 4], [3, 4], [4, 4], [5, 4], [5, 3], [5, 2...</td>\n",
       "      <td>0.6</td>\n",
       "      <td>4</td>\n",
       "      <td>0.000235</td>\n",
       "      <td>P0</td>\n",
       "      <td>E1</td>\n",
       "    </tr>\n",
       "    <tr>\n",
       "      <th>13</th>\n",
       "      <td>P0-E2</td>\n",
       "      <td>[[7, 3], [6, 3], [5, 3], [5, 2], [5, 1]]</td>\n",
       "      <td>0.4</td>\n",
       "      <td>4</td>\n",
       "      <td>0.000235</td>\n",
       "      <td>P0</td>\n",
       "      <td>E2</td>\n",
       "    </tr>\n",
       "    <tr>\n",
       "      <th>17</th>\n",
       "      <td>E2-E1</td>\n",
       "      <td>[[2, 4], [3, 4], [4, 4], [5, 4], [6, 4], [7, 4...</td>\n",
       "      <td>0.6</td>\n",
       "      <td>4</td>\n",
       "      <td>0.000235</td>\n",
       "      <td>E2</td>\n",
       "      <td>E1</td>\n",
       "    </tr>\n",
       "  </tbody>\n",
       "</table>\n",
       "</div>"
      ],
      "text/plain": [
       "       ID                                               path dist  duriteType  \\\n",
       "8   P0-E1  [[2, 4], [3, 4], [4, 4], [5, 4], [5, 3], [5, 2...  0.6           4   \n",
       "13  P0-E2           [[7, 3], [6, 3], [5, 3], [5, 2], [5, 1]]  0.4           4   \n",
       "17  E2-E1  [[2, 4], [3, 4], [4, 4], [5, 4], [6, 4], [7, 4...  0.6           4   \n",
       "\n",
       "    duriteVal   a   b  \n",
       "8    0.000235  P0  E1  \n",
       "13   0.000235  P0  E2  \n",
       "17   0.000235  E2  E1  "
      ]
     },
     "execution_count": 88,
     "metadata": {},
     "output_type": "execute_result"
    },
    {
     "data": {
      "text/plain": [
       "array(['P0', 'E2'], dtype=object)"
      ]
     },
     "execution_count": 88,
     "metadata": {},
     "output_type": "execute_result"
    },
    {
     "data": {
      "text/plain": [
       "'E2'"
      ]
     },
     "execution_count": 88,
     "metadata": {},
     "output_type": "execute_result"
    },
    {
     "data": {
      "text/html": [
       "<div>\n",
       "<style scoped>\n",
       "    .dataframe tbody tr th:only-of-type {\n",
       "        vertical-align: middle;\n",
       "    }\n",
       "\n",
       "    .dataframe tbody tr th {\n",
       "        vertical-align: top;\n",
       "    }\n",
       "\n",
       "    .dataframe thead th {\n",
       "        text-align: right;\n",
       "    }\n",
       "</style>\n",
       "<table border=\"1\" class=\"dataframe\">\n",
       "  <thead>\n",
       "    <tr style=\"text-align: right;\">\n",
       "      <th></th>\n",
       "      <th>ID</th>\n",
       "      <th>path</th>\n",
       "      <th>dist</th>\n",
       "      <th>duriteType</th>\n",
       "      <th>duriteVal</th>\n",
       "      <th>a</th>\n",
       "      <th>b</th>\n",
       "    </tr>\n",
       "  </thead>\n",
       "  <tbody>\n",
       "    <tr>\n",
       "      <th>8</th>\n",
       "      <td>P0-E1</td>\n",
       "      <td>[[2, 4], [3, 4], [4, 4], [5, 4], [5, 3], [5, 2...</td>\n",
       "      <td>0.6</td>\n",
       "      <td>4</td>\n",
       "      <td>0.000235</td>\n",
       "      <td>P0</td>\n",
       "      <td>E1</td>\n",
       "    </tr>\n",
       "  </tbody>\n",
       "</table>\n",
       "</div>"
      ],
      "text/plain": [
       "      ID                                               path dist  duriteType  \\\n",
       "8  P0-E1  [[2, 4], [3, 4], [4, 4], [5, 4], [5, 3], [5, 2...  0.6           4   \n",
       "\n",
       "   duriteVal   a   b  \n",
       "8   0.000235  P0  E1  "
      ]
     },
     "execution_count": 88,
     "metadata": {},
     "output_type": "execute_result"
    },
    {
     "data": {
      "text/plain": [
       "array(['P0', 'E1'], dtype=object)"
      ]
     },
     "execution_count": 88,
     "metadata": {},
     "output_type": "execute_result"
    },
    {
     "data": {
      "text/plain": [
       "'E1'"
      ]
     },
     "execution_count": 88,
     "metadata": {},
     "output_type": "execute_result"
    },
    {
     "data": {
      "text/plain": [
       "['P0', 'E0', 'E2', 'E1']"
      ]
     },
     "execution_count": 88,
     "metadata": {},
     "output_type": "execute_result"
    },
    {
     "data": {
      "text/plain": [
       "['P0-E0', 'P0-E2', 'P0-E1']"
      ]
     },
     "execution_count": 88,
     "metadata": {},
     "output_type": "execute_result"
    }
   ],
   "source": [
    "dist_Connect = indiv['dist_Connect']\n",
    "New_dist_Connect = copy.deepcopy(dist_Connect)\n",
    "BusName = copy.deepcopy(indiv['Name'])\n",
    "Pconnect = copy.deepcopy(indiv['Pconnect'])\n",
    "\n",
    "dfx0 = algo.dfline.copy()\n",
    "dfx0['a'] = dfx0.ID.str.split('-').str[0]\n",
    "dfx0['b'] = dfx0.ID.str.split('-').str[1]\n",
    "\n",
    "NameListNew  = []\n",
    "DictMapName = {}\n",
    "BusConnectDict = []\n",
    "\n",
    "for i, (p,Elist) in enumerate(Pconnect.items()): \n",
    "    break\n",
    "# p,Elist = Pconnect.items()  \n",
    "print(i, (p,Elist))\n",
    "# Elist.pop(1)\n",
    "\n",
    "s = 'P{}'.format(p)\n",
    "ElistName = ['E{}'.format(e) for e in Elist]\n",
    "ListMask = [s] + ElistName\n",
    "ListMask\n",
    "mask0 = dfx0.a.isin(ListMask) & dfx0.b.isin(ListMask)\n",
    "dfx = dfx0[mask0].copy()\n",
    "path,dist,lines = [s] ,[], []\n",
    "# pour chaque slot de P commence avec s = Px et avance par iter sur le plus proche E & crop  dfx = dfline \n",
    "# l'astuce c'est que qu'on conserve les lines P-E mais en changeant les valeurs de dist\n",
    "\n",
    "while len(dfx)>0:\n",
    "    dfx\n",
    "    mask = dfx.ID.str.contains(s)\n",
    "    x  = dfx[mask].dist.values.argmin()    \n",
    "    cx = dfx[mask][['a','b']].iloc[x].values\n",
    "    cx\n",
    "    line = dfx[mask].iloc[x].ID\n",
    "    lines.append(line)\n",
    "    NameListNew.append(line)\n",
    "    dist.append(dfx[mask].dist.values.min())    \n",
    "#     dfx = dfx[~mask]\n",
    "    s2 = cx[cx!=s][0]\n",
    "    s2\n",
    "    mask = dfx.ID.str.contains(s2)\n",
    "    dfx = dfx[~mask]\n",
    "#     dfx\n",
    "    path.append(s2)\n",
    "    \n",
    "path\n",
    "lines\n",
    "# distCumsum = np.array(dist).cumsum()\n",
    "# PxConnect = ['{}-{}'.format(path[0],s) for s in path[1:]]\n",
    "# DictMapName.update(dict(zip(PxConnect,lines)))\n",
    "# # print(p,Elist, PxConnect)   \n",
    "# d = dict(zip(PxConnect,distCumsum))\n",
    "# #     BusConnectDict[p].append()\n",
    "# New_dist_Connect.update(d)\n",
    "# print('bus',path[0], p,Elist, PxConnect,path,lines,dist, distCumsum, New_dist_Connect)"
   ]
  },
  {
   "cell_type": "code",
   "execution_count": 58,
   "id": "b4337eea",
   "metadata": {},
   "outputs": [
    {
     "data": {
      "text/plain": [
       "((0, [0, 1, 2]),)"
      ]
     },
     "execution_count": 58,
     "metadata": {},
     "output_type": "execute_result"
    }
   ],
   "source": [
    "tuple(Pconnect.items())"
   ]
  },
  {
   "cell_type": "code",
   "execution_count": 75,
   "id": "da637bf6",
   "metadata": {},
   "outputs": [
    {
     "data": {
      "text/plain": [
       "{0: [0, 2]}"
      ]
     },
     "execution_count": 75,
     "metadata": {},
     "output_type": "execute_result"
    }
   ],
   "source": [
    "Pconnect"
   ]
  },
  {
   "cell_type": "markdown",
   "id": "08d75be5",
   "metadata": {},
   "source": [
    "## indiv"
   ]
  },
  {
   "cell_type": "markdown",
   "id": "9e151790",
   "metadata": {},
   "source": [
    "### Bus (commentaire) a lire !!!"
   ]
  },
  {
   "cell_type": "code",
   "execution_count": 4,
   "id": "d0ae137d",
   "metadata": {},
   "outputs": [],
   "source": [
    "algo.Group = True\n",
    "algo.GroupDict = [1,0,1,2,2]\n",
    "algo.GroupDict = [1,0,1,0,0]"
   ]
  },
  {
   "cell_type": "code",
   "execution_count": 5,
   "id": "a4f3e370",
   "metadata": {},
   "outputs": [
    {
     "name": "stdout",
     "output_type": "stream",
     "text": [
      "Indiv_reverse [0, 1, 2, 3, 4] [0, 1, 0, 1, 2] [0, 0, 0]\n",
      "0 (0, [0, 1, 2])\n",
      "bus P0 0 [0, 1, 2] ['P0-E2', 'P0-E0', 'P0-E1'] ['P0', 'E2', 'E0', 'E1'] ['P0-E2', 'E2-E0', 'E1-E0'] [0.2, 0.4, 0.2] [0.2 0.6 0.8] ['P0-E2', 'P0-E0', 'P0-E1']\n"
     ]
    },
    {
     "data": {
      "text/plain": [
       "{0: [0, 1, 2]}"
      ]
     },
     "execution_count": 5,
     "metadata": {},
     "output_type": "execute_result"
    }
   ],
   "source": [
    "algo.BusActif = True\n",
    "algo.Npc = 0\n",
    "# indiv  = Indiv_reverse('E0-C0,E0-C1,E2-C2,P0-E0,P0-E1,P0-E2',algo)\n",
    "indiv  = Indiv_reverse('E0-C0,E1-C1,E1-C3,E2-C4,E0-C2,P0-E0,P0-E1,P0-E2',algo)\n",
    "indiv['Pconnect']"
   ]
  },
  {
   "cell_type": "code",
   "execution_count": 6,
   "id": "ab4bb916",
   "metadata": {},
   "outputs": [
    {
     "data": {
      "text/plain": [
       "{0: 0, 2: 0, 1: 1, 3: 1, 4: 2}"
      ]
     },
     "execution_count": 6,
     "metadata": {},
     "output_type": "execute_result"
    }
   ],
   "source": [
    "Cconnect =  { v: k for k, l in indiv['Econnect'].items() for v in l }\n",
    "Cconnect"
   ]
  },
  {
   "cell_type": "raw",
   "id": "865d8db9",
   "metadata": {},
   "source": [
    "ClistDict = {1:[2], 0: [0]}"
   ]
  },
  {
   "cell_type": "raw",
   "id": "6d272522",
   "metadata": {},
   "source": [
    "{\n",
    "    0 : {0:[1]},\n",
    "    1 : {0:[0],1:[2]}\n",
    "}"
   ]
  },
  {
   "cell_type": "code",
   "execution_count": 7,
   "id": "62966767",
   "metadata": {},
   "outputs": [
    {
     "data": {
      "text/plain": [
       "[{'p': 0, 'e': [2, 0, 1]}]"
      ]
     },
     "execution_count": 7,
     "metadata": {},
     "output_type": "execute_result"
    }
   ],
   "source": [
    "indiv['BusConnectDict']"
   ]
  },
  {
   "cell_type": "code",
   "execution_count": 8,
   "id": "42ec39a9",
   "metadata": {},
   "outputs": [
    {
     "data": {
      "text/plain": [
       "[{'p': 0, 'e': [2, 0, 1]}]"
      ]
     },
     "execution_count": 8,
     "metadata": {},
     "output_type": "execute_result"
    },
    {
     "name": "stdout",
     "output_type": "stream",
     "text": [
      "{0: [4, 1, 3], 1: [0, 2]} [0, 1]\n"
     ]
    },
    {
     "data": {
      "text/plain": [
       "[{'ty': '',\n",
       "  'p': 0,\n",
       "  'e': [2, 0, 1],\n",
       "  'gr': {0: [4, 1, 3], 1: [0, 2]},\n",
       "  'pt': 'Pa',\n",
       "  'bus': {0: {2: [4], 1: [1, 3]}, 1: {0: [0, 2]}}}]"
      ]
     },
     "execution_count": 8,
     "metadata": {},
     "output_type": "execute_result"
    }
   ],
   "source": [
    "# !!!  A REFAIRE\n",
    "GroupDict = algo.GroupDict\n",
    "# GroupDict\n",
    "Econnect = indiv['Econnect']\n",
    "Ptype = indiv['Ptype']\n",
    "IndivLine = []\n",
    "DictX = {}\n",
    "indiv['BusConnectDict']\n",
    "# loop sur BusConnectDict generer via func bus_connection qui doit prendre en compte le remove des PtoE \n",
    "# list les mutiple connection au meme slot de pompe = remove ou autre solution \n",
    "for d in indiv['BusConnectDict']:\n",
    "#     GrList = []\n",
    "    p, Elist = d.values()\n",
    "    pt = 'Pa'   # !!! probleme retrouver pt qui est indexé differement noramleemnt Ptype[i]\n",
    "    gr = collections.defaultdict(list)\n",
    "    # on fait 1 le dict des group par {gr : c}  \n",
    "    for e in Elist:\n",
    "        for c in indiv['Econnect'][e]:\n",
    "            gr[GroupDict[c]].append(c) \n",
    "    gr = dict(gr)\n",
    "    print(gr, sorted(gr))\n",
    "    # etape la plus bizarre on utile le nouveau Connect pour organiser les ev dans l'ordre et par groupe pour juste lister ensuite dans calcul debit\n",
    "    for n in sorted(gr): # pas sur quie le sorted serve a quelque chose \n",
    "        g = gr[n]\n",
    "        d = collections.defaultdict(list)\n",
    "        for c in g :\n",
    "            e = Cconnect[c]\n",
    "            d[e].append(c)\n",
    "        DictX[n] = dict(d)\n",
    "        \n",
    "        \n",
    "    conf = dict(\n",
    "        ty = '',\n",
    "        p = p,\n",
    "        e = Elist,\n",
    "        gr = gr,\n",
    "        pt = 'Pa',\n",
    "        bus = DictX\n",
    "    )\n",
    "    IndivLine.append(conf)\n",
    "IndivLine"
   ]
  },
  {
   "cell_type": "code",
   "execution_count": 9,
   "id": "b0065686",
   "metadata": {},
   "outputs": [
    {
     "name": "stdout",
     "output_type": "stream",
     "text": [
      "(10, 7)\n"
     ]
    },
    {
     "data": {
      "image/png": "[encoded data removed]",
      "text/plain": [
       "<Figure size 500x500 with 1 Axes>"
      ]
     },
     "metadata": {},
     "output_type": "display_data"
    }
   ],
   "source": [
    "# Plot\n",
    "row = pd.Series(indiv)\n",
    "ElemsList = ['Clist','Elist','Plist']\n",
    "Elems = ['C','E','P']\n",
    "SelectSlot = []\n",
    "List_EtoC = row.List_EtoC\n",
    "List_PtoE = row.List_PtoE\n",
    "for n in range(3):\n",
    "    SelectSlot+= ['{}{}'.format(Elems[n],i) for i in row[ElemsList[n]]]\n",
    "SelectLine = row.Name\n",
    "if row.Option == 'Bus' :   SelectLine = row.BusName                \n",
    "fig = new_plot(algo, SelectLine, SelectSlot)\n",
    "fig.set_size_inches(5,5)"
   ]
  },
  {
   "cell_type": "markdown",
   "id": "e5ba0c72",
   "metadata": {
    "heading_collapsed": true
   },
   "source": [
    "#### Save"
   ]
  },
  {
   "cell_type": "raw",
   "id": "642aff80",
   "metadata": {
    "hidden": true
   },
   "source": [
    "algo.BusActif = True\n",
    "algo.Npc = 0\n",
    "\n",
    "# indiv  = Indiv_reverse('E0-C0,E0-C1,E1-C2,P0-E0,P0-E1',algo)\n",
    "# indiv  = Indiv_reverse('E0-C0,E1-C1,E2-C2,P0-E0,P0-E1,P0-E2',algo)\n",
    "indiv  = Indiv_reverse('E0-C0,E0-C1,E2-C2,P0-E0,P0-E2',algo)\n",
    "indiv['Pconnect']\n",
    "indiv['BusConnectDict']\n",
    "# indiv['dist_Connect']\n",
    "# indiv['BusDist']\n",
    "# Calcul_Debit(algo ,indiv, 'Deactivate')"
   ]
  },
  {
   "cell_type": "raw",
   "id": "2a66515d",
   "metadata": {
    "hidden": true
   },
   "source": [
    "GroupDict = algo.GroupDict\n",
    "# GroupDict\n",
    "Econnect = indiv['Econnect']\n",
    "Ptype = indiv['Ptype']\n",
    "IndivLine = []\n",
    "for i, (p,Elist) in enumerate(indiv['Pconnect'].items()):\n",
    "    pt = Ptype[i]\n",
    "    for e in Elist:\n",
    "        gr = collections.defaultdict(list)\n",
    "        for c in indiv['Econnect'][e]:\n",
    "            gr[GroupDict[c]].append(c)       \n",
    "        \n",
    "        conf = dict(\n",
    "            ty = '',\n",
    "            p = p,\n",
    "            e = e,\n",
    "            gr = gr,\n",
    "            pt = pt,\n",
    "        )\n",
    "        IndivLine.append(conf)\n",
    "IndivLine\n",
    "for conf in IndivLine: \n",
    "    ty, p, e, gr, pt = conf.values()\n",
    "    for g,ClistG in gr.items():\n",
    "        ClistG\n",
    "        if g == 0 : grouped = False\n",
    "        else : grouped = True\n",
    "        debitinput = dict(\n",
    "            p = p,\n",
    "            e = e,\n",
    "            ClistG = ClistG,\n",
    "            pt = pt,             \n",
    "        )    \n",
    "        debit(algo,indiv,debitinput, grouped = grouped, split = False)    "
   ]
  },
  {
   "cell_type": "markdown",
   "id": "0338c4d3",
   "metadata": {},
   "source": [
    "### Non bus"
   ]
  },
  {
   "cell_type": "code",
   "execution_count": 15,
   "id": "bad71e6b",
   "metadata": {},
   "outputs": [],
   "source": [
    "algo.Group = True\n",
    "algo.GroupDict = [1,1,0]"
   ]
  },
  {
   "cell_type": "code",
   "execution_count": 16,
   "id": "c4d36e80",
   "metadata": {},
   "outputs": [
    {
     "name": "stdout",
     "output_type": "stream",
     "text": [
      "Indiv_reverse [0, 1, 2] [0, 0, 0] [0]\n"
     ]
    },
    {
     "data": {
      "text/plain": [
       "{'E0-C0': 0.3, 'E0-C1': 0.5, 'E0-C2': 0.8, 'P0-E0': 0.4}"
      ]
     },
     "execution_count": 16,
     "metadata": {},
     "output_type": "execute_result"
    },
    {
     "data": {
      "text/plain": [
       "([],)"
      ]
     },
     "execution_count": 16,
     "metadata": {},
     "output_type": "execute_result"
    },
    {
     "data": {
      "text/plain": [
       "{0: [0]}"
      ]
     },
     "execution_count": 16,
     "metadata": {},
     "output_type": "execute_result"
    },
    {
     "data": {
      "text/plain": [
       "{0: [0, 1, 2]}"
      ]
     },
     "execution_count": 16,
     "metadata": {},
     "output_type": "execute_result"
    }
   ],
   "source": [
    "algo.BusActif = False\n",
    "algo.Npc = 0\n",
    "\n",
    "indiv  = Indiv_reverse('E0-C0,E0-C1,E0-C2,P0-E0',algo)\n",
    "indiv['dist_Connect']\n",
    "indiv['BusDist']\n",
    "indiv['Pconnect']\n",
    "indiv['Econnect']\n",
    "# Calcul_Debit(algo ,indiv, 'Deactivate')"
   ]
  },
  {
   "cell_type": "code",
   "execution_count": 17,
   "id": "d34261bd",
   "metadata": {},
   "outputs": [],
   "source": [
    "def Indiv_Conf(algo, indiv): \n",
    "    GroupDict = algo.GroupDict\n",
    "    # GroupDict\n",
    "    Econnect = indiv['Econnect']\n",
    "    Ptype = indiv['Ptype']\n",
    "    IndivLine = []\n",
    "    for i, (p,Elist) in enumerate(indiv['Pconnect'].items()):\n",
    "        pt = Ptype[i]\n",
    "        for e in Elist:\n",
    "            gr = collections.defaultdict(list)\n",
    "            for c in indiv['Econnect'][e]:\n",
    "                gr[GroupDict[c]].append(c)       \n",
    "\n",
    "            conf = dict(\n",
    "                ty = '',\n",
    "                p = p,\n",
    "                e = e,\n",
    "                gr = gr,\n",
    "                pt = pt,\n",
    "            )\n",
    "            IndivLine.append(conf)\n",
    "    return IndivLine"
   ]
  },
  {
   "cell_type": "code",
   "execution_count": 19,
   "id": "a321df6b",
   "metadata": {},
   "outputs": [
    {
     "name": "stdout",
     "output_type": "stream",
     "text": [
      "{'ty': '', 'p': 0, 'e': 0, 'gr': defaultdict(<class 'list'>, {1: [0, 1], 0: [2]}), 'pt': 'Pa'}\n"
     ]
    },
    {
     "data": {
      "text/plain": [
       "[{'ty': '',\n",
       "  'p': 0,\n",
       "  'e': 0,\n",
       "  'gr': defaultdict(list, {1: [0, 1], 0: [2]}),\n",
       "  'pt': 'Pa'}]"
      ]
     },
     "execution_count": 19,
     "metadata": {},
     "output_type": "execute_result"
    },
    {
     "data": {
      "text/plain": [
       "[0, 1]"
      ]
     },
     "execution_count": 19,
     "metadata": {},
     "output_type": "execute_result"
    },
    {
     "data": {
      "text/plain": [
       "{'Qt': 21.49,\n",
       " 'Pt': 4.26,\n",
       " 'Qi': array([10.75, 10.74]),\n",
       " 'Pi': array([4.16, 4.16])}"
      ]
     },
     "execution_count": 19,
     "metadata": {},
     "output_type": "execute_result"
    },
    {
     "data": {
      "text/plain": [
       "[2]"
      ]
     },
     "execution_count": 19,
     "metadata": {},
     "output_type": "execute_result"
    },
    {
     "data": {
      "text/plain": [
       "{'Qt': array([11.18]),\n",
       " 'Pt': array([4.62]),\n",
       " 'Qi': array([11.18]),\n",
       " 'Pi': array([4.5])}"
      ]
     },
     "execution_count": 19,
     "metadata": {},
     "output_type": "execute_result"
    }
   ],
   "source": [
    "GroupDict = algo.GroupDict\n",
    "# GroupDict\n",
    "Econnect = indiv['Econnect']\n",
    "Ptype = indiv['Ptype']\n",
    "IndivLine = []\n",
    "for i, (p,Elist) in enumerate(indiv['Pconnect'].items()):\n",
    "    pt = Ptype[i]\n",
    "    for e in Elist:\n",
    "        gr = collections.defaultdict(list)\n",
    "        for c in indiv['Econnect'][e]:\n",
    "            gr[GroupDict[c]].append(c)       \n",
    "        \n",
    "        conf = dict(\n",
    "            ty = '',\n",
    "            p = p,\n",
    "            e = e,\n",
    "            gr = gr,\n",
    "            pt = pt,\n",
    "        )\n",
    "        print(conf)\n",
    "        IndivLine.append(conf)\n",
    "IndivLine\n",
    "for conf in IndivLine: \n",
    "    ty, p, e, gr, pt = conf.values()\n",
    "    for g,ClistG in gr.items():\n",
    "        ClistG\n",
    "        if g == 0 : grouped = False\n",
    "        else : grouped = True\n",
    "        debitinput = dict(\n",
    "            p = p,\n",
    "            e = e,\n",
    "            ClistG = ClistG,\n",
    "            pt = pt,             \n",
    "        )    \n",
    "        debit(algo,indiv,debitinput, grouped = grouped, split = False)    "
   ]
  },
  {
   "cell_type": "code",
   "execution_count": 19,
   "id": "63ae249f",
   "metadata": {},
   "outputs": [
    {
     "name": "stdout",
     "output_type": "stream",
     "text": [
      "(10, 7)\n"
     ]
    },
    {
     "data": {
      "image/png": "[encoded data removed]",
      "text/plain": [
       "<Figure size 500x500 with 1 Axes>"
      ]
     },
     "metadata": {},
     "output_type": "display_data"
    }
   ],
   "source": [
    "# Plot\n",
    "row = pd.Series(indiv)\n",
    "ElemsList = ['Clist','Elist','Plist']\n",
    "Elems = ['C','E','P']\n",
    "SelectSlot = []\n",
    "List_EtoC = row.List_EtoC\n",
    "List_PtoE = row.List_PtoE\n",
    "for n in range(3):\n",
    "    SelectSlot+= ['{}{}'.format(Elems[n],i) for i in row[ElemsList[n]]]\n",
    "SelectLine = row.Name\n",
    "if row.Option == 'Bus' :   SelectLine = row.BusName                \n",
    "fig = new_plot(algo, SelectLine, SelectSlot)\n",
    "fig.set_size_inches(5,5)"
   ]
  },
  {
   "cell_type": "code",
   "execution_count": 131,
   "id": "bbe07dd5",
   "metadata": {},
   "outputs": [
    {
     "data": {
      "text/plain": [
       "['E0-C0', 'E0-C1', 'E1-C2', 'P0-E0', 'P1-E1']"
      ]
     },
     "execution_count": 131,
     "metadata": {},
     "output_type": "execute_result"
    },
    {
     "data": {
      "text/plain": [
       "{'E0-C0': 0.5, 'E0-C1': 0.4, 'E1-C2': 0.4, 'P0-E0': 0.3, 'P1-E1': 0.3}"
      ]
     },
     "execution_count": 131,
     "metadata": {},
     "output_type": "execute_result"
    },
    {
     "data": {
      "text/plain": [
       "{'E0-C0': 0.5, 'E0-C1': 0.4, 'E1-C2': 0.4, 'P0-E0': 0.3, 'P1-E1': 0.3}"
      ]
     },
     "execution_count": 131,
     "metadata": {},
     "output_type": "execute_result"
    }
   ],
   "source": [
    "indiv['BusName'] \n",
    "indiv['BusDist']\n",
    "indiv['dist_Connect']"
   ]
  },
  {
   "cell_type": "code",
   "execution_count": 39,
   "id": "c997bc60",
   "metadata": {
    "collapsed": true
   },
   "outputs": [
    {
     "data": {
      "text/plain": [
       "{'Clist': [0, 1, 2],\n",
       " 'CtoE': [0, 1, 2],\n",
       " 'Econnect': {0: [0], 1: [1], 2: [2]},\n",
       " 'Elist': [0, 1, 2],\n",
       " 'Ecount': 3,\n",
       " 'EtoP': [0, 0, 0],\n",
       " 'Pconnect': {0: [0, 2]},\n",
       " 'Plist': [0],\n",
       " 'Pcount': 1,\n",
       " 'Ptype0': array(['Pa', 'Pa', 'Pa'], dtype='<U2'),\n",
       " 'List_EtoC': [['E0-C0'], ['E1-C1'], ['E2-C2']],\n",
       " 'List_PtoE': [['P0-E0', 'P0-E1', 'P0-E2']],\n",
       " 'Name': ['E0-C0', 'E1-C1', 'E2-C2', 'P0-E0', 'P0-E1', 'P0-E2'],\n",
       " 'ID': 10,\n",
       " 'parent': [],\n",
       " 'Name_txt': 'E0-C0,E1-C1,E2-C2,P0-E0,P0-E1,P0-E2',\n",
       " 'Epoch': 0,\n",
       " 'Option': 'Bus',\n",
       " 'Ptype': ['Pa', 'Pa', 'Pa'],\n",
       " 'dist_Connect': {'E0-C0': 0.3,\n",
       "  'E1-C1': 0.3,\n",
       "  'E2-C2': 0.2,\n",
       "  'P0-E0': 0.4,\n",
       "  'P0-E1': 0.6,\n",
       "  'P0-E2': 1.0},\n",
       " 'dist': 240,\n",
       " 'BusName': ['E0-C0', 'E1-C1', 'E2-C2', 'P0-E0', 'P0-E1', 'E2-E0'],\n",
       " 'BusDist': {'E0-C0': 0.3,\n",
       "  'E1-C1': 0.3,\n",
       "  'E2-C2': 0.2,\n",
       "  'P0-E0': 0.4,\n",
       "  'P0-E1': 0.6,\n",
       "  'P0-E2': 0.6},\n",
       " 'PtypeCo': {0: ['Pa', 'Pa', 'Pa']},\n",
       " 'PompesCo': {0: ['Pa']},\n",
       " 'PompeCount': {'P0': {'Pa': 1}},\n",
       " 'PompeSum': {'Pa': 1},\n",
       " 'duriteVal': {'E0-C0': 0.000235,\n",
       "  'E1-C1': 0.000235,\n",
       "  'E2-C2': 0.000235,\n",
       "  'P0-E0': 0.000235,\n",
       "  'P0-E1': 0.000235,\n",
       "  'P0-E2': 0.000235},\n",
       " 'PressionList': [4.52, 4.51, 4.5],\n",
       " 'DebitList': [11.2, 11.19, 11.18],\n",
       " 'Esplit': {0: [0], 1: [1], 2: [2]},\n",
       " 'Debit': 33.6,\n",
       " 'EvCount': {'E0': 1, 'E1': 1, 'E2': 1},\n",
       " 'EvSum': 3,\n",
       " 'Masse': 1176,\n",
       " 'Cout': 51,\n",
       " 'DetailsMasse': {'Pompe': 136.0,\n",
       "  'Tuyau': 110.4,\n",
       "  'EV': 330.0,\n",
       "  'Reservoir': 600},\n",
       " 'DetailsCout': {'Pompe': 2.5, 'Tuyau': 0.8, 'EV': 18.0, 'Reservoir': 30},\n",
       " 'fitness': 240,\n",
       " 'Alive': True}"
      ]
     },
     "execution_count": 39,
     "metadata": {},
     "output_type": "execute_result"
    }
   ],
   "source": [
    "indiv"
   ]
  },
  {
   "cell_type": "markdown",
   "id": "46d2c537",
   "metadata": {
    "heading_collapsed": true
   },
   "source": [
    "## test unitaire comme sur tableau excel "
   ]
  },
  {
   "cell_type": "code",
   "execution_count": 12,
   "id": "f16e10a6",
   "metadata": {
    "hidden": true
   },
   "outputs": [
    {
     "data": {
      "text/plain": [
       "(array([0.3]), 0.4)"
      ]
     },
     "execution_count": 12,
     "metadata": {},
     "output_type": "execute_result"
    },
    {
     "data": {
      "text/plain": [
       "[-0.000516, -0.0154, 4.87]"
      ]
     },
     "execution_count": 12,
     "metadata": {},
     "output_type": "execute_result"
    },
    {
     "data": {
      "text/plain": [
       "(0.000764, [1, 1, 1], array([0.000235]), array([0.036]))"
      ]
     },
     "execution_count": 12,
     "metadata": {},
     "output_type": "execute_result"
    },
    {
     "data": {
      "text/plain": [
       "(-0.000516, -0.0154, 4.87)"
      ]
     },
     "execution_count": 12,
     "metadata": {},
     "output_type": "execute_result"
    },
    {
     "data": {
      "text/plain": [
       "array([0.036999, 0.036999, 0.036999])"
      ]
     },
     "execution_count": 12,
     "metadata": {},
     "output_type": "execute_result"
    }
   ],
   "source": [
    "debitinput ={'p': 0, 'e': 0, 'ClistG': [0], 'pt': 'Pa'}\n",
    "pompe,ev,ClistG,pt = debitinput.values()\n",
    "d_EtoC_list = np.array([algo.dist['E{}-C{}'.format(ev,c)] for c in ClistG])\n",
    "d_PtoE      = indiv['dist_Connect']['P{}-E{}'.format(pompe,ev)]\n",
    "d_EtoC_list, d_PtoE\n",
    "d_EtoC_list = [1,1,1]\n",
    "d_PtoE = 1\n",
    "p = [algo.DataCategorie['Pompe']['Values'][pt][i] for i in ['a','b','c']]\n",
    "p\n",
    "grouped = True\n",
    "split = False\n",
    "cE0 = 7.64e-04\n",
    "coef_E = 0 if split else cE0\n",
    "\n",
    "coef_C  = 0.036\n",
    "coef_C  = [algo.Nvals[i] for i in ClistG]\n",
    "coef_C  = np.array(coef_C)\n",
    "coef_d_EtoC  = 2.35e-04\n",
    "coef_d_EtoC = np.array([algo.duriteVal['E{}-C{}'.format(ev,c)] for c in ClistG])\n",
    "# coef_d_PtoE = algo.duriteVal['P{}-E{}'.format(pompe,ev)] \n",
    "coef_d_PtoE = indiv['duriteVal']['P{}-E{}'.format(pompe,ev)] \n",
    "a,b,c = [algo.DataCategorie['Pompe']['Values'][pt][i] for i in ['a','b','c']]\n",
    "A = coef_E + d_EtoC_list * coef_d_EtoC + coef_C \n",
    "coef_E ,d_EtoC_list,  coef_d_EtoC, coef_C\n",
    "a,b,c\n",
    "A"
   ]
  },
  {
   "cell_type": "code",
   "execution_count": 28,
   "id": "b148fe05",
   "metadata": {
    "hidden": true
   },
   "outputs": [
    {
     "name": "stdout",
     "output_type": "stream",
     "text": [
      "83.3 µs ± 728 ns per loop (mean ± std. dev. of 7 runs, 10,000 loops each)\n"
     ]
    }
   ],
   "source": [
    "%%timeit\n",
    "Ncg=  2\n",
    "Ncm = 4\n",
    "cE0 = 7.64e-04\n",
    "coef_E =  cE0\n",
    "d_EtoC_list = np.ones(Ncg) * 1\n",
    "coef_d_EtoC = np.ones(Ncg) * 0.000235\n",
    "coef_C      = np.ones(Ncg) * 0.036\n",
    "# A = coef_E + d_EtoC_list * coef_d_EtoC + coef_C \n",
    "\n",
    "Q0 = np.arange(0.1,80)\n",
    "Qx = np.zeros(Q0.shape)\n",
    "# Qi = np.zeros((Ncm,len(Q0)))\n",
    "Qi = []\n",
    "\n",
    "G = a * Q0**2 + b*Q0 +c\n",
    "Nev = int(Ncm/Ncg)\n",
    "coef_d_PtoE = np.ones(Nev) * 0.000235\n",
    "Qlist = []\n",
    "\n",
    "for i in range(Nev):\n",
    "    G = G - coef_d_PtoE[i]*(Q0-Qx)**2\n",
    "    G[G <0] = 0\n",
    "    A = coef_E + d_EtoC_list * coef_d_EtoC + coef_C \n",
    "    Qlist.append(np.sqrt(G / A[:,np.newaxis]))\n",
    "    Qi = np.vstack(Qlist)\n",
    "    Qx = Qi.sum(0)\n",
    "#     Qi.shape\n",
    "#     Qi[i*Ncg:Ncg*(i+1),:] = np.sqrt(G / A[i*Ncg:Ncg*(i+1),np.newaxis])\n",
    "#     Qx = Qi.sum(0)\n",
    "\n",
    "idx = np.searchsorted(Q0 - Qx, -0)\n",
    "idx,Q0[idx],Qx[idx]\n",
    "\n",
    "# idx, Q0[idx],Qx[idx], Qi[:,idx], Qi.shape, G[idx]"
   ]
  },
  {
   "cell_type": "code",
   "execution_count": 30,
   "id": "ae6c5a0a",
   "metadata": {
    "hidden": true
   },
   "outputs": [
    {
     "name": "stdout",
     "output_type": "stream",
     "text": [
      "351 µs ± 5.38 µs per loop (mean ± std. dev. of 7 runs, 1,000 loops each)\n"
     ]
    }
   ],
   "source": [
    "%%timeit\n",
    "Ncg=  6\n",
    "Ncm = 60\n",
    "cE0 = 7.64e-04\n",
    "coef_E =  cE0\n",
    "d_EtoC_list = np.ones(Ncg) * 1\n",
    "coef_d_EtoC = np.ones(Ncg) * 0.000235\n",
    "coef_C      = np.ones(Ncg) * 0.036\n",
    "# A = coef_E + d_EtoC_list * coef_d_EtoC + coef_C \n",
    "\n",
    "Q0 = np.arange(0.1,80)\n",
    "Qx = np.zeros(Q0.shape)\n",
    "# Qi = np.zeros((Ncm,len(Q0)))\n",
    "Qi = []\n",
    "\n",
    "G = a * Q0**2 + b*Q0 +c\n",
    "Nev = int(Ncm/Ncg)\n",
    "coef_d_PtoE = np.ones(Nev) * 0.000235\n",
    "Qlist = []\n",
    "\n",
    "for i in range(Nev):\n",
    "    G = G - coef_d_PtoE[i]*(Q0-Qx)**2\n",
    "    G[G <0] = 0\n",
    "    A = coef_E + d_EtoC_list * coef_d_EtoC + coef_C \n",
    "    Qlist.append(np.sqrt(G / A[:,np.newaxis]))\n",
    "    Qi = np.vstack(Qlist)\n",
    "    Qx = Qi.sum(0)\n",
    "#     Qi.shape\n",
    "#     Qi[i*Ncg:Ncg*(i+1),:] = np.sqrt(G / A[i*Ncg:Ncg*(i+1),np.newaxis])\n",
    "#     Qx = Qi.sum(0)\n",
    "\n",
    "idx = np.searchsorted(Q0 - Qx, -0)\n",
    "idx,Q0[idx],Qx[idx]\n",
    "\n",
    "# idx, Q0[idx],Qx[idx], Qi[:,idx], Qi.shape, G[idx]"
   ]
  },
  {
   "cell_type": "code",
   "execution_count": 18,
   "id": "49e6aa1b",
   "metadata": {
    "hidden": true
   },
   "outputs": [
    {
     "data": {
      "image/png": "[encoded data removed]",
      "text/plain": [
       "<Figure size 640x480 with 1 Axes>"
      ]
     },
     "metadata": {},
     "output_type": "display_data"
    }
   ],
   "source": [
    "f = plt.plot(Q0,Qx)\n",
    "f = plt.plot(Q0,Q0)"
   ]
  },
  {
   "cell_type": "markdown",
   "id": "1cd905b1",
   "metadata": {
    "heading_collapsed": true
   },
   "source": [
    "## debit test unitaire indiv "
   ]
  },
  {
   "cell_type": "code",
   "execution_count": 63,
   "id": "08fed379",
   "metadata": {
    "hidden": true
   },
   "outputs": [
    {
     "data": {
      "text/plain": [
       "{'E0-C0': 0.000235,\n",
       " 'E0-C1': 0.000235,\n",
       " 'E2-C2': 0.000235,\n",
       " 'P0-E0': 0.000235,\n",
       " 'P0-E2': 0.000235}"
      ]
     },
     "execution_count": 63,
     "metadata": {},
     "output_type": "execute_result"
    }
   ],
   "source": [
    "indiv['duriteVal']"
   ]
  },
  {
   "cell_type": "code",
   "execution_count": null,
   "id": "fb9c92b0",
   "metadata": {
    "hidden": true
   },
   "outputs": [],
   "source": [
    "indiv['']"
   ]
  },
  {
   "cell_type": "code",
   "execution_count": 36,
   "id": "cb26eead",
   "metadata": {
    "hidden": true
   },
   "outputs": [
    {
     "data": {
      "text/plain": [
       "[{'ty': '',\n",
       "  'p': 0,\n",
       "  'e': [0, 2],\n",
       "  'gr': defaultdict(list, {1: [0, 2], 0: [1]}),\n",
       "  'pt': 'Pa',\n",
       "  'bus': {0: {0: [1]}, 1: {0: [0], 2: [2]}}}]"
      ]
     },
     "execution_count": 36,
     "metadata": {},
     "output_type": "execute_result"
    }
   ],
   "source": [
    "IndivLine"
   ]
  },
  {
   "cell_type": "code",
   "execution_count": 102,
   "id": "7bcee897",
   "metadata": {
    "hidden": true
   },
   "outputs": [
    {
     "name": "stdout",
     "output_type": "stream",
     "text": [
      "0 0 [0, 2]\n",
      "0.000764 [0.3 0.2] [0.000235 0.000235] [0.036 0.036] [0.0368345 0.036811 ]\n"
     ]
    },
    {
     "data": {
      "text/plain": [
       "array([10.81708505, 10.82053729])"
      ]
     },
     "execution_count": 102,
     "metadata": {},
     "output_type": "execute_result"
    },
    {
     "data": {
      "text/plain": [
       "('Alist', [array([0.0368345, 0.036811 ])])"
      ]
     },
     "execution_count": 102,
     "metadata": {},
     "output_type": "execute_result"
    },
    {
     "data": {
      "text/plain": [
       "array([4.30998013, 4.30998013])"
      ]
     },
     "execution_count": 102,
     "metadata": {},
     "output_type": "execute_result"
    }
   ],
   "source": [
    "# %%timeit\n",
    "ClistDict = {0:[0,1,2], 1:[3]}\n",
    "ClistDict = {0:[0,1], 1 : [2]}\n",
    "ClistDict = {0:[0,1]}\n",
    "ClistDict = {1:[2], 0: [0,1]}\n",
    " \n",
    "PtoElist = ['P0-E0','P0-E2']\n",
    "line = IndivLine[0]\n",
    "ClistDict = line['bus'][1]\n",
    "PtoElist = ['P{}-E{}'.format(0,e) for e in line['e']]\n",
    "EvList = [0,1]\n",
    "pompe = 0\n",
    "# coef_PtoE = [indiv['duriteVal'][line] * indiv['BusDist'][line] for line in PtoElist]\n",
    "# coef_PtoE\n",
    "coef_PtoE = [indiv['duriteVal'][line] * indiv['BusDist'][line] for line in PtoElist]\n",
    "pt = 'Pa'\n",
    "Q0 = np.arange(0.1,80,0.1)\n",
    "Qx = 0\n",
    "\n",
    "a,b,c = [algo.DataCategorie['Pompe']['Values'][pt][i] for i in ['a','b','c']]\n",
    "G = a * Q0**2 + b*Q0 +c\n",
    "\n",
    "Qlist = []\n",
    "Alist = []\n",
    "for i, (e,EClist) in enumerate( ClistDict.items()): # changer en list pour avoir l'ordre !!\n",
    "    print(i, e,EClist)\n",
    "    coef_C  = [algo.Nvals[i] for i in EClist]\n",
    "    coef_C  = np.array(coef_C)\n",
    "    d_EtoC = np.array([algo.dist['E{}-C{}'.format(e,c)] for c in EClist])\n",
    "    coef_d_EtoC = np.array([algo.duriteVal['E{}-C{}'.format(e,c)] for c in EClist])\n",
    "    coef_E = 7.64e-04  \n",
    "#     print(d_EtoC)\n",
    "\n",
    "    G = G - coef_PtoE[i]*(Q0-Qx)**2\n",
    "    G[G<0] = 0\n",
    "    A = coef_E + d_EtoC * coef_d_EtoC + coef_C \n",
    "    print(coef_E ,d_EtoC , coef_d_EtoC ,coef_C,  A)\n",
    "    Alist.append(A)\n",
    "    Qlist.append(np.sqrt(G / A[:,np.newaxis]))\n",
    "    Qi = np.vstack(Qlist)  # a essayer de passer en append coté numpy \n",
    "    Qx = Qi.sum(0)\n",
    "#     Qi.shape\n",
    "idx = np.searchsorted(Q0 - Qx, -1)\n",
    "# idx\n",
    "Qi = np.vstack(Qlist)[:,idx]\n",
    "Qi\n",
    "# Alist\n",
    "'Alist',Alist\n",
    "Pi = np.concatenate(Alist)* (Qi**2)\n",
    "Pi"
   ]
  },
  {
   "cell_type": "code",
   "execution_count": 188,
   "id": "a9879d39",
   "metadata": {
    "hidden": true
   },
   "outputs": [
    {
     "name": "stdout",
     "output_type": "stream",
     "text": [
      "{'p': 0, 'e': 0, 'ClistG': [0, 1], 'pt': 'Pa'}\n",
      "{'p': 0, 'e': 1, 'ClistG': [2], 'pt': 'Pa'}\n"
     ]
    },
    {
     "data": {
      "text/plain": [
       "{'PressionList': [4.5, 4.5, 4.52],\n",
       " 'DebitList': [11.18, 11.18, 11.2],\n",
       " 'Esplit': {0: [0, 1], 1: [2]},\n",
       " 'Debit': 33.6}"
      ]
     },
     "execution_count": 188,
     "metadata": {},
     "output_type": "execute_result"
    }
   ],
   "source": [
    "Calcul_Debit(algo ,indiv, 'Deactivate')"
   ]
  },
  {
   "cell_type": "code",
   "execution_count": 30,
   "id": "aa97eef8",
   "metadata": {
    "hidden": true
   },
   "outputs": [
    {
     "data": {
      "text/plain": [
       "({0: [0, 1], 1: [2]}, {0: [0, 1]})"
      ]
     },
     "execution_count": 30,
     "metadata": {},
     "output_type": "execute_result"
    },
    {
     "data": {
      "text/plain": [
       "[['E0-C0', 'E0-C1'], ['E1-C2']]"
      ]
     },
     "execution_count": 30,
     "metadata": {},
     "output_type": "execute_result"
    },
    {
     "data": {
      "text/plain": [
       "[['P0-E0', 'P0-E1']]"
      ]
     },
     "execution_count": 30,
     "metadata": {},
     "output_type": "execute_result"
    }
   ],
   "source": [
    "indiv['Econnect'], indiv['Pconnect']\n",
    "indiv['List_EtoC']\n",
    "indiv['List_PtoE']"
   ]
  },
  {
   "cell_type": "markdown",
   "id": "a2ce6233",
   "metadata": {
    "heading_collapsed": true
   },
   "source": [
    "## conf indiv line  echec "
   ]
  },
  {
   "cell_type": "code",
   "execution_count": null,
   "id": "31f9a678",
   "metadata": {
    "hidden": true
   },
   "outputs": [],
   "source": [
    "{'ty': '',\n",
    " 'p': 0,\n",
    " 'e': [0, 2],\n",
    " 'gr': defaultdict(list, {1: [0, 2], 0: [1]}),\n",
    " 'pt': 'Pa',\n",
    " 'bus': {0: {0: [1]}, 1: {0: [0], 2: [2]}}}"
   ]
  },
  {
   "cell_type": "code",
   "execution_count": 45,
   "id": "ce7aca83",
   "metadata": {
    "hidden": true
   },
   "outputs": [],
   "source": [
    "d = {'data' : \n",
    "     [\n",
    "         {'ty': 'bus',\n",
    "          'p': 0,\n",
    "          'e': [0, 2],\n",
    "          'gr': {1: [0, 2], 0: [1]},\n",
    "          'pt': 'Pa',\n",
    "          'bus': {0: {0: [1]}, 1: {0: [0], 2: [2]}}}]}"
   ]
  },
  {
   "cell_type": "code",
   "execution_count": 47,
   "id": "1abbae43",
   "metadata": {
    "hidden": true
   },
   "outputs": [],
   "source": [
    "with open('indivconf.json', 'w') as outfile:\n",
    "    json.dump(d, outfile)"
   ]
  },
  {
   "cell_type": "code",
   "execution_count": null,
   "id": "82e471e9",
   "metadata": {
    "hidden": true
   },
   "outputs": [],
   "source": [
    "json."
   ]
  },
  {
   "cell_type": "markdown",
   "id": "b4518a2d",
   "metadata": {},
   "source": [
    "## func (2ieme partie a lire) "
   ]
  },
  {
   "cell_type": "code",
   "execution_count": 10,
   "id": "28b1c316",
   "metadata": {},
   "outputs": [
    {
     "data": {
      "text/plain": [
       "{'ty': '',\n",
       " 'p': 0,\n",
       " 'e': [2, 0, 1],\n",
       " 'gr': {0: [4, 1, 3], 1: [0, 2]},\n",
       " 'pt': 'Pa',\n",
       " 'bus': {0: {2: [4], 1: [1, 3]}, 1: {0: [0, 2]}}}"
      ]
     },
     "execution_count": 10,
     "metadata": {},
     "output_type": "execute_result"
    },
    {
     "name": "stdout",
     "output_type": "stream",
     "text": [
      "0 2 [4]\n",
      "0.000764 [0.6] [0.000235] [0.036] [0.036905]\n",
      "1 1 [1, 3]\n",
      "0.000764 [0.3 0.2] [0.000235 0.000235] [0.036 0.036] [0.0368345 0.036811 ]\n"
     ]
    },
    {
     "data": {
      "text/plain": [
       "array([10.2881034 , 10.2501759 , 10.25344721])"
      ]
     },
     "execution_count": 10,
     "metadata": {},
     "output_type": "execute_result"
    },
    {
     "data": {
      "text/plain": [
       "('Alist', [array([0.036905]), array([0.0368345, 0.036811 ])])"
      ]
     },
     "execution_count": 10,
     "metadata": {},
     "output_type": "execute_result"
    },
    {
     "data": {
      "text/plain": [
       "array([3.90621237, 3.87005748, 3.87005748])"
      ]
     },
     "execution_count": 10,
     "metadata": {},
     "output_type": "execute_result"
    },
    {
     "name": "stdout",
     "output_type": "stream",
     "text": [
      "0 0 [0, 2]\n",
      "0.000764 [0.3 0.2] [0.000235 0.000235] [0.036 0.036] [0.0368345 0.036811 ]\n"
     ]
    },
    {
     "data": {
      "text/plain": [
       "array([10.81708505, 10.82053729])"
      ]
     },
     "execution_count": 10,
     "metadata": {},
     "output_type": "execute_result"
    },
    {
     "data": {
      "text/plain": [
       "('Alist', [array([0.0368345, 0.036811 ])])"
      ]
     },
     "execution_count": 10,
     "metadata": {},
     "output_type": "execute_result"
    },
    {
     "data": {
      "text/plain": [
       "array([4.30998013, 4.30998013])"
      ]
     },
     "execution_count": 10,
     "metadata": {},
     "output_type": "execute_result"
    }
   ],
   "source": [
    "\n",
    "line = IndivLine[0]\n",
    "line\n",
    "# loop sur les gr avec les clisdict d'avant  \n",
    "for n , ClistDict in line['bus'].items():\n",
    "    # ClistDict = line['bus'][1]\n",
    "    PtoElist = ['P{}-E{}'.format(0,e) for e in line['e']]\n",
    "    EvList = [0,1]\n",
    "    pompe = 0 # a changer \n",
    "    coef_PtoE = [indiv['duriteVal'][line] * indiv['BusDist'][line] for line in PtoElist] # tres important puisque ordre de calucl a respecter \n",
    "    pt = 'Pa'\n",
    "    Q0 = np.arange(0.1,80,0.1)\n",
    "    Qx = 0\n",
    "\n",
    "    a,b,c = [algo.DataCategorie['Pompe']['Values'][pt][i] for i in ['a','b','c']]\n",
    "    G = a * Q0**2 + b*Q0 +c\n",
    "\n",
    "    Qlist = []\n",
    "    Alist = []\n",
    "    for i, (e,EClist) in enumerate( ClistDict.items()): # changer en list pour avoir l'ordre !!\n",
    "        print(i, e,EClist)\n",
    "        # calcul des coef comme avant \n",
    "        coef_C  = [algo.Nvals[i] for i in EClist]\n",
    "        coef_C  = np.array(coef_C)\n",
    "        d_EtoC = np.array([algo.dist['E{}-C{}'.format(e,c)] for c in EClist])\n",
    "        coef_d_EtoC = np.array([algo.duriteVal['E{}-C{}'.format(e,c)] for c in EClist])\n",
    "        coef_E = 7.64e-04  \n",
    "\n",
    "        \n",
    "        # new si pas de capteur on a juste le coef de droite = 0 normalement le truc c'est quil faudra faire cette loop dans le cas de group ou le premier Ev dn'est pas activer \n",
    "        # donc prendre en compte pour le calcul de coef_PtoE\n",
    "        G = G - coef_PtoE[i]*(Q0-Qx)**2\n",
    "        G[G<0] = 0\n",
    "        A = coef_E + d_EtoC * coef_d_EtoC + coef_C \n",
    "        print(coef_E ,d_EtoC , coef_d_EtoC ,coef_C,  A)\n",
    "        Alist.append(A)\n",
    "        # magie on tile la mtrice sur A step correspond au tableau excel etendu sur la droite\n",
    "        Qlist.append(np.sqrt(G / A[:,np.newaxis]))\n",
    "        Qi = np.vstack(Qlist)  # a essayer de passer en append coté numpy \n",
    "        Qx = Qi.sum(0)\n",
    "    #     Qi.shape\n",
    "    # le offset de -1 pour retrouver la plus proche valeur de Q0 -Qx facile \n",
    "    idx = np.searchsorted(Q0 - Qx, -1)\n",
    "    # idx\n",
    "    Qi = np.vstack(Qlist)[:,idx]\n",
    "    Qi\n",
    "    # Alist\n",
    "    'Alist',Alist\n",
    "    Pi = np.concatenate(Alist)* (Qi**2)\n",
    "    Pi"
   ]
  },
  {
   "cell_type": "markdown",
   "id": "51141d3c",
   "metadata": {
    "heading_collapsed": true
   },
   "source": [
    "# Calcul debit "
   ]
  },
  {
   "cell_type": "code",
   "execution_count": 123,
   "id": "ce0a0948",
   "metadata": {
    "hidden": true
   },
   "outputs": [],
   "source": [
    " D = algo.Comb  \n",
    "Group = algo.Group\n",
    "GroupDict = algo.GroupDict \n",
    "# print(GroupDict)\n",
    "Clist = D['C']\n",
    "Econnect = indiv['Econnect']\n",
    "Pconnect = indiv['Pconnect']\n",
    "dist_Connect = indiv['dist_Connect']\n",
    "EtoP = indiv['EtoP']\n",
    "Ptype = indiv['Ptype']\n",
    "Pression = []\n",
    "Debit = []\n",
    "\n",
    "Cpression = {}\n",
    "Cdebit = {}"
   ]
  },
  {
   "cell_type": "code",
   "execution_count": 127,
   "id": "8f606e16",
   "metadata": {
    "hidden": true
   },
   "outputs": [
    {
     "data": {
      "text/plain": [
       "[0, 1, 1]"
      ]
     },
     "execution_count": 127,
     "metadata": {},
     "output_type": "execute_result"
    }
   ],
   "source": [
    "GroupDict"
   ]
  },
  {
   "cell_type": "code",
   "execution_count": 126,
   "id": "66c71cc4",
   "metadata": {
    "hidden": true
   },
   "outputs": [
    {
     "data": {
      "text/plain": [
       "'Bus'"
      ]
     },
     "execution_count": 126,
     "metadata": {},
     "output_type": "execute_result"
    }
   ],
   "source": [
    "indiv['Option']"
   ]
  },
  {
   "cell_type": "code",
   "execution_count": 125,
   "id": "7c53aaf0",
   "metadata": {
    "hidden": true
   },
   "outputs": [
    {
     "data": {
      "text/plain": [
       "([0, 1, 1], {0: [0, 1], 1: [2]}, {0: [0, 1]})"
      ]
     },
     "execution_count": 125,
     "metadata": {},
     "output_type": "execute_result"
    }
   ],
   "source": [
    "GroupDict , Econnect, Pconnect\n",
    "\n",
    "d1 = collections.defaultdict(list)\n",
    "d2 = collections.defaultdict(list)\n",
    "for i, (e,EClist) in enumerate(Econnect.items()):\n",
    "    for e2 in EClist :\n",
    "        d2"
   ]
  },
  {
   "cell_type": "markdown",
   "id": "92797729",
   "metadata": {
    "heading_collapsed": true
   },
   "source": [
    "# SAVE"
   ]
  },
  {
   "cell_type": "code",
   "execution_count": null,
   "id": "30a78c3d",
   "metadata": {
    "hidden": true
   },
   "outputs": [],
   "source": [
    "# bourrin \n",
    "Ncg=  4\n",
    "Ncm = 8\n",
    "cE0 = 7.64e-04\n",
    "coef_E =  cE0\n",
    "d_EtoC_list = np.ones(Ncm) * 1\n",
    "coef_d_EtoC = np.ones(Ncm) * 0.000235\n",
    "coef_C      = np.ones(Ncm) * 0.036\n",
    "A = coef_E + d_EtoC_list * coef_d_EtoC + coef_C \n",
    "\n",
    "Q0 = np.arange(0.1,80,0.1)\n",
    "Qx = np.zeros(Q0.shape)\n",
    "Qi = np.zeros((Ncm,len(Q0)))\n",
    "\n",
    "G = a * Q0**2 + b*Q0 +c\n",
    "Nev = int(Ncm/Ncg)\n",
    "coef_d_PtoE = np.ones(Nev) * 0.000235\n",
    "for i in range(Nev):\n",
    "    G = G - coef_d_PtoE[i]*(Q0-Qx)**2\n",
    "    G[G <0] = 0\n",
    "    Qi[i*Ncg:Ncg*(i+1),:] = np.sqrt(G / A[i*Ncg:Ncg*(i+1),np.newaxis])\n",
    "    Qx = Qi.sum(0)\n",
    "\n",
    "idx = np.searchsorted(Q0 - Qx, -0.9)\n",
    "\n",
    "idx, Q0[idx],Qx[idx]#, Qi[:,idx], Qi.shape, G[idx]"
   ]
  }
 ],
 "metadata": {
  "kernelspec": {
   "display_name": "Python 3 (ipykernel)",
   "language": "python",
   "name": "python3"
  },
  "language_info": {
   "codemirror_mode": {
    "name": "ipython",
    "version": 3
   },
   "file_extension": ".py",
   "mimetype": "text/x-python",
   "name": "python",
   "nbconvert_exporter": "python",
   "pygments_lexer": "ipython3",
   "version": "3.10.10"
  },
  "toc": {
   "base_numbering": 1,
   "nav_menu": {},
   "number_sections": true,
   "sideBar": true,
   "skip_h1_title": false,
   "title_cell": "Table of Contents",
   "title_sidebar": "Contents",
   "toc_cell": false,
   "toc_position": {
    "height": "calc(100% - 180px)",
    "left": "10px",
    "top": "150px",
    "width": "176.325px"
   },
   "toc_section_display": true,
   "toc_window_display": true
  },
  "varInspector": {
   "cols": {
    "lenName": 16,
    "lenType": 16,
    "lenVar": 40
   },
   "kernels_config": {
    "python": {
     "delete_cmd_postfix": "",
     "delete_cmd_prefix": "del ",
     "library": "var_list.py",
     "varRefreshCmd": "print(var_dic_list())"
    },
    "r": {
     "delete_cmd_postfix": ") ",
     "delete_cmd_prefix": "rm(",
     "library": "var_list.r",
     "varRefreshCmd": "cat(var_dic_list()) "
    }
   },
   "position": {
    "height": "886.844px",
    "left": "1523px",
    "right": "20px",
    "top": "28px",
    "width": "370px"
   },
   "types_to_exclude": [
    "module",
    "function",
    "builtin_function_or_method",
    "instance",
    "_Feature"
   ],
   "window_display": false
  }
 },
 "nbformat": 4,
 "nbformat_minor": 5
}
