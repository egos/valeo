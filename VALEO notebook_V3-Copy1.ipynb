{
 "cells": [
  {
   "cell_type": "markdown",
   "id": "196dcdf1",
   "metadata": {
    "heading_collapsed": true
   },
   "source": [
    "# Import"
   ]
  },
  {
   "cell_type": "code",
   "execution_count": null,
   "id": "7444384e",
   "metadata": {
    "hidden": true
   },
   "outputs": [],
   "source": [
    "%load_ext autoreload\n",
    "%autoreload 2\n",
    "\n",
    "import importlib\n",
    "import numpy as np\n",
    "import math\n",
    "import itertools \n",
    "import pandas as pd\n",
    "import numpy as np\n",
    "import io\n",
    "import msoffcrypto\n",
    "from sklearn.metrics import r2_score\n",
    "import openpyxl\n",
    "import plotly.express as px\n",
    "from IPython.core.interactiveshell import InteractiveShell\n",
    "InteractiveShell.ast_node_interactivity = \"all\"\n",
    "import plotly\n",
    "import matplotlib.pyplot as plt\n",
    "import plotly.graph_objects as go\n",
    "import streamlit as st\n",
    "import json\n",
    "from math import factorial as fact\n",
    "from IPython.display import Markdown, display\n",
    "import toml\n",
    "import sys, os\n",
    "import collections\n",
    "from types import SimpleNamespace\n",
    "import copy\n",
    "import matplotlib.patches as mpatch\n",
    "%matplotlib inline \n",
    "%config Completer.use_jedi = True\n",
    "\n",
    "from IPython.display import display, HTML\n",
    "display(HTML(\"<style>.container { width:80% !important; }</style>\"))\n",
    "\n",
    "from utils import *"
   ]
  },
  {
   "cell_type": "code",
   "execution_count": null,
   "id": "5f34efbe",
   "metadata": {
    "hidden": true
   },
   "outputs": [],
   "source": [
    "from sklearn.cluster import KMeans\n",
    "import numpy as np"
   ]
  },
  {
   "cell_type": "markdown",
   "id": "bfd1d41b",
   "metadata": {
    "heading_collapsed": true
   },
   "source": [
    "# T new &"
   ]
  },
  {
   "cell_type": "code",
   "execution_count": null,
   "id": "c2f6db4d",
   "metadata": {
    "hidden": true
   },
   "outputs": [],
   "source": [
    "file = {'SheetMapName' : 'map T2', 'uploaded_file' : \"data.xlsx\",'DistFactor' : 0.1}\n",
    "algo = load_data_brut(file)\n",
    "dfline = algo.dfline.copy()\n",
    "Comb = algo.Comb\n",
    "Comb\n",
    "algo.ListBusPactif = [False,False]\n",
    "df = indiv_init(algo, 40)\n",
    "\n",
    "Ne = len(algo.Comb['E'])\n",
    "idx = df[(df.Pcount==1)].sort_values(ascending=False,by = 'Ecount').index[0]\n",
    "indiv = algo.indivs[idx]"
   ]
  },
  {
   "cell_type": "code",
   "execution_count": null,
   "id": "d3dcd955",
   "metadata": {
    "hidden": true
   },
   "outputs": [],
   "source": [
    "BusTNames = []\n",
    "for p in indiv['Plist']:\n",
    "    L = Tconnection_v4(algo, indiv,p)\n",
    "    BusTNames = BusTNames + L\n",
    "BusTNames"
   ]
  },
  {
   "cell_type": "code",
   "execution_count": null,
   "id": "351321ef",
   "metadata": {
    "hidden": true
   },
   "outputs": [],
   "source": [
    "Name =\"E1-C0,E1-C2,E1-C6,E2-C1,E2-C4,E3-C3,E3-C5,E3-C7,P0-E1,P0-E2,P1-E3\"\n",
    "# Name = \"E0-C3,E0-C5,E0-C6,E1-C0,E2-C1,E2-C2,E2-C4,E2-C7,P0-E1,P0-E2,P1-E0\"\n",
    "indiv  = Indiv_reverse(Name,algo)\n"
   ]
  },
  {
   "cell_type": "code",
   "execution_count": null,
   "id": "b11b368b",
   "metadata": {
    "hidden": true
   },
   "outputs": [],
   "source": [
    "# Plot\n",
    "row = pd.Series(indiv)\n",
    "ElemsList = ['Clist','Elist','Plist']\n",
    "Elems = ['C','E','P']\n",
    "SelectSlot = []\n",
    "List_EtoC = row.List_EtoC\n",
    "List_PtoE = row.List_PtoE\n",
    "for n in range(3):\n",
    "    SelectSlot+= ['{}{}'.format(Elems[n],i) for i in row[ElemsList[n]]]\n",
    "SelectSlot+= ['T0','T1','T2','T3']\n",
    "SelectLine = BusTNames\n",
    "# SelectLine = indiv['BusName']\n",
    "fig = new_plot(algo, SelectLine, SelectSlot,True)\n",
    "fig.set_size_inches(5,5)"
   ]
  },
  {
   "cell_type": "code",
   "execution_count": null,
   "id": "1e15f3a2",
   "metadata": {
    "hidden": true
   },
   "outputs": [],
   "source": []
  },
  {
   "cell_type": "markdown",
   "id": "0bff4477",
   "metadata": {
    "heading_collapsed": true,
    "hidden": true
   },
   "source": [
    "## verif"
   ]
  },
  {
   "cell_type": "code",
   "execution_count": null,
   "id": "8d0892d2",
   "metadata": {
    "hidden": true
   },
   "outputs": [],
   "source": []
  },
  {
   "cell_type": "code",
   "execution_count": null,
   "id": "7b3e6de2",
   "metadata": {
    "hidden": true
   },
   "outputs": [],
   "source": []
  },
  {
   "cell_type": "code",
   "execution_count": null,
   "id": "c8da5461",
   "metadata": {
    "hidden": true
   },
   "outputs": [],
   "source": []
  },
  {
   "cell_type": "code",
   "execution_count": null,
   "id": "f2bd5eef",
   "metadata": {
    "hidden": true
   },
   "outputs": [],
   "source": [
    "file = {'SheetMapName' : 'map T2', 'uploaded_file' : \"data.xlsx\",'DistFactor' : 0.1}\n",
    "algo = load_data_brut(file)\n",
    "dfline = algo.dfline.copy()\n",
    "Comb = algo.Comb\n",
    "Comb"
   ]
  },
  {
   "cell_type": "code",
   "execution_count": null,
   "id": "6112a832",
   "metadata": {
    "hidden": true
   },
   "outputs": [],
   "source": []
  },
  {
   "cell_type": "code",
   "execution_count": null,
   "id": "e9820abf",
   "metadata": {
    "hidden": true
   },
   "outputs": [],
   "source": [
    "Name = \"E0-C0,E0-C2,E1-C5,E2-C1,E2-C3,E2-C4,P0-E0,P0-E1,P0-E2\"\n",
    "indiv  = Indiv_reverse(Name,algo)"
   ]
  },
  {
   "cell_type": "code",
   "execution_count": null,
   "id": "95970965",
   "metadata": {
    "hidden": true
   },
   "outputs": [],
   "source": [
    "BusTNames = Tconnection_v3(algo, indiv,0)\n",
    "BusTNames"
   ]
  },
  {
   "cell_type": "code",
   "execution_count": null,
   "id": "2a4e97e0",
   "metadata": {
    "hidden": true
   },
   "outputs": [],
   "source": [
    "# Plot\n",
    "row = pd.Series(indiv)\n",
    "ElemsList = ['Clist','Elist','Plist']\n",
    "Elems = ['C','E','P']\n",
    "SelectSlot = []\n",
    "List_EtoC = row.List_EtoC\n",
    "List_PtoE = row.List_PtoE\n",
    "for n in range(3):\n",
    "    SelectSlot+= ['{}{}'.format(Elems[n],i) for i in row[ElemsList[n]]]\n",
    "SelectSlot+= ['T0','T1']\n",
    "SelectLine = BusTNames\n",
    "# SelectLine = indiv['BusName']\n",
    "fig = new_plot(algo, SelectLine, SelectSlot)\n",
    "fig.set_size_inches(5,5)"
   ]
  },
  {
   "cell_type": "code",
   "execution_count": null,
   "id": "d8844263",
   "metadata": {
    "hidden": true
   },
   "outputs": [],
   "source": [
    "pn = 0\n",
    "p = 'P{}'.format(pn)\n",
    "PtoTConnect = algo.PtoTConnect[p]\n",
    "Tconnect = PtoTConnect\n",
    "TconnectPath = Line_Name([p] + Tconnect)\n",
    "Tlist = Tconnect\n",
    "print(p , Tconnect,TconnectPath)\n",
    "\n",
    "G0 = algo.G0.copy()\n",
    "\n",
    "p = 'P{}'.format(p)\n",
    "Elist = indiv['Pconnect'][pn]\n",
    "ElistName = ['E{}'.format(e) for e in Elist]\n",
    "Elist = ElistName.copy()\n",
    "\n",
    "SlotName = ElistName + Tlist\n",
    "L = []\n",
    "# backward sur chaque E pour "
   ]
  },
  {
   "cell_type": "code",
   "execution_count": null,
   "id": "7c38647a",
   "metadata": {
    "hidden": true
   },
   "outputs": [],
   "source": [
    "G0 = algo.G0\n",
    "Start  = Tconnect\n",
    "Target = Elist\n",
    "SlotNames =Start + Target\n",
    "L = []\n",
    "# backward sur chaque E pour connaitre le bus le plus court vers le plus proche T\n",
    "DictPath = collections.defaultdict(list)\n",
    "G = G0.subgraph(SlotNames).copy()\n",
    "for i, t in enumerate(Target):  \n",
    "    NodesDist = [G[t][p]['dist'] for p in Start]\n",
    "    n = Start[np.array(NodesDist).argmin()]\n",
    "    DictPath[n].append(t)\n",
    "DictTpath = dict(DictPath)\n",
    "\n",
    "DictTpath\n",
    "BusTNames = []\n",
    "DictPath2 = collections.defaultdict(list)\n",
    "\n",
    "for i in range(len(Tconnect)):\n",
    "        t = Tconnect[i]  \n",
    "        BusTNames.append(TconnectPath[i])\n",
    "        if t in DictTpath.keys():\n",
    "            e_list = DictTpath[t]\n",
    "            Glist = [t] + list(e_list)\n",
    "            G = G0.subgraph(Glist).copy()\n",
    "            n = t\n",
    "            FinalPath  = [n]  \n",
    "            i+=1  \n",
    "            while G.size()>0 :\n",
    "                NodesAdj  = [x[0] for x in G.adj[n].items()]\n",
    "                NodesDist = [x[1]['dist'] for x in G.adj[n].items()]\n",
    "                ns = n\n",
    "                G.remove_node(n)\n",
    "                n = NodesAdj[np.array(NodesDist).argmin()]\n",
    "                FinalPath.append(n)\n",
    "                BusTNames.append(\"{}-{}\".format(ns,n))\n",
    "            for e in e_list:\n",
    "                Clist = indiv['Econnect'][int(e[1:])]\n",
    "                for c in Clist:\n",
    "                    BusTNames.append(\"{}-C{}\".format(e,c))\n",
    "            FinalPath  \n",
    "BusTNames           \n",
    "\n",
    "\n",
    "# for k, e_list in DictPath.items():\n",
    "#     G = G0.subgraph([k] + Slist).copy()\n",
    "#     # print([p] + Tlist)\n",
    "#     n = k\n",
    "#     Sconnect = [] \n",
    "#     SconnectPath = []\n",
    "#     while G.size()>0 :\n",
    "#         NodesAdj  = [x[0] for x in G.adj[n].items()]\n",
    "#         NodesDist = [x[1]['dist'] for x in G.adj[n].items()]\n",
    "#         ns = n\n",
    "#         G.remove_node(n)\n",
    "#         n = NodesAdj[np.array(NodesDist).argmin()]\n",
    "#         print(k,ns ,n)\n",
    "# #         Sconnect.append(n)\n",
    "# #         SconnectPath.append(\"{}-{}\".format(ns,n))\n",
    "#         DictPath2[k].append(n)\n",
    "    \n",
    "DictPath2 = dict(DictPath2)\n",
    "\n",
    "DictPath2"
   ]
  },
  {
   "cell_type": "code",
   "execution_count": null,
   "id": "ba36b4fb",
   "metadata": {
    "hidden": true
   },
   "outputs": [],
   "source": [
    "# Plot\n",
    "row = pd.Series(indiv)\n",
    "ElemsList = ['Clist','Elist','Plist']\n",
    "Elems = ['C','E','P']\n",
    "SelectSlot = []\n",
    "List_EtoC = row.List_EtoC\n",
    "List_PtoE = row.List_PtoE\n",
    "for n in range(3):\n",
    "    SelectSlot+= ['{}{}'.format(Elems[n],i) for i in row[ElemsList[n]]]\n",
    "SelectSlot+= ['T0','T1']\n",
    "SelectLine = BusTNames\n",
    "# SelectLine = indiv['BusName']\n",
    "fig = new_plot(algo, SelectLine, SelectSlot)\n",
    "fig.set_size_inches(5,5)"
   ]
  },
  {
   "cell_type": "code",
   "execution_count": null,
   "id": "7d44dcc6",
   "metadata": {
    "hidden": true
   },
   "outputs": [],
   "source": []
  },
  {
   "cell_type": "markdown",
   "id": "bdfe58d8",
   "metadata": {
    "heading_collapsed": true,
    "hidden": true
   },
   "source": [
    "## Run"
   ]
  },
  {
   "cell_type": "raw",
   "id": "4170ec71",
   "metadata": {
    "hidden": true
   },
   "source": [
    "el = ['E0', 'E1', 'E2', 'E3']\n",
    "list(itertools.permutations(el, 2))"
   ]
  },
  {
   "cell_type": "code",
   "execution_count": null,
   "id": "9b4614b2",
   "metadata": {
    "hidden": true
   },
   "outputs": [],
   "source": [
    "file = {'SheetMapName' : 'map T2', 'uploaded_file' : \"data.xlsx\",'DistFactor' : 0.1}\n",
    "algo = load_data_brut(file)\n",
    "dfline = algo.dfline.copy()\n",
    "Comb = algo.Comb\n",
    "Comb\n",
    "# algo.A0"
   ]
  },
  {
   "cell_type": "code",
   "execution_count": null,
   "id": "f97bb074",
   "metadata": {
    "hidden": true
   },
   "outputs": [],
   "source": [
    " BusTNames = Tconnection_v3(algo, indiv,0)"
   ]
  },
  {
   "cell_type": "raw",
   "id": "42c7f0ea",
   "metadata": {
    "hidden": true
   },
   "source": [
    "algo.A0"
   ]
  },
  {
   "cell_type": "code",
   "execution_count": null,
   "id": "745c2591",
   "metadata": {
    "hidden": true
   },
   "outputs": [],
   "source": [
    "algo.ListBusPactif = [False]"
   ]
  },
  {
   "cell_type": "raw",
   "id": "3817c138",
   "metadata": {
    "hidden": true
   },
   "source": [
    "# algo.GroupDict = [1,1,0]\n",
    "Name = 'E0-C3,E1-C1,E1-C2,E1-C4,E2-C0,E2-C5,P0-E0,P0-E1,P0-E2'\n",
    "indiv  = Indiv_reverse(Name,algo)"
   ]
  },
  {
   "cell_type": "raw",
   "id": "90fe99e9",
   "metadata": {
    "collapsed": true,
    "hidden": true
   },
   "source": [
    "# algo.GroupDict = [1,1,0]\n",
    "Name = 'E0-C3,E1-C1,E3-C2,E3-C4,E3-C0,E2-C5,P0-E0,P0-E1,P0-E2'\n",
    "indiv  = Indiv_reverse(Name,algo)"
   ]
  },
  {
   "cell_type": "code",
   "execution_count": null,
   "id": "be482682",
   "metadata": {
    "hidden": true
   },
   "outputs": [],
   "source": [
    "# generation de 10 indivs\n",
    "df = indiv_init(algo, 40)\n",
    "# df.columns\n",
    "indiv = algo.indivs[1]"
   ]
  },
  {
   "cell_type": "code",
   "execution_count": null,
   "id": "f33e6d0b",
   "metadata": {
    "hidden": true
   },
   "outputs": [],
   "source": [
    "df[df.Ecount==6]"
   ]
  },
  {
   "cell_type": "code",
   "execution_count": null,
   "id": "d0ccb9a4",
   "metadata": {
    "hidden": true
   },
   "outputs": [],
   "source": [
    "Ne = len(algo.Comb['E'])\n",
    "idx = df[df.Ecount==Ne].index[0]\n",
    "Ne\n",
    "indiv = algo.indivs[idx]"
   ]
  },
  {
   "cell_type": "code",
   "execution_count": null,
   "id": "f3c0c7df",
   "metadata": {
    "hidden": true
   },
   "outputs": [],
   "source": [
    "BusTNames = Tconnection_v2(algo, indiv)"
   ]
  },
  {
   "cell_type": "code",
   "execution_count": null,
   "id": "7ab4d8fa",
   "metadata": {
    "hidden": true
   },
   "outputs": [],
   "source": [
    "# Plot\n",
    "row = pd.Series(indiv)\n",
    "ElemsList = ['Clist','Elist','Plist']\n",
    "Elems = ['C','E','P']\n",
    "SelectSlot = []\n",
    "List_EtoC = row.List_EtoC\n",
    "List_PtoE = row.List_PtoE\n",
    "for n in range(3):\n",
    "    SelectSlot+= ['{}{}'.format(Elems[n],i) for i in row[ElemsList[n]]]\n",
    "SelectSlot+= ['T0','T1','T2']\n",
    "SelectLine = BusTNames\n",
    "# SelectLine = indiv['BusName']\n",
    "fig = new_plot(algo, SelectLine, SelectSlot)\n",
    "fig.set_size_inches(5,5)"
   ]
  },
  {
   "cell_type": "code",
   "execution_count": null,
   "id": "c3724aec",
   "metadata": {
    "hidden": true
   },
   "outputs": [],
   "source": [
    "# algo.GroupDict = [1,1,0]\n",
    "Name = \"E0-C0,E1-C1,E2-C2,E3-C3,P0-E0,P0-E1,P0-E2,P0-E3\"\n",
    "indiv  = Indiv_reverse(Name,algo)"
   ]
  },
  {
   "cell_type": "code",
   "execution_count": null,
   "id": "fe43fdee",
   "metadata": {
    "hidden": true
   },
   "outputs": [],
   "source": [
    "# algo.GroupDict = [1,1,0]\n",
    "Name = \"E0-C0,E1-C1,E2-C2,E3-C3,P0-E0,P0-E1,P0-E2,P0-E3\"\n",
    "indiv  = Indiv_reverse(Name,algo)"
   ]
  },
  {
   "cell_type": "code",
   "execution_count": null,
   "id": "05ef1b97",
   "metadata": {
    "hidden": true
   },
   "outputs": [],
   "source": [
    "%%timeit\n",
    "BusTNames, distT = T_connection(algo, indiv)"
   ]
  },
  {
   "cell_type": "markdown",
   "id": "84ee6d4f",
   "metadata": {
    "hidden": true
   },
   "source": [
    "## Ini P to T"
   ]
  },
  {
   "cell_type": "code",
   "execution_count": null,
   "id": "4788590b",
   "metadata": {
    "hidden": true
   },
   "outputs": [],
   "source": [
    "file = {'SheetMapName' : 'map bis', 'uploaded_file' : \"data.xlsx\",'DistFactor' : 0.1}\n",
    "algo = load_data_brut(file)\n",
    "dfline = algo.dfline.copy()\n",
    "Comb = algo.Comb\n",
    "Comb\n",
    "# algo.A0"
   ]
  },
  {
   "cell_type": "code",
   "execution_count": null,
   "id": "51e73f81",
   "metadata": {
    "hidden": true
   },
   "outputs": [],
   "source": [
    "PToT_path(algo)"
   ]
  },
  {
   "cell_type": "code",
   "execution_count": null,
   "id": "e8bd00aa",
   "metadata": {
    "hidden": true
   },
   "outputs": [],
   "source": [
    "G0 = algo.G0\n",
    "Start  = ['P{}'.format(t) for t in algo.Comb['P']]\n",
    "Target = ['T{}'.format(t) for t in algo.Comb['T']]\n",
    "SlotNames =Start + Target\n",
    "L = []\n",
    "# backward sur chaque E pour connaitre le bus le plus court vers le plus proche T\n",
    "DictPath = collections.defaultdict(list)\n",
    "G = G0.subgraph(SlotNames).copy()\n",
    "for i, t in enumerate(Target):  \n",
    "    NodesDist = [G[t][p]['dist'] for p in Start]\n",
    "    n = Start[np.array(NodesDist).argmin()]\n",
    "    DictPath[n].append(t)\n",
    "\n",
    "DictPath2 = collections.defaultdict(list)\n",
    "for k, Slist in dict(DictPath).items():\n",
    "    G = G0.subgraph([k] + Slist).copy()\n",
    "    # print([p] + Tlist)\n",
    "    n = k\n",
    "    Sconnect = [] \n",
    "    SconnectPath = []\n",
    "    while G.size()>0 :\n",
    "        NodesAdj  = [x[0] for x in G.adj[n].items()]\n",
    "        NodesDist = [x[1]['dist'] for x in G.adj[n].items()]\n",
    "        ns = n\n",
    "        G.remove_node(n)\n",
    "        n = NodesAdj[np.array(NodesDist).argmin()]\n",
    "#         Sconnect.append(n)\n",
    "#         SconnectPath.append(\"{}-{}\".format(ns,n))\n",
    "        DictPath2[k].append(n)\n",
    "DictPath2 = dict(DictPath2)\n",
    "DictPath2"
   ]
  },
  {
   "cell_type": "code",
   "execution_count": null,
   "id": "ea72ec55",
   "metadata": {
    "hidden": true
   },
   "outputs": [],
   "source": [
    "G = G0.subgraph([p] + Tlist).copy()\n",
    "# print([p] + Tlist)\n",
    "n = p\n",
    "Tconnect = [] \n",
    "TconnectPath = []\n",
    "while G.size()>0 :\n",
    "    NodesAdj  = [x[0] for x in G.adj[n].items()]\n",
    "    NodesDist = [x[1]['dist'] for x in G.adj[n].items()]\n",
    "    ns = n\n",
    "    G.remove_node(n)\n",
    "    n = NodesAdj[np.array(NodesDist).argmin()]\n",
    "    TconnectPath.append(\"{}-{}\".format(ns,n))\n",
    "    Tconnect.append(n)\n",
    "print(Tconnect,TconnectPath)"
   ]
  },
  {
   "cell_type": "code",
   "execution_count": null,
   "id": "74ff48a6",
   "metadata": {
    "hidden": true
   },
   "outputs": [],
   "source": [
    "# generation de 10 indivs\n",
    "algo.ListBusPactif = [False,False]\n",
    "df = indiv_init(algo, 30)\n",
    "# df.columns\n",
    "indiv = algo.indivs[1]"
   ]
  },
  {
   "cell_type": "code",
   "execution_count": null,
   "id": "b6180cc3",
   "metadata": {
    "hidden": true
   },
   "outputs": [],
   "source": [
    "Ne = len(algo.Comb['E'])\n",
    "idx = df[(df.Pcount==2)].sort_values(ascending=False,by = 'Ecount').index[0]\n",
    "indiv = algo.indivs[idx]"
   ]
  },
  {
   "cell_type": "code",
   "execution_count": null,
   "id": "1335db7e",
   "metadata": {
    "hidden": true
   },
   "outputs": [],
   "source": [
    "# Plot\n",
    "row = pd.Series(indiv)\n",
    "ElemsList = ['Clist','Elist','Plist']\n",
    "Elems = ['C','E','P']\n",
    "SelectSlot = []\n",
    "List_EtoC = row.List_EtoC\n",
    "List_PtoE = row.List_PtoE\n",
    "for n in range(3):\n",
    "    SelectSlot+= ['{}{}'.format(Elems[n],i) for i in row[ElemsList[n]]]\n",
    "SelectSlot+= ['T0','T1','T2']\n",
    "# SelectLine = BusTNames\n",
    "SelectLine = indiv['BusName']\n",
    "fig = new_plot(algo, SelectLine, SelectSlot)\n",
    "fig.set_size_inches(5,5)"
   ]
  },
  {
   "cell_type": "code",
   "execution_count": null,
   "id": "5986e5b5",
   "metadata": {
    "hidden": true
   },
   "outputs": [],
   "source": [
    "SelectLine = algo.DictLine.keys()\n",
    "SelectSlot = algo.DictPos.keys()\n",
    "\n",
    "fig = new_plot(algo, SelectLine, SelectSlot)"
   ]
  },
  {
   "cell_type": "code",
   "execution_count": null,
   "id": "db8c6f4d",
   "metadata": {
    "hidden": true
   },
   "outputs": [],
   "source": [
    "algo.PtoTConnect\n",
    "indiv['Pconnect']"
   ]
  },
  {
   "cell_type": "code",
   "execution_count": null,
   "id": "77ffa54b",
   "metadata": {
    "hidden": true
   },
   "outputs": [],
   "source": [
    "BusTNames = []\n",
    "for p in indiv['Plist']:\n",
    "    L = Tconnection_v3(algo, indiv,p)\n",
    "    BusTNames = BusTNames + L\n",
    "BusTNames"
   ]
  },
  {
   "cell_type": "code",
   "execution_count": null,
   "id": "802af904",
   "metadata": {
    "hidden": true
   },
   "outputs": [],
   "source": [
    "algo.Comb['T']"
   ]
  },
  {
   "cell_type": "code",
   "execution_count": null,
   "id": "6f3105bc",
   "metadata": {
    "hidden": true
   },
   "outputs": [],
   "source": [
    "# Plot\n",
    "row = pd.Series(indiv)\n",
    "ElemsList = ['Clist','Elist','Plist']\n",
    "Elems = ['C','E','P']\n",
    "SelectSlot = []\n",
    "List_EtoC = row.List_EtoC\n",
    "List_PtoE = row.List_PtoE\n",
    "for n in range(3):\n",
    "    SelectSlot+= ['{}{}'.format(Elems[n],i) for i in row[ElemsList[n]]]\n",
    "SelectSlot+= ['T0','T1','T2','T3']\n",
    "SelectLine = \n",
    "\n",
    "# SelectLine = indiv['BusName']\n",
    "fig = new_plot(algo, SelectLine, SelectSlot)\n",
    "fig.set_size_inches(5,5)"
   ]
  },
  {
   "cell_type": "markdown",
   "id": "7f4cd985",
   "metadata": {
    "heading_collapsed": true,
    "hidden": true
   },
   "source": [
    "## refacto cluster V2"
   ]
  },
  {
   "cell_type": "code",
   "execution_count": null,
   "id": "6b264495",
   "metadata": {
    "hidden": true
   },
   "outputs": [],
   "source": [
    "%%time\n",
    "BusTNames = Tconnection_v2(algo, indiv)\n",
    "# BusTNames"
   ]
  },
  {
   "cell_type": "code",
   "execution_count": null,
   "id": "06b1f4be",
   "metadata": {
    "hidden": true
   },
   "outputs": [],
   "source": [
    "# Plot\n",
    "row = pd.Series(indiv)\n",
    "ElemsList = ['Clist','Elist','Plist']\n",
    "Elems = ['C','E','P']\n",
    "SelectSlot = []\n",
    "List_EtoC = row.List_EtoC\n",
    "List_PtoE = row.List_PtoE\n",
    "for n in range(3):\n",
    "    SelectSlot+= ['{}{}'.format(Elems[n],i) for i in row[ElemsList[n]]]\n",
    "SelectSlot+= ['T0','T1']\n",
    "SelectLine = BusTNames\n",
    "# SelectLine = indiv['BusName']\n",
    "fig = new_plot(algo, SelectLine, SelectSlot)\n",
    "fig.set_size_inches(5,5)"
   ]
  },
  {
   "cell_type": "code",
   "execution_count": null,
   "id": "3f53960f",
   "metadata": {
    "hidden": true
   },
   "outputs": [],
   "source": [
    "DictLine = algo.DictLine\n",
    "Tlist = ['T{}'.format(t) for t in algo.Comb['T']]\n",
    "G0 = nx.from_pandas_edgelist(algo.dfline, 's', 't', ['dist'])\n",
    "for i, (p,Elist) in enumerate(indiv['Pconnect'].items()): \n",
    "    pass\n",
    "p = 'P{}'.format(p)\n",
    "ElistName = ['E{}'.format(e) for e in Elist]\n",
    "Elist = ElistName.copy()\n",
    "\n",
    "\n",
    "G = G0.subgraph([p] + Tlist).copy()\n",
    "n = p\n",
    "Tconnect = [] \n",
    "TconnectPath = []\n",
    "while G.size()>0 :\n",
    "    NodesAdj  = [x[0] for x in G.adj[n].items()]\n",
    "    NodesDist = [x[1]['dist'] for x in G.adj[n].items()]\n",
    "    ns = n\n",
    "    G.remove_node(n)\n",
    "    n = NodesAdj[np.array(NodesDist).argmin()]\n",
    "    TconnectPath.append(\"{}-{}\".format(ns,n))\n",
    "    Tconnect.append(n)\n",
    "Tconnect\n",
    "TconnectPath"
   ]
  },
  {
   "cell_type": "code",
   "execution_count": null,
   "id": "4f224127",
   "metadata": {
    "hidden": true
   },
   "outputs": [],
   "source": [
    "SlotName = ElistName + Tlist\n",
    "SlotName    \n",
    "L = []\n",
    "\n",
    "DictTpath = collections.defaultdict(list)\n",
    "for i, e0 in enumerate(Elist):\n",
    "    G = G0.subgraph(SlotName).copy()\n",
    "    n = e0\n",
    "    l = []\n",
    "    path = []\n",
    "    while n[0]!='T':\n",
    "        NodesAdj  = [x[0] for x in G.adj[n].items()]\n",
    "        NodesDist = [x[1]['dist'] for x in G.adj[n].items()]\n",
    "        ns = n\n",
    "        l.append(ns)\n",
    "        G.remove_node(n)\n",
    "        n = NodesAdj[np.array(NodesDist).argmin()]\n",
    "        print(e0,ns,n)\n",
    "        path.append((ns,n))\n",
    "    DictTpath[n] = DictTpath[n] + path\n",
    "    L.append(l)\n",
    "    # print(n,e0,l , path, np.argmax(A == e0, axis=1)) \n",
    "# passage hotvectors pour clustering => regrouper les lignes avec des E communs"
   ]
  },
  {
   "cell_type": "raw",
   "id": "9a01a79b",
   "metadata": {
    "hidden": true
   },
   "source": [
    "#4.62 ms ± 54.2 µs per loop (mean ± std. dev. of 7 runs, 100 loops each)\n",
    "X =pd.get_dummies(pd.Series(L).explode()).groupby(level=0).sum().values\n",
    "kmeans = KMeans(n_clusters=2, random_state=0, n_init=\"auto\").fit(X)\n",
    "group = kmeans.labels_\n",
    "group\n",
    "gr = collections.defaultdict(list)\n",
    "for i, g in enumerate(group):\n",
    "    gr[g].append(Elist[i])\n",
    "dict(gr)"
   ]
  },
  {
   "cell_type": "code",
   "execution_count": null,
   "id": "4bf41ea1",
   "metadata": {
    "hidden": true
   },
   "outputs": [],
   "source": [
    "TconnectPath"
   ]
  },
  {
   "cell_type": "code",
   "execution_count": null,
   "id": "4058ed42",
   "metadata": {
    "hidden": true
   },
   "outputs": [],
   "source": [
    "#16.6 µs ± 55 ns per loop (mean ± std. dev. of 7 runs, 100,000 loops each)\n",
    "Lgroup = []\n",
    "G0 = nx.from_pandas_edgelist(algo.dfline, 's', 't', ['dist'])\n",
    "BusTNames = []\n",
    "for i in range(len(Tconnect)):\n",
    "    t = Tconnect[i]    \n",
    "    path = dict(DictTpath)[t]\n",
    "    BusTNames.append(TconnectPath[i])\n",
    "    Gg = nx.Graph(path)\n",
    "    Gg.remove_node(t)\n",
    "    List_sub_G = nx.connected_components(Gg)\n",
    "    for e_list in List_sub_G:        \n",
    "        Glist = [t] + list(e_list)\n",
    "        G = G0.subgraph(Glist).copy()\n",
    "        n = t\n",
    "        FinalPath  = [n]    \n",
    "        while G.size()>0 :\n",
    "            NodesAdj  = [x[0] for x in G.adj[n].items()]\n",
    "            NodesDist = [x[1]['dist'] for x in G.adj[n].items()]\n",
    "            ns = n\n",
    "            G.remove_node(n)\n",
    "            n = NodesAdj[np.array(NodesDist).argmin()]\n",
    "            FinalPath.append(n)\n",
    "            BusTNames.append(\"{}-{}\".format(ns,n))\n",
    "        for e in e_list:\n",
    "            Clist = indiv['Econnect'][int(e[1:])]\n",
    "            for c in Clist:\n",
    "                BusTNames.append(\"{}-C{}\".format(e,c))\n",
    "        FinalPath\n",
    "BusTNames\n"
   ]
  },
  {
   "cell_type": "code",
   "execution_count": null,
   "id": "6cbfc135",
   "metadata": {
    "hidden": true
   },
   "outputs": [],
   "source": [
    "# Plot\n",
    "row = pd.Series(indiv)\n",
    "ElemsList = ['Clist','Elist','Plist']\n",
    "Elems = ['C','E','P']\n",
    "SelectSlot = []\n",
    "List_EtoC = row.List_EtoC\n",
    "List_PtoE = row.List_PtoE\n",
    "for n in range(3):\n",
    "    SelectSlot+= ['{}{}'.format(Elems[n],i) for i in row[ElemsList[n]]]\n",
    "SelectSlot+= ['T0','T1']\n",
    "SelectLine = BusTNames\n",
    "# SelectLine = indiv['BusName']\n",
    "fig = new_plot(algo, SelectLine, SelectSlot)\n",
    "fig.set_size_inches(5,5)"
   ]
  },
  {
   "cell_type": "code",
   "execution_count": null,
   "id": "c2cecc15",
   "metadata": {
    "hidden": true
   },
   "outputs": [],
   "source": [
    "dfline[dfline.Connect == 'TT']"
   ]
  },
  {
   "cell_type": "raw",
   "id": "50bdef6b",
   "metadata": {
    "hidden": true
   },
   "source": [
    "DG = nx.Graph(path)\n",
    "list(nx.edge_dfs(DG))\n",
    "\n",
    "nx.draw(nx.Graph(list(nx.edge_dfs(DG))), with_labels = True)\n",
    "# nx.draw(DG, with_labels = True)"
   ]
  },
  {
   "cell_type": "raw",
   "id": "3fe75f04",
   "metadata": {
    "hidden": true
   },
   "source": [
    "SlotName\n",
    "G = G0.subgraph(SlotName).copy()\n",
    "list(nx.bfs_edges(G, \"T0\"))\n",
    "nx.draw(G, with_labels = True)\n",
    "list(nx.connected_components(G))"
   ]
  },
  {
   "cell_type": "code",
   "execution_count": null,
   "id": "b02a9300",
   "metadata": {
    "hidden": true
   },
   "outputs": [],
   "source": [
    "G = nx.Graph(path)\n",
    "list(nx.bfs_edges(G, \"T0\"))\n",
    "G.remove_node('T0')\n",
    "# isolates = list(nx.isolates(G))\n",
    "# isolates\n",
    "# G.remove_node(isolates)\n",
    "# nx.draw(G, with_labels = True)\n",
    "sub_graphs = nx.connected_components(G)\n",
    "sub_graphs = list(sub_graphs)\n",
    "list(sub_graphs[0])\n",
    "sub_graphs\n",
    "# list(sub_graphs)\n",
    "# list(sub_graphs)\n",
    "# G = sub_graphs[0]\n",
    "# nx.draw(G, with_labels = True)"
   ]
  },
  {
   "cell_type": "code",
   "execution_count": null,
   "id": "f586dc78",
   "metadata": {
    "hidden": true
   },
   "outputs": [],
   "source": [
    "G0 = nx.Graph(path)\n",
    "\n",
    "for T in Tlist:\n",
    "    G = G.copy()\n",
    "    "
   ]
  },
  {
   "cell_type": "code",
   "execution_count": null,
   "id": "597ee04c",
   "metadata": {
    "hidden": true
   },
   "outputs": [],
   "source": [
    "G = G0.subgraph(SlotName).copy()"
   ]
  },
  {
   "cell_type": "code",
   "execution_count": null,
   "id": "f01cbe3c",
   "metadata": {
    "hidden": true
   },
   "outputs": [],
   "source": []
  },
  {
   "cell_type": "markdown",
   "id": "68c31008",
   "metadata": {
    "heading_collapsed": true,
    "hidden": true
   },
   "source": [
    "## save perf graph create copy"
   ]
  },
  {
   "cell_type": "code",
   "execution_count": null,
   "id": "8c321d87",
   "metadata": {
    "hidden": true
   },
   "outputs": [],
   "source": [
    "%%time\n",
    "BusTNames, distT = T_connection(algo, indiv)\n",
    "# BusTNames"
   ]
  },
  {
   "cell_type": "code",
   "execution_count": null,
   "id": "4bd42ef9",
   "metadata": {
    "hidden": true
   },
   "outputs": [],
   "source": [
    "%%time\n",
    "BusTNames = Tconnection_v2(algo, indiv)\n",
    "# BusTNames"
   ]
  },
  {
   "cell_type": "code",
   "execution_count": null,
   "id": "20b351dc",
   "metadata": {
    "hidden": true
   },
   "outputs": [],
   "source": [
    "%%time\n",
    "BusTNames = Tconnection_v2(algo, indiv)"
   ]
  },
  {
   "cell_type": "code",
   "execution_count": null,
   "id": "72108f62",
   "metadata": {
    "hidden": true
   },
   "outputs": [],
   "source": [
    "%%time\n",
    "BusTNames = Tconnection_v2(algo, indiv)"
   ]
  },
  {
   "cell_type": "code",
   "execution_count": null,
   "id": "ab0c2100",
   "metadata": {
    "hidden": true
   },
   "outputs": [],
   "source": [
    "%%time\n",
    "BusTNames = Tconnection_v2(algo, indiv)"
   ]
  },
  {
   "cell_type": "code",
   "execution_count": null,
   "id": "1a2d41de",
   "metadata": {
    "hidden": true
   },
   "outputs": [],
   "source": [
    "%%timeit\n",
    "BusTNames = Tconnection_v2(algo, indiv)"
   ]
  },
  {
   "cell_type": "code",
   "execution_count": null,
   "id": "a5507bf0",
   "metadata": {
    "hidden": true
   },
   "outputs": [],
   "source": [
    "%%timeit\n",
    "BusTNames = Tconnection_v2(algo, indiv)"
   ]
  },
  {
   "cell_type": "code",
   "execution_count": null,
   "id": "504498a5",
   "metadata": {
    "hidden": true
   },
   "outputs": [],
   "source": [
    "%%timeit\n",
    "BusTNames = Tconnection_v2(algo, indiv)"
   ]
  },
  {
   "cell_type": "code",
   "execution_count": null,
   "id": "eb77007a",
   "metadata": {
    "hidden": true
   },
   "outputs": [],
   "source": [
    "BusTNames = Tconnection_v2(algo, indiv)"
   ]
  },
  {
   "cell_type": "code",
   "execution_count": null,
   "id": "78b8b125",
   "metadata": {
    "hidden": true
   },
   "outputs": [],
   "source": [
    "%%timeit\n",
    "G0 = nx.from_pandas_edgelist(algo.dfline, 's', 't', ['dist'])"
   ]
  },
  {
   "cell_type": "code",
   "execution_count": null,
   "id": "fd680415",
   "metadata": {
    "hidden": true
   },
   "outputs": [],
   "source": [
    "%%timeit\n",
    "G0 = nx.from_pandas_edgelist(algo.dfline, 's', 't', ['dist'])\n",
    "G0.remove_node('E4')"
   ]
  },
  {
   "cell_type": "code",
   "execution_count": null,
   "id": "5d380151",
   "metadata": {
    "hidden": true
   },
   "outputs": [],
   "source": [
    "%%timeit\n",
    "G0 = nx.from_pandas_edgelist(algo.dfline, 's', 't', ['dist'])\n",
    "G = G0.copy()"
   ]
  },
  {
   "cell_type": "code",
   "execution_count": null,
   "id": "3c9f5150",
   "metadata": {
    "hidden": true
   },
   "outputs": [],
   "source": [
    "%%timeit\n",
    "# G0 = nx.from_pandas_edgelist(algo.dfline, 's', 't', ['dist'])\n",
    "G = copy.deepcopy(G0)"
   ]
  },
  {
   "cell_type": "code",
   "execution_count": null,
   "id": "a70ad7fc",
   "metadata": {
    "hidden": true
   },
   "outputs": [],
   "source": [
    "%%timeit\n",
    "G = G0.copy()"
   ]
  },
  {
   "cell_type": "code",
   "execution_count": null,
   "id": "03db3c33",
   "metadata": {
    "hidden": true
   },
   "outputs": [],
   "source": [
    "%%timeit\n",
    "dfx = dfline.copy()"
   ]
  },
  {
   "cell_type": "code",
   "execution_count": null,
   "id": "4fd1bd14",
   "metadata": {
    "hidden": true
   },
   "outputs": [],
   "source": [
    "%%timeit\n",
    "G = G0.subgraph(['E0', 'E1', 'E2', 'E3', 'E4', 'E5']).copy()"
   ]
  },
  {
   "cell_type": "code",
   "execution_count": null,
   "id": "d14d7b30",
   "metadata": {
    "hidden": true
   },
   "outputs": [],
   "source": [
    "%%timeit\n",
    "G0 = nx.from_pandas_edgelist(algo.dfline, 's', 't', ['dist'])\n",
    "G = G0.copy()"
   ]
  },
  {
   "cell_type": "code",
   "execution_count": null,
   "id": "22613793",
   "metadata": {
    "hidden": true
   },
   "outputs": [],
   "source": []
  },
  {
   "cell_type": "markdown",
   "id": "daa27243",
   "metadata": {
    "heading_collapsed": true,
    "hidden": true
   },
   "source": [
    "## refacto cluster "
   ]
  },
  {
   "cell_type": "code",
   "execution_count": null,
   "id": "00e53c15",
   "metadata": {
    "hidden": true
   },
   "outputs": [],
   "source": [
    "A = np.random.randint(0,2,(6,6))\n",
    "A"
   ]
  },
  {
   "cell_type": "code",
   "execution_count": null,
   "id": "40b50722",
   "metadata": {
    "hidden": true
   },
   "outputs": [],
   "source": [
    "def Path_N(A,start): \n",
    "    N = len(A)\n",
    "    v0 = np.array([-1,1,-N,N])\n",
    "    #     v0 = np.array([-1,1,-N,N, -N-1, -N+1,N+1,N-1])\n",
    "    Dim = len(v0)\n",
    "    e = 2\n",
    "    A[start] = e\n",
    "    a = A.reshape(-1)\n",
    "    v = np.where(a == e)  \n",
    "\n",
    "    while len(v) > 0 :\n",
    "        v = np.tile(v, (Dim, 1)).T + v0\n",
    "        v = v[np.where(a[v]==1)]\n",
    "        v = np.unique(v)        \n",
    "        e+=1\n",
    "        a[v]=e\n",
    "    return a.reshape((N,N))"
   ]
  },
  {
   "cell_type": "code",
   "execution_count": null,
   "id": "1693a096",
   "metadata": {
    "hidden": true
   },
   "outputs": [],
   "source": [
    "kmeans = KMeans(n_clusters=2, random_state=0, n_init=\"auto\").fit(A)\n",
    "kmeans.labels_"
   ]
  },
  {
   "cell_type": "code",
   "execution_count": null,
   "id": "8ed6e40d",
   "metadata": {
    "hidden": true
   },
   "outputs": [],
   "source": [
    "A"
   ]
  },
  {
   "cell_type": "code",
   "execution_count": null,
   "id": "80100ffe",
   "metadata": {
    "hidden": true
   },
   "outputs": [],
   "source": [
    "Path_N(A.copy(),(0,0))"
   ]
  },
  {
   "cell_type": "code",
   "execution_count": null,
   "id": "881fce91",
   "metadata": {
    "hidden": true
   },
   "outputs": [],
   "source": [
    "height , width = A.shape\n",
    "Zlen = height * width\n",
    "z0 = np.zeros((height+2,width+2,) , dtype= int)\n",
    "cross  = np.array([(-1,0),(0,-1),(1,0),(0,1)])\n",
    "Z = np.full((Zlen,Zlen), False)\n",
    "\n",
    "for i, pos in enumerate(np.ndindex(z0[1:-1,1:-1].shape)): \n",
    "    z = z0.copy()\n",
    "    mask = np.array(pos)+1 + cross\n",
    "    z[mask[:,0], mask[:,1]] = 1\n",
    "    Z[i,: ] = z[1:-1,1:-1].reshape(-1)\n",
    "# plt.imshow(Z)"
   ]
  },
  {
   "cell_type": "code",
   "execution_count": null,
   "id": "bece9493",
   "metadata": {
    "hidden": true
   },
   "outputs": [],
   "source": [
    "A"
   ]
  },
  {
   "cell_type": "code",
   "execution_count": null,
   "id": "dd408235",
   "metadata": {
    "hidden": true,
    "scrolled": true
   },
   "outputs": [],
   "source": [
    "import numpy as np\n",
    "import numpy.lib.arraysetops as aso\n",
    "\n",
    "a=np.array([2, 1, 3, 3, 3])\n",
    "b=np.array([1, 2, 3, 3, 3])\n",
    "\n",
    "aso.setdiff1d(a, b)"
   ]
  },
  {
   "cell_type": "code",
   "execution_count": null,
   "id": "c8624b3a",
   "metadata": {
    "hidden": true
   },
   "outputs": [],
   "source": []
  },
  {
   "cell_type": "code",
   "execution_count": null,
   "id": "6f1e86f5",
   "metadata": {
    "hidden": true
   },
   "outputs": [],
   "source": [
    "A = np.random.randint(0,2,(3,3))\n",
    "A"
   ]
  },
  {
   "cell_type": "code",
   "execution_count": null,
   "id": "73b484fa",
   "metadata": {
    "hidden": true
   },
   "outputs": [],
   "source": [
    "A.sum(1)\n",
    "A.sum(0)"
   ]
  },
  {
   "cell_type": "code",
   "execution_count": null,
   "id": "8019f8ea",
   "metadata": {
    "hidden": true
   },
   "outputs": [],
   "source": [
    "np.linalg.inv(A)"
   ]
  },
  {
   "cell_type": "code",
   "execution_count": null,
   "id": "751b570b",
   "metadata": {
    "hidden": true
   },
   "outputs": [],
   "source": [
    "Z"
   ]
  },
  {
   "cell_type": "code",
   "execution_count": null,
   "id": "71d4f7d2",
   "metadata": {
    "hidden": true
   },
   "outputs": [],
   "source": [
    "np.array([False,True]) | np.array([True,True])"
   ]
  },
  {
   "cell_type": "code",
   "execution_count": null,
   "id": "2300f990",
   "metadata": {
    "hidden": true
   },
   "outputs": [],
   "source": [
    "def Pos_(x,width): \n",
    "    return  (x/width).astype(int)"
   ]
  },
  {
   "cell_type": "code",
   "execution_count": null,
   "id": "1b01a0e7",
   "metadata": {
    "hidden": true
   },
   "outputs": [],
   "source": [
    "G0 = nx.from_pandas_edgelist(dfline, 's', 't', ['dist'])"
   ]
  },
  {
   "cell_type": "code",
   "execution_count": null,
   "id": "85c36fb8",
   "metadata": {
    "hidden": true
   },
   "outputs": [],
   "source": [
    "(G.subgraph(c).copy() for c in nx.connected_components(G))"
   ]
  },
  {
   "cell_type": "code",
   "execution_count": null,
   "id": "0d07b193",
   "metadata": {
    "hidden": true
   },
   "outputs": [],
   "source": [
    "%%timeit\n",
    "A0 = A.copy()\n",
    "a0 = A0.ravel()\n",
    "# a0.reshape(A.shape)*1\n",
    "L = []\n",
    "while (a0!=0).any():\n",
    "    start = np.argmax(a0==1)\n",
    "    x = np.zeros(len(a0) , dtype=bool)\n",
    "    xs = x.copy()\n",
    "    x[start] = True\n",
    "#     start ,x.reshape(A.shape)*1\n",
    "    cond = (a0>0)\n",
    "    while (xs!=x).any():\n",
    "        xs = x.copy()\n",
    "        x = ((Z[:,:]*(x)).any(1)) | x\n",
    "        x=x*cond\n",
    "#     set(np.where(x.reshape(A.shape))[1])\n",
    "    List  = list(set(np.where(x.reshape(A.shape))[1]))\n",
    "#     List\n",
    "    a0[x] = 0\n",
    "#     x.reshape(A.shape).any(0)\n",
    "#     # \n",
    "#     'a0[x]',a0.reshape(A.shape)*1\n",
    "    L.append((List))\n",
    "# L\n",
    "\n"
   ]
  },
  {
   "cell_type": "code",
   "execution_count": null,
   "id": "b21f8c9c",
   "metadata": {
    "hidden": true
   },
   "outputs": [],
   "source": [
    "A"
   ]
  },
  {
   "cell_type": "code",
   "execution_count": null,
   "id": "5cf0d629",
   "metadata": {
    "hidden": true
   },
   "outputs": [],
   "source": [
    "L"
   ]
  },
  {
   "cell_type": "code",
   "execution_count": null,
   "id": "ac831ef2",
   "metadata": {
    "hidden": true
   },
   "outputs": [],
   "source": [
    "%%timeit\n",
    "kmeans = KMeans(n_clusters=2, random_state=1, n_init=\"auto\").fit(A)"
   ]
  },
  {
   "cell_type": "code",
   "execution_count": null,
   "id": "0db734c3",
   "metadata": {
    "hidden": true
   },
   "outputs": [],
   "source": [
    "list(List)"
   ]
  },
  {
   "cell_type": "code",
   "execution_count": null,
   "id": "cc70c104",
   "metadata": {
    "hidden": true
   },
   "outputs": [],
   "source": [
    "kmeans = KMeans(n_clusters=2, random_state=0, n_init=\"auto\").fit(A)\n",
    "kmeans.labels_"
   ]
  },
  {
   "cell_type": "code",
   "execution_count": null,
   "id": "0a35b3f1",
   "metadata": {
    "hidden": true
   },
   "outputs": [],
   "source": [
    "(xs!=x)"
   ]
  },
  {
   "cell_type": "code",
   "execution_count": null,
   "id": "21aa0dd9",
   "metadata": {
    "hidden": true
   },
   "outputs": [],
   "source": []
  },
  {
   "cell_type": "code",
   "execution_count": null,
   "id": "312d31a8",
   "metadata": {
    "hidden": true
   },
   "outputs": [],
   "source": [
    "Range = len(A)\n",
    "a0 = (A.copy()).ravel()\n",
    "a = (A.copy()).ravel()\n",
    "a[-1] = 2\n",
    "a = (a==2)\n",
    "cond = (a0>0)\n",
    "x = (Z[:,:]*(a)).sum(1) + a\n",
    "x.reshape(A.shape)\n",
    "# x+=(a==2)\n",
    "x=x*cond\n",
    "# x.reshape(A.shape)\n",
    "# x = x.astype(float)\n",
    "for i in range(Range) :\n",
    "#     x.reshape(A.shape)\n",
    "    x = (Z[:,:]*(x>0)).sum(1)+x\n",
    "    x=x*cond\n",
    "x\n",
    "x.reshape(A.shape)"
   ]
  },
  {
   "cell_type": "code",
   "execution_count": null,
   "id": "af504292",
   "metadata": {
    "hidden": true
   },
   "outputs": [],
   "source": []
  },
  {
   "cell_type": "code",
   "execution_count": null,
   "id": "8b3500d6",
   "metadata": {
    "hidden": true
   },
   "outputs": [],
   "source": [
    "def Dense(Z,a,start):\n",
    "    Range = len(A)\n",
    "    A0[start]\n",
    "    a0 = A.copy().ravel()\n",
    "    a  = A.copy().ravel()\n",
    "    a[-1] = 2\n",
    "    a = (a==2)\n",
    "    cond = (a0>0)\n",
    "    x = (Z[:,:]*(a)).sum(1) + a\n",
    "    x.reshape(A.shape)\n",
    "    x=x*cond\n",
    "    for i in range(Range) :\n",
    "        x = (Z[:,:]*(x>0)).sum(1)+x\n",
    "        x=x*cond\n",
    "    x\n",
    "    x.reshape(A.shape)\n",
    "    "
   ]
  },
  {
   "cell_type": "code",
   "execution_count": null,
   "id": "d5a88fd0",
   "metadata": {
    "hidden": true
   },
   "outputs": [],
   "source": [
    "Range = len(A)\n",
    "a0 = (A.copy()).ravel()\n",
    "a = (A.copy()).ravel()\n",
    "a[-1] = 2\n",
    "a = (a==2)\n",
    "cond = (a0>0)\n",
    "x = (Z[:,:]*(a)).sum(1) + a\n",
    "x.reshape(A.shape)\n",
    "# x+=(a==2)\n",
    "x=x*cond\n",
    "# x.reshape(A.shape)\n",
    "# x = x.astype(float)\n",
    "for i in range(Range) :\n",
    "    x.reshape(A.shape)\n",
    "    x = (Z[:,:]*(x>0)).sum(1)+x\n",
    "    x=x*cond\n",
    "x\n",
    "x.reshape(A.shape)"
   ]
  },
  {
   "cell_type": "code",
   "execution_count": null,
   "id": "c8230391",
   "metadata": {
    "hidden": true
   },
   "outputs": [],
   "source": [
    "Ar = x.copy()\n",
    "Ar = (Ar==0) * (A>0)\n"
   ]
  },
  {
   "cell_type": "code",
   "execution_count": null,
   "id": "180423b8",
   "metadata": {
    "hidden": true
   },
   "outputs": [],
   "source": [
    "x.reshape(A.shape)"
   ]
  },
  {
   "cell_type": "code",
   "execution_count": null,
   "id": "8c3682d8",
   "metadata": {
    "hidden": true
   },
   "outputs": [],
   "source": [
    "Z[:,:]*A.ravel()"
   ]
  },
  {
   "cell_type": "code",
   "execution_count": null,
   "id": "ed782bf3",
   "metadata": {
    "hidden": true
   },
   "outputs": [],
   "source": [
    "def Dense(a, beta, Range, cond, Z): \n",
    "    x = (Z[:,:]*a).sum(1) + a\n",
    "    x = x *cond\n",
    "    x = x.astype(float)\n",
    "    for i in range(Range) :\n",
    "        x = (Z[:,:]*(x>0)).sum(1)*beta + x\n",
    "        x = x *cond\n",
    "    return x\n",
    "Dense((A==1).ravel(), 1, 10, (A==1).ravel(), A)"
   ]
  },
  {
   "cell_type": "code",
   "execution_count": null,
   "id": "d46e5400",
   "metadata": {
    "hidden": true
   },
   "outputs": [],
   "source": [
    "def Dense(a, beta, Range, cond, Z): \n",
    "    x = (Z[:,:]*a).sum(1) + a\n",
    "    x = x *cond\n",
    "    x = x.astype(float)\n",
    "    for i in range(Range) :\n",
    "        x = (Z[:,:]*(x>0)).sum(1)*beta + x\n",
    "        x = x *cond\n",
    "    return x"
   ]
  },
  {
   "cell_type": "markdown",
   "id": "e4e608df",
   "metadata": {
    "heading_collapsed": true,
    "hidden": true
   },
   "source": [
    "## Test unitaire"
   ]
  },
  {
   "cell_type": "code",
   "execution_count": null,
   "id": "760ce788",
   "metadata": {
    "hidden": true
   },
   "outputs": [],
   "source": [
    "Comb"
   ]
  },
  {
   "cell_type": "code",
   "execution_count": null,
   "id": "5e0eb76d",
   "metadata": {
    "hidden": true
   },
   "outputs": [],
   "source": [
    "for i, (p,Elist) in enumerate(indiv['Pconnect'].items()): \n",
    "    pass\n",
    "p = 'P{}'.format(p)\n",
    "ElistName = ['E{}'.format(e) for e in Elist]\n",
    "SlotName = ElistName + ['T0']\n",
    "SlotName\n",
    "G = G0.subgraph(SlotName).copy()"
   ]
  },
  {
   "cell_type": "code",
   "execution_count": null,
   "id": "0ac405e0",
   "metadata": {
    "hidden": true
   },
   "outputs": [],
   "source": [
    "\n",
    "# %%timeit\n",
    "# G = G0.subgraph(SlotName).copy()\n",
    "Elist = ElistName.copy()\n",
    "L = []\n",
    "Len = len(Elist)\n",
    "A = np.full((Len,Len),np.NAN,dtype=object)\n",
    "L2 = []\n",
    "for i, e0 in enumerate(Elist):\n",
    "    G = G0.subgraph(SlotName).copy()\n",
    "    n = e0\n",
    "    path = []\n",
    "    l = []\n",
    "    j = 0\n",
    "    while n!='T0':\n",
    "        NodesAdj  = [x[0] for x in G.adj[n].items()]\n",
    "        NodesDist = [x[1]['dist'] for x in G.adj[n].items()]\n",
    "        ns = n\n",
    "        l.append(ns)\n",
    "        G.remove_node(n)\n",
    "        n = NodesAdj[np.array(NodesDist).argmin()]\n",
    "        path.append('{}-{}'.format(ns,n))\n",
    "        A[i,j] = ns\n",
    "        j+=1\n",
    "    L.append(l)\n",
    "    print(n,e0,l , path, np.argmax(A == e0, axis=1))\n",
    "L    \n",
    "X =pd.get_dummies(pd.Series(L).explode()).groupby(level=0).sum().values\n",
    "kmeans = KMeans(n_clusters=2, random_state=0, n_init=\"auto\").fit(X)\n",
    "group = kmeans.labels_\n",
    "group"
   ]
  },
  {
   "cell_type": "code",
   "execution_count": null,
   "id": "4cd8dd83",
   "metadata": {
    "hidden": true
   },
   "outputs": [],
   "source": [
    "X =pd.get_dummies(pd.Series(L).explode()).groupby(level=0).sum().values\n",
    "kmeans = KMeans(n_clusters=2, random_state=0, n_init=\"auto\").fit(X)\n",
    "group = kmeans.labels_\n",
    "gr = collections.defaultdict(list)\n",
    "for i, g in enumerate(group):\n",
    "    gr[g].append(Elist[i])\n",
    "gr"
   ]
  },
  {
   "cell_type": "code",
   "execution_count": null,
   "id": "6482a05b",
   "metadata": {
    "hidden": true
   },
   "outputs": [],
   "source": [
    "DictLine = algo.DictLine\n",
    "DictLine['P0-T0']['dist']"
   ]
  },
  {
   "cell_type": "code",
   "execution_count": null,
   "id": "dff197fd",
   "metadata": {
    "hidden": true
   },
   "outputs": [],
   "source": [
    "distT = copy.deepcopy(indiv['dist_Connect'])\n",
    "BusTNames = ['P0-T0']\n",
    "for g , Egroup in gr.items():\n",
    "    SlotName = Egroup + ['T0']\n",
    "    G = G0.subgraph(SlotName).copy()\n",
    "    n = \"T0\"\n",
    "    L = [n]\n",
    "    path = [\"P0-T0\"]\n",
    "    dist = DictLine['P0-T0']['dist']\n",
    "    while G.size()>0 :\n",
    "        NodesAdj  = [x[0] for x in G.adj[n].items()]\n",
    "        NodesDist = [x[1]['dist'] for x in G.adj[n].items()]\n",
    "        ns = n\n",
    "        G.remove_node(n)\n",
    "        n = NodesAdj[np.array(NodesDist).argmin()]\n",
    "        L.append(n)\n",
    "        #ajouter calcul duritval ect .... \n",
    "        line = '{}-{}'.format(ns,n)\n",
    "        path.append(line)\n",
    "        BusTNames.append(line)\n",
    "        dist += DictLine['{}-{}'.format(ns,n)]['dist']\n",
    "        distT['P0-{}'.format(n)] = dist\n",
    "    \n",
    "    g, Egroup , L    , path\n",
    "distT\n",
    "BusTNames    \n",
    "for e in Elist:\n",
    "    Clist = indiv['Econnect'][int(e[1:])]\n",
    "    for c in Clist:\n",
    "        BusTNames.append(\"{}-C{}\".format(e,c))\n",
    "BusTNames"
   ]
  },
  {
   "cell_type": "code",
   "execution_count": null,
   "id": "64eab4c5",
   "metadata": {
    "hidden": true
   },
   "outputs": [],
   "source": [
    "# Plot\n",
    "row = pd.Series(indiv)\n",
    "ElemsList = ['Clist','Elist','Plist']\n",
    "Elems = ['C','E','P']\n",
    "SelectSlot = []\n",
    "List_EtoC = row.List_EtoC\n",
    "List_PtoE = row.List_PtoE\n",
    "for n in range(3):\n",
    "    SelectSlot+= ['{}{}'.format(Elems[n],i) for i in row[ElemsList[n]]]\n",
    "SelectSlot+= ['T0']\n",
    "SelectLine = row.Name\n",
    "if row.Option == 'Bus' :   SelectLine = BusTNames               \n",
    "fig = new_plot(algo, SelectLine, SelectSlot)\n",
    "fig.set_size_inches(5,5)"
   ]
  },
  {
   "cell_type": "code",
   "execution_count": null,
   "id": "dbed51fe",
   "metadata": {
    "hidden": true
   },
   "outputs": [],
   "source": [
    "indiv['Econnect']"
   ]
  },
  {
   "cell_type": "code",
   "execution_count": null,
   "id": "c8d77e67",
   "metadata": {
    "hidden": true
   },
   "outputs": [],
   "source": [
    "indiv"
   ]
  },
  {
   "cell_type": "code",
   "execution_count": null,
   "id": "1f3da607",
   "metadata": {
    "hidden": true
   },
   "outputs": [],
   "source": [
    "Elist"
   ]
  },
  {
   "cell_type": "code",
   "execution_count": null,
   "id": "e41b7b27",
   "metadata": {
    "hidden": true
   },
   "outputs": [],
   "source": [
    "indiv['dist_Connect']"
   ]
  },
  {
   "cell_type": "raw",
   "id": "cc9dd2b6",
   "metadata": {
    "hidden": true
   },
   "source": [
    "G0.subgraph(['P0'] + ['T0', 'E1', 'E0']).size('dist')"
   ]
  },
  {
   "cell_type": "code",
   "execution_count": null,
   "id": "eccdd36b",
   "metadata": {
    "hidden": true
   },
   "outputs": [],
   "source": [
    "indiv['BusConnectDict']\n",
    "Econnect = indiv['Econnect']\n",
    "Ptype = indiv['Ptype']\n",
    "GroupDict = algo.GroupDict\n",
    "indiv['BusName']\n",
    "indiv['dist_Connect']\n",
    "indiv['BusDist']\n",
    "Econnect\n",
    "\n",
    "Cconnect =  { v: k for k, l in indiv['Econnect'].items() for v in l }\n",
    "Cconnect\n",
    "\n",
    "Name = indiv['Name']\n",
    "Name\n",
    "distList = [algo.dist[line] for line in Name] \n",
    "distList\n",
    "dist_Connect = dict(zip(Name,distList)) \n",
    "dist_Connect\n"
   ]
  },
  {
   "cell_type": "markdown",
   "id": "d0c6cea7",
   "metadata": {
    "heading_collapsed": true,
    "hidden": true
   },
   "source": [
    "### plot"
   ]
  },
  {
   "cell_type": "code",
   "execution_count": null,
   "id": "cfa18355",
   "metadata": {
    "hidden": true
   },
   "outputs": [],
   "source": [
    "# Plot\n",
    "row = pd.Series(indiv)\n",
    "ElemsList = ['Clist','Elist','Plist']\n",
    "Elems = ['C','E','P']\n",
    "SelectSlot = []\n",
    "List_EtoC = row.List_EtoC\n",
    "List_PtoE = row.List_PtoE\n",
    "for n in range(3):\n",
    "    SelectSlot+= ['{}{}'.format(Elems[n],i) for i in row[ElemsList[n]]]\n",
    "SelectLine = row.Name\n",
    "if row.Option == 'Bus' :   SelectLine = row.BusName                \n",
    "fig = new_plot(algo, SelectLine, SelectSlot)\n",
    "fig.set_size_inches(5,5)"
   ]
  },
  {
   "cell_type": "markdown",
   "id": "1b611f38",
   "metadata": {
    "heading_collapsed": true,
    "hidden": true
   },
   "source": [
    "### test save"
   ]
  },
  {
   "cell_type": "raw",
   "id": "8e2c10a8",
   "metadata": {
    "hidden": true
   },
   "source": [
    "L2 = []\n",
    "a = np.array()\n",
    "for i, e0 in enumerate(Elist):\n",
    "    if np.argmax(A == e0, axis=1)\n",
    "    e0,np.argmax(A == e0, axis=1)\n",
    "    "
   ]
  },
  {
   "cell_type": "code",
   "execution_count": null,
   "id": "ef3829c7",
   "metadata": {
    "hidden": true
   },
   "outputs": [],
   "source": [
    "A = np.array(L, dtype=object)\n",
    "A\n",
    "np.isin(A, 'E1')"
   ]
  },
  {
   "cell_type": "code",
   "execution_count": null,
   "id": "a7fa94d9",
   "metadata": {
    "hidden": true
   },
   "outputs": [],
   "source": [
    "pd.get_dummies(pd.Series(L).explode()).groupby(level=0).sum()"
   ]
  },
  {
   "cell_type": "code",
   "execution_count": null,
   "id": "88028545",
   "metadata": {
    "hidden": true
   },
   "outputs": [],
   "source": [
    "nx.shortest_path_length(G, source='T0', target='E1', weight='dist')"
   ]
  },
  {
   "cell_type": "code",
   "execution_count": null,
   "id": "ae25b5cd",
   "metadata": {
    "hidden": true
   },
   "outputs": [],
   "source": [
    "list(nx.all_simple_paths(G, source='T0', target='E1'))"
   ]
  },
  {
   "cell_type": "code",
   "execution_count": null,
   "id": "f9d7fb39",
   "metadata": {
    "hidden": true
   },
   "outputs": [],
   "source": [
    "p = dict(nx.all_pairs_bellman_ford_path(G), weight='dist' )\n",
    "p['T0']"
   ]
  },
  {
   "cell_type": "code",
   "execution_count": null,
   "id": "79bc7121",
   "metadata": {
    "hidden": true
   },
   "outputs": [],
   "source": [
    "print(nx.dijkstra_path(G, \"T0\", \"E1\"))"
   ]
  },
  {
   "cell_type": "code",
   "execution_count": null,
   "id": "88a7fcde",
   "metadata": {
    "hidden": true
   },
   "outputs": [],
   "source": [
    "G = G0.subgraph(SlotName).copy()"
   ]
  },
  {
   "cell_type": "code",
   "execution_count": null,
   "id": "38b51d33",
   "metadata": {
    "hidden": true
   },
   "outputs": [],
   "source": [
    "%%timeit\n",
    "p = nx.shortest_path(G, source='T0',target = \"E1\")\n"
   ]
  },
  {
   "cell_type": "code",
   "execution_count": null,
   "id": "f86ffd71",
   "metadata": {
    "hidden": true
   },
   "outputs": [],
   "source": [
    "dict(nx.all_pairs_shortest_path_length(G))"
   ]
  },
  {
   "cell_type": "code",
   "execution_count": null,
   "id": "d3810ad0",
   "metadata": {
    "hidden": true
   },
   "outputs": [],
   "source": [
    "G = nx.path_graph(5)\n",
    "length = dict(nx.all_pairs_shortest_path_length(G))\n",
    "for node in [0, 1, 2, 3, 4]:\n",
    "    print(f\"1 - {node}: {length[1][node]}\")"
   ]
  },
  {
   "cell_type": "code",
   "execution_count": null,
   "id": "795acc03",
   "metadata": {
    "hidden": true
   },
   "outputs": [],
   "source": [
    "length = dict(nx.all_pairs_shortest_path_length(G))\n",
    "for node in [0, 1, 2, 3, 4]:\n",
    "    print(f\"1 - {node}: {length[1][node]}\")"
   ]
  },
  {
   "cell_type": "code",
   "execution_count": null,
   "id": "5afe831e",
   "metadata": {
    "hidden": true
   },
   "outputs": [],
   "source": [
    "%%time\n",
    "G = nx.from_pandas_edgelist(dfl, 's', 't', ['dist'])\n",
    "n = \"P0\"\n",
    "L = [n]\n",
    "while G.size()>0 :\n",
    "    adj  = [x[0] for x in G.adj[n].items()]\n",
    "    dist = [x[1]['dist'] for x in G.adj[n].items()]\n",
    "    G.remove_node(n)\n",
    "    n = adj[np.array(dist).argmin()]\n",
    "    L.append(n)\n",
    "L"
   ]
  },
  {
   "cell_type": "markdown",
   "id": "a95ae332",
   "metadata": {
    "heading_collapsed": true,
    "hidden": true
   },
   "source": [
    "### save"
   ]
  },
  {
   "cell_type": "raw",
   "id": "55bbb37c",
   "metadata": {
    "hidden": true
   },
   "source": [
    "G0 = nx.from_pandas_edgelist(dfline, 's', 't', ['dist'])\n",
    "for i, (p,Elist) in enumerate(indiv['Pconnect'].items()): \n",
    "    pass\n",
    "\n",
    "p = 'P{}'.format(p)\n",
    "ElistName = ['E{}'.format(e) for e in Elist]\n",
    "SlotName = ElistName + ['T0']\n",
    "SlotName\n",
    "G = G0.subgraph(SlotName).copy()\n",
    "\n",
    "# dfl = dfline[dfline.index.isin(indiv['Name'])]\n",
    "# G = G0.subgraph(SlotName).copy()\n",
    "# dfl = dfline[dfline.ID.isin(indiv['Name'])]\n",
    "# G = nx.from_pandas_edgelist(dfl, 's', 't', ['dist'])\n",
    "n = p\n",
    "n = \"T0\"\n",
    "L = [n]\n",
    "path = []\n",
    "while G.size()>0 :    \n",
    "    NodesAdj  = [x[0] for x in G.adj[n].items()]\n",
    "    NodesDist = [x[1]['dist'] for x in G.adj[n].items()]\n",
    "    ns = n\n",
    "    G.remove_node(n)\n",
    "    n = NodesAdj[np.array(NodesDist).argmin()]\n",
    "    L.append(n)\n",
    "    path.append('{}-{}'.format(ns,n))\n",
    "L\n",
    "path"
   ]
  },
  {
   "cell_type": "markdown",
   "id": "02f739af",
   "metadata": {
    "heading_collapsed": true
   },
   "source": [
    "# Test new debit error ol / new"
   ]
  },
  {
   "cell_type": "code",
   "execution_count": null,
   "id": "dd65d81d",
   "metadata": {
    "hidden": true
   },
   "outputs": [],
   "source": [
    "file = {'SheetMapName' : 'map', 'uploaded_file' : \"data.xlsx\",'DistFactor' : 0.1}\n",
    "# file = {'SheetMapName' : 'map', 'uploaded_file' : None, 'DistFactor' : 0.1}\n",
    "# file = {'SheetMapName' : 'map bis', 'uploaded_file' : None, 'DistFactor' : 0.1}\n",
    "algo = load_data_brut(file)\n",
    "algo.ListBusPactif\n",
    "algo.DebitCalculationNew = False\n",
    "algo.Npc = 0\n",
    "# algo.dfmap"
   ]
  },
  {
   "cell_type": "code",
   "execution_count": null,
   "id": "6decf55c",
   "metadata": {
    "hidden": true
   },
   "outputs": [],
   "source": [
    "algo.GroupDict = [1,1,0]\n",
    "Name = \"E0-C0,E0-C1,E0-C2,P0-E0\""
   ]
  },
  {
   "cell_type": "code",
   "execution_count": null,
   "id": "af7eb390",
   "metadata": {
    "hidden": true
   },
   "outputs": [],
   "source": [
    "algo.DebitCalculationNew = False\n",
    "algo.Split = False\n",
    "indiv  = Indiv_reverse(Name,algo)\n",
    "indiv['PressionList'] , indiv['DebitList']\n",
    "indiv['dist_Connect']\n",
    "indiv['BusDist']\n",
    "indiv['BusConnectDict']\n",
    "# A = coef_E + d_EtoC_list * coef_d_EtoC + coef_C"
   ]
  },
  {
   "cell_type": "code",
   "execution_count": null,
   "id": "e18ffa03",
   "metadata": {
    "hidden": true
   },
   "outputs": [],
   "source": [
    "# print(debitinput, coef_d_PtoE, d_EtoC_list, coef_d_EtoC, coef_C, coef_d_PtoE * d_PtoE)"
   ]
  },
  {
   "cell_type": "code",
   "execution_count": null,
   "id": "413f6f98",
   "metadata": {
    "hidden": true
   },
   "outputs": [],
   "source": [
    "indiv['Ptype']"
   ]
  },
  {
   "cell_type": "code",
   "execution_count": null,
   "id": "cdd7cc0a",
   "metadata": {
    "hidden": true
   },
   "outputs": [],
   "source": [
    "algo.DebitCalculationNew = True\n",
    "indiv  = Indiv_reverse(Name,algo)\n",
    "indiv['PressionList'] , indiv['DebitList']\n",
    "indiv['dist_Connect']\n",
    "indiv['BusDist']\n",
    "indiv['BusConnectDict']\n",
    "# A = coef_E + d_EtoC_list * coef_d_EtoC + coef_C"
   ]
  },
  {
   "cell_type": "code",
   "execution_count": null,
   "id": "1f55512c",
   "metadata": {
    "hidden": true
   },
   "outputs": [],
   "source": [
    "IndivLine = indiv_lines_conf(algo, indiv)\n",
    "indiv['IndivLine'] = IndivLine\n",
    "pd.DataFrame(IndivLine)\n",
    "# print(json.dumps(d, sort_keys=True, indent=3))"
   ]
  },
  {
   "cell_type": "code",
   "execution_count": null,
   "id": "24aa4252",
   "metadata": {
    "hidden": true
   },
   "outputs": [],
   "source": [
    "indiv['dist_Connect']\n",
    "indiv['BusDist']"
   ]
  },
  {
   "cell_type": "code",
   "execution_count": null,
   "id": "951e71c4",
   "metadata": {
    "hidden": true
   },
   "outputs": [],
   "source": [
    "res,d = New_debit(algo,indiv)\n",
    "dfres = pd.DataFrame(res)\n",
    "dfres\n",
    "d"
   ]
  },
  {
   "cell_type": "code",
   "execution_count": null,
   "id": "2b7c6c38",
   "metadata": {
    "hidden": true
   },
   "outputs": [],
   "source": [
    "def debit(algo,indiv,debitinput, grouped = True, split = True):\n",
    "    # print(d_EtoC_list,d_PtoE,Clist)\n",
    "    pompe,ev,ClistG,pt = debitinput.values()\n",
    "    d_EtoC_list = np.array([algo.dist['E{}-C{}'.format(ev,c)] for c in ClistG])\n",
    "    d_PtoE      = indiv['dist_Connect']['P{}-E{}'.format(pompe,ev)]\n",
    "    # print(d_EtoC_list,d_PtoE,ClistG)\n",
    "    \n",
    "    if not grouped : split = False\n",
    "    PompeType = pt\n",
    "\n",
    "    p = [-5.16e-04, -1.54e-02, 4.87]\n",
    "    p = [algo.DataCategorie['Pompe']['Values'][pt][i] for i in ['a','b','c']]\n",
    "\n",
    "    cE0 = 7.64e-04\n",
    "    coef_E = 0 if split else cE0\n",
    "    \n",
    "    coef_C  = 0.036\n",
    "    coef_C  = [algo.Nvals[i] for i in ClistG]\n",
    "    coef_C  = np.array(coef_C)\n",
    "    coef_d_EtoC  = 2.35e-04\n",
    "    coef_d_EtoC = np.array([algo.duriteVal['E{}-C{}'.format(ev,c)] for c in ClistG])\n",
    "    # coef_d_PtoE = algo.duriteVal['P{}-E{}'.format(pompe,ev)] \n",
    "    coef_d_PtoE = indiv['duriteVal']['P{}-E{}'.format(pompe,ev)]     \n",
    "    \n",
    "    print(coef_d_PtoE, d_EtoC_list, coef_d_EtoC, coef_C, coef_d_PtoE * d_PtoE)\n",
    "    A = coef_E + d_EtoC_list * coef_d_EtoC + coef_C \n",
    "    # print(A)\n",
    "    Z = ( A**-0.5).sum() if grouped else A**-0.5\n",
    "    coef_E = cE0 if split else 0\n",
    "    As = p[0] - (coef_d_PtoE * d_PtoE) - 1/(Z**2) - coef_E\n",
    "    Bs = p[1]\n",
    "    Cs = p[2]\n",
    "    delta = (Bs**2) - (4 * As * Cs)\n",
    "    Qt  = np.array((- Bs - delta**0.5)/(2*As))\n",
    "    \n",
    "    Pt = np.array(Qt**2 / Z**2)\n",
    "    # print(Pt)\n",
    "    # if (PompeType == 'Pc') &  (Pt >=  algo.Nozzlelimits[ClistG]).all():\n",
    "    #     Pt = algo.Nozzlelimits[ClistG]*1.1 #* Pt/Pt\n",
    "\n",
    "    a0 = p[0] * (Qt**2) + p[1] * Qt + p[2] - Pt\n",
    "    Qi = (Pt / A)**0.5\n",
    "    Pi = coef_C * (Qi**2)\n",
    "    key = ['Qt','Pt','Qi','Pi']\n",
    "    val = [Qt, Pt, Qi, Pi]\n",
    "    val = [v.round(2) for v in val]\n",
    "    \n",
    "    return dict(zip(key,val))\n",
    "\n",
    "\n",
    "debitinput = {'p': 0, 'e': 0, 'ClistG': [0, 1], 'pt': 'Pc'}\n",
    "debit(algo,indiv,debitinput, grouped = True, split = True)"
   ]
  },
  {
   "cell_type": "markdown",
   "id": "fa267b1b",
   "metadata": {
    "heading_collapsed": true
   },
   "source": [
    "# Run"
   ]
  },
  {
   "cell_type": "markdown",
   "id": "5456dcf9",
   "metadata": {
    "hidden": true
   },
   "source": [
    "## Algo"
   ]
  },
  {
   "cell_type": "code",
   "execution_count": null,
   "id": "727baba9",
   "metadata": {
    "hidden": true,
    "scrolled": true
   },
   "outputs": [],
   "source": [
    "file = {'SheetMapName' : 'map', 'uploaded_file' : \"data.xlsx\"}\n",
    "# file = {'SheetMapName' : 'map', 'uploaded_file' : None, 'DistFactor' : 0.1}\n",
    "file = {'SheetMapName' : 'map bis', 'uploaded_file' : None, 'DistFactor' : 0.1}\n",
    "algo = load_data_brut(file)\n",
    "# algo.dfmap"
   ]
  },
  {
   "cell_type": "raw",
   "id": "95daec54",
   "metadata": {
    "hidden": true
   },
   "source": [
    "algo.BusActif = True\n",
    "algo.Npc = 0"
   ]
  },
  {
   "cell_type": "raw",
   "id": "af2499af",
   "metadata": {
    "hidden": true
   },
   "source": [
    "keydrop= ['Nvals',\"confs\",\"dfcapteur\", \"dfslot\",\"dfline\",\"indivs\",\n",
    "          \"df\",'dfmap','A0','DataCategorie', 'DictLine','DictPos','dist','durite',\n",
    "        'duriteType','duriteVal','CombAll','Comb']\n",
    "d = {k : v for k,v in vars(algo).items() if k not in keydrop}\n",
    "s = pd.Series(d).rename('Val').astype(str)\n",
    "s.index= s.index.astype(str)\n",
    "s"
   ]
  },
  {
   "cell_type": "code",
   "execution_count": null,
   "id": "8b670d8e",
   "metadata": {
    "hidden": true
   },
   "outputs": [],
   "source": [
    "# generation de 10 indivs\n",
    "df = indiv_init(algo, 10)\n",
    "\n",
    "df.columns\n",
    "indiv = algo.indivs[0]"
   ]
  },
  {
   "cell_type": "markdown",
   "id": "2251573b",
   "metadata": {
    "heading_collapsed": true,
    "hidden": true
   },
   "source": [
    "## Plot"
   ]
  },
  {
   "cell_type": "code",
   "execution_count": null,
   "id": "1c067001",
   "metadata": {
    "hidden": true
   },
   "outputs": [],
   "source": [
    "# Plot\n",
    "row = df.iloc[0]\n",
    "ElemsList = ['Clist','Elist','Plist']\n",
    "Elems = ['C','E','P']\n",
    "SelectSlot = []\n",
    "List_EtoC = row.List_EtoC\n",
    "List_PtoE = row.List_PtoE\n",
    "for n in range(3):\n",
    "    SelectSlot+= ['{}{}'.format(Elems[n],i) for i in row[ElemsList[n]]]\n",
    "SelectLine = row.Name\n",
    "if row.Option == 'Bus' :   SelectLine = row.BusName                \n",
    "fig = new_plot(algo, SelectLine, SelectSlot)"
   ]
  },
  {
   "cell_type": "markdown",
   "id": "f278d2e6",
   "metadata": {
    "hidden": true
   },
   "source": [
    "## ALL"
   ]
  },
  {
   "cell_type": "code",
   "execution_count": null,
   "id": "a0a866f8",
   "metadata": {
    "hidden": true
   },
   "outputs": [],
   "source": [
    "# Plot all\n",
    "SelectLine = algo.DictLine.keys()\n",
    "SelectSlot = algo.DictPos.keys()\n",
    "\n",
    "fig = new_plot(algo, SelectLine, SelectSlot)"
   ]
  },
  {
   "cell_type": "markdown",
   "id": "804c68bb",
   "metadata": {
    "heading_collapsed": true
   },
   "source": [
    "# NewBus"
   ]
  },
  {
   "cell_type": "markdown",
   "id": "adc70e60",
   "metadata": {
    "heading_collapsed": true,
    "hidden": true
   },
   "source": [
    "## func"
   ]
  },
  {
   "cell_type": "code",
   "execution_count": null,
   "id": "760f3a7e",
   "metadata": {
    "hidden": true
   },
   "outputs": [],
   "source": [
    "def indiv_lines_conf(algo, indiv):\n",
    "    GroupDict = algo.GroupDict\n",
    "    Econnect = indiv['Econnect']\n",
    "    Ptype    = indiv['Ptype']\n",
    "    Pconnect = indiv['Pconnect']\n",
    "    GroupDict = algo.GroupDict\n",
    "    Ptype = indiv['Ptype']\n",
    "    Cconnect =  { v: k for k, l in indiv['Econnect'].items() for v in l } # a bouger de place \n",
    "\n",
    "    Pline = indiv['BusConnectDict']\n",
    "    IndivLine = []\n",
    "    Gconnect = {}\n",
    "    # loop sur BusConnectDict generer via func bus_connection qui doit prendre en compte le remove des PtoE \n",
    "    # list les mutiple connection au meme slot de pompe = remove ou autre solution \n",
    "    \n",
    "    for i, (p, Elist) in enumerate(Pline):\n",
    "        pt = Ptype[i]    \n",
    "        gr = collections.defaultdict(list)\n",
    "        Gconnect = {}\n",
    "\n",
    "        # gr dict pour une line\n",
    "        for e in Elist: \n",
    "            # on fait 1 le dict des group par {gr : c}  \n",
    "            Clist = indiv['Econnect'][e]\n",
    "            for c in Clist:\n",
    "                gr[GroupDict[c]].append(c) \n",
    "        gr = dict(gr)\n",
    "        print(p, Elist, gr, sorted(gr))\n",
    "\n",
    "        # etape la plus bizarre on utile le nouveau Connect pour organiser les ev dans l'ordre et par groupe pour juste lister ensuite dans calcul debit\n",
    "        for e in Elist:\n",
    "            for n in sorted(gr): # pas sur quie le sorted serve a quelque chose \n",
    "                g = gr[n]\n",
    "                d = collections.defaultdict(list)\n",
    "                for c in g :\n",
    "                    e = Cconnect[c]\n",
    "                    d[e].append(c)\n",
    "                Gconnect[n] = dict(d)       \n",
    "\n",
    "        LineConf = dict(\n",
    "            p = p,        \n",
    "            e = Elist,\n",
    "            gr = gr,\n",
    "            pt = 'Pa',\n",
    "            Gconnect = Gconnect\n",
    "        )\n",
    "        \n",
    "        IndivLine.append(LineConf)\n",
    "    return IndivLine"
   ]
  },
  {
   "cell_type": "code",
   "execution_count": null,
   "id": "29c88f13",
   "metadata": {
    "hidden": true
   },
   "outputs": [],
   "source": [
    "def New_debit(algo,indiv):\n",
    "    res = []\n",
    "    for line in IndivLine:\n",
    "        pt = line['pt']\n",
    "        p = line['p']\n",
    "        Q0 = np.arange(0.1,80,0.1)\n",
    "        for g , ClistDict in line['Gconnect'].items():\n",
    "            g , ClistDict\n",
    "            Elist = ClistDict.keys()\n",
    "            # ClistDict = line['Gconnect']\n",
    "            PtoElist  = ['P{}-E{}'.format(p,e) for e in Elist]\n",
    "             # tres important puisque ordre de calucl a respecter \n",
    "            coef_PtoE = [DictLine[line]['duriteVal'] * indiv['BusDist'][line] for line in PtoElist]\n",
    "            coef_PtoE = np.round(coef_PtoE,6)\n",
    "            a,b,c = [algo.DataCategorie['Pompe']['Values'][pt][i] for i in ['a','b','c']]\n",
    "            G = a * Q0**2 + b*Q0 +c\n",
    "            Qx = 0\n",
    "\n",
    "            Qlist, Alist = [] , []\n",
    "\n",
    "            for i, (e,Clist) in enumerate(ClistDict.items()): # changer en list pour avoir l'ordre !!\n",
    "    #             print(i, e,EClist)\n",
    "                # calcul des coef comme avant \n",
    "                coef_C      = np.array([algo.Nvals[i] for i in Clist])\n",
    "                d_EtoC      = np.array([algo.dist['E{}-C{}'.format(e,c)] for c in Clist])\n",
    "                coef_d_EtoC = np.array([algo.duriteVal['E{}-C{}'.format(e,c)] for c in Clist])\n",
    "                coef_E = 7.64e-04  \n",
    "\n",
    "                # new si pas de capteur on a juste le coef de droite = 0 normalement \n",
    "                # le truc c'est quil faudra faire cette loop dans le cas de group ou le premier Ev dn'est pas activer \n",
    "                # donc prendre en compte pour le calcul de coef_PtoE\n",
    "                G = G - coef_PtoE[i]*(Q0-Qx)**2\n",
    "                G[G<0] = 0\n",
    "                A = coef_E + d_EtoC * coef_d_EtoC + coef_C \n",
    "    #             print(coef_E ,d_EtoC , coef_d_EtoC ,coef_C,  A)\n",
    "                Alist.append(A.round(3))\n",
    "                # magie on tile la mtrice sur A step correspond au tableau excel etendu sur la droite\n",
    "                Qlist.append(np.sqrt(G / A[:,np.newaxis]))\n",
    "                Qi = np.vstack(Qlist)  # a essayer de passer en append coté numpy \n",
    "                Qx = Qi.sum(0)\n",
    "\n",
    "            # le offset de -1 pour retrouver la plus proche valeur de Q0 -Qx facile \n",
    "            idx = np.searchsorted(Q0 - Qx, -1)\n",
    "            # idx\n",
    "            Qi = np.vstack(Qlist)[:,idx].round(3)\n",
    "            Pi = (np.concatenate(Alist)* (Qi**2)).round(3)\n",
    "            r = dict(\n",
    "                g = g,\n",
    "                ClistDict = ClistDict,\n",
    "                PtoElist = PtoElist,\n",
    "                coef_PtoE = coef_PtoE,\n",
    "                Qi = Qi, \n",
    "                Pi = Pi,\n",
    "                Alist = Alist,\n",
    "            )\n",
    "            res.append(r)\n",
    "    return res\n",
    "\n",
    "    "
   ]
  },
  {
   "cell_type": "code",
   "execution_count": null,
   "id": "fcac12ce",
   "metadata": {
    "hidden": true
   },
   "outputs": [],
   "source": [
    "c1, c2, c3\n",
    "Z = 1/(c1+c2+c3)\n",
    "coeff = 1/Z"
   ]
  },
  {
   "cell_type": "markdown",
   "id": "3288a163",
   "metadata": {
    "hidden": true
   },
   "source": [
    "## load"
   ]
  },
  {
   "cell_type": "code",
   "execution_count": null,
   "id": "f84ffdd8",
   "metadata": {
    "hidden": true
   },
   "outputs": [],
   "source": [
    "file = {'SheetMapName' : 'map', 'uploaded_file' : \"data.xlsx\",'DistFactor' : 0.1}\n",
    "# file = {'SheetMapName' : 'map', 'uploaded_file' : None, 'DistFactor' : 0.1}\n",
    "# file = {'SheetMapName' : 'map bis', 'uploaded_file' : None, 'DistFactor' : 0.1}\n",
    "algo = load_data_brut(file)\n",
    "algo.ListBusPactif\n",
    "algo.BusPactif = [True, True]\n",
    "# algo.dfmap"
   ]
  },
  {
   "cell_type": "code",
   "execution_count": null,
   "id": "6a520468",
   "metadata": {
    "hidden": true
   },
   "outputs": [],
   "source": [
    "algo.GroupDict = [1,1,0]\n",
    "Name = \"E1-C0,E1-C1,E1-C2,P1-E1\"\n",
    "indiv  = Indiv_reverse(Name,algo)"
   ]
  },
  {
   "cell_type": "code",
   "execution_count": null,
   "id": "c188c9f8",
   "metadata": {
    "hidden": true
   },
   "outputs": [],
   "source": [
    "algo.BusActif"
   ]
  },
  {
   "cell_type": "code",
   "execution_count": null,
   "id": "e54a210c",
   "metadata": {
    "hidden": true
   },
   "outputs": [],
   "source": [
    "IndivLine = indiv_lines_conf(algo, indiv)"
   ]
  },
  {
   "cell_type": "raw",
   "id": "7f3c1495",
   "metadata": {
    "collapsed": true,
    "hidden": true
   },
   "source": [
    "algo.DataCategorie"
   ]
  },
  {
   "cell_type": "code",
   "execution_count": null,
   "id": "6747461a",
   "metadata": {
    "hidden": true
   },
   "outputs": [],
   "source": [
    "algo.Group = True\n",
    "algo.GroupDict = [1,0,1,2,2]\n",
    "algo.GroupDict = [1,0,1,1,0]\n",
    "algo.GroupDict = [1,0,1,0,0]\n",
    "algo.GroupDict = [0,1,2,3,4]\n",
    "# algo.GroupDict = [1,1,1,1,1]\n",
    "# algo.GroupDict = [1,0,1,2,2]"
   ]
  },
  {
   "cell_type": "code",
   "execution_count": null,
   "id": "84a632f8",
   "metadata": {
    "hidden": true
   },
   "outputs": [],
   "source": [
    "[algo.BusPactif[p] for p in indiv['Plist']]"
   ]
  },
  {
   "cell_type": "code",
   "execution_count": null,
   "id": "6514c389",
   "metadata": {
    "hidden": true
   },
   "outputs": [],
   "source": [
    "# algo.BusActif = False\n",
    "algo.BusActif  = True\n",
    "algo.BusPactif = [True, True]\n",
    "algo.Npc = 0\n",
    "# indiv  = Indiv_reverse('E0-C0,E0-C1,E2-C2,P0-E0,P0-E1,P0-E2',algo)\n",
    "indiv  = Indiv_reverse('E0-C0,E1-C1,E1-C3,E2-C4,E0-C2,P0-E0,P0-E1,P0-E2',algo)\n",
    "indiv['Pconnect']\n",
    "indiv['BusConnectDict']"
   ]
  },
  {
   "cell_type": "code",
   "execution_count": null,
   "id": "b32efb34",
   "metadata": {
    "hidden": true
   },
   "outputs": [],
   "source": [
    "IndivLine = indiv_lines_conf(algo, indiv)\n",
    "indiv['IndivLine'] = IndivLine\n",
    "pd.DataFrame(IndivLine)\n",
    "# print(json.dumps(d, sort_keys=True, indent=3))"
   ]
  },
  {
   "cell_type": "code",
   "execution_count": null,
   "id": "53c08ba3",
   "metadata": {
    "hidden": true
   },
   "outputs": [],
   "source": [
    "res,d = New_debit(algo,indiv)\n",
    "dfres = pd.DataFrame(res)\n",
    "dfres\n",
    "d"
   ]
  },
  {
   "cell_type": "code",
   "execution_count": null,
   "id": "7d9b3414",
   "metadata": {
    "hidden": true
   },
   "outputs": [],
   "source": [
    "%%timeit\n",
    "IndivLine = indiv_lines_conf(algo, indiv)\n",
    "indiv['IndivLine'] = IndivLine\n",
    "res,d = New_debit(algo,indiv)"
   ]
  },
  {
   "cell_type": "code",
   "execution_count": null,
   "id": "49f7cd6f",
   "metadata": {
    "hidden": true
   },
   "outputs": [],
   "source": [
    "%%timeit\n",
    "d = Calcul_Debit(algo ,indiv, True)"
   ]
  },
  {
   "cell_type": "code",
   "execution_count": null,
   "id": "85263e6c",
   "metadata": {
    "hidden": true
   },
   "outputs": [],
   "source": [
    "indiv['DebitList']\n",
    "indiv['PressionList']"
   ]
  },
  {
   "cell_type": "code",
   "execution_count": null,
   "id": "a497a0b8",
   "metadata": {
    "hidden": true
   },
   "outputs": [],
   "source": [
    "indiv['DebitList']\n",
    "indiv['PressionList']"
   ]
  },
  {
   "cell_type": "code",
   "execution_count": null,
   "id": "19ac162f",
   "metadata": {
    "hidden": true
   },
   "outputs": [],
   "source": [
    "Debit = {}\n",
    "Pression = {}\n",
    "for v in res:\n",
    "    Clist = list(itertools.chain.from_iterable(v['ClistDict'].values()))\n",
    "    Clist ,v['Qi']\n",
    "    for i , c in enumerate(Clist):\n",
    "        Debit[c]    = v['Qi'][i]\n",
    "        Pression[c] = v['Pi'][i]"
   ]
  },
  {
   "cell_type": "code",
   "execution_count": null,
   "id": "4d8eabc4",
   "metadata": {
    "hidden": true
   },
   "outputs": [],
   "source": [
    "list((dict(collections.OrderedDict(sorted(Debit.items()))).values()))"
   ]
  },
  {
   "cell_type": "code",
   "execution_count": null,
   "id": "3d63ae77",
   "metadata": {
    "hidden": true
   },
   "outputs": [],
   "source": [
    "Debit"
   ]
  },
  {
   "cell_type": "code",
   "execution_count": null,
   "id": "92030de2",
   "metadata": {
    "hidden": true
   },
   "outputs": [],
   "source": [
    "Calcul_Debit(algo ,indiv, Split = algo.Split)"
   ]
  },
  {
   "cell_type": "code",
   "execution_count": null,
   "id": "a3e82cb6",
   "metadata": {
    "hidden": true
   },
   "outputs": [],
   "source": [
    "list(itertools.chain.from_iterable(v['ClistDict'].values()))"
   ]
  },
  {
   "cell_type": "code",
   "execution_count": null,
   "id": "839c3407",
   "metadata": {
    "hidden": true
   },
   "outputs": [],
   "source": [
    "collections.OrderedDict(sorted(d.items()))"
   ]
  },
  {
   "cell_type": "code",
   "execution_count": null,
   "id": "bb358a68",
   "metadata": {
    "hidden": true
   },
   "outputs": [],
   "source": [
    "dfline = algo.dfline.copy()\n",
    "dfline['s'] = dfline.ID.str.split('-').str[0]\n",
    "dfline['t'] = dfline.ID.str.split('-').str[1]\n",
    "dfline['Connect'] = dfline['s'].str[0] + dfline['t'].str[0]\n",
    "dfline = dfline.set_index('ID')"
   ]
  },
  {
   "cell_type": "code",
   "execution_count": null,
   "id": "4e2ec587",
   "metadata": {
    "hidden": true
   },
   "outputs": [],
   "source": [
    "dfline[dfline.Connect == 'EE']"
   ]
  },
  {
   "cell_type": "code",
   "execution_count": null,
   "id": "cba656c8",
   "metadata": {
    "hidden": true
   },
   "outputs": [],
   "source": [
    "lineDict= dfline.to_dict()"
   ]
  },
  {
   "cell_type": "code",
   "execution_count": null,
   "id": "8329b013",
   "metadata": {
    "hidden": true
   },
   "outputs": [],
   "source": [
    "DictLine = algo.DictLine\n",
    "DictLine"
   ]
  },
  {
   "cell_type": "code",
   "execution_count": null,
   "id": "c47e3f93",
   "metadata": {
    "hidden": true
   },
   "outputs": [],
   "source": [
    "indiv"
   ]
  },
  {
   "cell_type": "markdown",
   "id": "571976aa",
   "metadata": {
    "heading_collapsed": true,
    "hidden": true
   },
   "source": [
    "### plot"
   ]
  },
  {
   "cell_type": "code",
   "execution_count": null,
   "id": "8cab2e5a",
   "metadata": {
    "hidden": true
   },
   "outputs": [],
   "source": [
    "# Plot\n",
    "row = pd.Series(indiv)\n",
    "ElemsList = ['Clist','Elist','Plist']\n",
    "Elems = ['C','E','P']\n",
    "SelectSlot = []\n",
    "List_EtoC = row.List_EtoC\n",
    "List_PtoE = row.List_PtoE\n",
    "for n in range(3):\n",
    "    SelectSlot+= ['{}{}'.format(Elems[n],i) for i in row[ElemsList[n]]]\n",
    "SelectLine = row.Name\n",
    "if row.Option == 'Bus' :   SelectLine = row.BusName                \n",
    "fig = new_plot(algo, SelectLine, SelectSlot)\n",
    "fig.set_size_inches(5,5)"
   ]
  },
  {
   "cell_type": "markdown",
   "id": "ceb4ff1a",
   "metadata": {
    "heading_collapsed": true,
    "hidden": true
   },
   "source": [
    "## df refacto"
   ]
  },
  {
   "cell_type": "code",
   "execution_count": null,
   "id": "088e6d22",
   "metadata": {
    "hidden": true
   },
   "outputs": [],
   "source": [
    "dfslot = pd.DataFrame(algo.DictPos).T.sort_index()\n",
    "dfslot.columns = ('y','x')\n",
    "dfslot.T"
   ]
  },
  {
   "cell_type": "code",
   "execution_count": null,
   "id": "380c8995",
   "metadata": {
    "hidden": true
   },
   "outputs": [],
   "source": [
    "dfline = algo.dfline.copy()\n",
    "dfline['s'] = dfline.ID.str.split('-').str[0]\n",
    "dfline['t'] = dfline.ID.str.split('-').str[1]\n",
    "dfline"
   ]
  },
  {
   "cell_type": "code",
   "execution_count": null,
   "id": "27e375d7",
   "metadata": {
    "hidden": true
   },
   "outputs": [],
   "source": [
    "Econnect = indiv['Econnect']\n",
    "Ptype = indiv['Ptype']\n",
    "GroupDict = algo.GroupDict\n",
    "indiv['BusName']\n",
    "Econnect\n",
    "GroupDict"
   ]
  },
  {
   "cell_type": "code",
   "execution_count": null,
   "id": "e408b9bf",
   "metadata": {
    "hidden": true
   },
   "outputs": [],
   "source": []
  },
  {
   "cell_type": "code",
   "execution_count": null,
   "id": "63dada3b",
   "metadata": {
    "hidden": true
   },
   "outputs": [],
   "source": [
    "dfl = dfline[dfline.ID.isin(indiv['Name'])]\n",
    "dfl"
   ]
  },
  {
   "cell_type": "markdown",
   "id": "078a7565",
   "metadata": {
    "heading_collapsed": true,
    "hidden": true
   },
   "source": [
    "## New busconnection"
   ]
  },
  {
   "cell_type": "code",
   "execution_count": null,
   "id": "f3b27704",
   "metadata": {
    "hidden": true
   },
   "outputs": [],
   "source": [
    "dfline[dfline.Connect=='EE']"
   ]
  },
  {
   "cell_type": "raw",
   "id": "0567d6c7",
   "metadata": {
    "hidden": true
   },
   "source": [
    "Pdist = dfline.loc[~dfline.ID.str.contains('C'),['s','t','dist']].set_index(['s','t']).unstack().fillna(np.inf).values\n",
    "Pdist = dfline.loc[~dfline.ID.str.contains('C'),['s','t','dist']].set_index(['s','t']).unstack().fillna(np.inf).values"
   ]
  },
  {
   "cell_type": "raw",
   "id": "b31703f4",
   "metadata": {
    "hidden": true
   },
   "source": [
    "x = dfline.loc[~dfline.ID.str.contains('C'),['s','t','dist']].set_index(['s','t']).unstack().fillna(np.inf)\n",
    "px = x[x.index.str.contains('P0')].values\n",
    "ex = x[x.index.str.contains('E')].values\n",
    "x"
   ]
  },
  {
   "cell_type": "code",
   "execution_count": null,
   "id": "f919be2d",
   "metadata": {
    "hidden": true
   },
   "outputs": [],
   "source": [
    "dfline"
   ]
  },
  {
   "cell_type": "code",
   "execution_count": null,
   "id": "cbe9c669",
   "metadata": {
    "hidden": true
   },
   "outputs": [],
   "source": [
    "e = px[0].argmin()\n",
    "ex = x[x.index.str.contains('E')].values\n",
    "ex.drop()\n",
    "while len(ex) > 0:\n",
    "    e = ex[e]"
   ]
  },
  {
   "cell_type": "code",
   "execution_count": null,
   "id": "f2c744c1",
   "metadata": {
    "hidden": true
   },
   "outputs": [],
   "source": [
    "pos = np.where(x == np.min(x)\n",
    "pos = pos[0][0], pos[1][0]\n",
    "pos"
   ]
  },
  {
   "cell_type": "code",
   "execution_count": null,
   "id": "99f205cf",
   "metadata": {
    "hidden": true
   },
   "outputs": [],
   "source": [
    "G=nx.from_pandas_edgelist(dfline, 's', 't', ['dist'])"
   ]
  },
  {
   "cell_type": "code",
   "execution_count": null,
   "id": "39997fd7",
   "metadata": {
    "hidden": true
   },
   "outputs": [],
   "source": [
    "ListMask = ['P0', 'E0','E1','E2','E3']\n",
    "mask = dfline.s.isin(ListMask) & dfline.t.isin(ListMask)\n",
    "dfl = dfline[mask]"
   ]
  },
  {
   "cell_type": "code",
   "execution_count": null,
   "id": "72931f47",
   "metadata": {
    "hidden": true
   },
   "outputs": [],
   "source": [
    "# New_dist_Connect = copy.deepcopy(dist_Connect)\n",
    "BusName = copy.deepcopy(indiv['Name'])\n",
    "Pconnect = indiv['Pconnect']\n",
    "\n",
    "dfx0 = algo.dfline.copy()\n",
    "dfx0['a'] = dfx0.ID.str.split('-').str[0]\n",
    "dfx0['b'] = dfx0.ID.str.split('-').str[1]\n",
    "\n",
    "NameListNew  = []\n",
    "DictMapName = {}\n",
    "BusConnectDict = []"
   ]
  },
  {
   "cell_type": "code",
   "execution_count": null,
   "id": "87a6bfa8",
   "metadata": {
    "hidden": true
   },
   "outputs": [],
   "source": [
    "Pconnect"
   ]
  },
  {
   "cell_type": "code",
   "execution_count": null,
   "id": "18a030cf",
   "metadata": {
    "hidden": true
   },
   "outputs": [],
   "source": [
    "G.nodes"
   ]
  },
  {
   "cell_type": "code",
   "execution_count": null,
   "id": "439d2389",
   "metadata": {
    "hidden": true
   },
   "outputs": [],
   "source": [
    "%%timeit\n",
    "G = nx.from_pandas_edgelist(dfl, 's', 't', ['dist'])"
   ]
  },
  {
   "cell_type": "code",
   "execution_count": null,
   "id": "b409269b",
   "metadata": {
    "hidden": true
   },
   "outputs": [],
   "source": [
    "G = nx.from_pandas_edgelist(dfl, 's', 't', ['dist'])\n",
    "G.size(weight=\"dist\")"
   ]
  },
  {
   "cell_type": "code",
   "execution_count": null,
   "id": "61490d39",
   "metadata": {
    "hidden": true
   },
   "outputs": [],
   "source": [
    "Elist\n",
    "G.subgraph()"
   ]
  },
  {
   "cell_type": "code",
   "execution_count": null,
   "id": "a4641aae",
   "metadata": {
    "hidden": true
   },
   "outputs": [],
   "source": [
    "G['P0']"
   ]
  },
  {
   "cell_type": "code",
   "execution_count": null,
   "id": "e59ff252",
   "metadata": {
    "hidden": true
   },
   "outputs": [],
   "source": [
    "%%time\n",
    "G = nx.from_pandas_edgelist(dfl, 's', 't', ['dist'])\n",
    "n = \"P0\"\n",
    "L = [n]\n",
    "while G.size()>0 :\n",
    "    adj  = [x[0] for x in G.adj[n].items()]\n",
    "    dist = [x[1]['dist'] for x in G.adj[n].items()]\n",
    "    G.remove_node(n)\n",
    "    n = adj[np.array(dist).argmin()]\n",
    "    L.append(n)\n",
    "L"
   ]
  },
  {
   "cell_type": "code",
   "execution_count": null,
   "id": "5ed1bb2a",
   "metadata": {
    "hidden": true
   },
   "outputs": [],
   "source": [
    "%%timeit\n",
    "nx.single_source_shortest_path_length(G ,source='P0')"
   ]
  },
  {
   "cell_type": "code",
   "execution_count": null,
   "id": "1d28b1d8",
   "metadata": {
    "hidden": true
   },
   "outputs": [],
   "source": [
    "G = nx.from_pandas_edgelist(dfline, 's', 't', ['dist'])\n",
    "list(G.edges.data(data = True))"
   ]
  },
  {
   "cell_type": "code",
   "execution_count": null,
   "id": "9827988d",
   "metadata": {
    "hidden": true
   },
   "outputs": [],
   "source": [
    "indiv['Name']"
   ]
  },
  {
   "cell_type": "code",
   "execution_count": null,
   "id": "18035b7e",
   "metadata": {
    "hidden": true
   },
   "outputs": [],
   "source": [
    "dfslot = pd.DataFrame(algo.DictPos).T\n",
    "dfslot.columns = ('y','x')\n",
    "node_attr = dfslot.to_dict('index')\n",
    "nx.set_node_attributes(G, node_attr)"
   ]
  },
  {
   "cell_type": "code",
   "execution_count": null,
   "id": "a4049ef3",
   "metadata": {
    "hidden": true
   },
   "outputs": [],
   "source": [
    "H = G.\n",
    "G.remove_nodes_from(list(nx.isolates(G)))"
   ]
  },
  {
   "cell_type": "code",
   "execution_count": null,
   "id": "ed28d575",
   "metadata": {
    "hidden": true
   },
   "outputs": [],
   "source": [
    "dfl = dfline[dfline.ID.isin(indiv['Name'])]\n",
    "dfl\n",
    "G = nx.from_pandas_edgelist(dfl, 's', 't', ['dist'])"
   ]
  },
  {
   "cell_type": "code",
   "execution_count": null,
   "id": "fc43b838",
   "metadata": {
    "hidden": true
   },
   "outputs": [],
   "source": [
    "H = G.subgraph(['P0','E2','C4'])\n",
    "H.size(weight=\"dist\")"
   ]
  },
  {
   "cell_type": "code",
   "execution_count": null,
   "id": "cf7bdda6",
   "metadata": {
    "hidden": true
   },
   "outputs": [],
   "source": [
    "NodesList = pd.concat([dfline['s'] , dfline['t']]).unique()"
   ]
  },
  {
   "cell_type": "code",
   "execution_count": null,
   "id": "82f9bd51",
   "metadata": {
    "hidden": true
   },
   "outputs": [],
   "source": [
    "indiv"
   ]
  },
  {
   "cell_type": "code",
   "execution_count": null,
   "id": "0fe31419",
   "metadata": {
    "hidden": true
   },
   "outputs": [],
   "source": [
    "%%time\n",
    "G0 = nx.from_pandas_edgelist(dfline, 's', 't', ['dist'])\n",
    "for i, (p,Elist) in enumerate(Pconnect.items()): \n",
    "    pass\n",
    "\n",
    "p = 'P{}'.format(p)\n",
    "ElistName = ['E{}'.format(e) for e in Elist]\n",
    "SlotName = [p] + ElistName\n",
    "SlotName\n",
    "G = G0.subgraph(SlotName).copy()\n",
    "\n",
    "dfl = dfline[dfline.index.isin(indiv['Name'])]\n",
    "G = G0.subgraph(SlotName).copy()\n",
    "# dfl = dfline[dfline.ID.isin(indiv['Name'])]\n",
    "# G = nx.from_pandas_edgelist(dfl, 's', 't', ['dist'])\n",
    "n = p\n",
    "L = [n]\n",
    "path = []\n",
    "while G.size()>0 :\n",
    "    \n",
    "    NodesAdj  = [x[0] for x in G.adj[n].items()]\n",
    "    NodesDist = [x[1]['dist'] for x in G.adj[n].items()]\n",
    "    ns = n\n",
    "    G.remove_node(n)\n",
    "    n = NodesAdj[np.array(NodesDist).argmin()]\n",
    "    L.append(n)\n",
    "    path.append('{}-{}'.format(ns,n))\n",
    "L\n",
    "path"
   ]
  },
  {
   "cell_type": "markdown",
   "id": "c8683101",
   "metadata": {
    "heading_collapsed": true,
    "hidden": true
   },
   "source": [
    "## test conf"
   ]
  },
  {
   "cell_type": "code",
   "execution_count": null,
   "id": "b239ba05",
   "metadata": {
    "hidden": true
   },
   "outputs": [],
   "source": [
    "algo.dfline"
   ]
  },
  {
   "cell_type": "code",
   "execution_count": null,
   "id": "95c7c145",
   "metadata": {
    "hidden": true
   },
   "outputs": [],
   "source": [
    "pd.Series(indiv)"
   ]
  },
  {
   "cell_type": "code",
   "execution_count": null,
   "id": "49918e03",
   "metadata": {
    "hidden": true
   },
   "outputs": [],
   "source": [
    "Econnect = indiv['Econnect']\n",
    "Ptype = indiv['Ptype']\n",
    "GroupDict = algo.GroupDict\n",
    "indiv['BusName']\n",
    "Econnect\n",
    "\n",
    "Cconnect =  { v: k for k, l in indiv['Econnect'].items() for v in l }\n",
    "Cconnect\n",
    "\n",
    "Name = indiv['Name']\n",
    "Name\n",
    "distList = [algo.dist[line] for line in Name] \n",
    "distList\n",
    "dist_Connect = dict(zip(Name,distList)) \n",
    "dist_Connect\n",
    "Bus_Connection(algo, indiv, dist_Connect)"
   ]
  },
  {
   "cell_type": "code",
   "execution_count": null,
   "id": "9b7d3099",
   "metadata": {
    "hidden": true
   },
   "outputs": [],
   "source": [
    "Bus_Connection_v2(algo, indiv, dist_Connect)"
   ]
  },
  {
   "cell_type": "code",
   "execution_count": null,
   "id": "7a9c386e",
   "metadata": {
    "hidden": true
   },
   "outputs": [],
   "source": [
    "gr = collections.defaultdict(list)\n",
    "# on fait 1 le dict des group par {gr : c}  \n",
    "for e, clist in Econnect.items():\n",
    "    for c in clist:\n",
    "        gr[GroupDict[c]].append(c) \n",
    "gr\n",
    "DictX = {}\n",
    "for g, clist in gr.items(): # pas sur quie le sorted serve a quelque chose \n",
    "        d = collections.defaultdict(list)\n",
    "        for c in clist :\n",
    "            e = Cconnect[c]\n",
    "            if e in [0,1,2]:\n",
    "                d[e].append(c)\n",
    "                DictX[g] = dict(d) \n",
    "DictX  "
   ]
  },
  {
   "cell_type": "code",
   "execution_count": null,
   "id": "21069958",
   "metadata": {
    "hidden": true
   },
   "outputs": [],
   "source": [
    "Econnect\n",
    "GroupDict\n",
    "indiv['BusConnectDict']"
   ]
  },
  {
   "cell_type": "code",
   "execution_count": null,
   "id": "49302473",
   "metadata": {
    "hidden": true
   },
   "outputs": [],
   "source": [
    "set(GroupDict)"
   ]
  },
  {
   "cell_type": "code",
   "execution_count": null,
   "id": "6077ee18",
   "metadata": {
    "hidden": true,
    "scrolled": true
   },
   "outputs": [],
   "source": [
    "dict.fromkeys(GroupDict)"
   ]
  },
  {
   "cell_type": "code",
   "execution_count": null,
   "id": "f7f5c5cb",
   "metadata": {
    "hidden": true
   },
   "outputs": [],
   "source": [
    "np.unique([1,0,1,2,2],return_index=True,\n",
    "    return_inverse=True,\n",
    "    return_counts=True,)"
   ]
  },
  {
   "cell_type": "code",
   "execution_count": null,
   "id": "c343c60f",
   "metadata": {
    "hidden": true
   },
   "outputs": [],
   "source": [
    "np.where(np.array(GroupDict) == 1)[0]"
   ]
  },
  {
   "cell_type": "code",
   "execution_count": null,
   "id": "1b8cc81e",
   "metadata": {
    "hidden": true
   },
   "outputs": [],
   "source": [
    "dx = {}\n",
    "Econnect\n",
    "gr = {}\n",
    "for n in [0,1]:\n",
    "    d = collections.defaultdict(list)\n",
    "    glist = np.where(np.array(GroupDict) == n)[0]\n",
    "    for e, clist in Econnect.items():\n",
    "        for c in clist :\n",
    "            if c in glist:\n",
    "                d[e].append(c)\n",
    "#     print(g , dict(d))\n",
    "    dx[n] = dict(d)\n",
    "    gr[n] = list(glist)\n",
    "dx\n",
    "gr"
   ]
  },
  {
   "cell_type": "raw",
   "id": "2e5f9949",
   "metadata": {
    "collapsed": true,
    "hidden": true
   },
   "source": [
    "dx2 = copy.deepcopy(dx)\n",
    "for g, edict in dx.items():\n",
    "    e = edict.keys()\n",
    "    for e in edict.keys():\n",
    "        if e not in [0,1]:\n",
    "            del edict[e]\n",
    "        "
   ]
  },
  {
   "cell_type": "raw",
   "id": "98307424",
   "metadata": {
    "hidden": true
   },
   "source": [
    "Econnect = indiv['Econnect']\n",
    "GroupDict = algo.GroupDict\n",
    "gr = collections.defaultdict(list)\n",
    "gr2 = collections.defaultdict(list)\n",
    "dx = {}\n",
    "for e, clist in Econnect.items():\n",
    "    for c in clist:\n",
    "        g = GroupDict[c]\n",
    "        gr[GroupDict[c]].append(c) \n",
    "\n",
    "gr"
   ]
  },
  {
   "cell_type": "raw",
   "id": "bbe279aa",
   "metadata": {
    "hidden": true
   },
   "source": [
    "DictX = {}\n",
    "gr\n",
    "Cconnect\n",
    "for n in sorted(gr): # pas sur quie le sorted serve a quelque chose \n",
    "    g = gr[n]\n",
    "    d = collections.defaultdict(list)\n",
    "    for c in g :\n",
    "        e = Cconnect[c]\n",
    "        d[e].append(c)\n",
    "    DictX[n] = dict(d) \n",
    "DictX"
   ]
  },
  {
   "cell_type": "code",
   "execution_count": null,
   "id": "4f56df34",
   "metadata": {
    "hidden": true
   },
   "outputs": [],
   "source": [
    "Cconnect"
   ]
  },
  {
   "cell_type": "markdown",
   "id": "be41d475",
   "metadata": {
    "heading_collapsed": true,
    "hidden": true
   },
   "source": [
    "## Conf"
   ]
  },
  {
   "cell_type": "code",
   "execution_count": null,
   "id": "70d46ccb",
   "metadata": {
    "hidden": true
   },
   "outputs": [],
   "source": [
    "dfl = dfline[dfline.index.isin(indiv['Name'])]\n",
    "dfl"
   ]
  },
  {
   "cell_type": "code",
   "execution_count": null,
   "id": "ff406aa6",
   "metadata": {
    "hidden": true
   },
   "outputs": [],
   "source": [
    "Cconnect =  { v: k for k, l in indiv['Econnect'].items() for v in l }\n",
    "Cconnect"
   ]
  },
  {
   "cell_type": "code",
   "execution_count": null,
   "id": "f29458d6",
   "metadata": {
    "hidden": true
   },
   "outputs": [],
   "source": [
    "Econnect = indiv['Econnect']\n",
    "Ptype    = indiv['Ptype']\n",
    "Pconnect = indiv['Pconnect']\n",
    "GroupDict = algo.GroupDict\n",
    "Ptype = indiv['Ptype']\n",
    "Cconnect =  { v: k for k, l in indiv['Econnect'].items() for v in l }\n",
    "\n",
    "print(\"BusName\",indiv['BusName'])\n",
    "print(\"Econnect\" , Econnect)\n",
    "print(\"Pconnect\" , Pconnect)\n",
    "print(\"Ptype\" , list(Ptype))\n",
    "print(\"Cconnect\"  , Cconnect)\n",
    "print(\"GroupDict\" , GroupDict)\n",
    "print(\"BusConnectDict\" , indiv['BusConnectDict'])\n",
    "Name = indiv['Name']\n",
    "print(\"Name\",Name)\n",
    "distList = [algo.dist[line] for line in Name] \n",
    "# distList\n",
    "dist_Connect = dict(zip(Name,distList)) \n",
    "print(\"dist_Connect\", indiv['dist_Connect'])\n",
    "print(\"BusDist\", indiv['BusDist'])\n",
    "print(\"BusConnectDict\",indiv['BusConnectDict'])\n",
    "Pline = copy.deepcopy(Pconnect)"
   ]
  },
  {
   "cell_type": "raw",
   "id": "b9c2bcc6",
   "metadata": {
    "hidden": true
   },
   "source": [
    "pd.set_option('display.max_colwidth', 100)"
   ]
  },
  {
   "cell_type": "raw",
   "id": "9b1064f0",
   "metadata": {
    "hidden": true
   },
   "source": [
    "pd.Series(indiv)"
   ]
  },
  {
   "cell_type": "code",
   "execution_count": null,
   "id": "2c28f1ab",
   "metadata": {
    "hidden": true
   },
   "outputs": [],
   "source": [
    "Pline = copy.deepcopy(indiv['BusConnectDict'])\n",
    "Pline"
   ]
  },
  {
   "cell_type": "code",
   "execution_count": null,
   "id": "aee491ba",
   "metadata": {
    "hidden": true
   },
   "outputs": [],
   "source": [
    "Pline = []\n",
    "for p, elist in Pconnect.items():\n",
    "    for e in elist:\n",
    "        line =  (p, [e])\n",
    "        Pline.append(line)\n",
    "Pline"
   ]
  },
  {
   "cell_type": "code",
   "execution_count": null,
   "id": "d52b9580",
   "metadata": {
    "hidden": true
   },
   "outputs": [],
   "source": [
    "indiv['BusConnectDict']"
   ]
  },
  {
   "cell_type": "code",
   "execution_count": null,
   "id": "ef559b43",
   "metadata": {
    "hidden": true
   },
   "outputs": [],
   "source": [
    "def indiv_lines_conf(algo, indiv):\n",
    "    GroupDict = algo.GroupDict\n",
    "    Econnect = indiv['Econnect']\n",
    "    Ptype    = indiv['Ptype']\n",
    "    Pconnect = indiv['Pconnect']\n",
    "    GroupDict = algo.GroupDict\n",
    "    Ptype = indiv['Ptype']\n",
    "    Cconnect =  { v: k for k, l in indiv['Econnect'].items() for v in l } # a bouger de place \n",
    "\n",
    "    Pline = indiv['BusConnectDict']\n",
    "    IndivLine = []\n",
    "    Gconnect = {}\n",
    "    # loop sur BusConnectDict generer via func bus_connection qui doit prendre en compte le remove des PtoE \n",
    "    # list les mutiple connection au meme slot de pompe = remove ou autre solution \n",
    "    \n",
    "    for i, (p, Elist) in enumerate(Pline):\n",
    "        pt = Ptype[i]    \n",
    "        gr = collections.defaultdict(list)\n",
    "        Gconnect = {}\n",
    "\n",
    "        # gr dict pour une line\n",
    "        for e in Elist: \n",
    "            # on fait 1 le dict des group par {gr : c}  \n",
    "            Clist = indiv['Econnect'][e]\n",
    "            for c in Clist:\n",
    "                gr[GroupDict[c]].append(c) \n",
    "        gr = dict(gr)\n",
    "        print(p, Elist, gr, sorted(gr))\n",
    "\n",
    "        # etape la plus bizarre on utile le nouveau Connect pour organiser les ev dans l'ordre et par groupe pour juste lister ensuite dans calcul debit\n",
    "        for e in Elist:\n",
    "            for n in sorted(gr): # pas sur quie le sorted serve a quelque chose \n",
    "                g = gr[n]\n",
    "                d = collections.defaultdict(list)\n",
    "                for c in g :\n",
    "                    e = Cconnect[c]\n",
    "                    d[e].append(c)\n",
    "                Gconnect[n] = dict(d)       \n",
    "\n",
    "        LineConf = dict(\n",
    "            p = p,        \n",
    "            e = Elist,\n",
    "            gr = gr,\n",
    "            pt = 'Pa',\n",
    "            Gconnect = Gconnect\n",
    "        )\n",
    "        \n",
    "        IndivLine.append(LineConf)\n",
    "    return IndivLine\n",
    "\n",
    "IndivLine = indiv_lines_conf(algo, indiv)\n",
    "pd.DataFrame(IndivLine)\n",
    "# print(json.dumps(d, sort_keys=True, indent=3))"
   ]
  },
  {
   "cell_type": "markdown",
   "id": "e6172a74",
   "metadata": {
    "heading_collapsed": true,
    "hidden": true
   },
   "source": [
    "### s"
   ]
  },
  {
   "cell_type": "code",
   "execution_count": null,
   "id": "1ce0e751",
   "metadata": {
    "hidden": true
   },
   "outputs": [],
   "source": [
    "GroupDict = algo.GroupDict\n",
    "Econnect = indiv['Econnect']\n",
    "\n",
    "IndivLine = []\n",
    "Gconnect = {}\n",
    "# loop sur BusConnectDict generer via func bus_connection qui doit prendre en compte le remove des PtoE \n",
    "# list les mutiple connection au meme slot de pompe = remove ou autre solution \n",
    "for p, Elist in Pline.items():\n",
    "    pt = 'Pa' \n",
    "    gr = collections.defaultdict(list)\n",
    "\n",
    "    # on fait 1 le dict des group par {gr : c}  \n",
    "    for e in Elist:\n",
    "        for c in indiv['Econnect'][e]:\n",
    "            gr[GroupDict[c]].append(c) \n",
    "    gr = dict(gr)\n",
    "    print(p, Elist, gr, sorted(gr))\n",
    "\n",
    "    # etape la plus bizarre on utile le nouveau Connect pour organiser les ev dans l'ordre et par groupe pour juste lister ensuite dans calcul debit\n",
    "    for n in sorted(gr): # pas sur quie le sorted serve a quelque chose \n",
    "        g = gr[n]\n",
    "        d = collections.defaultdict(list)\n",
    "        for c in g :\n",
    "            e = Cconnect[c]\n",
    "            d[e].append(c)\n",
    "        Gconnect[n] = dict(d)       \n",
    "\n",
    "    conf = dict(\n",
    "        p = p,\n",
    "        e = Elist,\n",
    "        gr = gr,\n",
    "        pt = 'Pa',\n",
    "        Gconncect = Gconnect\n",
    "    )\n",
    "    IndivLine.append(conf)\n",
    "\n",
    "pd.DataFrame(IndivLine)\n",
    "# print(json.dumps(d, sort_keys=True, indent=3))"
   ]
  },
  {
   "cell_type": "markdown",
   "id": "1ef214f0",
   "metadata": {
    "heading_collapsed": true,
    "hidden": true
   },
   "source": [
    "## debit"
   ]
  },
  {
   "cell_type": "code",
   "execution_count": null,
   "id": "800e8b53",
   "metadata": {
    "hidden": true
   },
   "outputs": [],
   "source": [
    "a = (0,1,2)\n",
    "a = ['P0','E0','E1']"
   ]
  },
  {
   "cell_type": "raw",
   "id": "83ef9d69",
   "metadata": {
    "hidden": true
   },
   "source": [
    "a = 'MPLA'\n",
    "l = list(itertools.permutations(a, 4))\n",
    "l\n",
    "len(l)"
   ]
  },
  {
   "cell_type": "code",
   "execution_count": null,
   "id": "c8a63e3a",
   "metadata": {
    "hidden": true
   },
   "outputs": [],
   "source": [
    "list(itertools.pairwise(a))"
   ]
  },
  {
   "cell_type": "code",
   "execution_count": null,
   "id": "03cd68ee",
   "metadata": {
    "hidden": true
   },
   "outputs": [],
   "source": [
    "for line in IndivLine:\n",
    "    for n , ClistDict in line['Gconnect'].items():\n",
    "        print(n, ClistDict)"
   ]
  },
  {
   "cell_type": "code",
   "execution_count": null,
   "id": "41183d9a",
   "metadata": {
    "hidden": true
   },
   "outputs": [],
   "source": [
    "ClistDict.keys()"
   ]
  },
  {
   "cell_type": "code",
   "execution_count": null,
   "id": "6b4c9d22",
   "metadata": {
    "hidden": true
   },
   "outputs": [],
   "source": [
    "PtoElist"
   ]
  },
  {
   "cell_type": "code",
   "execution_count": null,
   "id": "6c089c40",
   "metadata": {
    "hidden": true
   },
   "outputs": [],
   "source": [
    "indiv['dist_Connect']\n",
    "indiv['BusDist']"
   ]
  },
  {
   "cell_type": "code",
   "execution_count": null,
   "id": "fb560f6f",
   "metadata": {
    "hidden": true
   },
   "outputs": [],
   "source": [
    "dfline"
   ]
  },
  {
   "cell_type": "code",
   "execution_count": null,
   "id": "e1f5b811",
   "metadata": {
    "hidden": true,
    "scrolled": false
   },
   "outputs": [],
   "source": [
    "# line = IndivLine[0]\n",
    "# line\n",
    "# bus = line['bus']\n",
    "# loop sur les gr avec les clisdict d'avant\n",
    "res = []\n",
    "for line in IndivLine:\n",
    "    pt = line['pt']\n",
    "    p = line['p']\n",
    "    Q0 = np.arange(0.1,80,0.1)\n",
    "    for g , ClistDict in line['Gconnect'].items():\n",
    "        g , ClistDict\n",
    "        Elist = ClistDict.keys()\n",
    "        # ClistDict = line['Gconnect']\n",
    "        PtoElist  = ['P{}-E{}'.format(p,e) for e in Elist]\n",
    "         # tres important puisque ordre de calucl a respecter \n",
    "        coef_PtoE = [DictLine[line]['duriteVal'] * indiv['BusDist'][line] for line in PtoElist]\n",
    "        coef_PtoE = np.round(coef_PtoE,6)\n",
    "        a,b,c = [algo.DataCategorie['Pompe']['Values'][pt][i] for i in ['a','b','c']]\n",
    "        G = a * Q0**2 + b*Q0 +c\n",
    "        Qx = 0\n",
    "\n",
    "        Qlist, Alist = [] , []\n",
    "        \n",
    "        for i, (e,Clist) in enumerate(ClistDict.items()): # changer en list pour avoir l'ordre !!\n",
    "#             print(i, e,EClist)\n",
    "            # calcul des coef comme avant \n",
    "            coef_C      = np.array([algo.Nvals[i] for i in Clist])\n",
    "            d_EtoC      = np.array([algo.dist['E{}-C{}'.format(e,c)] for c in Clist])\n",
    "            coef_d_EtoC = np.array([algo.duriteVal['E{}-C{}'.format(e,c)] for c in Clist])\n",
    "            coef_E = 7.64e-04  \n",
    "\n",
    "            # new si pas de capteur on a juste le coef de droite = 0 normalement \n",
    "            # le truc c'est quil faudra faire cette loop dans le cas de group ou le premier Ev dn'est pas activer \n",
    "            # donc prendre en compte pour le calcul de coef_PtoE\n",
    "            G = G - coef_PtoE[i]*(Q0-Qx)**2\n",
    "            G[G<0] = 0\n",
    "            A = coef_E + d_EtoC * coef_d_EtoC + coef_C \n",
    "#             print(coef_E ,d_EtoC , coef_d_EtoC ,coef_C,  A)\n",
    "            Alist.append(A.round(3))\n",
    "            # magie on tile la mtrice sur A step correspond au tableau excel etendu sur la droite\n",
    "            Qlist.append(np.sqrt(G / A[:,np.newaxis]))\n",
    "            Qi = np.vstack(Qlist)  # a essayer de passer en append coté numpy \n",
    "            Qx = Qi.sum(0)\n",
    "            \n",
    "        # le offset de -1 pour retrouver la plus proche valeur de Q0 -Qx facile \n",
    "        idx = np.searchsorted(Q0 - Qx, -1)\n",
    "        # idx\n",
    "        Qi = np.vstack(Qlist)[:,idx].round(3)\n",
    "        Pi = (np.concatenate(Alist)* (Qi**2)).round(3)\n",
    "        r = dict(\n",
    "            g = g,\n",
    "            ClistDict = ClistDict,\n",
    "            PtoElist = PtoElist,\n",
    "            coef_PtoE = coef_PtoE,\n",
    "            Qi = Qi, \n",
    "            Pi = Pi,\n",
    "            Alist = Alist,\n",
    "        )\n",
    "        res.append(r)\n",
    "\n",
    "pd.DataFrame(res)\n",
    "    "
   ]
  },
  {
   "cell_type": "code",
   "execution_count": null,
   "id": "027f9ef1",
   "metadata": {
    "hidden": true
   },
   "outputs": [],
   "source": [
    "DictLine[\"P0-E0\"]"
   ]
  },
  {
   "cell_type": "raw",
   "id": "67143372",
   "metadata": {
    "hidden": true
   },
   "source": [
    "dfline"
   ]
  },
  {
   "cell_type": "code",
   "execution_count": null,
   "id": "243099c1",
   "metadata": {
    "hidden": true
   },
   "outputs": [],
   "source": [
    "lineDict= dfline.to_dict()"
   ]
  },
  {
   "cell_type": "code",
   "execution_count": null,
   "id": "07cacad6",
   "metadata": {
    "hidden": true
   },
   "outputs": [],
   "source": [
    "lineDict['duriteVal'][]"
   ]
  },
  {
   "cell_type": "code",
   "execution_count": null,
   "id": "ee028a4c",
   "metadata": {
    "hidden": true
   },
   "outputs": [],
   "source": [
    "algo.DataCategorie['Tuyau']"
   ]
  },
  {
   "cell_type": "markdown",
   "id": "de0442fe",
   "metadata": {
    "heading_collapsed": true
   },
   "source": [
    "# Bus refacto SAVE"
   ]
  },
  {
   "cell_type": "markdown",
   "id": "9e151790",
   "metadata": {
    "heading_collapsed": true,
    "hidden": true
   },
   "source": [
    "## Bus (commentaire) a lire !!!"
   ]
  },
  {
   "cell_type": "code",
   "execution_count": null,
   "id": "d0ae137d",
   "metadata": {
    "hidden": true
   },
   "outputs": [],
   "source": [
    "algo.Group = True\n",
    "algo.GroupDict = [1,0,1,2,2]\n",
    "algo.GroupDict = [1,0,1,1,0]\n",
    "# algo.GroupDict = [1,0,1,0,0]"
   ]
  },
  {
   "cell_type": "code",
   "execution_count": null,
   "id": "a4f3e370",
   "metadata": {
    "hidden": true
   },
   "outputs": [],
   "source": [
    "algo.BusActif = True\n",
    "algo.Npc = 0\n",
    "# indiv  = Indiv_reverse('E0-C0,E0-C1,E2-C2,P0-E0,P0-E1,P0-E2',algo)\n",
    "indiv  = Indiv_reverse('E0-C0,E1-C1,E1-C3,E2-C4,E0-C2,P0-E0,P0-E1,P0-E2',algo)\n",
    "indiv['Pconnect']\n",
    "indiv['BusConnectDict']"
   ]
  },
  {
   "cell_type": "code",
   "execution_count": null,
   "id": "da35917c",
   "metadata": {
    "hidden": true
   },
   "outputs": [],
   "source": [
    "indiv"
   ]
  },
  {
   "cell_type": "code",
   "execution_count": null,
   "id": "ab4bb916",
   "metadata": {
    "hidden": true
   },
   "outputs": [],
   "source": [
    "Cconnect =  { v: k for k, l in indiv['Econnect'].items() for v in l }\n",
    "Cconnect"
   ]
  },
  {
   "cell_type": "raw",
   "id": "865d8db9",
   "metadata": {
    "hidden": true
   },
   "source": [
    "ClistDict = {1:[2], 0: [0]}"
   ]
  },
  {
   "cell_type": "code",
   "execution_count": null,
   "id": "42ec39a9",
   "metadata": {
    "hidden": true
   },
   "outputs": [],
   "source": [
    "# !!!  A REFAIRE\n",
    "GroupDict = algo.GroupDict\n",
    "# GroupDict\n",
    "Econnect = indiv['Econnect']\n",
    "Ptype = indiv['Ptype']\n",
    "IndivLine = []\n",
    "DictX = {}\n",
    "indiv['BusConnectDict']\n",
    "# loop sur BusConnectDict generer via func bus_connection qui doit prendre en compte le remove des PtoE \n",
    "# list les mutiple connection au meme slot de pompe = remove ou autre solution \n",
    "for d in indiv['BusConnectDict']:\n",
    "#     GrList = []\n",
    "    p, Elist = d.values()\n",
    "    pt = 'Pa'   # !!! probleme retrouver pt qui est indexé differement noramleemnt Ptype[i]\n",
    "    gr = collections.defaultdict(list)\n",
    "    # on fait 1 le dict des group par {gr : c}  \n",
    "    for e in Elist:\n",
    "        for c in indiv['Econnect'][e]:\n",
    "            gr[GroupDict[c]].append(c) \n",
    "    gr = dict(gr)\n",
    "    print(d, gr, sorted(gr))\n",
    "    # etape la plus bizarre on utile le nouveau Connect pour organiser les ev dans l'ordre et par groupe pour juste lister ensuite dans calcul debit\n",
    "    for n in sorted(gr): # pas sur quie le sorted serve a quelque chose \n",
    "        g = gr[n]\n",
    "        d = collections.defaultdict(list)\n",
    "        for c in g :\n",
    "            e = Cconnect[c]\n",
    "            d[e].append(c)\n",
    "        DictX[n] = dict(d)       \n",
    "        \n",
    "    conf = dict(\n",
    "        ty = '',\n",
    "        p = p,\n",
    "        e = Elist,\n",
    "        gr = gr,\n",
    "        pt = 'Pa',\n",
    "        bus = DictX\n",
    "    )\n",
    "    IndivLine.append(conf)\n",
    "IndivLine[0]['bus']\n",
    "d = IndivLine[0]['bus']\n",
    "conf\n",
    "# print(json.dumps(d, sort_keys=True, indent=3))"
   ]
  },
  {
   "cell_type": "markdown",
   "id": "3da35b6e",
   "metadata": {
    "hidden": true
   },
   "source": [
    "### plot"
   ]
  },
  {
   "cell_type": "code",
   "execution_count": null,
   "id": "b0065686",
   "metadata": {
    "hidden": true
   },
   "outputs": [],
   "source": [
    "# Plot\n",
    "row = pd.Series(indiv)\n",
    "ElemsList = ['Clist','Elist','Plist']\n",
    "Elems = ['C','E','P']\n",
    "SelectSlot = []\n",
    "List_EtoC = row.List_EtoC\n",
    "List_PtoE = row.List_PtoE\n",
    "for n in range(3):\n",
    "    SelectSlot+= ['{}{}'.format(Elems[n],i) for i in row[ElemsList[n]]]\n",
    "SelectLine = row.Name\n",
    "if row.Option == 'Bus' :   SelectLine = row.BusName                \n",
    "fig = new_plot(algo, SelectLine, SelectSlot)\n",
    "fig.set_size_inches(5,5)"
   ]
  },
  {
   "cell_type": "markdown",
   "id": "0338c4d3",
   "metadata": {
    "heading_collapsed": true,
    "hidden": true
   },
   "source": [
    "## Non bus"
   ]
  },
  {
   "cell_type": "raw",
   "id": "252b0cbb",
   "metadata": {
    "hidden": true
   },
   "source": [
    "file = {'SheetMapName' : 'map', 'uploaded_file' : \"data.xlsx\", 'DistFactor' : 0.1}\n",
    "# file = {'SheetMapName' : 'map', 'uploaded_file' : None, 'DistFactor' : 0.1}\n",
    "# file = {'SheetMapName' : 'map bis', 'uploaded_file' : None, 'DistFactor' : 0.1}\n",
    "algo = load_data_brut(file)"
   ]
  },
  {
   "cell_type": "code",
   "execution_count": null,
   "id": "086da5c5",
   "metadata": {
    "hidden": true
   },
   "outputs": [],
   "source": [
    "algo.Group = True\n",
    "algo.GroupDict = [1,0,1,2,2]\n",
    "algo.GroupDict = [1,0,1,0,0]"
   ]
  },
  {
   "cell_type": "code",
   "execution_count": null,
   "id": "9903abe4",
   "metadata": {
    "hidden": true
   },
   "outputs": [],
   "source": [
    "algo.BusActif = False\n",
    "algo.Npc = 0\n",
    "# indiv  = Indiv_reverse('E0-C0,E0-C1,E2-C2,P0-E0,P0-E1,P0-E2',algo)\n",
    "indiv  = Indiv_reverse('E0-C0,E1-C1,E1-C3,E2-C4,E0-C2,P0-E0,P0-E1,P0-E2',algo)\n",
    "indiv['Pconnect']"
   ]
  },
  {
   "cell_type": "raw",
   "id": "d4b94291",
   "metadata": {
    "hidden": true
   },
   "source": [
    "algo.Group = True\n",
    "algo.GroupDict = [1,1,0]"
   ]
  },
  {
   "cell_type": "raw",
   "id": "df38b12d",
   "metadata": {
    "hidden": true
   },
   "source": [
    "algo.BusActif = False\n",
    "algo.Npc = 0\n",
    "\n",
    "indiv  = Indiv_reverse('E0-C0,E0-C1,E0-C2,P0-E0',algo)\n",
    "indiv  = Indiv_reverse('E0-C0,E0-C1,E0-C2,P0-E0',algo)\n",
    "indiv['dist_Connect']\n",
    "indiv['BusDist']\n",
    "indiv['Pconnect']\n",
    "indiv['Econnect']\n",
    "# Calcul_Debit(algo ,indiv, 'Deactivate')"
   ]
  },
  {
   "cell_type": "code",
   "execution_count": null,
   "id": "d34261bd",
   "metadata": {
    "hidden": true
   },
   "outputs": [],
   "source": [
    "def Indiv_Conf(algo, indiv): \n",
    "    GroupDict = algo.GroupDict\n",
    "    # GroupDict\n",
    "    Econnect = indiv['Econnect']\n",
    "    Ptype = indiv['Ptype']\n",
    "    IndivLine = []\n",
    "    for i, (p,Elist) in enumerate(indiv['Pconnect'].items()):\n",
    "        pt = Ptype[i]\n",
    "        for e in Elist:\n",
    "            gr = collections.defaultdict(list)\n",
    "            for c in indiv['Econnect'][e]:\n",
    "                gr[GroupDict[c]].append(c)       \n",
    "\n",
    "            conf = dict(\n",
    "                ty = '',\n",
    "                p = p,\n",
    "                e = e,\n",
    "                gr = gr,\n",
    "                pt = pt,\n",
    "            )\n",
    "            IndivLine.append(conf)\n",
    "    return IndivLine"
   ]
  },
  {
   "cell_type": "code",
   "execution_count": null,
   "id": "a321df6b",
   "metadata": {
    "hidden": true
   },
   "outputs": [],
   "source": [
    "GroupDict = algo.GroupDict\n",
    "# GroupDict\n",
    "Econnect = indiv['Econnect']\n",
    "Ptype = indiv['Ptype']\n",
    "IndivLine = []\n",
    "for i, (p,Elist) in enumerate(indiv['Pconnect'].items()):\n",
    "    pt = Ptype[i]\n",
    "    for e in Elist:\n",
    "        gr = collections.defaultdict(list)\n",
    "        for c in indiv['Econnect'][e]:\n",
    "            gr[GroupDict[c]].append(c)       \n",
    "        \n",
    "        conf = dict(\n",
    "            ty = '',\n",
    "            p = p,\n",
    "            e = e,\n",
    "            gr = gr,\n",
    "            pt = pt,\n",
    "        )\n",
    "        print(conf)\n",
    "        IndivLine.append(conf)\n",
    "IndivLine\n",
    "for conf in IndivLine: \n",
    "    ty, p, e, gr, pt = conf.values()\n",
    "    for g,ClistG in gr.items():\n",
    "        ClistG\n",
    "        if g == 0 : grouped = False\n",
    "        else : grouped = True\n",
    "        debitinput = dict(\n",
    "            p = p,\n",
    "            e = e,\n",
    "            ClistG = ClistG,\n",
    "            pt = pt,             \n",
    "        )    \n",
    "        debit(algo,indiv,debitinput, grouped = grouped, split = False)    "
   ]
  },
  {
   "cell_type": "code",
   "execution_count": null,
   "id": "63ae249f",
   "metadata": {
    "hidden": true
   },
   "outputs": [],
   "source": [
    "# Plot\n",
    "row = pd.Series(indiv)\n",
    "ElemsList = ['Clist','Elist','Plist']\n",
    "Elems = ['C','E','P']\n",
    "SelectSlot = []\n",
    "List_EtoC = row.List_EtoC\n",
    "List_PtoE = row.List_PtoE\n",
    "for n in range(3):\n",
    "    SelectSlot+= ['{}{}'.format(Elems[n],i) for i in row[ElemsList[n]]]\n",
    "SelectLine = row.Name\n",
    "if row.Option == 'Bus' :   SelectLine = row.BusName                \n",
    "fig = new_plot(algo, SelectLine, SelectSlot)\n",
    "fig.set_size_inches(5,5)"
   ]
  },
  {
   "cell_type": "code",
   "execution_count": null,
   "id": "bbe07dd5",
   "metadata": {
    "hidden": true
   },
   "outputs": [],
   "source": [
    "indiv['BusName'] \n",
    "indiv['BusDist']\n",
    "indiv['dist_Connect']"
   ]
  },
  {
   "cell_type": "code",
   "execution_count": null,
   "id": "c997bc60",
   "metadata": {
    "hidden": true
   },
   "outputs": [],
   "source": [
    "indiv"
   ]
  },
  {
   "cell_type": "markdown",
   "id": "46d2c537",
   "metadata": {
    "heading_collapsed": true,
    "hidden": true
   },
   "source": [
    "## test unitaire comme sur tableau excel "
   ]
  },
  {
   "cell_type": "code",
   "execution_count": null,
   "id": "f16e10a6",
   "metadata": {
    "hidden": true
   },
   "outputs": [],
   "source": [
    "debitinput ={'p': 0, 'e': 0, 'ClistG': [0], 'pt': 'Pa'}\n",
    "pompe,ev,ClistG,pt = debitinput.values()\n",
    "d_EtoC_list = np.array([algo.dist['E{}-C{}'.format(ev,c)] for c in ClistG])\n",
    "d_PtoE      = indiv['dist_Connect']['P{}-E{}'.format(pompe,ev)]\n",
    "d_EtoC_list, d_PtoE\n",
    "d_EtoC_list = [1,1,1]\n",
    "d_PtoE = 1\n",
    "p = [algo.DataCategorie['Pompe']['Values'][pt][i] for i in ['a','b','c']]\n",
    "p\n",
    "grouped = True\n",
    "split = False\n",
    "cE0 = 7.64e-04\n",
    "coef_E = 0 if split else cE0\n",
    "\n",
    "coef_C  = 0.036\n",
    "coef_C  = [algo.Nvals[i] for i in ClistG]\n",
    "coef_C  = np.array(coef_C)\n",
    "coef_d_EtoC  = 2.35e-04\n",
    "coef_d_EtoC = np.array([algo.duriteVal['E{}-C{}'.format(ev,c)] for c in ClistG])\n",
    "# coef_d_PtoE = algo.duriteVal['P{}-E{}'.format(pompe,ev)] \n",
    "coef_d_PtoE = indiv['duriteVal']['P{}-E{}'.format(pompe,ev)] \n",
    "a,b,c = [algo.DataCategorie['Pompe']['Values'][pt][i] for i in ['a','b','c']]\n",
    "A = coef_E + d_EtoC_list * coef_d_EtoC + coef_C \n",
    "coef_E ,d_EtoC_list,  coef_d_EtoC, coef_C\n",
    "a,b,c\n",
    "A"
   ]
  },
  {
   "cell_type": "code",
   "execution_count": null,
   "id": "b148fe05",
   "metadata": {
    "hidden": true
   },
   "outputs": [],
   "source": [
    "%%timeit\n",
    "Ncg=  2\n",
    "Ncm = 4\n",
    "cE0 = 7.64e-04\n",
    "coef_E =  cE0\n",
    "d_EtoC_list = np.ones(Ncg) * 1\n",
    "coef_d_EtoC = np.ones(Ncg) * 0.000235\n",
    "coef_C      = np.ones(Ncg) * 0.036\n",
    "# A = coef_E + d_EtoC_list * coef_d_EtoC + coef_C \n",
    "\n",
    "Q0 = np.arange(0.1,80)\n",
    "Qx = np.zeros(Q0.shape)\n",
    "# Qi = np.zeros((Ncm,len(Q0)))\n",
    "Qi = []\n",
    "\n",
    "G = a * Q0**2 + b*Q0 +c\n",
    "Nev = int(Ncm/Ncg)\n",
    "coef_d_PtoE = np.ones(Nev) * 0.000235\n",
    "Qlist = []\n",
    "\n",
    "for i in range(Nev):\n",
    "    G = G - coef_d_PtoE[i]*(Q0-Qx)**2\n",
    "    G[G <0] = 0\n",
    "    A = coef_E + d_EtoC_list * coef_d_EtoC + coef_C \n",
    "    Qlist.append(np.sqrt(G / A[:,np.newaxis]))\n",
    "    Qi = np.vstack(Qlist)\n",
    "    Qx = Qi.sum(0)\n",
    "#     Qi.shape\n",
    "#     Qi[i*Ncg:Ncg*(i+1),:] = np.sqrt(G / A[i*Ncg:Ncg*(i+1),np.newaxis])\n",
    "#     Qx = Qi.sum(0)\n",
    "\n",
    "idx = np.searchsorted(Q0 - Qx, -0)\n",
    "idx,Q0[idx],Qx[idx]\n",
    "\n",
    "# idx, Q0[idx],Qx[idx], Qi[:,idx], Qi.shape, G[idx]"
   ]
  },
  {
   "cell_type": "code",
   "execution_count": null,
   "id": "ae6c5a0a",
   "metadata": {
    "hidden": true
   },
   "outputs": [],
   "source": [
    "%%timeit\n",
    "Ncg=  6\n",
    "Ncm = 60\n",
    "cE0 = 7.64e-04\n",
    "coef_E =  cE0\n",
    "d_EtoC_list = np.ones(Ncg) * 1\n",
    "coef_d_EtoC = np.ones(Ncg) * 0.000235\n",
    "coef_C      = np.ones(Ncg) * 0.036\n",
    "# A = coef_E + d_EtoC_list * coef_d_EtoC + coef_C \n",
    "\n",
    "Q0 = np.arange(0.1,80)\n",
    "Qx = np.zeros(Q0.shape)\n",
    "# Qi = np.zeros((Ncm,len(Q0)))\n",
    "Qi = []\n",
    "\n",
    "G = a * Q0**2 + b*Q0 +c\n",
    "Nev = int(Ncm/Ncg)\n",
    "coef_d_PtoE = np.ones(Nev) * 0.000235\n",
    "Qlist = []\n",
    "\n",
    "for i in range(Nev):\n",
    "    G = G - coef_d_PtoE[i]*(Q0-Qx)**2\n",
    "    G[G <0] = 0\n",
    "    A = coef_E + d_EtoC_list * coef_d_EtoC + coef_C \n",
    "    Qlist.append(np.sqrt(G / A[:,np.newaxis]))\n",
    "    Qi = np.vstack(Qlist)\n",
    "    Qx = Qi.sum(0)\n",
    "#     Qi.shape\n",
    "#     Qi[i*Ncg:Ncg*(i+1),:] = np.sqrt(G / A[i*Ncg:Ncg*(i+1),np.newaxis])\n",
    "#     Qx = Qi.sum(0)\n",
    "\n",
    "idx = np.searchsorted(Q0 - Qx, -0)\n",
    "idx,Q0[idx],Qx[idx]\n",
    "\n",
    "# idx, Q0[idx],Qx[idx], Qi[:,idx], Qi.shape, G[idx]"
   ]
  },
  {
   "cell_type": "code",
   "execution_count": null,
   "id": "49e6aa1b",
   "metadata": {
    "hidden": true
   },
   "outputs": [],
   "source": [
    "f = plt.plot(Q0,Qx)\n",
    "f = plt.plot(Q0,Q0)"
   ]
  },
  {
   "cell_type": "markdown",
   "id": "1cd905b1",
   "metadata": {
    "heading_collapsed": true,
    "hidden": true
   },
   "source": [
    "## debit test unitaire indiv "
   ]
  },
  {
   "cell_type": "code",
   "execution_count": null,
   "id": "08fed379",
   "metadata": {
    "hidden": true
   },
   "outputs": [],
   "source": [
    "indiv['duriteVal']"
   ]
  },
  {
   "cell_type": "code",
   "execution_count": null,
   "id": "fb9c92b0",
   "metadata": {
    "hidden": true
   },
   "outputs": [],
   "source": [
    "indiv['']"
   ]
  },
  {
   "cell_type": "code",
   "execution_count": null,
   "id": "cb26eead",
   "metadata": {
    "hidden": true
   },
   "outputs": [],
   "source": [
    "IndivLine"
   ]
  },
  {
   "cell_type": "code",
   "execution_count": null,
   "id": "fc70b1b3",
   "metadata": {
    "hidden": true
   },
   "outputs": [],
   "source": [
    "IndivLine"
   ]
  },
  {
   "cell_type": "code",
   "execution_count": null,
   "id": "e6cae95a",
   "metadata": {
    "hidden": true
   },
   "outputs": [],
   "source": [
    "line['bus']"
   ]
  },
  {
   "cell_type": "code",
   "execution_count": null,
   "id": "7bcee897",
   "metadata": {
    "hidden": true
   },
   "outputs": [],
   "source": [
    "# %%timeit\n",
    "ClistDict = {0:[0,1,2], 1:[3]}\n",
    "ClistDict = {0:[0,1], 1 : [2]}\n",
    "ClistDict = {0:[0,1]}\n",
    "ClistDict = {1:[2], 0: [0,1]}\n",
    " \n",
    "PtoElist = ['P0-E0','P0-E2']\n",
    "line = IndivLine[0]\n",
    "ClistDict = line['bus'][1]\n",
    "ClistDict\n",
    "PtoElist = ['P{}-E{}'.format(0,e) for e in line['e']]\n",
    "EvList = [0,1]\n",
    "pompe = 0\n",
    "# coef_PtoE = [indiv['duriteVal'][line] * indiv['BusDist'][line] for line in PtoElist]\n",
    "# coef_PtoE\n",
    "coef_PtoE = [indiv['duriteVal'][line] * indiv['BusDist'][line] for line in PtoElist]\n",
    "pt = 'Pa'\n",
    "Q0 = np.arange(0.1,80,0.1)\n",
    "Qx = 0\n",
    "\n",
    "a,b,c = [algo.DataCategorie['Pompe']['Values'][pt][i] for i in ['a','b','c']]\n",
    "G = a * Q0**2 + b*Q0 +c\n",
    "\n",
    "Qlist = []\n",
    "Alist = []\n",
    "for i, (e,EClist) in enumerate( ClistDict.items()): # changer en list pour avoir l'ordre !!\n",
    "    print(i, e,EClist)\n",
    "    coef_C  = [algo.Nvals[i] for i in EClist]\n",
    "    coef_C  = np.array(coef_C)\n",
    "    d_EtoC = np.array([algo.dist['E{}-C{}'.format(e,c)] for c in EClist])\n",
    "    coef_d_EtoC = np.array([algo.duriteVal['E{}-C{}'.format(e,c)] for c in EClist])\n",
    "    coef_E = 7.64e-04  \n",
    "#     print(d_EtoC)\n",
    "\n",
    "    G = G - coef_PtoE[i]*(Q0-Qx)**2\n",
    "    G[G<0] = 0\n",
    "    A = coef_E + d_EtoC * coef_d_EtoC + coef_C \n",
    "    print(coef_E ,d_EtoC , coef_d_EtoC ,coef_C,  A)\n",
    "    Alist.append(A)\n",
    "    Qlist.append(np.sqrt(G / A[:,np.newaxis]))\n",
    "    Qi = np.vstack(Qlist)  # a essayer de passer en append coté numpy \n",
    "    Qx = Qi.sum(0)\n",
    "#     Qi.shape\n",
    "idx = np.searchsorted(Q0 - Qx, -1)\n",
    "# idx\n",
    "Qi = np.vstack(Qlist)[:,idx]\n",
    "Qi\n",
    "# Alist\n",
    "'Alist',Alist\n",
    "Pi = np.concatenate(Alist)* (Qi**2)\n",
    "Pi"
   ]
  },
  {
   "cell_type": "code",
   "execution_count": null,
   "id": "a9879d39",
   "metadata": {
    "hidden": true
   },
   "outputs": [],
   "source": [
    "Calcul_Debit(algo ,indiv, 'Deactivate')"
   ]
  },
  {
   "cell_type": "code",
   "execution_count": null,
   "id": "aa97eef8",
   "metadata": {
    "hidden": true
   },
   "outputs": [],
   "source": [
    "indiv['Econnect'], indiv['Pconnect']\n",
    "indiv['List_EtoC']\n",
    "indiv['List_PtoE']"
   ]
  },
  {
   "cell_type": "markdown",
   "id": "a2ce6233",
   "metadata": {
    "heading_collapsed": true,
    "hidden": true
   },
   "source": [
    "## conf indiv line  echec "
   ]
  },
  {
   "cell_type": "code",
   "execution_count": null,
   "id": "31f9a678",
   "metadata": {
    "hidden": true
   },
   "outputs": [],
   "source": [
    "{'ty': '',\n",
    " 'p': 0,\n",
    " 'e': [0, 2],\n",
    " 'gr': defaultdict(list, {1: [0, 2], 0: [1]}),\n",
    " 'pt': 'Pa',\n",
    " 'bus': {0: {0: [1]}, 1: {0: [0], 2: [2]}}}"
   ]
  },
  {
   "cell_type": "code",
   "execution_count": null,
   "id": "ce7aca83",
   "metadata": {
    "hidden": true
   },
   "outputs": [],
   "source": [
    "d = {'data' : \n",
    "     [\n",
    "         {'ty': 'bus',\n",
    "          'p': 0,\n",
    "          'e': [0, 2],\n",
    "          'gr': {1: [0, 2], 0: [1]},\n",
    "          'pt': 'Pa',\n",
    "          'bus': {0: {0: [1]}, 1: {0: [0], 2: [2]}}}]}"
   ]
  },
  {
   "cell_type": "code",
   "execution_count": null,
   "id": "1abbae43",
   "metadata": {
    "hidden": true
   },
   "outputs": [],
   "source": [
    "with open('indivconf.json', 'w') as outfile:\n",
    "    json.dump(d, outfile)"
   ]
  },
  {
   "cell_type": "code",
   "execution_count": null,
   "id": "82e471e9",
   "metadata": {
    "hidden": true
   },
   "outputs": [],
   "source": [
    "json."
   ]
  },
  {
   "cell_type": "markdown",
   "id": "b4518a2d",
   "metadata": {
    "heading_collapsed": true,
    "hidden": true
   },
   "source": [
    "## func (2ieme partie a lire) "
   ]
  },
  {
   "cell_type": "code",
   "execution_count": null,
   "id": "cddca792",
   "metadata": {
    "hidden": true
   },
   "outputs": [],
   "source": [
    "line"
   ]
  },
  {
   "cell_type": "code",
   "execution_count": null,
   "id": "64b19e8c",
   "metadata": {
    "hidden": true
   },
   "outputs": [],
   "source": [
    "bus"
   ]
  },
  {
   "cell_type": "code",
   "execution_count": null,
   "id": "b749b83c",
   "metadata": {
    "hidden": true
   },
   "outputs": [],
   "source": [
    "bus = {0 : {1: [0]}}"
   ]
  },
  {
   "cell_type": "code",
   "execution_count": null,
   "id": "28b1c316",
   "metadata": {
    "hidden": true,
    "scrolled": false
   },
   "outputs": [],
   "source": [
    "line = IndivLine[0]\n",
    "# line\n",
    "bus = line['bus']\n",
    "# loop sur les gr avec les clisdict d'avant  \n",
    "for n , ClistDict in bus.items():\n",
    "    ClistDict\n",
    "    # ClistDict = line['bus'][1]\n",
    "    PtoElist = ['P{}-E{}'.format(0,e) for e in line['e']]\n",
    "# #     EvList = [0,1]\n",
    "#     EvList = ClistDict.keys()\n",
    "    pompe = 0 # a changer \n",
    "    coef_PtoE = [indiv['duriteVal'][line] * indiv['BusDist'][line] for line in PtoElist] # tres important puisque ordre de calucl a respecter \n",
    "    coef_PtoE\n",
    "    pt = 'Pa'\n",
    "    Q0 = np.arange(0.1,80,0.1)\n",
    "    Qx = 0\n",
    "\n",
    "    a,b,c = [algo.DataCategorie['Pompe']['Values'][pt][i] for i in ['a','b','c']]\n",
    "    G = a * Q0**2 + b*Q0 +c\n",
    "\n",
    "    Qlist = []\n",
    "    Alist = []\n",
    "    for i, (e,EClist) in enumerate(ClistDict.items()): # changer en list pour avoir l'ordre !!\n",
    "        print(i, e,EClist)\n",
    "        # calcul des coef comme avant \n",
    "        coef_C = [algo.Nvals[i] for i in EClist]\n",
    "        coef_C = np.array(coef_C)\n",
    "        d_EtoC = np.array([algo.dist['E{}-C{}'.format(e,c)] for c in EClist])\n",
    "        coef_d_EtoC = np.array([algo.duriteVal['E{}-C{}'.format(e,c)] for c in EClist])\n",
    "        coef_E = 7.64e-04  \n",
    "        \n",
    "        # new si pas de capteur on a juste le coef de droite = 0 normalement \n",
    "        # le truc c'est quil faudra faire cette loop dans le cas de group ou le premier Ev dn'est pas activer \n",
    "        # donc prendre en compte pour le calcul de coef_PtoE\n",
    "        G = G - coef_PtoE[i]*(Q0-Qx)**2\n",
    "        G[G<0] = 0\n",
    "        A = coef_E + d_EtoC * coef_d_EtoC + coef_C \n",
    "        print(coef_E ,d_EtoC , coef_d_EtoC ,coef_C,  A)\n",
    "        Alist.append(A)\n",
    "        # magie on tile la mtrice sur A step correspond au tableau excel etendu sur la droite\n",
    "        Qlist.append(np.sqrt(G / A[:,np.newaxis]))\n",
    "        Qi = np.vstack(Qlist)  # a essayer de passer en append coté numpy \n",
    "        Qx = Qi.sum(0)\n",
    "    #     Qi.shape\n",
    "    # le offset de -1 pour retrouver la plus proche valeur de Q0 -Qx facile \n",
    "    idx = np.searchsorted(Q0 - Qx, -1)\n",
    "    # idx\n",
    "    Qi = np.vstack(Qlist)[:,idx]\n",
    "    Qi\n",
    "    # Alist\n",
    "    'Alist',Alist\n",
    "    Pi = np.concatenate(Alist)* (Qi**2)\n",
    "    Pi"
   ]
  },
  {
   "cell_type": "code",
   "execution_count": null,
   "id": "6cdc5a05",
   "metadata": {
    "hidden": true
   },
   "outputs": [],
   "source": [
    "Calcul_Debit(algo ,indiv, False)"
   ]
  },
  {
   "cell_type": "markdown",
   "id": "51141d3c",
   "metadata": {
    "heading_collapsed": true,
    "hidden": true
   },
   "source": [
    "## Calcul debit test refacto"
   ]
  },
  {
   "cell_type": "code",
   "execution_count": null,
   "id": "ce0a0948",
   "metadata": {
    "hidden": true
   },
   "outputs": [],
   "source": [
    " D = algo.Comb  \n",
    "Group = algo.Group\n",
    "GroupDict = algo.GroupDict \n",
    "# print(GroupDict)\n",
    "Clist = D['C']\n",
    "Econnect = indiv['Econnect']\n",
    "Pconnect = indiv['Pconnect']\n",
    "dist_Connect = indiv['dist_Connect']\n",
    "EtoP = indiv['EtoP']\n",
    "Ptype = indiv['Ptype']\n",
    "Pression = []\n",
    "Debit = []\n",
    "\n",
    "Cpression = {}\n",
    "Cdebit = {}"
   ]
  },
  {
   "cell_type": "code",
   "execution_count": null,
   "id": "8f606e16",
   "metadata": {
    "hidden": true
   },
   "outputs": [],
   "source": [
    "GroupDict"
   ]
  },
  {
   "cell_type": "code",
   "execution_count": null,
   "id": "66c71cc4",
   "metadata": {
    "hidden": true
   },
   "outputs": [],
   "source": [
    "indiv['Option']"
   ]
  },
  {
   "cell_type": "code",
   "execution_count": null,
   "id": "7c53aaf0",
   "metadata": {
    "hidden": true
   },
   "outputs": [],
   "source": [
    "GroupDict , Econnect, Pconnect\n",
    "\n",
    "d1 = collections.defaultdict(list)\n",
    "d2 = collections.defaultdict(list)\n",
    "for i, (e,EClist) in enumerate(Econnect.items()):\n",
    "    for e2 in EClist :\n",
    "        d2"
   ]
  },
  {
   "cell_type": "markdown",
   "id": "52841614",
   "metadata": {
    "heading_collapsed": true
   },
   "source": [
    "# TEST ancien"
   ]
  },
  {
   "cell_type": "markdown",
   "id": "94d8fc91",
   "metadata": {
    "heading_collapsed": true,
    "hidden": true
   },
   "source": [
    "## NETWORK X testé"
   ]
  },
  {
   "cell_type": "code",
   "execution_count": null,
   "id": "9840f537",
   "metadata": {
    "hidden": true
   },
   "outputs": [],
   "source": [
    "dfslot = pd.DataFrame(algo.DictPos).T\n",
    "dfslot.columns = ('y','x')\n",
    "dfslot"
   ]
  },
  {
   "cell_type": "code",
   "execution_count": null,
   "id": "ef518bb9",
   "metadata": {
    "hidden": true
   },
   "outputs": [],
   "source": [
    "algo.DictPos"
   ]
  },
  {
   "cell_type": "code",
   "execution_count": null,
   "id": "ba28d0a6",
   "metadata": {
    "hidden": true
   },
   "outputs": [],
   "source": [
    "dfline = algo.dfline\n",
    "dfline['s'] = dfline.ID.str.split('-').str[0]\n",
    "dfline['t'] = dfline.ID.str.split('-').str[1]"
   ]
  },
  {
   "cell_type": "code",
   "execution_count": null,
   "id": "c36470e6",
   "metadata": {
    "hidden": true
   },
   "outputs": [],
   "source": [
    "G=nx.from_pandas_edgelist(dfline, 's', 't', ['dist', 'duriteVal'])"
   ]
  },
  {
   "cell_type": "code",
   "execution_count": null,
   "id": "44b3e648",
   "metadata": {
    "hidden": true
   },
   "outputs": [],
   "source": [
    "node_attr = dfslot.to_dict('index')\n",
    "nx.set_node_attributes(G, node_attr)"
   ]
  },
  {
   "cell_type": "code",
   "execution_count": null,
   "id": "16921011",
   "metadata": {
    "hidden": true
   },
   "outputs": [],
   "source": [
    "list(G.edges.data())"
   ]
  },
  {
   "cell_type": "code",
   "execution_count": null,
   "id": "90ebb106",
   "metadata": {
    "hidden": true
   },
   "outputs": [],
   "source": [
    "nx.__version__"
   ]
  },
  {
   "cell_type": "code",
   "execution_count": null,
   "id": "856932dc",
   "metadata": {
    "hidden": true
   },
   "outputs": [],
   "source": [
    "%%timeit\n",
    "G=nx.from_pandas_edgelist(dfline, 's', 't', ['dist', 'duriteVal'])"
   ]
  },
  {
   "cell_type": "code",
   "execution_count": null,
   "id": "e97bddfc",
   "metadata": {
    "hidden": true
   },
   "outputs": [],
   "source": [
    "nx.draw(G, with_labels=True)\n",
    "plt.show()"
   ]
  },
  {
   "cell_type": "code",
   "execution_count": null,
   "id": "9be0f5c4",
   "metadata": {
    "hidden": true
   },
   "outputs": [],
   "source": [
    "nx.get_edge_attributes(G, \"dist\")"
   ]
  },
  {
   "cell_type": "code",
   "execution_count": null,
   "id": "b9007a48",
   "metadata": {
    "hidden": true
   },
   "outputs": [],
   "source": [
    "%%timeit\n",
    "dfline.loc[(dfline.s == 'P0') & (dfline.t == 'E0')]"
   ]
  },
  {
   "cell_type": "code",
   "execution_count": null,
   "id": "6f8e8873",
   "metadata": {
    "hidden": true
   },
   "outputs": [],
   "source": [
    "%%timeit\n",
    "dfline[(dfline.ID == 'P0-E0')].dist.values"
   ]
  },
  {
   "cell_type": "code",
   "execution_count": null,
   "id": "39cf9ac3",
   "metadata": {
    "hidden": true
   },
   "outputs": [],
   "source": [
    "%%timeit\n",
    "G.edges[\"P0\",'E0']['dist']"
   ]
  },
  {
   "cell_type": "code",
   "execution_count": null,
   "id": "1ff8b730",
   "metadata": {
    "hidden": true
   },
   "outputs": [],
   "source": [
    "G"
   ]
  },
  {
   "cell_type": "code",
   "execution_count": null,
   "id": "b0d26991",
   "metadata": {
    "hidden": true
   },
   "outputs": [],
   "source": [
    "H = G.subgraph(['P0','E0'])"
   ]
  },
  {
   "cell_type": "code",
   "execution_count": null,
   "id": "20ef5c22",
   "metadata": {
    "hidden": true
   },
   "outputs": [],
   "source": [
    "nx.draw(H, with_labels=True)\n",
    "plt.show()"
   ]
  },
  {
   "cell_type": "code",
   "execution_count": null,
   "id": "ac3a53ac",
   "metadata": {
    "hidden": true
   },
   "outputs": [],
   "source": [
    "G = nx.path_graph(4)  # or DiGraph, MultiGraph, MultiDiGraph, etc\n",
    "\n",
    "H = G.subgraph([0, 1, 2])\n",
    "list(G.edges) , list(H.edges)"
   ]
  },
  {
   "cell_type": "code",
   "execution_count": null,
   "id": "f272e901",
   "metadata": {
    "hidden": true
   },
   "outputs": [],
   "source": [
    "G = nx.Graph()  # or DiGraph, MultiGraph, MultiDiGraph, etc\n",
    "G.add_edge(\"a\", \"b\", weight=2)\n",
    "G.add_edge(\"b\", \"c\", weight=4)\n",
    "G.size()\n",
    "2\n",
    "G.size(weight=\"weight\")"
   ]
  },
  {
   "cell_type": "code",
   "execution_count": null,
   "id": "22ecd57e",
   "metadata": {
    "hidden": true
   },
   "outputs": [],
   "source": []
  },
  {
   "cell_type": "code",
   "execution_count": null,
   "id": "c5278a41",
   "metadata": {
    "hidden": true
   },
   "outputs": [],
   "source": [
    "%%timeit\n",
    "G.size(weight=\"weight\")"
   ]
  },
  {
   "cell_type": "code",
   "execution_count": null,
   "id": "b2962a59",
   "metadata": {
    "hidden": true
   },
   "outputs": [],
   "source": [
    "%%timeit\n",
    "sum([w['weight'] for u,v, w  in G.edges(data=True)])"
   ]
  },
  {
   "cell_type": "markdown",
   "id": "bda2c441",
   "metadata": {
    "heading_collapsed": true,
    "hidden": true
   },
   "source": [
    "## GEN test"
   ]
  },
  {
   "cell_type": "code",
   "execution_count": null,
   "id": "04d9aff6",
   "metadata": {
    "hidden": true
   },
   "outputs": [],
   "source": [
    "# columns de l'algo genetique\n",
    "col = ['Clist', 'CtoE', 'Econnect', 'Elist', 'Ecount', 'EtoP', 'Pconnect','Plist', 'Pcount']"
   ]
  },
  {
   "cell_type": "code",
   "execution_count": null,
   "id": "456cd42c",
   "metadata": {
    "hidden": true
   },
   "outputs": [],
   "source": [
    "# crossover\n",
    "dfparents = df[:2].copy()\n",
    "dfcrossover = pd.DataFrame(AG_CrossOver(dfparents, algo))\n",
    "dfresults  = pd.concat([dfparents.T,dfcrossover.T ], axis = 1)\n",
    "dfresults.columns = ['parent1','parent2','enfant1','enfant2']\n",
    "dfresults.loc[col]"
   ]
  },
  {
   "cell_type": "code",
   "execution_count": null,
   "id": "f1eaaba5",
   "metadata": {
    "hidden": true
   },
   "outputs": [],
   "source": [
    "# mutation\n",
    "row = df.iloc[0].copy()\n",
    "dfMutation = pd.Series(Mutation(row, algo))[col]\n",
    "dfresults  = pd.concat([row,dfMutation], axis = 1)\n",
    "dfresults.columns = ['parent','enfant']\n",
    "dfresults.loc[col]"
   ]
  },
  {
   "cell_type": "markdown",
   "id": "f739cab7",
   "metadata": {
    "heading_collapsed": true,
    "hidden": true
   },
   "source": [
    "## new formule vrac"
   ]
  },
  {
   "cell_type": "code",
   "execution_count": null,
   "id": "2663806b",
   "metadata": {
    "hidden": true
   },
   "outputs": [],
   "source": [
    "df.columns\n",
    "indiv = algo.indivs[0]\n",
    "Calcul_Debit(algo ,indiv, Split = algo.Split)"
   ]
  },
  {
   "cell_type": "code",
   "execution_count": null,
   "id": "91517f5e",
   "metadata": {
    "hidden": true
   },
   "outputs": [],
   "source": [
    "Calcul_Debit(algo ,indiv, 'Deactivate')"
   ]
  },
  {
   "cell_type": "code",
   "execution_count": null,
   "id": "2fb41f30",
   "metadata": {
    "hidden": true
   },
   "outputs": [],
   "source": [
    "debitinput = {'p': 0, 'e': 0, 'ClistG': [0, 1, 3], 'pt': 'Pa'}\n",
    "debit(algo,indiv,debitinput, grouped = True, split = False)"
   ]
  },
  {
   "cell_type": "code",
   "execution_count": null,
   "id": "7d5054f1",
   "metadata": {
    "hidden": true
   },
   "outputs": [],
   "source": [
    "pompe,ev,ClistG,pt = debitinput.values()\n",
    "d_EtoC_list = np.array([algo.dist['E{}-C{}'.format(ev,c)] for c in ClistG])\n",
    "d_PtoE      = indiv['dist_Connect']['P{}-E{}'.format(pompe,ev)]\n",
    "d_EtoC_list, d_PtoE\n",
    "d_EtoC_list = [1,1,1]\n",
    "d_PtoE = 1\n",
    "p = [algo.DataCategorie['Pompe']['Values'][pt][i] for i in ['a','b','c']]\n",
    "p\n",
    "grouped = True\n",
    "split = False\n",
    "cE0 = 7.64e-04\n",
    "coef_E = 0 if split else cE0\n",
    "\n",
    "coef_C  = 0.036\n",
    "coef_C  = [algo.Nvals[i] for i in ClistG]\n",
    "coef_C  = np.array(coef_C)\n",
    "coef_d_EtoC  = 2.35e-04\n",
    "coef_d_EtoC = np.array([algo.duriteVal['E{}-C{}'.format(ev,c)] for c in ClistG])\n",
    "# coef_d_PtoE = algo.duriteVal['P{}-E{}'.format(pompe,ev)] \n",
    "coef_d_PtoE = indiv['duriteVal']['P{}-E{}'.format(pompe,ev)] \n",
    "a,b,c = [algo.DataCategorie['Pompe']['Values'][pt][i] for i in ['a','b','c']]\n",
    "A = coef_E + d_EtoC_list * coef_d_EtoC + coef_C \n",
    "coef_E ,d_EtoC_list,  coef_d_EtoC, coef_C\n",
    "A"
   ]
  },
  {
   "cell_type": "code",
   "execution_count": null,
   "id": "8a21420c",
   "metadata": {
    "hidden": true
   },
   "outputs": [],
   "source": [
    "Q = 40\n",
    "A*10\n",
    "a * Q**2 + b*Q +c - coef_d_PtoE*Q**2\n",
    "a * Q**2 + b*Q +c - coef_d_PtoE\n"
   ]
  },
  {
   "cell_type": "code",
   "execution_count": null,
   "id": "7c917c54",
   "metadata": {
    "hidden": true
   },
   "outputs": [],
   "source": [
    "coef_E\n",
    "Ncg=  6\n",
    "Ncm = 12\n",
    "d_EtoC_list = np.ones(Ncm) * 1\n",
    "coef_d_EtoC = np.ones(Ncm) * 0.000235\n",
    "coef_C = np.ones(Ncm) * 0.036\n",
    "a,b,c = [algo.DataCategorie['Pompe']['Values'][pt][i] for i in ['a','b','c']]\n",
    "A = coef_E + d_EtoC_list * coef_d_EtoC + coef_C \n",
    "Q0 = np.arange(0.1,80,0.1)\n",
    "Qx = np.zeros(Q0.shape)\n",
    "Qi = np.zeros((12,len(Q0)))\n",
    "Nev = int(Ncm/6)\n",
    "for i in range(Nev):\n",
    "    Q = Q0 - Qx\n",
    "    # Q.shape, Qx.sum()    \n",
    "    # Q = Q0.copy()\n",
    "    # Q.shape\n",
    "    G = a * Q**2 + b*Q +c - coef_d_PtoE*(i+1)*Q**2\n",
    "    G[G <0] = 0\n",
    "    # print(G)\n",
    "    Qi[i*Ncg:Ncg*(i+1),:] = np.sqrt(G / A[i*Ncg:Ncg*(i+1),np.newaxis]).round(3)\n",
    "    Qx = Qi[0:Ncg*(i+1),:].sum(0)\n",
    "    # Qx\n",
    "    # pd.DataFrame(Qi)\n",
    "    # Qx.shape\n",
    "    f = plt.plot(Qx)\n",
    "    # Qi.shape\n",
    "dfr = pd.DataFrame(Qi).T\n",
    "dfr.index = Q0\n",
    "idx = np.searchsorted(Q0 - Qi.sum(0), 0)\n",
    "np.isclose(Qi.sum(0),Q0,atol= 0.1).sum()\n",
    "# np.isclose(Qi.sum(0),Q,atol= 0.1)\n",
    "idx, Q[idx],Qi[:,idx], Qi.shape, G[idx]"
   ]
  },
  {
   "cell_type": "code",
   "execution_count": null,
   "id": "6c6e3f61",
   "metadata": {
    "hidden": true
   },
   "outputs": [],
   "source": [
    "a,b,c = [algo.DataCategorie['Pompe']['Values'][pt][i] for i in ['a','b','c']]\n",
    "a,b,c"
   ]
  },
  {
   "cell_type": "code",
   "execution_count": null,
   "id": "348b0f5d",
   "metadata": {
    "hidden": true
   },
   "outputs": [],
   "source": [
    "\n",
    "Q = np.arange(0.1,80,0.1)\n",
    "G = a * Q**2 + b*Q +c - coef_d_PtoE\n",
    "Qi= np.sqrt(G / A[:,np.newaxis])\n",
    "Q[np.isclose(Qi.sum(0),Q,atol= 0.1)]\n",
    "Qi[:,np.isclose(Qi.sum(0),Q,atol= 0.1)]\n",
    "idx = np.searchsorted(Q - Qi.sum(0), 0)\n",
    "Q[idx],Qi[:,idx]\n",
    "Qi.shape\n",
    "# Q[np.isclose(Qi.sum(0),Q,atol= 0.1)]"
   ]
  },
  {
   "cell_type": "code",
   "execution_count": null,
   "id": "4e549405",
   "metadata": {
    "hidden": true
   },
   "outputs": [],
   "source": [
    "%timeit np.isclose(Qi.sum(0),Q,atol= 0.1)\n",
    "%timeit np.searchsorted(Q - Qi.sum(0), 0.1)\n"
   ]
  },
  {
   "cell_type": "code",
   "execution_count": null,
   "id": "77d88954",
   "metadata": {
    "hidden": true
   },
   "outputs": [],
   "source": [
    "Qi.sum(0) - Q"
   ]
  },
  {
   "cell_type": "code",
   "execution_count": null,
   "id": "e5fd68c3",
   "metadata": {
    "hidden": true
   },
   "outputs": [],
   "source": [
    "%%timeit\n",
    "G = a * Q**2 + b*Q +c - coef_d_PtoE\n",
    "Qi= np.sqrt(G / A[:,np.newaxis])\n"
   ]
  },
  {
   "cell_type": "code",
   "execution_count": null,
   "id": "d9a58903",
   "metadata": {
    "hidden": true
   },
   "outputs": [],
   "source": [
    "p = np.array(p)"
   ]
  },
  {
   "cell_type": "code",
   "execution_count": null,
   "id": "87dfaa81",
   "metadata": {
    "hidden": true
   },
   "outputs": [],
   "source": [
    "%%timeit\n",
    "Q = 40\n",
    "Qs = []\n",
    "for i in range(40):\n",
    "    G = a * Q**2 + b*Q +c - coef_d_PtoE\n",
    "    Qi= np.sqrt(G / A)\n",
    "    Q = np.sum(Qi)\n",
    "    Qs.append(Q)"
   ]
  },
  {
   "cell_type": "code",
   "execution_count": null,
   "id": "eb6f670d",
   "metadata": {
    "hidden": true
   },
   "outputs": [],
   "source": [
    "\n",
    "Q = 40\n",
    "Qs = []\n",
    "for i in range(40):\n",
    "    G = a * Q**2 + b*Q +c - coef_d_PtoE\n",
    "    Qi= np.sqrt(G / A)\n",
    "    Q = np.sum(Qi)\n",
    "    Qs.append(Q)\n",
    "plt.plot(Qs)\n",
    "Qs[-1]\n",
    "# Qi\n"
   ]
  },
  {
   "cell_type": "code",
   "execution_count": null,
   "id": "d349dd25",
   "metadata": {
    "hidden": true
   },
   "outputs": [],
   "source": [
    "indiv['dist_Connect']\n",
    "A"
   ]
  },
  {
   "cell_type": "code",
   "execution_count": null,
   "id": "540a1963",
   "metadata": {
    "hidden": true
   },
   "outputs": [],
   "source": [
    "pd.Series(indiv)"
   ]
  },
  {
   "cell_type": "markdown",
   "id": "40f2d090",
   "metadata": {
    "heading_collapsed": true,
    "hidden": true
   },
   "source": [
    "## test bus  T"
   ]
  },
  {
   "cell_type": "markdown",
   "id": "01cb417b",
   "metadata": {
    "heading_collapsed": true,
    "hidden": true
   },
   "source": [
    "## test bus connection T"
   ]
  },
  {
   "cell_type": "code",
   "execution_count": null,
   "id": "69b26a23",
   "metadata": {
    "hidden": true
   },
   "outputs": [],
   "source": [
    "dist_Connect = indiv['dist_Connect']\n",
    "New_dist_Connect = copy.deepcopy(dist_Connect)\n",
    "BusName = copy.deepcopy(indiv['Name'])\n",
    "Pconnect = copy.deepcopy(indiv['Pconnect'])\n",
    "\n",
    "dfx0 = algo.dfline.copy()\n",
    "dfx0['a'] = dfx0.ID.str.split('-').str[0]\n",
    "dfx0['b'] = dfx0.ID.str.split('-').str[1]\n",
    "\n",
    "NameListNew  = []\n",
    "DictMapName = {}\n",
    "BusConnectDict = []\n",
    "\n",
    "for i, (p,Elist) in enumerate(Pconnect.items()): \n",
    "    break\n",
    "# p,Elist = Pconnect.items()  \n",
    "print(i, (p,Elist))\n",
    "# Elist.pop(1)\n",
    "\n",
    "s = 'P{}'.format(p)\n",
    "ElistName = ['E{}'.format(e) for e in Elist]\n",
    "ListMask = [s] + ElistName\n",
    "ListMask\n",
    "mask0 = dfx0.a.isin(ListMask) & dfx0.b.isin(ListMask)\n",
    "dfx = dfx0[mask0].copy()\n",
    "path,dist,lines = [s] ,[], []\n",
    "# pour chaque slot de P commence avec s = Px et avance par iter sur le plus proche E & crop  dfx = dfline \n",
    "# l'astuce c'est que qu'on conserve les lines P-E mais en changeant les valeurs de dist\n",
    "\n",
    "while len(dfx)>0:\n",
    "    dfx\n",
    "    mask = dfx.ID.str.contains(s)\n",
    "    x  = dfx[mask].dist.values.argmin()    \n",
    "    cx = dfx[mask][['a','b']].iloc[x].values\n",
    "    cx\n",
    "    line = dfx[mask].iloc[x].ID\n",
    "    lines.append(line)\n",
    "    NameListNew.append(line)\n",
    "    dist.append(dfx[mask].dist.values.min())    \n",
    "#     dfx = dfx[~mask]\n",
    "    s2 = cx[cx!=s][0]\n",
    "    s2\n",
    "    mask = dfx.ID.str.contains(s2)\n",
    "    dfx = dfx[~mask]\n",
    "#     dfx\n",
    "    path.append(s2)\n",
    "    \n",
    "path\n",
    "lines\n",
    "# distCumsum = np.array(dist).cumsum()\n",
    "# PxConnect = ['{}-{}'.format(path[0],s) for s in path[1:]]\n",
    "# DictMapName.update(dict(zip(PxConnect,lines)))\n",
    "# # print(p,Elist, PxConnect)   \n",
    "# d = dict(zip(PxConnect,distCumsum))\n",
    "# #     BusConnectDict[p].append()\n",
    "# New_dist_Connect.update(d)\n",
    "# print('bus',path[0], p,Elist, PxConnect,path,lines,dist, distCumsum, New_dist_Connect)"
   ]
  },
  {
   "cell_type": "raw",
   "id": "bb61f581",
   "metadata": {
    "hidden": true
   },
   "source": [
    "import networkx as nx\n",
    "tree = nx.random_tree(n=10, seed=1)\n",
    "nx.write_network_text(tree, sources=[0])"
   ]
  },
  {
   "cell_type": "code",
   "execution_count": null,
   "id": "028c6f29",
   "metadata": {
    "hidden": true
   },
   "outputs": [],
   "source": [
    "indiv['BusName']"
   ]
  },
  {
   "cell_type": "code",
   "execution_count": null,
   "id": "2eeba29d",
   "metadata": {
    "hidden": true
   },
   "outputs": [],
   "source": [
    "# Plot\n",
    "row = pd.Series(indiv)\n",
    "ElemsList = ['Clist','Elist','Plist']\n",
    "Elems = ['C','E','P']\n",
    "SelectSlot = []\n",
    "List_EtoC = row.List_EtoC\n",
    "List_PtoE = row.List_PtoE\n",
    "for n in range(3):\n",
    "    SelectSlot+= ['{}{}'.format(Elems[n],i) for i in row[ElemsList[n]]]\n",
    "SelectLine = row.Name\n",
    "if row.Option == 'Bus' :   SelectLine = ['E0-C0', 'E1-C1', 'E2-C2', 'P0-E0', 'E1-E0', 'E2-E0']                \n",
    "fig = new_plot(algo, SelectLine, SelectSlot)\n",
    "fig.set_size_inches(5,5)"
   ]
  },
  {
   "cell_type": "code",
   "execution_count": null,
   "id": "e49af0e9",
   "metadata": {
    "hidden": true
   },
   "outputs": [],
   "source": []
  }
 ],
 "metadata": {
  "kernelspec": {
   "display_name": "Python 3 (ipykernel)",
   "language": "python",
   "name": "python3"
  },
  "language_info": {
   "codemirror_mode": {
    "name": "ipython",
    "version": 3
   },
   "file_extension": ".py",
   "mimetype": "text/x-python",
   "name": "python",
   "nbconvert_exporter": "python",
   "pygments_lexer": "ipython3",
   "version": "3.10.10"
  },
  "toc": {
   "base_numbering": 1,
   "nav_menu": {},
   "number_sections": true,
   "sideBar": true,
   "skip_h1_title": false,
   "title_cell": "Table of Contents",
   "title_sidebar": "Contents",
   "toc_cell": false,
   "toc_position": {
    "height": "calc(100% - 180px)",
    "left": "10px",
    "top": "150px",
    "width": "165px"
   },
   "toc_section_display": true,
   "toc_window_display": true
  },
  "varInspector": {
   "cols": {
    "lenName": 16,
    "lenType": 16,
    "lenVar": 40
   },
   "kernels_config": {
    "python": {
     "delete_cmd_postfix": "",
     "delete_cmd_prefix": "del ",
     "library": "var_list.py",
     "varRefreshCmd": "print(var_dic_list())"
    },
    "r": {
     "delete_cmd_postfix": ") ",
     "delete_cmd_prefix": "rm(",
     "library": "var_list.r",
     "varRefreshCmd": "cat(var_dic_list()) "
    }
   },
   "position": {
    "height": "886.844px",
    "left": "1523px",
    "right": "20px",
    "top": "28px",
    "width": "370px"
   },
   "types_to_exclude": [
    "module",
    "function",
    "builtin_function_or_method",
    "instance",
    "_Feature"
   ],
   "window_display": false
  }
 },
 "nbformat": 4,
 "nbformat_minor": 5
}
